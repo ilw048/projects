{
 "cells": [
  {
   "cell_type": "markdown",
   "metadata": {},
   "source": [
    "# Исследование объявлений о продаже квартир\n",
    "\n",
    "В нашем распоряжении данные сервиса Яндекс.Недвижимость — архив объявлений о продаже квартир в Санкт-Петербурге и соседних населённых пунктах за несколько лет. Нужно научиться определять рыночную стоимость объектов недвижимости. Наша задача — установить параметры. Это позволит построить автоматизированную систему: она отследит аномалии и мошенническую деятельность. \n",
    "\n",
    "По каждой квартире на продажу доступны два вида данных. Первые вписаны пользователем, вторые — получены автоматически на основе картографических данных. Например, расстояние до центра, аэропорта, ближайшего парка и водоёма. "
   ]
  },
  {
   "cell_type": "markdown",
   "metadata": {},
   "source": [
    "## Загрузим файл с данными и посмотрим общую информацию. "
   ]
  },
  {
   "cell_type": "code",
   "execution_count": 1,
   "metadata": {
    "tags": []
   },
   "outputs": [],
   "source": [
    "import pandas as pd\n",
    "import matplotlib.pyplot as plt\n",
    "import seaborn as sns\n",
    "#pd.set_option('display.max_rows', None) #отображаем все строки\n",
    "#pd.set_option('display.max_columns', None)"
   ]
  },
  {
   "cell_type": "code",
   "execution_count": 2,
   "metadata": {
    "tags": []
   },
   "outputs": [
    {
     "data": {
      "text/html": [
       "<div>\n",
       "<style scoped>\n",
       "    .dataframe tbody tr th:only-of-type {\n",
       "        vertical-align: middle;\n",
       "    }\n",
       "\n",
       "    .dataframe tbody tr th {\n",
       "        vertical-align: top;\n",
       "    }\n",
       "\n",
       "    .dataframe thead th {\n",
       "        text-align: right;\n",
       "    }\n",
       "</style>\n",
       "<table border=\"1\" class=\"dataframe\">\n",
       "  <thead>\n",
       "    <tr style=\"text-align: right;\">\n",
       "      <th></th>\n",
       "      <th>total_images</th>\n",
       "      <th>last_price</th>\n",
       "      <th>total_area</th>\n",
       "      <th>first_day_exposition</th>\n",
       "      <th>rooms</th>\n",
       "      <th>ceiling_height</th>\n",
       "      <th>floors_total</th>\n",
       "      <th>living_area</th>\n",
       "      <th>floor</th>\n",
       "      <th>is_apartment</th>\n",
       "      <th>...</th>\n",
       "      <th>kitchen_area</th>\n",
       "      <th>balcony</th>\n",
       "      <th>locality_name</th>\n",
       "      <th>airports_nearest</th>\n",
       "      <th>cityCenters_nearest</th>\n",
       "      <th>parks_around3000</th>\n",
       "      <th>parks_nearest</th>\n",
       "      <th>ponds_around3000</th>\n",
       "      <th>ponds_nearest</th>\n",
       "      <th>days_exposition</th>\n",
       "    </tr>\n",
       "  </thead>\n",
       "  <tbody>\n",
       "    <tr>\n",
       "      <th>0</th>\n",
       "      <td>20</td>\n",
       "      <td>13000000.0</td>\n",
       "      <td>108.0</td>\n",
       "      <td>2019-03-07T00:00:00</td>\n",
       "      <td>3</td>\n",
       "      <td>2.70</td>\n",
       "      <td>16.0</td>\n",
       "      <td>51.0</td>\n",
       "      <td>8</td>\n",
       "      <td>NaN</td>\n",
       "      <td>...</td>\n",
       "      <td>25.0</td>\n",
       "      <td>NaN</td>\n",
       "      <td>Санкт-Петербург</td>\n",
       "      <td>18863.0</td>\n",
       "      <td>16028.0</td>\n",
       "      <td>1.0</td>\n",
       "      <td>482.0</td>\n",
       "      <td>2.0</td>\n",
       "      <td>755.0</td>\n",
       "      <td>NaN</td>\n",
       "    </tr>\n",
       "    <tr>\n",
       "      <th>1</th>\n",
       "      <td>7</td>\n",
       "      <td>3350000.0</td>\n",
       "      <td>40.4</td>\n",
       "      <td>2018-12-04T00:00:00</td>\n",
       "      <td>1</td>\n",
       "      <td>NaN</td>\n",
       "      <td>11.0</td>\n",
       "      <td>18.6</td>\n",
       "      <td>1</td>\n",
       "      <td>NaN</td>\n",
       "      <td>...</td>\n",
       "      <td>11.0</td>\n",
       "      <td>2.0</td>\n",
       "      <td>посёлок Шушары</td>\n",
       "      <td>12817.0</td>\n",
       "      <td>18603.0</td>\n",
       "      <td>0.0</td>\n",
       "      <td>NaN</td>\n",
       "      <td>0.0</td>\n",
       "      <td>NaN</td>\n",
       "      <td>81.0</td>\n",
       "    </tr>\n",
       "    <tr>\n",
       "      <th>2</th>\n",
       "      <td>10</td>\n",
       "      <td>5196000.0</td>\n",
       "      <td>56.0</td>\n",
       "      <td>2015-08-20T00:00:00</td>\n",
       "      <td>2</td>\n",
       "      <td>NaN</td>\n",
       "      <td>5.0</td>\n",
       "      <td>34.3</td>\n",
       "      <td>4</td>\n",
       "      <td>NaN</td>\n",
       "      <td>...</td>\n",
       "      <td>8.3</td>\n",
       "      <td>0.0</td>\n",
       "      <td>Санкт-Петербург</td>\n",
       "      <td>21741.0</td>\n",
       "      <td>13933.0</td>\n",
       "      <td>1.0</td>\n",
       "      <td>90.0</td>\n",
       "      <td>2.0</td>\n",
       "      <td>574.0</td>\n",
       "      <td>558.0</td>\n",
       "    </tr>\n",
       "    <tr>\n",
       "      <th>3</th>\n",
       "      <td>0</td>\n",
       "      <td>64900000.0</td>\n",
       "      <td>159.0</td>\n",
       "      <td>2015-07-24T00:00:00</td>\n",
       "      <td>3</td>\n",
       "      <td>NaN</td>\n",
       "      <td>14.0</td>\n",
       "      <td>NaN</td>\n",
       "      <td>9</td>\n",
       "      <td>NaN</td>\n",
       "      <td>...</td>\n",
       "      <td>NaN</td>\n",
       "      <td>0.0</td>\n",
       "      <td>Санкт-Петербург</td>\n",
       "      <td>28098.0</td>\n",
       "      <td>6800.0</td>\n",
       "      <td>2.0</td>\n",
       "      <td>84.0</td>\n",
       "      <td>3.0</td>\n",
       "      <td>234.0</td>\n",
       "      <td>424.0</td>\n",
       "    </tr>\n",
       "    <tr>\n",
       "      <th>4</th>\n",
       "      <td>2</td>\n",
       "      <td>10000000.0</td>\n",
       "      <td>100.0</td>\n",
       "      <td>2018-06-19T00:00:00</td>\n",
       "      <td>2</td>\n",
       "      <td>3.03</td>\n",
       "      <td>14.0</td>\n",
       "      <td>32.0</td>\n",
       "      <td>13</td>\n",
       "      <td>NaN</td>\n",
       "      <td>...</td>\n",
       "      <td>41.0</td>\n",
       "      <td>NaN</td>\n",
       "      <td>Санкт-Петербург</td>\n",
       "      <td>31856.0</td>\n",
       "      <td>8098.0</td>\n",
       "      <td>2.0</td>\n",
       "      <td>112.0</td>\n",
       "      <td>1.0</td>\n",
       "      <td>48.0</td>\n",
       "      <td>121.0</td>\n",
       "    </tr>\n",
       "  </tbody>\n",
       "</table>\n",
       "<p>5 rows × 22 columns</p>\n",
       "</div>"
      ],
      "text/plain": [
       "   total_images  last_price  total_area first_day_exposition  rooms  \\\n",
       "0            20  13000000.0       108.0  2019-03-07T00:00:00      3   \n",
       "1             7   3350000.0        40.4  2018-12-04T00:00:00      1   \n",
       "2            10   5196000.0        56.0  2015-08-20T00:00:00      2   \n",
       "3             0  64900000.0       159.0  2015-07-24T00:00:00      3   \n",
       "4             2  10000000.0       100.0  2018-06-19T00:00:00      2   \n",
       "\n",
       "   ceiling_height  floors_total  living_area  floor is_apartment  ...  \\\n",
       "0            2.70          16.0         51.0      8          NaN  ...   \n",
       "1             NaN          11.0         18.6      1          NaN  ...   \n",
       "2             NaN           5.0         34.3      4          NaN  ...   \n",
       "3             NaN          14.0          NaN      9          NaN  ...   \n",
       "4            3.03          14.0         32.0     13          NaN  ...   \n",
       "\n",
       "   kitchen_area  balcony    locality_name  airports_nearest  \\\n",
       "0          25.0      NaN  Санкт-Петербург           18863.0   \n",
       "1          11.0      2.0   посёлок Шушары           12817.0   \n",
       "2           8.3      0.0  Санкт-Петербург           21741.0   \n",
       "3           NaN      0.0  Санкт-Петербург           28098.0   \n",
       "4          41.0      NaN  Санкт-Петербург           31856.0   \n",
       "\n",
       "  cityCenters_nearest  parks_around3000  parks_nearest  ponds_around3000  \\\n",
       "0             16028.0               1.0          482.0               2.0   \n",
       "1             18603.0               0.0            NaN               0.0   \n",
       "2             13933.0               1.0           90.0               2.0   \n",
       "3              6800.0               2.0           84.0               3.0   \n",
       "4              8098.0               2.0          112.0               1.0   \n",
       "\n",
       "   ponds_nearest  days_exposition  \n",
       "0          755.0              NaN  \n",
       "1            NaN             81.0  \n",
       "2          574.0            558.0  \n",
       "3          234.0            424.0  \n",
       "4           48.0            121.0  \n",
       "\n",
       "[5 rows x 22 columns]"
      ]
     },
     "execution_count": 2,
     "metadata": {},
     "output_type": "execute_result"
    }
   ],
   "source": [
    "data = pd.read_csv('datasets/real_estate_data.csv', sep='\\t', decimal='.')\n",
    "data.head() #видно, что разделителем является \\t, поэтому отредактируем запрос .read_csv"
   ]
  },
  {
   "cell_type": "code",
   "execution_count": 3,
   "metadata": {
    "tags": []
   },
   "outputs": [
    {
     "name": "stdout",
     "output_type": "stream",
     "text": [
      "<class 'pandas.core.frame.DataFrame'>\n",
      "RangeIndex: 23699 entries, 0 to 23698\n",
      "Data columns (total 22 columns):\n",
      " #   Column                Non-Null Count  Dtype  \n",
      "---  ------                --------------  -----  \n",
      " 0   total_images          23699 non-null  int64  \n",
      " 1   last_price            23699 non-null  float64\n",
      " 2   total_area            23699 non-null  float64\n",
      " 3   first_day_exposition  23699 non-null  object \n",
      " 4   rooms                 23699 non-null  int64  \n",
      " 5   ceiling_height        14504 non-null  float64\n",
      " 6   floors_total          23613 non-null  float64\n",
      " 7   living_area           21796 non-null  float64\n",
      " 8   floor                 23699 non-null  int64  \n",
      " 9   is_apartment          2775 non-null   object \n",
      " 10  studio                23699 non-null  bool   \n",
      " 11  open_plan             23699 non-null  bool   \n",
      " 12  kitchen_area          21421 non-null  float64\n",
      " 13  balcony               12180 non-null  float64\n",
      " 14  locality_name         23650 non-null  object \n",
      " 15  airports_nearest      18157 non-null  float64\n",
      " 16  cityCenters_nearest   18180 non-null  float64\n",
      " 17  parks_around3000      18181 non-null  float64\n",
      " 18  parks_nearest         8079 non-null   float64\n",
      " 19  ponds_around3000      18181 non-null  float64\n",
      " 20  ponds_nearest         9110 non-null   float64\n",
      " 21  days_exposition       20518 non-null  float64\n",
      "dtypes: bool(2), float64(14), int64(3), object(3)\n",
      "memory usage: 3.7+ MB\n"
     ]
    }
   ],
   "source": [
    "data.info()"
   ]
  },
  {
   "cell_type": "markdown",
   "metadata": {},
   "source": [
    "Заметим, что не по всем столбцам данные заполнены полностью. Есть пропуски и нулевые значения, которые при необходимости нужно будет устранить/заполнить. В некоторых случаях начилие нулевых значений, конечно, оправдано: необязательно наличие парка/пруда в пределах 3 км или, вовсе, аэропорта в населенном пункте. Сразу видно, что переменную `first_day_exposition` нужно будет перевести в формат `datetime`, а переменную `is_apartment` из строкового в `bool`."
   ]
  },
  {
   "cell_type": "markdown",
   "metadata": {},
   "source": [
    "Построим общую гистограмму для всех столбцов таблицы: <a id='hist'> </a>"
   ]
  },
  {
   "cell_type": "code",
   "execution_count": 4,
   "metadata": {
    "tags": []
   },
   "outputs": [
    {
     "data": {
      "image/png": "[encoded data removed]",
      "text/plain": [
       "<Figure size 1080x1440 with 20 Axes>"
      ]
     },
     "metadata": {
      "needs_background": "light"
     },
     "output_type": "display_data"
    }
   ],
   "source": [
    "data.hist(figsize=(15, 20));"
   ]
  },
  {
   "cell_type": "markdown",
   "metadata": {},
   "source": [
    "Из первых графиков видно, что в датафрейме около 23000 квартир стоимостью не более 100 млн. руб. *(шкала 1e8 на гистограмме last_price)*, общей площадью не более 200 м² и жил.площадью в среднем до 100 м². Также в основном приведенные квартиры имеют до 5 комнат и представлены как в многоэтажных *(до ~30 этажей)*, так и в обычных домах. Помимо основных характеристик квартир, в датафрейме указана вспомогательная информация о расположении дома и его окружении: расстояние до центра или ближайшего аэропорта, количество парков/водоёмов в пределах 3 км."
   ]
  },
  {
   "cell_type": "markdown",
   "metadata": {},
   "source": [
    "# Предобработка данных"
   ]
  },
  {
   "cell_type": "markdown",
   "metadata": {},
   "source": [
    "## Работа с пропусками"
   ]
  },
  {
   "cell_type": "markdown",
   "metadata": {},
   "source": [
    "Поищем пропуски в данных и посмотрим, что можно с ними сделать:"
   ]
  },
  {
   "cell_type": "code",
   "execution_count": 5,
   "metadata": {},
   "outputs": [
    {
     "name": "stdout",
     "output_type": "stream",
     "text": [
      "<class 'pandas.core.frame.DataFrame'>\n",
      "RangeIndex: 23699 entries, 0 to 23698\n",
      "Data columns (total 22 columns):\n",
      " #   Column                Non-Null Count  Dtype  \n",
      "---  ------                --------------  -----  \n",
      " 0   total_images          23699 non-null  int64  \n",
      " 1   last_price            23699 non-null  float64\n",
      " 2   total_area            23699 non-null  float64\n",
      " 3   first_day_exposition  23699 non-null  object \n",
      " 4   rooms                 23699 non-null  int64  \n",
      " 5   ceiling_height        14504 non-null  float64\n",
      " 6   floors_total          23613 non-null  float64\n",
      " 7   living_area           21796 non-null  float64\n",
      " 8   floor                 23699 non-null  int64  \n",
      " 9   is_apartment          2775 non-null   object \n",
      " 10  studio                23699 non-null  bool   \n",
      " 11  open_plan             23699 non-null  bool   \n",
      " 12  kitchen_area          21421 non-null  float64\n",
      " 13  balcony               12180 non-null  float64\n",
      " 14  locality_name         23650 non-null  object \n",
      " 15  airports_nearest      18157 non-null  float64\n",
      " 16  cityCenters_nearest   18180 non-null  float64\n",
      " 17  parks_around3000      18181 non-null  float64\n",
      " 18  parks_nearest         8079 non-null   float64\n",
      " 19  ponds_around3000      18181 non-null  float64\n",
      " 20  ponds_nearest         9110 non-null   float64\n",
      " 21  days_exposition       20518 non-null  float64\n",
      "dtypes: bool(2), float64(14), int64(3), object(3)\n",
      "memory usage: 3.7+ MB\n"
     ]
    }
   ],
   "source": [
    "data.info()"
   ]
  },
  {
   "cell_type": "markdown",
   "metadata": {},
   "source": [
    "**Пропуски есть почти во всех столбцах, опишем работу с ними по порядку:</br>**\n",
    "1. Высоту потолков `ceiling_height` могли просто не указать, пропусков достаточно много, и пытаться их заполнить — слишком смело. Вряд ли половина выборки сможет описать вторую половину корректно.\n",
    "2. Другая ситуация со столбцами жилой площади `living_area` и площади кухни `kitchen_area`. Здесь пропусков достаточно много, если их удалять, можно потерять ~10% выборки. При заполнении медианным или средним значением, площадь может оказаться больше total_area, оставим пропуски как есть.\n",
    "3. Касательно столбцов `airports_nearest`, `cityCenters_nearest` тоже все прозрачно — картографические данные не указали. Это достаточно второстепенные данные, да и пропусков много. Оставим как есть. Придержимся той же логики и для столбцов `parks_around3000` и `ponds_around3000`.\n",
    "4. Пропуски количества балконов `balcony` правильно будет заменить на нули, вероятно, продавец не указал кол-во балконов действительно по причине его отсутствия.\n",
    "5. В столбце `is_apartment` пропуски наверняка соотетствуют нулевым значениям. Заодно переведем тип данных в булев.\n",
    "6. Пропуски в `locality_name` можно удалить, их всего 49. На выборку это не повлияет, а наличие информации о населенном пункте немаловажно.\n",
    "7. Пропусков в `floors_total` не так много, можно оставить как есть."
   ]
  },
  {
   "cell_type": "markdown",
   "metadata": {},
   "source": [
    "Заполним пропуски в `balcony` нулями."
   ]
  },
  {
   "cell_type": "code",
   "execution_count": 6,
   "metadata": {},
   "outputs": [],
   "source": [
    "data['balcony'] = data['balcony'].fillna(0)"
   ]
  },
  {
   "cell_type": "markdown",
   "metadata": {},
   "source": [
    "Проверка"
   ]
  },
  {
   "cell_type": "code",
   "execution_count": 7,
   "metadata": {},
   "outputs": [
    {
     "name": "stdout",
     "output_type": "stream",
     "text": [
      "0\n"
     ]
    }
   ],
   "source": [
    "print(data['balcony'].isna().sum())"
   ]
  },
  {
   "cell_type": "markdown",
   "metadata": {},
   "source": [
    "**Посмотрим на столбец `is_apartment`.**"
   ]
  },
  {
   "cell_type": "code",
   "execution_count": 8,
   "metadata": {},
   "outputs": [
    {
     "data": {
      "text/plain": [
       "count      2775\n",
       "unique        2\n",
       "top       False\n",
       "freq       2725\n",
       "Name: is_apartment, dtype: object"
      ]
     },
     "execution_count": 8,
     "metadata": {},
     "output_type": "execute_result"
    }
   ],
   "source": [
    "data['is_apartment'].describe()"
   ]
  },
  {
   "cell_type": "markdown",
   "metadata": {},
   "source": [
    "Заменим пропуски на False и снова запустим ячейку выше для проверки."
   ]
  },
  {
   "cell_type": "code",
   "execution_count": 9,
   "metadata": {},
   "outputs": [],
   "source": [
    "data['is_apartment'] = data['is_apartment'].fillna(False)"
   ]
  },
  {
   "cell_type": "markdown",
   "metadata": {},
   "source": [
    "**Удаление пропусков в `locality_name`.**"
   ]
  },
  {
   "cell_type": "code",
   "execution_count": 10,
   "metadata": {},
   "outputs": [],
   "source": [
    "data = data.dropna(subset=['locality_name'])"
   ]
  },
  {
   "cell_type": "code",
   "execution_count": 11,
   "metadata": {},
   "outputs": [
    {
     "name": "stdout",
     "output_type": "stream",
     "text": [
      "<class 'pandas.core.frame.DataFrame'>\n",
      "Int64Index: 23650 entries, 0 to 23698\n",
      "Data columns (total 22 columns):\n",
      " #   Column                Non-Null Count  Dtype  \n",
      "---  ------                --------------  -----  \n",
      " 0   total_images          23650 non-null  int64  \n",
      " 1   last_price            23650 non-null  float64\n",
      " 2   total_area            23650 non-null  float64\n",
      " 3   first_day_exposition  23650 non-null  object \n",
      " 4   rooms                 23650 non-null  int64  \n",
      " 5   ceiling_height        14490 non-null  float64\n",
      " 6   floors_total          23565 non-null  float64\n",
      " 7   living_area           21752 non-null  float64\n",
      " 8   floor                 23650 non-null  int64  \n",
      " 9   is_apartment          23650 non-null  bool   \n",
      " 10  studio                23650 non-null  bool   \n",
      " 11  open_plan             23650 non-null  bool   \n",
      " 12  kitchen_area          21381 non-null  float64\n",
      " 13  balcony               23650 non-null  float64\n",
      " 14  locality_name         23650 non-null  object \n",
      " 15  airports_nearest      18116 non-null  float64\n",
      " 16  cityCenters_nearest   18139 non-null  float64\n",
      " 17  parks_around3000      18140 non-null  float64\n",
      " 18  parks_nearest         8064 non-null   float64\n",
      " 19  ponds_around3000      18140 non-null  float64\n",
      " 20  ponds_nearest         9085 non-null   float64\n",
      " 21  days_exposition       20470 non-null  float64\n",
      "dtypes: bool(3), float64(14), int64(3), object(2)\n",
      "memory usage: 3.7+ MB\n"
     ]
    }
   ],
   "source": [
    "data.info() #теперь в датафрейме 23650 строк"
   ]
  },
  {
   "cell_type": "markdown",
   "metadata": {},
   "source": [
    "## Изменение типов данных"
   ]
  },
  {
   "cell_type": "markdown",
   "metadata": {},
   "source": [
    "Поменяем тип данных в столбце `'first_day_exposition'` на **`datetime`**, нам нужно будет работать с датами. `'balcony'` и `'is_apartment'` на **`bool`**, поскольку данные там категориальные, а `'parks_around3000'`, `'ponds_around3000'` на **`int`** — они все равно принимают только целые значения. Расстояния до парков/прудов и `'days_exposition'` останутся типа **`float`**, мы там оставляли пропуски в виде `NaN`."
   ]
  },
  {
   "cell_type": "code",
   "execution_count": 12,
   "metadata": {},
   "outputs": [],
   "source": [
    "data['first_day_exposition'] = pd.to_datetime(data['first_day_exposition'], format='%Y-%m-%d')"
   ]
  },
  {
   "cell_type": "code",
   "execution_count": 13,
   "metadata": {},
   "outputs": [],
   "source": [
    "data[['balcony', 'is_apartment']] = data[['balcony', 'is_apartment']].astype('bool')"
   ]
  },
  {
   "cell_type": "code",
   "execution_count": 14,
   "metadata": {},
   "outputs": [],
   "source": [
    "data[['parks_around3000', 'ponds_around3000']] = data[['balcony', 'is_apartment']].astype('int')"
   ]
  },
  {
   "cell_type": "markdown",
   "metadata": {},
   "source": [
    "Посмотрим, как теперь выглядит датафрейм. И повторим вывод `.describe()` в ячейке выше."
   ]
  },
  {
   "cell_type": "code",
   "execution_count": 15,
   "metadata": {},
   "outputs": [
    {
     "data": {
      "text/html": [
       "<div>\n",
       "<style scoped>\n",
       "    .dataframe tbody tr th:only-of-type {\n",
       "        vertical-align: middle;\n",
       "    }\n",
       "\n",
       "    .dataframe tbody tr th {\n",
       "        vertical-align: top;\n",
       "    }\n",
       "\n",
       "    .dataframe thead th {\n",
       "        text-align: right;\n",
       "    }\n",
       "</style>\n",
       "<table border=\"1\" class=\"dataframe\">\n",
       "  <thead>\n",
       "    <tr style=\"text-align: right;\">\n",
       "      <th></th>\n",
       "      <th>total_images</th>\n",
       "      <th>last_price</th>\n",
       "      <th>total_area</th>\n",
       "      <th>first_day_exposition</th>\n",
       "      <th>rooms</th>\n",
       "      <th>ceiling_height</th>\n",
       "      <th>floors_total</th>\n",
       "      <th>living_area</th>\n",
       "      <th>floor</th>\n",
       "      <th>is_apartment</th>\n",
       "      <th>...</th>\n",
       "      <th>kitchen_area</th>\n",
       "      <th>balcony</th>\n",
       "      <th>locality_name</th>\n",
       "      <th>airports_nearest</th>\n",
       "      <th>cityCenters_nearest</th>\n",
       "      <th>parks_around3000</th>\n",
       "      <th>parks_nearest</th>\n",
       "      <th>ponds_around3000</th>\n",
       "      <th>ponds_nearest</th>\n",
       "      <th>days_exposition</th>\n",
       "    </tr>\n",
       "  </thead>\n",
       "  <tbody>\n",
       "    <tr>\n",
       "      <th>0</th>\n",
       "      <td>20</td>\n",
       "      <td>13000000.0</td>\n",
       "      <td>108.0</td>\n",
       "      <td>2019-03-07</td>\n",
       "      <td>3</td>\n",
       "      <td>2.70</td>\n",
       "      <td>16.0</td>\n",
       "      <td>51.0</td>\n",
       "      <td>8</td>\n",
       "      <td>False</td>\n",
       "      <td>...</td>\n",
       "      <td>25.0</td>\n",
       "      <td>False</td>\n",
       "      <td>Санкт-Петербург</td>\n",
       "      <td>18863.0</td>\n",
       "      <td>16028.0</td>\n",
       "      <td>0</td>\n",
       "      <td>482.0</td>\n",
       "      <td>0</td>\n",
       "      <td>755.0</td>\n",
       "      <td>NaN</td>\n",
       "    </tr>\n",
       "    <tr>\n",
       "      <th>1</th>\n",
       "      <td>7</td>\n",
       "      <td>3350000.0</td>\n",
       "      <td>40.4</td>\n",
       "      <td>2018-12-04</td>\n",
       "      <td>1</td>\n",
       "      <td>NaN</td>\n",
       "      <td>11.0</td>\n",
       "      <td>18.6</td>\n",
       "      <td>1</td>\n",
       "      <td>False</td>\n",
       "      <td>...</td>\n",
       "      <td>11.0</td>\n",
       "      <td>True</td>\n",
       "      <td>посёлок Шушары</td>\n",
       "      <td>12817.0</td>\n",
       "      <td>18603.0</td>\n",
       "      <td>1</td>\n",
       "      <td>NaN</td>\n",
       "      <td>0</td>\n",
       "      <td>NaN</td>\n",
       "      <td>81.0</td>\n",
       "    </tr>\n",
       "    <tr>\n",
       "      <th>2</th>\n",
       "      <td>10</td>\n",
       "      <td>5196000.0</td>\n",
       "      <td>56.0</td>\n",
       "      <td>2015-08-20</td>\n",
       "      <td>2</td>\n",
       "      <td>NaN</td>\n",
       "      <td>5.0</td>\n",
       "      <td>34.3</td>\n",
       "      <td>4</td>\n",
       "      <td>False</td>\n",
       "      <td>...</td>\n",
       "      <td>8.3</td>\n",
       "      <td>False</td>\n",
       "      <td>Санкт-Петербург</td>\n",
       "      <td>21741.0</td>\n",
       "      <td>13933.0</td>\n",
       "      <td>0</td>\n",
       "      <td>90.0</td>\n",
       "      <td>0</td>\n",
       "      <td>574.0</td>\n",
       "      <td>558.0</td>\n",
       "    </tr>\n",
       "    <tr>\n",
       "      <th>3</th>\n",
       "      <td>0</td>\n",
       "      <td>64900000.0</td>\n",
       "      <td>159.0</td>\n",
       "      <td>2015-07-24</td>\n",
       "      <td>3</td>\n",
       "      <td>NaN</td>\n",
       "      <td>14.0</td>\n",
       "      <td>NaN</td>\n",
       "      <td>9</td>\n",
       "      <td>False</td>\n",
       "      <td>...</td>\n",
       "      <td>NaN</td>\n",
       "      <td>False</td>\n",
       "      <td>Санкт-Петербург</td>\n",
       "      <td>28098.0</td>\n",
       "      <td>6800.0</td>\n",
       "      <td>0</td>\n",
       "      <td>84.0</td>\n",
       "      <td>0</td>\n",
       "      <td>234.0</td>\n",
       "      <td>424.0</td>\n",
       "    </tr>\n",
       "    <tr>\n",
       "      <th>4</th>\n",
       "      <td>2</td>\n",
       "      <td>10000000.0</td>\n",
       "      <td>100.0</td>\n",
       "      <td>2018-06-19</td>\n",
       "      <td>2</td>\n",
       "      <td>3.03</td>\n",
       "      <td>14.0</td>\n",
       "      <td>32.0</td>\n",
       "      <td>13</td>\n",
       "      <td>False</td>\n",
       "      <td>...</td>\n",
       "      <td>41.0</td>\n",
       "      <td>False</td>\n",
       "      <td>Санкт-Петербург</td>\n",
       "      <td>31856.0</td>\n",
       "      <td>8098.0</td>\n",
       "      <td>0</td>\n",
       "      <td>112.0</td>\n",
       "      <td>0</td>\n",
       "      <td>48.0</td>\n",
       "      <td>121.0</td>\n",
       "    </tr>\n",
       "  </tbody>\n",
       "</table>\n",
       "<p>5 rows × 22 columns</p>\n",
       "</div>"
      ],
      "text/plain": [
       "   total_images  last_price  total_area first_day_exposition  rooms  \\\n",
       "0            20  13000000.0       108.0           2019-03-07      3   \n",
       "1             7   3350000.0        40.4           2018-12-04      1   \n",
       "2            10   5196000.0        56.0           2015-08-20      2   \n",
       "3             0  64900000.0       159.0           2015-07-24      3   \n",
       "4             2  10000000.0       100.0           2018-06-19      2   \n",
       "\n",
       "   ceiling_height  floors_total  living_area  floor  is_apartment  ...  \\\n",
       "0            2.70          16.0         51.0      8         False  ...   \n",
       "1             NaN          11.0         18.6      1         False  ...   \n",
       "2             NaN           5.0         34.3      4         False  ...   \n",
       "3             NaN          14.0          NaN      9         False  ...   \n",
       "4            3.03          14.0         32.0     13         False  ...   \n",
       "\n",
       "   kitchen_area  balcony    locality_name  airports_nearest  \\\n",
       "0          25.0    False  Санкт-Петербург           18863.0   \n",
       "1          11.0     True   посёлок Шушары           12817.0   \n",
       "2           8.3    False  Санкт-Петербург           21741.0   \n",
       "3           NaN    False  Санкт-Петербург           28098.0   \n",
       "4          41.0    False  Санкт-Петербург           31856.0   \n",
       "\n",
       "  cityCenters_nearest  parks_around3000  parks_nearest  ponds_around3000  \\\n",
       "0             16028.0                 0          482.0                 0   \n",
       "1             18603.0                 1            NaN                 0   \n",
       "2             13933.0                 0           90.0                 0   \n",
       "3              6800.0                 0           84.0                 0   \n",
       "4              8098.0                 0          112.0                 0   \n",
       "\n",
       "   ponds_nearest  days_exposition  \n",
       "0          755.0              NaN  \n",
       "1            NaN             81.0  \n",
       "2          574.0            558.0  \n",
       "3          234.0            424.0  \n",
       "4           48.0            121.0  \n",
       "\n",
       "[5 rows x 22 columns]"
      ]
     },
     "execution_count": 15,
     "metadata": {},
     "output_type": "execute_result"
    }
   ],
   "source": [
    "data.head()"
   ]
  },
  {
   "cell_type": "markdown",
   "metadata": {},
   "source": [
    "## Обработка неявных дубликатов"
   ]
  },
  {
   "cell_type": "markdown",
   "metadata": {},
   "source": [
    "Необходимо заменить похожие значения в столбце с названиями `locality_name`. Посмотрим, какие населенные пункты там вообще имеются."
   ]
  },
  {
   "cell_type": "code",
   "execution_count": 16,
   "metadata": {},
   "outputs": [
    {
     "data": {
      "text/plain": [
       "locality_name\n",
       "Бокситогорск     16\n",
       "Волосово         36\n",
       "Волхов          111\n",
       "Всеволожск      398\n",
       "Выборг          237\n",
       "Name: locality_name, dtype: int64"
      ]
     },
     "execution_count": 16,
     "metadata": {},
     "output_type": "execute_result"
    }
   ],
   "source": [
    "data.groupby('locality_name')['locality_name'].count().head()"
   ]
  },
  {
   "cell_type": "code",
   "execution_count": 17,
   "metadata": {},
   "outputs": [],
   "source": [
    "names_recover = data['locality_name'].copy() #создадим бэкап, чтобы не перезаписывать data каждый раз"
   ]
  },
  {
   "cell_type": "code",
   "execution_count": 18,
   "metadata": {},
   "outputs": [],
   "source": [
    "data['locality_name'] = names_recover.copy()"
   ]
  },
  {
   "cell_type": "code",
   "execution_count": 19,
   "metadata": {},
   "outputs": [],
   "source": [
    "data['locality_name'] = data['locality_name'].str.replace('ё', 'е') #использование ё может неявно дублировать строки\n",
    "dupls = ['городской поселок ','садоводческое некоммерческое товарищество ', 'садовое товарищество ', \n",
    "         'коттеджный поселок ', 'поселок городского типа ', 'поселок городского типа ', 'поселок станции ', \n",
    "         'поселок станции ', 'поселок при железнодорожной станции ', 'поселок ']\n",
    "for item in dupls:\n",
    "    data['locality_name'] = data['locality_name'].str.replace(item, 'поселок ') #обозначим все приведенные пункты поселками\n"
   ]
  },
  {
   "cell_type": "markdown",
   "metadata": {},
   "source": [
    "Посмотрим, что получилось после замены. Вызвав метод `.group_by()` заодно отсортируем строки в алфавитном порядке."
   ]
  },
  {
   "cell_type": "code",
   "execution_count": 20,
   "metadata": {},
   "outputs": [
    {
     "data": {
      "text/plain": [
       "locality_name\n",
       "Бокситогорск     16\n",
       "Волосово         36\n",
       "Волхов          111\n",
       "Всеволожск      398\n",
       "Выборг          237\n",
       "Name: locality_name, dtype: int64"
      ]
     },
     "execution_count": 20,
     "metadata": {},
     "output_type": "execute_result"
    }
   ],
   "source": [
    "data.groupby('locality_name')['locality_name'].count().head()"
   ]
  },
  {
   "cell_type": "markdown",
   "metadata": {},
   "source": [
    "Остались только *города*, *деревни*, *поселки* и *села*. Примечательно, что названия городов могут входить в названия поселков/деревень/сел. Например, Мурино и поселок Мурино, хотя его уже давно можно считать пригородом. Чтобы устранить такие дубликаты, выделим уникальные названия городов, а затем будем искать совпадения в `locality_name`."
   ]
  },
  {
   "cell_type": "code",
   "execution_count": 21,
   "metadata": {},
   "outputs": [],
   "source": [
    "def uniq_names(row):\n",
    "    if ('поселок ' not in str(row['locality_name'])) & \\\n",
    "       ('деревня ' not in str(row['locality_name'])) & \\\n",
    "       ('село'     not in str(row['locality_name'])):\n",
    "        return str(row['locality_name'])\n",
    "    return None"
   ]
  },
  {
   "cell_type": "code",
   "execution_count": 22,
   "metadata": {},
   "outputs": [],
   "source": [
    "uniq_names = data.apply(uniq_names, axis=1).unique()"
   ]
  },
  {
   "cell_type": "code",
   "execution_count": 23,
   "metadata": {},
   "outputs": [
    {
     "data": {
      "text/plain": [
       "array(['Санкт-Петербург', None, 'Ломоносов', 'Сертолово', 'Петергоф',\n",
       "       'Пушкин', 'Коммунар', 'Колпино', 'Гатчина', 'Выборг', 'Кронштадт',\n",
       "       'Кировск', 'Павловск', 'Всеволожск', 'Волхов', 'Кингисепп',\n",
       "       'Приозерск', 'Сестрорецк', 'Красное Село', 'Сясьстрой', 'Сланцы',\n",
       "       'Ивангород', 'Мурино', 'Шлиссельбург', 'Никольское', 'Зеленогорск',\n",
       "       'Сосновый Бор', 'Кудрово', 'Кириши', 'Луга', 'Волосово',\n",
       "       'Отрадное', 'Тихвин', 'Тосно', 'Бокситогорск', 'Пикалево',\n",
       "       'Подпорожье', 'Приморск', 'Новая Ладога', 'Лодейное Поле',\n",
       "       'Светогорск', 'Любань', 'Каменногорск', 'Высоцк'], dtype=object)"
      ]
     },
     "execution_count": 23,
     "metadata": {},
     "output_type": "execute_result"
    }
   ],
   "source": [
    "uniq_names #посмотрим на полученные уникальные названия"
   ]
  },
  {
   "cell_type": "code",
   "execution_count": 24,
   "metadata": {},
   "outputs": [],
   "source": [
    "def edit_names(row):\n",
    "    for item in uniq_names:\n",
    "        if str(item) in str(row): #ищем совпадения \n",
    "            return str(item) #и заменяем на значение из списка уникальных\n",
    "    return str(row) #если нет, оставляем как есть"
   ]
  },
  {
   "cell_type": "code",
   "execution_count": 25,
   "metadata": {},
   "outputs": [],
   "source": [
    "data['locality_name'] = data['locality_name'].apply(edit_names)"
   ]
  },
  {
   "cell_type": "code",
   "execution_count": 26,
   "metadata": {},
   "outputs": [
    {
     "data": {
      "text/plain": [
       "Санкт-Петербург            15721\n",
       "Мурино                       590\n",
       "Кудрово                      472\n",
       "поселок Шушары               440\n",
       "Всеволожск                   398\n",
       "Пушкин                       369\n",
       "Колпино                      338\n",
       "поселок Парголово            327\n",
       "Гатчина                      307\n",
       "Выборг                       237\n",
       "Петергоф                     201\n",
       "Сестрорецк                   183\n",
       "Красное Село                 178\n",
       "деревня Новое Девяткино      144\n",
       "Сертолово                    142\n",
       "Ломоносов                    133\n",
       "Кириши                       125\n",
       "поселок Бугры                114\n",
       "Сланцы                       112\n",
       "Волхов                       111\n",
       "Name: locality_name, dtype: int64"
      ]
     },
     "execution_count": 26,
     "metadata": {},
     "output_type": "execute_result"
    }
   ],
   "source": [
    "data['locality_name'].value_counts(dropna=False).head(20) #Теперь Мурино не поселок"
   ]
  },
  {
   "cell_type": "code",
   "execution_count": 27,
   "metadata": {},
   "outputs": [
    {
     "data": {
      "text/plain": [
       "(23650,)"
      ]
     },
     "execution_count": 27,
     "metadata": {},
     "output_type": "execute_result"
    }
   ],
   "source": [
    "data['locality_name'].shape #кол-во строк осталось прежним"
   ]
  },
  {
   "cell_type": "markdown",
   "metadata": {},
   "source": [
    "## Устранение выбросов"
   ]
  },
  {
   "cell_type": "markdown",
   "metadata": {},
   "source": [
    "Для поиска выбросов вновь обратимся к [гистограммам](#hist) и вызовем метод `.describe()`."
   ]
  },
  {
   "cell_type": "code",
   "execution_count": 28,
   "metadata": {},
   "outputs": [
    {
     "data": {
      "text/html": [
       "<div>\n",
       "<style scoped>\n",
       "    .dataframe tbody tr th:only-of-type {\n",
       "        vertical-align: middle;\n",
       "    }\n",
       "\n",
       "    .dataframe tbody tr th {\n",
       "        vertical-align: top;\n",
       "    }\n",
       "\n",
       "    .dataframe thead th {\n",
       "        text-align: right;\n",
       "    }\n",
       "</style>\n",
       "<table border=\"1\" class=\"dataframe\">\n",
       "  <thead>\n",
       "    <tr style=\"text-align: right;\">\n",
       "      <th></th>\n",
       "      <th>total_images</th>\n",
       "      <th>last_price</th>\n",
       "      <th>total_area</th>\n",
       "      <th>rooms</th>\n",
       "      <th>ceiling_height</th>\n",
       "      <th>floors_total</th>\n",
       "      <th>living_area</th>\n",
       "      <th>floor</th>\n",
       "      <th>kitchen_area</th>\n",
       "      <th>airports_nearest</th>\n",
       "      <th>cityCenters_nearest</th>\n",
       "      <th>parks_around3000</th>\n",
       "      <th>parks_nearest</th>\n",
       "      <th>ponds_around3000</th>\n",
       "      <th>ponds_nearest</th>\n",
       "      <th>days_exposition</th>\n",
       "    </tr>\n",
       "  </thead>\n",
       "  <tbody>\n",
       "    <tr>\n",
       "      <th>count</th>\n",
       "      <td>23650.000000</td>\n",
       "      <td>2.365000e+04</td>\n",
       "      <td>23650.000000</td>\n",
       "      <td>23650.000000</td>\n",
       "      <td>14490.000000</td>\n",
       "      <td>23565.000000</td>\n",
       "      <td>21752.000000</td>\n",
       "      <td>23650.000000</td>\n",
       "      <td>21381.000000</td>\n",
       "      <td>18116.000000</td>\n",
       "      <td>18139.000000</td>\n",
       "      <td>23650.000000</td>\n",
       "      <td>8064.000000</td>\n",
       "      <td>23650.000000</td>\n",
       "      <td>9085.000000</td>\n",
       "      <td>20470.000000</td>\n",
       "    </tr>\n",
       "    <tr>\n",
       "      <th>mean</th>\n",
       "      <td>9.862326</td>\n",
       "      <td>6.541127e+06</td>\n",
       "      <td>60.329069</td>\n",
       "      <td>2.070106</td>\n",
       "      <td>2.771287</td>\n",
       "      <td>10.675875</td>\n",
       "      <td>34.448356</td>\n",
       "      <td>5.893277</td>\n",
       "      <td>10.566403</td>\n",
       "      <td>28803.225878</td>\n",
       "      <td>14197.860742</td>\n",
       "      <td>0.355687</td>\n",
       "      <td>490.830729</td>\n",
       "      <td>0.002114</td>\n",
       "      <td>518.059879</td>\n",
       "      <td>180.753200</td>\n",
       "    </tr>\n",
       "    <tr>\n",
       "      <th>std</th>\n",
       "      <td>5.682278</td>\n",
       "      <td>1.089640e+07</td>\n",
       "      <td>35.661808</td>\n",
       "      <td>1.078620</td>\n",
       "      <td>1.261593</td>\n",
       "      <td>6.594823</td>\n",
       "      <td>22.037664</td>\n",
       "      <td>4.883317</td>\n",
       "      <td>5.901753</td>\n",
       "      <td>12637.314144</td>\n",
       "      <td>8606.830295</td>\n",
       "      <td>0.478731</td>\n",
       "      <td>342.554386</td>\n",
       "      <td>0.045932</td>\n",
       "      <td>277.841733</td>\n",
       "      <td>219.777916</td>\n",
       "    </tr>\n",
       "    <tr>\n",
       "      <th>min</th>\n",
       "      <td>0.000000</td>\n",
       "      <td>1.219000e+04</td>\n",
       "      <td>12.000000</td>\n",
       "      <td>0.000000</td>\n",
       "      <td>1.000000</td>\n",
       "      <td>1.000000</td>\n",
       "      <td>2.000000</td>\n",
       "      <td>1.000000</td>\n",
       "      <td>1.300000</td>\n",
       "      <td>0.000000</td>\n",
       "      <td>181.000000</td>\n",
       "      <td>0.000000</td>\n",
       "      <td>1.000000</td>\n",
       "      <td>0.000000</td>\n",
       "      <td>13.000000</td>\n",
       "      <td>1.000000</td>\n",
       "    </tr>\n",
       "    <tr>\n",
       "      <th>25%</th>\n",
       "      <td>6.000000</td>\n",
       "      <td>3.400000e+06</td>\n",
       "      <td>40.000000</td>\n",
       "      <td>1.000000</td>\n",
       "      <td>2.520000</td>\n",
       "      <td>5.000000</td>\n",
       "      <td>18.600000</td>\n",
       "      <td>2.000000</td>\n",
       "      <td>7.000000</td>\n",
       "      <td>18575.750000</td>\n",
       "      <td>9241.000000</td>\n",
       "      <td>0.000000</td>\n",
       "      <td>288.000000</td>\n",
       "      <td>0.000000</td>\n",
       "      <td>293.000000</td>\n",
       "      <td>45.000000</td>\n",
       "    </tr>\n",
       "    <tr>\n",
       "      <th>50%</th>\n",
       "      <td>9.000000</td>\n",
       "      <td>4.650000e+06</td>\n",
       "      <td>52.000000</td>\n",
       "      <td>2.000000</td>\n",
       "      <td>2.650000</td>\n",
       "      <td>9.000000</td>\n",
       "      <td>30.000000</td>\n",
       "      <td>4.000000</td>\n",
       "      <td>9.100000</td>\n",
       "      <td>26756.500000</td>\n",
       "      <td>13105.000000</td>\n",
       "      <td>0.000000</td>\n",
       "      <td>454.500000</td>\n",
       "      <td>0.000000</td>\n",
       "      <td>502.000000</td>\n",
       "      <td>95.000000</td>\n",
       "    </tr>\n",
       "    <tr>\n",
       "      <th>75%</th>\n",
       "      <td>14.000000</td>\n",
       "      <td>6.799000e+06</td>\n",
       "      <td>69.700000</td>\n",
       "      <td>3.000000</td>\n",
       "      <td>2.800000</td>\n",
       "      <td>16.000000</td>\n",
       "      <td>42.300000</td>\n",
       "      <td>8.000000</td>\n",
       "      <td>12.000000</td>\n",
       "      <td>37294.000000</td>\n",
       "      <td>16293.000000</td>\n",
       "      <td>1.000000</td>\n",
       "      <td>612.000000</td>\n",
       "      <td>0.000000</td>\n",
       "      <td>730.000000</td>\n",
       "      <td>231.000000</td>\n",
       "    </tr>\n",
       "    <tr>\n",
       "      <th>max</th>\n",
       "      <td>50.000000</td>\n",
       "      <td>7.630000e+08</td>\n",
       "      <td>900.000000</td>\n",
       "      <td>19.000000</td>\n",
       "      <td>100.000000</td>\n",
       "      <td>60.000000</td>\n",
       "      <td>409.700000</td>\n",
       "      <td>33.000000</td>\n",
       "      <td>112.000000</td>\n",
       "      <td>84869.000000</td>\n",
       "      <td>65968.000000</td>\n",
       "      <td>1.000000</td>\n",
       "      <td>3190.000000</td>\n",
       "      <td>1.000000</td>\n",
       "      <td>1344.000000</td>\n",
       "      <td>1580.000000</td>\n",
       "    </tr>\n",
       "  </tbody>\n",
       "</table>\n",
       "</div>"
      ],
      "text/plain": [
       "       total_images    last_price    total_area         rooms  ceiling_height  \\\n",
       "count  23650.000000  2.365000e+04  23650.000000  23650.000000    14490.000000   \n",
       "mean       9.862326  6.541127e+06     60.329069      2.070106        2.771287   \n",
       "std        5.682278  1.089640e+07     35.661808      1.078620        1.261593   \n",
       "min        0.000000  1.219000e+04     12.000000      0.000000        1.000000   \n",
       "25%        6.000000  3.400000e+06     40.000000      1.000000        2.520000   \n",
       "50%        9.000000  4.650000e+06     52.000000      2.000000        2.650000   \n",
       "75%       14.000000  6.799000e+06     69.700000      3.000000        2.800000   \n",
       "max       50.000000  7.630000e+08    900.000000     19.000000      100.000000   \n",
       "\n",
       "       floors_total   living_area         floor  kitchen_area  \\\n",
       "count  23565.000000  21752.000000  23650.000000  21381.000000   \n",
       "mean      10.675875     34.448356      5.893277     10.566403   \n",
       "std        6.594823     22.037664      4.883317      5.901753   \n",
       "min        1.000000      2.000000      1.000000      1.300000   \n",
       "25%        5.000000     18.600000      2.000000      7.000000   \n",
       "50%        9.000000     30.000000      4.000000      9.100000   \n",
       "75%       16.000000     42.300000      8.000000     12.000000   \n",
       "max       60.000000    409.700000     33.000000    112.000000   \n",
       "\n",
       "       airports_nearest  cityCenters_nearest  parks_around3000  parks_nearest  \\\n",
       "count      18116.000000         18139.000000      23650.000000    8064.000000   \n",
       "mean       28803.225878         14197.860742          0.355687     490.830729   \n",
       "std        12637.314144          8606.830295          0.478731     342.554386   \n",
       "min            0.000000           181.000000          0.000000       1.000000   \n",
       "25%        18575.750000          9241.000000          0.000000     288.000000   \n",
       "50%        26756.500000         13105.000000          0.000000     454.500000   \n",
       "75%        37294.000000         16293.000000          1.000000     612.000000   \n",
       "max        84869.000000         65968.000000          1.000000    3190.000000   \n",
       "\n",
       "       ponds_around3000  ponds_nearest  days_exposition  \n",
       "count      23650.000000    9085.000000     20470.000000  \n",
       "mean           0.002114     518.059879       180.753200  \n",
       "std            0.045932     277.841733       219.777916  \n",
       "min            0.000000      13.000000         1.000000  \n",
       "25%            0.000000     293.000000        45.000000  \n",
       "50%            0.000000     502.000000        95.000000  \n",
       "75%            0.000000     730.000000       231.000000  \n",
       "max            1.000000    1344.000000      1580.000000  "
      ]
     },
     "execution_count": 28,
     "metadata": {},
     "output_type": "execute_result"
    }
   ],
   "source": [
    "data.describe()"
   ]
  },
  {
   "cell_type": "markdown",
   "metadata": {},
   "source": [
    "Начнем по порядку. Достаточно выбивающиеся значения можно наблюдать в `total_area` и `living_area`, судя по графикам, таких строк единицы."
   ]
  },
  {
   "cell_type": "code",
   "execution_count": 29,
   "metadata": {},
   "outputs": [
    {
     "data": {
      "text/html": [
       "<div>\n",
       "<style scoped>\n",
       "    .dataframe tbody tr th:only-of-type {\n",
       "        vertical-align: middle;\n",
       "    }\n",
       "\n",
       "    .dataframe tbody tr th {\n",
       "        vertical-align: top;\n",
       "    }\n",
       "\n",
       "    .dataframe thead th {\n",
       "        text-align: right;\n",
       "    }\n",
       "</style>\n",
       "<table border=\"1\" class=\"dataframe\">\n",
       "  <thead>\n",
       "    <tr style=\"text-align: right;\">\n",
       "      <th></th>\n",
       "      <th>living_area</th>\n",
       "    </tr>\n",
       "    <tr>\n",
       "      <th>total_area</th>\n",
       "      <th></th>\n",
       "    </tr>\n",
       "  </thead>\n",
       "  <tbody>\n",
       "    <tr>\n",
       "      <th>483.9</th>\n",
       "      <td>312.5</td>\n",
       "    </tr>\n",
       "    <tr>\n",
       "      <th>488.0</th>\n",
       "      <td>216.0</td>\n",
       "    </tr>\n",
       "    <tr>\n",
       "      <th>491.0</th>\n",
       "      <td>274.0</td>\n",
       "    </tr>\n",
       "    <tr>\n",
       "      <th>495.0</th>\n",
       "      <td>347.5</td>\n",
       "    </tr>\n",
       "    <tr>\n",
       "      <th>507.0</th>\n",
       "      <td>301.5</td>\n",
       "    </tr>\n",
       "    <tr>\n",
       "      <th>517.0</th>\n",
       "      <td>332.0</td>\n",
       "    </tr>\n",
       "    <tr>\n",
       "      <th>590.0</th>\n",
       "      <td>409.0</td>\n",
       "    </tr>\n",
       "    <tr>\n",
       "      <th>618.0</th>\n",
       "      <td>258.0</td>\n",
       "    </tr>\n",
       "    <tr>\n",
       "      <th>631.2</th>\n",
       "      <td>322.3</td>\n",
       "    </tr>\n",
       "    <tr>\n",
       "      <th>900.0</th>\n",
       "      <td>409.7</td>\n",
       "    </tr>\n",
       "  </tbody>\n",
       "</table>\n",
       "</div>"
      ],
      "text/plain": [
       "            living_area\n",
       "total_area             \n",
       "483.9             312.5\n",
       "488.0             216.0\n",
       "491.0             274.0\n",
       "495.0             347.5\n",
       "507.0             301.5\n",
       "517.0             332.0\n",
       "590.0             409.0\n",
       "618.0             258.0\n",
       "631.2             322.3\n",
       "900.0             409.7"
      ]
     },
     "execution_count": 29,
     "metadata": {},
     "output_type": "execute_result"
    }
   ],
   "source": [
    "data.pivot_table(index='total_area', values = 'living_area', aggfunc='mean').tail(10)"
   ]
  },
  {
   "cell_type": "markdown",
   "metadata": {},
   "source": [
    "Можно поверить, что существуют большие дома с общей площадью в 500 м² и жилой площадью в 200-400 м², но также присутствуют строки, где общая площадь порядка 600 м², а жилая ровно 30 м². Выглядит неправдоподобно, построим диаграмму размаха."
   ]
  },
  {
   "cell_type": "code",
   "execution_count": 95,
   "metadata": {},
   "outputs": [
    {
     "data": {
      "image/png": "[encoded data removed]",
      "text/plain": [
       "<Figure size 576x216 with 1 Axes>"
      ]
     },
     "metadata": {},
     "output_type": "display_data"
    }
   ],
   "source": [
    "sns.set(rc={\"figure.figsize\":(8, 3)})\n",
    "sns.boxplot(x='total_area', data=data);"
   ]
  },
  {
   "cell_type": "markdown",
   "metadata": {},
   "source": [
    "Согласно диаграмме, все, что находится за пределами \"усов\", уже можно классифицировать как выброс. В данном случае квартиль Q1 = 40 м², Q3 = 69.7 м² и выбросами будут значения выше 114,25 м²."
   ]
  },
  {
   "cell_type": "code",
   "execution_count": 31,
   "metadata": {},
   "outputs": [
    {
     "data": {
      "text/plain": [
       "1250"
      ]
     },
     "execution_count": 31,
     "metadata": {},
     "output_type": "execute_result"
    }
   ],
   "source": [
    "data.query('total_area > 114')['total_area'].count()"
   ]
  },
  {
   "cell_type": "markdown",
   "metadata": {},
   "source": [
    "Получается порядка 5%, немало, в целом 100 м² значение не сильно большое для домов бизнес или элитного класса. Судя по гистограмме в начале блокнота, квартир с площадью больше 200 м² совсем мало. Попробуем повысить порог и проверим."
   ]
  },
  {
   "cell_type": "code",
   "execution_count": 32,
   "metadata": {},
   "outputs": [
    {
     "data": {
      "text/plain": [
       "227"
      ]
     },
     "execution_count": 32,
     "metadata": {},
     "output_type": "execute_result"
    }
   ],
   "source": [
    "data.query('total_area > 200')['total_area'].count()"
   ]
  },
  {
   "cell_type": "markdown",
   "metadata": {},
   "source": [
    "Другое дело. И данных много не потеряем, и большие квартиры учтем, в рамках разумного."
   ]
  },
  {
   "cell_type": "code",
   "execution_count": 33,
   "metadata": {},
   "outputs": [],
   "source": [
    "data = data[data['total_area'] < 200]"
   ]
  },
  {
   "cell_type": "code",
   "execution_count": 34,
   "metadata": {},
   "outputs": [
    {
     "data": {
      "text/html": [
       "<div>\n",
       "<style scoped>\n",
       "    .dataframe tbody tr th:only-of-type {\n",
       "        vertical-align: middle;\n",
       "    }\n",
       "\n",
       "    .dataframe tbody tr th {\n",
       "        vertical-align: top;\n",
       "    }\n",
       "\n",
       "    .dataframe thead th {\n",
       "        text-align: right;\n",
       "    }\n",
       "</style>\n",
       "<table border=\"1\" class=\"dataframe\">\n",
       "  <thead>\n",
       "    <tr style=\"text-align: right;\">\n",
       "      <th></th>\n",
       "      <th>total_images</th>\n",
       "      <th>last_price</th>\n",
       "      <th>total_area</th>\n",
       "      <th>rooms</th>\n",
       "      <th>ceiling_height</th>\n",
       "      <th>floors_total</th>\n",
       "      <th>living_area</th>\n",
       "      <th>floor</th>\n",
       "      <th>kitchen_area</th>\n",
       "      <th>airports_nearest</th>\n",
       "      <th>cityCenters_nearest</th>\n",
       "      <th>parks_around3000</th>\n",
       "      <th>parks_nearest</th>\n",
       "      <th>ponds_around3000</th>\n",
       "      <th>ponds_nearest</th>\n",
       "      <th>days_exposition</th>\n",
       "    </tr>\n",
       "  </thead>\n",
       "  <tbody>\n",
       "    <tr>\n",
       "      <th>count</th>\n",
       "      <td>23419.000000</td>\n",
       "      <td>2.341900e+04</td>\n",
       "      <td>23419.000000</td>\n",
       "      <td>23419.000000</td>\n",
       "      <td>14342.000000</td>\n",
       "      <td>23335.000000</td>\n",
       "      <td>21550.000000</td>\n",
       "      <td>23419.000000</td>\n",
       "      <td>21180.000000</td>\n",
       "      <td>17892.000000</td>\n",
       "      <td>17912.000000</td>\n",
       "      <td>23419.000000</td>\n",
       "      <td>7913.000000</td>\n",
       "      <td>23419.000000</td>\n",
       "      <td>8922.000000</td>\n",
       "      <td>20291.000000</td>\n",
       "    </tr>\n",
       "    <tr>\n",
       "      <th>mean</th>\n",
       "      <td>9.837183</td>\n",
       "      <td>6.021068e+06</td>\n",
       "      <td>58.131265</td>\n",
       "      <td>2.033691</td>\n",
       "      <td>2.764546</td>\n",
       "      <td>10.717806</td>\n",
       "      <td>33.231009</td>\n",
       "      <td>5.903454</td>\n",
       "      <td>10.380954</td>\n",
       "      <td>28831.710038</td>\n",
       "      <td>14287.268144</td>\n",
       "      <td>0.356762</td>\n",
       "      <td>492.038797</td>\n",
       "      <td>0.002050</td>\n",
       "      <td>520.055817</td>\n",
       "      <td>179.554532</td>\n",
       "    </tr>\n",
       "    <tr>\n",
       "      <th>std</th>\n",
       "      <td>5.667119</td>\n",
       "      <td>6.229997e+06</td>\n",
       "      <td>26.455600</td>\n",
       "      <td>0.995429</td>\n",
       "      <td>1.265166</td>\n",
       "      <td>6.603342</td>\n",
       "      <td>17.343601</td>\n",
       "      <td>4.892772</td>\n",
       "      <td>5.363177</td>\n",
       "      <td>12684.166648</td>\n",
       "      <td>8591.307136</td>\n",
       "      <td>0.479054</td>\n",
       "      <td>343.302589</td>\n",
       "      <td>0.045227</td>\n",
       "      <td>277.701788</td>\n",
       "      <td>218.369956</td>\n",
       "    </tr>\n",
       "    <tr>\n",
       "      <th>min</th>\n",
       "      <td>0.000000</td>\n",
       "      <td>1.219000e+04</td>\n",
       "      <td>12.000000</td>\n",
       "      <td>0.000000</td>\n",
       "      <td>1.000000</td>\n",
       "      <td>1.000000</td>\n",
       "      <td>2.000000</td>\n",
       "      <td>1.000000</td>\n",
       "      <td>1.300000</td>\n",
       "      <td>0.000000</td>\n",
       "      <td>181.000000</td>\n",
       "      <td>0.000000</td>\n",
       "      <td>1.000000</td>\n",
       "      <td>0.000000</td>\n",
       "      <td>13.000000</td>\n",
       "      <td>1.000000</td>\n",
       "    </tr>\n",
       "    <tr>\n",
       "      <th>25%</th>\n",
       "      <td>6.000000</td>\n",
       "      <td>3.400000e+06</td>\n",
       "      <td>40.000000</td>\n",
       "      <td>1.000000</td>\n",
       "      <td>2.510000</td>\n",
       "      <td>5.000000</td>\n",
       "      <td>18.600000</td>\n",
       "      <td>2.000000</td>\n",
       "      <td>7.000000</td>\n",
       "      <td>18503.000000</td>\n",
       "      <td>9436.000000</td>\n",
       "      <td>0.000000</td>\n",
       "      <td>288.000000</td>\n",
       "      <td>0.000000</td>\n",
       "      <td>297.000000</td>\n",
       "      <td>45.000000</td>\n",
       "    </tr>\n",
       "    <tr>\n",
       "      <th>50%</th>\n",
       "      <td>9.000000</td>\n",
       "      <td>4.600000e+06</td>\n",
       "      <td>51.800000</td>\n",
       "      <td>2.000000</td>\n",
       "      <td>2.650000</td>\n",
       "      <td>9.000000</td>\n",
       "      <td>30.000000</td>\n",
       "      <td>4.000000</td>\n",
       "      <td>9.000000</td>\n",
       "      <td>26822.000000</td>\n",
       "      <td>13161.000000</td>\n",
       "      <td>0.000000</td>\n",
       "      <td>456.000000</td>\n",
       "      <td>0.000000</td>\n",
       "      <td>503.000000</td>\n",
       "      <td>95.000000</td>\n",
       "    </tr>\n",
       "    <tr>\n",
       "      <th>75%</th>\n",
       "      <td>14.000000</td>\n",
       "      <td>6.700000e+06</td>\n",
       "      <td>68.800000</td>\n",
       "      <td>3.000000</td>\n",
       "      <td>2.800000</td>\n",
       "      <td>16.000000</td>\n",
       "      <td>42.000000</td>\n",
       "      <td>8.000000</td>\n",
       "      <td>12.000000</td>\n",
       "      <td>37365.000000</td>\n",
       "      <td>16327.500000</td>\n",
       "      <td>1.000000</td>\n",
       "      <td>613.000000</td>\n",
       "      <td>0.000000</td>\n",
       "      <td>732.000000</td>\n",
       "      <td>229.000000</td>\n",
       "    </tr>\n",
       "    <tr>\n",
       "      <th>max</th>\n",
       "      <td>50.000000</td>\n",
       "      <td>3.300000e+08</td>\n",
       "      <td>199.200000</td>\n",
       "      <td>11.000000</td>\n",
       "      <td>100.000000</td>\n",
       "      <td>60.000000</td>\n",
       "      <td>164.700000</td>\n",
       "      <td>33.000000</td>\n",
       "      <td>93.200000</td>\n",
       "      <td>84869.000000</td>\n",
       "      <td>65968.000000</td>\n",
       "      <td>1.000000</td>\n",
       "      <td>3190.000000</td>\n",
       "      <td>1.000000</td>\n",
       "      <td>1344.000000</td>\n",
       "      <td>1580.000000</td>\n",
       "    </tr>\n",
       "  </tbody>\n",
       "</table>\n",
       "</div>"
      ],
      "text/plain": [
       "       total_images    last_price    total_area         rooms  ceiling_height  \\\n",
       "count  23419.000000  2.341900e+04  23419.000000  23419.000000    14342.000000   \n",
       "mean       9.837183  6.021068e+06     58.131265      2.033691        2.764546   \n",
       "std        5.667119  6.229997e+06     26.455600      0.995429        1.265166   \n",
       "min        0.000000  1.219000e+04     12.000000      0.000000        1.000000   \n",
       "25%        6.000000  3.400000e+06     40.000000      1.000000        2.510000   \n",
       "50%        9.000000  4.600000e+06     51.800000      2.000000        2.650000   \n",
       "75%       14.000000  6.700000e+06     68.800000      3.000000        2.800000   \n",
       "max       50.000000  3.300000e+08    199.200000     11.000000      100.000000   \n",
       "\n",
       "       floors_total   living_area         floor  kitchen_area  \\\n",
       "count  23335.000000  21550.000000  23419.000000  21180.000000   \n",
       "mean      10.717806     33.231009      5.903454     10.380954   \n",
       "std        6.603342     17.343601      4.892772      5.363177   \n",
       "min        1.000000      2.000000      1.000000      1.300000   \n",
       "25%        5.000000     18.600000      2.000000      7.000000   \n",
       "50%        9.000000     30.000000      4.000000      9.000000   \n",
       "75%       16.000000     42.000000      8.000000     12.000000   \n",
       "max       60.000000    164.700000     33.000000     93.200000   \n",
       "\n",
       "       airports_nearest  cityCenters_nearest  parks_around3000  parks_nearest  \\\n",
       "count      17892.000000         17912.000000      23419.000000    7913.000000   \n",
       "mean       28831.710038         14287.268144          0.356762     492.038797   \n",
       "std        12684.166648          8591.307136          0.479054     343.302589   \n",
       "min            0.000000           181.000000          0.000000       1.000000   \n",
       "25%        18503.000000          9436.000000          0.000000     288.000000   \n",
       "50%        26822.000000         13161.000000          0.000000     456.000000   \n",
       "75%        37365.000000         16327.500000          1.000000     613.000000   \n",
       "max        84869.000000         65968.000000          1.000000    3190.000000   \n",
       "\n",
       "       ponds_around3000  ponds_nearest  days_exposition  \n",
       "count      23419.000000    8922.000000     20291.000000  \n",
       "mean           0.002050     520.055817       179.554532  \n",
       "std            0.045227     277.701788       218.369956  \n",
       "min            0.000000      13.000000         1.000000  \n",
       "25%            0.000000     297.000000        45.000000  \n",
       "50%            0.000000     503.000000        95.000000  \n",
       "75%            0.000000     732.000000       229.000000  \n",
       "max            1.000000    1344.000000      1580.000000  "
      ]
     },
     "execution_count": 34,
     "metadata": {},
     "output_type": "execute_result"
    }
   ],
   "source": [
    "data.describe()"
   ]
  },
  {
   "cell_type": "code",
   "execution_count": 35,
   "metadata": {},
   "outputs": [
    {
     "data": {
      "text/plain": [
       "(23419, 22)"
      ]
     },
     "execution_count": 35,
     "metadata": {},
     "output_type": "execute_result"
    }
   ],
   "source": [
    "data.shape"
   ]
  },
  {
   "cell_type": "code",
   "execution_count": 36,
   "metadata": {},
   "outputs": [],
   "source": [
    "data_recover = data.copy()"
   ]
  },
  {
   "cell_type": "code",
   "execution_count": 37,
   "metadata": {},
   "outputs": [],
   "source": [
    "data = data_recover.copy()"
   ]
  },
  {
   "cell_type": "markdown",
   "metadata": {},
   "source": [
    "Из-за большого количества пропусков в `living_area` и `kitchen_area`, после среза потеряется много данных. Лучше оставить здесь данные как есть."
   ]
  },
  {
   "cell_type": "code",
   "execution_count": 38,
   "metadata": {},
   "outputs": [
    {
     "name": "stdout",
     "output_type": "stream",
     "text": [
      "25\n",
      "21525\n",
      "29\n",
      "21126\n"
     ]
    }
   ],
   "source": [
    "print(data.query('living_area < 10')['living_area'].count()) #всего 25 записей\n",
    "print(data[data['living_area'] >= 10].shape[0]) #а потеряется 2200 строк\n",
    "print(data.query('kitchen_area < 4')['kitchen_area'].count()) #29 записей\n",
    "print(data[data['kitchen_area'] > 4].shape[0]) #потеряется 2100 строк"
   ]
  },
  {
   "cell_type": "code",
   "execution_count": 39,
   "metadata": {},
   "outputs": [
    {
     "name": "stdout",
     "output_type": "stream",
     "text": [
      "1869\n",
      "2239\n"
     ]
    }
   ],
   "source": [
    "print(data['living_area'].isna().sum())\n",
    "print(data['kitchen_area'].isna().sum())"
   ]
  },
  {
   "cell_type": "markdown",
   "metadata": {},
   "source": [
    "**Посмотрим на количество комнат `rooms`.**"
   ]
  },
  {
   "cell_type": "code",
   "execution_count": 40,
   "metadata": {},
   "outputs": [
    {
     "data": {
      "text/plain": [
       "rooms\n",
       "0      196\n",
       "1     8035\n",
       "2     7924\n",
       "3     5782\n",
       "4     1132\n",
       "5      264\n",
       "6       62\n",
       "7       20\n",
       "8        2\n",
       "11       2\n",
       "Name: rooms, dtype: int64"
      ]
     },
     "execution_count": 40,
     "metadata": {},
     "output_type": "execute_result"
    }
   ],
   "source": [
    "data.groupby('rooms')['rooms'].count()"
   ]
  },
  {
   "cell_type": "markdown",
   "metadata": {},
   "source": [
    "Ноль комнат имеет смысл заменить на 1, может, подразумевали студию. Семь и более уже слишком, их удалим."
   ]
  },
  {
   "cell_type": "code",
   "execution_count": 41,
   "metadata": {},
   "outputs": [
    {
     "data": {
      "text/plain": [
       "23395"
      ]
     },
     "execution_count": 41,
     "metadata": {},
     "output_type": "execute_result"
    }
   ],
   "source": [
    "data[data['rooms'] < 7].shape[0] #останется 23395 строк, можно удалять."
   ]
  },
  {
   "cell_type": "code",
   "execution_count": 42,
   "metadata": {},
   "outputs": [],
   "source": [
    "data = data[data['rooms'] < 7]\n",
    "data.loc[data['rooms'] == 0, 'rooms'] = 1"
   ]
  },
  {
   "cell_type": "markdown",
   "metadata": {},
   "source": [
    "**Теперь займемся потолками. В `ceiling_height` нашлись потолки в 100 м.**"
   ]
  },
  {
   "cell_type": "code",
   "execution_count": 43,
   "metadata": {},
   "outputs": [
    {
     "data": {
      "text/plain": [
       "ceiling_height\n",
       "1.00     1\n",
       "1.20     1\n",
       "1.75     1\n",
       "2.00    11\n",
       "2.20     1\n",
       "Name: ceiling_height, dtype: int64"
      ]
     },
     "execution_count": 43,
     "metadata": {},
     "output_type": "execute_result"
    }
   ],
   "source": [
    "data.groupby('ceiling_height')['ceiling_height'].count().head()"
   ]
  },
  {
   "cell_type": "code",
   "execution_count": 44,
   "metadata": {},
   "outputs": [
    {
     "data": {
      "text/plain": [
       "9070"
      ]
     },
     "execution_count": 44,
     "metadata": {},
     "output_type": "execute_result"
    }
   ],
   "source": [
    "data['ceiling_height'].isna().sum() #9070 пропусков"
   ]
  },
  {
   "cell_type": "code",
   "execution_count": 45,
   "metadata": {},
   "outputs": [
    {
     "data": {
      "text/plain": [
       "(23395, 22)"
      ]
     },
     "execution_count": 45,
     "metadata": {},
     "output_type": "execute_result"
    }
   ],
   "source": [
    "data.shape"
   ]
  },
  {
   "cell_type": "markdown",
   "metadata": {},
   "source": [
    "Значения от 24 до 32 м можно поделить на 10. Скорее всего, ошиблись в типовых значениях потолков. Также удалим 100 м и построим гистограмму."
   ]
  },
  {
   "cell_type": "code",
   "execution_count": 46,
   "metadata": {},
   "outputs": [],
   "source": [
    "data = data[data['ceiling_height'] != 100]"
   ]
  },
  {
   "cell_type": "code",
   "execution_count": 47,
   "metadata": {},
   "outputs": [],
   "source": [
    "rows = (data['ceiling_height'] <= 32) & (data['ceiling_height'] >= 24)\n",
    "data.loc[rows,'ceiling_height'] *= 0.1"
   ]
  },
  {
   "cell_type": "code",
   "execution_count": 48,
   "metadata": {},
   "outputs": [
    {
     "data": {
      "image/png": "[encoded data removed]",
      "text/plain": [
       "<Figure size 576x288 with 1 Axes>"
      ]
     },
     "metadata": {},
     "output_type": "display_data"
    }
   ],
   "source": [
    "data.hist('ceiling_height', bins=20, range=(2, 4.5));"
   ]
  },
  {
   "cell_type": "markdown",
   "metadata": {},
   "source": [
    "Оставим потолки от 2,4 до 4 метров."
   ]
  },
  {
   "cell_type": "code",
   "execution_count": 49,
   "metadata": {},
   "outputs": [
    {
     "data": {
      "text/plain": [
       "(14261, 22)"
      ]
     },
     "execution_count": 49,
     "metadata": {},
     "output_type": "execute_result"
    }
   ],
   "source": [
    "data[(data['ceiling_height'] <= 4) & (data['ceiling_height'] >= 2.4)].shape"
   ]
  },
  {
   "cell_type": "markdown",
   "metadata": {},
   "source": [
    "После предполагаемого среза потеряется большое количество данных, можно попробовать заполнить пропуски медианой, а уже затем удалить выбросы."
   ]
  },
  {
   "cell_type": "code",
   "execution_count": 50,
   "metadata": {},
   "outputs": [
    {
     "data": {
      "text/plain": [
       "count    14324.000000\n",
       "mean         2.723813\n",
       "std          0.373818\n",
       "min          1.000000\n",
       "25%          2.500000\n",
       "50%          2.650000\n",
       "75%          2.800000\n",
       "max         22.600000\n",
       "Name: ceiling_height, dtype: float64"
      ]
     },
     "execution_count": 50,
     "metadata": {},
     "output_type": "execute_result"
    }
   ],
   "source": [
    "data['ceiling_height'].describe()"
   ]
  },
  {
   "cell_type": "code",
   "execution_count": 51,
   "metadata": {},
   "outputs": [],
   "source": [
    "data['ceiling_height'] = data['ceiling_height'].fillna(data['ceiling_height'].median())"
   ]
  },
  {
   "cell_type": "code",
   "execution_count": 52,
   "metadata": {},
   "outputs": [
    {
     "data": {
      "text/plain": [
       "(23331, 22)"
      ]
     },
     "execution_count": 52,
     "metadata": {},
     "output_type": "execute_result"
    }
   ],
   "source": [
    "data[(data['ceiling_height'] <= 4) & (data['ceiling_height'] >= 2.4)].shape #теперь удалится немного строк"
   ]
  },
  {
   "cell_type": "code",
   "execution_count": 53,
   "metadata": {},
   "outputs": [],
   "source": [
    "data = data[(data['ceiling_height'] <= 4) & (data['ceiling_height'] >= 2.4)]"
   ]
  },
  {
   "cell_type": "markdown",
   "metadata": {},
   "source": [
    "**Посмотрим на выбросы в `last_price`.**"
   ]
  },
  {
   "cell_type": "code",
   "execution_count": 54,
   "metadata": {},
   "outputs": [
    {
     "data": {
      "image/png": "[encoded data removed]",
      "text/plain": [
       "<Figure size 576x288 with 1 Axes>"
      ]
     },
     "metadata": {},
     "output_type": "display_data"
    }
   ],
   "source": [
    "data.hist('last_price', bins=50, range=(0, 100000000));"
   ]
  },
  {
   "cell_type": "code",
   "execution_count": 96,
   "metadata": {},
   "outputs": [
    {
     "data": {
      "image/png": "[encoded data removed]",
      "text/plain": [
       "<Figure size 576x288 with 1 Axes>"
      ]
     },
     "metadata": {},
     "output_type": "display_data"
    }
   ],
   "source": [
    "sns.set(rc={\"figure.figsize\":(8, 4)})\n",
    "sns.boxplot(x='last_price', data=data);"
   ]
  },
  {
   "cell_type": "markdown",
   "metadata": {},
   "source": [
    "На графиках видно много выбросов выше ~12 млн. (согласно полуторному межквартильному размаху, 11,3 млн. — предел диаграммы), а распределение походит на нормальное. Посмотрим, сколько строк выше 12 млн. и слишком малых, ниже 1 млн."
   ]
  },
  {
   "cell_type": "code",
   "execution_count": 56,
   "metadata": {},
   "outputs": [
    {
     "data": {
      "text/plain": [
       "1672"
      ]
     },
     "execution_count": 56,
     "metadata": {},
     "output_type": "execute_result"
    }
   ],
   "source": [
    "data[data['last_price'] > 12000000]['last_price'].count()"
   ]
  },
  {
   "cell_type": "code",
   "execution_count": 57,
   "metadata": {},
   "outputs": [
    {
     "data": {
      "text/plain": [
       "224"
      ]
     },
     "execution_count": 57,
     "metadata": {},
     "output_type": "execute_result"
    }
   ],
   "source": [
    "data[data['last_price'] < 1000000]['last_price'].count()"
   ]
  },
  {
   "cell_type": "markdown",
   "metadata": {},
   "source": [
    "Скорректируем верхний предел до 20 млн. и удалим."
   ]
  },
  {
   "cell_type": "code",
   "execution_count": 58,
   "metadata": {},
   "outputs": [
    {
     "data": {
      "text/plain": [
       "(22601, 22)"
      ]
     },
     "execution_count": 58,
     "metadata": {},
     "output_type": "execute_result"
    }
   ],
   "source": [
    "data[(data['last_price'] <= 20000000) & (data['last_price'] >= 1000000)].shape"
   ]
  },
  {
   "cell_type": "code",
   "execution_count": 59,
   "metadata": {},
   "outputs": [],
   "source": [
    "data = data[(data['last_price'] <= 20000000) & (data['last_price'] >= 1000000)]"
   ]
  },
  {
   "cell_type": "markdown",
   "metadata": {},
   "source": [
    "**Посмотрим на распределение расстояния до центра `cityCenters_nearest`.**"
   ]
  },
  {
   "cell_type": "code",
   "execution_count": 60,
   "metadata": {},
   "outputs": [
    {
     "data": {
      "image/png": "[encoded data removed]",
      "text/plain": [
       "<Figure size 576x252 with 1 Axes>"
      ]
     },
     "metadata": {},
     "output_type": "display_data"
    }
   ],
   "source": [
    "data['cityCenters_nearest'].hist(bins=30);"
   ]
  },
  {
   "cell_type": "markdown",
   "metadata": {},
   "source": [
    "Оно похоже на нормальное, но в районе 30 км вновь возникает прирост. Возможно, ошиблись со значениями. Умножим диапазон 25000-35000 на 0,1."
   ]
  },
  {
   "cell_type": "code",
   "execution_count": 61,
   "metadata": {},
   "outputs": [],
   "source": [
    "rows = (data['cityCenters_nearest'] <= 35000) & (data['cityCenters_nearest'] >= 25000)\n",
    "data.loc[rows,'cityCenters_nearest'] *= 0.1"
   ]
  },
  {
   "cell_type": "code",
   "execution_count": 62,
   "metadata": {},
   "outputs": [
    {
     "data": {
      "text/plain": [
       "count    17351.000000\n",
       "mean     12192.511602\n",
       "std       7557.568761\n",
       "min        208.000000\n",
       "25%       7305.000000\n",
       "50%      12283.000000\n",
       "75%      15282.000000\n",
       "max      65968.000000\n",
       "Name: cityCenters_nearest, dtype: float64"
      ]
     },
     "execution_count": 62,
     "metadata": {},
     "output_type": "execute_result"
    }
   ],
   "source": [
    "data['cityCenters_nearest'].describe()"
   ]
  },
  {
   "cell_type": "code",
   "execution_count": 63,
   "metadata": {},
   "outputs": [
    {
     "data": {
      "text/plain": [
       "(22601, 22)"
      ]
     },
     "execution_count": 63,
     "metadata": {},
     "output_type": "execute_result"
    }
   ],
   "source": [
    "data.shape"
   ]
  },
  {
   "cell_type": "markdown",
   "metadata": {},
   "source": [
    "Аномалии и пропущенные значения устранены, можно работать с данными."
   ]
  },
  {
   "cell_type": "markdown",
   "metadata": {},
   "source": [
    "## Посчитаем и добавим в таблицу новые столбцы"
   ]
  },
  {
   "cell_type": "code",
   "execution_count": 64,
   "metadata": {},
   "outputs": [],
   "source": [
    "data['metre_price'] = data['last_price'] / data['total_area'] #цена квадратного метра\n",
    "data['day_publication'] = data['first_day_exposition'].dt.weekday #день недели\n",
    "data['month_publication'] = data['first_day_exposition'].dt.month #месяц\n",
    "data['year_publication'] = data['first_day_exposition'].dt.year #год"
   ]
  },
  {
   "cell_type": "code",
   "execution_count": 65,
   "metadata": {},
   "outputs": [],
   "source": [
    "def floor_type(row): #обозначим этажи\n",
    "    if row['floor'] == 1:\n",
    "        return 'первый'\n",
    "    elif row['floor'] == row['floors_total']:\n",
    "        return 'последний'\n",
    "    return 'другой'"
   ]
  },
  {
   "cell_type": "code",
   "execution_count": 66,
   "metadata": {},
   "outputs": [],
   "source": [
    "data['floor_type'] = data.apply(floor_type, axis=1)"
   ]
  },
  {
   "cell_type": "code",
   "execution_count": 67,
   "metadata": {},
   "outputs": [],
   "source": [
    "data['cityCenters_nearest'] = (data['cityCenters_nearest'] * 0.001).round() #перевели в км и округлили"
   ]
  },
  {
   "cell_type": "markdown",
   "metadata": {},
   "source": [
    "## Проведем исследовательский анализ данных"
   ]
  },
  {
   "cell_type": "markdown",
   "metadata": {},
   "source": [
    "### Изучение параметров объектов"
   ]
  },
  {
   "cell_type": "code",
   "execution_count": 68,
   "metadata": {},
   "outputs": [
    {
     "data": {
      "image/png": "[encoded data removed]",
      "text/plain": [
       "<Figure size 576x252 with 1 Axes>"
      ]
     },
     "metadata": {},
     "output_type": "display_data"
    }
   ],
   "source": [
    "data.hist('last_price', bins = 20);"
   ]
  },
  {
   "cell_type": "markdown",
   "metadata": {},
   "source": [
    "Цены квартир распределены нормально, среднее значение в районе 4 млн. руб."
   ]
  },
  {
   "cell_type": "code",
   "execution_count": 69,
   "metadata": {},
   "outputs": [
    {
     "data": {
      "image/png": "[encoded data removed]",
      "text/plain": [
       "<Figure size 576x252 with 1 Axes>"
      ]
     },
     "metadata": {},
     "output_type": "display_data"
    }
   ],
   "source": [
    "data.hist('total_area', bins = 20);"
   ]
  },
  {
   "cell_type": "markdown",
   "metadata": {},
   "source": [
    "Общая площадь резко возрастает после отметки в 25 км.м. Больше всего квартир имеют около 40 кв.м., а с последющим увеличением площади, количество представленных квартир стремится на спад."
   ]
  },
  {
   "cell_type": "code",
   "execution_count": 70,
   "metadata": {},
   "outputs": [
    {
     "data": {
      "image/png": "[encoded data removed]",
      "text/plain": [
       "<Figure size 576x252 with 1 Axes>"
      ]
     },
     "metadata": {},
     "output_type": "display_data"
    }
   ],
   "source": [
    "data.hist('ceiling_height', bins = 12);"
   ]
  },
  {
   "cell_type": "markdown",
   "metadata": {},
   "source": [
    "Львиную долю составляют потолки 2,6 м, поскольку этим значением были заполнены пропуски. Максимальная высота была оставлена до 4 м."
   ]
  },
  {
   "cell_type": "code",
   "execution_count": 71,
   "metadata": {},
   "outputs": [
    {
     "data": {
      "image/png": "[encoded data removed]",
      "text/plain": [
       "<Figure size 576x252 with 1 Axes>"
      ]
     },
     "metadata": {},
     "output_type": "display_data"
    }
   ],
   "source": [
    "data.hist('living_area', bins = 20);"
   ]
  },
  {
   "cell_type": "markdown",
   "metadata": {},
   "source": [
    "В целом, квартиры имеют 15-50 кв.м. жилой площади. Наибольшее количество с площадью около 30 кв.м."
   ]
  },
  {
   "cell_type": "code",
   "execution_count": 72,
   "metadata": {},
   "outputs": [
    {
     "data": {
      "image/png": "[encoded data removed]",
      "text/plain": [
       "<Figure size 576x252 with 1 Axes>"
      ]
     },
     "metadata": {},
     "output_type": "display_data"
    }
   ],
   "source": [
    "data.hist('kitchen_area', bins = 10);"
   ]
  },
  {
   "cell_type": "markdown",
   "metadata": {},
   "source": [
    "Наиболее стандартная площадь кухни — 10-15 кв.м. В два раза меньше квартир с площадью до 10 кв.м. и в 6 раз меньше с площадью больше 15 кв.м."
   ]
  },
  {
   "cell_type": "code",
   "execution_count": 73,
   "metadata": {},
   "outputs": [
    {
     "data": {
      "image/png": "[encoded data removed]",
      "text/plain": [
       "<Figure size 576x252 with 1 Axes>"
      ]
     },
     "metadata": {},
     "output_type": "display_data"
    }
   ],
   "source": [
    "data.hist('rooms', bins = 12);"
   ]
  },
  {
   "cell_type": "markdown",
   "metadata": {},
   "source": [
    "Больше всего объявлений однокомнатных квартир, порядка 8000, примерно столько же составляют двухкомнатные. Трехкомнатных квартир на треть меньше, а четырех- и более — меньше 1000."
   ]
  },
  {
   "cell_type": "code",
   "execution_count": 74,
   "metadata": {},
   "outputs": [
    {
     "data": {
      "image/png": "[encoded data removed]",
      "text/plain": [
       "<Figure size 576x252 with 1 Axes>"
      ]
     },
     "metadata": {},
     "output_type": "display_data"
    }
   ],
   "source": [
    "data.hist('floor', bins = 12);"
   ]
  },
  {
   "cell_type": "markdown",
   "metadata": {},
   "source": [
    "Наибольшее число объявлений для квартир, расположенных на 5 этаже и ниже. Квартир на более высоких этажах в 3-4 раза меньше."
   ]
  },
  {
   "cell_type": "code",
   "execution_count": 75,
   "metadata": {},
   "outputs": [
    {
     "data": {
      "image/png": "[encoded data removed]",
      "text/plain": [
       "<Figure size 576x252 with 1 Axes>"
      ]
     },
     "metadata": {},
     "output_type": "display_data"
    }
   ],
   "source": [
    "data.hist('floors_total', bins = 12);"
   ]
  },
  {
   "cell_type": "markdown",
   "metadata": {},
   "source": [
    "Этажность домов простирается вплоть до 30, но в основном в выборке представлены пяти- и девятиэтажки. Домов с этажами более 10 в два раза меньше."
   ]
  },
  {
   "cell_type": "code",
   "execution_count": 76,
   "metadata": {},
   "outputs": [
    {
     "data": {
      "image/png": "[encoded data removed]",
      "text/plain": [
       "<Figure size 576x252 with 1 Axes>"
      ]
     },
     "metadata": {},
     "output_type": "display_data"
    }
   ],
   "source": [
    "(data.pivot_table(index='floor_type', values='floor', aggfunc='count')\n",
    "    .plot(kind='bar')\n",
    ")\n",
    "plt.show();"
   ]
  },
  {
   "cell_type": "markdown",
   "metadata": {},
   "source": [
    "Квартир на крайних этажах примерно одинаковое количество и в сумме составляют порядка 20% всей выборки. Остальные более чем 16000 объектов расположены на других этажах."
   ]
  },
  {
   "cell_type": "code",
   "execution_count": 77,
   "metadata": {},
   "outputs": [
    {
     "data": {
      "image/png": "[encoded data removed]",
      "text/plain": [
       "<Figure size 576x252 with 1 Axes>"
      ]
     },
     "metadata": {},
     "output_type": "display_data"
    }
   ],
   "source": [
    "data.hist('airports_nearest', bins = 15);"
   ]
  },
  {
   "cell_type": "markdown",
   "metadata": {},
   "source": [
    "Среднее расстояние до аэропорта составляет примерно 30 км. Можно сказать, что с увеличением дистанции, количество объектов убывает по линейному закону."
   ]
  },
  {
   "cell_type": "code",
   "execution_count": 78,
   "metadata": {},
   "outputs": [
    {
     "data": {
      "image/png": "[encoded data removed]",
      "text/plain": [
       "<Figure size 576x252 with 1 Axes>"
      ]
     },
     "metadata": {},
     "output_type": "display_data"
    }
   ],
   "source": [
    "data.hist('cityCenters_nearest', bins = 15);"
   ]
  },
  {
   "cell_type": "markdown",
   "metadata": {},
   "source": [
    "Для случайной квартиры расстояние до центра города будет составлять примерно 10-15 км. Квартир ближе 10 км к центру в 2 раза меньше. А удаленных на 20 км — меньше в 5 раз."
   ]
  },
  {
   "cell_type": "code",
   "execution_count": 79,
   "metadata": {},
   "outputs": [
    {
     "data": {
      "image/png": "[encoded data removed]",
      "text/plain": [
       "<Figure size 576x252 with 1 Axes>"
      ]
     },
     "metadata": {},
     "output_type": "display_data"
    }
   ],
   "source": [
    "data.hist('parks_nearest', bins = 12);"
   ]
  },
  {
   "cell_type": "markdown",
   "metadata": {},
   "source": [
    "Парк в радиусе 3 км имеется у 8000 объектов, а среднее расстояние в районе 500-700 м и, в целом, не более километра."
   ]
  },
  {
   "cell_type": "code",
   "execution_count": 80,
   "metadata": {},
   "outputs": [
    {
     "data": {
      "image/png": "[encoded data removed]",
      "text/plain": [
       "<Figure size 576x252 with 1 Axes>"
      ]
     },
     "metadata": {},
     "output_type": "display_data"
    }
   ],
   "source": [
    "data.hist('month_publication', bins = 12);"
   ]
  },
  {
   "cell_type": "markdown",
   "metadata": {},
   "source": [
    "Судя по графикам месяцев публикации, объекты размещаются циклично, чаще всего в феврале-апреле, в мае резкий спад, вероятно по причине большого количества выходных. Летом объем публикаций растет, но не так активно из-за отпусков. В декабре и январе количество объявлений на уровне мая по понятным причинам. Касательно дней, количество публикаций в будние дни стабильно, а в выходные ожидаемо и резко падает."
   ]
  },
  {
   "cell_type": "code",
   "execution_count": 81,
   "metadata": {},
   "outputs": [
    {
     "data": {
      "image/png": "[encoded data removed]",
      "text/plain": [
       "<Figure size 576x252 with 1 Axes>"
      ]
     },
     "metadata": {},
     "output_type": "display_data"
    }
   ],
   "source": [
    "data.hist('day_publication', bins = 12);"
   ]
  },
  {
   "cell_type": "markdown",
   "metadata": {},
   "source": [
    "Касательно дней, количество публикаций в будние дни стабильно, а в выходные ожидаемо и резко падает."
   ]
  },
  {
   "cell_type": "markdown",
   "metadata": {},
   "source": [
    "### Как быстро продавались квартиры"
   ]
  },
  {
   "cell_type": "markdown",
   "metadata": {},
   "source": [
    "Чтобы попробовать сформулировать выводы, построим гистограмму по `days_exposition` и обратимся к методу `.describe()`."
   ]
  },
  {
   "cell_type": "code",
   "execution_count": 82,
   "metadata": {},
   "outputs": [
    {
     "data": {
      "image/png": "[encoded data removed]",
      "text/plain": [
       "<Figure size 576x252 with 1 Axes>"
      ]
     },
     "metadata": {},
     "output_type": "display_data"
    }
   ],
   "source": [
    "with sns.color_palette('Set2'):\n",
    "    sns.histplot(data=data, x='days_exposition', bins=20)\n",
    "plt.title('Период экспозиции')\n",
    "plt.show();"
   ]
  },
  {
   "cell_type": "code",
   "execution_count": 83,
   "metadata": {},
   "outputs": [
    {
     "data": {
      "text/plain": [
       "count    19687.000000\n",
       "mean       177.736882\n",
       "std        216.598455\n",
       "min          1.000000\n",
       "25%         44.000000\n",
       "50%         93.000000\n",
       "75%        226.000000\n",
       "max       1580.000000\n",
       "Name: days_exposition, dtype: float64"
      ]
     },
     "execution_count": 83,
     "metadata": {},
     "output_type": "execute_result"
    }
   ],
   "source": [
    "data['days_exposition'].describe()"
   ]
  },
  {
   "cell_type": "markdown",
   "metadata": {},
   "source": [
    "В среднем квартиры продаются за 177 дней, а половину всех квартир продали за 93 дня. Значения до первого квартиля Q1 можно принять за быструю продажу — 25% всех квартир продали за 44 дня. А **необычно долгой** продажей можно принять случаи, лежащие в пределе одного стандартного отклонения от среднего — 394 дня. В этот промежуток попадает примерно 13,6% + 2,1% = 15,7% выборки, согласно эмпирическому правилу 68-95-99,7. Это как раз будет соответствовать примерно удвоенному среднему, такой предел оптимален, поскольку значение квартиля Q3 весьма мало, чтобы назвать продажи **необычно** долгими."
   ]
  },
  {
   "cell_type": "markdown",
   "metadata": {},
   "source": [
    "### Какие факторы больше всего влияют на полную стоимость объекта"
   ]
  },
  {
   "cell_type": "markdown",
   "metadata": {},
   "source": [
    "Построим гистограммы для категории этажа, дня, месяца и года продажи."
   ]
  },
  {
   "cell_type": "code",
   "execution_count": 84,
   "metadata": {},
   "outputs": [
    {
     "data": {
      "image/png": "[encoded data removed]",
      "text/plain": [
       "<Figure size 576x288 with 1 Axes>"
      ]
     },
     "metadata": {},
     "output_type": "display_data"
    }
   ],
   "source": [
    "(data.pivot_table(index='floor_type', values='last_price', aggfunc=['mean', 'median'])\n",
    "     .plot.bar(rot=0, xlabel='', ylabel='Цена, млн.руб.', title='Зависимость цены от категории этажа', figsize=(8, 4))\n",
    ")\n",
    "plt.legend(loc='lower right')\n",
    "plt.show();"
   ]
  },
  {
   "cell_type": "markdown",
   "metadata": {},
   "source": [
    "На первом этаже располгаются самые дешевые квартиры, средняя стоимость 4,5 млн. руб, а половина всех — дешевле 4 млн. руб. Самые дорогие располагаются на остальных этажах, кроме последнего, средняя стоимость на 1 млн. больше, а медиана выше на 0,5 млн. В промежутке находятся квартиры последнего этажа, в среднем они стоят 5 млн.руб, а медианное значение составляет примерно 4 млн. *Можно сказать, если квартира находится не на крайних этажах, то цена такого объекта в среднем будет наибольшая.*"
   ]
  },
  {
   "cell_type": "code",
   "execution_count": 85,
   "metadata": {},
   "outputs": [
    {
     "data": {
      "image/png": "[encoded data removed]",
      "text/plain": [
       "<Figure size 576x288 with 1 Axes>"
      ]
     },
     "metadata": {},
     "output_type": "display_data"
    }
   ],
   "source": [
    "(data.pivot_table(index='day_publication', values='last_price', aggfunc=['mean', 'median'])\n",
    "     .plot.bar(rot=0, xlabel='День публикации', ylabel='Цена, млн.руб.', title='Зависимость цены от дня публикации', figsize=(8, 4))\n",
    ")\n",
    "plt.legend(loc='lower right')\n",
    "plt.show()"
   ]
  },
  {
   "cell_type": "markdown",
   "metadata": {},
   "source": [
    "*Зависимость цены от дня публикации не прослеживается, для каждого дня значения среднего и медианы примерно одинаковые.*"
   ]
  },
  {
   "cell_type": "code",
   "execution_count": 86,
   "metadata": {},
   "outputs": [
    {
     "data": {
      "image/png": "[encoded data removed]",
      "text/plain": [
       "<Figure size 576x252 with 1 Axes>"
      ]
     },
     "metadata": {},
     "output_type": "display_data"
    }
   ],
   "source": [
    "(data.pivot_table(index='month_publication', values='last_price', aggfunc=['mean', 'median'])\n",
    "     .plot.bar(rot=0, xlabel='Месяц публикации', ylabel='Цена, млн.руб.', title='Зависимость цены от месяца публикации', \n",
    "               figsize=(8, 3.5))\n",
    ")\n",
    "plt.legend(loc='lower right')\n",
    "plt.show()"
   ]
  },
  {
   "cell_type": "markdown",
   "metadata": {},
   "source": [
    "Зависимость цены от месяца публикации тоже слабо прослеживается. Средняя цена колеблется в районе ~5,2-5,5 млн.руб. Медианное значение имеет такие же колебания, только вокруг 4,5 млн. руб."
   ]
  },
  {
   "cell_type": "code",
   "execution_count": 87,
   "metadata": {},
   "outputs": [
    {
     "data": {
      "image/png": "[encoded data removed]",
      "text/plain": [
       "<Figure size 576x288 with 1 Axes>"
      ]
     },
     "metadata": {},
     "output_type": "display_data"
    }
   ],
   "source": [
    "(data.pivot_table(index='year_publication', values='last_price', aggfunc=['mean', 'median'])\n",
    "     .plot.bar(rot=0, xlabel='Год публикации', ylabel='Цена, млн.руб.', title='Зависимость цены от года публикации',\n",
    "              figsize=(8, 4))\n",
    ")\n",
    "plt.legend(loc='lower right')\n",
    "plt.show()"
   ]
  },
  {
   "cell_type": "markdown",
   "metadata": {},
   "source": [
    "Зависимость от года публикации присутствует. В 2014 году наблюдается наибольшая цена, вероятно, связано с изменением курса рубля в 2 раза в том году. До 2016 цены корректировались и остались на значении ~5,3 млн.руб для среднего и 4,5 млн.руб для медианы. В 2019 недвижимость снова подорожала на полмиллиона."
   ]
  },
  {
   "cell_type": "markdown",
   "metadata": {},
   "source": [
    "### Подсчет средней цены одного квадратного метра"
   ]
  },
  {
   "cell_type": "markdown",
   "metadata": {},
   "source": [
    "Требуется посчитать цену квадратного метра в 10 населенных пунктах с наибольшим числом объявлений, список этих пунктов получим с помощью `value_counts()`. Стоимость одного квадратного метра раннее рассчитывалась в столбце `metre_price`."
   ]
  },
  {
   "cell_type": "code",
   "execution_count": 88,
   "metadata": {},
   "outputs": [],
   "source": [
    "locality = data['locality_name'].value_counts().head(10).index"
   ]
  },
  {
   "cell_type": "code",
   "execution_count": 89,
   "metadata": {},
   "outputs": [
    {
     "data": {
      "text/plain": [
       "Index(['Санкт-Петербург', 'Мурино', 'Кудрово', 'поселок Шушары', 'Всеволожск',\n",
       "       'Пушкин', 'Колпино', 'поселок Парголово', 'Гатчина', 'Выборг'],\n",
       "      dtype='object')"
      ]
     },
     "execution_count": 89,
     "metadata": {},
     "output_type": "execute_result"
    }
   ],
   "source": [
    "locality"
   ]
  },
  {
   "cell_type": "code",
   "execution_count": 90,
   "metadata": {},
   "outputs": [
    {
     "data": {
      "text/html": [
       "<div>\n",
       "<style scoped>\n",
       "    .dataframe tbody tr th:only-of-type {\n",
       "        vertical-align: middle;\n",
       "    }\n",
       "\n",
       "    .dataframe tbody tr th {\n",
       "        vertical-align: top;\n",
       "    }\n",
       "\n",
       "    .dataframe thead th {\n",
       "        text-align: right;\n",
       "    }\n",
       "</style>\n",
       "<table border=\"1\" class=\"dataframe\">\n",
       "  <thead>\n",
       "    <tr style=\"text-align: right;\">\n",
       "      <th></th>\n",
       "      <th>metre_price</th>\n",
       "    </tr>\n",
       "    <tr>\n",
       "      <th>locality_name</th>\n",
       "      <th></th>\n",
       "    </tr>\n",
       "  </thead>\n",
       "  <tbody>\n",
       "    <tr>\n",
       "      <th>Санкт-Петербург</th>\n",
       "      <td>108721.385183</td>\n",
       "    </tr>\n",
       "    <tr>\n",
       "      <th>Пушкин</th>\n",
       "      <td>101794.625455</td>\n",
       "    </tr>\n",
       "    <tr>\n",
       "      <th>Кудрово</th>\n",
       "      <td>95326.179139</td>\n",
       "    </tr>\n",
       "    <tr>\n",
       "      <th>поселок Парголово</th>\n",
       "      <td>90332.263023</td>\n",
       "    </tr>\n",
       "    <tr>\n",
       "      <th>Мурино</th>\n",
       "      <td>86087.512050</td>\n",
       "    </tr>\n",
       "    <tr>\n",
       "      <th>поселок Шушары</th>\n",
       "      <td>78677.364217</td>\n",
       "    </tr>\n",
       "    <tr>\n",
       "      <th>Колпино</th>\n",
       "      <td>75333.295801</td>\n",
       "    </tr>\n",
       "    <tr>\n",
       "      <th>Гатчина</th>\n",
       "      <td>68935.194838</td>\n",
       "    </tr>\n",
       "    <tr>\n",
       "      <th>Всеволожск</th>\n",
       "      <td>67284.660180</td>\n",
       "    </tr>\n",
       "    <tr>\n",
       "      <th>Выборг</th>\n",
       "      <td>58741.818996</td>\n",
       "    </tr>\n",
       "  </tbody>\n",
       "</table>\n",
       "</div>"
      ],
      "text/plain": [
       "                     metre_price\n",
       "locality_name                   \n",
       "Санкт-Петербург    108721.385183\n",
       "Пушкин             101794.625455\n",
       "Кудрово             95326.179139\n",
       "поселок Парголово   90332.263023\n",
       "Мурино              86087.512050\n",
       "поселок Шушары      78677.364217\n",
       "Колпино             75333.295801\n",
       "Гатчина             68935.194838\n",
       "Всеволожск          67284.660180\n",
       "Выборг              58741.818996"
      ]
     },
     "execution_count": 90,
     "metadata": {},
     "output_type": "execute_result"
    }
   ],
   "source": [
    "(data.query('locality_name in @locality')\n",
    "     .pivot_table(index='locality_name', values='metre_price')\n",
    "     .sort_values(by='metre_price', ascending=False)\n",
    ")    "
   ]
  },
  {
   "cell_type": "markdown",
   "metadata": {},
   "source": [
    "Дороже всего недвижимость, разумеется, в Санкт-Петербурге — средняя стоимость 1 м² составляет 108,7 тыс. руб. В Выборге квадратный метр стоит дешевле всего — в среднем 58,7 тыс. руб."
   ]
  },
  {
   "cell_type": "markdown",
   "metadata": {},
   "source": [
    "### Изменение стоимости объекта в Санкт-Петербурге в зависимости удаленности от центра"
   ]
  },
  {
   "cell_type": "markdown",
   "metadata": {},
   "source": [
    "Посмотрим на графике зависимость стоимости объекта в петербурге от расстояния до центра города. Отберем данные по Петербургу, сгруппируем по расстоянию до центра `cityCenters_nearest` и выберем столбец `last_price`."
   ]
  },
  {
   "cell_type": "code",
   "execution_count": 91,
   "metadata": {
    "scrolled": true
   },
   "outputs": [
    {
     "data": {
      "image/png": "[encoded data removed]",
      "text/plain": [
       "<Figure size 864x288 with 1 Axes>"
      ]
     },
     "metadata": {},
     "output_type": "display_data"
    }
   ],
   "source": [
    "(data.query('locality_name == \"Санкт-Петербург\" & cityCenters_nearest < 25')\n",
    "     .pivot_table(index='cityCenters_nearest', values='metre_price')\n",
    "     .plot(kind='bar', rot=30, ylabel='Средняя стоимость 1 м², руб.', xlabel='Расстояние до центра, км', figsize=(12,4))\n",
    ")\n",
    "plt.legend('')\n",
    "plt.title('Зависимость цены за 1 м² (руб.) от расстояния до центра (км.)')\n",
    "plt.show()"
   ]
  },
  {
   "cell_type": "markdown",
   "metadata": {},
   "source": [
    "На графике видно, что наиболее удаленные объекты имеют цену в районе ~85 тыс.руб./м². Зависимость на графике можно грубо аппроксимировать, но лучше попробуем вычислить среднюю разницу при изменении удаленности на 1 км."
   ]
  },
  {
   "cell_type": "markdown",
   "metadata": {},
   "source": [
    "Сохраним сводную таблицу для дальнейших вычислений."
   ]
  },
  {
   "cell_type": "code",
   "execution_count": 92,
   "metadata": {},
   "outputs": [
    {
     "data": {
      "text/html": [
       "<div>\n",
       "<style scoped>\n",
       "    .dataframe tbody tr th:only-of-type {\n",
       "        vertical-align: middle;\n",
       "    }\n",
       "\n",
       "    .dataframe tbody tr th {\n",
       "        vertical-align: top;\n",
       "    }\n",
       "\n",
       "    .dataframe thead th {\n",
       "        text-align: right;\n",
       "    }\n",
       "</style>\n",
       "<table border=\"1\" class=\"dataframe\">\n",
       "  <thead>\n",
       "    <tr style=\"text-align: right;\">\n",
       "      <th></th>\n",
       "      <th>metre_price</th>\n",
       "    </tr>\n",
       "    <tr>\n",
       "      <th>cityCenters_nearest</th>\n",
       "      <th></th>\n",
       "    </tr>\n",
       "  </thead>\n",
       "  <tbody>\n",
       "    <tr>\n",
       "      <th>20.0</th>\n",
       "      <td>103056.539879</td>\n",
       "    </tr>\n",
       "    <tr>\n",
       "      <th>21.0</th>\n",
       "      <td>94469.584582</td>\n",
       "    </tr>\n",
       "    <tr>\n",
       "      <th>22.0</th>\n",
       "      <td>91330.425050</td>\n",
       "    </tr>\n",
       "    <tr>\n",
       "      <th>23.0</th>\n",
       "      <td>92063.679612</td>\n",
       "    </tr>\n",
       "    <tr>\n",
       "      <th>24.0</th>\n",
       "      <td>85736.904595</td>\n",
       "    </tr>\n",
       "  </tbody>\n",
       "</table>\n",
       "</div>"
      ],
      "text/plain": [
       "                       metre_price\n",
       "cityCenters_nearest               \n",
       "20.0                 103056.539879\n",
       "21.0                  94469.584582\n",
       "22.0                  91330.425050\n",
       "23.0                  92063.679612\n",
       "24.0                  85736.904595"
      ]
     },
     "execution_count": 92,
     "metadata": {},
     "output_type": "execute_result"
    }
   ],
   "source": [
    "pivot_table = (data.query('locality_name == \"Санкт-Петербург\" & cityCenters_nearest < 25')\n",
    "                   .pivot_table(index='cityCenters_nearest', values='metre_price')\n",
    "              )\n",
    "pivot_table.tail()"
   ]
  },
  {
   "cell_type": "markdown",
   "metadata": {},
   "source": [
    "Далее получим разницу стоимости квадратного метра с каждым километром удаленности от центра. На графике видно, что в первые 4 километра зависимость имеет несколько хаотичный характер. В качестве среднего прироста примем среднее значение."
   ]
  },
  {
   "cell_type": "code",
   "execution_count": 93,
   "metadata": {},
   "outputs": [
    {
     "data": {
      "text/plain": [
       "cityCenters_nearest\n",
       "0.0             NaN\n",
       "1.0   -17837.490148\n",
       "2.0     6537.571769\n",
       "3.0    16157.320550\n",
       "4.0   -13161.977630\n",
       "5.0    -5278.133555\n",
       "6.0    -1054.444705\n",
       "Name: metre_price, dtype: float64"
      ]
     },
     "execution_count": 93,
     "metadata": {},
     "output_type": "execute_result"
    }
   ],
   "source": [
    "(pivot_table['metre_price'].shift(1) - pivot_table['metre_price']).shift(0).head(7)"
   ]
  },
  {
   "cell_type": "code",
   "execution_count": 94,
   "metadata": {},
   "outputs": [
    {
     "data": {
      "text/plain": [
       "count       24.000000\n",
       "mean      1123.722713\n",
       "std       6990.964517\n",
       "min     -17837.490148\n",
       "25%       -955.560981\n",
       "50%       1698.785651\n",
       "75%       3924.688595\n",
       "max      16157.320550\n",
       "Name: metre_price, dtype: float64"
      ]
     },
     "execution_count": 94,
     "metadata": {},
     "output_type": "execute_result"
    }
   ],
   "source": [
    "(pivot_table['metre_price'].shift(1) - pivot_table['metre_price']).shift(0).describe()"
   ]
  },
  {
   "cell_type": "markdown",
   "metadata": {},
   "source": [
    "Получается, средняя цена каждого километра составляет 1698 руб. за 1 м². Попробуем спрогнозировать цену, перейдем из точки в 24 км и стоимостью 85 тыс. руб. в точки 10 км и 5 км соответственно. <br> \n",
    "Цена для 10 км будет: 85000 + 1698 * (24 - 10) = 108772 руб. <br> \n",
    "Цена для 5 км: 85000 + 1698 * (24 - 5) = 117262 руб. <br>\n",
    "*Эти результаты примерно соответствуют значениям на графиках.*"
   ]
  },
  {
   "cell_type": "markdown",
   "metadata": {},
   "source": [
    "# Общий вывод"
   ]
  },
  {
   "cell_type": "markdown",
   "metadata": {},
   "source": [
    "В текущей работе было проведено исследование данных из сервиса Яндекс Недвижимость, архив содержал информацию об объявлениях за неколько лет о продаже квартир в Санкт-Петербурге и соседних населенных пунктах. В исследовании изучались следующие параметры объектов недвижимости: <br>\n",
    "  - общая площадь;\n",
    "  - жилая площадь;\n",
    "  - площадь кухни;\n",
    "  - цена объекта;\n",
    "  - количество комнат;\n",
    "  - высота потолков;\n",
    "  - этаж квартиры;\n",
    "  - тип этажа квартиры («первый», «последний», «другой»);\n",
    "  - общее количество этажей в доме;\n",
    "  - расстояние до центра города в метрах;\n",
    "  - расстояние до ближайшего аэропорта;\n",
    "  - расстояние до ближайшего парка;\n",
    "  - день и месяц публикации объявления."
   ]
  },
  {
   "cell_type": "markdown",
   "metadata": {},
   "source": [
    "1. Львиную долю объектов в выборке составляют квартиры из Санкт-Петербурга и Мурино — 69%. В большинстве представлены квартиры с площадью до 100 м², в среднем около 50 м². Жилая площадь квартир составляет около половины от общей: 25-50 м², а кухни в среднем представлены порядка 10 м². Цены на недвижимость распределены нормально, среднее значение в районе 4 млн.руб, на этапе предобработки были удалены объекты дороже 20 млн. руб. и дешевле 1 млн. руб. Высоты потолков разбросаны достаточно хаотично, но львиную долю составляют потолки 2,4-2,6 м, максимальная высота 3,2 м. Большинство объектов имеют до двух комнат, квартир с тремя комнатами примерно на треть меньше. Этажность домов простирается вплоть до 30, но в основном представлены пяти- и девятиэтажки. Домов с этажами более 10 в два раза меньше.\n",
    "2. Изучался вопрос о том, насколько быстро продаваются квартиры. В среднем объекты продаются за 177 дней, а половину всех квартир продали за 93 дня. Согласно значению первого квартиля Q1 — 25% всех квартир продали за 44 дня — **быстрые продажи**. А **необычно долгой** продаже соответствуют случаи, лежащие в пределе одного стандартного отклонения от среднего — 394 дня.\n",
    "3. Проводилось исследование и отбор факторов, наиболее влияющих на стоимость объекта. Обнаружено, что на первом этаже располагаются самые дешевые квартиры, средняя стоимость 4,5 млн. руб, а половина всех — дешевле 4 млн. руб. Самые дорогие располагаются на остальных этажах, кроме последнего, средняя стоимость на 1 млн. больше, а медиана выше на 0,5 млн. В промежутке находятся квартиры последнего этажа, в среднем они стоят 5 млн.руб, а медианное значение составляет примерно 4 млн. *Можно сказать, если квартира находится не на крайних этажах, то цена такого объекта в среднем будет наибольшая.* Зависимость от дня и месяца публикации не замечена, зато зависимость от года публикации присутствует. В 2014 году наблюдается наибольшая цена, вероятно, связано с изменением курса рубля в 2 раза в том году. До 2016 цены корректировались и остались на значении ~5,3 млн.руб для среднего и 4,5 млн.руб для медианы. В 2019 недвижимость снова подорожала на полмиллиона.\n",
    "4. Была посчитана средняя стоимость одного квадратного метра в 10 населенных пунктах с наибольшим числом объявлений. Самая дорогая недвижимость, конечно, в Санкт-Петербурге — средняя цена 108,7 тыс.руб./м². В Выборге недвижимость стоит дешевле всего — в среднем 58,7 тыс.руб./м².\n",
    "5. Также был найден прирост стоимости квадратного метра по мере удаленности от центра Санкт-Петербурга на 1 км. Средняя цена каждого километра составляет 1698 руб. за 1 м². Наиболее удаленные объекты имеют цену в районе ~83 тыс.руб./м² — относительно этой точки прогнозировались цены для новой произвольной удаленности. Полученные результаты соответствуют показаниям на графике."
   ]
  }
 ],
 "metadata": {
  "ExecuteTimeLog": [
   {
    "duration": 48,
    "start_time": "2023-02-02T00:23:38.714Z"
   },
   {
    "duration": 1428,
    "start_time": "2023-02-02T00:23:42.043Z"
   },
   {
    "duration": 144,
    "start_time": "2023-02-02T00:23:43.821Z"
   },
   {
    "duration": 91,
    "start_time": "2023-02-02T00:23:50.451Z"
   },
   {
    "duration": 100,
    "start_time": "2023-02-02T00:25:21.249Z"
   },
   {
    "duration": 92,
    "start_time": "2023-02-02T00:26:10.976Z"
   },
   {
    "duration": 93,
    "start_time": "2023-02-02T00:26:18.410Z"
   },
   {
    "duration": 87,
    "start_time": "2023-02-02T00:26:30.361Z"
   },
   {
    "duration": 77,
    "start_time": "2023-02-02T00:26:43.594Z"
   },
   {
    "duration": 92,
    "start_time": "2023-02-02T00:28:09.972Z"
   },
   {
    "duration": 90,
    "start_time": "2023-02-02T00:28:18.554Z"
   },
   {
    "duration": 8,
    "start_time": "2023-02-02T00:28:52.853Z"
   },
   {
    "duration": 10,
    "start_time": "2023-02-02T00:28:55.285Z"
   },
   {
    "duration": 10,
    "start_time": "2023-02-02T00:29:04.872Z"
   },
   {
    "duration": 9,
    "start_time": "2023-02-02T00:29:12.179Z"
   },
   {
    "duration": 92,
    "start_time": "2023-02-02T00:29:18.663Z"
   },
   {
    "duration": 129,
    "start_time": "2023-02-02T00:29:37.418Z"
   },
   {
    "duration": 123,
    "start_time": "2023-02-02T00:29:47.594Z"
   },
   {
    "duration": 109,
    "start_time": "2023-02-02T00:29:51.075Z"
   },
   {
    "duration": 118,
    "start_time": "2023-02-02T00:30:01.760Z"
   },
   {
    "duration": 2216,
    "start_time": "2023-02-02T00:30:58.749Z"
   },
   {
    "duration": 2012,
    "start_time": "2023-02-02T00:31:13.024Z"
   },
   {
    "duration": 2140,
    "start_time": "2023-02-02T00:31:17.600Z"
   },
   {
    "duration": 16,
    "start_time": "2023-02-02T00:54:28.991Z"
   },
   {
    "duration": 28,
    "start_time": "2023-02-02T01:10:59.245Z"
   },
   {
    "duration": 27,
    "start_time": "2023-02-02T01:12:55.818Z"
   },
   {
    "duration": 28,
    "start_time": "2023-02-02T01:13:09.877Z"
   },
   {
    "duration": 57,
    "start_time": "2023-02-02T01:13:49.483Z"
   },
   {
    "duration": 58,
    "start_time": "2023-02-02T01:14:01.482Z"
   },
   {
    "duration": 26,
    "start_time": "2023-02-02T01:14:12.276Z"
   },
   {
    "duration": 46,
    "start_time": "2023-02-02T01:16:26.448Z"
   },
   {
    "duration": 55,
    "start_time": "2023-02-02T01:16:56.260Z"
   },
   {
    "duration": 44,
    "start_time": "2023-02-02T01:17:06.645Z"
   },
   {
    "duration": 30,
    "start_time": "2023-02-02T01:17:28.476Z"
   },
   {
    "duration": 17,
    "start_time": "2023-02-02T01:17:52.957Z"
   },
   {
    "duration": 12,
    "start_time": "2023-02-02T01:18:01.863Z"
   },
   {
    "duration": 15,
    "start_time": "2023-02-02T01:19:11.518Z"
   },
   {
    "duration": 9,
    "start_time": "2023-02-02T01:23:38.723Z"
   },
   {
    "duration": 3,
    "start_time": "2023-02-02T01:24:29.621Z"
   },
   {
    "duration": 6,
    "start_time": "2023-02-02T01:24:37.938Z"
   },
   {
    "duration": 7,
    "start_time": "2023-02-02T01:24:40.446Z"
   },
   {
    "duration": 4,
    "start_time": "2023-02-02T01:24:44.854Z"
   },
   {
    "duration": 3,
    "start_time": "2023-02-02T01:24:48.663Z"
   },
   {
    "duration": 8,
    "start_time": "2023-02-02T01:25:02.381Z"
   },
   {
    "duration": 10,
    "start_time": "2023-02-02T01:25:49.448Z"
   },
   {
    "duration": 9,
    "start_time": "2023-02-02T01:25:55.398Z"
   },
   {
    "duration": 4,
    "start_time": "2023-02-02T01:25:58.197Z"
   },
   {
    "duration": 11,
    "start_time": "2023-02-02T01:26:04.735Z"
   },
   {
    "duration": 201,
    "start_time": "2023-02-02T01:26:40.055Z"
   },
   {
    "duration": 6,
    "start_time": "2023-02-02T01:26:49.582Z"
   },
   {
    "duration": 5,
    "start_time": "2023-02-02T01:26:53.735Z"
   },
   {
    "duration": 11,
    "start_time": "2023-02-02T01:27:19.098Z"
   },
   {
    "duration": 5,
    "start_time": "2023-02-02T01:28:12.322Z"
   },
   {
    "duration": 3,
    "start_time": "2023-02-02T01:28:16.229Z"
   },
   {
    "duration": 7,
    "start_time": "2023-02-02T01:28:18.933Z"
   },
   {
    "duration": 8,
    "start_time": "2023-02-02T01:28:36.424Z"
   },
   {
    "duration": 6,
    "start_time": "2023-02-02T01:34:45.181Z"
   },
   {
    "duration": 8,
    "start_time": "2023-02-02T02:31:32.133Z"
   },
   {
    "duration": 2103,
    "start_time": "2023-02-02T02:41:06.472Z"
   },
   {
    "duration": 2225,
    "start_time": "2023-02-02T02:41:12.510Z"
   },
   {
    "duration": 2294,
    "start_time": "2023-02-02T02:41:38.903Z"
   },
   {
    "duration": 556,
    "start_time": "2023-02-02T02:43:17.592Z"
   },
   {
    "duration": 5,
    "start_time": "2023-02-02T02:44:58.006Z"
   },
   {
    "duration": 9,
    "start_time": "2023-02-02T02:45:52.626Z"
   },
   {
    "duration": 93,
    "start_time": "2023-02-02T02:46:16.383Z"
   },
   {
    "duration": 221,
    "start_time": "2023-02-02T02:46:36.064Z"
   },
   {
    "duration": 5,
    "start_time": "2023-02-02T02:46:40.511Z"
   },
   {
    "duration": 7,
    "start_time": "2023-02-02T02:47:06.278Z"
   },
   {
    "duration": 8,
    "start_time": "2023-02-02T02:47:38.901Z"
   },
   {
    "duration": 93,
    "start_time": "2023-02-02T02:52:04.108Z"
   },
   {
    "duration": 69,
    "start_time": "2023-02-02T02:54:16.514Z"
   },
   {
    "duration": 5,
    "start_time": "2023-02-02T02:54:21.757Z"
   },
   {
    "duration": 7,
    "start_time": "2023-02-02T02:54:44.045Z"
   },
   {
    "duration": 5,
    "start_time": "2023-02-02T02:54:44.922Z"
   },
   {
    "duration": 7,
    "start_time": "2023-02-02T02:54:46.778Z"
   },
   {
    "duration": 8,
    "start_time": "2023-02-02T02:54:47.473Z"
   },
   {
    "duration": 578,
    "start_time": "2023-02-02T02:58:38.974Z"
   },
   {
    "duration": 10,
    "start_time": "2023-02-02T02:58:50.129Z"
   },
   {
    "duration": 10,
    "start_time": "2023-02-02T02:59:08.151Z"
   },
   {
    "duration": 34,
    "start_time": "2023-02-02T03:01:59.635Z"
   },
   {
    "duration": 10,
    "start_time": "2023-02-02T03:02:57.326Z"
   },
   {
    "duration": 35,
    "start_time": "2023-02-02T03:03:08.516Z"
   },
   {
    "duration": 38,
    "start_time": "2023-02-02T03:03:15.823Z"
   },
   {
    "duration": 54,
    "start_time": "2023-02-02T03:03:52.133Z"
   },
   {
    "duration": 29,
    "start_time": "2023-02-02T03:04:23.941Z"
   },
   {
    "duration": 31,
    "start_time": "2023-02-02T03:07:06.360Z"
   },
   {
    "duration": 505,
    "start_time": "2023-02-02T03:07:31.635Z"
   },
   {
    "duration": 529,
    "start_time": "2023-02-02T03:11:22.574Z"
   },
   {
    "duration": 13,
    "start_time": "2023-02-02T03:11:29.526Z"
   },
   {
    "duration": 3,
    "start_time": "2023-02-02T03:13:02.274Z"
   },
   {
    "duration": 546,
    "start_time": "2023-02-02T03:13:07.286Z"
   },
   {
    "duration": 5,
    "start_time": "2023-02-02T03:13:19.124Z"
   },
   {
    "duration": 7,
    "start_time": "2023-02-02T03:13:23.338Z"
   },
   {
    "duration": 4,
    "start_time": "2023-02-02T03:13:33.048Z"
   },
   {
    "duration": 656,
    "start_time": "2023-02-02T03:13:44.084Z"
   },
   {
    "duration": 4,
    "start_time": "2023-02-02T03:18:36.334Z"
   },
   {
    "duration": 4,
    "start_time": "2023-02-02T03:18:37.013Z"
   },
   {
    "duration": 112,
    "start_time": "2023-02-02T03:19:05.005Z"
   },
   {
    "duration": 16,
    "start_time": "2023-02-02T03:19:06.649Z"
   },
   {
    "duration": 9,
    "start_time": "2023-02-02T03:19:10.634Z"
   },
   {
    "duration": 6,
    "start_time": "2023-02-02T03:19:11.463Z"
   },
   {
    "duration": 6,
    "start_time": "2023-02-02T03:19:15.201Z"
   },
   {
    "duration": 6,
    "start_time": "2023-02-02T03:19:16.058Z"
   },
   {
    "duration": 521,
    "start_time": "2023-02-02T03:19:18.106Z"
   },
   {
    "duration": 9,
    "start_time": "2023-02-02T03:19:23.758Z"
   },
   {
    "duration": 3,
    "start_time": "2023-02-02T03:20:24.648Z"
   },
   {
    "duration": 4,
    "start_time": "2023-02-02T03:22:24.005Z"
   },
   {
    "duration": 5,
    "start_time": "2023-02-02T03:22:41.576Z"
   },
   {
    "duration": 5,
    "start_time": "2023-02-02T03:24:07.079Z"
   },
   {
    "duration": 5,
    "start_time": "2023-02-02T03:24:18.515Z"
   },
   {
    "duration": 5,
    "start_time": "2023-02-02T03:24:32.103Z"
   },
   {
    "duration": 5,
    "start_time": "2023-02-02T03:24:37.649Z"
   },
   {
    "duration": 5,
    "start_time": "2023-02-02T03:26:07.099Z"
   },
   {
    "duration": 6,
    "start_time": "2023-02-02T03:26:19.561Z"
   },
   {
    "duration": 5,
    "start_time": "2023-02-02T03:26:23.053Z"
   },
   {
    "duration": 158,
    "start_time": "2023-02-02T03:26:39.214Z"
   },
   {
    "duration": 125,
    "start_time": "2023-02-02T03:26:45.361Z"
   },
   {
    "duration": 6,
    "start_time": "2023-02-02T03:26:55.544Z"
   },
   {
    "duration": 12,
    "start_time": "2023-02-02T03:28:40.449Z"
   },
   {
    "duration": 6,
    "start_time": "2023-02-02T03:28:58.080Z"
   },
   {
    "duration": 6,
    "start_time": "2023-02-02T03:29:22.252Z"
   },
   {
    "duration": 7,
    "start_time": "2023-02-02T03:29:47.951Z"
   },
   {
    "duration": 5,
    "start_time": "2023-02-02T03:30:23.354Z"
   },
   {
    "duration": 8,
    "start_time": "2023-02-02T03:30:42.062Z"
   },
   {
    "duration": 6,
    "start_time": "2023-02-02T03:30:58.760Z"
   },
   {
    "duration": 10,
    "start_time": "2023-02-02T03:33:43.245Z"
   },
   {
    "duration": 9,
    "start_time": "2023-02-02T03:33:58.610Z"
   },
   {
    "duration": 8,
    "start_time": "2023-02-02T03:34:41.907Z"
   },
   {
    "duration": 7,
    "start_time": "2023-02-02T03:36:35.925Z"
   },
   {
    "duration": 6,
    "start_time": "2023-02-02T03:36:39.790Z"
   },
   {
    "duration": 4,
    "start_time": "2023-02-02T03:38:45.810Z"
   },
   {
    "duration": 10,
    "start_time": "2023-02-02T03:38:46.443Z"
   },
   {
    "duration": 5,
    "start_time": "2023-02-02T03:38:51.977Z"
   },
   {
    "duration": 5,
    "start_time": "2023-02-02T03:38:52.993Z"
   },
   {
    "duration": 4,
    "start_time": "2023-02-02T03:39:03.438Z"
   },
   {
    "duration": 5,
    "start_time": "2023-02-02T03:39:05.483Z"
   },
   {
    "duration": 5,
    "start_time": "2023-02-02T03:39:06.829Z"
   },
   {
    "duration": 4,
    "start_time": "2023-02-02T03:40:11.532Z"
   },
   {
    "duration": 5,
    "start_time": "2023-02-02T03:40:13.280Z"
   },
   {
    "duration": 5,
    "start_time": "2023-02-02T03:40:13.859Z"
   },
   {
    "duration": 119,
    "start_time": "2023-02-02T03:40:17.768Z"
   },
   {
    "duration": 5,
    "start_time": "2023-02-02T03:40:23.948Z"
   },
   {
    "duration": 6,
    "start_time": "2023-02-02T03:40:25.151Z"
   },
   {
    "duration": 5,
    "start_time": "2023-02-02T03:40:25.750Z"
   },
   {
    "duration": 81,
    "start_time": "2023-02-02T03:40:40.400Z"
   },
   {
    "duration": 5,
    "start_time": "2023-02-02T03:40:43.787Z"
   },
   {
    "duration": 4,
    "start_time": "2023-02-02T03:41:00.856Z"
   },
   {
    "duration": 6,
    "start_time": "2023-02-02T03:41:01.482Z"
   },
   {
    "duration": 6,
    "start_time": "2023-02-02T03:41:02.011Z"
   },
   {
    "duration": 13,
    "start_time": "2023-02-02T03:41:22.967Z"
   },
   {
    "duration": 12,
    "start_time": "2023-02-02T03:42:13.730Z"
   },
   {
    "duration": 30,
    "start_time": "2023-02-02T03:42:16.013Z"
   },
   {
    "duration": 30,
    "start_time": "2023-02-02T03:42:19.351Z"
   },
   {
    "duration": 6,
    "start_time": "2023-02-02T03:43:22.016Z"
   },
   {
    "duration": 8,
    "start_time": "2023-02-02T03:43:28.930Z"
   },
   {
    "duration": 8,
    "start_time": "2023-02-02T03:43:49.436Z"
   },
   {
    "duration": 9,
    "start_time": "2023-02-02T03:44:07.386Z"
   },
   {
    "duration": 10,
    "start_time": "2023-02-02T03:44:25.086Z"
   },
   {
    "duration": 12,
    "start_time": "2023-02-02T03:44:45.364Z"
   },
   {
    "duration": 9,
    "start_time": "2023-02-02T03:44:54.961Z"
   },
   {
    "duration": 11,
    "start_time": "2023-02-02T03:46:56.944Z"
   },
   {
    "duration": 11,
    "start_time": "2023-02-02T03:47:00.637Z"
   },
   {
    "duration": 8,
    "start_time": "2023-02-02T03:47:45.086Z"
   },
   {
    "duration": 16,
    "start_time": "2023-02-02T03:49:24.411Z"
   },
   {
    "duration": 113,
    "start_time": "2023-02-02T03:49:27.822Z"
   },
   {
    "duration": 17,
    "start_time": "2023-02-02T03:49:29.346Z"
   },
   {
    "duration": 4,
    "start_time": "2023-02-02T03:49:49.007Z"
   },
   {
    "duration": 6,
    "start_time": "2023-02-02T03:49:49.681Z"
   },
   {
    "duration": 8,
    "start_time": "2023-02-02T03:49:51.445Z"
   },
   {
    "duration": 6,
    "start_time": "2023-02-02T03:50:45.542Z"
   },
   {
    "duration": 5,
    "start_time": "2023-02-02T03:50:50.821Z"
   },
   {
    "duration": 15,
    "start_time": "2023-02-02T03:50:56.330Z"
   },
   {
    "duration": 5,
    "start_time": "2023-02-02T03:52:26.079Z"
   },
   {
    "duration": 6,
    "start_time": "2023-02-02T03:54:01.745Z"
   },
   {
    "duration": 3,
    "start_time": "2023-02-02T03:56:58.684Z"
   },
   {
    "duration": 110,
    "start_time": "2023-02-02T03:57:00.013Z"
   },
   {
    "duration": 1266,
    "start_time": "2023-02-02T03:57:07.318Z"
   },
   {
    "duration": 127,
    "start_time": "2023-02-02T03:57:08.586Z"
   },
   {
    "duration": 16,
    "start_time": "2023-02-02T03:57:08.715Z"
   },
   {
    "duration": 2192,
    "start_time": "2023-02-02T03:57:08.741Z"
   },
   {
    "duration": 15,
    "start_time": "2023-02-02T03:57:10.934Z"
   },
   {
    "duration": 8,
    "start_time": "2023-02-02T03:57:10.950Z"
   },
   {
    "duration": 7,
    "start_time": "2023-02-02T03:57:10.960Z"
   },
   {
    "duration": 5,
    "start_time": "2023-02-02T03:57:10.968Z"
   },
   {
    "duration": 10,
    "start_time": "2023-02-02T03:57:10.975Z"
   },
   {
    "duration": 9,
    "start_time": "2023-02-02T03:57:10.987Z"
   },
   {
    "duration": 10,
    "start_time": "2023-02-02T03:57:10.997Z"
   },
   {
    "duration": 5,
    "start_time": "2023-02-02T03:57:11.041Z"
   },
   {
    "duration": 122,
    "start_time": "2023-02-02T03:57:11.047Z"
   },
   {
    "duration": 0,
    "start_time": "2023-02-02T03:57:11.171Z"
   },
   {
    "duration": 0,
    "start_time": "2023-02-02T03:57:11.172Z"
   },
   {
    "duration": 0,
    "start_time": "2023-02-02T03:57:11.173Z"
   },
   {
    "duration": 0,
    "start_time": "2023-02-02T03:57:11.174Z"
   },
   {
    "duration": 0,
    "start_time": "2023-02-02T03:57:11.175Z"
   },
   {
    "duration": 0,
    "start_time": "2023-02-02T03:57:11.176Z"
   },
   {
    "duration": 0,
    "start_time": "2023-02-02T03:57:11.177Z"
   },
   {
    "duration": 6,
    "start_time": "2023-02-02T03:58:11.655Z"
   },
   {
    "duration": 5,
    "start_time": "2023-02-02T03:58:14.543Z"
   },
   {
    "duration": 10,
    "start_time": "2023-02-02T03:58:24.179Z"
   },
   {
    "duration": 8,
    "start_time": "2023-02-02T03:58:26.117Z"
   },
   {
    "duration": 6,
    "start_time": "2023-02-02T03:58:47.709Z"
   },
   {
    "duration": 6,
    "start_time": "2023-02-02T03:58:49.687Z"
   },
   {
    "duration": 5,
    "start_time": "2023-02-02T03:58:54.475Z"
   },
   {
    "duration": 22,
    "start_time": "2023-02-02T04:01:49.674Z"
   },
   {
    "duration": 14,
    "start_time": "2023-02-02T04:06:54.015Z"
   },
   {
    "duration": 3,
    "start_time": "2023-02-02T04:07:17.034Z"
   },
   {
    "duration": 15493,
    "start_time": "2023-02-02T04:07:20.536Z"
   },
   {
    "duration": 191,
    "start_time": "2023-02-02T04:12:05.884Z"
   },
   {
    "duration": 168,
    "start_time": "2023-02-02T04:12:25.930Z"
   },
   {
    "duration": 150,
    "start_time": "2023-02-02T04:12:28.734Z"
   },
   {
    "duration": 127,
    "start_time": "2023-02-02T04:14:29.137Z"
   },
   {
    "duration": 268,
    "start_time": "2023-02-02T04:15:34.657Z"
   },
   {
    "duration": 239,
    "start_time": "2023-02-02T04:15:48.416Z"
   },
   {
    "duration": 258,
    "start_time": "2023-02-02T04:15:56.610Z"
   },
   {
    "duration": 24,
    "start_time": "2023-02-02T04:23:51.335Z"
   },
   {
    "duration": 17,
    "start_time": "2023-02-02T04:23:57.593Z"
   },
   {
    "duration": 13,
    "start_time": "2023-02-02T04:24:14.542Z"
   },
   {
    "duration": 13,
    "start_time": "2023-02-02T04:24:17.925Z"
   },
   {
    "duration": 5,
    "start_time": "2023-02-02T04:24:19.617Z"
   },
   {
    "duration": 17,
    "start_time": "2023-02-02T04:24:21.584Z"
   },
   {
    "duration": 7,
    "start_time": "2023-02-02T04:24:23.877Z"
   },
   {
    "duration": 4,
    "start_time": "2023-02-02T04:24:24.950Z"
   },
   {
    "duration": 6,
    "start_time": "2023-02-02T04:24:25.617Z"
   },
   {
    "duration": 8,
    "start_time": "2023-02-02T04:24:26.615Z"
   },
   {
    "duration": 81,
    "start_time": "2023-02-02T04:24:37.912Z"
   },
   {
    "duration": 5,
    "start_time": "2023-02-02T04:24:40.837Z"
   },
   {
    "duration": 5,
    "start_time": "2023-02-02T04:24:41.744Z"
   },
   {
    "duration": 143,
    "start_time": "2023-02-02T04:24:48.993Z"
   },
   {
    "duration": 18,
    "start_time": "2023-02-02T04:24:52.051Z"
   },
   {
    "duration": 6,
    "start_time": "2023-02-02T04:24:57.499Z"
   },
   {
    "duration": 5,
    "start_time": "2023-02-02T04:24:59.156Z"
   },
   {
    "duration": 6,
    "start_time": "2023-02-02T04:24:59.952Z"
   },
   {
    "duration": 1324,
    "start_time": "2023-02-02T04:25:08.681Z"
   },
   {
    "duration": 141,
    "start_time": "2023-02-02T04:25:10.007Z"
   },
   {
    "duration": 22,
    "start_time": "2023-02-02T04:25:10.150Z"
   },
   {
    "duration": 2259,
    "start_time": "2023-02-02T04:25:10.174Z"
   },
   {
    "duration": 21,
    "start_time": "2023-02-02T04:25:12.435Z"
   },
   {
    "duration": 8,
    "start_time": "2023-02-02T04:25:12.457Z"
   },
   {
    "duration": 23,
    "start_time": "2023-02-02T04:25:12.466Z"
   },
   {
    "duration": 18,
    "start_time": "2023-02-02T04:25:12.490Z"
   },
   {
    "duration": 20,
    "start_time": "2023-02-02T04:25:12.509Z"
   },
   {
    "duration": 11,
    "start_time": "2023-02-02T04:25:12.531Z"
   },
   {
    "duration": 15,
    "start_time": "2023-02-02T04:25:12.545Z"
   },
   {
    "duration": 24,
    "start_time": "2023-02-02T04:25:12.564Z"
   },
   {
    "duration": 7,
    "start_time": "2023-02-02T04:25:12.589Z"
   },
   {
    "duration": 12,
    "start_time": "2023-02-02T04:25:12.599Z"
   },
   {
    "duration": 17,
    "start_time": "2023-02-02T04:25:12.613Z"
   },
   {
    "duration": 10,
    "start_time": "2023-02-02T04:25:12.631Z"
   },
   {
    "duration": 12,
    "start_time": "2023-02-02T04:25:12.643Z"
   },
   {
    "duration": 14,
    "start_time": "2023-02-02T04:25:12.657Z"
   },
   {
    "duration": 11,
    "start_time": "2023-02-02T04:25:12.673Z"
   },
   {
    "duration": 13,
    "start_time": "2023-02-02T04:25:12.686Z"
   },
   {
    "duration": 12,
    "start_time": "2023-02-02T04:25:12.701Z"
   },
   {
    "duration": 288,
    "start_time": "2023-02-02T04:25:12.715Z"
   },
   {
    "duration": 5,
    "start_time": "2023-02-02T04:25:13.005Z"
   },
   {
    "duration": 7,
    "start_time": "2023-02-02T04:25:13.012Z"
   },
   {
    "duration": 76,
    "start_time": "2023-02-02T04:28:50.242Z"
   },
   {
    "duration": 15,
    "start_time": "2023-02-02T04:30:38.721Z"
   },
   {
    "duration": 7,
    "start_time": "2023-02-02T04:41:22.003Z"
   },
   {
    "duration": 152,
    "start_time": "2023-02-02T04:41:34.143Z"
   },
   {
    "duration": 10,
    "start_time": "2023-02-02T04:41:46.684Z"
   },
   {
    "duration": 10,
    "start_time": "2023-02-02T04:42:47.474Z"
   },
   {
    "duration": 7,
    "start_time": "2023-02-02T04:43:10.510Z"
   },
   {
    "duration": 9,
    "start_time": "2023-02-02T04:43:12.392Z"
   },
   {
    "duration": 105,
    "start_time": "2023-02-02T04:46:00.885Z"
   },
   {
    "duration": 182,
    "start_time": "2023-02-02T04:46:22.918Z"
   },
   {
    "duration": 7,
    "start_time": "2023-02-02T04:48:20.601Z"
   },
   {
    "duration": 14,
    "start_time": "2023-02-02T04:48:26.753Z"
   },
   {
    "duration": 20,
    "start_time": "2023-02-02T04:49:35.406Z"
   },
   {
    "duration": 6,
    "start_time": "2023-02-02T04:49:38.107Z"
   },
   {
    "duration": 15,
    "start_time": "2023-02-02T04:49:41.818Z"
   },
   {
    "duration": 28,
    "start_time": "2023-02-02T04:50:19.762Z"
   },
   {
    "duration": 9,
    "start_time": "2023-02-02T04:50:52.045Z"
   },
   {
    "duration": 15,
    "start_time": "2023-02-02T04:50:54.680Z"
   },
   {
    "duration": 9,
    "start_time": "2023-02-02T04:51:44.626Z"
   },
   {
    "duration": 95,
    "start_time": "2023-02-02T04:51:51.246Z"
   },
   {
    "duration": 6,
    "start_time": "2023-02-02T04:51:54.186Z"
   },
   {
    "duration": 7,
    "start_time": "2023-02-02T04:51:58.807Z"
   },
   {
    "duration": 14,
    "start_time": "2023-02-02T04:52:01.246Z"
   },
   {
    "duration": 36,
    "start_time": "2023-02-02T04:53:08.133Z"
   },
   {
    "duration": 14,
    "start_time": "2023-02-02T04:53:31.530Z"
   },
   {
    "duration": 26,
    "start_time": "2023-02-02T04:54:14.946Z"
   },
   {
    "duration": 28,
    "start_time": "2023-02-02T04:56:45.886Z"
   },
   {
    "duration": 8,
    "start_time": "2023-02-02T04:57:08.091Z"
   },
   {
    "duration": 15,
    "start_time": "2023-02-02T04:58:29.521Z"
   },
   {
    "duration": 6,
    "start_time": "2023-02-02T04:58:58.557Z"
   },
   {
    "duration": 14,
    "start_time": "2023-02-02T05:02:48.878Z"
   },
   {
    "duration": 287,
    "start_time": "2023-02-02T05:03:50.320Z"
   },
   {
    "duration": 5,
    "start_time": "2023-02-02T05:04:27.762Z"
   },
   {
    "duration": 12,
    "start_time": "2023-02-02T05:04:32.403Z"
   },
   {
    "duration": 65,
    "start_time": "2023-02-02T05:05:03.198Z"
   },
   {
    "duration": 13,
    "start_time": "2023-02-02T05:05:51.079Z"
   },
   {
    "duration": 66,
    "start_time": "2023-02-02T05:07:54.525Z"
   },
   {
    "duration": 77,
    "start_time": "2023-02-02T05:08:44.381Z"
   },
   {
    "duration": 8,
    "start_time": "2023-02-02T05:08:46.706Z"
   },
   {
    "duration": 18,
    "start_time": "2023-02-02T05:09:01.584Z"
   },
   {
    "duration": 61,
    "start_time": "2023-02-02T05:09:45.022Z"
   },
   {
    "duration": 38,
    "start_time": "2023-02-02T05:10:02.138Z"
   },
   {
    "duration": 39,
    "start_time": "2023-02-02T05:10:06.784Z"
   },
   {
    "duration": 1312,
    "start_time": "2023-02-02T05:10:48.210Z"
   },
   {
    "duration": 5,
    "start_time": "2023-02-02T05:10:54.463Z"
   },
   {
    "duration": 37,
    "start_time": "2023-02-02T05:11:02.183Z"
   },
   {
    "duration": 30,
    "start_time": "2023-02-02T05:11:31.758Z"
   },
   {
    "duration": 6,
    "start_time": "2023-02-02T05:11:34.168Z"
   },
   {
    "duration": 6,
    "start_time": "2023-02-02T05:11:38.085Z"
   },
   {
    "duration": 6,
    "start_time": "2023-02-02T05:11:48.812Z"
   },
   {
    "duration": 30,
    "start_time": "2023-02-02T05:12:21.065Z"
   },
   {
    "duration": 40,
    "start_time": "2023-02-02T05:12:27.179Z"
   },
   {
    "duration": 12,
    "start_time": "2023-02-02T05:17:31.130Z"
   },
   {
    "duration": 27,
    "start_time": "2023-02-02T05:17:35.394Z"
   },
   {
    "duration": 1184,
    "start_time": "2023-02-02T05:17:47.982Z"
   },
   {
    "duration": 9,
    "start_time": "2023-02-02T05:18:19.161Z"
   },
   {
    "duration": 9,
    "start_time": "2023-02-02T05:18:35.677Z"
   },
   {
    "duration": 39,
    "start_time": "2023-02-02T05:19:18.225Z"
   },
   {
    "duration": 10,
    "start_time": "2023-02-02T05:19:27.465Z"
   },
   {
    "duration": 36,
    "start_time": "2023-02-02T05:21:26.345Z"
   },
   {
    "duration": 13,
    "start_time": "2023-02-02T05:21:27.761Z"
   },
   {
    "duration": 11,
    "start_time": "2023-02-02T05:28:21.051Z"
   },
   {
    "duration": 15,
    "start_time": "2023-02-02T05:28:45.215Z"
   },
   {
    "duration": 1028,
    "start_time": "2023-02-02T05:29:50.208Z"
   },
   {
    "duration": 26,
    "start_time": "2023-02-02T05:29:56.832Z"
   },
   {
    "duration": 2,
    "start_time": "2023-02-02T05:31:17.588Z"
   },
   {
    "duration": 26,
    "start_time": "2023-02-02T05:31:22.194Z"
   },
   {
    "duration": 5,
    "start_time": "2023-02-02T05:31:37.648Z"
   },
   {
    "duration": 779,
    "start_time": "2023-02-02T05:31:47.906Z"
   },
   {
    "duration": 795,
    "start_time": "2023-02-02T05:32:07.525Z"
   },
   {
    "duration": 4,
    "start_time": "2023-02-02T05:32:29.949Z"
   },
   {
    "duration": 14,
    "start_time": "2023-02-02T05:32:37.012Z"
   },
   {
    "duration": 9,
    "start_time": "2023-02-02T05:32:47.180Z"
   },
   {
    "duration": 3,
    "start_time": "2023-02-02T05:32:50.579Z"
   },
   {
    "duration": 7,
    "start_time": "2023-02-02T05:32:54.302Z"
   },
   {
    "duration": 854,
    "start_time": "2023-02-02T05:33:08.647Z"
   },
   {
    "duration": 5,
    "start_time": "2023-02-02T05:33:09.504Z"
   },
   {
    "duration": 16,
    "start_time": "2023-02-02T05:33:19.880Z"
   },
   {
    "duration": 825,
    "start_time": "2023-02-02T05:33:28.066Z"
   },
   {
    "duration": 4,
    "start_time": "2023-02-02T05:33:28.894Z"
   },
   {
    "duration": 4,
    "start_time": "2023-02-02T05:33:52.396Z"
   },
   {
    "duration": 8,
    "start_time": "2023-02-02T05:33:54.629Z"
   },
   {
    "duration": 4,
    "start_time": "2023-02-02T05:34:04.058Z"
   },
   {
    "duration": 7,
    "start_time": "2023-02-02T05:34:10.760Z"
   },
   {
    "duration": 6,
    "start_time": "2023-02-02T05:34:36.199Z"
   },
   {
    "duration": 5,
    "start_time": "2023-02-02T05:34:42.445Z"
   },
   {
    "duration": 5,
    "start_time": "2023-02-02T05:34:51.299Z"
   },
   {
    "duration": 7,
    "start_time": "2023-02-02T05:34:56.588Z"
   },
   {
    "duration": 21,
    "start_time": "2023-02-02T05:35:00.984Z"
   },
   {
    "duration": 5,
    "start_time": "2023-02-02T05:35:11.211Z"
   },
   {
    "duration": 801,
    "start_time": "2023-02-02T05:35:20.747Z"
   },
   {
    "duration": 5,
    "start_time": "2023-02-02T05:35:23.900Z"
   },
   {
    "duration": 831,
    "start_time": "2023-02-02T05:35:36.425Z"
   },
   {
    "duration": 4,
    "start_time": "2023-02-02T05:35:37.258Z"
   },
   {
    "duration": 5,
    "start_time": "2023-02-02T05:35:37.557Z"
   },
   {
    "duration": 4,
    "start_time": "2023-02-02T05:36:15.716Z"
   },
   {
    "duration": 4,
    "start_time": "2023-02-02T05:36:21.484Z"
   },
   {
    "duration": 4,
    "start_time": "2023-02-02T05:36:26.884Z"
   },
   {
    "duration": 4,
    "start_time": "2023-02-02T05:36:32.148Z"
   },
   {
    "duration": 4,
    "start_time": "2023-02-02T05:36:37.156Z"
   },
   {
    "duration": 4,
    "start_time": "2023-02-02T05:36:41.566Z"
   },
   {
    "duration": 14,
    "start_time": "2023-02-02T05:36:52.005Z"
   },
   {
    "duration": 10,
    "start_time": "2023-02-02T05:37:01.665Z"
   },
   {
    "duration": 10,
    "start_time": "2023-02-02T05:37:04.364Z"
   },
   {
    "duration": 4,
    "start_time": "2023-02-02T05:37:10.142Z"
   },
   {
    "duration": 4,
    "start_time": "2023-02-02T05:37:15.379Z"
   },
   {
    "duration": 10,
    "start_time": "2023-02-02T05:37:24.694Z"
   },
   {
    "duration": 3,
    "start_time": "2023-02-02T05:38:54.104Z"
   },
   {
    "duration": 6,
    "start_time": "2023-02-02T05:38:57.289Z"
   },
   {
    "duration": 780,
    "start_time": "2023-02-02T05:39:47.592Z"
   },
   {
    "duration": 742,
    "start_time": "2023-02-02T05:39:51.818Z"
   },
   {
    "duration": 765,
    "start_time": "2023-02-02T05:39:55.692Z"
   },
   {
    "duration": 789,
    "start_time": "2023-02-02T05:40:04.299Z"
   },
   {
    "duration": 4,
    "start_time": "2023-02-02T05:40:15.897Z"
   },
   {
    "duration": 40,
    "start_time": "2023-02-02T05:40:20.009Z"
   },
   {
    "duration": 14,
    "start_time": "2023-02-02T05:41:26.346Z"
   },
   {
    "duration": 7,
    "start_time": "2023-02-02T05:41:53.666Z"
   },
   {
    "duration": 43,
    "start_time": "2023-02-02T05:41:55.480Z"
   },
   {
    "duration": 38,
    "start_time": "2023-02-02T05:42:03.281Z"
   },
   {
    "duration": 7,
    "start_time": "2023-02-02T05:43:20.251Z"
   },
   {
    "duration": 7,
    "start_time": "2023-02-02T05:43:23.456Z"
   },
   {
    "duration": 3,
    "start_time": "2023-02-02T05:45:03.681Z"
   },
   {
    "duration": 4,
    "start_time": "2023-02-02T05:45:33.033Z"
   },
   {
    "duration": 5,
    "start_time": "2023-02-02T05:45:37.619Z"
   },
   {
    "duration": 3,
    "start_time": "2023-02-02T05:46:09.182Z"
   },
   {
    "duration": 6,
    "start_time": "2023-02-02T05:46:14.882Z"
   },
   {
    "duration": 35,
    "start_time": "2023-02-02T05:46:37.162Z"
   },
   {
    "duration": 11,
    "start_time": "2023-02-02T05:46:38.838Z"
   },
   {
    "duration": 4,
    "start_time": "2023-02-02T05:52:45.033Z"
   },
   {
    "duration": 1181,
    "start_time": "2023-02-02T05:59:28.611Z"
   },
   {
    "duration": 12,
    "start_time": "2023-02-02T05:59:41.850Z"
   },
   {
    "duration": 10,
    "start_time": "2023-02-02T06:00:03.867Z"
   },
   {
    "duration": 15,
    "start_time": "2023-02-02T06:00:08.032Z"
   },
   {
    "duration": 14,
    "start_time": "2023-02-02T06:00:13.482Z"
   },
   {
    "duration": 6,
    "start_time": "2023-02-02T06:00:24.698Z"
   },
   {
    "duration": 4,
    "start_time": "2023-02-02T06:00:44.324Z"
   },
   {
    "duration": 10,
    "start_time": "2023-02-02T06:02:06.008Z"
   },
   {
    "duration": 70,
    "start_time": "2023-02-02T06:06:36.697Z"
   },
   {
    "duration": 4,
    "start_time": "2023-02-02T06:06:50.889Z"
   },
   {
    "duration": 96,
    "start_time": "2023-02-02T06:07:05.342Z"
   },
   {
    "duration": 3,
    "start_time": "2023-02-02T06:07:20.358Z"
   },
   {
    "duration": 1213,
    "start_time": "2023-02-02T06:07:28.960Z"
   },
   {
    "duration": 1190,
    "start_time": "2023-02-02T06:07:47.540Z"
   },
   {
    "duration": 93,
    "start_time": "2023-02-02T06:08:25.436Z"
   },
   {
    "duration": 17,
    "start_time": "2023-02-02T06:08:46.859Z"
   },
   {
    "duration": 300,
    "start_time": "2023-02-02T06:09:01.883Z"
   },
   {
    "duration": 116,
    "start_time": "2023-02-02T06:09:09.282Z"
   },
   {
    "duration": 196,
    "start_time": "2023-02-02T06:09:21.216Z"
   },
   {
    "duration": 5,
    "start_time": "2023-02-02T06:09:31.232Z"
   },
   {
    "duration": 43,
    "start_time": "2023-02-02T06:11:36.216Z"
   },
   {
    "duration": 126,
    "start_time": "2023-02-02T06:11:58.425Z"
   },
   {
    "duration": 3,
    "start_time": "2023-02-02T06:12:15.190Z"
   },
   {
    "duration": 36,
    "start_time": "2023-02-02T06:12:17.333Z"
   },
   {
    "duration": 9,
    "start_time": "2023-02-02T06:13:04.989Z"
   },
   {
    "duration": 8,
    "start_time": "2023-02-02T06:13:10.916Z"
   },
   {
    "duration": 2,
    "start_time": "2023-02-02T06:13:27.637Z"
   },
   {
    "duration": 8,
    "start_time": "2023-02-02T06:13:29.158Z"
   },
   {
    "duration": 9,
    "start_time": "2023-02-02T06:13:41.405Z"
   },
   {
    "duration": 29,
    "start_time": "2023-02-02T06:13:53.182Z"
   },
   {
    "duration": 3,
    "start_time": "2023-02-02T06:14:08.002Z"
   },
   {
    "duration": 8,
    "start_time": "2023-02-02T06:14:10.032Z"
   },
   {
    "duration": 3,
    "start_time": "2023-02-02T06:15:30.443Z"
   },
   {
    "duration": 10,
    "start_time": "2023-02-02T06:15:31.534Z"
   },
   {
    "duration": 3,
    "start_time": "2023-02-02T06:15:59.984Z"
   },
   {
    "duration": 8,
    "start_time": "2023-02-02T06:16:02.055Z"
   },
   {
    "duration": 10,
    "start_time": "2023-02-02T06:18:15.145Z"
   },
   {
    "duration": 17,
    "start_time": "2023-02-02T06:18:37.805Z"
   },
   {
    "duration": 26,
    "start_time": "2023-02-02T06:19:05.549Z"
   },
   {
    "duration": 26,
    "start_time": "2023-02-02T06:19:39.428Z"
   },
   {
    "duration": 33,
    "start_time": "2023-02-02T06:19:49.920Z"
   },
   {
    "duration": 19,
    "start_time": "2023-02-02T06:19:52.289Z"
   },
   {
    "duration": 1267,
    "start_time": "2023-02-02T06:24:52.326Z"
   },
   {
    "duration": 129,
    "start_time": "2023-02-02T06:24:53.595Z"
   },
   {
    "duration": 27,
    "start_time": "2023-02-02T06:24:53.725Z"
   },
   {
    "duration": 2119,
    "start_time": "2023-02-02T06:24:53.754Z"
   },
   {
    "duration": 15,
    "start_time": "2023-02-02T06:24:55.875Z"
   },
   {
    "duration": 8,
    "start_time": "2023-02-02T06:24:55.892Z"
   },
   {
    "duration": 5,
    "start_time": "2023-02-02T06:24:55.902Z"
   },
   {
    "duration": 7,
    "start_time": "2023-02-02T06:24:55.908Z"
   },
   {
    "duration": 5,
    "start_time": "2023-02-02T06:24:55.917Z"
   },
   {
    "duration": 25,
    "start_time": "2023-02-02T06:24:55.925Z"
   },
   {
    "duration": 10,
    "start_time": "2023-02-02T06:24:55.952Z"
   },
   {
    "duration": 4,
    "start_time": "2023-02-02T06:24:55.964Z"
   },
   {
    "duration": 7,
    "start_time": "2023-02-02T06:24:55.970Z"
   },
   {
    "duration": 6,
    "start_time": "2023-02-02T06:24:55.978Z"
   },
   {
    "duration": 12,
    "start_time": "2023-02-02T06:24:55.986Z"
   },
   {
    "duration": 7,
    "start_time": "2023-02-02T06:24:55.999Z"
   },
   {
    "duration": 4,
    "start_time": "2023-02-02T06:24:56.008Z"
   },
   {
    "duration": 3,
    "start_time": "2023-02-02T06:24:56.045Z"
   },
   {
    "duration": 21,
    "start_time": "2023-02-02T06:24:56.050Z"
   },
   {
    "duration": 6,
    "start_time": "2023-02-02T06:24:56.073Z"
   },
   {
    "duration": 12,
    "start_time": "2023-02-02T06:24:56.080Z"
   },
   {
    "duration": 282,
    "start_time": "2023-02-02T06:24:56.094Z"
   },
   {
    "duration": 5,
    "start_time": "2023-02-02T06:24:56.377Z"
   },
   {
    "duration": 5,
    "start_time": "2023-02-02T06:24:56.383Z"
   },
   {
    "duration": 8,
    "start_time": "2023-02-02T06:24:56.390Z"
   },
   {
    "duration": 7,
    "start_time": "2023-02-02T06:24:56.400Z"
   },
   {
    "duration": 41,
    "start_time": "2023-02-02T06:24:56.408Z"
   },
   {
    "duration": 9,
    "start_time": "2023-02-02T06:24:56.457Z"
   },
   {
    "duration": 18,
    "start_time": "2023-02-02T06:24:56.468Z"
   },
   {
    "duration": 10,
    "start_time": "2023-02-02T06:24:56.487Z"
   },
   {
    "duration": 27,
    "start_time": "2023-02-02T06:24:56.498Z"
   },
   {
    "duration": 55,
    "start_time": "2023-02-02T06:24:56.526Z"
   },
   {
    "duration": 8,
    "start_time": "2023-02-02T06:24:56.583Z"
   },
   {
    "duration": 800,
    "start_time": "2023-02-02T06:24:56.593Z"
   },
   {
    "duration": 3,
    "start_time": "2023-02-02T06:24:57.395Z"
   },
   {
    "duration": 7,
    "start_time": "2023-02-02T06:24:57.400Z"
   },
   {
    "duration": 90,
    "start_time": "2023-02-02T06:24:57.409Z"
   },
   {
    "duration": 0,
    "start_time": "2023-02-02T06:24:57.501Z"
   },
   {
    "duration": 0,
    "start_time": "2023-02-02T06:24:57.502Z"
   },
   {
    "duration": 32,
    "start_time": "2023-02-02T06:25:25.583Z"
   },
   {
    "duration": 10,
    "start_time": "2023-02-02T06:25:26.006Z"
   },
   {
    "duration": 3611,
    "start_time": "2023-02-02T06:26:54.809Z"
   },
   {
    "duration": 30,
    "start_time": "2023-02-02T06:27:06.792Z"
   },
   {
    "duration": 9,
    "start_time": "2023-02-02T06:27:07.573Z"
   },
   {
    "duration": 55402,
    "start_time": "2023-02-02T06:27:53.816Z"
   },
   {
    "duration": 0,
    "start_time": "2023-02-02T06:28:49.246Z"
   },
   {
    "duration": 0,
    "start_time": "2023-02-02T06:28:49.246Z"
   },
   {
    "duration": 94,
    "start_time": "2023-02-02T06:33:10.284Z"
   },
   {
    "duration": 76,
    "start_time": "2023-02-02T06:33:13.672Z"
   },
   {
    "duration": 29,
    "start_time": "2023-02-02T06:33:19.411Z"
   },
   {
    "duration": 597,
    "start_time": "2023-02-02T06:33:28.744Z"
   },
   {
    "duration": 29,
    "start_time": "2023-02-02T06:33:41.935Z"
   },
   {
    "duration": 38,
    "start_time": "2023-02-02T06:33:43.816Z"
   },
   {
    "duration": 161,
    "start_time": "2023-02-02T06:36:39.042Z"
   },
   {
    "duration": 3,
    "start_time": "2023-02-02T06:41:40.876Z"
   },
   {
    "duration": 15,
    "start_time": "2023-02-02T06:41:42.193Z"
   },
   {
    "duration": 32,
    "start_time": "2023-02-02T06:41:46.724Z"
   },
   {
    "duration": 51,
    "start_time": "2023-02-02T06:41:47.801Z"
   },
   {
    "duration": 3,
    "start_time": "2023-02-02T06:41:50.479Z"
   },
   {
    "duration": 12,
    "start_time": "2023-02-02T06:41:54.453Z"
   },
   {
    "duration": 10,
    "start_time": "2023-02-02T06:42:07.301Z"
   },
   {
    "duration": 11,
    "start_time": "2023-02-02T06:42:34.173Z"
   },
   {
    "duration": 4,
    "start_time": "2023-02-02T06:42:42.173Z"
   },
   {
    "duration": 21,
    "start_time": "2023-02-02T06:43:07.994Z"
   },
   {
    "duration": 90,
    "start_time": "2023-02-02T06:43:26.577Z"
   },
   {
    "duration": 13,
    "start_time": "2023-02-02T06:51:10.486Z"
   },
   {
    "duration": 30,
    "start_time": "2023-02-02T06:51:23.177Z"
   },
   {
    "duration": 38,
    "start_time": "2023-02-02T06:51:24.084Z"
   },
   {
    "duration": 12,
    "start_time": "2023-02-02T06:51:25.689Z"
   },
   {
    "duration": 28,
    "start_time": "2023-02-02T06:51:40.869Z"
   },
   {
    "duration": 37,
    "start_time": "2023-02-02T06:51:42.367Z"
   },
   {
    "duration": 15,
    "start_time": "2023-02-02T06:51:43.750Z"
   },
   {
    "duration": 29,
    "start_time": "2023-02-02T06:52:15.794Z"
   },
   {
    "duration": 4,
    "start_time": "2023-02-02T06:52:17.615Z"
   },
   {
    "duration": 756,
    "start_time": "2023-02-02T06:52:19.172Z"
   },
   {
    "duration": 4,
    "start_time": "2023-02-02T06:52:23.454Z"
   },
   {
    "duration": 5,
    "start_time": "2023-02-02T06:52:27.232Z"
   },
   {
    "duration": 8,
    "start_time": "2023-02-02T06:52:36.911Z"
   },
   {
    "duration": 1257,
    "start_time": "2023-02-02T18:08:38.030Z"
   },
   {
    "duration": 328,
    "start_time": "2023-02-02T18:08:39.291Z"
   },
   {
    "duration": 1976,
    "start_time": "2023-02-02T18:08:40.553Z"
   },
   {
    "duration": 15,
    "start_time": "2023-02-02T18:08:42.911Z"
   },
   {
    "duration": 15,
    "start_time": "2023-02-02T18:08:45.208Z"
   },
   {
    "duration": 8,
    "start_time": "2023-02-02T18:08:48.939Z"
   },
   {
    "duration": 5,
    "start_time": "2023-02-02T18:08:49.713Z"
   },
   {
    "duration": 5,
    "start_time": "2023-02-02T18:08:51.153Z"
   },
   {
    "duration": 5,
    "start_time": "2023-02-02T18:08:52.570Z"
   },
   {
    "duration": 7,
    "start_time": "2023-02-02T18:08:53.959Z"
   },
   {
    "duration": 11,
    "start_time": "2023-02-02T18:08:55.426Z"
   },
   {
    "duration": 5,
    "start_time": "2023-02-02T18:08:56.906Z"
   },
   {
    "duration": 5,
    "start_time": "2023-02-02T18:08:58.445Z"
   },
   {
    "duration": 5,
    "start_time": "2023-02-02T18:08:59.043Z"
   },
   {
    "duration": 10,
    "start_time": "2023-02-02T18:09:00.502Z"
   },
   {
    "duration": 7,
    "start_time": "2023-02-02T18:09:02.488Z"
   },
   {
    "duration": 3,
    "start_time": "2023-02-02T18:09:04.448Z"
   },
   {
    "duration": 7,
    "start_time": "2023-02-02T18:09:06.117Z"
   },
   {
    "duration": 5,
    "start_time": "2023-02-02T18:09:06.814Z"
   },
   {
    "duration": 8,
    "start_time": "2023-02-02T18:09:08.560Z"
   },
   {
    "duration": 216,
    "start_time": "2023-02-02T18:09:10.814Z"
   },
   {
    "duration": 4,
    "start_time": "2023-02-02T18:09:13.843Z"
   },
   {
    "duration": 4,
    "start_time": "2023-02-02T18:09:14.622Z"
   },
   {
    "duration": 12,
    "start_time": "2023-02-02T18:09:15.994Z"
   },
   {
    "duration": 6,
    "start_time": "2023-02-02T18:09:17.721Z"
   },
   {
    "duration": 13,
    "start_time": "2023-02-02T18:09:19.040Z"
   },
   {
    "duration": 8,
    "start_time": "2023-02-02T18:09:21.184Z"
   },
   {
    "duration": 6,
    "start_time": "2023-02-02T18:09:21.781Z"
   },
   {
    "duration": 8,
    "start_time": "2023-02-02T18:09:22.300Z"
   },
   {
    "duration": 6,
    "start_time": "2023-02-02T18:09:40.294Z"
   },
   {
    "duration": 12,
    "start_time": "2023-02-02T18:09:44.790Z"
   },
   {
    "duration": 3,
    "start_time": "2023-02-02T18:15:35.453Z"
   },
   {
    "duration": 7,
    "start_time": "2023-02-02T18:15:49.238Z"
   },
   {
    "duration": 8,
    "start_time": "2023-02-02T18:15:55.373Z"
   },
   {
    "duration": 5,
    "start_time": "2023-02-02T18:15:59.883Z"
   },
   {
    "duration": 3,
    "start_time": "2023-02-02T18:16:12.110Z"
   },
   {
    "duration": 6,
    "start_time": "2023-02-02T18:16:18.337Z"
   },
   {
    "duration": 6,
    "start_time": "2023-02-02T18:16:29.824Z"
   },
   {
    "duration": 8,
    "start_time": "2023-02-02T18:16:31.150Z"
   },
   {
    "duration": 4,
    "start_time": "2023-02-02T18:16:34.984Z"
   },
   {
    "duration": 2,
    "start_time": "2023-02-02T18:16:46.622Z"
   },
   {
    "duration": 62,
    "start_time": "2023-02-02T18:16:48.268Z"
   },
   {
    "duration": 74,
    "start_time": "2023-02-02T18:16:54.400Z"
   },
   {
    "duration": 28,
    "start_time": "2023-02-02T18:17:19.923Z"
   },
   {
    "duration": 34,
    "start_time": "2023-02-02T18:17:21.606Z"
   },
   {
    "duration": 4,
    "start_time": "2023-02-02T18:17:25.206Z"
   },
   {
    "duration": 4,
    "start_time": "2023-02-02T18:17:27.665Z"
   },
   {
    "duration": 34,
    "start_time": "2023-02-02T18:17:32.922Z"
   },
   {
    "duration": 33,
    "start_time": "2023-02-02T18:17:36.677Z"
   },
   {
    "duration": 12,
    "start_time": "2023-02-02T18:20:01.158Z"
   },
   {
    "duration": 42,
    "start_time": "2023-02-02T18:20:08.187Z"
   },
   {
    "duration": 42,
    "start_time": "2023-02-02T18:20:29.735Z"
   },
   {
    "duration": 94,
    "start_time": "2023-02-02T18:20:59.885Z"
   },
   {
    "duration": 48,
    "start_time": "2023-02-02T18:21:16.104Z"
   },
   {
    "duration": 15,
    "start_time": "2023-02-02T18:21:42.903Z"
   },
   {
    "duration": 12,
    "start_time": "2023-02-02T18:21:57.501Z"
   },
   {
    "duration": 11,
    "start_time": "2023-02-02T18:22:20.613Z"
   },
   {
    "duration": 9,
    "start_time": "2023-02-02T18:22:29.284Z"
   },
   {
    "duration": 10,
    "start_time": "2023-02-02T18:22:37.961Z"
   },
   {
    "duration": 12,
    "start_time": "2023-02-02T18:22:47.633Z"
   },
   {
    "duration": 12,
    "start_time": "2023-02-02T18:24:15.566Z"
   },
   {
    "duration": 13,
    "start_time": "2023-02-02T18:25:32.821Z"
   },
   {
    "duration": 20,
    "start_time": "2023-02-02T18:26:38.160Z"
   },
   {
    "duration": 14,
    "start_time": "2023-02-02T18:26:56.367Z"
   },
   {
    "duration": 13,
    "start_time": "2023-02-02T18:28:56.856Z"
   },
   {
    "duration": 27,
    "start_time": "2023-02-02T18:29:01.364Z"
   },
   {
    "duration": 37,
    "start_time": "2023-02-02T18:29:02.232Z"
   },
   {
    "duration": 13,
    "start_time": "2023-02-02T18:29:04.479Z"
   },
   {
    "duration": 28,
    "start_time": "2023-02-02T18:29:11.386Z"
   },
   {
    "duration": 39,
    "start_time": "2023-02-02T18:29:12.099Z"
   },
   {
    "duration": 16,
    "start_time": "2023-02-02T18:29:15.350Z"
   },
   {
    "duration": 108,
    "start_time": "2023-02-02T18:30:05.407Z"
   },
   {
    "duration": 104,
    "start_time": "2023-02-02T18:30:32.222Z"
   },
   {
    "duration": 126,
    "start_time": "2023-02-02T18:30:56.209Z"
   },
   {
    "duration": 27,
    "start_time": "2023-02-02T18:31:02.970Z"
   },
   {
    "duration": 116,
    "start_time": "2023-02-02T18:31:11.045Z"
   },
   {
    "duration": 106,
    "start_time": "2023-02-02T18:33:48.069Z"
   },
   {
    "duration": 30,
    "start_time": "2023-02-02T18:33:53.994Z"
   },
   {
    "duration": 791,
    "start_time": "2023-02-02T18:33:56.524Z"
   },
   {
    "duration": 4,
    "start_time": "2023-02-02T18:34:06.786Z"
   },
   {
    "duration": 211,
    "start_time": "2023-02-02T18:34:10.059Z"
   },
   {
    "duration": 4,
    "start_time": "2023-02-02T18:35:55.873Z"
   },
   {
    "duration": 124,
    "start_time": "2023-02-02T18:35:58.177Z"
   },
   {
    "duration": 4,
    "start_time": "2023-02-02T18:37:12.249Z"
   },
   {
    "duration": 149,
    "start_time": "2023-02-02T18:37:42.446Z"
   },
   {
    "duration": 158,
    "start_time": "2023-02-02T18:38:44.449Z"
   },
   {
    "duration": 4,
    "start_time": "2023-02-02T18:38:53.525Z"
   },
   {
    "duration": 155,
    "start_time": "2023-02-02T18:38:54.274Z"
   },
   {
    "duration": 4,
    "start_time": "2023-02-02T18:39:17.467Z"
   },
   {
    "duration": 167,
    "start_time": "2023-02-02T18:39:18.383Z"
   },
   {
    "duration": 3,
    "start_time": "2023-02-02T18:41:01.030Z"
   },
   {
    "duration": 13,
    "start_time": "2023-02-02T18:41:05.875Z"
   },
   {
    "duration": 16,
    "start_time": "2023-02-02T18:41:06.853Z"
   },
   {
    "duration": 9,
    "start_time": "2023-02-02T18:41:17.285Z"
   },
   {
    "duration": 9,
    "start_time": "2023-02-02T18:41:21.890Z"
   },
   {
    "duration": 11,
    "start_time": "2023-02-02T18:41:23.156Z"
   },
   {
    "duration": 4,
    "start_time": "2023-02-02T18:46:46.215Z"
   },
   {
    "duration": 143,
    "start_time": "2023-02-02T18:46:47.492Z"
   },
   {
    "duration": 5,
    "start_time": "2023-02-02T18:46:53.865Z"
   },
   {
    "duration": 144,
    "start_time": "2023-02-02T18:46:54.747Z"
   },
   {
    "duration": 9,
    "start_time": "2023-02-02T18:54:57.146Z"
   },
   {
    "duration": 10,
    "start_time": "2023-02-02T18:54:58.231Z"
   },
   {
    "duration": 10,
    "start_time": "2023-02-02T18:56:23.982Z"
   },
   {
    "duration": 4,
    "start_time": "2023-02-02T18:56:27.698Z"
   },
   {
    "duration": 150,
    "start_time": "2023-02-02T18:56:30.767Z"
   },
   {
    "duration": 4,
    "start_time": "2023-02-02T18:57:55.231Z"
   },
   {
    "duration": 163,
    "start_time": "2023-02-02T18:57:56.057Z"
   },
   {
    "duration": 4,
    "start_time": "2023-02-02T18:58:07.228Z"
   },
   {
    "duration": 9,
    "start_time": "2023-02-02T18:58:08.958Z"
   },
   {
    "duration": 11,
    "start_time": "2023-02-02T18:58:11.501Z"
   },
   {
    "duration": 3,
    "start_time": "2023-02-02T18:58:59.515Z"
   },
   {
    "duration": 3,
    "start_time": "2023-02-02T18:59:42.314Z"
   },
   {
    "duration": 120,
    "start_time": "2023-02-02T18:59:43.776Z"
   },
   {
    "duration": 9,
    "start_time": "2023-02-02T19:00:08.354Z"
   },
   {
    "duration": 11,
    "start_time": "2023-02-02T19:00:09.576Z"
   },
   {
    "duration": 784,
    "start_time": "2023-02-02T19:03:19.514Z"
   },
   {
    "duration": 10,
    "start_time": "2023-02-02T19:03:41.967Z"
   },
   {
    "duration": 10,
    "start_time": "2023-02-02T19:03:59.168Z"
   },
   {
    "duration": 10,
    "start_time": "2023-02-02T19:04:05.901Z"
   },
   {
    "duration": 8,
    "start_time": "2023-02-02T19:04:23.139Z"
   },
   {
    "duration": 20,
    "start_time": "2023-02-02T19:04:26.105Z"
   },
   {
    "duration": 4,
    "start_time": "2023-02-02T19:04:35.242Z"
   },
   {
    "duration": 240,
    "start_time": "2023-02-02T19:04:36.013Z"
   },
   {
    "duration": 25,
    "start_time": "2023-02-02T19:05:02.100Z"
   },
   {
    "duration": 7,
    "start_time": "2023-02-02T19:05:14.192Z"
   },
   {
    "duration": 19,
    "start_time": "2023-02-02T19:05:16.100Z"
   },
   {
    "duration": 4,
    "start_time": "2023-02-02T19:13:01.576Z"
   },
   {
    "duration": 24,
    "start_time": "2023-02-02T19:13:15.695Z"
   },
   {
    "duration": 29,
    "start_time": "2023-02-02T19:13:17.421Z"
   },
   {
    "duration": 762,
    "start_time": "2023-02-02T19:13:53.537Z"
   },
   {
    "duration": 4,
    "start_time": "2023-02-02T19:14:09.505Z"
   },
   {
    "duration": 32,
    "start_time": "2023-02-02T19:14:13.526Z"
   },
   {
    "duration": 3,
    "start_time": "2023-02-02T19:14:18.544Z"
   },
   {
    "duration": 32,
    "start_time": "2023-02-02T19:14:23.102Z"
   },
   {
    "duration": 4,
    "start_time": "2023-02-02T19:14:28.580Z"
   },
   {
    "duration": 29,
    "start_time": "2023-02-02T19:14:32.044Z"
   },
   {
    "duration": 2,
    "start_time": "2023-02-02T19:14:50.032Z"
   },
   {
    "duration": 8,
    "start_time": "2023-02-02T19:20:27.249Z"
   },
   {
    "duration": 9,
    "start_time": "2023-02-02T19:20:33.306Z"
   },
   {
    "duration": 7,
    "start_time": "2023-02-02T19:20:40.862Z"
   },
   {
    "duration": 9,
    "start_time": "2023-02-02T19:20:45.558Z"
   },
   {
    "duration": 9,
    "start_time": "2023-02-02T19:20:53.054Z"
   },
   {
    "duration": 18,
    "start_time": "2023-02-02T19:21:04.025Z"
   },
   {
    "duration": 17,
    "start_time": "2023-02-02T19:27:25.579Z"
   },
   {
    "duration": 12,
    "start_time": "2023-02-02T19:27:38.442Z"
   },
   {
    "duration": 56,
    "start_time": "2023-02-02T19:27:51.287Z"
   },
   {
    "duration": 37,
    "start_time": "2023-02-02T19:28:04.317Z"
   },
   {
    "duration": 9,
    "start_time": "2023-02-02T19:28:37.400Z"
   },
   {
    "duration": 4,
    "start_time": "2023-02-02T19:29:05.392Z"
   },
   {
    "duration": 36,
    "start_time": "2023-02-02T19:29:29.457Z"
   },
   {
    "duration": 5,
    "start_time": "2023-02-02T19:29:30.518Z"
   },
   {
    "duration": 216,
    "start_time": "2023-02-02T19:29:40.712Z"
   },
   {
    "duration": 39,
    "start_time": "2023-02-02T19:29:56.369Z"
   },
   {
    "duration": 218,
    "start_time": "2023-02-02T19:29:57.674Z"
   },
   {
    "duration": 3,
    "start_time": "2023-02-02T19:30:31.844Z"
   },
   {
    "duration": 125,
    "start_time": "2023-02-02T19:30:32.947Z"
   },
   {
    "duration": 10,
    "start_time": "2023-02-02T19:30:54.012Z"
   },
   {
    "duration": 4,
    "start_time": "2023-02-02T19:31:24.693Z"
   },
   {
    "duration": 119,
    "start_time": "2023-02-02T19:31:25.477Z"
   },
   {
    "duration": 37,
    "start_time": "2023-02-02T19:31:27.674Z"
   },
   {
    "duration": 11,
    "start_time": "2023-02-02T19:31:28.470Z"
   },
   {
    "duration": 9,
    "start_time": "2023-02-02T19:31:29.631Z"
   },
   {
    "duration": 40,
    "start_time": "2023-02-02T19:31:36.505Z"
   },
   {
    "duration": 9,
    "start_time": "2023-02-02T19:31:37.915Z"
   },
   {
    "duration": 25,
    "start_time": "2023-02-02T19:32:20.769Z"
   },
   {
    "duration": 9,
    "start_time": "2023-02-02T19:32:42.500Z"
   },
   {
    "duration": 9,
    "start_time": "2023-02-02T19:32:45.034Z"
   },
   {
    "duration": 38,
    "start_time": "2023-02-02T19:34:04.251Z"
   },
   {
    "duration": 10,
    "start_time": "2023-02-02T19:34:05.737Z"
   },
   {
    "duration": 4,
    "start_time": "2023-02-02T19:34:46.520Z"
   },
   {
    "duration": 116,
    "start_time": "2023-02-02T19:34:47.973Z"
   },
   {
    "duration": 38,
    "start_time": "2023-02-02T19:34:50.285Z"
   },
   {
    "duration": 12,
    "start_time": "2023-02-02T19:34:51.141Z"
   },
   {
    "duration": 39,
    "start_time": "2023-02-02T19:34:58.358Z"
   },
   {
    "duration": 10,
    "start_time": "2023-02-02T19:34:59.872Z"
   },
   {
    "duration": 36,
    "start_time": "2023-02-02T19:35:24.623Z"
   },
   {
    "duration": 10,
    "start_time": "2023-02-02T19:35:25.741Z"
   },
   {
    "duration": 11,
    "start_time": "2023-02-02T19:35:43.504Z"
   },
   {
    "duration": 4,
    "start_time": "2023-02-02T19:36:16.673Z"
   },
   {
    "duration": 5,
    "start_time": "2023-02-02T19:36:23.319Z"
   },
   {
    "duration": 118,
    "start_time": "2023-02-02T19:36:38.701Z"
   },
   {
    "duration": 37,
    "start_time": "2023-02-02T19:36:41.005Z"
   },
   {
    "duration": 6,
    "start_time": "2023-02-02T19:36:41.982Z"
   },
   {
    "duration": 6,
    "start_time": "2023-02-02T19:36:55.337Z"
   },
   {
    "duration": 5,
    "start_time": "2023-02-02T19:36:56.176Z"
   },
   {
    "duration": 123,
    "start_time": "2023-02-02T19:37:00.222Z"
   },
   {
    "duration": 4,
    "start_time": "2023-02-02T19:37:08.379Z"
   },
   {
    "duration": 124,
    "start_time": "2023-02-02T19:37:09.939Z"
   },
   {
    "duration": 35,
    "start_time": "2023-02-02T19:37:13.153Z"
   },
   {
    "duration": 6,
    "start_time": "2023-02-02T19:37:14.549Z"
   },
   {
    "duration": 36,
    "start_time": "2023-02-02T19:37:38.584Z"
   },
   {
    "duration": 6,
    "start_time": "2023-02-02T19:37:40.077Z"
   },
   {
    "duration": 34,
    "start_time": "2023-02-02T19:39:21.944Z"
   },
   {
    "duration": 5,
    "start_time": "2023-02-02T19:39:26.080Z"
   },
   {
    "duration": 41,
    "start_time": "2023-02-02T19:39:39.163Z"
   },
   {
    "duration": 52,
    "start_time": "2023-02-02T19:40:53.630Z"
   },
   {
    "duration": 41,
    "start_time": "2023-02-02T19:40:58.416Z"
   },
   {
    "duration": 7,
    "start_time": "2023-02-02T19:41:02.662Z"
   },
   {
    "duration": 35,
    "start_time": "2023-02-02T19:41:21.231Z"
   },
   {
    "duration": 7,
    "start_time": "2023-02-02T19:43:11.885Z"
   },
   {
    "duration": 35,
    "start_time": "2023-02-02T19:43:19.101Z"
   },
   {
    "duration": 23,
    "start_time": "2023-02-02T19:44:45.204Z"
   },
   {
    "duration": 36,
    "start_time": "2023-02-02T19:44:53.029Z"
   },
   {
    "duration": 7,
    "start_time": "2023-02-02T19:44:55.680Z"
   },
   {
    "duration": 3,
    "start_time": "2023-02-02T19:45:03.799Z"
   },
   {
    "duration": 121,
    "start_time": "2023-02-02T19:45:04.498Z"
   },
   {
    "duration": 37,
    "start_time": "2023-02-02T19:45:06.925Z"
   },
   {
    "duration": 7,
    "start_time": "2023-02-02T19:45:08.141Z"
   },
   {
    "duration": 36,
    "start_time": "2023-02-02T19:45:38.981Z"
   },
   {
    "duration": 10,
    "start_time": "2023-02-02T19:45:39.928Z"
   },
   {
    "duration": 40,
    "start_time": "2023-02-02T19:46:03.985Z"
   },
   {
    "duration": 36,
    "start_time": "2023-02-02T19:47:11.772Z"
   },
   {
    "duration": 9,
    "start_time": "2023-02-02T19:47:12.629Z"
   },
   {
    "duration": 4,
    "start_time": "2023-02-02T19:47:16.853Z"
   },
   {
    "duration": 122,
    "start_time": "2023-02-02T19:47:17.549Z"
   },
   {
    "duration": 39,
    "start_time": "2023-02-02T19:47:22.836Z"
   },
   {
    "duration": 9,
    "start_time": "2023-02-02T19:47:24.032Z"
   },
   {
    "duration": 10,
    "start_time": "2023-02-02T19:47:30.574Z"
   },
   {
    "duration": 4,
    "start_time": "2023-02-02T19:47:53.842Z"
   },
   {
    "duration": 113,
    "start_time": "2023-02-02T19:47:54.605Z"
   },
   {
    "duration": 36,
    "start_time": "2023-02-02T19:47:56.326Z"
   },
   {
    "duration": 10,
    "start_time": "2023-02-02T19:47:59.569Z"
   },
   {
    "duration": 4,
    "start_time": "2023-02-02T19:48:56.610Z"
   },
   {
    "duration": 124,
    "start_time": "2023-02-02T19:48:57.432Z"
   },
   {
    "duration": 34,
    "start_time": "2023-02-02T19:48:59.588Z"
   },
   {
    "duration": 10,
    "start_time": "2023-02-02T19:49:00.762Z"
   },
   {
    "duration": 8,
    "start_time": "2023-02-02T19:51:04.488Z"
   },
   {
    "duration": 3,
    "start_time": "2023-02-02T20:03:08.201Z"
   },
   {
    "duration": 128,
    "start_time": "2023-02-02T20:03:08.935Z"
   },
   {
    "duration": 3,
    "start_time": "2023-02-02T20:03:54.941Z"
   },
   {
    "duration": 222,
    "start_time": "2023-02-02T20:03:56.755Z"
   },
   {
    "duration": 3,
    "start_time": "2023-02-02T20:04:20.245Z"
   },
   {
    "duration": 253,
    "start_time": "2023-02-02T20:04:22.440Z"
   },
   {
    "duration": 135,
    "start_time": "2023-02-02T20:04:29.358Z"
   },
   {
    "duration": 3,
    "start_time": "2023-02-02T20:04:32.278Z"
   },
   {
    "duration": 126,
    "start_time": "2023-02-02T20:04:33.031Z"
   },
   {
    "duration": 4,
    "start_time": "2023-02-02T20:05:06.900Z"
   },
   {
    "duration": 183,
    "start_time": "2023-02-02T20:05:11.171Z"
   },
   {
    "duration": 3,
    "start_time": "2023-02-02T20:05:56.275Z"
   },
   {
    "duration": 207,
    "start_time": "2023-02-02T20:05:57.196Z"
   },
   {
    "duration": 4,
    "start_time": "2023-02-02T20:06:08.346Z"
   },
   {
    "duration": 228,
    "start_time": "2023-02-02T20:06:09.475Z"
   },
   {
    "duration": 3,
    "start_time": "2023-02-02T20:06:33.535Z"
   },
   {
    "duration": 215,
    "start_time": "2023-02-02T20:06:34.214Z"
   },
   {
    "duration": 4,
    "start_time": "2023-02-02T20:06:55.607Z"
   },
   {
    "duration": 195,
    "start_time": "2023-02-02T20:06:57.406Z"
   },
   {
    "duration": 3,
    "start_time": "2023-02-02T20:07:09.395Z"
   },
   {
    "duration": 175,
    "start_time": "2023-02-02T20:07:10.849Z"
   },
   {
    "duration": 3,
    "start_time": "2023-02-02T20:08:03.950Z"
   },
   {
    "duration": 173,
    "start_time": "2023-02-02T20:08:04.644Z"
   },
   {
    "duration": 3,
    "start_time": "2023-02-02T20:08:29.085Z"
   },
   {
    "duration": 240,
    "start_time": "2023-02-02T20:08:29.888Z"
   },
   {
    "duration": 4,
    "start_time": "2023-02-02T20:08:46.684Z"
   },
   {
    "duration": 138,
    "start_time": "2023-02-02T20:08:48.074Z"
   },
   {
    "duration": 3,
    "start_time": "2023-02-02T20:08:58.994Z"
   },
   {
    "duration": 192,
    "start_time": "2023-02-02T20:09:09.093Z"
   },
   {
    "duration": 3,
    "start_time": "2023-02-02T20:10:04.130Z"
   },
   {
    "duration": 350,
    "start_time": "2023-02-02T20:10:04.724Z"
   },
   {
    "duration": 6,
    "start_time": "2023-02-02T20:10:10.326Z"
   },
   {
    "duration": 3,
    "start_time": "2023-02-02T20:10:40.395Z"
   },
   {
    "duration": 27,
    "start_time": "2023-02-02T20:10:41.063Z"
   },
   {
    "duration": 46,
    "start_time": "2023-02-02T20:10:45.585Z"
   },
   {
    "duration": 16,
    "start_time": "2023-02-02T20:10:47.604Z"
   },
   {
    "duration": 41,
    "start_time": "2023-02-02T20:10:51.809Z"
   },
   {
    "duration": 46,
    "start_time": "2023-02-02T20:11:13.221Z"
   },
   {
    "duration": 3,
    "start_time": "2023-02-02T20:12:17.862Z"
   },
   {
    "duration": 152,
    "start_time": "2023-02-02T20:12:18.877Z"
   },
   {
    "duration": 148,
    "start_time": "2023-02-02T20:12:40.651Z"
   },
   {
    "duration": 166,
    "start_time": "2023-02-02T20:12:41.604Z"
   },
   {
    "duration": 3,
    "start_time": "2023-02-02T20:13:01.416Z"
   },
   {
    "duration": 157,
    "start_time": "2023-02-02T20:13:02.785Z"
   },
   {
    "duration": 137,
    "start_time": "2023-02-02T20:13:03.839Z"
   },
   {
    "duration": 4,
    "start_time": "2023-02-02T20:15:02.317Z"
   },
   {
    "duration": 222,
    "start_time": "2023-02-02T20:15:03.391Z"
   },
   {
    "duration": 227,
    "start_time": "2023-02-02T20:15:04.530Z"
   },
   {
    "duration": 3,
    "start_time": "2023-02-02T20:15:39.146Z"
   },
   {
    "duration": 223,
    "start_time": "2023-02-02T20:15:39.780Z"
   },
   {
    "duration": 228,
    "start_time": "2023-02-02T20:15:40.364Z"
   },
   {
    "duration": 4,
    "start_time": "2023-02-02T20:16:32.250Z"
   },
   {
    "duration": 211,
    "start_time": "2023-02-02T20:16:32.658Z"
   },
   {
    "duration": 126,
    "start_time": "2023-02-02T20:16:33.312Z"
   },
   {
    "duration": 3,
    "start_time": "2023-02-02T20:19:24.823Z"
   },
   {
    "duration": 291,
    "start_time": "2023-02-02T20:19:25.440Z"
   },
   {
    "duration": 207,
    "start_time": "2023-02-02T20:19:26.341Z"
   },
   {
    "duration": 7,
    "start_time": "2023-02-02T20:20:33.922Z"
   },
   {
    "duration": 5,
    "start_time": "2023-02-02T20:22:56.320Z"
   },
   {
    "duration": 123,
    "start_time": "2023-02-02T20:22:57.314Z"
   },
   {
    "duration": 44,
    "start_time": "2023-02-02T20:23:00.284Z"
   },
   {
    "duration": 7,
    "start_time": "2023-02-02T20:23:02.479Z"
   },
   {
    "duration": 54,
    "start_time": "2023-02-02T20:27:03.050Z"
   },
   {
    "duration": 3,
    "start_time": "2023-02-02T20:27:10.835Z"
   },
   {
    "duration": 5,
    "start_time": "2023-02-02T20:27:16.288Z"
   },
   {
    "duration": 127,
    "start_time": "2023-02-02T20:27:17.072Z"
   },
   {
    "duration": 3,
    "start_time": "2023-02-02T20:27:23.247Z"
   },
   {
    "duration": 304,
    "start_time": "2023-02-02T20:27:24.377Z"
   },
   {
    "duration": 7,
    "start_time": "2023-02-02T20:27:25.973Z"
   },
   {
    "duration": 3,
    "start_time": "2023-02-02T20:28:58.748Z"
   },
   {
    "duration": 3,
    "start_time": "2023-02-02T20:29:04.064Z"
   },
   {
    "duration": 198,
    "start_time": "2023-02-02T20:29:05.463Z"
   },
   {
    "duration": 9,
    "start_time": "2023-02-02T20:29:06.791Z"
   },
   {
    "duration": 4,
    "start_time": "2023-02-02T20:29:24.792Z"
   },
   {
    "duration": 202,
    "start_time": "2023-02-02T20:29:25.814Z"
   },
   {
    "duration": 8,
    "start_time": "2023-02-02T20:29:26.687Z"
   },
   {
    "duration": 79,
    "start_time": "2023-02-02T20:31:13.536Z"
   },
   {
    "duration": 4,
    "start_time": "2023-02-02T20:31:20.053Z"
   },
   {
    "duration": 212,
    "start_time": "2023-02-02T20:31:20.974Z"
   },
   {
    "duration": 9,
    "start_time": "2023-02-02T20:31:21.826Z"
   },
   {
    "duration": 4,
    "start_time": "2023-02-02T20:31:30.519Z"
   },
   {
    "duration": 219,
    "start_time": "2023-02-02T20:31:31.246Z"
   },
   {
    "duration": 8,
    "start_time": "2023-02-02T20:31:35.469Z"
   },
   {
    "duration": 4,
    "start_time": "2023-02-02T20:32:09.142Z"
   },
   {
    "duration": 279,
    "start_time": "2023-02-02T20:32:10.022Z"
   },
   {
    "duration": 8,
    "start_time": "2023-02-02T20:32:10.748Z"
   },
   {
    "duration": 4,
    "start_time": "2023-02-02T20:32:25.015Z"
   },
   {
    "duration": 189,
    "start_time": "2023-02-02T20:32:25.870Z"
   },
   {
    "duration": 11,
    "start_time": "2023-02-02T20:32:26.474Z"
   },
   {
    "duration": 50,
    "start_time": "2023-02-02T20:32:49.730Z"
   },
   {
    "duration": 49,
    "start_time": "2023-02-02T20:33:49.713Z"
   },
   {
    "duration": 3,
    "start_time": "2023-02-02T20:34:25.372Z"
   },
   {
    "duration": 35,
    "start_time": "2023-02-02T20:34:26.410Z"
   },
   {
    "duration": 33,
    "start_time": "2023-02-02T20:34:27.816Z"
   },
   {
    "duration": 4,
    "start_time": "2023-02-02T20:34:37.900Z"
   },
   {
    "duration": 39,
    "start_time": "2023-02-02T20:34:38.817Z"
   },
   {
    "duration": 59,
    "start_time": "2023-02-02T20:35:35.922Z"
   },
   {
    "duration": 55,
    "start_time": "2023-02-02T20:35:52.816Z"
   },
   {
    "duration": 4,
    "start_time": "2023-02-02T20:36:02.010Z"
   },
   {
    "duration": 325,
    "start_time": "2023-02-02T20:36:04.001Z"
   },
   {
    "duration": 10,
    "start_time": "2023-02-02T20:36:06.013Z"
   },
   {
    "duration": 3,
    "start_time": "2023-02-02T20:36:37.819Z"
   },
   {
    "duration": 320,
    "start_time": "2023-02-02T20:36:38.948Z"
   },
   {
    "duration": 6,
    "start_time": "2023-02-02T20:36:39.979Z"
   },
   {
    "duration": 5,
    "start_time": "2023-02-02T20:37:15.023Z"
   },
   {
    "duration": 670,
    "start_time": "2023-02-02T20:37:30.422Z"
   },
   {
    "duration": 644,
    "start_time": "2023-02-02T20:37:32.713Z"
   },
   {
    "duration": 626,
    "start_time": "2023-02-02T20:37:42.411Z"
   },
   {
    "duration": 3,
    "start_time": "2023-02-02T20:37:49.500Z"
   },
   {
    "duration": 129,
    "start_time": "2023-02-02T20:37:50.183Z"
   },
   {
    "duration": 3,
    "start_time": "2023-02-02T20:37:51.825Z"
   },
   {
    "duration": 340,
    "start_time": "2023-02-02T20:37:53.171Z"
   },
   {
    "duration": 620,
    "start_time": "2023-02-02T20:38:07.424Z"
   },
   {
    "duration": 602,
    "start_time": "2023-02-02T20:38:17.755Z"
   },
   {
    "duration": 3,
    "start_time": "2023-02-02T20:38:19.512Z"
   },
   {
    "duration": 161,
    "start_time": "2023-02-02T20:38:22.210Z"
   },
   {
    "duration": 3,
    "start_time": "2023-02-02T20:38:23.401Z"
   },
   {
    "duration": 121,
    "start_time": "2023-02-02T20:38:24.021Z"
   },
   {
    "duration": 3,
    "start_time": "2023-02-02T20:38:29.314Z"
   },
   {
    "duration": 314,
    "start_time": "2023-02-02T20:38:30.482Z"
   },
   {
    "duration": 122,
    "start_time": "2023-02-02T20:38:43.106Z"
   },
   {
    "duration": 3,
    "start_time": "2023-02-02T20:38:45.948Z"
   },
   {
    "duration": 4,
    "start_time": "2023-02-02T20:38:49.738Z"
   },
   {
    "duration": 123,
    "start_time": "2023-02-02T20:38:50.462Z"
   },
   {
    "duration": 3,
    "start_time": "2023-02-02T20:38:52.294Z"
   },
   {
    "duration": 342,
    "start_time": "2023-02-02T20:38:53.209Z"
   },
   {
    "duration": 4,
    "start_time": "2023-02-02T20:38:58.222Z"
   },
   {
    "duration": 137,
    "start_time": "2023-02-02T20:40:30.277Z"
   },
   {
    "duration": 6,
    "start_time": "2023-02-02T20:40:45.948Z"
   },
   {
    "duration": 3,
    "start_time": "2023-02-02T20:40:49.652Z"
   },
   {
    "duration": 131,
    "start_time": "2023-02-02T20:40:50.420Z"
   },
   {
    "duration": 128,
    "start_time": "2023-02-02T20:40:55.204Z"
   },
   {
    "duration": 4,
    "start_time": "2023-02-02T20:40:57.009Z"
   },
   {
    "duration": 131,
    "start_time": "2023-02-02T20:40:57.558Z"
   },
   {
    "duration": 3,
    "start_time": "2023-02-02T20:40:59.678Z"
   },
   {
    "duration": 3,
    "start_time": "2023-02-02T20:42:15.710Z"
   },
   {
    "duration": 7,
    "start_time": "2023-02-02T20:42:34.888Z"
   },
   {
    "duration": 124,
    "start_time": "2023-02-02T20:42:37.018Z"
   },
   {
    "duration": 3,
    "start_time": "2023-02-02T20:42:38.580Z"
   },
   {
    "duration": 335,
    "start_time": "2023-02-02T20:42:39.604Z"
   },
   {
    "duration": 6,
    "start_time": "2023-02-02T20:42:40.810Z"
   },
   {
    "duration": 4,
    "start_time": "2023-02-02T20:42:46.593Z"
   },
   {
    "duration": 8,
    "start_time": "2023-02-02T20:42:57.632Z"
   },
   {
    "duration": 191,
    "start_time": "2023-02-02T20:43:10.753Z"
   },
   {
    "duration": 2,
    "start_time": "2023-02-02T20:43:38.957Z"
   },
   {
    "duration": 1657,
    "start_time": "2023-02-02T20:43:39.767Z"
   },
   {
    "duration": 6,
    "start_time": "2023-02-02T20:43:41.426Z"
   },
   {
    "duration": 26,
    "start_time": "2023-02-02T20:43:55.063Z"
   },
   {
    "duration": 3,
    "start_time": "2023-02-02T20:44:55.004Z"
   },
   {
    "duration": 5,
    "start_time": "2023-02-02T20:44:58.292Z"
   },
   {
    "duration": 133,
    "start_time": "2023-02-02T20:44:58.816Z"
   },
   {
    "duration": 3,
    "start_time": "2023-02-02T20:45:00.282Z"
   },
   {
    "duration": 373,
    "start_time": "2023-02-02T20:45:01.504Z"
   },
   {
    "duration": 4,
    "start_time": "2023-02-02T20:45:02.548Z"
   },
   {
    "duration": 48,
    "start_time": "2023-02-02T20:45:37.412Z"
   },
   {
    "duration": 45,
    "start_time": "2023-02-02T20:45:44.946Z"
   },
   {
    "duration": 3,
    "start_time": "2023-02-02T20:46:09.922Z"
   },
   {
    "duration": 3,
    "start_time": "2023-02-02T20:46:44.688Z"
   },
   {
    "duration": 59,
    "start_time": "2023-02-02T20:46:46.687Z"
   },
   {
    "duration": 7,
    "start_time": "2023-02-02T20:46:47.770Z"
   },
   {
    "duration": 7,
    "start_time": "2023-02-02T20:47:01.958Z"
   },
   {
    "duration": 8,
    "start_time": "2023-02-02T20:47:08.286Z"
   },
   {
    "duration": 25,
    "start_time": "2023-02-02T20:47:28.822Z"
   },
   {
    "duration": 3,
    "start_time": "2023-02-02T20:47:50.517Z"
   },
   {
    "duration": 62,
    "start_time": "2023-02-02T20:47:51.474Z"
   },
   {
    "duration": 7,
    "start_time": "2023-02-02T20:47:52.612Z"
   },
   {
    "duration": 8,
    "start_time": "2023-02-02T20:48:00.949Z"
   },
   {
    "duration": 5,
    "start_time": "2023-02-02T20:48:03.374Z"
   },
   {
    "duration": 17,
    "start_time": "2023-02-02T20:48:17.751Z"
   },
   {
    "duration": 13,
    "start_time": "2023-02-02T20:48:32.032Z"
   },
   {
    "duration": 11,
    "start_time": "2023-02-02T20:48:38.804Z"
   },
   {
    "duration": 20,
    "start_time": "2023-02-02T20:48:41.512Z"
   },
   {
    "duration": 3,
    "start_time": "2023-02-02T20:48:44.557Z"
   },
   {
    "duration": 3,
    "start_time": "2023-02-02T20:48:57.483Z"
   },
   {
    "duration": 3,
    "start_time": "2023-02-02T20:48:58.107Z"
   },
   {
    "duration": 3,
    "start_time": "2023-02-02T20:49:10.186Z"
   },
   {
    "duration": 4,
    "start_time": "2023-02-02T20:49:14.211Z"
   },
   {
    "duration": 4,
    "start_time": "2023-02-02T20:49:14.852Z"
   },
   {
    "duration": 3,
    "start_time": "2023-02-02T20:50:38.239Z"
   },
   {
    "duration": 125,
    "start_time": "2023-02-02T20:50:38.821Z"
   },
   {
    "duration": 137,
    "start_time": "2023-02-02T20:51:04.022Z"
   },
   {
    "duration": 4,
    "start_time": "2023-02-02T20:51:10.221Z"
   },
   {
    "duration": 127,
    "start_time": "2023-02-02T20:51:11.025Z"
   },
   {
    "duration": 15,
    "start_time": "2023-02-02T20:51:22.504Z"
   },
   {
    "duration": 131,
    "start_time": "2023-02-02T20:51:41.006Z"
   },
   {
    "duration": 138,
    "start_time": "2023-02-02T20:51:53.646Z"
   },
   {
    "duration": 22,
    "start_time": "2023-02-02T20:53:16.192Z"
   },
   {
    "duration": 3,
    "start_time": "2023-02-02T20:57:10.795Z"
   },
   {
    "duration": 320,
    "start_time": "2023-02-02T20:57:11.758Z"
   },
   {
    "duration": 5,
    "start_time": "2023-02-02T20:57:12.442Z"
   },
   {
    "duration": 3,
    "start_time": "2023-02-02T20:57:20.566Z"
   },
   {
    "duration": 123,
    "start_time": "2023-02-02T20:57:24.391Z"
   },
   {
    "duration": 16,
    "start_time": "2023-02-02T20:57:27.725Z"
   },
   {
    "duration": 4,
    "start_time": "2023-02-02T20:57:31.509Z"
   },
   {
    "duration": 361,
    "start_time": "2023-02-02T20:57:36.302Z"
   },
   {
    "duration": 5,
    "start_time": "2023-02-02T20:57:37.387Z"
   },
   {
    "duration": 3,
    "start_time": "2023-02-02T20:59:24.716Z"
   },
   {
    "duration": 58,
    "start_time": "2023-02-02T20:59:26.282Z"
   },
   {
    "duration": 8,
    "start_time": "2023-02-02T20:59:27.391Z"
   },
   {
    "duration": 4,
    "start_time": "2023-02-02T20:59:35.675Z"
   },
   {
    "duration": 307,
    "start_time": "2023-02-02T20:59:36.558Z"
   },
   {
    "duration": 4,
    "start_time": "2023-02-02T20:59:37.731Z"
   },
   {
    "duration": 7,
    "start_time": "2023-02-02T20:59:39.439Z"
   },
   {
    "duration": 14,
    "start_time": "2023-02-02T21:00:18.385Z"
   },
   {
    "duration": 4,
    "start_time": "2023-02-02T21:00:33.400Z"
   },
   {
    "duration": 14,
    "start_time": "2023-02-02T21:00:38.139Z"
   },
   {
    "duration": 4,
    "start_time": "2023-02-02T21:01:13.893Z"
   },
   {
    "duration": 116,
    "start_time": "2023-02-02T21:01:14.614Z"
   },
   {
    "duration": 16,
    "start_time": "2023-02-02T21:01:16.373Z"
   },
   {
    "duration": 3,
    "start_time": "2023-02-02T21:01:23.709Z"
   },
   {
    "duration": 324,
    "start_time": "2023-02-02T21:01:24.759Z"
   },
   {
    "duration": 4,
    "start_time": "2023-02-02T21:01:25.814Z"
   },
   {
    "duration": 4,
    "start_time": "2023-02-02T21:01:34.132Z"
   },
   {
    "duration": 64,
    "start_time": "2023-02-02T21:01:34.138Z"
   },
   {
    "duration": 9,
    "start_time": "2023-02-02T21:01:34.204Z"
   },
   {
    "duration": 3,
    "start_time": "2023-02-02T21:02:13.402Z"
   },
   {
    "duration": 3,
    "start_time": "2023-02-02T21:02:24.271Z"
   },
   {
    "duration": 131,
    "start_time": "2023-02-02T21:02:24.794Z"
   },
   {
    "duration": 3,
    "start_time": "2023-02-02T21:02:26.720Z"
   },
   {
    "duration": 317,
    "start_time": "2023-02-02T21:02:27.580Z"
   },
   {
    "duration": 4,
    "start_time": "2023-02-02T21:02:28.540Z"
   },
   {
    "duration": 3,
    "start_time": "2023-02-02T21:02:32.213Z"
   },
   {
    "duration": 15,
    "start_time": "2023-02-02T21:02:33.296Z"
   },
   {
    "duration": 9,
    "start_time": "2023-02-02T21:02:34.569Z"
   },
   {
    "duration": 10,
    "start_time": "2023-02-02T21:02:56.547Z"
   },
   {
    "duration": 23,
    "start_time": "2023-02-02T21:02:59.751Z"
   },
   {
    "duration": 4,
    "start_time": "2023-02-02T21:04:04.832Z"
   },
   {
    "duration": 74,
    "start_time": "2023-02-02T21:04:07.058Z"
   },
   {
    "duration": 8,
    "start_time": "2023-02-02T21:04:07.921Z"
   },
   {
    "duration": 17,
    "start_time": "2023-02-02T21:04:19.537Z"
   },
   {
    "duration": 3,
    "start_time": "2023-02-02T21:05:08.996Z"
   },
   {
    "duration": 77,
    "start_time": "2023-02-02T21:05:09.532Z"
   },
   {
    "duration": 9,
    "start_time": "2023-02-02T21:05:11.662Z"
   },
   {
    "duration": 12,
    "start_time": "2023-02-02T21:05:25.962Z"
   },
   {
    "duration": 5,
    "start_time": "2023-02-02T21:05:30.479Z"
   },
   {
    "duration": 3,
    "start_time": "2023-02-02T21:05:42.854Z"
   },
   {
    "duration": 5,
    "start_time": "2023-02-02T21:05:48.829Z"
   },
   {
    "duration": 118,
    "start_time": "2023-02-02T21:05:49.420Z"
   },
   {
    "duration": 18,
    "start_time": "2023-02-02T21:05:52.602Z"
   },
   {
    "duration": 4,
    "start_time": "2023-02-02T21:05:55.630Z"
   },
   {
    "duration": 352,
    "start_time": "2023-02-02T21:05:56.563Z"
   },
   {
    "duration": 5,
    "start_time": "2023-02-02T21:05:57.806Z"
   },
   {
    "duration": 5,
    "start_time": "2023-02-02T21:05:59.010Z"
   },
   {
    "duration": 3,
    "start_time": "2023-02-02T21:07:13.069Z"
   },
   {
    "duration": 65,
    "start_time": "2023-02-02T21:07:14.714Z"
   },
   {
    "duration": 10,
    "start_time": "2023-02-02T21:07:15.912Z"
   },
   {
    "duration": 15,
    "start_time": "2023-02-02T21:07:23.795Z"
   },
   {
    "duration": 59,
    "start_time": "2023-02-02T21:07:47.526Z"
   },
   {
    "duration": 21,
    "start_time": "2023-02-02T21:07:49.739Z"
   },
   {
    "duration": 4,
    "start_time": "2023-02-02T21:08:01.015Z"
   },
   {
    "duration": 122,
    "start_time": "2023-02-02T21:08:04.162Z"
   },
   {
    "duration": 117,
    "start_time": "2023-02-02T21:08:10.515Z"
   },
   {
    "duration": 28,
    "start_time": "2023-02-02T21:08:14.269Z"
   },
   {
    "duration": 8,
    "start_time": "2023-02-02T21:08:22.204Z"
   },
   {
    "duration": 8,
    "start_time": "2023-02-02T21:13:10.990Z"
   },
   {
    "duration": 23,
    "start_time": "2023-02-02T21:13:17.623Z"
   },
   {
    "duration": 14,
    "start_time": "2023-02-02T21:13:35.734Z"
   },
   {
    "duration": 14,
    "start_time": "2023-02-02T21:15:10.804Z"
   },
   {
    "duration": 11,
    "start_time": "2023-02-02T21:15:21.250Z"
   },
   {
    "duration": 9,
    "start_time": "2023-02-02T21:15:33.289Z"
   },
   {
    "duration": 16,
    "start_time": "2023-02-02T21:15:35.175Z"
   },
   {
    "duration": 21,
    "start_time": "2023-02-02T21:15:55.780Z"
   },
   {
    "duration": 220,
    "start_time": "2023-02-02T21:16:07.226Z"
   },
   {
    "duration": 8,
    "start_time": "2023-02-02T21:16:14.356Z"
   },
   {
    "duration": 13,
    "start_time": "2023-02-02T21:16:16.362Z"
   },
   {
    "duration": 18,
    "start_time": "2023-02-02T21:16:18.879Z"
   },
   {
    "duration": 4,
    "start_time": "2023-02-02T21:16:22.321Z"
   },
   {
    "duration": 4,
    "start_time": "2023-02-02T21:16:23.312Z"
   },
   {
    "duration": 117,
    "start_time": "2023-02-02T21:16:24.126Z"
   },
   {
    "duration": 17,
    "start_time": "2023-02-02T21:16:25.622Z"
   },
   {
    "duration": 4,
    "start_time": "2023-02-02T21:16:31.022Z"
   },
   {
    "duration": 319,
    "start_time": "2023-02-02T21:16:32.240Z"
   },
   {
    "duration": 663,
    "start_time": "2023-02-02T21:16:33.972Z"
   },
   {
    "duration": 609,
    "start_time": "2023-02-02T21:16:35.914Z"
   },
   {
    "duration": 4,
    "start_time": "2023-02-02T21:16:47.320Z"
   },
   {
    "duration": 117,
    "start_time": "2023-02-02T21:16:47.947Z"
   },
   {
    "duration": 17,
    "start_time": "2023-02-02T21:16:49.820Z"
   },
   {
    "duration": 3,
    "start_time": "2023-02-02T21:16:51.865Z"
   },
   {
    "duration": 328,
    "start_time": "2023-02-02T21:16:54.150Z"
   },
   {
    "duration": 3,
    "start_time": "2023-02-02T21:16:57.521Z"
   },
   {
    "duration": 3,
    "start_time": "2023-02-02T21:17:12.537Z"
   },
   {
    "duration": 58,
    "start_time": "2023-02-02T21:17:13.605Z"
   },
   {
    "duration": 8,
    "start_time": "2023-02-02T21:17:14.748Z"
   },
   {
    "duration": 24,
    "start_time": "2023-02-02T21:17:17.590Z"
   },
   {
    "duration": 7,
    "start_time": "2023-02-02T21:17:41.289Z"
   },
   {
    "duration": 3,
    "start_time": "2023-02-02T21:18:42.164Z"
   },
   {
    "duration": 3,
    "start_time": "2023-02-02T21:18:56.728Z"
   },
   {
    "duration": 69,
    "start_time": "2023-02-02T21:18:57.235Z"
   },
   {
    "duration": 7,
    "start_time": "2023-02-02T21:18:58.527Z"
   },
   {
    "duration": 9,
    "start_time": "2023-02-02T21:19:34.822Z"
   },
   {
    "duration": 3,
    "start_time": "2023-02-02T21:20:03.954Z"
   },
   {
    "duration": 16,
    "start_time": "2023-02-02T21:20:08.988Z"
   },
   {
    "duration": 8,
    "start_time": "2023-02-02T21:20:10.545Z"
   },
   {
    "duration": 17,
    "start_time": "2023-02-02T21:20:20.049Z"
   },
   {
    "duration": 95,
    "start_time": "2023-02-02T21:26:24.500Z"
   },
   {
    "duration": 3,
    "start_time": "2023-02-02T21:27:37.698Z"
   },
   {
    "duration": 14,
    "start_time": "2023-02-02T21:27:43.260Z"
   },
   {
    "duration": 9,
    "start_time": "2023-02-02T21:27:44.228Z"
   },
   {
    "duration": 14,
    "start_time": "2023-02-02T21:27:47.845Z"
   },
   {
    "duration": 4,
    "start_time": "2023-02-02T21:28:30.086Z"
   },
   {
    "duration": 353,
    "start_time": "2023-02-02T21:28:30.725Z"
   },
   {
    "duration": 5,
    "start_time": "2023-02-02T21:28:31.500Z"
   },
   {
    "duration": 15,
    "start_time": "2023-02-02T21:28:41.069Z"
   },
   {
    "duration": 8,
    "start_time": "2023-02-02T21:28:43.958Z"
   },
   {
    "duration": 4,
    "start_time": "2023-02-02T21:28:49.592Z"
   },
   {
    "duration": 122,
    "start_time": "2023-02-02T21:28:52.020Z"
   },
   {
    "duration": 18,
    "start_time": "2023-02-02T21:28:53.976Z"
   },
   {
    "duration": 3,
    "start_time": "2023-02-02T21:28:56.284Z"
   },
   {
    "duration": 336,
    "start_time": "2023-02-02T21:28:57.223Z"
   },
   {
    "duration": 5,
    "start_time": "2023-02-02T21:28:59.907Z"
   },
   {
    "duration": 52,
    "start_time": "2023-02-02T21:31:00.092Z"
   },
   {
    "duration": 3,
    "start_time": "2023-02-02T21:31:12.750Z"
   },
   {
    "duration": 15,
    "start_time": "2023-02-02T21:31:13.916Z"
   },
   {
    "duration": 7,
    "start_time": "2023-02-02T21:31:15.096Z"
   },
   {
    "duration": 16,
    "start_time": "2023-02-02T21:31:18.307Z"
   },
   {
    "duration": 4,
    "start_time": "2023-02-02T21:31:41.821Z"
   },
   {
    "duration": 3,
    "start_time": "2023-02-02T21:31:49.305Z"
   },
   {
    "duration": 116,
    "start_time": "2023-02-02T21:31:49.838Z"
   },
   {
    "duration": 16,
    "start_time": "2023-02-02T21:31:51.940Z"
   },
   {
    "duration": 4,
    "start_time": "2023-02-02T21:31:53.463Z"
   },
   {
    "duration": 327,
    "start_time": "2023-02-02T21:31:54.240Z"
   },
   {
    "duration": 4,
    "start_time": "2023-02-02T21:31:55.321Z"
   },
   {
    "duration": 3,
    "start_time": "2023-02-02T21:32:03.399Z"
   },
   {
    "duration": 202,
    "start_time": "2023-02-02T21:32:04.702Z"
   },
   {
    "duration": 3,
    "start_time": "2023-02-02T21:32:10.661Z"
   },
   {
    "duration": 14,
    "start_time": "2023-02-02T21:32:14.174Z"
   },
   {
    "duration": 8,
    "start_time": "2023-02-02T21:32:15.537Z"
   },
   {
    "duration": 4,
    "start_time": "2023-02-02T21:33:32.485Z"
   },
   {
    "duration": 4,
    "start_time": "2023-02-02T21:33:38.134Z"
   },
   {
    "duration": 113,
    "start_time": "2023-02-02T21:33:38.601Z"
   },
   {
    "duration": 4,
    "start_time": "2023-02-02T21:33:39.929Z"
   },
   {
    "duration": 311,
    "start_time": "2023-02-02T21:33:40.628Z"
   },
   {
    "duration": 5,
    "start_time": "2023-02-02T21:33:42.104Z"
   },
   {
    "duration": 3,
    "start_time": "2023-02-02T21:33:43.538Z"
   },
   {
    "duration": 14,
    "start_time": "2023-02-02T21:33:44.362Z"
   },
   {
    "duration": 8,
    "start_time": "2023-02-02T21:33:45.441Z"
   },
   {
    "duration": 3,
    "start_time": "2023-02-02T21:34:03.277Z"
   },
   {
    "duration": 15,
    "start_time": "2023-02-02T21:34:07.133Z"
   },
   {
    "duration": 8,
    "start_time": "2023-02-02T21:34:07.973Z"
   },
   {
    "duration": 26,
    "start_time": "2023-02-02T21:35:09.227Z"
   },
   {
    "duration": 8,
    "start_time": "2023-02-02T21:35:10.168Z"
   },
   {
    "duration": 3,
    "start_time": "2023-02-02T21:36:35.290Z"
   },
   {
    "duration": 65,
    "start_time": "2023-02-02T21:36:36.329Z"
   },
   {
    "duration": 10,
    "start_time": "2023-02-02T21:36:37.368Z"
   },
   {
    "duration": 24,
    "start_time": "2023-02-02T21:36:50.555Z"
   },
   {
    "duration": 3,
    "start_time": "2023-02-02T21:37:02.732Z"
   },
   {
    "duration": 25,
    "start_time": "2023-02-02T21:37:03.803Z"
   },
   {
    "duration": 8,
    "start_time": "2023-02-02T21:37:05.147Z"
   },
   {
    "duration": 3,
    "start_time": "2023-02-02T21:39:21.592Z"
   },
   {
    "duration": 56,
    "start_time": "2023-02-02T21:39:22.985Z"
   },
   {
    "duration": 8,
    "start_time": "2023-02-02T21:39:24.093Z"
   },
   {
    "duration": 3,
    "start_time": "2023-02-02T21:43:15.824Z"
   },
   {
    "duration": 3,
    "start_time": "2023-02-02T21:43:19.248Z"
   },
   {
    "duration": 110,
    "start_time": "2023-02-02T21:43:19.781Z"
   },
   {
    "duration": 18,
    "start_time": "2023-02-02T21:43:21.174Z"
   },
   {
    "duration": 3,
    "start_time": "2023-02-02T21:43:24.592Z"
   },
   {
    "duration": 342,
    "start_time": "2023-02-02T21:43:26.271Z"
   },
   {
    "duration": 4,
    "start_time": "2023-02-02T21:43:29.105Z"
   },
   {
    "duration": 3,
    "start_time": "2023-02-02T21:43:35.853Z"
   },
   {
    "duration": 3,
    "start_time": "2023-02-02T21:43:47.648Z"
   },
   {
    "duration": 57,
    "start_time": "2023-02-02T21:43:48.525Z"
   },
   {
    "duration": 7,
    "start_time": "2023-02-02T21:43:50.886Z"
   },
   {
    "duration": 11,
    "start_time": "2023-02-02T21:44:36.802Z"
   },
   {
    "duration": 8,
    "start_time": "2023-02-02T21:44:58.028Z"
   },
   {
    "duration": 14,
    "start_time": "2023-02-02T21:45:00.089Z"
   },
   {
    "duration": 5,
    "start_time": "2023-02-02T21:45:32.900Z"
   },
   {
    "duration": 4,
    "start_time": "2023-02-02T21:45:49.151Z"
   },
   {
    "duration": 27,
    "start_time": "2023-02-02T21:46:02.347Z"
   },
   {
    "duration": 4,
    "start_time": "2023-02-02T21:46:19.475Z"
   },
   {
    "duration": 112,
    "start_time": "2023-02-02T21:46:21.279Z"
   },
   {
    "duration": 16,
    "start_time": "2023-02-02T21:46:23.268Z"
   },
   {
    "duration": 4,
    "start_time": "2023-02-02T21:46:31.477Z"
   },
   {
    "duration": 310,
    "start_time": "2023-02-02T21:46:32.652Z"
   },
   {
    "duration": 4,
    "start_time": "2023-02-02T21:46:33.841Z"
   },
   {
    "duration": 3,
    "start_time": "2023-02-02T21:46:37.683Z"
   },
   {
    "duration": 64,
    "start_time": "2023-02-02T21:46:38.812Z"
   },
   {
    "duration": 8,
    "start_time": "2023-02-02T21:46:41.390Z"
   },
   {
    "duration": 4,
    "start_time": "2023-02-02T21:46:43.527Z"
   },
   {
    "duration": 5,
    "start_time": "2023-02-02T21:46:51.627Z"
   },
   {
    "duration": 13,
    "start_time": "2023-02-02T21:47:18.024Z"
   },
   {
    "duration": 109,
    "start_time": "2023-02-02T21:48:21.000Z"
   },
   {
    "duration": 18,
    "start_time": "2023-02-02T21:48:24.321Z"
   },
   {
    "duration": 3,
    "start_time": "2023-02-02T21:48:27.836Z"
   },
   {
    "duration": 335,
    "start_time": "2023-02-02T21:48:29.170Z"
   },
   {
    "duration": 4,
    "start_time": "2023-02-02T21:48:30.309Z"
   },
   {
    "duration": 3,
    "start_time": "2023-02-02T21:48:31.841Z"
   },
   {
    "duration": 57,
    "start_time": "2023-02-02T21:48:33.490Z"
   },
   {
    "duration": 8,
    "start_time": "2023-02-02T21:48:35.104Z"
   },
   {
    "duration": 8,
    "start_time": "2023-02-02T21:48:42.111Z"
   },
   {
    "duration": 9,
    "start_time": "2023-02-02T21:48:48.040Z"
   },
   {
    "duration": 9,
    "start_time": "2023-02-02T21:49:15.669Z"
   },
   {
    "duration": 5,
    "start_time": "2023-02-02T21:49:29.209Z"
   },
   {
    "duration": 3,
    "start_time": "2023-02-02T21:53:12.070Z"
   },
   {
    "duration": 20,
    "start_time": "2023-02-02T21:53:13.616Z"
   },
   {
    "duration": 4,
    "start_time": "2023-02-02T21:53:21.039Z"
   },
   {
    "duration": 46,
    "start_time": "2023-02-02T21:53:29.523Z"
   },
   {
    "duration": 1070,
    "start_time": "2023-02-02T21:53:38.022Z"
   },
   {
    "duration": 127,
    "start_time": "2023-02-02T21:53:39.093Z"
   },
   {
    "duration": 16,
    "start_time": "2023-02-02T21:53:39.222Z"
   },
   {
    "duration": 2110,
    "start_time": "2023-02-02T21:53:39.239Z"
   },
   {
    "duration": 12,
    "start_time": "2023-02-02T21:53:41.352Z"
   },
   {
    "duration": 8,
    "start_time": "2023-02-02T21:53:41.366Z"
   },
   {
    "duration": 6,
    "start_time": "2023-02-02T21:53:41.376Z"
   },
   {
    "duration": 9,
    "start_time": "2023-02-02T21:53:41.384Z"
   },
   {
    "duration": 5,
    "start_time": "2023-02-02T21:53:41.394Z"
   },
   {
    "duration": 8,
    "start_time": "2023-02-02T21:53:41.401Z"
   },
   {
    "duration": 9,
    "start_time": "2023-02-02T21:53:41.410Z"
   },
   {
    "duration": 4,
    "start_time": "2023-02-02T21:53:41.421Z"
   },
   {
    "duration": 7,
    "start_time": "2023-02-02T21:53:41.426Z"
   },
   {
    "duration": 5,
    "start_time": "2023-02-02T21:53:41.436Z"
   },
   {
    "duration": 10,
    "start_time": "2023-02-02T21:53:41.443Z"
   },
   {
    "duration": 8,
    "start_time": "2023-02-02T21:53:41.491Z"
   },
   {
    "duration": 3,
    "start_time": "2023-02-02T21:53:41.500Z"
   },
   {
    "duration": 5,
    "start_time": "2023-02-02T21:53:41.505Z"
   },
   {
    "duration": 11,
    "start_time": "2023-02-02T21:53:41.511Z"
   },
   {
    "duration": 5,
    "start_time": "2023-02-02T21:53:41.523Z"
   },
   {
    "duration": 10,
    "start_time": "2023-02-02T21:53:41.529Z"
   },
   {
    "duration": 278,
    "start_time": "2023-02-02T21:53:41.541Z"
   },
   {
    "duration": 5,
    "start_time": "2023-02-02T21:53:41.820Z"
   },
   {
    "duration": 18,
    "start_time": "2023-02-02T21:53:41.827Z"
   },
   {
    "duration": 22,
    "start_time": "2023-02-02T21:53:41.847Z"
   },
   {
    "duration": 13,
    "start_time": "2023-02-02T21:53:41.871Z"
   },
   {
    "duration": 21,
    "start_time": "2023-02-02T21:53:41.887Z"
   },
   {
    "duration": 14,
    "start_time": "2023-02-02T21:53:41.910Z"
   },
   {
    "duration": 12,
    "start_time": "2023-02-02T21:53:41.926Z"
   },
   {
    "duration": 21,
    "start_time": "2023-02-02T21:53:41.941Z"
   },
   {
    "duration": 47,
    "start_time": "2023-02-02T21:53:41.964Z"
   },
   {
    "duration": 12,
    "start_time": "2023-02-02T21:53:42.013Z"
   },
   {
    "duration": 23,
    "start_time": "2023-02-02T21:53:42.027Z"
   },
   {
    "duration": 23,
    "start_time": "2023-02-02T21:53:42.052Z"
   },
   {
    "duration": 17,
    "start_time": "2023-02-02T21:53:42.076Z"
   },
   {
    "duration": 8,
    "start_time": "2023-02-02T21:53:42.095Z"
   },
   {
    "duration": 130,
    "start_time": "2023-02-02T21:53:42.105Z"
   },
   {
    "duration": 17,
    "start_time": "2023-02-02T21:53:42.236Z"
   },
   {
    "duration": 3,
    "start_time": "2023-02-02T21:53:42.255Z"
   },
   {
    "duration": 407,
    "start_time": "2023-02-02T21:53:42.260Z"
   },
   {
    "duration": 4,
    "start_time": "2023-02-02T21:53:42.670Z"
   },
   {
    "duration": 16,
    "start_time": "2023-02-02T21:53:42.676Z"
   },
   {
    "duration": 65,
    "start_time": "2023-02-02T21:53:42.694Z"
   },
   {
    "duration": 10,
    "start_time": "2023-02-02T21:53:42.760Z"
   },
   {
    "duration": 9,
    "start_time": "2023-02-02T21:53:42.772Z"
   },
   {
    "duration": 7,
    "start_time": "2023-02-02T21:54:29.596Z"
   },
   {
    "duration": 3,
    "start_time": "2023-02-02T21:54:33.093Z"
   },
   {
    "duration": 10,
    "start_time": "2023-02-02T21:54:34.903Z"
   },
   {
    "duration": 13,
    "start_time": "2023-02-02T21:54:45.399Z"
   },
   {
    "duration": 4,
    "start_time": "2023-02-02T21:55:36.459Z"
   },
   {
    "duration": 15,
    "start_time": "2023-02-02T22:02:21.650Z"
   },
   {
    "duration": 18,
    "start_time": "2023-02-02T22:02:49.264Z"
   },
   {
    "duration": 60,
    "start_time": "2023-02-02T22:04:02.897Z"
   },
   {
    "duration": 11,
    "start_time": "2023-02-02T22:04:04.162Z"
   },
   {
    "duration": 5,
    "start_time": "2023-02-02T22:04:21.604Z"
   },
   {
    "duration": 771,
    "start_time": "2023-02-02T22:08:27.113Z"
   },
   {
    "duration": 9,
    "start_time": "2023-02-02T22:09:20.292Z"
   },
   {
    "duration": 9,
    "start_time": "2023-02-02T22:09:31.828Z"
   },
   {
    "duration": 9,
    "start_time": "2023-02-02T22:10:08.572Z"
   },
   {
    "duration": 8,
    "start_time": "2023-02-02T22:10:09.981Z"
   },
   {
    "duration": 9,
    "start_time": "2023-02-02T22:10:34.284Z"
   },
   {
    "duration": 4,
    "start_time": "2023-02-02T22:11:20.638Z"
   },
   {
    "duration": 379,
    "start_time": "2023-02-02T22:11:21.463Z"
   },
   {
    "duration": 10,
    "start_time": "2023-02-02T22:13:51.524Z"
   },
   {
    "duration": 11,
    "start_time": "2023-02-02T22:14:28.325Z"
   },
   {
    "duration": 133,
    "start_time": "2023-02-03T05:06:31.282Z"
   },
   {
    "duration": 75,
    "start_time": "2023-02-03T05:07:11.117Z"
   },
   {
    "duration": 47,
    "start_time": "2023-02-03T05:11:49.269Z"
   },
   {
    "duration": 456,
    "start_time": "2023-02-03T05:12:00.868Z"
   },
   {
    "duration": 451,
    "start_time": "2023-02-03T05:12:12.790Z"
   },
   {
    "duration": 9,
    "start_time": "2023-02-03T05:12:23.432Z"
   },
   {
    "duration": 10,
    "start_time": "2023-02-03T05:12:37.038Z"
   },
   {
    "duration": 13,
    "start_time": "2023-02-03T05:14:07.844Z"
   },
   {
    "duration": 78,
    "start_time": "2023-02-03T05:14:11.087Z"
   },
   {
    "duration": 18,
    "start_time": "2023-02-03T05:14:39.345Z"
   },
   {
    "duration": 18,
    "start_time": "2023-02-03T05:14:53.567Z"
   },
   {
    "duration": 20,
    "start_time": "2023-02-03T05:16:18.139Z"
   },
   {
    "duration": 22,
    "start_time": "2023-02-03T05:16:27.484Z"
   },
   {
    "duration": 58,
    "start_time": "2023-02-03T05:16:54.163Z"
   },
   {
    "duration": 9,
    "start_time": "2023-02-03T05:17:02.567Z"
   },
   {
    "duration": 8,
    "start_time": "2023-02-03T05:17:17.806Z"
   },
   {
    "duration": 23,
    "start_time": "2023-02-03T05:18:28.441Z"
   },
   {
    "duration": 210,
    "start_time": "2023-02-03T05:18:37.577Z"
   },
   {
    "duration": 155,
    "start_time": "2023-02-03T05:18:47.568Z"
   },
   {
    "duration": 11,
    "start_time": "2023-02-03T05:18:56.432Z"
   },
   {
    "duration": 116,
    "start_time": "2023-02-03T05:20:34.150Z"
   },
   {
    "duration": 132,
    "start_time": "2023-02-03T05:20:48.567Z"
   },
   {
    "duration": 136,
    "start_time": "2023-02-03T05:21:00.394Z"
   },
   {
    "duration": 15,
    "start_time": "2023-02-03T05:24:25.292Z"
   },
   {
    "duration": 16,
    "start_time": "2023-02-03T05:24:29.749Z"
   },
   {
    "duration": 12,
    "start_time": "2023-02-03T05:32:23.593Z"
   },
   {
    "duration": 8,
    "start_time": "2023-02-03T05:33:13.259Z"
   },
   {
    "duration": 7,
    "start_time": "2023-02-03T05:34:36.636Z"
   },
   {
    "duration": 8,
    "start_time": "2023-02-03T05:36:47.859Z"
   },
   {
    "duration": 7,
    "start_time": "2023-02-03T05:36:55.581Z"
   },
   {
    "duration": 73,
    "start_time": "2023-02-03T05:37:46.028Z"
   },
   {
    "duration": 9,
    "start_time": "2023-02-03T05:38:37.622Z"
   },
   {
    "duration": 119,
    "start_time": "2023-02-03T05:38:51.218Z"
   },
   {
    "duration": 3,
    "start_time": "2023-02-03T05:38:55.331Z"
   },
   {
    "duration": 113,
    "start_time": "2023-02-03T05:38:55.336Z"
   },
   {
    "duration": 42,
    "start_time": "2023-02-03T05:38:55.451Z"
   },
   {
    "duration": 2333,
    "start_time": "2023-02-03T05:38:55.495Z"
   },
   {
    "duration": 14,
    "start_time": "2023-02-03T05:38:57.830Z"
   },
   {
    "duration": 8,
    "start_time": "2023-02-03T05:38:57.845Z"
   },
   {
    "duration": 6,
    "start_time": "2023-02-03T05:38:57.854Z"
   },
   {
    "duration": 31,
    "start_time": "2023-02-03T05:38:57.861Z"
   },
   {
    "duration": 6,
    "start_time": "2023-02-03T05:38:57.894Z"
   },
   {
    "duration": 12,
    "start_time": "2023-02-03T05:38:57.902Z"
   },
   {
    "duration": 11,
    "start_time": "2023-02-03T05:38:57.915Z"
   },
   {
    "duration": 8,
    "start_time": "2023-02-03T05:38:57.927Z"
   },
   {
    "duration": 10,
    "start_time": "2023-02-03T05:38:57.936Z"
   },
   {
    "duration": 5,
    "start_time": "2023-02-03T05:38:57.948Z"
   },
   {
    "duration": 39,
    "start_time": "2023-02-03T05:38:57.955Z"
   },
   {
    "duration": 9,
    "start_time": "2023-02-03T05:38:57.996Z"
   },
   {
    "duration": 4,
    "start_time": "2023-02-03T05:38:58.007Z"
   },
   {
    "duration": 4,
    "start_time": "2023-02-03T05:38:58.013Z"
   },
   {
    "duration": 8,
    "start_time": "2023-02-03T05:38:58.019Z"
   },
   {
    "duration": 6,
    "start_time": "2023-02-03T05:38:58.030Z"
   },
   {
    "duration": 24,
    "start_time": "2023-02-03T05:38:58.037Z"
   },
   {
    "duration": 268,
    "start_time": "2023-02-03T05:38:58.063Z"
   },
   {
    "duration": 5,
    "start_time": "2023-02-03T05:38:58.333Z"
   },
   {
    "duration": 12,
    "start_time": "2023-02-03T05:38:58.344Z"
   },
   {
    "duration": 12,
    "start_time": "2023-02-03T05:38:58.358Z"
   },
   {
    "duration": 25,
    "start_time": "2023-02-03T05:38:58.372Z"
   },
   {
    "duration": 16,
    "start_time": "2023-02-03T05:38:58.399Z"
   },
   {
    "duration": 21,
    "start_time": "2023-02-03T05:38:58.417Z"
   },
   {
    "duration": 12,
    "start_time": "2023-02-03T05:38:58.440Z"
   },
   {
    "duration": 11,
    "start_time": "2023-02-03T05:38:58.453Z"
   },
   {
    "duration": 15,
    "start_time": "2023-02-03T05:38:58.465Z"
   },
   {
    "duration": 26,
    "start_time": "2023-02-03T05:38:58.481Z"
   },
   {
    "duration": 30,
    "start_time": "2023-02-03T05:38:58.509Z"
   },
   {
    "duration": 26,
    "start_time": "2023-02-03T05:38:58.541Z"
   },
   {
    "duration": 4,
    "start_time": "2023-02-03T05:38:58.570Z"
   },
   {
    "duration": 24,
    "start_time": "2023-02-03T05:38:58.575Z"
   },
   {
    "duration": 134,
    "start_time": "2023-02-03T05:38:58.601Z"
   },
   {
    "duration": 11,
    "start_time": "2023-02-03T05:38:58.737Z"
   },
   {
    "duration": 4,
    "start_time": "2023-02-03T05:38:58.750Z"
   },
   {
    "duration": 392,
    "start_time": "2023-02-03T05:38:58.755Z"
   },
   {
    "duration": 5,
    "start_time": "2023-02-03T05:38:59.148Z"
   },
   {
    "duration": 9,
    "start_time": "2023-02-03T05:38:59.154Z"
   },
   {
    "duration": 111,
    "start_time": "2023-02-03T05:38:59.164Z"
   },
   {
    "duration": 15,
    "start_time": "2023-02-03T05:38:59.277Z"
   },
   {
    "duration": 5,
    "start_time": "2023-02-03T05:38:59.293Z"
   },
   {
    "duration": 66,
    "start_time": "2023-02-03T05:38:59.300Z"
   },
   {
    "duration": 39,
    "start_time": "2023-02-03T05:38:59.368Z"
   },
   {
    "duration": 135,
    "start_time": "2023-02-03T05:38:59.409Z"
   },
   {
    "duration": 8,
    "start_time": "2023-02-03T05:38:59.546Z"
   },
   {
    "duration": 14,
    "start_time": "2023-02-03T05:38:59.556Z"
   },
   {
    "duration": 21,
    "start_time": "2023-02-03T05:38:59.571Z"
   },
   {
    "duration": 3,
    "start_time": "2023-02-03T05:39:05.005Z"
   },
   {
    "duration": 1152,
    "start_time": "2023-02-03T05:39:09.219Z"
   },
   {
    "duration": 124,
    "start_time": "2023-02-03T05:39:10.373Z"
   },
   {
    "duration": 15,
    "start_time": "2023-02-03T05:39:10.499Z"
   },
   {
    "duration": 2021,
    "start_time": "2023-02-03T05:39:10.516Z"
   },
   {
    "duration": 12,
    "start_time": "2023-02-03T05:39:12.539Z"
   },
   {
    "duration": 7,
    "start_time": "2023-02-03T05:39:12.553Z"
   },
   {
    "duration": 5,
    "start_time": "2023-02-03T05:39:12.561Z"
   },
   {
    "duration": 8,
    "start_time": "2023-02-03T05:39:12.567Z"
   },
   {
    "duration": 18,
    "start_time": "2023-02-03T05:39:12.576Z"
   },
   {
    "duration": 10,
    "start_time": "2023-02-03T05:39:12.596Z"
   },
   {
    "duration": 11,
    "start_time": "2023-02-03T05:39:12.608Z"
   },
   {
    "duration": 5,
    "start_time": "2023-02-03T05:39:12.620Z"
   },
   {
    "duration": 20,
    "start_time": "2023-02-03T05:39:12.626Z"
   },
   {
    "duration": 6,
    "start_time": "2023-02-03T05:39:12.649Z"
   },
   {
    "duration": 10,
    "start_time": "2023-02-03T05:39:12.657Z"
   },
   {
    "duration": 9,
    "start_time": "2023-02-03T05:39:12.692Z"
   },
   {
    "duration": 6,
    "start_time": "2023-02-03T05:39:12.703Z"
   },
   {
    "duration": 9,
    "start_time": "2023-02-03T05:39:12.712Z"
   },
   {
    "duration": 9,
    "start_time": "2023-02-03T05:39:12.722Z"
   },
   {
    "duration": 5,
    "start_time": "2023-02-03T05:39:12.733Z"
   },
   {
    "duration": 11,
    "start_time": "2023-02-03T05:39:12.739Z"
   },
   {
    "duration": 279,
    "start_time": "2023-02-03T05:39:12.751Z"
   },
   {
    "duration": 6,
    "start_time": "2023-02-03T05:39:13.032Z"
   },
   {
    "duration": 6,
    "start_time": "2023-02-03T05:39:13.040Z"
   },
   {
    "duration": 13,
    "start_time": "2023-02-03T05:39:13.048Z"
   },
   {
    "duration": 7,
    "start_time": "2023-02-03T05:39:13.063Z"
   },
   {
    "duration": 9,
    "start_time": "2023-02-03T05:39:13.095Z"
   },
   {
    "duration": 22,
    "start_time": "2023-02-03T05:39:13.106Z"
   },
   {
    "duration": 13,
    "start_time": "2023-02-03T05:39:13.129Z"
   },
   {
    "duration": 7,
    "start_time": "2023-02-03T05:39:13.144Z"
   },
   {
    "duration": 7,
    "start_time": "2023-02-03T05:39:13.153Z"
   },
   {
    "duration": 31,
    "start_time": "2023-02-03T05:39:13.161Z"
   },
   {
    "duration": 32,
    "start_time": "2023-02-03T05:39:13.194Z"
   },
   {
    "duration": 11,
    "start_time": "2023-02-03T05:39:13.229Z"
   },
   {
    "duration": 3,
    "start_time": "2023-02-03T05:39:13.242Z"
   },
   {
    "duration": 9,
    "start_time": "2023-02-03T05:39:13.248Z"
   },
   {
    "duration": 142,
    "start_time": "2023-02-03T05:39:13.258Z"
   },
   {
    "duration": 13,
    "start_time": "2023-02-03T05:39:13.402Z"
   },
   {
    "duration": 4,
    "start_time": "2023-02-03T05:39:13.417Z"
   },
   {
    "duration": 448,
    "start_time": "2023-02-03T05:39:13.423Z"
   },
   {
    "duration": 4,
    "start_time": "2023-02-03T05:39:13.875Z"
   },
   {
    "duration": 14,
    "start_time": "2023-02-03T05:39:13.881Z"
   },
   {
    "duration": 58,
    "start_time": "2023-02-03T05:39:13.897Z"
   },
   {
    "duration": 11,
    "start_time": "2023-02-03T05:39:13.957Z"
   },
   {
    "duration": 24,
    "start_time": "2023-02-03T05:39:13.969Z"
   },
   {
    "duration": 66,
    "start_time": "2023-02-03T05:39:13.995Z"
   },
   {
    "duration": 31,
    "start_time": "2023-02-03T05:39:14.063Z"
   },
   {
    "duration": 147,
    "start_time": "2023-02-03T05:39:14.096Z"
   },
   {
    "duration": 11,
    "start_time": "2023-02-03T05:39:14.245Z"
   },
   {
    "duration": 15,
    "start_time": "2023-02-03T05:39:14.258Z"
   },
   {
    "duration": 24,
    "start_time": "2023-02-03T05:39:14.275Z"
   },
   {
    "duration": 110,
    "start_time": "2023-02-03T05:42:21.481Z"
   },
   {
    "duration": 563,
    "start_time": "2023-02-03T05:42:46.818Z"
   },
   {
    "duration": 10,
    "start_time": "2023-02-03T05:43:07.019Z"
   },
   {
    "duration": 1126,
    "start_time": "2023-02-03T05:43:14.354Z"
   },
   {
    "duration": 125,
    "start_time": "2023-02-03T05:43:15.482Z"
   },
   {
    "duration": 15,
    "start_time": "2023-02-03T05:43:15.609Z"
   },
   {
    "duration": 1975,
    "start_time": "2023-02-03T05:43:15.626Z"
   },
   {
    "duration": 12,
    "start_time": "2023-02-03T05:43:17.603Z"
   },
   {
    "duration": 10,
    "start_time": "2023-02-03T05:43:17.617Z"
   },
   {
    "duration": 5,
    "start_time": "2023-02-03T05:43:17.629Z"
   },
   {
    "duration": 8,
    "start_time": "2023-02-03T05:43:17.636Z"
   },
   {
    "duration": 12,
    "start_time": "2023-02-03T05:43:17.646Z"
   },
   {
    "duration": 9,
    "start_time": "2023-02-03T05:43:17.661Z"
   },
   {
    "duration": 26,
    "start_time": "2023-02-03T05:43:17.671Z"
   },
   {
    "duration": 5,
    "start_time": "2023-02-03T05:43:17.698Z"
   },
   {
    "duration": 7,
    "start_time": "2023-02-03T05:43:17.705Z"
   },
   {
    "duration": 6,
    "start_time": "2023-02-03T05:43:17.714Z"
   },
   {
    "duration": 12,
    "start_time": "2023-02-03T05:43:17.721Z"
   },
   {
    "duration": 6,
    "start_time": "2023-02-03T05:43:17.736Z"
   },
   {
    "duration": 3,
    "start_time": "2023-02-03T05:43:17.744Z"
   },
   {
    "duration": 5,
    "start_time": "2023-02-03T05:43:17.748Z"
   },
   {
    "duration": 5,
    "start_time": "2023-02-03T05:43:17.793Z"
   },
   {
    "duration": 4,
    "start_time": "2023-02-03T05:43:17.800Z"
   },
   {
    "duration": 11,
    "start_time": "2023-02-03T05:43:17.806Z"
   },
   {
    "duration": 264,
    "start_time": "2023-02-03T05:43:17.819Z"
   },
   {
    "duration": 9,
    "start_time": "2023-02-03T05:43:18.085Z"
   },
   {
    "duration": 6,
    "start_time": "2023-02-03T05:43:18.096Z"
   },
   {
    "duration": 11,
    "start_time": "2023-02-03T05:43:18.104Z"
   },
   {
    "duration": 9,
    "start_time": "2023-02-03T05:43:18.116Z"
   },
   {
    "duration": 13,
    "start_time": "2023-02-03T05:43:18.127Z"
   },
   {
    "duration": 15,
    "start_time": "2023-02-03T05:43:18.145Z"
   },
   {
    "duration": 40,
    "start_time": "2023-02-03T05:43:18.162Z"
   },
   {
    "duration": 7,
    "start_time": "2023-02-03T05:43:18.204Z"
   },
   {
    "duration": 8,
    "start_time": "2023-02-03T05:43:18.212Z"
   },
   {
    "duration": 7,
    "start_time": "2023-02-03T05:43:18.222Z"
   },
   {
    "duration": 25,
    "start_time": "2023-02-03T05:43:18.231Z"
   },
   {
    "duration": 39,
    "start_time": "2023-02-03T05:43:18.257Z"
   },
   {
    "duration": 3,
    "start_time": "2023-02-03T05:43:18.298Z"
   },
   {
    "duration": 10,
    "start_time": "2023-02-03T05:43:18.303Z"
   },
   {
    "duration": 122,
    "start_time": "2023-02-03T05:43:18.314Z"
   },
   {
    "duration": 10,
    "start_time": "2023-02-03T05:43:18.438Z"
   },
   {
    "duration": 4,
    "start_time": "2023-02-03T05:43:18.449Z"
   },
   {
    "duration": 394,
    "start_time": "2023-02-03T05:43:18.454Z"
   },
   {
    "duration": 4,
    "start_time": "2023-02-03T05:43:18.849Z"
   },
   {
    "duration": 6,
    "start_time": "2023-02-03T05:43:18.855Z"
   },
   {
    "duration": 68,
    "start_time": "2023-02-03T05:43:18.862Z"
   },
   {
    "duration": 11,
    "start_time": "2023-02-03T05:43:18.932Z"
   },
   {
    "duration": 9,
    "start_time": "2023-02-03T05:43:18.945Z"
   },
   {
    "duration": 79,
    "start_time": "2023-02-03T05:43:18.956Z"
   },
   {
    "duration": 14,
    "start_time": "2023-02-03T05:43:19.037Z"
   },
   {
    "duration": 138,
    "start_time": "2023-02-03T05:43:19.053Z"
   },
   {
    "duration": 10,
    "start_time": "2023-02-03T05:43:19.193Z"
   },
   {
    "duration": 9,
    "start_time": "2023-02-03T05:43:19.205Z"
   },
   {
    "duration": 5,
    "start_time": "2023-02-03T05:43:19.216Z"
   },
   {
    "duration": 61,
    "start_time": "2023-02-03T05:43:30.437Z"
   },
   {
    "duration": 61,
    "start_time": "2023-02-03T05:44:11.860Z"
   },
   {
    "duration": 167,
    "start_time": "2023-02-03T05:46:47.842Z"
   },
   {
    "duration": 185,
    "start_time": "2023-02-03T05:47:03.548Z"
   },
   {
    "duration": 399,
    "start_time": "2023-02-03T05:47:07.922Z"
   },
   {
    "duration": 321,
    "start_time": "2023-02-03T05:47:12.180Z"
   },
   {
    "duration": 209,
    "start_time": "2023-02-03T05:47:23.991Z"
   },
   {
    "duration": 23,
    "start_time": "2023-02-03T05:47:49.386Z"
   },
   {
    "duration": 51,
    "start_time": "2023-02-03T05:48:01.718Z"
   },
   {
    "duration": 37,
    "start_time": "2023-02-03T05:48:03.130Z"
   },
   {
    "duration": 25,
    "start_time": "2023-02-03T05:48:11.030Z"
   },
   {
    "duration": 24,
    "start_time": "2023-02-03T05:48:16.301Z"
   },
   {
    "duration": 25,
    "start_time": "2023-02-03T05:48:30.517Z"
   },
   {
    "duration": 25,
    "start_time": "2023-02-03T05:48:45.517Z"
   },
   {
    "duration": 234,
    "start_time": "2023-02-03T05:48:51.299Z"
   },
   {
    "duration": 224,
    "start_time": "2023-02-03T05:49:00.168Z"
   },
   {
    "duration": 8,
    "start_time": "2023-02-03T05:49:30.206Z"
   },
   {
    "duration": 304,
    "start_time": "2023-02-03T05:49:53.242Z"
   },
   {
    "duration": 174,
    "start_time": "2023-02-03T05:50:12.078Z"
   },
   {
    "duration": 157,
    "start_time": "2023-02-03T05:50:21.057Z"
   },
   {
    "duration": 199,
    "start_time": "2023-02-03T05:50:32.336Z"
   },
   {
    "duration": 167,
    "start_time": "2023-02-03T05:50:38.667Z"
   },
   {
    "duration": 201,
    "start_time": "2023-02-03T05:50:44.722Z"
   },
   {
    "duration": 46,
    "start_time": "2023-02-03T05:51:23.636Z"
   },
   {
    "duration": 200,
    "start_time": "2023-02-03T05:51:27.082Z"
   },
   {
    "duration": 210,
    "start_time": "2023-02-03T05:51:34.873Z"
   },
   {
    "duration": 174,
    "start_time": "2023-02-03T05:51:47.997Z"
   },
   {
    "duration": 262,
    "start_time": "2023-02-03T05:51:53.777Z"
   },
   {
    "duration": 207,
    "start_time": "2023-02-03T05:52:05.488Z"
   },
   {
    "duration": 210,
    "start_time": "2023-02-03T05:52:48.717Z"
   },
   {
    "duration": 4,
    "start_time": "2023-02-03T05:52:52.384Z"
   },
   {
    "duration": 7,
    "start_time": "2023-02-03T05:52:58.040Z"
   },
   {
    "duration": 65,
    "start_time": "2023-02-03T05:53:06.968Z"
   },
   {
    "duration": 6,
    "start_time": "2023-02-03T05:53:40.681Z"
   },
   {
    "duration": 61,
    "start_time": "2023-02-03T05:53:41.920Z"
   },
   {
    "duration": 198,
    "start_time": "2023-02-03T05:53:54.443Z"
   },
   {
    "duration": 196,
    "start_time": "2023-02-03T05:54:03.454Z"
   },
   {
    "duration": 192,
    "start_time": "2023-02-03T05:54:10.668Z"
   },
   {
    "duration": 244,
    "start_time": "2023-02-03T05:54:36.482Z"
   },
   {
    "duration": 5,
    "start_time": "2023-02-03T05:55:01.281Z"
   },
   {
    "duration": 6,
    "start_time": "2023-02-03T05:55:08.017Z"
   },
   {
    "duration": 7,
    "start_time": "2023-02-03T05:57:53.849Z"
   },
   {
    "duration": 6,
    "start_time": "2023-02-03T05:59:01.976Z"
   },
   {
    "duration": 5,
    "start_time": "2023-02-03T05:59:32.284Z"
   },
   {
    "duration": 5,
    "start_time": "2023-02-03T06:00:11.947Z"
   },
   {
    "duration": 8,
    "start_time": "2023-02-03T06:00:14.618Z"
   },
   {
    "duration": 141,
    "start_time": "2023-02-03T06:00:30.176Z"
   },
   {
    "duration": 8,
    "start_time": "2023-02-03T06:00:37.206Z"
   },
   {
    "duration": 6,
    "start_time": "2023-02-03T06:00:39.681Z"
   },
   {
    "duration": 4,
    "start_time": "2023-02-03T06:00:45.565Z"
   },
   {
    "duration": 7,
    "start_time": "2023-02-03T06:00:50.729Z"
   },
   {
    "duration": 7,
    "start_time": "2023-02-03T06:01:12.161Z"
   },
   {
    "duration": 7,
    "start_time": "2023-02-03T06:01:14.249Z"
   },
   {
    "duration": 1153,
    "start_time": "2023-02-03T06:01:19.270Z"
   },
   {
    "duration": 114,
    "start_time": "2023-02-03T06:01:20.425Z"
   },
   {
    "duration": 14,
    "start_time": "2023-02-03T06:01:20.541Z"
   },
   {
    "duration": 2053,
    "start_time": "2023-02-03T06:01:20.556Z"
   },
   {
    "duration": 13,
    "start_time": "2023-02-03T06:01:22.611Z"
   },
   {
    "duration": 8,
    "start_time": "2023-02-03T06:01:22.626Z"
   },
   {
    "duration": 15,
    "start_time": "2023-02-03T06:01:22.636Z"
   },
   {
    "duration": 11,
    "start_time": "2023-02-03T06:01:22.653Z"
   },
   {
    "duration": 7,
    "start_time": "2023-02-03T06:01:22.666Z"
   },
   {
    "duration": 13,
    "start_time": "2023-02-03T06:01:22.675Z"
   },
   {
    "duration": 11,
    "start_time": "2023-02-03T06:01:22.689Z"
   },
   {
    "duration": 4,
    "start_time": "2023-02-03T06:01:22.702Z"
   },
   {
    "duration": 12,
    "start_time": "2023-02-03T06:01:22.708Z"
   },
   {
    "duration": 6,
    "start_time": "2023-02-03T06:01:22.722Z"
   },
   {
    "duration": 13,
    "start_time": "2023-02-03T06:01:22.729Z"
   },
   {
    "duration": 6,
    "start_time": "2023-02-03T06:01:22.744Z"
   },
   {
    "duration": 4,
    "start_time": "2023-02-03T06:01:22.752Z"
   },
   {
    "duration": 5,
    "start_time": "2023-02-03T06:01:22.757Z"
   },
   {
    "duration": 28,
    "start_time": "2023-02-03T06:01:22.764Z"
   },
   {
    "duration": 13,
    "start_time": "2023-02-03T06:01:22.794Z"
   },
   {
    "duration": 11,
    "start_time": "2023-02-03T06:01:22.809Z"
   },
   {
    "duration": 243,
    "start_time": "2023-02-03T06:01:22.821Z"
   },
   {
    "duration": 4,
    "start_time": "2023-02-03T06:01:23.066Z"
   },
   {
    "duration": 6,
    "start_time": "2023-02-03T06:01:23.071Z"
   },
   {
    "duration": 17,
    "start_time": "2023-02-03T06:01:23.078Z"
   },
   {
    "duration": 7,
    "start_time": "2023-02-03T06:01:23.097Z"
   },
   {
    "duration": 11,
    "start_time": "2023-02-03T06:01:23.106Z"
   },
   {
    "duration": 13,
    "start_time": "2023-02-03T06:01:23.120Z"
   },
   {
    "duration": 13,
    "start_time": "2023-02-03T06:01:23.135Z"
   },
   {
    "duration": 7,
    "start_time": "2023-02-03T06:01:23.150Z"
   },
   {
    "duration": 6,
    "start_time": "2023-02-03T06:01:23.192Z"
   },
   {
    "duration": 18,
    "start_time": "2023-02-03T06:01:23.200Z"
   },
   {
    "duration": 31,
    "start_time": "2023-02-03T06:01:23.220Z"
   },
   {
    "duration": 11,
    "start_time": "2023-02-03T06:01:23.252Z"
   },
   {
    "duration": 3,
    "start_time": "2023-02-03T06:01:23.265Z"
   },
   {
    "duration": 22,
    "start_time": "2023-02-03T06:01:23.270Z"
   },
   {
    "duration": 122,
    "start_time": "2023-02-03T06:01:23.294Z"
   },
   {
    "duration": 12,
    "start_time": "2023-02-03T06:01:23.417Z"
   },
   {
    "duration": 3,
    "start_time": "2023-02-03T06:01:23.431Z"
   },
   {
    "duration": 393,
    "start_time": "2023-02-03T06:01:23.435Z"
   },
   {
    "duration": 4,
    "start_time": "2023-02-03T06:01:23.830Z"
   },
   {
    "duration": 7,
    "start_time": "2023-02-03T06:01:23.836Z"
   },
   {
    "duration": 64,
    "start_time": "2023-02-03T06:01:23.845Z"
   },
   {
    "duration": 10,
    "start_time": "2023-02-03T06:01:23.911Z"
   },
   {
    "duration": 6,
    "start_time": "2023-02-03T06:01:23.923Z"
   },
   {
    "duration": 87,
    "start_time": "2023-02-03T06:01:23.931Z"
   },
   {
    "duration": 15,
    "start_time": "2023-02-03T06:01:24.019Z"
   },
   {
    "duration": 145,
    "start_time": "2023-02-03T06:01:24.036Z"
   },
   {
    "duration": 19,
    "start_time": "2023-02-03T06:01:24.182Z"
   },
   {
    "duration": 8,
    "start_time": "2023-02-03T06:01:24.202Z"
   },
   {
    "duration": 29,
    "start_time": "2023-02-03T06:01:24.212Z"
   },
   {
    "duration": 66,
    "start_time": "2023-02-03T06:01:24.243Z"
   },
   {
    "duration": 223,
    "start_time": "2023-02-03T06:01:24.310Z"
   },
   {
    "duration": 6,
    "start_time": "2023-02-03T06:01:24.535Z"
   },
   {
    "duration": 83,
    "start_time": "2023-02-03T06:01:24.543Z"
   },
   {
    "duration": 6,
    "start_time": "2023-02-03T06:01:24.628Z"
   },
   {
    "duration": 21,
    "start_time": "2023-02-03T06:01:24.636Z"
   },
   {
    "duration": 214,
    "start_time": "2023-02-03T06:07:21.481Z"
   },
   {
    "duration": 8,
    "start_time": "2023-02-03T06:08:05.746Z"
   },
   {
    "duration": 64,
    "start_time": "2023-02-03T06:08:07.318Z"
   },
   {
    "duration": 10,
    "start_time": "2023-02-03T06:11:45.468Z"
   },
   {
    "duration": 9,
    "start_time": "2023-02-03T06:12:22.804Z"
   },
   {
    "duration": 11,
    "start_time": "2023-02-03T06:12:39.776Z"
   },
   {
    "duration": 53,
    "start_time": "2023-02-03T06:14:32.645Z"
   },
   {
    "duration": 119,
    "start_time": "2023-02-03T06:17:06.053Z"
   },
   {
    "duration": 9,
    "start_time": "2023-02-03T06:17:44.835Z"
   },
   {
    "duration": 4,
    "start_time": "2023-02-03T06:18:19.668Z"
   },
   {
    "duration": 4,
    "start_time": "2023-02-03T06:18:47.077Z"
   },
   {
    "duration": 10,
    "start_time": "2023-02-03T06:18:51.323Z"
   },
   {
    "duration": 6,
    "start_time": "2023-02-03T06:21:34.732Z"
   },
   {
    "duration": 133,
    "start_time": "2023-02-03T06:21:51.525Z"
   },
   {
    "duration": 1161,
    "start_time": "2023-02-03T06:21:57.249Z"
   },
   {
    "duration": 117,
    "start_time": "2023-02-03T06:21:58.412Z"
   },
   {
    "duration": 14,
    "start_time": "2023-02-03T06:21:58.530Z"
   },
   {
    "duration": 2036,
    "start_time": "2023-02-03T06:21:58.545Z"
   },
   {
    "duration": 14,
    "start_time": "2023-02-03T06:22:00.583Z"
   },
   {
    "duration": 11,
    "start_time": "2023-02-03T06:22:00.599Z"
   },
   {
    "duration": 6,
    "start_time": "2023-02-03T06:22:00.612Z"
   },
   {
    "duration": 6,
    "start_time": "2023-02-03T06:22:00.620Z"
   },
   {
    "duration": 7,
    "start_time": "2023-02-03T06:22:00.628Z"
   },
   {
    "duration": 23,
    "start_time": "2023-02-03T06:22:00.637Z"
   },
   {
    "duration": 18,
    "start_time": "2023-02-03T06:22:00.662Z"
   },
   {
    "duration": 12,
    "start_time": "2023-02-03T06:22:00.691Z"
   },
   {
    "duration": 20,
    "start_time": "2023-02-03T06:22:00.705Z"
   },
   {
    "duration": 55,
    "start_time": "2023-02-03T06:22:00.728Z"
   },
   {
    "duration": 37,
    "start_time": "2023-02-03T06:22:00.785Z"
   },
   {
    "duration": 57,
    "start_time": "2023-02-03T06:22:00.824Z"
   },
   {
    "duration": 30,
    "start_time": "2023-02-03T06:22:00.883Z"
   },
   {
    "duration": 27,
    "start_time": "2023-02-03T06:22:00.915Z"
   },
   {
    "duration": 34,
    "start_time": "2023-02-03T06:22:00.944Z"
   },
   {
    "duration": 35,
    "start_time": "2023-02-03T06:22:00.980Z"
   },
   {
    "duration": 48,
    "start_time": "2023-02-03T06:22:01.016Z"
   },
   {
    "duration": 264,
    "start_time": "2023-02-03T06:22:01.065Z"
   },
   {
    "duration": 4,
    "start_time": "2023-02-03T06:22:01.331Z"
   },
   {
    "duration": 30,
    "start_time": "2023-02-03T06:22:01.337Z"
   },
   {
    "duration": 30,
    "start_time": "2023-02-03T06:22:01.369Z"
   },
   {
    "duration": 27,
    "start_time": "2023-02-03T06:22:01.401Z"
   },
   {
    "duration": 30,
    "start_time": "2023-02-03T06:22:01.429Z"
   },
   {
    "duration": 46,
    "start_time": "2023-02-03T06:22:01.461Z"
   },
   {
    "duration": 25,
    "start_time": "2023-02-03T06:22:01.509Z"
   },
   {
    "duration": 27,
    "start_time": "2023-02-03T06:22:01.536Z"
   },
   {
    "duration": 29,
    "start_time": "2023-02-03T06:22:01.566Z"
   },
   {
    "duration": 26,
    "start_time": "2023-02-03T06:22:01.597Z"
   },
   {
    "duration": 56,
    "start_time": "2023-02-03T06:22:01.625Z"
   },
   {
    "duration": 27,
    "start_time": "2023-02-03T06:22:01.683Z"
   },
   {
    "duration": 29,
    "start_time": "2023-02-03T06:22:01.712Z"
   },
   {
    "duration": 14,
    "start_time": "2023-02-03T06:22:01.743Z"
   },
   {
    "duration": 159,
    "start_time": "2023-02-03T06:22:01.758Z"
   },
   {
    "duration": 11,
    "start_time": "2023-02-03T06:22:01.918Z"
   },
   {
    "duration": 58,
    "start_time": "2023-02-03T06:22:01.931Z"
   },
   {
    "duration": 442,
    "start_time": "2023-02-03T06:22:01.991Z"
   },
   {
    "duration": 4,
    "start_time": "2023-02-03T06:22:02.437Z"
   },
   {
    "duration": 91,
    "start_time": "2023-02-03T06:22:02.442Z"
   },
   {
    "duration": 111,
    "start_time": "2023-02-03T06:22:02.534Z"
   },
   {
    "duration": 10,
    "start_time": "2023-02-03T06:22:02.646Z"
   },
   {
    "duration": 54,
    "start_time": "2023-02-03T06:22:02.657Z"
   },
   {
    "duration": 105,
    "start_time": "2023-02-03T06:22:02.712Z"
   },
   {
    "duration": 20,
    "start_time": "2023-02-03T06:22:02.819Z"
   },
   {
    "duration": 142,
    "start_time": "2023-02-03T06:22:02.842Z"
   },
   {
    "duration": 12,
    "start_time": "2023-02-03T06:22:02.985Z"
   },
   {
    "duration": 100,
    "start_time": "2023-02-03T06:22:02.999Z"
   },
   {
    "duration": 7,
    "start_time": "2023-02-03T06:22:03.100Z"
   },
   {
    "duration": 68,
    "start_time": "2023-02-03T06:22:03.109Z"
   },
   {
    "duration": 220,
    "start_time": "2023-02-03T06:22:03.179Z"
   },
   {
    "duration": 6,
    "start_time": "2023-02-03T06:22:03.400Z"
   },
   {
    "duration": 204,
    "start_time": "2023-02-03T06:22:03.408Z"
   },
   {
    "duration": 6,
    "start_time": "2023-02-03T06:22:03.614Z"
   },
   {
    "duration": 74,
    "start_time": "2023-02-03T06:22:03.622Z"
   },
   {
    "duration": 6,
    "start_time": "2023-02-03T06:22:03.697Z"
   },
   {
    "duration": 10,
    "start_time": "2023-02-03T06:22:03.705Z"
   },
   {
    "duration": 11,
    "start_time": "2023-02-03T06:22:03.716Z"
   },
   {
    "duration": 5,
    "start_time": "2023-02-03T06:22:03.729Z"
   },
   {
    "duration": 8,
    "start_time": "2023-02-03T06:22:03.735Z"
   },
   {
    "duration": 9,
    "start_time": "2023-02-03T06:22:09.565Z"
   },
   {
    "duration": 197,
    "start_time": "2023-02-03T06:23:31.556Z"
   },
   {
    "duration": 7,
    "start_time": "2023-02-03T06:24:05.885Z"
   },
   {
    "duration": 206,
    "start_time": "2023-02-03T06:24:08.355Z"
   },
   {
    "duration": 57,
    "start_time": "2023-02-03T06:24:25.717Z"
   },
   {
    "duration": 190,
    "start_time": "2023-02-03T06:26:02.169Z"
   },
   {
    "duration": 307,
    "start_time": "2023-02-03T06:26:05.654Z"
   },
   {
    "duration": 184,
    "start_time": "2023-02-03T06:26:33.200Z"
   },
   {
    "duration": 203,
    "start_time": "2023-02-03T06:26:38.270Z"
   },
   {
    "duration": 189,
    "start_time": "2023-02-03T06:26:43.788Z"
   },
   {
    "duration": 193,
    "start_time": "2023-02-03T06:26:45.229Z"
   },
   {
    "duration": 199,
    "start_time": "2023-02-03T06:26:49.337Z"
   },
   {
    "duration": 114,
    "start_time": "2023-02-03T06:28:19.849Z"
   },
   {
    "duration": 125,
    "start_time": "2023-02-03T06:28:41.349Z"
   },
   {
    "duration": 148,
    "start_time": "2023-02-03T06:28:57.433Z"
   },
   {
    "duration": 211,
    "start_time": "2023-02-03T06:29:36.420Z"
   },
   {
    "duration": 178,
    "start_time": "2023-02-03T06:30:18.198Z"
   },
   {
    "duration": 270,
    "start_time": "2023-02-03T06:30:22.249Z"
   },
   {
    "duration": 179,
    "start_time": "2023-02-03T06:30:26.718Z"
   },
   {
    "duration": 190,
    "start_time": "2023-02-03T06:30:29.476Z"
   },
   {
    "duration": 231,
    "start_time": "2023-02-03T06:30:31.748Z"
   },
   {
    "duration": 241,
    "start_time": "2023-02-03T06:31:37.466Z"
   },
   {
    "duration": 232,
    "start_time": "2023-02-03T06:31:40.425Z"
   },
   {
    "duration": 234,
    "start_time": "2023-02-03T06:31:51.103Z"
   },
   {
    "duration": 249,
    "start_time": "2023-02-03T06:31:53.329Z"
   },
   {
    "duration": 260,
    "start_time": "2023-02-03T06:31:55.708Z"
   },
   {
    "duration": 268,
    "start_time": "2023-02-03T06:32:01.579Z"
   },
   {
    "duration": 226,
    "start_time": "2023-02-03T06:32:05.298Z"
   },
   {
    "duration": 325,
    "start_time": "2023-02-03T06:32:10.854Z"
   },
   {
    "duration": 231,
    "start_time": "2023-02-03T06:32:15.309Z"
   },
   {
    "duration": 251,
    "start_time": "2023-02-03T06:32:29.166Z"
   },
   {
    "duration": 225,
    "start_time": "2023-02-03T06:32:52.167Z"
   },
   {
    "duration": 215,
    "start_time": "2023-02-03T06:32:54.223Z"
   },
   {
    "duration": 230,
    "start_time": "2023-02-03T06:33:03.551Z"
   },
   {
    "duration": 226,
    "start_time": "2023-02-03T06:33:14.232Z"
   },
   {
    "duration": 223,
    "start_time": "2023-02-03T06:33:39.864Z"
   },
   {
    "duration": 245,
    "start_time": "2023-02-03T06:33:43.383Z"
   },
   {
    "duration": 760,
    "start_time": "2023-02-03T06:34:46.759Z"
   },
   {
    "duration": 9,
    "start_time": "2023-02-03T06:34:59.160Z"
   },
   {
    "duration": 7,
    "start_time": "2023-02-03T06:35:06.723Z"
   },
   {
    "duration": 6,
    "start_time": "2023-02-03T06:35:35.027Z"
   },
   {
    "duration": 6,
    "start_time": "2023-02-03T06:35:44.166Z"
   },
   {
    "duration": 6,
    "start_time": "2023-02-03T06:37:45.851Z"
   },
   {
    "duration": 226,
    "start_time": "2023-02-03T06:38:14.550Z"
   },
   {
    "duration": 342,
    "start_time": "2023-02-03T06:38:17.565Z"
   },
   {
    "duration": 5,
    "start_time": "2023-02-03T06:38:58.492Z"
   },
   {
    "duration": 6,
    "start_time": "2023-02-03T06:39:02.816Z"
   },
   {
    "duration": 122,
    "start_time": "2023-02-03T06:40:05.062Z"
   },
   {
    "duration": 5,
    "start_time": "2023-02-03T06:40:39.862Z"
   },
   {
    "duration": 56,
    "start_time": "2023-02-03T06:40:43.274Z"
   },
   {
    "duration": 5,
    "start_time": "2023-02-03T06:41:00.253Z"
   },
   {
    "duration": 1115,
    "start_time": "2023-02-03T06:41:05.020Z"
   },
   {
    "duration": 121,
    "start_time": "2023-02-03T06:41:06.138Z"
   },
   {
    "duration": 14,
    "start_time": "2023-02-03T06:41:06.261Z"
   },
   {
    "duration": 1924,
    "start_time": "2023-02-03T06:41:06.277Z"
   },
   {
    "duration": 14,
    "start_time": "2023-02-03T06:41:08.203Z"
   },
   {
    "duration": 8,
    "start_time": "2023-02-03T06:41:08.218Z"
   },
   {
    "duration": 11,
    "start_time": "2023-02-03T06:41:08.227Z"
   },
   {
    "duration": 5,
    "start_time": "2023-02-03T06:41:08.240Z"
   },
   {
    "duration": 7,
    "start_time": "2023-02-03T06:41:08.247Z"
   },
   {
    "duration": 8,
    "start_time": "2023-02-03T06:41:08.256Z"
   },
   {
    "duration": 29,
    "start_time": "2023-02-03T06:41:08.266Z"
   },
   {
    "duration": 4,
    "start_time": "2023-02-03T06:41:08.297Z"
   },
   {
    "duration": 6,
    "start_time": "2023-02-03T06:41:08.302Z"
   },
   {
    "duration": 8,
    "start_time": "2023-02-03T06:41:08.309Z"
   },
   {
    "duration": 10,
    "start_time": "2023-02-03T06:41:08.318Z"
   },
   {
    "duration": 6,
    "start_time": "2023-02-03T06:41:08.330Z"
   },
   {
    "duration": 3,
    "start_time": "2023-02-03T06:41:08.338Z"
   },
   {
    "duration": 6,
    "start_time": "2023-02-03T06:41:08.342Z"
   },
   {
    "duration": 7,
    "start_time": "2023-02-03T06:41:08.349Z"
   },
   {
    "duration": 37,
    "start_time": "2023-02-03T06:41:08.357Z"
   },
   {
    "duration": 11,
    "start_time": "2023-02-03T06:41:08.396Z"
   },
   {
    "duration": 247,
    "start_time": "2023-02-03T06:41:08.409Z"
   },
   {
    "duration": 4,
    "start_time": "2023-02-03T06:41:08.658Z"
   },
   {
    "duration": 11,
    "start_time": "2023-02-03T06:41:08.663Z"
   },
   {
    "duration": 31,
    "start_time": "2023-02-03T06:41:08.675Z"
   },
   {
    "duration": 15,
    "start_time": "2023-02-03T06:41:08.708Z"
   },
   {
    "duration": 11,
    "start_time": "2023-02-03T06:41:08.725Z"
   },
   {
    "duration": 14,
    "start_time": "2023-02-03T06:41:08.740Z"
   },
   {
    "duration": 13,
    "start_time": "2023-02-03T06:41:08.756Z"
   },
   {
    "duration": 7,
    "start_time": "2023-02-03T06:41:08.771Z"
   },
   {
    "duration": 16,
    "start_time": "2023-02-03T06:41:08.779Z"
   },
   {
    "duration": 8,
    "start_time": "2023-02-03T06:41:08.797Z"
   },
   {
    "duration": 28,
    "start_time": "2023-02-03T06:41:08.807Z"
   },
   {
    "duration": 11,
    "start_time": "2023-02-03T06:41:08.837Z"
   },
   {
    "duration": 12,
    "start_time": "2023-02-03T06:41:08.849Z"
   },
   {
    "duration": 4,
    "start_time": "2023-02-03T06:41:08.863Z"
   },
   {
    "duration": 130,
    "start_time": "2023-02-03T06:41:08.869Z"
   },
   {
    "duration": 10,
    "start_time": "2023-02-03T06:41:09.001Z"
   },
   {
    "duration": 3,
    "start_time": "2023-02-03T06:41:09.013Z"
   },
   {
    "duration": 415,
    "start_time": "2023-02-03T06:41:09.018Z"
   },
   {
    "duration": 4,
    "start_time": "2023-02-03T06:41:09.435Z"
   },
   {
    "duration": 6,
    "start_time": "2023-02-03T06:41:09.440Z"
   },
   {
    "duration": 69,
    "start_time": "2023-02-03T06:41:09.447Z"
   },
   {
    "duration": 10,
    "start_time": "2023-02-03T06:41:09.518Z"
   },
   {
    "duration": 6,
    "start_time": "2023-02-03T06:41:09.530Z"
   },
   {
    "duration": 77,
    "start_time": "2023-02-03T06:41:09.537Z"
   },
   {
    "duration": 14,
    "start_time": "2023-02-03T06:41:09.616Z"
   },
   {
    "duration": 140,
    "start_time": "2023-02-03T06:41:09.631Z"
   },
   {
    "duration": 9,
    "start_time": "2023-02-03T06:41:09.773Z"
   },
   {
    "duration": 7,
    "start_time": "2023-02-03T06:41:09.792Z"
   },
   {
    "duration": 6,
    "start_time": "2023-02-03T06:41:09.801Z"
   },
   {
    "duration": 84,
    "start_time": "2023-02-03T06:41:09.809Z"
   },
   {
    "duration": 208,
    "start_time": "2023-02-03T06:41:09.894Z"
   },
   {
    "duration": 7,
    "start_time": "2023-02-03T06:41:10.104Z"
   },
   {
    "duration": 203,
    "start_time": "2023-02-03T06:41:10.113Z"
   },
   {
    "duration": 7,
    "start_time": "2023-02-03T06:41:10.317Z"
   },
   {
    "duration": 72,
    "start_time": "2023-02-03T06:41:10.325Z"
   },
   {
    "duration": 6,
    "start_time": "2023-02-03T06:41:10.398Z"
   },
   {
    "duration": 14,
    "start_time": "2023-02-03T06:41:10.406Z"
   },
   {
    "duration": 10,
    "start_time": "2023-02-03T06:41:10.422Z"
   },
   {
    "duration": 6,
    "start_time": "2023-02-03T06:41:10.433Z"
   },
   {
    "duration": 7,
    "start_time": "2023-02-03T06:41:10.440Z"
   },
   {
    "duration": 79,
    "start_time": "2023-02-03T06:41:10.449Z"
   },
   {
    "duration": 219,
    "start_time": "2023-02-03T06:41:10.530Z"
   },
   {
    "duration": 147,
    "start_time": "2023-02-03T06:41:10.751Z"
   },
   {
    "duration": 7,
    "start_time": "2023-02-03T06:41:10.900Z"
   },
   {
    "duration": 9,
    "start_time": "2023-02-03T06:41:10.908Z"
   },
   {
    "duration": 8,
    "start_time": "2023-02-03T06:41:10.918Z"
   },
   {
    "duration": 164,
    "start_time": "2023-02-03T06:41:20.613Z"
   },
   {
    "duration": 57,
    "start_time": "2023-02-03T06:41:37.651Z"
   },
   {
    "duration": 47,
    "start_time": "2023-02-03T06:43:43.970Z"
   },
   {
    "duration": 135,
    "start_time": "2023-02-03T06:48:36.723Z"
   },
   {
    "duration": 8,
    "start_time": "2023-02-03T06:50:22.592Z"
   },
   {
    "duration": 5,
    "start_time": "2023-02-03T06:50:56.969Z"
   },
   {
    "duration": 8,
    "start_time": "2023-02-03T06:51:09.637Z"
   },
   {
    "duration": 128,
    "start_time": "2023-02-03T06:51:14.144Z"
   },
   {
    "duration": 213,
    "start_time": "2023-02-03T06:51:43.201Z"
   },
   {
    "duration": 5,
    "start_time": "2023-02-03T06:56:33.778Z"
   },
   {
    "duration": 231,
    "start_time": "2023-02-03T06:56:36.281Z"
   },
   {
    "duration": 232,
    "start_time": "2023-02-03T06:56:49.373Z"
   },
   {
    "duration": 5,
    "start_time": "2023-02-03T06:56:51.318Z"
   },
   {
    "duration": 232,
    "start_time": "2023-02-03T06:56:53.169Z"
   },
   {
    "duration": 177,
    "start_time": "2023-02-03T06:57:00.287Z"
   },
   {
    "duration": 181,
    "start_time": "2023-02-03T06:57:03.026Z"
   },
   {
    "duration": 1145,
    "start_time": "2023-02-03T06:57:23.937Z"
   },
   {
    "duration": 117,
    "start_time": "2023-02-03T06:57:25.084Z"
   },
   {
    "duration": 16,
    "start_time": "2023-02-03T06:57:25.209Z"
   },
   {
    "duration": 2134,
    "start_time": "2023-02-03T06:57:25.227Z"
   },
   {
    "duration": 13,
    "start_time": "2023-02-03T06:57:27.363Z"
   },
   {
    "duration": 7,
    "start_time": "2023-02-03T06:57:27.378Z"
   },
   {
    "duration": 9,
    "start_time": "2023-02-03T06:57:27.387Z"
   },
   {
    "duration": 10,
    "start_time": "2023-02-03T06:57:27.397Z"
   },
   {
    "duration": 7,
    "start_time": "2023-02-03T06:57:27.408Z"
   },
   {
    "duration": 10,
    "start_time": "2023-02-03T06:57:27.418Z"
   },
   {
    "duration": 9,
    "start_time": "2023-02-03T06:57:27.430Z"
   },
   {
    "duration": 4,
    "start_time": "2023-02-03T06:57:27.441Z"
   },
   {
    "duration": 7,
    "start_time": "2023-02-03T06:57:27.446Z"
   },
   {
    "duration": 38,
    "start_time": "2023-02-03T06:57:27.454Z"
   },
   {
    "duration": 11,
    "start_time": "2023-02-03T06:57:27.494Z"
   },
   {
    "duration": 7,
    "start_time": "2023-02-03T06:57:27.507Z"
   },
   {
    "duration": 4,
    "start_time": "2023-02-03T06:57:27.516Z"
   },
   {
    "duration": 6,
    "start_time": "2023-02-03T06:57:27.522Z"
   },
   {
    "duration": 9,
    "start_time": "2023-02-03T06:57:27.529Z"
   },
   {
    "duration": 5,
    "start_time": "2023-02-03T06:57:27.539Z"
   },
   {
    "duration": 10,
    "start_time": "2023-02-03T06:57:27.545Z"
   },
   {
    "duration": 281,
    "start_time": "2023-02-03T06:57:27.556Z"
   },
   {
    "duration": 7,
    "start_time": "2023-02-03T06:57:27.839Z"
   },
   {
    "duration": 11,
    "start_time": "2023-02-03T06:57:27.847Z"
   },
   {
    "duration": 12,
    "start_time": "2023-02-03T06:57:27.860Z"
   },
   {
    "duration": 19,
    "start_time": "2023-02-03T06:57:27.873Z"
   },
   {
    "duration": 10,
    "start_time": "2023-02-03T06:57:27.893Z"
   },
   {
    "duration": 13,
    "start_time": "2023-02-03T06:57:27.907Z"
   },
   {
    "duration": 13,
    "start_time": "2023-02-03T06:57:27.922Z"
   },
   {
    "duration": 7,
    "start_time": "2023-02-03T06:57:27.936Z"
   },
   {
    "duration": 8,
    "start_time": "2023-02-03T06:57:27.944Z"
   },
   {
    "duration": 42,
    "start_time": "2023-02-03T06:57:27.954Z"
   },
   {
    "duration": 29,
    "start_time": "2023-02-03T06:57:27.997Z"
   },
   {
    "duration": 11,
    "start_time": "2023-02-03T06:57:28.028Z"
   },
   {
    "duration": 4,
    "start_time": "2023-02-03T06:57:28.040Z"
   },
   {
    "duration": 8,
    "start_time": "2023-02-03T06:57:28.046Z"
   },
   {
    "duration": 172,
    "start_time": "2023-02-03T06:57:28.056Z"
   },
   {
    "duration": 13,
    "start_time": "2023-02-03T06:57:28.229Z"
   },
   {
    "duration": 4,
    "start_time": "2023-02-03T06:57:28.243Z"
   },
   {
    "duration": 429,
    "start_time": "2023-02-03T06:57:28.248Z"
   },
   {
    "duration": 4,
    "start_time": "2023-02-03T06:57:28.679Z"
   },
   {
    "duration": 3,
    "start_time": "2023-02-03T06:57:28.691Z"
   },
   {
    "duration": 58,
    "start_time": "2023-02-03T06:57:28.696Z"
   },
   {
    "duration": 9,
    "start_time": "2023-02-03T06:57:28.756Z"
   },
   {
    "duration": 5,
    "start_time": "2023-02-03T06:57:28.766Z"
   },
   {
    "duration": 79,
    "start_time": "2023-02-03T06:57:28.772Z"
   },
   {
    "duration": 15,
    "start_time": "2023-02-03T06:57:28.852Z"
   },
   {
    "duration": 148,
    "start_time": "2023-02-03T06:57:28.869Z"
   },
   {
    "duration": 9,
    "start_time": "2023-02-03T06:57:29.018Z"
   },
   {
    "duration": 8,
    "start_time": "2023-02-03T06:57:29.029Z"
   },
   {
    "duration": 5,
    "start_time": "2023-02-03T06:57:29.038Z"
   },
   {
    "duration": 79,
    "start_time": "2023-02-03T06:57:29.045Z"
   },
   {
    "duration": 235,
    "start_time": "2023-02-03T06:57:29.125Z"
   },
   {
    "duration": 7,
    "start_time": "2023-02-03T06:57:29.363Z"
   },
   {
    "duration": 209,
    "start_time": "2023-02-03T06:57:29.372Z"
   },
   {
    "duration": 12,
    "start_time": "2023-02-03T06:57:29.583Z"
   },
   {
    "duration": 73,
    "start_time": "2023-02-03T06:57:29.597Z"
   },
   {
    "duration": 6,
    "start_time": "2023-02-03T06:57:29.672Z"
   },
   {
    "duration": 8,
    "start_time": "2023-02-03T06:57:29.692Z"
   },
   {
    "duration": 14,
    "start_time": "2023-02-03T06:57:29.703Z"
   },
   {
    "duration": 5,
    "start_time": "2023-02-03T06:57:29.719Z"
   },
   {
    "duration": 20,
    "start_time": "2023-02-03T06:57:29.726Z"
   },
   {
    "duration": 78,
    "start_time": "2023-02-03T06:57:29.748Z"
   },
   {
    "duration": 244,
    "start_time": "2023-02-03T06:57:29.828Z"
   },
   {
    "duration": 148,
    "start_time": "2023-02-03T06:57:30.074Z"
   },
   {
    "duration": 6,
    "start_time": "2023-02-03T06:57:30.224Z"
   },
   {
    "duration": 35,
    "start_time": "2023-02-03T06:57:30.231Z"
   },
   {
    "duration": 38,
    "start_time": "2023-02-03T06:57:30.268Z"
   },
   {
    "duration": 216,
    "start_time": "2023-02-03T06:57:30.308Z"
   },
   {
    "duration": 9,
    "start_time": "2023-02-03T06:57:30.525Z"
   },
   {
    "duration": 20,
    "start_time": "2023-02-03T06:57:30.536Z"
   },
   {
    "duration": 212,
    "start_time": "2023-02-03T06:57:30.557Z"
   },
   {
    "duration": 3,
    "start_time": "2023-02-03T06:57:30.771Z"
   },
   {
    "duration": 5,
    "start_time": "2023-02-03T06:58:28.277Z"
   },
   {
    "duration": 192,
    "start_time": "2023-02-03T06:58:30.603Z"
   },
   {
    "duration": 53,
    "start_time": "2023-02-03T06:58:55.539Z"
   },
   {
    "duration": 130,
    "start_time": "2023-02-03T06:59:15.850Z"
   },
   {
    "duration": 9,
    "start_time": "2023-02-03T06:59:24.494Z"
   },
   {
    "duration": 58,
    "start_time": "2023-02-03T06:59:41.501Z"
   },
   {
    "duration": 8,
    "start_time": "2023-02-03T07:00:33.114Z"
   },
   {
    "duration": 280,
    "start_time": "2023-02-03T07:03:26.230Z"
   },
   {
    "duration": 6,
    "start_time": "2023-02-03T07:06:36.103Z"
   },
   {
    "duration": 55,
    "start_time": "2023-02-03T07:07:48.346Z"
   },
   {
    "duration": 73,
    "start_time": "2023-02-03T07:09:36.053Z"
   },
   {
    "duration": 51,
    "start_time": "2023-02-03T10:04:43.532Z"
   },
   {
    "duration": 1457,
    "start_time": "2023-02-03T10:04:48.806Z"
   },
   {
    "duration": 173,
    "start_time": "2023-02-03T10:04:50.265Z"
   },
   {
    "duration": 16,
    "start_time": "2023-02-03T10:04:50.440Z"
   },
   {
    "duration": 2062,
    "start_time": "2023-02-03T10:04:50.459Z"
   },
   {
    "duration": 16,
    "start_time": "2023-02-03T10:04:52.523Z"
   },
   {
    "duration": 21,
    "start_time": "2023-02-03T10:04:52.541Z"
   },
   {
    "duration": 15,
    "start_time": "2023-02-03T10:04:52.564Z"
   },
   {
    "duration": 27,
    "start_time": "2023-02-03T10:04:52.580Z"
   },
   {
    "duration": 33,
    "start_time": "2023-02-03T10:04:52.609Z"
   },
   {
    "duration": 25,
    "start_time": "2023-02-03T10:04:52.645Z"
   },
   {
    "duration": 17,
    "start_time": "2023-02-03T10:04:52.671Z"
   },
   {
    "duration": 5,
    "start_time": "2023-02-03T10:04:52.690Z"
   },
   {
    "duration": 19,
    "start_time": "2023-02-03T10:04:52.696Z"
   },
   {
    "duration": 5,
    "start_time": "2023-02-03T10:04:52.717Z"
   },
   {
    "duration": 17,
    "start_time": "2023-02-03T10:04:52.724Z"
   },
   {
    "duration": 13,
    "start_time": "2023-02-03T10:04:52.743Z"
   },
   {
    "duration": 17,
    "start_time": "2023-02-03T10:04:52.758Z"
   },
   {
    "duration": 8,
    "start_time": "2023-02-03T10:04:52.777Z"
   },
   {
    "duration": 24,
    "start_time": "2023-02-03T10:04:52.787Z"
   },
   {
    "duration": 5,
    "start_time": "2023-02-03T10:04:52.813Z"
   },
   {
    "duration": 27,
    "start_time": "2023-02-03T10:04:52.820Z"
   },
   {
    "duration": 254,
    "start_time": "2023-02-03T10:04:52.849Z"
   },
   {
    "duration": 5,
    "start_time": "2023-02-03T10:04:53.104Z"
   },
   {
    "duration": 7,
    "start_time": "2023-02-03T10:04:53.111Z"
   },
   {
    "duration": 22,
    "start_time": "2023-02-03T10:04:53.120Z"
   },
   {
    "duration": 17,
    "start_time": "2023-02-03T10:04:53.144Z"
   },
   {
    "duration": 19,
    "start_time": "2023-02-03T10:04:53.163Z"
   },
   {
    "duration": 21,
    "start_time": "2023-02-03T10:04:53.186Z"
   },
   {
    "duration": 15,
    "start_time": "2023-02-03T10:04:53.209Z"
   },
   {
    "duration": 14,
    "start_time": "2023-02-03T10:04:53.226Z"
   },
   {
    "duration": 6,
    "start_time": "2023-02-03T10:04:53.242Z"
   },
   {
    "duration": 14,
    "start_time": "2023-02-03T10:04:53.250Z"
   },
   {
    "duration": 40,
    "start_time": "2023-02-03T10:04:53.266Z"
   },
   {
    "duration": 17,
    "start_time": "2023-02-03T10:04:53.308Z"
   },
   {
    "duration": 4,
    "start_time": "2023-02-03T10:04:53.326Z"
   },
   {
    "duration": 9,
    "start_time": "2023-02-03T10:04:53.340Z"
   },
   {
    "duration": 140,
    "start_time": "2023-02-03T10:04:53.351Z"
   },
   {
    "duration": 12,
    "start_time": "2023-02-03T10:04:53.493Z"
   },
   {
    "duration": 4,
    "start_time": "2023-02-03T10:04:53.506Z"
   },
   {
    "duration": 434,
    "start_time": "2023-02-03T10:04:53.512Z"
   },
   {
    "duration": 4,
    "start_time": "2023-02-03T10:04:53.948Z"
   },
   {
    "duration": 7,
    "start_time": "2023-02-03T10:04:53.954Z"
   },
   {
    "duration": 110,
    "start_time": "2023-02-03T10:04:53.963Z"
   },
   {
    "duration": 14,
    "start_time": "2023-02-03T10:04:54.074Z"
   },
   {
    "duration": 13,
    "start_time": "2023-02-03T10:04:54.090Z"
   },
   {
    "duration": 95,
    "start_time": "2023-02-03T10:04:54.104Z"
   },
   {
    "duration": 18,
    "start_time": "2023-02-03T10:04:54.201Z"
   },
   {
    "duration": 168,
    "start_time": "2023-02-03T10:04:54.221Z"
   },
   {
    "duration": 9,
    "start_time": "2023-02-03T10:04:54.391Z"
   },
   {
    "duration": 9,
    "start_time": "2023-02-03T10:04:54.402Z"
   },
   {
    "duration": 13,
    "start_time": "2023-02-03T10:04:54.413Z"
   },
   {
    "duration": 75,
    "start_time": "2023-02-03T10:04:54.428Z"
   },
   {
    "duration": 240,
    "start_time": "2023-02-03T10:04:54.505Z"
   },
   {
    "duration": 7,
    "start_time": "2023-02-03T10:04:54.747Z"
   },
   {
    "duration": 211,
    "start_time": "2023-02-03T10:04:54.755Z"
   },
   {
    "duration": 6,
    "start_time": "2023-02-03T10:04:54.968Z"
   },
   {
    "duration": 81,
    "start_time": "2023-02-03T10:04:54.976Z"
   },
   {
    "duration": 7,
    "start_time": "2023-02-03T10:04:55.059Z"
   },
   {
    "duration": 18,
    "start_time": "2023-02-03T10:04:55.068Z"
   },
   {
    "duration": 12,
    "start_time": "2023-02-03T10:04:55.087Z"
   },
   {
    "duration": 6,
    "start_time": "2023-02-03T10:04:55.101Z"
   },
   {
    "duration": 7,
    "start_time": "2023-02-03T10:04:55.108Z"
   },
   {
    "duration": 79,
    "start_time": "2023-02-03T10:04:55.117Z"
   },
   {
    "duration": 253,
    "start_time": "2023-02-03T10:04:55.198Z"
   },
   {
    "duration": 163,
    "start_time": "2023-02-03T10:04:55.453Z"
   },
   {
    "duration": 7,
    "start_time": "2023-02-03T10:04:55.618Z"
   },
   {
    "duration": 15,
    "start_time": "2023-02-03T10:04:55.626Z"
   },
   {
    "duration": 11,
    "start_time": "2023-02-03T10:04:55.642Z"
   },
   {
    "duration": 188,
    "start_time": "2023-02-03T10:04:55.655Z"
   },
   {
    "duration": 8,
    "start_time": "2023-02-03T10:04:55.846Z"
   },
   {
    "duration": 16,
    "start_time": "2023-02-03T10:04:55.856Z"
   },
   {
    "duration": 229,
    "start_time": "2023-02-03T10:04:55.875Z"
   },
   {
    "duration": 6,
    "start_time": "2023-02-03T10:04:56.106Z"
   },
   {
    "duration": 30,
    "start_time": "2023-02-03T10:04:56.114Z"
   },
   {
    "duration": 74,
    "start_time": "2023-02-03T10:04:56.146Z"
   },
   {
    "duration": 310,
    "start_time": "2023-02-03T10:04:56.222Z"
   },
   {
    "duration": 9,
    "start_time": "2023-02-03T10:04:56.534Z"
   },
   {
    "duration": 111,
    "start_time": "2023-02-03T10:04:56.546Z"
   },
   {
    "duration": 4,
    "start_time": "2023-02-03T10:04:56.659Z"
   },
   {
    "duration": 61,
    "start_time": "2023-02-03T10:05:05.869Z"
   },
   {
    "duration": 28,
    "start_time": "2023-02-03T10:05:58.673Z"
   },
   {
    "duration": 5,
    "start_time": "2023-02-03T10:06:12.603Z"
   },
   {
    "duration": 29,
    "start_time": "2023-02-03T10:06:15.726Z"
   },
   {
    "duration": 5,
    "start_time": "2023-02-03T10:06:28.902Z"
   },
   {
    "duration": 27,
    "start_time": "2023-02-03T10:06:30.957Z"
   },
   {
    "duration": 9,
    "start_time": "2023-02-03T10:08:01.283Z"
   },
   {
    "duration": 26,
    "start_time": "2023-02-03T10:08:03.728Z"
   },
   {
    "duration": 28,
    "start_time": "2023-02-03T10:08:12.884Z"
   },
   {
    "duration": 67,
    "start_time": "2023-02-03T10:08:25.245Z"
   },
   {
    "duration": 4,
    "start_time": "2023-02-03T10:10:26.697Z"
   },
   {
    "duration": 115,
    "start_time": "2023-02-03T10:10:58.384Z"
   },
   {
    "duration": 9,
    "start_time": "2023-02-03T10:11:02.051Z"
   },
   {
    "duration": 134,
    "start_time": "2023-02-03T10:11:18.838Z"
   },
   {
    "duration": 6,
    "start_time": "2023-02-03T10:11:22.059Z"
   },
   {
    "duration": 333,
    "start_time": "2023-02-03T10:11:42.072Z"
   },
   {
    "duration": 299,
    "start_time": "2023-02-03T10:11:56.233Z"
   },
   {
    "duration": 10,
    "start_time": "2023-02-03T10:12:04.034Z"
   },
   {
    "duration": 301,
    "start_time": "2023-02-03T10:12:21.472Z"
   },
   {
    "duration": 10,
    "start_time": "2023-02-03T10:12:39.699Z"
   },
   {
    "duration": 12,
    "start_time": "2023-02-03T10:13:53.782Z"
   },
   {
    "duration": 4,
    "start_time": "2023-02-03T10:13:58.603Z"
   },
   {
    "duration": 343,
    "start_time": "2023-02-03T10:13:59.939Z"
   },
   {
    "duration": 358,
    "start_time": "2023-02-03T10:14:14.000Z"
   },
   {
    "duration": 1225,
    "start_time": "2023-02-03T10:14:26.738Z"
   },
   {
    "duration": 122,
    "start_time": "2023-02-03T10:14:27.965Z"
   },
   {
    "duration": 18,
    "start_time": "2023-02-03T10:14:28.089Z"
   },
   {
    "duration": 2311,
    "start_time": "2023-02-03T10:14:28.110Z"
   },
   {
    "duration": 18,
    "start_time": "2023-02-03T10:14:30.422Z"
   },
   {
    "duration": 21,
    "start_time": "2023-02-03T10:14:30.443Z"
   },
   {
    "duration": 28,
    "start_time": "2023-02-03T10:14:30.468Z"
   },
   {
    "duration": 17,
    "start_time": "2023-02-03T10:14:30.498Z"
   },
   {
    "duration": 22,
    "start_time": "2023-02-03T10:14:30.517Z"
   },
   {
    "duration": 29,
    "start_time": "2023-02-03T10:14:30.541Z"
   },
   {
    "duration": 18,
    "start_time": "2023-02-03T10:14:30.572Z"
   },
   {
    "duration": 15,
    "start_time": "2023-02-03T10:14:30.592Z"
   },
   {
    "duration": 21,
    "start_time": "2023-02-03T10:14:30.609Z"
   },
   {
    "duration": 19,
    "start_time": "2023-02-03T10:14:30.632Z"
   },
   {
    "duration": 73,
    "start_time": "2023-02-03T10:14:30.653Z"
   },
   {
    "duration": 23,
    "start_time": "2023-02-03T10:14:30.728Z"
   },
   {
    "duration": 4,
    "start_time": "2023-02-03T10:14:30.753Z"
   },
   {
    "duration": 29,
    "start_time": "2023-02-03T10:14:30.759Z"
   },
   {
    "duration": 45,
    "start_time": "2023-02-03T10:14:30.790Z"
   },
   {
    "duration": 12,
    "start_time": "2023-02-03T10:14:30.837Z"
   },
   {
    "duration": 31,
    "start_time": "2023-02-03T10:14:30.852Z"
   },
   {
    "duration": 296,
    "start_time": "2023-02-03T10:14:30.885Z"
   },
   {
    "duration": 6,
    "start_time": "2023-02-03T10:14:31.183Z"
   },
   {
    "duration": 26,
    "start_time": "2023-02-03T10:14:31.190Z"
   },
   {
    "duration": 35,
    "start_time": "2023-02-03T10:14:31.218Z"
   },
   {
    "duration": 58,
    "start_time": "2023-02-03T10:14:31.255Z"
   },
   {
    "duration": 21,
    "start_time": "2023-02-03T10:14:31.315Z"
   },
   {
    "duration": 38,
    "start_time": "2023-02-03T10:14:31.342Z"
   },
   {
    "duration": 17,
    "start_time": "2023-02-03T10:14:31.382Z"
   },
   {
    "duration": 15,
    "start_time": "2023-02-03T10:14:31.406Z"
   },
   {
    "duration": 28,
    "start_time": "2023-02-03T10:14:31.423Z"
   },
   {
    "duration": 48,
    "start_time": "2023-02-03T10:14:31.453Z"
   },
   {
    "duration": 51,
    "start_time": "2023-02-03T10:14:31.502Z"
   },
   {
    "duration": 22,
    "start_time": "2023-02-03T10:14:31.556Z"
   },
   {
    "duration": 8,
    "start_time": "2023-02-03T10:14:31.581Z"
   },
   {
    "duration": 27,
    "start_time": "2023-02-03T10:14:31.591Z"
   },
   {
    "duration": 131,
    "start_time": "2023-02-03T10:14:31.620Z"
   },
   {
    "duration": 13,
    "start_time": "2023-02-03T10:14:31.752Z"
   },
   {
    "duration": 5,
    "start_time": "2023-02-03T10:14:31.767Z"
   },
   {
    "duration": 441,
    "start_time": "2023-02-03T10:14:31.774Z"
   },
   {
    "duration": 6,
    "start_time": "2023-02-03T10:14:32.217Z"
   },
   {
    "duration": 17,
    "start_time": "2023-02-03T10:14:32.226Z"
   },
   {
    "duration": 72,
    "start_time": "2023-02-03T10:14:32.246Z"
   },
   {
    "duration": 23,
    "start_time": "2023-02-03T10:14:32.320Z"
   },
   {
    "duration": 36,
    "start_time": "2023-02-03T10:14:32.346Z"
   },
   {
    "duration": 90,
    "start_time": "2023-02-03T10:14:32.385Z"
   },
   {
    "duration": 19,
    "start_time": "2023-02-03T10:14:32.477Z"
   },
   {
    "duration": 149,
    "start_time": "2023-02-03T10:14:32.498Z"
   },
   {
    "duration": 11,
    "start_time": "2023-02-03T10:14:32.650Z"
   },
   {
    "duration": 16,
    "start_time": "2023-02-03T10:14:32.662Z"
   },
   {
    "duration": 36,
    "start_time": "2023-02-03T10:14:32.680Z"
   },
   {
    "duration": 99,
    "start_time": "2023-02-03T10:14:32.718Z"
   },
   {
    "duration": 223,
    "start_time": "2023-02-03T10:14:32.819Z"
   },
   {
    "duration": 8,
    "start_time": "2023-02-03T10:14:33.044Z"
   },
   {
    "duration": 227,
    "start_time": "2023-02-03T10:14:33.053Z"
   },
   {
    "duration": 6,
    "start_time": "2023-02-03T10:14:33.282Z"
   },
   {
    "duration": 85,
    "start_time": "2023-02-03T10:14:33.290Z"
   },
   {
    "duration": 6,
    "start_time": "2023-02-03T10:14:33.377Z"
   },
   {
    "duration": 11,
    "start_time": "2023-02-03T10:14:33.384Z"
   },
   {
    "duration": 17,
    "start_time": "2023-02-03T10:14:33.397Z"
   },
   {
    "duration": 6,
    "start_time": "2023-02-03T10:14:33.415Z"
   },
   {
    "duration": 7,
    "start_time": "2023-02-03T10:14:33.439Z"
   },
   {
    "duration": 63,
    "start_time": "2023-02-03T10:14:33.448Z"
   },
   {
    "duration": 258,
    "start_time": "2023-02-03T10:14:33.513Z"
   },
   {
    "duration": 157,
    "start_time": "2023-02-03T10:14:33.774Z"
   },
   {
    "duration": 7,
    "start_time": "2023-02-03T10:14:33.940Z"
   },
   {
    "duration": 19,
    "start_time": "2023-02-03T10:14:33.949Z"
   },
   {
    "duration": 39,
    "start_time": "2023-02-03T10:14:33.970Z"
   },
   {
    "duration": 208,
    "start_time": "2023-02-03T10:14:34.011Z"
   },
   {
    "duration": 23,
    "start_time": "2023-02-03T10:14:34.222Z"
   },
   {
    "duration": 6,
    "start_time": "2023-02-03T10:14:34.247Z"
   },
   {
    "duration": 237,
    "start_time": "2023-02-03T10:14:34.254Z"
   },
   {
    "duration": 6,
    "start_time": "2023-02-03T10:14:34.493Z"
   },
   {
    "duration": 16,
    "start_time": "2023-02-03T10:14:34.502Z"
   },
   {
    "duration": 26,
    "start_time": "2023-02-03T10:14:34.520Z"
   },
   {
    "duration": 284,
    "start_time": "2023-02-03T10:14:34.548Z"
   },
   {
    "duration": 6,
    "start_time": "2023-02-03T10:14:34.839Z"
   },
   {
    "duration": 60,
    "start_time": "2023-02-03T10:14:34.846Z"
   },
   {
    "duration": 49,
    "start_time": "2023-02-03T10:14:34.908Z"
   },
   {
    "duration": 9,
    "start_time": "2023-02-03T10:14:34.959Z"
   },
   {
    "duration": 18,
    "start_time": "2023-02-03T10:14:34.970Z"
   },
   {
    "duration": 132,
    "start_time": "2023-02-03T10:14:34.993Z"
   },
   {
    "duration": 116,
    "start_time": "2023-02-03T10:14:38.355Z"
   },
   {
    "duration": 26,
    "start_time": "2023-02-03T10:14:44.685Z"
   },
   {
    "duration": 118,
    "start_time": "2023-02-03T10:15:42.468Z"
   },
   {
    "duration": 27,
    "start_time": "2023-02-03T10:16:25.972Z"
   },
   {
    "duration": 69,
    "start_time": "2023-02-03T10:16:36.145Z"
   },
   {
    "duration": 105,
    "start_time": "2023-02-03T10:17:47.357Z"
   },
   {
    "duration": 4,
    "start_time": "2023-02-03T10:18:12.817Z"
   },
   {
    "duration": 72,
    "start_time": "2023-02-03T10:18:16.574Z"
   },
   {
    "duration": 8,
    "start_time": "2023-02-03T10:18:38.898Z"
   },
   {
    "duration": 66,
    "start_time": "2023-02-03T10:19:14.799Z"
   },
   {
    "duration": 3088,
    "start_time": "2023-02-03T10:22:20.866Z"
   },
   {
    "duration": 3433,
    "start_time": "2023-02-03T10:24:27.612Z"
   },
   {
    "duration": 3173,
    "start_time": "2023-02-03T10:24:47.294Z"
   },
   {
    "duration": 3246,
    "start_time": "2023-02-03T10:26:04.900Z"
   },
   {
    "duration": 3109,
    "start_time": "2023-02-03T10:55:12.056Z"
   },
   {
    "duration": 3127,
    "start_time": "2023-02-03T10:55:30.934Z"
   },
   {
    "duration": 149,
    "start_time": "2023-02-03T11:05:06.172Z"
   },
   {
    "duration": 1128,
    "start_time": "2023-02-03T11:05:41.860Z"
   },
   {
    "duration": 1103,
    "start_time": "2023-02-03T11:05:46.465Z"
   },
   {
    "duration": 1132,
    "start_time": "2023-02-03T11:06:07.169Z"
   },
   {
    "duration": 1263,
    "start_time": "2023-02-03T11:08:46.399Z"
   },
   {
    "duration": 116,
    "start_time": "2023-02-03T11:08:47.664Z"
   },
   {
    "duration": 15,
    "start_time": "2023-02-03T11:08:47.781Z"
   },
   {
    "duration": 2247,
    "start_time": "2023-02-03T11:08:47.798Z"
   },
   {
    "duration": 15,
    "start_time": "2023-02-03T11:08:50.051Z"
   },
   {
    "duration": 37,
    "start_time": "2023-02-03T11:08:50.068Z"
   },
   {
    "duration": 7,
    "start_time": "2023-02-03T11:08:50.107Z"
   },
   {
    "duration": 8,
    "start_time": "2023-02-03T11:08:50.116Z"
   },
   {
    "duration": 7,
    "start_time": "2023-02-03T11:08:50.125Z"
   },
   {
    "duration": 13,
    "start_time": "2023-02-03T11:08:50.134Z"
   },
   {
    "duration": 16,
    "start_time": "2023-02-03T11:08:50.148Z"
   },
   {
    "duration": 5,
    "start_time": "2023-02-03T11:08:50.165Z"
   },
   {
    "duration": 11,
    "start_time": "2023-02-03T11:08:50.172Z"
   },
   {
    "duration": 6,
    "start_time": "2023-02-03T11:08:50.185Z"
   },
   {
    "duration": 11,
    "start_time": "2023-02-03T11:08:50.193Z"
   },
   {
    "duration": 35,
    "start_time": "2023-02-03T11:08:50.205Z"
   },
   {
    "duration": 3,
    "start_time": "2023-02-03T11:08:50.242Z"
   },
   {
    "duration": 13,
    "start_time": "2023-02-03T11:08:50.247Z"
   },
   {
    "duration": 18,
    "start_time": "2023-02-03T11:08:50.263Z"
   },
   {
    "duration": 6,
    "start_time": "2023-02-03T11:08:50.283Z"
   },
   {
    "duration": 19,
    "start_time": "2023-02-03T11:08:50.292Z"
   },
   {
    "duration": 290,
    "start_time": "2023-02-03T11:08:50.313Z"
   },
   {
    "duration": 5,
    "start_time": "2023-02-03T11:08:50.606Z"
   },
   {
    "duration": 8,
    "start_time": "2023-02-03T11:08:50.613Z"
   },
   {
    "duration": 20,
    "start_time": "2023-02-03T11:08:50.623Z"
   },
   {
    "duration": 9,
    "start_time": "2023-02-03T11:08:50.645Z"
   },
   {
    "duration": 10,
    "start_time": "2023-02-03T11:08:50.656Z"
   },
   {
    "duration": 14,
    "start_time": "2023-02-03T11:08:50.671Z"
   },
   {
    "duration": 16,
    "start_time": "2023-02-03T11:08:50.687Z"
   },
   {
    "duration": 9,
    "start_time": "2023-02-03T11:08:50.705Z"
   },
   {
    "duration": 7,
    "start_time": "2023-02-03T11:08:50.739Z"
   },
   {
    "duration": 18,
    "start_time": "2023-02-03T11:08:50.748Z"
   },
   {
    "duration": 38,
    "start_time": "2023-02-03T11:08:50.769Z"
   },
   {
    "duration": 12,
    "start_time": "2023-02-03T11:08:50.809Z"
   },
   {
    "duration": 23,
    "start_time": "2023-02-03T11:08:50.823Z"
   },
   {
    "duration": 7,
    "start_time": "2023-02-03T11:08:50.848Z"
   },
   {
    "duration": 124,
    "start_time": "2023-02-03T11:08:50.857Z"
   },
   {
    "duration": 11,
    "start_time": "2023-02-03T11:08:50.983Z"
   },
   {
    "duration": 3,
    "start_time": "2023-02-03T11:08:50.995Z"
   },
   {
    "duration": 402,
    "start_time": "2023-02-03T11:08:51.000Z"
   },
   {
    "duration": 4,
    "start_time": "2023-02-03T11:08:51.403Z"
   },
   {
    "duration": 10,
    "start_time": "2023-02-03T11:08:51.408Z"
   },
   {
    "duration": 67,
    "start_time": "2023-02-03T11:08:51.419Z"
   },
   {
    "duration": 11,
    "start_time": "2023-02-03T11:08:51.488Z"
   },
   {
    "duration": 5,
    "start_time": "2023-02-03T11:08:51.501Z"
   },
   {
    "duration": 92,
    "start_time": "2023-02-03T11:08:51.508Z"
   },
   {
    "duration": 17,
    "start_time": "2023-02-03T11:08:51.602Z"
   },
   {
    "duration": 143,
    "start_time": "2023-02-03T11:08:51.621Z"
   },
   {
    "duration": 10,
    "start_time": "2023-02-03T11:08:51.767Z"
   },
   {
    "duration": 10,
    "start_time": "2023-02-03T11:08:51.779Z"
   },
   {
    "duration": 14,
    "start_time": "2023-02-03T11:08:51.791Z"
   },
   {
    "duration": 94,
    "start_time": "2023-02-03T11:08:51.807Z"
   },
   {
    "duration": 236,
    "start_time": "2023-02-03T11:08:51.903Z"
   },
   {
    "duration": 7,
    "start_time": "2023-02-03T11:08:52.141Z"
   },
   {
    "duration": 227,
    "start_time": "2023-02-03T11:08:52.149Z"
   },
   {
    "duration": 8,
    "start_time": "2023-02-03T11:08:52.378Z"
   },
   {
    "duration": 95,
    "start_time": "2023-02-03T11:08:52.387Z"
   },
   {
    "duration": 6,
    "start_time": "2023-02-03T11:08:52.484Z"
   },
   {
    "duration": 20,
    "start_time": "2023-02-03T11:08:52.492Z"
   },
   {
    "duration": 15,
    "start_time": "2023-02-03T11:08:52.514Z"
   },
   {
    "duration": 12,
    "start_time": "2023-02-03T11:08:52.530Z"
   },
   {
    "duration": 10,
    "start_time": "2023-02-03T11:08:52.544Z"
   },
   {
    "duration": 69,
    "start_time": "2023-02-03T11:08:52.555Z"
   },
   {
    "duration": 245,
    "start_time": "2023-02-03T11:08:52.625Z"
   },
   {
    "duration": 162,
    "start_time": "2023-02-03T11:08:52.872Z"
   },
   {
    "duration": 9,
    "start_time": "2023-02-03T11:08:53.036Z"
   },
   {
    "duration": 6,
    "start_time": "2023-02-03T11:08:53.046Z"
   },
   {
    "duration": 22,
    "start_time": "2023-02-03T11:08:53.054Z"
   },
   {
    "duration": 187,
    "start_time": "2023-02-03T11:08:53.077Z"
   },
   {
    "duration": 7,
    "start_time": "2023-02-03T11:08:53.266Z"
   },
   {
    "duration": 5,
    "start_time": "2023-02-03T11:08:53.274Z"
   },
   {
    "duration": 220,
    "start_time": "2023-02-03T11:08:53.280Z"
   },
   {
    "duration": 4,
    "start_time": "2023-02-03T11:08:53.502Z"
   },
   {
    "duration": 12,
    "start_time": "2023-02-03T11:08:53.508Z"
   },
   {
    "duration": 20,
    "start_time": "2023-02-03T11:08:53.521Z"
   },
   {
    "duration": 267,
    "start_time": "2023-02-03T11:08:53.543Z"
   },
   {
    "duration": 6,
    "start_time": "2023-02-03T11:08:53.811Z"
   },
   {
    "duration": 73,
    "start_time": "2023-02-03T11:08:53.819Z"
   },
   {
    "duration": 10,
    "start_time": "2023-02-03T11:08:53.893Z"
   },
   {
    "duration": 3,
    "start_time": "2023-02-03T11:08:53.905Z"
   },
   {
    "duration": 133,
    "start_time": "2023-02-03T11:08:53.909Z"
   },
   {
    "duration": 4,
    "start_time": "2023-02-03T11:08:54.047Z"
   },
   {
    "duration": 3075,
    "start_time": "2023-02-03T11:08:54.053Z"
   },
   {
    "duration": 12201,
    "start_time": "2023-02-03T11:08:57.131Z"
   },
   {
    "duration": 1313,
    "start_time": "2023-02-03T11:10:37.066Z"
   },
   {
    "duration": 127,
    "start_time": "2023-02-03T11:10:38.381Z"
   },
   {
    "duration": 15,
    "start_time": "2023-02-03T11:10:38.509Z"
   },
   {
    "duration": 2153,
    "start_time": "2023-02-03T11:10:38.527Z"
   },
   {
    "duration": 15,
    "start_time": "2023-02-03T11:10:40.682Z"
   },
   {
    "duration": 8,
    "start_time": "2023-02-03T11:10:40.698Z"
   },
   {
    "duration": 7,
    "start_time": "2023-02-03T11:10:40.708Z"
   },
   {
    "duration": 7,
    "start_time": "2023-02-03T11:10:40.716Z"
   },
   {
    "duration": 6,
    "start_time": "2023-02-03T11:10:40.724Z"
   },
   {
    "duration": 9,
    "start_time": "2023-02-03T11:10:40.732Z"
   },
   {
    "duration": 10,
    "start_time": "2023-02-03T11:10:40.742Z"
   },
   {
    "duration": 4,
    "start_time": "2023-02-03T11:10:40.754Z"
   },
   {
    "duration": 6,
    "start_time": "2023-02-03T11:10:40.759Z"
   },
   {
    "duration": 5,
    "start_time": "2023-02-03T11:10:40.767Z"
   },
   {
    "duration": 11,
    "start_time": "2023-02-03T11:10:40.773Z"
   },
   {
    "duration": 7,
    "start_time": "2023-02-03T11:10:40.785Z"
   },
   {
    "duration": 4,
    "start_time": "2023-02-03T11:10:40.793Z"
   },
   {
    "duration": 2,
    "start_time": "2023-02-03T11:10:40.839Z"
   },
   {
    "duration": 15,
    "start_time": "2023-02-03T11:10:40.843Z"
   },
   {
    "duration": 6,
    "start_time": "2023-02-03T11:10:40.859Z"
   },
   {
    "duration": 10,
    "start_time": "2023-02-03T11:10:40.866Z"
   },
   {
    "duration": 270,
    "start_time": "2023-02-03T11:10:40.877Z"
   },
   {
    "duration": 4,
    "start_time": "2023-02-03T11:10:41.149Z"
   },
   {
    "duration": 12,
    "start_time": "2023-02-03T11:10:41.155Z"
   },
   {
    "duration": 13,
    "start_time": "2023-02-03T11:10:41.169Z"
   },
   {
    "duration": 7,
    "start_time": "2023-02-03T11:10:41.184Z"
   },
   {
    "duration": 27,
    "start_time": "2023-02-03T11:10:41.193Z"
   },
   {
    "duration": 17,
    "start_time": "2023-02-03T11:10:41.226Z"
   },
   {
    "duration": 12,
    "start_time": "2023-02-03T11:10:41.245Z"
   },
   {
    "duration": 7,
    "start_time": "2023-02-03T11:10:41.259Z"
   },
   {
    "duration": 9,
    "start_time": "2023-02-03T11:10:41.267Z"
   },
   {
    "duration": 6,
    "start_time": "2023-02-03T11:10:41.278Z"
   },
   {
    "duration": 26,
    "start_time": "2023-02-03T11:10:41.286Z"
   },
   {
    "duration": 13,
    "start_time": "2023-02-03T11:10:41.341Z"
   },
   {
    "duration": 3,
    "start_time": "2023-02-03T11:10:41.356Z"
   },
   {
    "duration": 8,
    "start_time": "2023-02-03T11:10:41.361Z"
   },
   {
    "duration": 146,
    "start_time": "2023-02-03T11:10:41.371Z"
   },
   {
    "duration": 11,
    "start_time": "2023-02-03T11:10:41.519Z"
   },
   {
    "duration": 3,
    "start_time": "2023-02-03T11:10:41.540Z"
   },
   {
    "duration": 403,
    "start_time": "2023-02-03T11:10:41.545Z"
   },
   {
    "duration": 3,
    "start_time": "2023-02-03T11:10:41.950Z"
   },
   {
    "duration": 6,
    "start_time": "2023-02-03T11:10:41.955Z"
   },
   {
    "duration": 64,
    "start_time": "2023-02-03T11:10:41.962Z"
   },
   {
    "duration": 10,
    "start_time": "2023-02-03T11:10:42.040Z"
   },
   {
    "duration": 10,
    "start_time": "2023-02-03T11:10:42.052Z"
   },
   {
    "duration": 80,
    "start_time": "2023-02-03T11:10:42.063Z"
   },
   {
    "duration": 18,
    "start_time": "2023-02-03T11:10:42.144Z"
   },
   {
    "duration": 149,
    "start_time": "2023-02-03T11:10:42.163Z"
   },
   {
    "duration": 10,
    "start_time": "2023-02-03T11:10:42.313Z"
   },
   {
    "duration": 17,
    "start_time": "2023-02-03T11:10:42.324Z"
   },
   {
    "duration": 8,
    "start_time": "2023-02-03T11:10:42.342Z"
   },
   {
    "duration": 68,
    "start_time": "2023-02-03T11:10:42.352Z"
   },
   {
    "duration": 234,
    "start_time": "2023-02-03T11:10:42.422Z"
   },
   {
    "duration": 6,
    "start_time": "2023-02-03T11:10:42.658Z"
   },
   {
    "duration": 222,
    "start_time": "2023-02-03T11:10:42.666Z"
   },
   {
    "duration": 7,
    "start_time": "2023-02-03T11:10:42.889Z"
   },
   {
    "duration": 75,
    "start_time": "2023-02-03T11:10:42.898Z"
   },
   {
    "duration": 6,
    "start_time": "2023-02-03T11:10:42.975Z"
   },
   {
    "duration": 14,
    "start_time": "2023-02-03T11:10:42.983Z"
   },
   {
    "duration": 23,
    "start_time": "2023-02-03T11:10:42.999Z"
   },
   {
    "duration": 17,
    "start_time": "2023-02-03T11:10:43.024Z"
   },
   {
    "duration": 5,
    "start_time": "2023-02-03T11:10:43.043Z"
   },
   {
    "duration": 58,
    "start_time": "2023-02-03T11:10:43.050Z"
   },
   {
    "duration": 252,
    "start_time": "2023-02-03T11:10:43.110Z"
   },
   {
    "duration": 178,
    "start_time": "2023-02-03T11:10:43.364Z"
   },
   {
    "duration": 8,
    "start_time": "2023-02-03T11:10:43.544Z"
   },
   {
    "duration": 8,
    "start_time": "2023-02-03T11:10:43.554Z"
   },
   {
    "duration": 9,
    "start_time": "2023-02-03T11:10:43.564Z"
   },
   {
    "duration": 200,
    "start_time": "2023-02-03T11:10:43.575Z"
   },
   {
    "duration": 8,
    "start_time": "2023-02-03T11:10:43.777Z"
   },
   {
    "duration": 6,
    "start_time": "2023-02-03T11:10:43.786Z"
   },
   {
    "duration": 222,
    "start_time": "2023-02-03T11:10:43.794Z"
   },
   {
    "duration": 5,
    "start_time": "2023-02-03T11:10:44.018Z"
   },
   {
    "duration": 22,
    "start_time": "2023-02-03T11:10:44.025Z"
   },
   {
    "duration": 9,
    "start_time": "2023-02-03T11:10:44.050Z"
   },
   {
    "duration": 287,
    "start_time": "2023-02-03T11:10:44.060Z"
   },
   {
    "duration": 5,
    "start_time": "2023-02-03T11:10:44.349Z"
   },
   {
    "duration": 62,
    "start_time": "2023-02-03T11:10:44.355Z"
   },
   {
    "duration": 21,
    "start_time": "2023-02-03T11:10:44.419Z"
   },
   {
    "duration": 3,
    "start_time": "2023-02-03T11:10:44.442Z"
   },
   {
    "duration": 130,
    "start_time": "2023-02-03T11:10:44.447Z"
   },
   {
    "duration": 4,
    "start_time": "2023-02-03T11:10:44.584Z"
   },
   {
    "duration": 3162,
    "start_time": "2023-02-03T11:10:44.590Z"
   },
   {
    "duration": 212,
    "start_time": "2023-02-03T11:10:47.754Z"
   },
   {
    "duration": 14301,
    "start_time": "2023-02-03T11:12:15.405Z"
   },
   {
    "duration": 235,
    "start_time": "2023-02-03T11:13:46.410Z"
   },
   {
    "duration": 152,
    "start_time": "2023-02-03T11:14:25.393Z"
   },
   {
    "duration": 258,
    "start_time": "2023-02-03T11:16:00.824Z"
   },
   {
    "duration": 393,
    "start_time": "2023-02-03T11:16:17.764Z"
   },
   {
    "duration": 310,
    "start_time": "2023-02-03T11:16:28.060Z"
   },
   {
    "duration": 242,
    "start_time": "2023-02-03T11:16:31.483Z"
   },
   {
    "duration": 289,
    "start_time": "2023-02-03T11:16:34.735Z"
   },
   {
    "duration": 293,
    "start_time": "2023-02-03T11:16:36.721Z"
   },
   {
    "duration": 294,
    "start_time": "2023-02-03T11:16:41.574Z"
   },
   {
    "duration": 261,
    "start_time": "2023-02-03T11:16:45.388Z"
   },
   {
    "duration": 295,
    "start_time": "2023-02-03T11:16:52.907Z"
   },
   {
    "duration": 103,
    "start_time": "2023-02-03T11:19:02.307Z"
   },
   {
    "duration": 0,
    "start_time": "2023-02-03T11:19:57.488Z"
   },
   {
    "duration": 1409,
    "start_time": "2023-02-03T11:20:03.935Z"
   },
   {
    "duration": 157,
    "start_time": "2023-02-03T11:20:05.347Z"
   },
   {
    "duration": 17,
    "start_time": "2023-02-03T11:20:05.506Z"
   },
   {
    "duration": 2540,
    "start_time": "2023-02-03T11:20:05.525Z"
   },
   {
    "duration": 22,
    "start_time": "2023-02-03T11:20:08.067Z"
   },
   {
    "duration": 8,
    "start_time": "2023-02-03T11:20:08.091Z"
   },
   {
    "duration": 6,
    "start_time": "2023-02-03T11:20:08.101Z"
   },
   {
    "duration": 5,
    "start_time": "2023-02-03T11:20:08.108Z"
   },
   {
    "duration": 5,
    "start_time": "2023-02-03T11:20:08.115Z"
   },
   {
    "duration": 43,
    "start_time": "2023-02-03T11:20:08.122Z"
   },
   {
    "duration": 19,
    "start_time": "2023-02-03T11:20:08.169Z"
   },
   {
    "duration": 4,
    "start_time": "2023-02-03T11:20:08.190Z"
   },
   {
    "duration": 7,
    "start_time": "2023-02-03T11:20:08.197Z"
   },
   {
    "duration": 6,
    "start_time": "2023-02-03T11:20:08.206Z"
   },
   {
    "duration": 16,
    "start_time": "2023-02-03T11:20:08.214Z"
   },
   {
    "duration": 50,
    "start_time": "2023-02-03T11:20:08.232Z"
   },
   {
    "duration": 10,
    "start_time": "2023-02-03T11:20:08.284Z"
   },
   {
    "duration": 8,
    "start_time": "2023-02-03T11:20:08.296Z"
   },
   {
    "duration": 9,
    "start_time": "2023-02-03T11:20:08.305Z"
   },
   {
    "duration": 5,
    "start_time": "2023-02-03T11:20:08.316Z"
   },
   {
    "duration": 10,
    "start_time": "2023-02-03T11:20:08.323Z"
   },
   {
    "duration": 292,
    "start_time": "2023-02-03T11:20:08.335Z"
   },
   {
    "duration": 14,
    "start_time": "2023-02-03T11:20:08.629Z"
   },
   {
    "duration": 34,
    "start_time": "2023-02-03T11:20:08.645Z"
   },
   {
    "duration": 15,
    "start_time": "2023-02-03T11:20:08.681Z"
   },
   {
    "duration": 8,
    "start_time": "2023-02-03T11:20:08.698Z"
   },
   {
    "duration": 13,
    "start_time": "2023-02-03T11:20:08.708Z"
   },
   {
    "duration": 18,
    "start_time": "2023-02-03T11:20:08.725Z"
   },
   {
    "duration": 37,
    "start_time": "2023-02-03T11:20:08.745Z"
   },
   {
    "duration": 8,
    "start_time": "2023-02-03T11:20:08.784Z"
   },
   {
    "duration": 8,
    "start_time": "2023-02-03T11:20:08.794Z"
   },
   {
    "duration": 8,
    "start_time": "2023-02-03T11:20:08.804Z"
   },
   {
    "duration": 61,
    "start_time": "2023-02-03T11:20:08.813Z"
   },
   {
    "duration": 17,
    "start_time": "2023-02-03T11:20:08.876Z"
   },
   {
    "duration": 18,
    "start_time": "2023-02-03T11:20:08.896Z"
   },
   {
    "duration": 13,
    "start_time": "2023-02-03T11:20:08.917Z"
   },
   {
    "duration": 194,
    "start_time": "2023-02-03T11:20:08.932Z"
   },
   {
    "duration": 17,
    "start_time": "2023-02-03T11:20:09.128Z"
   },
   {
    "duration": 49,
    "start_time": "2023-02-03T11:20:09.147Z"
   },
   {
    "duration": 541,
    "start_time": "2023-02-03T11:20:09.199Z"
   },
   {
    "duration": 5,
    "start_time": "2023-02-03T11:20:09.742Z"
   },
   {
    "duration": 39,
    "start_time": "2023-02-03T11:20:09.750Z"
   },
   {
    "duration": 87,
    "start_time": "2023-02-03T11:20:09.791Z"
   },
   {
    "duration": 11,
    "start_time": "2023-02-03T11:20:09.881Z"
   },
   {
    "duration": 12,
    "start_time": "2023-02-03T11:20:09.894Z"
   },
   {
    "duration": 87,
    "start_time": "2023-02-03T11:20:09.909Z"
   },
   {
    "duration": 16,
    "start_time": "2023-02-03T11:20:09.998Z"
   },
   {
    "duration": 172,
    "start_time": "2023-02-03T11:20:10.016Z"
   },
   {
    "duration": 10,
    "start_time": "2023-02-03T11:20:10.190Z"
   },
   {
    "duration": 18,
    "start_time": "2023-02-03T11:20:10.203Z"
   },
   {
    "duration": 17,
    "start_time": "2023-02-03T11:20:10.223Z"
   },
   {
    "duration": 123,
    "start_time": "2023-02-03T11:20:10.242Z"
   },
   {
    "duration": 287,
    "start_time": "2023-02-03T11:20:10.368Z"
   },
   {
    "duration": 8,
    "start_time": "2023-02-03T11:20:10.657Z"
   },
   {
    "duration": 349,
    "start_time": "2023-02-03T11:20:10.667Z"
   },
   {
    "duration": 8,
    "start_time": "2023-02-03T11:20:11.018Z"
   },
   {
    "duration": 94,
    "start_time": "2023-02-03T11:20:11.040Z"
   },
   {
    "duration": 8,
    "start_time": "2023-02-03T11:20:11.139Z"
   },
   {
    "duration": 48,
    "start_time": "2023-02-03T11:20:11.149Z"
   },
   {
    "duration": 16,
    "start_time": "2023-02-03T11:20:11.199Z"
   },
   {
    "duration": 7,
    "start_time": "2023-02-03T11:20:11.217Z"
   },
   {
    "duration": 10,
    "start_time": "2023-02-03T11:20:11.226Z"
   },
   {
    "duration": 95,
    "start_time": "2023-02-03T11:20:11.238Z"
   },
   {
    "duration": 283,
    "start_time": "2023-02-03T11:20:11.334Z"
   },
   {
    "duration": 186,
    "start_time": "2023-02-03T11:20:11.619Z"
   },
   {
    "duration": 8,
    "start_time": "2023-02-03T11:20:11.807Z"
   },
   {
    "duration": 13,
    "start_time": "2023-02-03T11:20:11.817Z"
   },
   {
    "duration": 37,
    "start_time": "2023-02-03T11:20:11.842Z"
   },
   {
    "duration": 209,
    "start_time": "2023-02-03T11:20:11.881Z"
   },
   {
    "duration": 8,
    "start_time": "2023-02-03T11:20:12.092Z"
   },
   {
    "duration": 5,
    "start_time": "2023-02-03T11:20:12.102Z"
   },
   {
    "duration": 275,
    "start_time": "2023-02-03T11:20:12.108Z"
   },
   {
    "duration": 6,
    "start_time": "2023-02-03T11:20:12.384Z"
   },
   {
    "duration": 14,
    "start_time": "2023-02-03T11:20:12.391Z"
   },
   {
    "duration": 8,
    "start_time": "2023-02-03T11:20:12.407Z"
   },
   {
    "duration": 347,
    "start_time": "2023-02-03T11:20:12.417Z"
   },
   {
    "duration": 8,
    "start_time": "2023-02-03T11:20:12.767Z"
   },
   {
    "duration": 78,
    "start_time": "2023-02-03T11:20:12.778Z"
   },
   {
    "duration": 18,
    "start_time": "2023-02-03T11:20:12.858Z"
   },
   {
    "duration": 5,
    "start_time": "2023-02-03T11:20:12.878Z"
   },
   {
    "duration": 171,
    "start_time": "2023-02-03T11:20:12.885Z"
   },
   {
    "duration": 5,
    "start_time": "2023-02-03T11:20:13.064Z"
   },
   {
    "duration": 3748,
    "start_time": "2023-02-03T11:20:13.072Z"
   },
   {
    "duration": 305,
    "start_time": "2023-02-03T11:20:16.822Z"
   },
   {
    "duration": 312,
    "start_time": "2023-02-03T11:22:35.236Z"
   },
   {
    "duration": 265,
    "start_time": "2023-02-03T11:22:49.828Z"
   },
   {
    "duration": 10,
    "start_time": "2023-02-03T11:23:09.582Z"
   },
   {
    "duration": 244,
    "start_time": "2023-02-03T11:41:26.155Z"
   },
   {
    "duration": 259,
    "start_time": "2023-02-03T11:41:29.166Z"
   },
   {
    "duration": 240,
    "start_time": "2023-02-03T11:41:33.026Z"
   },
   {
    "duration": 380,
    "start_time": "2023-02-03T11:42:39.478Z"
   },
   {
    "duration": 245,
    "start_time": "2023-02-03T11:43:11.981Z"
   },
   {
    "duration": 247,
    "start_time": "2023-02-03T11:43:27.977Z"
   },
   {
    "duration": 69,
    "start_time": "2023-02-03T11:43:45.302Z"
   },
   {
    "duration": 227,
    "start_time": "2023-02-03T11:43:51.626Z"
   },
   {
    "duration": 235,
    "start_time": "2023-02-03T11:44:03.752Z"
   },
   {
    "duration": 262,
    "start_time": "2023-02-03T11:44:08.114Z"
   },
   {
    "duration": 241,
    "start_time": "2023-02-03T11:44:16.991Z"
   },
   {
    "duration": 253,
    "start_time": "2023-02-03T11:44:19.223Z"
   },
   {
    "duration": 16,
    "start_time": "2023-02-03T11:44:21.813Z"
   },
   {
    "duration": 260,
    "start_time": "2023-02-03T11:44:24.763Z"
   },
   {
    "duration": 238,
    "start_time": "2023-02-03T11:44:26.637Z"
   },
   {
    "duration": 258,
    "start_time": "2023-02-03T11:44:30.024Z"
   },
   {
    "duration": 351,
    "start_time": "2023-02-03T11:44:35.103Z"
   },
   {
    "duration": 10,
    "start_time": "2023-02-03T11:45:07.184Z"
   },
   {
    "duration": 232,
    "start_time": "2023-02-03T11:45:24.664Z"
   },
   {
    "duration": 237,
    "start_time": "2023-02-03T11:45:35.009Z"
   },
   {
    "duration": 243,
    "start_time": "2023-02-03T11:45:37.734Z"
   },
   {
    "duration": 225,
    "start_time": "2023-02-03T11:45:41.149Z"
   },
   {
    "duration": 144,
    "start_time": "2023-02-03T11:46:19.580Z"
   },
   {
    "duration": 161,
    "start_time": "2023-02-03T11:46:26.514Z"
   },
   {
    "duration": 182,
    "start_time": "2023-02-03T11:46:27.902Z"
   },
   {
    "duration": 140,
    "start_time": "2023-02-03T11:46:40.885Z"
   },
   {
    "duration": 230,
    "start_time": "2023-02-03T11:47:11.745Z"
   },
   {
    "duration": 246,
    "start_time": "2023-02-03T11:47:17.919Z"
   },
   {
    "duration": 351,
    "start_time": "2023-02-03T11:47:19.978Z"
   },
   {
    "duration": 41374,
    "start_time": "2023-02-03T11:48:31.883Z"
   },
   {
    "duration": 12,
    "start_time": "2023-02-03T11:50:01.303Z"
   },
   {
    "duration": 3,
    "start_time": "2023-02-03T11:50:54.433Z"
   },
   {
    "duration": 11,
    "start_time": "2023-02-03T11:50:56.666Z"
   },
   {
    "duration": 5,
    "start_time": "2023-02-03T11:51:00.955Z"
   },
   {
    "duration": 9,
    "start_time": "2023-02-03T11:51:02.075Z"
   },
   {
    "duration": 12,
    "start_time": "2023-02-03T11:51:03.135Z"
   },
   {
    "duration": 3,
    "start_time": "2023-02-03T11:51:12.199Z"
   },
   {
    "duration": 9,
    "start_time": "2023-02-03T11:51:12.920Z"
   },
   {
    "duration": 10,
    "start_time": "2023-02-03T11:51:35.265Z"
   },
   {
    "duration": 4,
    "start_time": "2023-02-03T11:51:37.219Z"
   },
   {
    "duration": 2044,
    "start_time": "2023-02-03T11:51:37.226Z"
   },
   {
    "duration": 4,
    "start_time": "2023-02-03T11:53:57.057Z"
   },
   {
    "duration": 5076,
    "start_time": "2023-02-03T11:53:59.489Z"
   },
   {
    "duration": 3,
    "start_time": "2023-02-03T11:54:46.458Z"
   },
   {
    "duration": 4620,
    "start_time": "2023-02-03T11:54:50.072Z"
   },
   {
    "duration": 58,
    "start_time": "2023-02-03T23:06:11.566Z"
   },
   {
    "duration": 1439,
    "start_time": "2023-02-03T23:06:22.493Z"
   },
   {
    "duration": 360,
    "start_time": "2023-02-03T23:06:23.934Z"
   },
   {
    "duration": 15,
    "start_time": "2023-02-03T23:06:24.296Z"
   },
   {
    "duration": 2243,
    "start_time": "2023-02-03T23:06:24.313Z"
   },
   {
    "duration": 16,
    "start_time": "2023-02-03T23:06:26.558Z"
   },
   {
    "duration": 10,
    "start_time": "2023-02-03T23:06:26.577Z"
   },
   {
    "duration": 12,
    "start_time": "2023-02-03T23:06:26.590Z"
   },
   {
    "duration": 17,
    "start_time": "2023-02-03T23:06:26.604Z"
   },
   {
    "duration": 6,
    "start_time": "2023-02-03T23:06:26.623Z"
   },
   {
    "duration": 12,
    "start_time": "2023-02-03T23:06:26.632Z"
   },
   {
    "duration": 11,
    "start_time": "2023-02-03T23:06:26.646Z"
   },
   {
    "duration": 11,
    "start_time": "2023-02-03T23:06:26.659Z"
   },
   {
    "duration": 6,
    "start_time": "2023-02-03T23:06:26.672Z"
   },
   {
    "duration": 8,
    "start_time": "2023-02-03T23:06:26.680Z"
   },
   {
    "duration": 42,
    "start_time": "2023-02-03T23:06:26.690Z"
   },
   {
    "duration": 9,
    "start_time": "2023-02-03T23:06:26.734Z"
   },
   {
    "duration": 4,
    "start_time": "2023-02-03T23:06:26.745Z"
   },
   {
    "duration": 8,
    "start_time": "2023-02-03T23:06:26.751Z"
   },
   {
    "duration": 18,
    "start_time": "2023-02-03T23:06:26.761Z"
   },
   {
    "duration": 7,
    "start_time": "2023-02-03T23:06:26.781Z"
   },
   {
    "duration": 32,
    "start_time": "2023-02-03T23:06:26.790Z"
   },
   {
    "duration": 270,
    "start_time": "2023-02-03T23:06:26.824Z"
   },
   {
    "duration": 5,
    "start_time": "2023-02-03T23:06:27.096Z"
   },
   {
    "duration": 19,
    "start_time": "2023-02-03T23:06:27.103Z"
   },
   {
    "duration": 10,
    "start_time": "2023-02-03T23:06:27.124Z"
   },
   {
    "duration": 7,
    "start_time": "2023-02-03T23:06:27.136Z"
   },
   {
    "duration": 14,
    "start_time": "2023-02-03T23:06:27.145Z"
   },
   {
    "duration": 15,
    "start_time": "2023-02-03T23:06:27.164Z"
   },
   {
    "duration": 43,
    "start_time": "2023-02-03T23:06:27.181Z"
   },
   {
    "duration": 7,
    "start_time": "2023-02-03T23:06:27.226Z"
   },
   {
    "duration": 8,
    "start_time": "2023-02-03T23:06:27.235Z"
   },
   {
    "duration": 7,
    "start_time": "2023-02-03T23:06:27.245Z"
   },
   {
    "duration": 25,
    "start_time": "2023-02-03T23:06:27.254Z"
   },
   {
    "duration": 41,
    "start_time": "2023-02-03T23:06:27.281Z"
   },
   {
    "duration": 4,
    "start_time": "2023-02-03T23:06:27.324Z"
   },
   {
    "duration": 6,
    "start_time": "2023-02-03T23:06:27.330Z"
   },
   {
    "duration": 146,
    "start_time": "2023-02-03T23:06:27.338Z"
   },
   {
    "duration": 12,
    "start_time": "2023-02-03T23:06:27.486Z"
   },
   {
    "duration": 3,
    "start_time": "2023-02-03T23:06:27.500Z"
   },
   {
    "duration": 408,
    "start_time": "2023-02-03T23:06:27.521Z"
   },
   {
    "duration": 4,
    "start_time": "2023-02-03T23:06:27.931Z"
   },
   {
    "duration": 6,
    "start_time": "2023-02-03T23:06:27.937Z"
   },
   {
    "duration": 83,
    "start_time": "2023-02-03T23:06:27.944Z"
   },
   {
    "duration": 13,
    "start_time": "2023-02-03T23:06:28.028Z"
   },
   {
    "duration": 7,
    "start_time": "2023-02-03T23:06:28.044Z"
   },
   {
    "duration": 89,
    "start_time": "2023-02-03T23:06:28.053Z"
   },
   {
    "duration": 14,
    "start_time": "2023-02-03T23:06:28.143Z"
   },
   {
    "duration": 140,
    "start_time": "2023-02-03T23:06:28.158Z"
   },
   {
    "duration": 22,
    "start_time": "2023-02-03T23:06:28.300Z"
   },
   {
    "duration": 10,
    "start_time": "2023-02-03T23:06:28.323Z"
   },
   {
    "duration": 14,
    "start_time": "2023-02-03T23:06:28.335Z"
   },
   {
    "duration": 87,
    "start_time": "2023-02-03T23:06:28.351Z"
   },
   {
    "duration": 241,
    "start_time": "2023-02-03T23:06:28.441Z"
   },
   {
    "duration": 7,
    "start_time": "2023-02-03T23:06:28.683Z"
   },
   {
    "duration": 223,
    "start_time": "2023-02-03T23:06:28.692Z"
   },
   {
    "duration": 7,
    "start_time": "2023-02-03T23:06:28.917Z"
   },
   {
    "duration": 78,
    "start_time": "2023-02-03T23:06:28.925Z"
   },
   {
    "duration": 20,
    "start_time": "2023-02-03T23:06:29.005Z"
   },
   {
    "duration": 6,
    "start_time": "2023-02-03T23:06:29.027Z"
   },
   {
    "duration": 8,
    "start_time": "2023-02-03T23:06:29.035Z"
   },
   {
    "duration": 5,
    "start_time": "2023-02-03T23:06:29.045Z"
   },
   {
    "duration": 7,
    "start_time": "2023-02-03T23:06:29.051Z"
   },
   {
    "duration": 89,
    "start_time": "2023-02-03T23:06:29.060Z"
   },
   {
    "duration": 230,
    "start_time": "2023-02-03T23:06:29.151Z"
   },
   {
    "duration": 163,
    "start_time": "2023-02-03T23:06:29.383Z"
   },
   {
    "duration": 6,
    "start_time": "2023-02-03T23:06:29.548Z"
   },
   {
    "duration": 7,
    "start_time": "2023-02-03T23:06:29.556Z"
   },
   {
    "duration": 7,
    "start_time": "2023-02-03T23:06:29.565Z"
   },
   {
    "duration": 216,
    "start_time": "2023-02-03T23:06:29.574Z"
   },
   {
    "duration": 8,
    "start_time": "2023-02-03T23:06:29.792Z"
   },
   {
    "duration": 19,
    "start_time": "2023-02-03T23:06:29.802Z"
   },
   {
    "duration": 196,
    "start_time": "2023-02-03T23:06:29.822Z"
   },
   {
    "duration": 5,
    "start_time": "2023-02-03T23:06:30.020Z"
   },
   {
    "duration": 26,
    "start_time": "2023-02-03T23:06:30.027Z"
   },
   {
    "duration": 18,
    "start_time": "2023-02-03T23:06:30.054Z"
   },
   {
    "duration": 267,
    "start_time": "2023-02-03T23:06:30.073Z"
   },
   {
    "duration": 5,
    "start_time": "2023-02-03T23:06:30.342Z"
   },
   {
    "duration": 84,
    "start_time": "2023-02-03T23:06:30.349Z"
   },
   {
    "duration": 11,
    "start_time": "2023-02-03T23:06:30.435Z"
   },
   {
    "duration": 47,
    "start_time": "2023-02-03T23:06:30.448Z"
   },
   {
    "duration": 148,
    "start_time": "2023-02-03T23:06:30.497Z"
   },
   {
    "duration": 4,
    "start_time": "2023-02-03T23:06:30.650Z"
   },
   {
    "duration": 3104,
    "start_time": "2023-02-03T23:06:30.656Z"
   },
   {
    "duration": 248,
    "start_time": "2023-02-03T23:06:33.761Z"
   },
   {
    "duration": 18,
    "start_time": "2023-02-03T23:06:34.010Z"
   },
   {
    "duration": 3,
    "start_time": "2023-02-03T23:06:34.029Z"
   },
   {
    "duration": 114,
    "start_time": "2023-02-03T23:06:34.033Z"
   },
   {
    "duration": 2,
    "start_time": "2023-02-03T23:06:34.149Z"
   },
   {
    "duration": 195,
    "start_time": "2023-02-03T23:08:11.013Z"
   },
   {
    "duration": 118,
    "start_time": "2023-02-03T23:08:47.378Z"
   },
   {
    "duration": 21,
    "start_time": "2023-02-03T23:09:26.454Z"
   },
   {
    "duration": 21,
    "start_time": "2023-02-03T23:10:30.337Z"
   },
   {
    "duration": 19,
    "start_time": "2023-02-03T23:10:47.637Z"
   },
   {
    "duration": 103,
    "start_time": "2023-02-03T23:11:25.764Z"
   },
   {
    "duration": 882,
    "start_time": "2023-02-03T23:11:44.976Z"
   },
   {
    "duration": 225,
    "start_time": "2023-02-03T23:12:24.566Z"
   },
   {
    "duration": 25,
    "start_time": "2023-02-03T23:12:43.446Z"
   },
   {
    "duration": 212,
    "start_time": "2023-02-03T23:15:17.974Z"
   },
   {
    "duration": 204,
    "start_time": "2023-02-03T23:15:47.414Z"
   },
   {
    "duration": 350,
    "start_time": "2023-02-03T23:16:00.943Z"
   },
   {
    "duration": 260,
    "start_time": "2023-02-03T23:16:06.206Z"
   },
   {
    "duration": 376,
    "start_time": "2023-02-03T23:17:18.768Z"
   },
   {
    "duration": 300,
    "start_time": "2023-02-03T23:17:23.005Z"
   },
   {
    "duration": 303,
    "start_time": "2023-02-03T23:17:32.080Z"
   },
   {
    "duration": 226,
    "start_time": "2023-02-03T23:18:01.745Z"
   },
   {
    "duration": 239,
    "start_time": "2023-02-03T23:18:06.406Z"
   },
   {
    "duration": 288,
    "start_time": "2023-02-03T23:18:21.802Z"
   },
   {
    "duration": 229,
    "start_time": "2023-02-03T23:18:31.587Z"
   },
   {
    "duration": 219,
    "start_time": "2023-02-03T23:19:02.860Z"
   },
   {
    "duration": 252,
    "start_time": "2023-02-03T23:19:34.933Z"
   },
   {
    "duration": 221,
    "start_time": "2023-02-03T23:20:01.865Z"
   },
   {
    "duration": 271,
    "start_time": "2023-02-03T23:20:09.514Z"
   },
   {
    "duration": 256,
    "start_time": "2023-02-03T23:20:13.484Z"
   },
   {
    "duration": 49,
    "start_time": "2023-02-03T23:20:31.676Z"
   },
   {
    "duration": 42,
    "start_time": "2023-02-03T23:20:36.073Z"
   },
   {
    "duration": 45,
    "start_time": "2023-02-03T23:20:39.285Z"
   },
   {
    "duration": 176,
    "start_time": "2023-02-03T23:20:43.933Z"
   },
   {
    "duration": 307,
    "start_time": "2023-02-03T23:20:48.774Z"
   },
   {
    "duration": 234,
    "start_time": "2023-02-03T23:20:57.656Z"
   },
   {
    "duration": 245,
    "start_time": "2023-02-03T23:21:07.935Z"
   },
   {
    "duration": 257,
    "start_time": "2023-02-03T23:21:12.182Z"
   },
   {
    "duration": 258,
    "start_time": "2023-02-03T23:21:49.603Z"
   },
   {
    "duration": 1557,
    "start_time": "2023-02-03T23:22:30.046Z"
   },
   {
    "duration": 1559,
    "start_time": "2023-02-03T23:22:44.991Z"
   },
   {
    "duration": 14,
    "start_time": "2023-02-03T23:23:54.518Z"
   },
   {
    "duration": 2,
    "start_time": "2023-02-03T23:23:57.232Z"
   },
   {
    "duration": 1591,
    "start_time": "2023-02-03T23:23:57.757Z"
   },
   {
    "duration": 4,
    "start_time": "2023-02-03T23:24:05.482Z"
   },
   {
    "duration": 3,
    "start_time": "2023-02-03T23:24:15.900Z"
   },
   {
    "duration": 4,
    "start_time": "2023-02-03T23:24:29.151Z"
   },
   {
    "duration": 4,
    "start_time": "2023-02-03T23:24:40.198Z"
   },
   {
    "duration": 3,
    "start_time": "2023-02-03T23:24:50.688Z"
   },
   {
    "duration": 1556,
    "start_time": "2023-02-03T23:25:03.880Z"
   },
   {
    "duration": 1345,
    "start_time": "2023-02-03T23:25:19.240Z"
   },
   {
    "duration": 1254,
    "start_time": "2023-02-03T23:26:18.030Z"
   },
   {
    "duration": 1725,
    "start_time": "2023-02-03T23:26:27.504Z"
   },
   {
    "duration": 1430,
    "start_time": "2023-02-03T23:26:31.651Z"
   },
   {
    "duration": 1386,
    "start_time": "2023-02-03T23:26:37.474Z"
   },
   {
    "duration": 1336,
    "start_time": "2023-02-03T23:26:42.733Z"
   },
   {
    "duration": 1470,
    "start_time": "2023-02-03T23:26:47.824Z"
   },
   {
    "duration": 1235,
    "start_time": "2023-02-03T23:26:52.887Z"
   },
   {
    "duration": 1194,
    "start_time": "2023-02-03T23:26:56.817Z"
   },
   {
    "duration": 1436,
    "start_time": "2023-02-03T23:27:00.457Z"
   },
   {
    "duration": 1607,
    "start_time": "2023-02-03T23:27:03.613Z"
   },
   {
    "duration": 1466,
    "start_time": "2023-02-03T23:27:13.835Z"
   },
   {
    "duration": 1442,
    "start_time": "2023-02-03T23:27:23.565Z"
   },
   {
    "duration": 1407,
    "start_time": "2023-02-03T23:27:27.395Z"
   },
   {
    "duration": 1475,
    "start_time": "2023-02-03T23:27:31.639Z"
   },
   {
    "duration": 1339,
    "start_time": "2023-02-03T23:28:51.006Z"
   },
   {
    "duration": 90,
    "start_time": "2023-02-03T23:29:21.535Z"
   },
   {
    "duration": 47,
    "start_time": "2023-02-03T23:29:24.687Z"
   },
   {
    "duration": 1351,
    "start_time": "2023-02-03T23:30:19.443Z"
   },
   {
    "duration": 1369,
    "start_time": "2023-02-03T23:30:27.893Z"
   },
   {
    "duration": 1520,
    "start_time": "2023-02-03T23:30:30.828Z"
   },
   {
    "duration": 1326,
    "start_time": "2023-02-03T23:30:37.087Z"
   },
   {
    "duration": 166,
    "start_time": "2023-02-03T23:31:07.025Z"
   },
   {
    "duration": 1319,
    "start_time": "2023-02-03T23:31:26.039Z"
   },
   {
    "duration": 1303,
    "start_time": "2023-02-03T23:31:56.628Z"
   },
   {
    "duration": 1520,
    "start_time": "2023-02-03T23:32:26.513Z"
   },
   {
    "duration": 1347,
    "start_time": "2023-02-03T23:32:36.414Z"
   },
   {
    "duration": 1460,
    "start_time": "2023-02-03T23:33:24.367Z"
   },
   {
    "duration": 1336,
    "start_time": "2023-02-03T23:34:48.889Z"
   },
   {
    "duration": 1534,
    "start_time": "2023-02-03T23:35:15.086Z"
   },
   {
    "duration": 1366,
    "start_time": "2023-02-03T23:35:27.664Z"
   },
   {
    "duration": 9,
    "start_time": "2023-02-03T23:36:19.711Z"
   },
   {
    "duration": 6,
    "start_time": "2023-02-03T23:36:43.580Z"
   },
   {
    "duration": 1213,
    "start_time": "2023-02-03T23:37:00.637Z"
   },
   {
    "duration": 1202,
    "start_time": "2023-02-03T23:37:09.168Z"
   },
   {
    "duration": 1172,
    "start_time": "2023-02-03T23:37:23.183Z"
   },
   {
    "duration": 1428,
    "start_time": "2023-02-03T23:37:30.680Z"
   },
   {
    "duration": 1186,
    "start_time": "2023-02-03T23:37:36.668Z"
   },
   {
    "duration": 1197,
    "start_time": "2023-02-03T23:37:47.827Z"
   },
   {
    "duration": 1419,
    "start_time": "2023-02-03T23:38:25.902Z"
   },
   {
    "duration": 1286,
    "start_time": "2023-02-03T23:38:39.020Z"
   },
   {
    "duration": 1257,
    "start_time": "2023-02-03T23:41:17.269Z"
   },
   {
    "duration": 4,
    "start_time": "2023-02-03T23:42:40.758Z"
   },
   {
    "duration": 1305,
    "start_time": "2023-02-03T23:42:51.588Z"
   },
   {
    "duration": 363,
    "start_time": "2023-02-03T23:42:55.814Z"
   },
   {
    "duration": 183,
    "start_time": "2023-02-03T23:43:12.839Z"
   },
   {
    "duration": 5,
    "start_time": "2023-02-03T23:45:12.571Z"
   },
   {
    "duration": 6,
    "start_time": "2023-02-03T23:45:19.523Z"
   },
   {
    "duration": 4,
    "start_time": "2023-02-03T23:46:27.539Z"
   },
   {
    "duration": 5,
    "start_time": "2023-02-03T23:47:15.245Z"
   },
   {
    "duration": 186,
    "start_time": "2023-02-03T23:48:04.789Z"
   },
   {
    "duration": 178,
    "start_time": "2023-02-03T23:48:09.679Z"
   },
   {
    "duration": 5,
    "start_time": "2023-02-03T23:51:23.640Z"
   },
   {
    "duration": 704,
    "start_time": "2023-02-03T23:57:33.570Z"
   },
   {
    "duration": 5,
    "start_time": "2023-02-03T23:57:37.401Z"
   },
   {
    "duration": 1480,
    "start_time": "2023-02-03T23:58:05.468Z"
   },
   {
    "duration": 1299,
    "start_time": "2023-02-03T23:58:16.584Z"
   },
   {
    "duration": 1278,
    "start_time": "2023-02-03T23:58:18.686Z"
   },
   {
    "duration": 3,
    "start_time": "2023-02-04T00:34:59.281Z"
   },
   {
    "duration": 8,
    "start_time": "2023-02-04T00:39:48.447Z"
   },
   {
    "duration": 6,
    "start_time": "2023-02-04T00:40:07.005Z"
   },
   {
    "duration": 8,
    "start_time": "2023-02-04T00:40:15.036Z"
   },
   {
    "duration": 7,
    "start_time": "2023-02-04T00:40:26.181Z"
   },
   {
    "duration": 7,
    "start_time": "2023-02-04T00:40:29.213Z"
   },
   {
    "duration": 36,
    "start_time": "2023-02-04T00:42:43.326Z"
   },
   {
    "duration": 9,
    "start_time": "2023-02-04T00:43:02.800Z"
   },
   {
    "duration": 24,
    "start_time": "2023-02-04T00:43:07.086Z"
   },
   {
    "duration": 1240,
    "start_time": "2023-02-04T00:43:20.502Z"
   },
   {
    "duration": 127,
    "start_time": "2023-02-04T00:43:21.744Z"
   },
   {
    "duration": 20,
    "start_time": "2023-02-04T00:43:21.872Z"
   },
   {
    "duration": 2017,
    "start_time": "2023-02-04T00:43:21.895Z"
   },
   {
    "duration": 20,
    "start_time": "2023-02-04T00:43:23.915Z"
   },
   {
    "duration": 9,
    "start_time": "2023-02-04T00:43:23.937Z"
   },
   {
    "duration": 11,
    "start_time": "2023-02-04T00:43:23.947Z"
   },
   {
    "duration": 9,
    "start_time": "2023-02-04T00:43:23.959Z"
   },
   {
    "duration": 7,
    "start_time": "2023-02-04T00:43:23.969Z"
   },
   {
    "duration": 7,
    "start_time": "2023-02-04T00:43:23.979Z"
   },
   {
    "duration": 37,
    "start_time": "2023-02-04T00:43:23.988Z"
   },
   {
    "duration": 5,
    "start_time": "2023-02-04T00:43:24.027Z"
   },
   {
    "duration": 8,
    "start_time": "2023-02-04T00:43:24.034Z"
   },
   {
    "duration": 6,
    "start_time": "2023-02-04T00:43:24.043Z"
   },
   {
    "duration": 12,
    "start_time": "2023-02-04T00:43:24.051Z"
   },
   {
    "duration": 8,
    "start_time": "2023-02-04T00:43:24.066Z"
   },
   {
    "duration": 4,
    "start_time": "2023-02-04T00:43:24.076Z"
   },
   {
    "duration": 40,
    "start_time": "2023-02-04T00:43:24.082Z"
   },
   {
    "duration": 10,
    "start_time": "2023-02-04T00:43:24.124Z"
   },
   {
    "duration": 6,
    "start_time": "2023-02-04T00:43:24.136Z"
   },
   {
    "duration": 12,
    "start_time": "2023-02-04T00:43:24.144Z"
   },
   {
    "duration": 308,
    "start_time": "2023-02-04T00:43:24.157Z"
   },
   {
    "duration": 7,
    "start_time": "2023-02-04T00:43:24.467Z"
   },
   {
    "duration": 18,
    "start_time": "2023-02-04T00:43:24.476Z"
   },
   {
    "duration": 25,
    "start_time": "2023-02-04T00:43:24.497Z"
   },
   {
    "duration": 14,
    "start_time": "2023-02-04T00:43:24.525Z"
   },
   {
    "duration": 18,
    "start_time": "2023-02-04T00:43:24.542Z"
   },
   {
    "duration": 18,
    "start_time": "2023-02-04T00:43:24.567Z"
   },
   {
    "duration": 35,
    "start_time": "2023-02-04T00:43:24.587Z"
   },
   {
    "duration": 8,
    "start_time": "2023-02-04T00:43:24.624Z"
   },
   {
    "duration": 11,
    "start_time": "2023-02-04T00:43:24.633Z"
   },
   {
    "duration": 8,
    "start_time": "2023-02-04T00:43:24.646Z"
   },
   {
    "duration": 26,
    "start_time": "2023-02-04T00:43:24.655Z"
   },
   {
    "duration": 40,
    "start_time": "2023-02-04T00:43:24.682Z"
   },
   {
    "duration": 3,
    "start_time": "2023-02-04T00:43:24.724Z"
   },
   {
    "duration": 6,
    "start_time": "2023-02-04T00:43:24.728Z"
   },
   {
    "duration": 145,
    "start_time": "2023-02-04T00:43:24.735Z"
   },
   {
    "duration": 12,
    "start_time": "2023-02-04T00:43:24.882Z"
   },
   {
    "duration": 4,
    "start_time": "2023-02-04T00:43:24.895Z"
   },
   {
    "duration": 444,
    "start_time": "2023-02-04T00:43:24.900Z"
   },
   {
    "duration": 5,
    "start_time": "2023-02-04T00:43:25.346Z"
   },
   {
    "duration": 6,
    "start_time": "2023-02-04T00:43:25.352Z"
   },
   {
    "duration": 79,
    "start_time": "2023-02-04T00:43:25.360Z"
   },
   {
    "duration": 12,
    "start_time": "2023-02-04T00:43:25.440Z"
   },
   {
    "duration": 6,
    "start_time": "2023-02-04T00:43:25.453Z"
   },
   {
    "duration": 72,
    "start_time": "2023-02-04T00:43:25.461Z"
   },
   {
    "duration": 14,
    "start_time": "2023-02-04T00:43:25.535Z"
   },
   {
    "duration": 131,
    "start_time": "2023-02-04T00:43:25.551Z"
   },
   {
    "duration": 8,
    "start_time": "2023-02-04T00:43:25.684Z"
   },
   {
    "duration": 7,
    "start_time": "2023-02-04T00:43:25.694Z"
   },
   {
    "duration": 6,
    "start_time": "2023-02-04T00:43:25.720Z"
   },
   {
    "duration": 64,
    "start_time": "2023-02-04T00:43:25.728Z"
   },
   {
    "duration": 228,
    "start_time": "2023-02-04T00:43:25.794Z"
   },
   {
    "duration": 7,
    "start_time": "2023-02-04T00:43:26.024Z"
   },
   {
    "duration": 206,
    "start_time": "2023-02-04T00:43:26.033Z"
   },
   {
    "duration": 6,
    "start_time": "2023-02-04T00:43:26.241Z"
   },
   {
    "duration": 76,
    "start_time": "2023-02-04T00:43:26.249Z"
   },
   {
    "duration": 7,
    "start_time": "2023-02-04T00:43:26.327Z"
   },
   {
    "duration": 7,
    "start_time": "2023-02-04T00:43:26.336Z"
   },
   {
    "duration": 12,
    "start_time": "2023-02-04T00:43:26.345Z"
   },
   {
    "duration": 5,
    "start_time": "2023-02-04T00:43:26.359Z"
   },
   {
    "duration": 8,
    "start_time": "2023-02-04T00:43:26.366Z"
   },
   {
    "duration": 101,
    "start_time": "2023-02-04T00:43:26.376Z"
   },
   {
    "duration": 248,
    "start_time": "2023-02-04T00:43:26.479Z"
   },
   {
    "duration": 160,
    "start_time": "2023-02-04T00:43:26.729Z"
   },
   {
    "duration": 7,
    "start_time": "2023-02-04T00:43:26.891Z"
   },
   {
    "duration": 22,
    "start_time": "2023-02-04T00:43:26.899Z"
   },
   {
    "duration": 6,
    "start_time": "2023-02-04T00:43:26.922Z"
   },
   {
    "duration": 194,
    "start_time": "2023-02-04T00:43:26.930Z"
   },
   {
    "duration": 8,
    "start_time": "2023-02-04T00:43:27.126Z"
   },
   {
    "duration": 6,
    "start_time": "2023-02-04T00:43:27.136Z"
   },
   {
    "duration": 214,
    "start_time": "2023-02-04T00:43:27.144Z"
   },
   {
    "duration": 6,
    "start_time": "2023-02-04T00:43:27.360Z"
   },
   {
    "duration": 12,
    "start_time": "2023-02-04T00:43:27.367Z"
   },
   {
    "duration": 8,
    "start_time": "2023-02-04T00:43:27.380Z"
   },
   {
    "duration": 283,
    "start_time": "2023-02-04T00:43:27.390Z"
   },
   {
    "duration": 5,
    "start_time": "2023-02-04T00:43:27.675Z"
   },
   {
    "duration": 66,
    "start_time": "2023-02-04T00:43:27.682Z"
   },
   {
    "duration": 10,
    "start_time": "2023-02-04T00:43:27.749Z"
   },
   {
    "duration": 4,
    "start_time": "2023-02-04T00:43:27.761Z"
   },
   {
    "duration": 141,
    "start_time": "2023-02-04T00:43:27.767Z"
   },
   {
    "duration": 8,
    "start_time": "2023-02-04T00:43:27.915Z"
   },
   {
    "duration": 3016,
    "start_time": "2023-02-04T00:43:27.925Z"
   },
   {
    "duration": 242,
    "start_time": "2023-02-04T00:43:30.943Z"
   },
   {
    "duration": 9,
    "start_time": "2023-02-04T00:43:31.187Z"
   },
   {
    "duration": 25,
    "start_time": "2023-02-04T00:43:31.198Z"
   },
   {
    "duration": 1343,
    "start_time": "2023-02-04T00:43:31.225Z"
   },
   {
    "duration": 204,
    "start_time": "2023-02-04T00:43:32.570Z"
   },
   {
    "duration": 6,
    "start_time": "2023-02-04T00:43:32.776Z"
   },
   {
    "duration": 6,
    "start_time": "2023-02-04T00:43:32.784Z"
   },
   {
    "duration": 44,
    "start_time": "2023-02-04T00:43:32.792Z"
   },
   {
    "duration": 8,
    "start_time": "2023-02-04T00:43:32.838Z"
   },
   {
    "duration": 7,
    "start_time": "2023-02-04T00:45:28.697Z"
   },
   {
    "duration": 31,
    "start_time": "2023-02-04T00:45:58.349Z"
   },
   {
    "duration": 25,
    "start_time": "2023-02-04T00:46:20.391Z"
   },
   {
    "duration": 3,
    "start_time": "2023-02-04T00:46:47.912Z"
   },
   {
    "duration": 28,
    "start_time": "2023-02-04T00:46:57.099Z"
   },
   {
    "duration": 4,
    "start_time": "2023-02-04T00:47:24.578Z"
   },
   {
    "duration": 5,
    "start_time": "2023-02-04T00:47:26.973Z"
   },
   {
    "duration": 17,
    "start_time": "2023-02-04T00:48:08.412Z"
   },
   {
    "duration": 6,
    "start_time": "2023-02-04T00:48:32.336Z"
   },
   {
    "duration": 5,
    "start_time": "2023-02-04T00:48:33.202Z"
   },
   {
    "duration": 20,
    "start_time": "2023-02-04T00:48:34.402Z"
   },
   {
    "duration": 111,
    "start_time": "2023-02-04T00:48:43.631Z"
   },
   {
    "duration": 19,
    "start_time": "2023-02-04T00:48:56.025Z"
   },
   {
    "duration": 59,
    "start_time": "2023-02-04T00:49:19.516Z"
   },
   {
    "duration": 18,
    "start_time": "2023-02-04T00:49:30.701Z"
   },
   {
    "duration": 15,
    "start_time": "2023-02-04T00:49:38.727Z"
   },
   {
    "duration": 27,
    "start_time": "2023-02-04T00:57:58.517Z"
   },
   {
    "duration": 1782,
    "start_time": "2023-02-04T00:59:01.232Z"
   },
   {
    "duration": 314,
    "start_time": "2023-02-04T00:59:13.047Z"
   },
   {
    "duration": 45,
    "start_time": "2023-02-04T00:59:44.670Z"
   },
   {
    "duration": 293,
    "start_time": "2023-02-04T00:59:50.149Z"
   },
   {
    "duration": 12,
    "start_time": "2023-02-04T01:00:03.807Z"
   },
   {
    "duration": 12,
    "start_time": "2023-02-04T01:00:12.422Z"
   },
   {
    "duration": 12,
    "start_time": "2023-02-04T01:00:19.447Z"
   },
   {
    "duration": 332,
    "start_time": "2023-02-04T01:00:24.487Z"
   },
   {
    "duration": 307,
    "start_time": "2023-02-04T01:01:29.539Z"
   },
   {
    "duration": 288,
    "start_time": "2023-02-04T01:01:33.433Z"
   },
   {
    "duration": 269,
    "start_time": "2023-02-04T01:01:40.356Z"
   },
   {
    "duration": 320,
    "start_time": "2023-02-04T01:01:44.886Z"
   },
   {
    "duration": 290,
    "start_time": "2023-02-04T01:01:49.422Z"
   },
   {
    "duration": 329,
    "start_time": "2023-02-04T01:02:14.841Z"
   },
   {
    "duration": 442,
    "start_time": "2023-02-04T01:02:36.869Z"
   },
   {
    "duration": 312,
    "start_time": "2023-02-04T01:03:16.493Z"
   },
   {
    "duration": 321,
    "start_time": "2023-02-04T01:03:36.321Z"
   },
   {
    "duration": 306,
    "start_time": "2023-02-04T01:04:07.930Z"
   },
   {
    "duration": 312,
    "start_time": "2023-02-04T01:04:20.505Z"
   },
   {
    "duration": 324,
    "start_time": "2023-02-04T01:04:41.286Z"
   },
   {
    "duration": 328,
    "start_time": "2023-02-04T01:04:58.523Z"
   },
   {
    "duration": 314,
    "start_time": "2023-02-04T01:05:27.614Z"
   },
   {
    "duration": 310,
    "start_time": "2023-02-04T01:05:38.926Z"
   },
   {
    "duration": 12,
    "start_time": "2023-02-04T01:10:02.951Z"
   },
   {
    "duration": 63,
    "start_time": "2023-02-04T01:10:17.634Z"
   },
   {
    "duration": 13,
    "start_time": "2023-02-04T01:10:23.007Z"
   },
   {
    "duration": 14,
    "start_time": "2023-02-04T01:11:10.721Z"
   },
   {
    "duration": 13,
    "start_time": "2023-02-04T01:12:07.187Z"
   },
   {
    "duration": 23,
    "start_time": "2023-02-04T01:12:11.241Z"
   },
   {
    "duration": 13,
    "start_time": "2023-02-04T01:12:21.734Z"
   },
   {
    "duration": 10,
    "start_time": "2023-02-04T01:13:50.821Z"
   },
   {
    "duration": 12,
    "start_time": "2023-02-04T01:14:26.438Z"
   },
   {
    "duration": 8,
    "start_time": "2023-02-04T01:15:59.342Z"
   },
   {
    "duration": 8,
    "start_time": "2023-02-04T01:16:18.676Z"
   },
   {
    "duration": 790,
    "start_time": "2023-02-04T01:16:27.196Z"
   },
   {
    "duration": 6,
    "start_time": "2023-02-04T01:16:41.420Z"
   },
   {
    "duration": 310,
    "start_time": "2023-02-04T01:17:25.943Z"
   },
   {
    "duration": 324,
    "start_time": "2023-02-04T01:18:13.165Z"
   },
   {
    "duration": 340,
    "start_time": "2023-02-04T01:18:35.358Z"
   },
   {
    "duration": 9,
    "start_time": "2023-02-04T01:19:43.246Z"
   },
   {
    "duration": 6,
    "start_time": "2023-02-04T01:19:45.261Z"
   },
   {
    "duration": 8,
    "start_time": "2023-02-04T01:19:48.352Z"
   },
   {
    "duration": 6,
    "start_time": "2023-02-04T01:19:49.545Z"
   },
   {
    "duration": 772,
    "start_time": "2023-02-04T01:19:54.367Z"
   },
   {
    "duration": 8,
    "start_time": "2023-02-04T01:19:58.176Z"
   },
   {
    "duration": 819,
    "start_time": "2023-02-04T01:20:00.683Z"
   },
   {
    "duration": 901,
    "start_time": "2023-02-04T01:20:05.513Z"
   },
   {
    "duration": 11,
    "start_time": "2023-02-04T01:20:12.552Z"
   },
   {
    "duration": 906,
    "start_time": "2023-02-04T01:20:14.434Z"
   },
   {
    "duration": 8,
    "start_time": "2023-02-04T01:20:47.959Z"
   },
   {
    "duration": 5,
    "start_time": "2023-02-04T01:20:53.663Z"
   },
   {
    "duration": 8,
    "start_time": "2023-02-04T01:21:06.875Z"
   },
   {
    "duration": 18,
    "start_time": "2023-02-04T01:21:51.127Z"
   },
   {
    "duration": 6,
    "start_time": "2023-02-04T01:21:52.837Z"
   },
   {
    "duration": 12,
    "start_time": "2023-02-04T01:21:57.810Z"
   },
   {
    "duration": 14,
    "start_time": "2023-02-04T01:22:05.107Z"
   },
   {
    "duration": 12,
    "start_time": "2023-02-04T01:22:06.677Z"
   },
   {
    "duration": 385,
    "start_time": "2023-02-04T01:22:37.209Z"
   },
   {
    "duration": 6,
    "start_time": "2023-02-04T01:23:28.267Z"
   },
   {
    "duration": 13,
    "start_time": "2023-02-04T01:23:29.434Z"
   },
   {
    "duration": 10,
    "start_time": "2023-02-04T01:23:30.621Z"
   },
   {
    "duration": 7,
    "start_time": "2023-02-04T01:23:47.491Z"
   },
   {
    "duration": 9,
    "start_time": "2023-02-04T01:24:12.837Z"
   },
   {
    "duration": 6,
    "start_time": "2023-02-04T01:24:28.077Z"
   },
   {
    "duration": 11,
    "start_time": "2023-02-04T01:24:35.031Z"
   },
   {
    "duration": 12,
    "start_time": "2023-02-04T01:24:38.669Z"
   },
   {
    "duration": 8,
    "start_time": "2023-02-04T01:24:47.473Z"
   },
   {
    "duration": 7,
    "start_time": "2023-02-04T01:24:56.700Z"
   },
   {
    "duration": 7,
    "start_time": "2023-02-04T01:25:09.428Z"
   },
   {
    "duration": 19,
    "start_time": "2023-02-04T01:25:26.889Z"
   },
   {
    "duration": 7,
    "start_time": "2023-02-04T01:26:11.063Z"
   },
   {
    "duration": 7,
    "start_time": "2023-02-04T01:26:48.506Z"
   },
   {
    "duration": 17,
    "start_time": "2023-02-04T01:27:03.233Z"
   },
   {
    "duration": 15,
    "start_time": "2023-02-04T01:29:52.218Z"
   },
   {
    "duration": 8,
    "start_time": "2023-02-04T01:29:57.716Z"
   },
   {
    "duration": 7,
    "start_time": "2023-02-04T01:30:02.665Z"
   },
   {
    "duration": 8,
    "start_time": "2023-02-04T01:30:16.409Z"
   },
   {
    "duration": 11,
    "start_time": "2023-02-04T01:30:23.522Z"
   },
   {
    "duration": 6,
    "start_time": "2023-02-04T01:32:01.311Z"
   },
   {
    "duration": 6,
    "start_time": "2023-02-04T01:32:10.922Z"
   },
   {
    "duration": 6,
    "start_time": "2023-02-04T01:32:14.594Z"
   },
   {
    "duration": 18,
    "start_time": "2023-02-04T01:32:58.640Z"
   },
   {
    "duration": 7,
    "start_time": "2023-02-04T01:33:21.959Z"
   },
   {
    "duration": 6,
    "start_time": "2023-02-04T01:33:25.381Z"
   },
   {
    "duration": 8,
    "start_time": "2023-02-04T01:34:08.740Z"
   },
   {
    "duration": 7,
    "start_time": "2023-02-04T01:34:25.642Z"
   },
   {
    "duration": 6,
    "start_time": "2023-02-04T01:34:38.097Z"
   },
   {
    "duration": 6,
    "start_time": "2023-02-04T01:34:44.518Z"
   },
   {
    "duration": 7,
    "start_time": "2023-02-04T01:35:02.047Z"
   },
   {
    "duration": 9,
    "start_time": "2023-02-04T01:36:01.688Z"
   },
   {
    "duration": 7,
    "start_time": "2023-02-04T01:36:06.395Z"
   },
   {
    "duration": 6,
    "start_time": "2023-02-04T01:36:09.980Z"
   },
   {
    "duration": 8,
    "start_time": "2023-02-04T01:36:17.232Z"
   },
   {
    "duration": 8,
    "start_time": "2023-02-04T01:37:18.324Z"
   },
   {
    "duration": 6,
    "start_time": "2023-02-04T01:37:21.986Z"
   },
   {
    "duration": 5,
    "start_time": "2023-02-04T01:37:29.909Z"
   },
   {
    "duration": 43,
    "start_time": "2023-02-04T01:48:51.227Z"
   },
   {
    "duration": 1267,
    "start_time": "2023-02-04T01:52:14.833Z"
   },
   {
    "duration": 131,
    "start_time": "2023-02-04T01:52:16.102Z"
   },
   {
    "duration": 18,
    "start_time": "2023-02-04T01:52:16.235Z"
   },
   {
    "duration": 2084,
    "start_time": "2023-02-04T01:52:16.256Z"
   },
   {
    "duration": 15,
    "start_time": "2023-02-04T01:52:18.343Z"
   },
   {
    "duration": 8,
    "start_time": "2023-02-04T01:52:18.359Z"
   },
   {
    "duration": 9,
    "start_time": "2023-02-04T01:52:18.368Z"
   },
   {
    "duration": 6,
    "start_time": "2023-02-04T01:52:18.379Z"
   },
   {
    "duration": 7,
    "start_time": "2023-02-04T01:52:18.387Z"
   },
   {
    "duration": 26,
    "start_time": "2023-02-04T01:52:18.396Z"
   },
   {
    "duration": 11,
    "start_time": "2023-02-04T01:52:18.423Z"
   },
   {
    "duration": 5,
    "start_time": "2023-02-04T01:52:18.436Z"
   },
   {
    "duration": 7,
    "start_time": "2023-02-04T01:52:18.442Z"
   },
   {
    "duration": 8,
    "start_time": "2023-02-04T01:52:18.450Z"
   },
   {
    "duration": 12,
    "start_time": "2023-02-04T01:52:18.459Z"
   },
   {
    "duration": 7,
    "start_time": "2023-02-04T01:52:18.473Z"
   },
   {
    "duration": 40,
    "start_time": "2023-02-04T01:52:18.481Z"
   },
   {
    "duration": 3,
    "start_time": "2023-02-04T01:52:18.523Z"
   },
   {
    "duration": 11,
    "start_time": "2023-02-04T01:52:18.527Z"
   },
   {
    "duration": 7,
    "start_time": "2023-02-04T01:52:18.540Z"
   },
   {
    "duration": 12,
    "start_time": "2023-02-04T01:52:18.549Z"
   },
   {
    "duration": 280,
    "start_time": "2023-02-04T01:52:18.562Z"
   },
   {
    "duration": 4,
    "start_time": "2023-02-04T01:52:18.844Z"
   },
   {
    "duration": 6,
    "start_time": "2023-02-04T01:52:18.850Z"
   },
   {
    "duration": 10,
    "start_time": "2023-02-04T01:52:18.857Z"
   },
   {
    "duration": 6,
    "start_time": "2023-02-04T01:52:18.869Z"
   },
   {
    "duration": 13,
    "start_time": "2023-02-04T01:52:18.877Z"
   },
   {
    "duration": 15,
    "start_time": "2023-02-04T01:52:18.920Z"
   },
   {
    "duration": 13,
    "start_time": "2023-02-04T01:52:18.937Z"
   },
   {
    "duration": 8,
    "start_time": "2023-02-04T01:52:18.952Z"
   },
   {
    "duration": 12,
    "start_time": "2023-02-04T01:52:18.961Z"
   },
   {
    "duration": 7,
    "start_time": "2023-02-04T01:52:18.974Z"
   },
   {
    "duration": 51,
    "start_time": "2023-02-04T01:52:18.983Z"
   },
   {
    "duration": 13,
    "start_time": "2023-02-04T01:52:19.035Z"
   },
   {
    "duration": 3,
    "start_time": "2023-02-04T01:52:19.050Z"
   },
   {
    "duration": 5,
    "start_time": "2023-02-04T01:52:19.055Z"
   },
   {
    "duration": 149,
    "start_time": "2023-02-04T01:52:19.062Z"
   },
   {
    "duration": 13,
    "start_time": "2023-02-04T01:52:19.213Z"
   },
   {
    "duration": 3,
    "start_time": "2023-02-04T01:52:19.228Z"
   },
   {
    "duration": 412,
    "start_time": "2023-02-04T01:52:19.233Z"
   },
   {
    "duration": 4,
    "start_time": "2023-02-04T01:52:19.647Z"
   },
   {
    "duration": 5,
    "start_time": "2023-02-04T01:52:19.654Z"
   },
   {
    "duration": 76,
    "start_time": "2023-02-04T01:52:19.660Z"
   },
   {
    "duration": 11,
    "start_time": "2023-02-04T01:52:19.738Z"
   },
   {
    "duration": 5,
    "start_time": "2023-02-04T01:52:19.751Z"
   },
   {
    "duration": 84,
    "start_time": "2023-02-04T01:52:19.758Z"
   },
   {
    "duration": 15,
    "start_time": "2023-02-04T01:52:19.843Z"
   },
   {
    "duration": 140,
    "start_time": "2023-02-04T01:52:19.860Z"
   },
   {
    "duration": 9,
    "start_time": "2023-02-04T01:52:20.003Z"
   },
   {
    "duration": 8,
    "start_time": "2023-02-04T01:52:20.021Z"
   },
   {
    "duration": 8,
    "start_time": "2023-02-04T01:52:20.031Z"
   },
   {
    "duration": 63,
    "start_time": "2023-02-04T01:52:20.040Z"
   },
   {
    "duration": 259,
    "start_time": "2023-02-04T01:52:20.104Z"
   },
   {
    "duration": 7,
    "start_time": "2023-02-04T01:52:20.365Z"
   },
   {
    "duration": 219,
    "start_time": "2023-02-04T01:52:20.373Z"
   },
   {
    "duration": 7,
    "start_time": "2023-02-04T01:52:20.594Z"
   },
   {
    "duration": 75,
    "start_time": "2023-02-04T01:52:20.602Z"
   },
   {
    "duration": 6,
    "start_time": "2023-02-04T01:52:20.678Z"
   },
   {
    "duration": 7,
    "start_time": "2023-02-04T01:52:20.686Z"
   },
   {
    "duration": 32,
    "start_time": "2023-02-04T01:52:20.694Z"
   },
   {
    "duration": 6,
    "start_time": "2023-02-04T01:52:20.727Z"
   },
   {
    "duration": 13,
    "start_time": "2023-02-04T01:52:20.735Z"
   },
   {
    "duration": 73,
    "start_time": "2023-02-04T01:52:20.749Z"
   },
   {
    "duration": 238,
    "start_time": "2023-02-04T01:52:20.824Z"
   },
   {
    "duration": 157,
    "start_time": "2023-02-04T01:52:21.065Z"
   },
   {
    "duration": 6,
    "start_time": "2023-02-04T01:52:21.225Z"
   },
   {
    "duration": 9,
    "start_time": "2023-02-04T01:52:21.233Z"
   },
   {
    "duration": 7,
    "start_time": "2023-02-04T01:52:21.243Z"
   },
   {
    "duration": 204,
    "start_time": "2023-02-04T01:52:21.251Z"
   },
   {
    "duration": 7,
    "start_time": "2023-02-04T01:52:21.457Z"
   },
   {
    "duration": 12,
    "start_time": "2023-02-04T01:52:21.466Z"
   },
   {
    "duration": 219,
    "start_time": "2023-02-04T01:52:21.480Z"
   },
   {
    "duration": 6,
    "start_time": "2023-02-04T01:52:21.701Z"
   },
   {
    "duration": 11,
    "start_time": "2023-02-04T01:52:21.721Z"
   },
   {
    "duration": 8,
    "start_time": "2023-02-04T01:52:21.734Z"
   },
   {
    "duration": 290,
    "start_time": "2023-02-04T01:52:21.744Z"
   },
   {
    "duration": 6,
    "start_time": "2023-02-04T01:52:22.035Z"
   },
   {
    "duration": 60,
    "start_time": "2023-02-04T01:52:22.042Z"
   },
   {
    "duration": 24,
    "start_time": "2023-02-04T01:52:22.104Z"
   },
   {
    "duration": 4,
    "start_time": "2023-02-04T01:52:22.130Z"
   },
   {
    "duration": 132,
    "start_time": "2023-02-04T01:52:22.135Z"
   },
   {
    "duration": 4,
    "start_time": "2023-02-04T01:52:22.272Z"
   },
   {
    "duration": 3196,
    "start_time": "2023-02-04T01:52:22.278Z"
   },
   {
    "duration": 245,
    "start_time": "2023-02-04T01:52:25.476Z"
   },
   {
    "duration": 9,
    "start_time": "2023-02-04T01:52:25.723Z"
   },
   {
    "duration": 3,
    "start_time": "2023-02-04T01:52:25.734Z"
   },
   {
    "duration": 1402,
    "start_time": "2023-02-04T01:52:25.739Z"
   },
   {
    "duration": 223,
    "start_time": "2023-02-04T01:52:27.143Z"
   },
   {
    "duration": 7,
    "start_time": "2023-02-04T01:52:27.368Z"
   },
   {
    "duration": 8,
    "start_time": "2023-02-04T01:52:27.376Z"
   },
   {
    "duration": 5,
    "start_time": "2023-02-04T01:52:27.386Z"
   },
   {
    "duration": 29,
    "start_time": "2023-02-04T01:52:27.393Z"
   },
   {
    "duration": 19,
    "start_time": "2023-02-04T01:52:27.424Z"
   },
   {
    "duration": 364,
    "start_time": "2023-02-04T01:52:27.445Z"
   },
   {
    "duration": 22,
    "start_time": "2023-02-04T01:52:27.811Z"
   },
   {
    "duration": 7,
    "start_time": "2023-02-04T01:52:27.834Z"
   },
   {
    "duration": 9,
    "start_time": "2023-02-04T01:52:27.843Z"
   },
   {
    "duration": 1204,
    "start_time": "2023-02-04T03:27:40.115Z"
   },
   {
    "duration": 116,
    "start_time": "2023-02-04T03:27:41.321Z"
   },
   {
    "duration": 15,
    "start_time": "2023-02-04T03:27:41.439Z"
   },
   {
    "duration": 1980,
    "start_time": "2023-02-04T03:27:41.456Z"
   },
   {
    "duration": 18,
    "start_time": "2023-02-04T03:27:43.438Z"
   },
   {
    "duration": 13,
    "start_time": "2023-02-04T03:27:43.458Z"
   },
   {
    "duration": 8,
    "start_time": "2023-02-04T03:27:43.473Z"
   },
   {
    "duration": 7,
    "start_time": "2023-02-04T03:27:43.483Z"
   },
   {
    "duration": 6,
    "start_time": "2023-02-04T03:27:43.491Z"
   },
   {
    "duration": 23,
    "start_time": "2023-02-04T03:27:43.499Z"
   },
   {
    "duration": 11,
    "start_time": "2023-02-04T03:27:43.524Z"
   },
   {
    "duration": 7,
    "start_time": "2023-02-04T03:27:43.537Z"
   },
   {
    "duration": 10,
    "start_time": "2023-02-04T03:27:43.546Z"
   },
   {
    "duration": 9,
    "start_time": "2023-02-04T03:27:43.559Z"
   },
   {
    "duration": 11,
    "start_time": "2023-02-04T03:27:43.570Z"
   },
   {
    "duration": 39,
    "start_time": "2023-02-04T03:27:43.584Z"
   },
   {
    "duration": 3,
    "start_time": "2023-02-04T03:27:43.625Z"
   },
   {
    "duration": 6,
    "start_time": "2023-02-04T03:27:43.630Z"
   },
   {
    "duration": 9,
    "start_time": "2023-02-04T03:27:43.637Z"
   },
   {
    "duration": 5,
    "start_time": "2023-02-04T03:27:43.648Z"
   },
   {
    "duration": 15,
    "start_time": "2023-02-04T03:27:43.654Z"
   },
   {
    "duration": 288,
    "start_time": "2023-02-04T03:27:43.671Z"
   },
   {
    "duration": 5,
    "start_time": "2023-02-04T03:27:43.961Z"
   },
   {
    "duration": 8,
    "start_time": "2023-02-04T03:27:43.967Z"
   },
   {
    "duration": 8,
    "start_time": "2023-02-04T03:27:43.977Z"
   },
   {
    "duration": 6,
    "start_time": "2023-02-04T03:27:43.987Z"
   },
   {
    "duration": 30,
    "start_time": "2023-02-04T03:27:43.994Z"
   },
   {
    "duration": 15,
    "start_time": "2023-02-04T03:27:44.029Z"
   },
   {
    "duration": 14,
    "start_time": "2023-02-04T03:27:44.046Z"
   },
   {
    "duration": 9,
    "start_time": "2023-02-04T03:27:44.062Z"
   },
   {
    "duration": 10,
    "start_time": "2023-02-04T03:27:44.072Z"
   },
   {
    "duration": 39,
    "start_time": "2023-02-04T03:27:44.084Z"
   },
   {
    "duration": 23,
    "start_time": "2023-02-04T03:27:44.125Z"
   },
   {
    "duration": 15,
    "start_time": "2023-02-04T03:27:44.150Z"
   },
   {
    "duration": 2,
    "start_time": "2023-02-04T03:27:44.167Z"
   },
   {
    "duration": 7,
    "start_time": "2023-02-04T03:27:44.171Z"
   },
   {
    "duration": 167,
    "start_time": "2023-02-04T03:27:44.180Z"
   },
   {
    "duration": 11,
    "start_time": "2023-02-04T03:27:44.349Z"
   },
   {
    "duration": 3,
    "start_time": "2023-02-04T03:27:44.362Z"
   },
   {
    "duration": 460,
    "start_time": "2023-02-04T03:27:44.367Z"
   },
   {
    "duration": 3,
    "start_time": "2023-02-04T03:27:44.829Z"
   },
   {
    "duration": 4,
    "start_time": "2023-02-04T03:27:44.834Z"
   },
   {
    "duration": 57,
    "start_time": "2023-02-04T03:27:44.840Z"
   },
   {
    "duration": 23,
    "start_time": "2023-02-04T03:27:44.899Z"
   },
   {
    "duration": 4,
    "start_time": "2023-02-04T03:27:44.924Z"
   },
   {
    "duration": 73,
    "start_time": "2023-02-04T03:27:44.930Z"
   },
   {
    "duration": 29,
    "start_time": "2023-02-04T03:27:45.005Z"
   },
   {
    "duration": 161,
    "start_time": "2023-02-04T03:27:45.036Z"
   },
   {
    "duration": 9,
    "start_time": "2023-02-04T03:27:45.199Z"
   },
   {
    "duration": 17,
    "start_time": "2023-02-04T03:27:45.210Z"
   },
   {
    "duration": 5,
    "start_time": "2023-02-04T03:27:45.229Z"
   },
   {
    "duration": 85,
    "start_time": "2023-02-04T03:27:45.236Z"
   },
   {
    "duration": 242,
    "start_time": "2023-02-04T03:27:45.323Z"
   },
   {
    "duration": 7,
    "start_time": "2023-02-04T03:27:45.567Z"
   },
   {
    "duration": 218,
    "start_time": "2023-02-04T03:27:45.576Z"
   },
   {
    "duration": 7,
    "start_time": "2023-02-04T03:27:45.796Z"
   },
   {
    "duration": 78,
    "start_time": "2023-02-04T03:27:45.805Z"
   },
   {
    "duration": 6,
    "start_time": "2023-02-04T03:27:45.885Z"
   },
   {
    "duration": 8,
    "start_time": "2023-02-04T03:27:45.893Z"
   },
   {
    "duration": 26,
    "start_time": "2023-02-04T03:27:45.903Z"
   },
   {
    "duration": 5,
    "start_time": "2023-02-04T03:27:45.931Z"
   },
   {
    "duration": 7,
    "start_time": "2023-02-04T03:27:45.938Z"
   },
   {
    "duration": 75,
    "start_time": "2023-02-04T03:27:45.947Z"
   },
   {
    "duration": 250,
    "start_time": "2023-02-04T03:27:46.023Z"
   },
   {
    "duration": 155,
    "start_time": "2023-02-04T03:27:46.275Z"
   },
   {
    "duration": 6,
    "start_time": "2023-02-04T03:27:46.432Z"
   },
   {
    "duration": 9,
    "start_time": "2023-02-04T03:27:46.440Z"
   },
   {
    "duration": 8,
    "start_time": "2023-02-04T03:27:46.450Z"
   },
   {
    "duration": 205,
    "start_time": "2023-02-04T03:27:46.459Z"
   },
   {
    "duration": 9,
    "start_time": "2023-02-04T03:27:46.666Z"
   },
   {
    "duration": 6,
    "start_time": "2023-02-04T03:27:46.677Z"
   },
   {
    "duration": 218,
    "start_time": "2023-02-04T03:27:46.684Z"
   },
   {
    "duration": 6,
    "start_time": "2023-02-04T03:27:46.904Z"
   },
   {
    "duration": 10,
    "start_time": "2023-02-04T03:27:46.921Z"
   },
   {
    "duration": 7,
    "start_time": "2023-02-04T03:27:46.933Z"
   },
   {
    "duration": 269,
    "start_time": "2023-02-04T03:27:46.942Z"
   },
   {
    "duration": 11,
    "start_time": "2023-02-04T03:27:47.213Z"
   },
   {
    "duration": 56,
    "start_time": "2023-02-04T03:27:47.226Z"
   },
   {
    "duration": 9,
    "start_time": "2023-02-04T03:27:47.284Z"
   },
   {
    "duration": 26,
    "start_time": "2023-02-04T03:27:47.295Z"
   },
   {
    "duration": 119,
    "start_time": "2023-02-04T03:27:47.323Z"
   },
   {
    "duration": 4,
    "start_time": "2023-02-04T03:27:47.448Z"
   },
   {
    "duration": 3002,
    "start_time": "2023-02-04T03:27:47.454Z"
   },
   {
    "duration": 232,
    "start_time": "2023-02-04T03:27:50.458Z"
   },
   {
    "duration": 7,
    "start_time": "2023-02-04T03:27:50.693Z"
   },
   {
    "duration": 3,
    "start_time": "2023-02-04T03:27:50.701Z"
   },
   {
    "duration": 1272,
    "start_time": "2023-02-04T03:27:50.705Z"
   },
   {
    "duration": 202,
    "start_time": "2023-02-04T03:27:51.978Z"
   },
   {
    "duration": 7,
    "start_time": "2023-02-04T03:27:52.182Z"
   },
   {
    "duration": 5,
    "start_time": "2023-02-04T03:27:52.190Z"
   },
   {
    "duration": 25,
    "start_time": "2023-02-04T03:27:52.197Z"
   },
   {
    "duration": 7,
    "start_time": "2023-02-04T03:27:52.223Z"
   },
   {
    "duration": 19,
    "start_time": "2023-02-04T03:27:52.232Z"
   },
   {
    "duration": 361,
    "start_time": "2023-02-04T03:27:52.253Z"
   },
   {
    "duration": 17,
    "start_time": "2023-02-04T03:27:52.616Z"
   },
   {
    "duration": 6,
    "start_time": "2023-02-04T03:27:52.634Z"
   },
   {
    "duration": 7,
    "start_time": "2023-02-04T03:27:52.642Z"
   },
   {
    "duration": 1190,
    "start_time": "2023-02-04T03:31:52.850Z"
   },
   {
    "duration": 118,
    "start_time": "2023-02-04T03:31:54.042Z"
   },
   {
    "duration": 16,
    "start_time": "2023-02-04T03:31:54.162Z"
   },
   {
    "duration": 2160,
    "start_time": "2023-02-04T03:31:54.180Z"
   },
   {
    "duration": 23,
    "start_time": "2023-02-04T03:31:56.343Z"
   },
   {
    "duration": 10,
    "start_time": "2023-02-04T03:31:56.368Z"
   },
   {
    "duration": 6,
    "start_time": "2023-02-04T03:31:56.379Z"
   },
   {
    "duration": 8,
    "start_time": "2023-02-04T03:31:56.387Z"
   },
   {
    "duration": 25,
    "start_time": "2023-02-04T03:31:56.397Z"
   },
   {
    "duration": 23,
    "start_time": "2023-02-04T03:31:56.429Z"
   },
   {
    "duration": 24,
    "start_time": "2023-02-04T03:31:56.455Z"
   },
   {
    "duration": 7,
    "start_time": "2023-02-04T03:31:56.481Z"
   },
   {
    "duration": 9,
    "start_time": "2023-02-04T03:31:56.489Z"
   },
   {
    "duration": 6,
    "start_time": "2023-02-04T03:31:56.500Z"
   },
   {
    "duration": 15,
    "start_time": "2023-02-04T03:31:56.508Z"
   },
   {
    "duration": 11,
    "start_time": "2023-02-04T03:31:56.526Z"
   },
   {
    "duration": 12,
    "start_time": "2023-02-04T03:31:56.538Z"
   },
   {
    "duration": 11,
    "start_time": "2023-02-04T03:31:56.552Z"
   },
   {
    "duration": 16,
    "start_time": "2023-02-04T03:31:56.565Z"
   },
   {
    "duration": 8,
    "start_time": "2023-02-04T03:31:56.583Z"
   },
   {
    "duration": 37,
    "start_time": "2023-02-04T03:31:56.594Z"
   },
   {
    "duration": 263,
    "start_time": "2023-02-04T03:31:56.633Z"
   },
   {
    "duration": 5,
    "start_time": "2023-02-04T03:31:56.897Z"
   },
   {
    "duration": 18,
    "start_time": "2023-02-04T03:31:56.904Z"
   },
   {
    "duration": 13,
    "start_time": "2023-02-04T03:31:56.923Z"
   },
   {
    "duration": 10,
    "start_time": "2023-02-04T03:31:56.938Z"
   },
   {
    "duration": 11,
    "start_time": "2023-02-04T03:31:56.950Z"
   },
   {
    "duration": 15,
    "start_time": "2023-02-04T03:31:56.965Z"
   },
   {
    "duration": 51,
    "start_time": "2023-02-04T03:31:56.982Z"
   },
   {
    "duration": 8,
    "start_time": "2023-02-04T03:31:57.035Z"
   },
   {
    "duration": 9,
    "start_time": "2023-02-04T03:31:57.044Z"
   },
   {
    "duration": 12,
    "start_time": "2023-02-04T03:31:57.055Z"
   },
   {
    "duration": 23,
    "start_time": "2023-02-04T03:31:57.069Z"
   },
   {
    "duration": 39,
    "start_time": "2023-02-04T03:31:57.094Z"
   },
   {
    "duration": 3,
    "start_time": "2023-02-04T03:31:57.134Z"
   },
   {
    "duration": 7,
    "start_time": "2023-02-04T03:31:57.138Z"
   },
   {
    "duration": 146,
    "start_time": "2023-02-04T03:31:57.146Z"
   },
   {
    "duration": 12,
    "start_time": "2023-02-04T03:31:57.294Z"
   },
   {
    "duration": 13,
    "start_time": "2023-02-04T03:31:57.308Z"
   },
   {
    "duration": 400,
    "start_time": "2023-02-04T03:31:57.323Z"
   },
   {
    "duration": 4,
    "start_time": "2023-02-04T03:31:57.724Z"
   },
   {
    "duration": 5,
    "start_time": "2023-02-04T03:31:57.730Z"
   },
   {
    "duration": 61,
    "start_time": "2023-02-04T03:31:57.736Z"
   },
   {
    "duration": 10,
    "start_time": "2023-02-04T03:31:57.798Z"
   },
   {
    "duration": 15,
    "start_time": "2023-02-04T03:31:57.809Z"
   },
   {
    "duration": 74,
    "start_time": "2023-02-04T03:31:57.826Z"
   },
   {
    "duration": 30,
    "start_time": "2023-02-04T03:31:57.902Z"
   },
   {
    "duration": 140,
    "start_time": "2023-02-04T03:31:57.934Z"
   },
   {
    "duration": 10,
    "start_time": "2023-02-04T03:31:58.076Z"
   },
   {
    "duration": 9,
    "start_time": "2023-02-04T03:31:58.087Z"
   },
   {
    "duration": 27,
    "start_time": "2023-02-04T03:31:58.097Z"
   },
   {
    "duration": 98,
    "start_time": "2023-02-04T03:31:58.126Z"
   },
   {
    "duration": 232,
    "start_time": "2023-02-04T03:31:58.225Z"
   },
   {
    "duration": 6,
    "start_time": "2023-02-04T03:31:58.458Z"
   },
   {
    "duration": 206,
    "start_time": "2023-02-04T03:31:58.466Z"
   },
   {
    "duration": 9,
    "start_time": "2023-02-04T03:31:58.674Z"
   },
   {
    "duration": 96,
    "start_time": "2023-02-04T03:31:58.686Z"
   },
   {
    "duration": 6,
    "start_time": "2023-02-04T03:31:58.784Z"
   },
   {
    "duration": 9,
    "start_time": "2023-02-04T03:31:58.791Z"
   },
   {
    "duration": 23,
    "start_time": "2023-02-04T03:31:58.802Z"
   },
   {
    "duration": 6,
    "start_time": "2023-02-04T03:31:58.826Z"
   },
   {
    "duration": 8,
    "start_time": "2023-02-04T03:31:58.834Z"
   },
   {
    "duration": 82,
    "start_time": "2023-02-04T03:31:58.844Z"
   },
   {
    "duration": 235,
    "start_time": "2023-02-04T03:31:58.927Z"
   },
   {
    "duration": 162,
    "start_time": "2023-02-04T03:31:59.164Z"
   },
   {
    "duration": 6,
    "start_time": "2023-02-04T03:31:59.328Z"
   },
   {
    "duration": 7,
    "start_time": "2023-02-04T03:31:59.336Z"
   },
   {
    "duration": 8,
    "start_time": "2023-02-04T03:31:59.345Z"
   },
   {
    "duration": 209,
    "start_time": "2023-02-04T03:31:59.355Z"
   },
   {
    "duration": 8,
    "start_time": "2023-02-04T03:31:59.566Z"
   },
   {
    "duration": 4,
    "start_time": "2023-02-04T03:31:59.576Z"
   },
   {
    "duration": 220,
    "start_time": "2023-02-04T03:31:59.581Z"
   },
   {
    "duration": 2,
    "start_time": "2023-02-04T03:31:59.803Z"
   },
   {
    "duration": 19,
    "start_time": "2023-02-04T03:31:59.807Z"
   },
   {
    "duration": 8,
    "start_time": "2023-02-04T03:31:59.828Z"
   },
   {
    "duration": 287,
    "start_time": "2023-02-04T03:31:59.838Z"
   },
   {
    "duration": 5,
    "start_time": "2023-02-04T03:32:00.127Z"
   },
   {
    "duration": 61,
    "start_time": "2023-02-04T03:32:00.133Z"
   },
   {
    "duration": 31,
    "start_time": "2023-02-04T03:32:00.196Z"
   },
   {
    "duration": 3,
    "start_time": "2023-02-04T03:32:00.229Z"
   },
   {
    "duration": 147,
    "start_time": "2023-02-04T03:32:00.234Z"
   },
   {
    "duration": 4,
    "start_time": "2023-02-04T03:32:00.387Z"
   },
   {
    "duration": 3159,
    "start_time": "2023-02-04T03:32:00.393Z"
   },
   {
    "duration": 245,
    "start_time": "2023-02-04T03:32:03.554Z"
   },
   {
    "duration": 22,
    "start_time": "2023-02-04T03:32:03.800Z"
   },
   {
    "duration": 2,
    "start_time": "2023-02-04T03:32:03.824Z"
   },
   {
    "duration": 1472,
    "start_time": "2023-02-04T03:32:03.828Z"
   },
   {
    "duration": 246,
    "start_time": "2023-02-04T03:32:05.302Z"
   },
   {
    "duration": 8,
    "start_time": "2023-02-04T03:32:05.550Z"
   },
   {
    "duration": 28,
    "start_time": "2023-02-04T03:32:05.560Z"
   },
   {
    "duration": 24,
    "start_time": "2023-02-04T03:32:05.589Z"
   },
   {
    "duration": 20,
    "start_time": "2023-02-04T03:32:05.616Z"
   },
   {
    "duration": 30,
    "start_time": "2023-02-04T03:32:05.639Z"
   },
   {
    "duration": 389,
    "start_time": "2023-02-04T03:32:05.672Z"
   },
   {
    "duration": 18,
    "start_time": "2023-02-04T03:32:06.063Z"
   },
   {
    "duration": 26,
    "start_time": "2023-02-04T03:32:06.082Z"
   },
   {
    "duration": 30,
    "start_time": "2023-02-04T03:32:06.109Z"
   },
   {
    "duration": 6,
    "start_time": "2023-02-04T03:34:46.046Z"
   },
   {
    "duration": 1251,
    "start_time": "2023-02-04T03:35:07.490Z"
   },
   {
    "duration": 136,
    "start_time": "2023-02-04T03:35:08.743Z"
   },
   {
    "duration": 17,
    "start_time": "2023-02-04T03:35:08.881Z"
   },
   {
    "duration": 2103,
    "start_time": "2023-02-04T03:35:08.901Z"
   },
   {
    "duration": 16,
    "start_time": "2023-02-04T03:35:11.007Z"
   },
   {
    "duration": 9,
    "start_time": "2023-02-04T03:35:11.025Z"
   },
   {
    "duration": 17,
    "start_time": "2023-02-04T03:35:11.036Z"
   },
   {
    "duration": 6,
    "start_time": "2023-02-04T03:35:11.055Z"
   },
   {
    "duration": 6,
    "start_time": "2023-02-04T03:35:11.062Z"
   },
   {
    "duration": 10,
    "start_time": "2023-02-04T03:35:11.072Z"
   },
   {
    "duration": 39,
    "start_time": "2023-02-04T03:35:11.084Z"
   },
   {
    "duration": 6,
    "start_time": "2023-02-04T03:35:11.125Z"
   },
   {
    "duration": 8,
    "start_time": "2023-02-04T03:35:11.133Z"
   },
   {
    "duration": 7,
    "start_time": "2023-02-04T03:35:11.144Z"
   },
   {
    "duration": 13,
    "start_time": "2023-02-04T03:35:11.153Z"
   },
   {
    "duration": 8,
    "start_time": "2023-02-04T03:35:11.168Z"
   },
   {
    "duration": 7,
    "start_time": "2023-02-04T03:35:11.177Z"
   },
   {
    "duration": 36,
    "start_time": "2023-02-04T03:35:11.186Z"
   },
   {
    "duration": 9,
    "start_time": "2023-02-04T03:35:11.224Z"
   },
   {
    "duration": 9,
    "start_time": "2023-02-04T03:35:11.235Z"
   },
   {
    "duration": 14,
    "start_time": "2023-02-04T03:35:11.246Z"
   },
   {
    "duration": 286,
    "start_time": "2023-02-04T03:35:11.262Z"
   },
   {
    "duration": 5,
    "start_time": "2023-02-04T03:35:11.549Z"
   },
   {
    "duration": 6,
    "start_time": "2023-02-04T03:35:11.556Z"
   },
   {
    "duration": 11,
    "start_time": "2023-02-04T03:35:11.564Z"
   },
   {
    "duration": 7,
    "start_time": "2023-02-04T03:35:11.577Z"
   },
   {
    "duration": 40,
    "start_time": "2023-02-04T03:35:11.585Z"
   },
   {
    "duration": 14,
    "start_time": "2023-02-04T03:35:11.629Z"
   },
   {
    "duration": 20,
    "start_time": "2023-02-04T03:35:11.645Z"
   },
   {
    "duration": 9,
    "start_time": "2023-02-04T03:35:11.667Z"
   },
   {
    "duration": 7,
    "start_time": "2023-02-04T03:35:11.678Z"
   },
   {
    "duration": 38,
    "start_time": "2023-02-04T03:35:11.687Z"
   },
   {
    "duration": 21,
    "start_time": "2023-02-04T03:35:11.727Z"
   },
   {
    "duration": 14,
    "start_time": "2023-02-04T03:35:11.750Z"
   },
   {
    "duration": 4,
    "start_time": "2023-02-04T03:35:11.766Z"
   },
   {
    "duration": 5,
    "start_time": "2023-02-04T03:35:11.772Z"
   },
   {
    "duration": 166,
    "start_time": "2023-02-04T03:35:11.779Z"
   },
   {
    "duration": 13,
    "start_time": "2023-02-04T03:35:11.947Z"
   },
   {
    "duration": 4,
    "start_time": "2023-02-04T03:35:11.963Z"
   },
   {
    "duration": 429,
    "start_time": "2023-02-04T03:35:11.968Z"
   },
   {
    "duration": 5,
    "start_time": "2023-02-04T03:35:12.399Z"
   },
   {
    "duration": 16,
    "start_time": "2023-02-04T03:35:12.406Z"
   },
   {
    "duration": 72,
    "start_time": "2023-02-04T03:35:12.424Z"
   },
   {
    "duration": 10,
    "start_time": "2023-02-04T03:35:12.498Z"
   },
   {
    "duration": 14,
    "start_time": "2023-02-04T03:35:12.509Z"
   },
   {
    "duration": 66,
    "start_time": "2023-02-04T03:35:12.525Z"
   },
   {
    "duration": 29,
    "start_time": "2023-02-04T03:35:12.593Z"
   },
   {
    "duration": 137,
    "start_time": "2023-02-04T03:35:12.624Z"
   },
   {
    "duration": 9,
    "start_time": "2023-02-04T03:35:12.763Z"
   },
   {
    "duration": 10,
    "start_time": "2023-02-04T03:35:12.773Z"
   },
   {
    "duration": 7,
    "start_time": "2023-02-04T03:35:12.784Z"
   },
   {
    "duration": 88,
    "start_time": "2023-02-04T03:35:12.793Z"
   },
   {
    "duration": 238,
    "start_time": "2023-02-04T03:35:12.882Z"
   },
   {
    "duration": 9,
    "start_time": "2023-02-04T03:35:13.122Z"
   },
   {
    "duration": 240,
    "start_time": "2023-02-04T03:35:13.133Z"
   },
   {
    "duration": 8,
    "start_time": "2023-02-04T03:35:13.376Z"
   },
   {
    "duration": 90,
    "start_time": "2023-02-04T03:35:13.386Z"
   },
   {
    "duration": 8,
    "start_time": "2023-02-04T03:35:13.478Z"
   },
   {
    "duration": 12,
    "start_time": "2023-02-04T03:35:13.488Z"
   },
   {
    "duration": 33,
    "start_time": "2023-02-04T03:35:13.502Z"
   },
   {
    "duration": 12,
    "start_time": "2023-02-04T03:35:13.536Z"
   },
   {
    "duration": 10,
    "start_time": "2023-02-04T03:35:13.550Z"
   },
   {
    "duration": 80,
    "start_time": "2023-02-04T03:35:13.562Z"
   },
   {
    "duration": 251,
    "start_time": "2023-02-04T03:35:13.644Z"
   },
   {
    "duration": 156,
    "start_time": "2023-02-04T03:35:13.897Z"
   },
   {
    "duration": 9,
    "start_time": "2023-02-04T03:35:14.055Z"
   },
   {
    "duration": 9,
    "start_time": "2023-02-04T03:35:14.066Z"
   },
   {
    "duration": 8,
    "start_time": "2023-02-04T03:35:14.077Z"
   },
   {
    "duration": 217,
    "start_time": "2023-02-04T03:35:14.087Z"
   },
   {
    "duration": 15,
    "start_time": "2023-02-04T03:35:14.307Z"
   },
   {
    "duration": 7,
    "start_time": "2023-02-04T03:35:14.323Z"
   },
   {
    "duration": 290,
    "start_time": "2023-02-04T03:35:14.332Z"
   },
   {
    "duration": 6,
    "start_time": "2023-02-04T03:35:14.624Z"
   },
   {
    "duration": 17,
    "start_time": "2023-02-04T03:35:14.632Z"
   },
   {
    "duration": 9,
    "start_time": "2023-02-04T03:35:14.651Z"
   },
   {
    "duration": 298,
    "start_time": "2023-02-04T03:35:14.662Z"
   },
   {
    "duration": 5,
    "start_time": "2023-02-04T03:35:14.962Z"
   },
   {
    "duration": 76,
    "start_time": "2023-02-04T03:35:14.969Z"
   },
   {
    "duration": 10,
    "start_time": "2023-02-04T03:35:15.047Z"
   },
   {
    "duration": 5,
    "start_time": "2023-02-04T03:35:15.059Z"
   },
   {
    "duration": 161,
    "start_time": "2023-02-04T03:35:15.066Z"
   },
   {
    "duration": 5,
    "start_time": "2023-02-04T03:35:15.233Z"
   },
   {
    "duration": 3198,
    "start_time": "2023-02-04T03:35:15.239Z"
   },
   {
    "duration": 247,
    "start_time": "2023-02-04T03:35:18.439Z"
   },
   {
    "duration": 8,
    "start_time": "2023-02-04T03:35:18.688Z"
   },
   {
    "duration": 76,
    "start_time": "2023-02-04T03:35:18.697Z"
   },
   {
    "duration": 1371,
    "start_time": "2023-02-04T03:35:18.775Z"
   },
   {
    "duration": 220,
    "start_time": "2023-02-04T03:35:20.148Z"
   },
   {
    "duration": 6,
    "start_time": "2023-02-04T03:35:20.370Z"
   },
   {
    "duration": 30,
    "start_time": "2023-02-04T03:35:20.377Z"
   },
   {
    "duration": 16,
    "start_time": "2023-02-04T03:35:20.408Z"
   },
   {
    "duration": 21,
    "start_time": "2023-02-04T03:35:20.425Z"
   },
   {
    "duration": 30,
    "start_time": "2023-02-04T03:35:20.447Z"
   },
   {
    "duration": 346,
    "start_time": "2023-02-04T03:35:20.478Z"
   },
   {
    "duration": 18,
    "start_time": "2023-02-04T03:35:20.825Z"
   },
   {
    "duration": 6,
    "start_time": "2023-02-04T03:35:20.844Z"
   },
   {
    "duration": 17,
    "start_time": "2023-02-04T03:35:20.852Z"
   },
   {
    "duration": 1325,
    "start_time": "2023-02-04T05:08:13.383Z"
   },
   {
    "duration": 130,
    "start_time": "2023-02-04T05:08:14.710Z"
   },
   {
    "duration": 15,
    "start_time": "2023-02-04T05:08:14.842Z"
   },
   {
    "duration": 2129,
    "start_time": "2023-02-04T05:08:14.859Z"
   },
   {
    "duration": 15,
    "start_time": "2023-02-04T05:08:16.990Z"
   },
   {
    "duration": 8,
    "start_time": "2023-02-04T05:08:17.007Z"
   },
   {
    "duration": 17,
    "start_time": "2023-02-04T05:08:17.016Z"
   },
   {
    "duration": 10,
    "start_time": "2023-02-04T05:08:17.036Z"
   },
   {
    "duration": 6,
    "start_time": "2023-02-04T05:08:17.048Z"
   },
   {
    "duration": 8,
    "start_time": "2023-02-04T05:08:17.057Z"
   },
   {
    "duration": 10,
    "start_time": "2023-02-04T05:08:17.066Z"
   },
   {
    "duration": 4,
    "start_time": "2023-02-04T05:08:17.077Z"
   },
   {
    "duration": 8,
    "start_time": "2023-02-04T05:08:17.083Z"
   },
   {
    "duration": 6,
    "start_time": "2023-02-04T05:08:17.092Z"
   },
   {
    "duration": 21,
    "start_time": "2023-02-04T05:08:17.121Z"
   },
   {
    "duration": 8,
    "start_time": "2023-02-04T05:08:17.144Z"
   },
   {
    "duration": 7,
    "start_time": "2023-02-04T05:08:17.154Z"
   },
   {
    "duration": 5,
    "start_time": "2023-02-04T05:08:17.162Z"
   },
   {
    "duration": 7,
    "start_time": "2023-02-04T05:08:17.168Z"
   },
   {
    "duration": 6,
    "start_time": "2023-02-04T05:08:17.177Z"
   },
   {
    "duration": 10,
    "start_time": "2023-02-04T05:08:17.185Z"
   },
   {
    "duration": 331,
    "start_time": "2023-02-04T05:08:17.196Z"
   },
   {
    "duration": 6,
    "start_time": "2023-02-04T05:08:17.536Z"
   },
   {
    "duration": 8,
    "start_time": "2023-02-04T05:08:17.543Z"
   },
   {
    "duration": 11,
    "start_time": "2023-02-04T05:08:17.553Z"
   },
   {
    "duration": 9,
    "start_time": "2023-02-04T05:08:17.566Z"
   },
   {
    "duration": 19,
    "start_time": "2023-02-04T05:08:17.577Z"
   },
   {
    "duration": 14,
    "start_time": "2023-02-04T05:08:17.600Z"
   },
   {
    "duration": 16,
    "start_time": "2023-02-04T05:08:17.632Z"
   },
   {
    "duration": 9,
    "start_time": "2023-02-04T05:08:17.649Z"
   },
   {
    "duration": 9,
    "start_time": "2023-02-04T05:08:17.659Z"
   },
   {
    "duration": 11,
    "start_time": "2023-02-04T05:08:17.670Z"
   },
   {
    "duration": 23,
    "start_time": "2023-02-04T05:08:17.682Z"
   },
   {
    "duration": 16,
    "start_time": "2023-02-04T05:08:17.730Z"
   },
   {
    "duration": 6,
    "start_time": "2023-02-04T05:08:17.748Z"
   },
   {
    "duration": 4,
    "start_time": "2023-02-04T05:08:17.755Z"
   },
   {
    "duration": 139,
    "start_time": "2023-02-04T05:08:17.761Z"
   },
   {
    "duration": 12,
    "start_time": "2023-02-04T05:08:17.901Z"
   },
   {
    "duration": 3,
    "start_time": "2023-02-04T05:08:17.914Z"
   },
   {
    "duration": 462,
    "start_time": "2023-02-04T05:08:17.920Z"
   },
   {
    "duration": 5,
    "start_time": "2023-02-04T05:08:18.384Z"
   },
   {
    "duration": 11,
    "start_time": "2023-02-04T05:08:18.391Z"
   },
   {
    "duration": 68,
    "start_time": "2023-02-04T05:08:18.403Z"
   },
   {
    "duration": 10,
    "start_time": "2023-02-04T05:08:18.473Z"
   },
   {
    "duration": 6,
    "start_time": "2023-02-04T05:08:18.484Z"
   },
   {
    "duration": 82,
    "start_time": "2023-02-04T05:08:18.491Z"
   },
   {
    "duration": 16,
    "start_time": "2023-02-04T05:08:18.575Z"
   },
   {
    "duration": 145,
    "start_time": "2023-02-04T05:08:18.593Z"
   },
   {
    "duration": 8,
    "start_time": "2023-02-04T05:08:18.742Z"
   },
   {
    "duration": 10,
    "start_time": "2023-02-04T05:08:18.751Z"
   },
   {
    "duration": 5,
    "start_time": "2023-02-04T05:08:18.763Z"
   },
   {
    "duration": 87,
    "start_time": "2023-02-04T05:08:18.769Z"
   },
   {
    "duration": 241,
    "start_time": "2023-02-04T05:08:18.858Z"
   },
   {
    "duration": 7,
    "start_time": "2023-02-04T05:08:19.101Z"
   },
   {
    "duration": 224,
    "start_time": "2023-02-04T05:08:19.121Z"
   },
   {
    "duration": 7,
    "start_time": "2023-02-04T05:08:19.347Z"
   },
   {
    "duration": 85,
    "start_time": "2023-02-04T05:08:19.356Z"
   },
   {
    "duration": 6,
    "start_time": "2023-02-04T05:08:19.444Z"
   },
   {
    "duration": 8,
    "start_time": "2023-02-04T05:08:19.452Z"
   },
   {
    "duration": 9,
    "start_time": "2023-02-04T05:08:19.462Z"
   },
   {
    "duration": 5,
    "start_time": "2023-02-04T05:08:19.472Z"
   },
   {
    "duration": 8,
    "start_time": "2023-02-04T05:08:19.479Z"
   },
   {
    "duration": 92,
    "start_time": "2023-02-04T05:08:19.489Z"
   },
   {
    "duration": 246,
    "start_time": "2023-02-04T05:08:19.583Z"
   },
   {
    "duration": 167,
    "start_time": "2023-02-04T05:08:19.831Z"
   },
   {
    "duration": 7,
    "start_time": "2023-02-04T05:08:20.000Z"
   },
   {
    "duration": 15,
    "start_time": "2023-02-04T05:08:20.021Z"
   },
   {
    "duration": 12,
    "start_time": "2023-02-04T05:08:20.038Z"
   },
   {
    "duration": 184,
    "start_time": "2023-02-04T05:08:20.052Z"
   },
   {
    "duration": 8,
    "start_time": "2023-02-04T05:08:20.238Z"
   },
   {
    "duration": 5,
    "start_time": "2023-02-04T05:08:20.248Z"
   },
   {
    "duration": 230,
    "start_time": "2023-02-04T05:08:20.255Z"
   },
   {
    "duration": 5,
    "start_time": "2023-02-04T05:08:20.487Z"
   },
   {
    "duration": 12,
    "start_time": "2023-02-04T05:08:20.494Z"
   },
   {
    "duration": 25,
    "start_time": "2023-02-04T05:08:20.508Z"
   },
   {
    "duration": 273,
    "start_time": "2023-02-04T05:08:20.534Z"
   },
   {
    "duration": 5,
    "start_time": "2023-02-04T05:08:20.808Z"
   },
   {
    "duration": 55,
    "start_time": "2023-02-04T05:08:20.821Z"
   },
   {
    "duration": 10,
    "start_time": "2023-02-04T05:08:20.878Z"
   },
   {
    "duration": 6,
    "start_time": "2023-02-04T05:08:20.890Z"
   },
   {
    "duration": 150,
    "start_time": "2023-02-04T05:08:20.898Z"
   },
   {
    "duration": 4,
    "start_time": "2023-02-04T05:08:21.053Z"
   },
   {
    "duration": 3101,
    "start_time": "2023-02-04T05:08:21.059Z"
   },
   {
    "duration": 276,
    "start_time": "2023-02-04T05:08:24.162Z"
   },
   {
    "duration": 12,
    "start_time": "2023-02-04T05:08:24.441Z"
   },
   {
    "duration": 13,
    "start_time": "2023-02-04T05:08:24.455Z"
   },
   {
    "duration": 1461,
    "start_time": "2023-02-04T05:08:24.470Z"
   },
   {
    "duration": 214,
    "start_time": "2023-02-04T05:08:25.932Z"
   },
   {
    "duration": 6,
    "start_time": "2023-02-04T05:08:26.148Z"
   },
   {
    "duration": 8,
    "start_time": "2023-02-04T05:08:26.155Z"
   },
   {
    "duration": 15,
    "start_time": "2023-02-04T05:08:26.164Z"
   },
   {
    "duration": 9,
    "start_time": "2023-02-04T05:08:26.181Z"
   },
   {
    "duration": 42,
    "start_time": "2023-02-04T05:08:26.192Z"
   },
   {
    "duration": 366,
    "start_time": "2023-02-04T05:08:26.236Z"
   },
   {
    "duration": 33,
    "start_time": "2023-02-04T05:08:26.604Z"
   },
   {
    "duration": 14,
    "start_time": "2023-02-04T05:08:26.639Z"
   },
   {
    "duration": 17,
    "start_time": "2023-02-04T05:08:26.656Z"
   },
   {
    "duration": 13,
    "start_time": "2023-02-04T05:16:23.167Z"
   },
   {
    "duration": 7,
    "start_time": "2023-02-04T05:20:07.337Z"
   },
   {
    "duration": 227,
    "start_time": "2023-02-04T05:20:11.900Z"
   },
   {
    "duration": 112,
    "start_time": "2023-02-04T05:22:30.157Z"
   },
   {
    "duration": 20,
    "start_time": "2023-02-04T05:22:35.333Z"
   },
   {
    "duration": 1311,
    "start_time": "2023-02-04T05:32:33.915Z"
   },
   {
    "duration": 160,
    "start_time": "2023-02-04T05:32:35.227Z"
   },
   {
    "duration": 15,
    "start_time": "2023-02-04T05:32:35.388Z"
   },
   {
    "duration": 1830,
    "start_time": "2023-02-04T05:32:35.406Z"
   },
   {
    "duration": 14,
    "start_time": "2023-02-04T05:32:37.238Z"
   },
   {
    "duration": 8,
    "start_time": "2023-02-04T05:32:37.254Z"
   },
   {
    "duration": 6,
    "start_time": "2023-02-04T05:32:37.263Z"
   },
   {
    "duration": 5,
    "start_time": "2023-02-04T05:32:37.270Z"
   },
   {
    "duration": 5,
    "start_time": "2023-02-04T05:32:37.277Z"
   },
   {
    "duration": 7,
    "start_time": "2023-02-04T05:32:37.284Z"
   },
   {
    "duration": 48,
    "start_time": "2023-02-04T05:32:37.292Z"
   },
   {
    "duration": 4,
    "start_time": "2023-02-04T05:32:37.341Z"
   },
   {
    "duration": 6,
    "start_time": "2023-02-04T05:32:37.346Z"
   },
   {
    "duration": 7,
    "start_time": "2023-02-04T05:32:37.353Z"
   },
   {
    "duration": 11,
    "start_time": "2023-02-04T05:32:37.362Z"
   },
   {
    "duration": 8,
    "start_time": "2023-02-04T05:32:37.374Z"
   },
   {
    "duration": 3,
    "start_time": "2023-02-04T05:32:37.383Z"
   },
   {
    "duration": 5,
    "start_time": "2023-02-04T05:32:37.387Z"
   },
   {
    "duration": 10,
    "start_time": "2023-02-04T05:32:37.394Z"
   },
   {
    "duration": 35,
    "start_time": "2023-02-04T05:32:37.405Z"
   },
   {
    "duration": 10,
    "start_time": "2023-02-04T05:32:37.441Z"
   },
   {
    "duration": 237,
    "start_time": "2023-02-04T05:32:37.452Z"
   },
   {
    "duration": 4,
    "start_time": "2023-02-04T05:32:37.691Z"
   },
   {
    "duration": 14,
    "start_time": "2023-02-04T05:32:37.696Z"
   },
   {
    "duration": 8,
    "start_time": "2023-02-04T05:32:37.711Z"
   },
   {
    "duration": 6,
    "start_time": "2023-02-04T05:32:37.721Z"
   },
   {
    "duration": 14,
    "start_time": "2023-02-04T05:32:37.728Z"
   },
   {
    "duration": 12,
    "start_time": "2023-02-04T05:32:37.746Z"
   },
   {
    "duration": 11,
    "start_time": "2023-02-04T05:32:37.760Z"
   },
   {
    "duration": 7,
    "start_time": "2023-02-04T05:32:37.772Z"
   },
   {
    "duration": 6,
    "start_time": "2023-02-04T05:32:37.780Z"
   },
   {
    "duration": 6,
    "start_time": "2023-02-04T05:32:37.788Z"
   },
   {
    "duration": 49,
    "start_time": "2023-02-04T05:32:37.795Z"
   },
   {
    "duration": 19,
    "start_time": "2023-02-04T05:32:37.846Z"
   },
   {
    "duration": 3,
    "start_time": "2023-02-04T05:32:37.866Z"
   },
   {
    "duration": 6,
    "start_time": "2023-02-04T05:32:37.870Z"
   },
   {
    "duration": 112,
    "start_time": "2023-02-04T05:32:37.877Z"
   },
   {
    "duration": 10,
    "start_time": "2023-02-04T05:32:37.991Z"
   },
   {
    "duration": 3,
    "start_time": "2023-02-04T05:32:38.003Z"
   },
   {
    "duration": 391,
    "start_time": "2023-02-04T05:32:38.007Z"
   },
   {
    "duration": 4,
    "start_time": "2023-02-04T05:32:38.400Z"
   },
   {
    "duration": 6,
    "start_time": "2023-02-04T05:32:38.405Z"
   },
   {
    "duration": 64,
    "start_time": "2023-02-04T05:32:38.413Z"
   },
   {
    "duration": 9,
    "start_time": "2023-02-04T05:32:38.478Z"
   },
   {
    "duration": 9,
    "start_time": "2023-02-04T05:32:38.488Z"
   },
   {
    "duration": 72,
    "start_time": "2023-02-04T05:32:38.498Z"
   },
   {
    "duration": 14,
    "start_time": "2023-02-04T05:32:38.571Z"
   },
   {
    "duration": 125,
    "start_time": "2023-02-04T05:32:38.586Z"
   },
   {
    "duration": 7,
    "start_time": "2023-02-04T05:32:38.713Z"
   },
   {
    "duration": 20,
    "start_time": "2023-02-04T05:32:38.722Z"
   },
   {
    "duration": 5,
    "start_time": "2023-02-04T05:32:38.744Z"
   },
   {
    "duration": 62,
    "start_time": "2023-02-04T05:32:38.751Z"
   },
   {
    "duration": 202,
    "start_time": "2023-02-04T05:32:38.814Z"
   },
   {
    "duration": 21,
    "start_time": "2023-02-04T05:32:39.018Z"
   },
   {
    "duration": 187,
    "start_time": "2023-02-04T05:32:39.040Z"
   },
   {
    "duration": 9,
    "start_time": "2023-02-04T05:32:39.228Z"
   },
   {
    "duration": 57,
    "start_time": "2023-02-04T05:32:39.238Z"
   },
   {
    "duration": 4,
    "start_time": "2023-02-04T05:32:39.297Z"
   },
   {
    "duration": 9,
    "start_time": "2023-02-04T05:32:39.303Z"
   },
   {
    "duration": 28,
    "start_time": "2023-02-04T05:32:39.313Z"
   },
   {
    "duration": 4,
    "start_time": "2023-02-04T05:32:39.342Z"
   },
   {
    "duration": 7,
    "start_time": "2023-02-04T05:32:39.348Z"
   },
   {
    "duration": 52,
    "start_time": "2023-02-04T05:32:39.357Z"
   },
   {
    "duration": 212,
    "start_time": "2023-02-04T05:32:39.410Z"
   },
   {
    "duration": 148,
    "start_time": "2023-02-04T05:32:39.623Z"
   },
   {
    "duration": 7,
    "start_time": "2023-02-04T05:32:39.773Z"
   },
   {
    "duration": 8,
    "start_time": "2023-02-04T05:32:39.781Z"
   },
   {
    "duration": 8,
    "start_time": "2023-02-04T05:32:39.791Z"
   },
   {
    "duration": 177,
    "start_time": "2023-02-04T05:32:39.801Z"
   },
   {
    "duration": 6,
    "start_time": "2023-02-04T05:32:39.980Z"
   },
   {
    "duration": 4,
    "start_time": "2023-02-04T05:32:39.988Z"
   },
   {
    "duration": 193,
    "start_time": "2023-02-04T05:32:39.994Z"
   },
   {
    "duration": 4,
    "start_time": "2023-02-04T05:32:40.189Z"
   },
   {
    "duration": 10,
    "start_time": "2023-02-04T05:32:40.195Z"
   },
   {
    "duration": 6,
    "start_time": "2023-02-04T05:32:40.207Z"
   },
   {
    "duration": 240,
    "start_time": "2023-02-04T05:32:40.215Z"
   },
   {
    "duration": 5,
    "start_time": "2023-02-04T05:32:40.456Z"
   },
   {
    "duration": 55,
    "start_time": "2023-02-04T05:32:40.463Z"
   },
   {
    "duration": 19,
    "start_time": "2023-02-04T05:32:40.520Z"
   },
   {
    "duration": 5,
    "start_time": "2023-02-04T05:32:40.541Z"
   },
   {
    "duration": 117,
    "start_time": "2023-02-04T05:32:40.548Z"
   },
   {
    "duration": 3,
    "start_time": "2023-02-04T05:32:40.670Z"
   },
   {
    "duration": 2805,
    "start_time": "2023-02-04T05:32:40.675Z"
   },
   {
    "duration": 258,
    "start_time": "2023-02-04T05:32:43.481Z"
   },
   {
    "duration": 8,
    "start_time": "2023-02-04T05:32:43.740Z"
   },
   {
    "duration": 6,
    "start_time": "2023-02-04T05:32:43.750Z"
   },
   {
    "duration": 1196,
    "start_time": "2023-02-04T05:32:43.757Z"
   },
   {
    "duration": 215,
    "start_time": "2023-02-04T05:32:44.954Z"
   },
   {
    "duration": 6,
    "start_time": "2023-02-04T05:32:45.171Z"
   },
   {
    "duration": 9,
    "start_time": "2023-02-04T05:32:45.178Z"
   },
   {
    "duration": 6,
    "start_time": "2023-02-04T05:32:45.189Z"
   },
   {
    "duration": 8,
    "start_time": "2023-02-04T05:32:45.198Z"
   },
   {
    "duration": 49,
    "start_time": "2023-02-04T05:32:45.208Z"
   },
   {
    "duration": 323,
    "start_time": "2023-02-04T05:32:45.259Z"
   },
   {
    "duration": 14,
    "start_time": "2023-02-04T05:32:45.584Z"
   },
   {
    "duration": 7,
    "start_time": "2023-02-04T05:32:45.601Z"
   },
   {
    "duration": 28,
    "start_time": "2023-02-04T05:32:45.609Z"
   },
   {
    "duration": 1116,
    "start_time": "2023-02-04T05:41:03.504Z"
   },
   {
    "duration": 103,
    "start_time": "2023-02-04T05:41:04.622Z"
   },
   {
    "duration": 14,
    "start_time": "2023-02-04T05:41:04.726Z"
   },
   {
    "duration": 1878,
    "start_time": "2023-02-04T05:41:04.742Z"
   },
   {
    "duration": 13,
    "start_time": "2023-02-04T05:41:06.621Z"
   },
   {
    "duration": 6,
    "start_time": "2023-02-04T05:41:06.636Z"
   },
   {
    "duration": 5,
    "start_time": "2023-02-04T05:41:06.644Z"
   },
   {
    "duration": 7,
    "start_time": "2023-02-04T05:41:06.651Z"
   },
   {
    "duration": 6,
    "start_time": "2023-02-04T05:41:06.660Z"
   },
   {
    "duration": 8,
    "start_time": "2023-02-04T05:41:06.668Z"
   },
   {
    "duration": 8,
    "start_time": "2023-02-04T05:41:06.677Z"
   },
   {
    "duration": 3,
    "start_time": "2023-02-04T05:41:06.687Z"
   },
   {
    "duration": 9,
    "start_time": "2023-02-04T05:41:06.692Z"
   },
   {
    "duration": 36,
    "start_time": "2023-02-04T05:41:06.703Z"
   },
   {
    "duration": 10,
    "start_time": "2023-02-04T05:41:06.740Z"
   },
   {
    "duration": 6,
    "start_time": "2023-02-04T05:41:06.751Z"
   },
   {
    "duration": 3,
    "start_time": "2023-02-04T05:41:06.758Z"
   },
   {
    "duration": 4,
    "start_time": "2023-02-04T05:41:06.763Z"
   },
   {
    "duration": 8,
    "start_time": "2023-02-04T05:41:06.768Z"
   },
   {
    "duration": 5,
    "start_time": "2023-02-04T05:41:06.777Z"
   },
   {
    "duration": 10,
    "start_time": "2023-02-04T05:41:06.783Z"
   },
   {
    "duration": 267,
    "start_time": "2023-02-04T05:41:06.795Z"
   },
   {
    "duration": 4,
    "start_time": "2023-02-04T05:41:07.064Z"
   },
   {
    "duration": 6,
    "start_time": "2023-02-04T05:41:07.069Z"
   },
   {
    "duration": 9,
    "start_time": "2023-02-04T05:41:07.077Z"
   },
   {
    "duration": 9,
    "start_time": "2023-02-04T05:41:07.087Z"
   },
   {
    "duration": 10,
    "start_time": "2023-02-04T05:41:07.097Z"
   },
   {
    "duration": 31,
    "start_time": "2023-02-04T05:41:07.110Z"
   },
   {
    "duration": 12,
    "start_time": "2023-02-04T05:41:07.142Z"
   },
   {
    "duration": 7,
    "start_time": "2023-02-04T05:41:07.155Z"
   },
   {
    "duration": 13,
    "start_time": "2023-02-04T05:41:07.163Z"
   },
   {
    "duration": 12,
    "start_time": "2023-02-04T05:41:07.178Z"
   },
   {
    "duration": 49,
    "start_time": "2023-02-04T05:41:07.192Z"
   },
   {
    "duration": 22,
    "start_time": "2023-02-04T05:41:07.243Z"
   },
   {
    "duration": 3,
    "start_time": "2023-02-04T05:41:07.268Z"
   },
   {
    "duration": 7,
    "start_time": "2023-02-04T05:41:07.273Z"
   },
   {
    "duration": 126,
    "start_time": "2023-02-04T05:41:07.281Z"
   },
   {
    "duration": 10,
    "start_time": "2023-02-04T05:41:07.408Z"
   },
   {
    "duration": 3,
    "start_time": "2023-02-04T05:41:07.419Z"
   },
   {
    "duration": 391,
    "start_time": "2023-02-04T05:41:07.423Z"
   },
   {
    "duration": 4,
    "start_time": "2023-02-04T05:41:07.815Z"
   },
   {
    "duration": 6,
    "start_time": "2023-02-04T05:41:07.821Z"
   },
   {
    "duration": 57,
    "start_time": "2023-02-04T05:41:07.836Z"
   },
   {
    "duration": 8,
    "start_time": "2023-02-04T05:41:07.895Z"
   },
   {
    "duration": 5,
    "start_time": "2023-02-04T05:41:07.905Z"
   },
   {
    "duration": 80,
    "start_time": "2023-02-04T05:41:07.911Z"
   },
   {
    "duration": 14,
    "start_time": "2023-02-04T05:41:07.992Z"
   },
   {
    "duration": 133,
    "start_time": "2023-02-04T05:41:08.008Z"
   },
   {
    "duration": 8,
    "start_time": "2023-02-04T05:41:08.144Z"
   },
   {
    "duration": 7,
    "start_time": "2023-02-04T05:41:08.154Z"
   },
   {
    "duration": 7,
    "start_time": "2023-02-04T05:41:08.162Z"
   },
   {
    "duration": 82,
    "start_time": "2023-02-04T05:41:08.171Z"
   },
   {
    "duration": 203,
    "start_time": "2023-02-04T05:41:08.255Z"
   },
   {
    "duration": 6,
    "start_time": "2023-02-04T05:41:08.459Z"
   },
   {
    "duration": 194,
    "start_time": "2023-02-04T05:41:08.467Z"
   },
   {
    "duration": 6,
    "start_time": "2023-02-04T05:41:08.663Z"
   },
   {
    "duration": 70,
    "start_time": "2023-02-04T05:41:08.671Z"
   },
   {
    "duration": 6,
    "start_time": "2023-02-04T05:41:08.743Z"
   },
   {
    "duration": 22,
    "start_time": "2023-02-04T05:41:08.751Z"
   },
   {
    "duration": 9,
    "start_time": "2023-02-04T05:41:08.775Z"
   },
   {
    "duration": 5,
    "start_time": "2023-02-04T05:41:08.785Z"
   },
   {
    "duration": 17,
    "start_time": "2023-02-04T05:41:08.792Z"
   },
   {
    "duration": 101,
    "start_time": "2023-02-04T05:41:08.810Z"
   },
   {
    "duration": 213,
    "start_time": "2023-02-04T05:41:08.912Z"
   },
   {
    "duration": 138,
    "start_time": "2023-02-04T05:41:09.126Z"
   },
   {
    "duration": 7,
    "start_time": "2023-02-04T05:41:09.265Z"
   },
   {
    "duration": 16,
    "start_time": "2023-02-04T05:41:09.273Z"
   },
   {
    "duration": 12,
    "start_time": "2023-02-04T05:41:09.292Z"
   },
   {
    "duration": 198,
    "start_time": "2023-02-04T05:41:09.306Z"
   },
   {
    "duration": 7,
    "start_time": "2023-02-04T05:41:09.506Z"
   },
   {
    "duration": 28,
    "start_time": "2023-02-04T05:41:09.514Z"
   },
   {
    "duration": 202,
    "start_time": "2023-02-04T05:41:09.544Z"
   },
   {
    "duration": 6,
    "start_time": "2023-02-04T05:41:09.748Z"
   },
   {
    "duration": 19,
    "start_time": "2023-02-04T05:41:09.756Z"
   },
   {
    "duration": 9,
    "start_time": "2023-02-04T05:41:09.777Z"
   },
   {
    "duration": 252,
    "start_time": "2023-02-04T05:41:09.787Z"
   },
   {
    "duration": 5,
    "start_time": "2023-02-04T05:41:10.040Z"
   },
   {
    "duration": 73,
    "start_time": "2023-02-04T05:41:10.047Z"
   },
   {
    "duration": 8,
    "start_time": "2023-02-04T05:41:10.122Z"
   },
   {
    "duration": 13,
    "start_time": "2023-02-04T05:41:10.132Z"
   },
   {
    "duration": 140,
    "start_time": "2023-02-04T05:41:10.147Z"
   },
   {
    "duration": 4,
    "start_time": "2023-02-04T05:41:10.292Z"
   },
   {
    "duration": 2827,
    "start_time": "2023-02-04T05:41:10.297Z"
   },
   {
    "duration": 221,
    "start_time": "2023-02-04T05:41:13.126Z"
   },
   {
    "duration": 7,
    "start_time": "2023-02-04T05:41:13.348Z"
   },
   {
    "duration": 2,
    "start_time": "2023-02-04T05:41:13.357Z"
   },
   {
    "duration": 1200,
    "start_time": "2023-02-04T05:41:13.360Z"
   },
   {
    "duration": 191,
    "start_time": "2023-02-04T05:41:14.561Z"
   },
   {
    "duration": 5,
    "start_time": "2023-02-04T05:41:14.753Z"
   },
   {
    "duration": 8,
    "start_time": "2023-02-04T05:41:14.760Z"
   },
   {
    "duration": 4,
    "start_time": "2023-02-04T05:41:14.769Z"
   },
   {
    "duration": 6,
    "start_time": "2023-02-04T05:41:14.776Z"
   },
   {
    "duration": 19,
    "start_time": "2023-02-04T05:41:14.784Z"
   },
   {
    "duration": 336,
    "start_time": "2023-02-04T05:41:14.805Z"
   },
   {
    "duration": 14,
    "start_time": "2023-02-04T05:41:15.143Z"
   },
   {
    "duration": 5,
    "start_time": "2023-02-04T05:41:15.158Z"
   },
   {
    "duration": 6,
    "start_time": "2023-02-04T05:41:15.165Z"
   },
   {
    "duration": 5,
    "start_time": "2023-02-04T05:42:02.479Z"
   },
   {
    "duration": 6,
    "start_time": "2023-02-04T05:47:35.076Z"
   },
   {
    "duration": 2793,
    "start_time": "2023-02-04T05:47:43.856Z"
   },
   {
    "duration": 12,
    "start_time": "2023-02-04T05:47:59.262Z"
   },
   {
    "duration": 6,
    "start_time": "2023-02-04T05:48:45.812Z"
   },
   {
    "duration": 105,
    "start_time": "2023-02-04T05:48:51.856Z"
   },
   {
    "duration": 15,
    "start_time": "2023-02-04T05:48:54.757Z"
   },
   {
    "duration": 16,
    "start_time": "2023-02-04T05:49:36.384Z"
   },
   {
    "duration": 68,
    "start_time": "2023-02-04T05:54:06.016Z"
   },
   {
    "duration": 96,
    "start_time": "2023-02-04T05:54:07.423Z"
   },
   {
    "duration": 72,
    "start_time": "2023-02-04T05:54:16.646Z"
   },
   {
    "duration": 1092,
    "start_time": "2023-02-04T05:58:40.873Z"
   },
   {
    "duration": 103,
    "start_time": "2023-02-04T05:58:41.967Z"
   },
   {
    "duration": 14,
    "start_time": "2023-02-04T05:58:42.071Z"
   },
   {
    "duration": 1905,
    "start_time": "2023-02-04T05:58:42.087Z"
   },
   {
    "duration": 12,
    "start_time": "2023-02-04T05:58:43.993Z"
   },
   {
    "duration": 3,
    "start_time": "2023-02-04T05:58:44.007Z"
   },
   {
    "duration": 5,
    "start_time": "2023-02-04T05:58:44.011Z"
   },
   {
    "duration": 10,
    "start_time": "2023-02-04T05:58:44.017Z"
   },
   {
    "duration": 8,
    "start_time": "2023-02-04T05:58:44.029Z"
   },
   {
    "duration": 8,
    "start_time": "2023-02-04T05:58:44.040Z"
   },
   {
    "duration": 13,
    "start_time": "2023-02-04T05:58:44.049Z"
   },
   {
    "duration": 11,
    "start_time": "2023-02-04T05:58:44.063Z"
   },
   {
    "duration": 7,
    "start_time": "2023-02-04T05:58:44.075Z"
   },
   {
    "duration": 8,
    "start_time": "2023-02-04T05:58:44.083Z"
   },
   {
    "duration": 122,
    "start_time": "2023-02-04T05:58:44.092Z"
   },
   {
    "duration": 0,
    "start_time": "2023-02-04T05:58:44.217Z"
   },
   {
    "duration": 0,
    "start_time": "2023-02-04T05:58:44.218Z"
   },
   {
    "duration": 0,
    "start_time": "2023-02-04T05:58:44.219Z"
   },
   {
    "duration": 0,
    "start_time": "2023-02-04T05:58:44.221Z"
   },
   {
    "duration": 0,
    "start_time": "2023-02-04T05:58:44.221Z"
   },
   {
    "duration": 0,
    "start_time": "2023-02-04T05:58:44.222Z"
   },
   {
    "duration": 0,
    "start_time": "2023-02-04T05:58:44.237Z"
   },
   {
    "duration": 0,
    "start_time": "2023-02-04T05:58:44.238Z"
   },
   {
    "duration": 0,
    "start_time": "2023-02-04T05:58:44.239Z"
   },
   {
    "duration": 0,
    "start_time": "2023-02-04T05:58:44.240Z"
   },
   {
    "duration": 0,
    "start_time": "2023-02-04T05:58:44.241Z"
   },
   {
    "duration": 0,
    "start_time": "2023-02-04T05:58:44.242Z"
   },
   {
    "duration": 0,
    "start_time": "2023-02-04T05:58:44.243Z"
   },
   {
    "duration": 0,
    "start_time": "2023-02-04T05:58:44.244Z"
   },
   {
    "duration": 0,
    "start_time": "2023-02-04T05:58:44.245Z"
   },
   {
    "duration": 0,
    "start_time": "2023-02-04T05:58:44.246Z"
   },
   {
    "duration": 0,
    "start_time": "2023-02-04T05:58:44.247Z"
   },
   {
    "duration": 0,
    "start_time": "2023-02-04T05:58:44.247Z"
   },
   {
    "duration": 0,
    "start_time": "2023-02-04T05:58:44.248Z"
   },
   {
    "duration": 0,
    "start_time": "2023-02-04T05:58:44.249Z"
   },
   {
    "duration": 0,
    "start_time": "2023-02-04T05:58:44.250Z"
   },
   {
    "duration": 0,
    "start_time": "2023-02-04T05:58:44.251Z"
   },
   {
    "duration": 0,
    "start_time": "2023-02-04T05:58:44.252Z"
   },
   {
    "duration": 0,
    "start_time": "2023-02-04T05:58:44.253Z"
   },
   {
    "duration": 0,
    "start_time": "2023-02-04T05:58:44.254Z"
   },
   {
    "duration": 0,
    "start_time": "2023-02-04T05:58:44.255Z"
   },
   {
    "duration": 0,
    "start_time": "2023-02-04T05:58:44.257Z"
   },
   {
    "duration": 0,
    "start_time": "2023-02-04T05:58:44.258Z"
   },
   {
    "duration": 0,
    "start_time": "2023-02-04T05:58:44.260Z"
   },
   {
    "duration": 0,
    "start_time": "2023-02-04T05:58:44.261Z"
   },
   {
    "duration": 0,
    "start_time": "2023-02-04T05:58:44.263Z"
   },
   {
    "duration": 0,
    "start_time": "2023-02-04T05:58:44.264Z"
   },
   {
    "duration": 0,
    "start_time": "2023-02-04T05:58:44.265Z"
   },
   {
    "duration": 0,
    "start_time": "2023-02-04T05:58:44.267Z"
   },
   {
    "duration": 0,
    "start_time": "2023-02-04T05:58:44.268Z"
   },
   {
    "duration": 0,
    "start_time": "2023-02-04T05:58:44.269Z"
   },
   {
    "duration": 0,
    "start_time": "2023-02-04T05:58:44.271Z"
   },
   {
    "duration": 0,
    "start_time": "2023-02-04T05:58:44.272Z"
   },
   {
    "duration": 0,
    "start_time": "2023-02-04T05:58:44.273Z"
   },
   {
    "duration": 0,
    "start_time": "2023-02-04T05:58:44.275Z"
   },
   {
    "duration": 0,
    "start_time": "2023-02-04T05:58:44.277Z"
   },
   {
    "duration": 0,
    "start_time": "2023-02-04T05:58:44.338Z"
   },
   {
    "duration": 0,
    "start_time": "2023-02-04T05:58:44.340Z"
   },
   {
    "duration": 0,
    "start_time": "2023-02-04T05:58:44.341Z"
   },
   {
    "duration": 0,
    "start_time": "2023-02-04T05:58:44.342Z"
   },
   {
    "duration": 0,
    "start_time": "2023-02-04T05:58:44.343Z"
   },
   {
    "duration": 0,
    "start_time": "2023-02-04T05:58:44.344Z"
   },
   {
    "duration": 0,
    "start_time": "2023-02-04T05:58:44.345Z"
   },
   {
    "duration": 0,
    "start_time": "2023-02-04T05:58:44.346Z"
   },
   {
    "duration": 0,
    "start_time": "2023-02-04T05:58:44.347Z"
   },
   {
    "duration": 0,
    "start_time": "2023-02-04T05:58:44.348Z"
   },
   {
    "duration": 0,
    "start_time": "2023-02-04T05:58:44.348Z"
   },
   {
    "duration": 0,
    "start_time": "2023-02-04T05:58:44.349Z"
   },
   {
    "duration": 0,
    "start_time": "2023-02-04T05:58:44.350Z"
   },
   {
    "duration": 0,
    "start_time": "2023-02-04T05:58:44.351Z"
   },
   {
    "duration": 0,
    "start_time": "2023-02-04T05:58:44.352Z"
   },
   {
    "duration": 0,
    "start_time": "2023-02-04T05:58:44.353Z"
   },
   {
    "duration": 0,
    "start_time": "2023-02-04T05:58:44.354Z"
   },
   {
    "duration": 0,
    "start_time": "2023-02-04T05:58:44.355Z"
   },
   {
    "duration": 0,
    "start_time": "2023-02-04T05:58:44.356Z"
   },
   {
    "duration": 0,
    "start_time": "2023-02-04T05:58:44.357Z"
   },
   {
    "duration": 0,
    "start_time": "2023-02-04T05:58:44.358Z"
   },
   {
    "duration": 0,
    "start_time": "2023-02-04T05:58:44.359Z"
   },
   {
    "duration": 0,
    "start_time": "2023-02-04T05:58:44.359Z"
   },
   {
    "duration": 0,
    "start_time": "2023-02-04T05:58:44.361Z"
   },
   {
    "duration": 0,
    "start_time": "2023-02-04T05:58:44.361Z"
   },
   {
    "duration": 7,
    "start_time": "2023-02-04T06:00:23.925Z"
   },
   {
    "duration": 12,
    "start_time": "2023-02-04T06:00:30.546Z"
   },
   {
    "duration": 20,
    "start_time": "2023-02-04T06:01:18.648Z"
   },
   {
    "duration": 1126,
    "start_time": "2023-02-04T06:02:24.501Z"
   },
   {
    "duration": 108,
    "start_time": "2023-02-04T06:02:25.630Z"
   },
   {
    "duration": 21,
    "start_time": "2023-02-04T06:02:25.740Z"
   },
   {
    "duration": 1873,
    "start_time": "2023-02-04T06:02:25.763Z"
   },
   {
    "duration": 13,
    "start_time": "2023-02-04T06:02:27.637Z"
   },
   {
    "duration": 4,
    "start_time": "2023-02-04T06:02:27.651Z"
   },
   {
    "duration": 6,
    "start_time": "2023-02-04T06:02:27.656Z"
   },
   {
    "duration": 10,
    "start_time": "2023-02-04T06:02:27.663Z"
   },
   {
    "duration": 5,
    "start_time": "2023-02-04T06:02:27.675Z"
   },
   {
    "duration": 10,
    "start_time": "2023-02-04T06:02:27.682Z"
   },
   {
    "duration": 44,
    "start_time": "2023-02-04T06:02:27.694Z"
   },
   {
    "duration": 11,
    "start_time": "2023-02-04T06:02:27.740Z"
   },
   {
    "duration": 25,
    "start_time": "2023-02-04T06:02:27.752Z"
   },
   {
    "duration": 19,
    "start_time": "2023-02-04T06:02:27.778Z"
   },
   {
    "duration": 7,
    "start_time": "2023-02-04T06:02:27.798Z"
   },
   {
    "duration": 22,
    "start_time": "2023-02-04T06:02:27.807Z"
   },
   {
    "duration": 17,
    "start_time": "2023-02-04T06:02:27.830Z"
   },
   {
    "duration": 3,
    "start_time": "2023-02-04T06:02:27.848Z"
   },
   {
    "duration": 12,
    "start_time": "2023-02-04T06:02:27.852Z"
   },
   {
    "duration": 107,
    "start_time": "2023-02-04T06:02:27.865Z"
   },
   {
    "duration": 10,
    "start_time": "2023-02-04T06:02:27.974Z"
   },
   {
    "duration": 3,
    "start_time": "2023-02-04T06:02:27.985Z"
   },
   {
    "duration": 383,
    "start_time": "2023-02-04T06:02:27.989Z"
   },
   {
    "duration": 3,
    "start_time": "2023-02-04T06:02:28.374Z"
   },
   {
    "duration": 10,
    "start_time": "2023-02-04T06:02:28.379Z"
   },
   {
    "duration": 59,
    "start_time": "2023-02-04T06:02:28.390Z"
   },
   {
    "duration": 9,
    "start_time": "2023-02-04T06:02:28.451Z"
   },
   {
    "duration": 6,
    "start_time": "2023-02-04T06:02:28.463Z"
   },
   {
    "duration": 79,
    "start_time": "2023-02-04T06:02:28.471Z"
   },
   {
    "duration": 14,
    "start_time": "2023-02-04T06:02:28.552Z"
   },
   {
    "duration": 133,
    "start_time": "2023-02-04T06:02:28.568Z"
   },
   {
    "duration": 8,
    "start_time": "2023-02-04T06:02:28.703Z"
   },
   {
    "duration": 9,
    "start_time": "2023-02-04T06:02:28.713Z"
   },
   {
    "duration": 16,
    "start_time": "2023-02-04T06:02:28.724Z"
   },
   {
    "duration": 60,
    "start_time": "2023-02-04T06:02:28.741Z"
   },
   {
    "duration": 213,
    "start_time": "2023-02-04T06:02:28.802Z"
   },
   {
    "duration": 5,
    "start_time": "2023-02-04T06:02:29.017Z"
   },
   {
    "duration": 198,
    "start_time": "2023-02-04T06:02:29.024Z"
   },
   {
    "duration": 14,
    "start_time": "2023-02-04T06:02:29.223Z"
   },
   {
    "duration": 58,
    "start_time": "2023-02-04T06:02:29.238Z"
   },
   {
    "duration": 5,
    "start_time": "2023-02-04T06:02:29.297Z"
   },
   {
    "duration": 9,
    "start_time": "2023-02-04T06:02:29.304Z"
   },
   {
    "duration": 27,
    "start_time": "2023-02-04T06:02:29.314Z"
   },
   {
    "duration": 5,
    "start_time": "2023-02-04T06:02:29.343Z"
   },
   {
    "duration": 5,
    "start_time": "2023-02-04T06:02:29.349Z"
   },
   {
    "duration": 59,
    "start_time": "2023-02-04T06:02:29.356Z"
   },
   {
    "duration": 255,
    "start_time": "2023-02-04T06:02:29.417Z"
   },
   {
    "duration": 186,
    "start_time": "2023-02-04T06:02:29.673Z"
   },
   {
    "duration": 7,
    "start_time": "2023-02-04T06:02:29.862Z"
   },
   {
    "duration": 13,
    "start_time": "2023-02-04T06:02:29.871Z"
   },
   {
    "duration": 9,
    "start_time": "2023-02-04T06:02:29.886Z"
   },
   {
    "duration": 84,
    "start_time": "2023-02-04T06:02:29.897Z"
   },
   {
    "duration": 7,
    "start_time": "2023-02-04T06:02:29.983Z"
   },
   {
    "duration": 6,
    "start_time": "2023-02-04T06:02:29.992Z"
   },
   {
    "duration": 230,
    "start_time": "2023-02-04T06:02:29.999Z"
   },
   {
    "duration": 8,
    "start_time": "2023-02-04T06:02:30.231Z"
   },
   {
    "duration": 35,
    "start_time": "2023-02-04T06:02:30.241Z"
   },
   {
    "duration": 26,
    "start_time": "2023-02-04T06:02:30.278Z"
   },
   {
    "duration": 388,
    "start_time": "2023-02-04T06:02:30.306Z"
   },
   {
    "duration": 6,
    "start_time": "2023-02-04T06:02:30.696Z"
   },
   {
    "duration": 66,
    "start_time": "2023-02-04T06:02:30.703Z"
   },
   {
    "duration": 3,
    "start_time": "2023-02-04T06:02:30.771Z"
   },
   {
    "duration": 19,
    "start_time": "2023-02-04T06:02:30.776Z"
   },
   {
    "duration": 44,
    "start_time": "2023-02-04T06:02:30.797Z"
   },
   {
    "duration": 115,
    "start_time": "2023-02-04T06:02:30.843Z"
   },
   {
    "duration": 5,
    "start_time": "2023-02-04T06:02:30.960Z"
   },
   {
    "duration": 2794,
    "start_time": "2023-02-04T06:02:30.966Z"
   },
   {
    "duration": 209,
    "start_time": "2023-02-04T06:02:33.761Z"
   },
   {
    "duration": 7,
    "start_time": "2023-02-04T06:02:33.972Z"
   },
   {
    "duration": 4,
    "start_time": "2023-02-04T06:02:33.981Z"
   },
   {
    "duration": 1175,
    "start_time": "2023-02-04T06:02:33.986Z"
   },
   {
    "duration": 185,
    "start_time": "2023-02-04T06:02:35.163Z"
   },
   {
    "duration": 6,
    "start_time": "2023-02-04T06:02:35.350Z"
   },
   {
    "duration": 5,
    "start_time": "2023-02-04T06:02:35.357Z"
   },
   {
    "duration": 4,
    "start_time": "2023-02-04T06:02:35.363Z"
   },
   {
    "duration": 7,
    "start_time": "2023-02-04T06:02:35.368Z"
   },
   {
    "duration": 16,
    "start_time": "2023-02-04T06:02:35.377Z"
   },
   {
    "duration": 347,
    "start_time": "2023-02-04T06:02:35.395Z"
   },
   {
    "duration": 15,
    "start_time": "2023-02-04T06:02:35.743Z"
   },
   {
    "duration": 15,
    "start_time": "2023-02-04T06:02:35.759Z"
   },
   {
    "duration": 12,
    "start_time": "2023-02-04T06:02:35.775Z"
   },
   {
    "duration": 6,
    "start_time": "2023-02-04T06:03:22.127Z"
   },
   {
    "duration": 4,
    "start_time": "2023-02-04T06:03:26.458Z"
   },
   {
    "duration": 4,
    "start_time": "2023-02-04T06:03:28.125Z"
   },
   {
    "duration": 94,
    "start_time": "2023-02-04T06:04:44.666Z"
   },
   {
    "duration": 3,
    "start_time": "2023-02-04T06:04:52.956Z"
   },
   {
    "duration": 4,
    "start_time": "2023-02-04T06:07:40.356Z"
   },
   {
    "duration": 101,
    "start_time": "2023-02-04T06:07:46.713Z"
   },
   {
    "duration": 14,
    "start_time": "2023-02-04T06:07:48.512Z"
   },
   {
    "duration": 2306,
    "start_time": "2023-02-04T06:07:50.290Z"
   },
   {
    "duration": 3,
    "start_time": "2023-02-04T06:07:53.654Z"
   },
   {
    "duration": 4,
    "start_time": "2023-02-04T06:07:54.459Z"
   },
   {
    "duration": 9,
    "start_time": "2023-02-04T06:07:56.391Z"
   },
   {
    "duration": 5,
    "start_time": "2023-02-04T06:07:57.348Z"
   },
   {
    "duration": 7,
    "start_time": "2023-02-04T06:07:58.808Z"
   },
   {
    "duration": 7,
    "start_time": "2023-02-04T06:08:01.965Z"
   },
   {
    "duration": 13,
    "start_time": "2023-02-04T06:08:02.969Z"
   },
   {
    "duration": 10,
    "start_time": "2023-02-04T06:09:32.605Z"
   },
   {
    "duration": 6,
    "start_time": "2023-02-04T06:09:33.207Z"
   },
   {
    "duration": 6,
    "start_time": "2023-02-04T06:09:33.767Z"
   },
   {
    "duration": 3,
    "start_time": "2023-02-04T06:09:37.931Z"
   },
   {
    "duration": 8,
    "start_time": "2023-02-04T06:09:38.755Z"
   },
   {
    "duration": 12,
    "start_time": "2023-02-04T06:09:41.260Z"
   },
   {
    "duration": 3,
    "start_time": "2023-02-04T06:09:44.175Z"
   },
   {
    "duration": 4,
    "start_time": "2023-02-04T06:09:44.874Z"
   },
   {
    "duration": 120,
    "start_time": "2023-02-04T06:09:45.474Z"
   },
   {
    "duration": 11,
    "start_time": "2023-02-04T06:09:47.619Z"
   },
   {
    "duration": 3,
    "start_time": "2023-02-04T06:09:50.975Z"
   },
   {
    "duration": 389,
    "start_time": "2023-02-04T06:09:51.998Z"
   },
   {
    "duration": 8,
    "start_time": "2023-02-04T06:09:53.136Z"
   },
   {
    "duration": 4,
    "start_time": "2023-02-04T06:09:54.764Z"
   },
   {
    "duration": 69,
    "start_time": "2023-02-04T06:09:55.619Z"
   },
   {
    "duration": 8,
    "start_time": "2023-02-04T06:09:56.449Z"
   },
   {
    "duration": 4,
    "start_time": "2023-02-04T06:09:59.482Z"
   },
   {
    "duration": 64,
    "start_time": "2023-02-04T06:10:02.915Z"
   },
   {
    "duration": 14,
    "start_time": "2023-02-04T06:10:05.965Z"
   },
   {
    "duration": 133,
    "start_time": "2023-02-04T06:10:13.617Z"
   },
   {
    "duration": 21,
    "start_time": "2023-02-04T06:10:15.031Z"
   },
   {
    "duration": 21,
    "start_time": "2023-02-04T06:10:22.030Z"
   },
   {
    "duration": 6,
    "start_time": "2023-02-04T06:10:24.631Z"
   },
   {
    "duration": 72,
    "start_time": "2023-02-04T06:10:25.274Z"
   },
   {
    "duration": 4,
    "start_time": "2023-02-04T06:10:26.912Z"
   },
   {
    "duration": 222,
    "start_time": "2023-02-04T06:10:30.594Z"
   },
   {
    "duration": 9,
    "start_time": "2023-02-04T06:10:51.154Z"
   },
   {
    "duration": 6,
    "start_time": "2023-02-04T06:11:01.206Z"
   },
   {
    "duration": 7,
    "start_time": "2023-02-04T06:11:40.217Z"
   },
   {
    "duration": 8,
    "start_time": "2023-02-04T06:11:52.447Z"
   },
   {
    "duration": 6,
    "start_time": "2023-02-04T06:11:55.109Z"
   },
   {
    "duration": 9,
    "start_time": "2023-02-04T06:12:17.490Z"
   },
   {
    "duration": 7,
    "start_time": "2023-02-04T06:12:33.763Z"
   },
   {
    "duration": 7,
    "start_time": "2023-02-04T06:12:51.402Z"
   },
   {
    "duration": 7,
    "start_time": "2023-02-04T06:12:58.524Z"
   },
   {
    "duration": 6,
    "start_time": "2023-02-04T06:13:19.676Z"
   },
   {
    "duration": 7,
    "start_time": "2023-02-04T06:13:52.735Z"
   },
   {
    "duration": 169,
    "start_time": "2023-02-04T06:13:53.415Z"
   },
   {
    "duration": 4,
    "start_time": "2023-02-04T06:14:01.221Z"
   },
   {
    "duration": 4,
    "start_time": "2023-02-04T06:14:53.793Z"
   },
   {
    "duration": 100,
    "start_time": "2023-02-04T06:15:17.872Z"
   },
   {
    "duration": 4,
    "start_time": "2023-02-04T06:15:23.985Z"
   },
   {
    "duration": 4,
    "start_time": "2023-02-04T06:15:24.887Z"
   },
   {
    "duration": 6,
    "start_time": "2023-02-04T06:15:28.148Z"
   },
   {
    "duration": 9,
    "start_time": "2023-02-04T06:15:29.790Z"
   },
   {
    "duration": 8,
    "start_time": "2023-02-04T06:15:32.251Z"
   },
   {
    "duration": 6,
    "start_time": "2023-02-04T06:15:32.830Z"
   },
   {
    "duration": 8,
    "start_time": "2023-02-04T06:15:33.388Z"
   },
   {
    "duration": 11,
    "start_time": "2023-02-04T06:15:35.212Z"
   },
   {
    "duration": 3,
    "start_time": "2023-02-04T06:15:37.904Z"
   },
   {
    "duration": 3,
    "start_time": "2023-02-04T06:15:38.474Z"
   },
   {
    "duration": 124,
    "start_time": "2023-02-04T06:15:38.997Z"
   },
   {
    "duration": 12,
    "start_time": "2023-02-04T06:15:41.091Z"
   },
   {
    "duration": 3,
    "start_time": "2023-02-04T06:15:43.522Z"
   },
   {
    "duration": 377,
    "start_time": "2023-02-04T06:15:44.556Z"
   },
   {
    "duration": 3,
    "start_time": "2023-02-04T06:15:46.151Z"
   },
   {
    "duration": 66,
    "start_time": "2023-02-04T06:15:47.594Z"
   },
   {
    "duration": 8,
    "start_time": "2023-02-04T06:15:48.249Z"
   },
   {
    "duration": 4,
    "start_time": "2023-02-04T06:15:50.400Z"
   },
   {
    "duration": 10,
    "start_time": "2023-02-04T06:15:57.348Z"
   },
   {
    "duration": 8,
    "start_time": "2023-02-04T06:15:58.948Z"
   },
   {
    "duration": 5,
    "start_time": "2023-02-04T06:16:01.712Z"
   },
   {
    "duration": 85,
    "start_time": "2023-02-04T06:16:02.566Z"
   },
   {
    "duration": 5,
    "start_time": "2023-02-04T06:16:03.780Z"
   },
   {
    "duration": 9,
    "start_time": "2023-02-04T06:16:08.250Z"
   },
   {
    "duration": 3,
    "start_time": "2023-02-04T06:16:35.868Z"
   },
   {
    "duration": 4,
    "start_time": "2023-02-04T06:16:49.376Z"
   },
   {
    "duration": 4,
    "start_time": "2023-02-04T06:16:54.001Z"
   },
   {
    "duration": 6,
    "start_time": "2023-02-04T06:16:55.150Z"
   },
   {
    "duration": 5,
    "start_time": "2023-02-04T06:16:55.981Z"
   },
   {
    "duration": 4,
    "start_time": "2023-02-04T06:17:28.291Z"
   },
   {
    "duration": 4,
    "start_time": "2023-02-04T06:17:32.968Z"
   },
   {
    "duration": 4,
    "start_time": "2023-02-04T06:17:36.289Z"
   },
   {
    "duration": 3,
    "start_time": "2023-02-04T06:17:41.802Z"
   },
   {
    "duration": 4,
    "start_time": "2023-02-04T06:17:54.065Z"
   },
   {
    "duration": 4,
    "start_time": "2023-02-04T06:19:29.844Z"
   },
   {
    "duration": 5,
    "start_time": "2023-02-04T06:19:36.470Z"
   },
   {
    "duration": 4,
    "start_time": "2023-02-04T06:19:37.289Z"
   },
   {
    "duration": 7,
    "start_time": "2023-02-04T06:20:06.301Z"
   },
   {
    "duration": 4,
    "start_time": "2023-02-04T06:20:10.339Z"
   },
   {
    "duration": 4,
    "start_time": "2023-02-04T06:20:11.202Z"
   },
   {
    "duration": 7,
    "start_time": "2023-02-04T06:20:14.312Z"
   },
   {
    "duration": 4,
    "start_time": "2023-02-04T06:20:42.644Z"
   },
   {
    "duration": 8,
    "start_time": "2023-02-04T06:21:27.273Z"
   },
   {
    "duration": 7,
    "start_time": "2023-02-04T06:21:37.371Z"
   },
   {
    "duration": 8,
    "start_time": "2023-02-04T06:23:02.723Z"
   },
   {
    "duration": 6,
    "start_time": "2023-02-04T06:23:09.740Z"
   },
   {
    "duration": 3,
    "start_time": "2023-02-04T06:23:11.197Z"
   },
   {
    "duration": 70,
    "start_time": "2023-02-04T06:25:11.851Z"
   },
   {
    "duration": 8,
    "start_time": "2023-02-04T06:25:47.539Z"
   },
   {
    "duration": 4,
    "start_time": "2023-02-04T06:26:51.009Z"
   },
   {
    "duration": 3,
    "start_time": "2023-02-04T06:26:52.060Z"
   },
   {
    "duration": 3,
    "start_time": "2023-02-04T06:26:57.041Z"
   },
   {
    "duration": 7,
    "start_time": "2023-02-04T06:27:01.859Z"
   },
   {
    "duration": 7,
    "start_time": "2023-02-04T06:27:03.028Z"
   },
   {
    "duration": 4,
    "start_time": "2023-02-04T06:27:07.145Z"
   },
   {
    "duration": 8,
    "start_time": "2023-02-04T06:27:55.235Z"
   },
   {
    "duration": 6,
    "start_time": "2023-02-04T06:28:15.403Z"
   },
   {
    "duration": 8,
    "start_time": "2023-02-04T06:28:36.596Z"
   },
   {
    "duration": 5,
    "start_time": "2023-02-04T06:34:41.603Z"
   },
   {
    "duration": 4,
    "start_time": "2023-02-04T06:34:47.066Z"
   },
   {
    "duration": 7,
    "start_time": "2023-02-04T06:37:41.761Z"
   },
   {
    "duration": 4,
    "start_time": "2023-02-04T06:37:44.355Z"
   },
   {
    "duration": 5,
    "start_time": "2023-02-04T06:37:52.830Z"
   },
   {
    "duration": 5,
    "start_time": "2023-02-04T06:38:02.167Z"
   },
   {
    "duration": 8,
    "start_time": "2023-02-04T06:38:48.783Z"
   },
   {
    "duration": 7,
    "start_time": "2023-02-04T06:38:49.738Z"
   },
   {
    "duration": 7,
    "start_time": "2023-02-04T06:38:50.756Z"
   },
   {
    "duration": 6,
    "start_time": "2023-02-04T06:38:52.896Z"
   },
   {
    "duration": 4,
    "start_time": "2023-02-04T06:38:53.790Z"
   },
   {
    "duration": 5,
    "start_time": "2023-02-04T06:38:54.887Z"
   },
   {
    "duration": 6,
    "start_time": "2023-02-04T06:39:05.509Z"
   },
   {
    "duration": 7,
    "start_time": "2023-02-04T06:39:07.521Z"
   },
   {
    "duration": 8,
    "start_time": "2023-02-04T06:39:08.968Z"
   },
   {
    "duration": 9,
    "start_time": "2023-02-04T06:39:12.173Z"
   },
   {
    "duration": 1177,
    "start_time": "2023-02-04T06:39:29.927Z"
   },
   {
    "duration": 1107,
    "start_time": "2023-02-04T06:39:35.316Z"
   },
   {
    "duration": 5,
    "start_time": "2023-02-04T06:39:45.812Z"
   },
   {
    "duration": 8,
    "start_time": "2023-02-04T06:40:32.068Z"
   },
   {
    "duration": 7,
    "start_time": "2023-02-04T06:40:33.092Z"
   },
   {
    "duration": 209,
    "start_time": "2023-02-04T06:43:55.449Z"
   },
   {
    "duration": 3,
    "start_time": "2023-02-04T06:44:04.298Z"
   },
   {
    "duration": 15,
    "start_time": "2023-02-04T06:45:15.784Z"
   },
   {
    "duration": 5,
    "start_time": "2023-02-04T06:45:41.416Z"
   },
   {
    "duration": 211,
    "start_time": "2023-02-04T06:46:39.998Z"
   },
   {
    "duration": 4,
    "start_time": "2023-02-04T06:47:01.712Z"
   },
   {
    "duration": 8,
    "start_time": "2023-02-04T06:47:20.782Z"
   },
   {
    "duration": 7,
    "start_time": "2023-02-04T06:48:47.569Z"
   },
   {
    "duration": 7,
    "start_time": "2023-02-04T06:49:27.108Z"
   },
   {
    "duration": 4,
    "start_time": "2023-02-04T06:50:37.867Z"
   },
   {
    "duration": 8,
    "start_time": "2023-02-04T06:51:29.160Z"
   },
   {
    "duration": 7,
    "start_time": "2023-02-04T06:51:36.482Z"
   },
   {
    "duration": 6,
    "start_time": "2023-02-04T06:51:40.276Z"
   },
   {
    "duration": 192,
    "start_time": "2023-02-04T06:51:40.976Z"
   },
   {
    "duration": 216,
    "start_time": "2023-02-04T06:51:58.107Z"
   },
   {
    "duration": 216,
    "start_time": "2023-02-04T06:52:04.066Z"
   },
   {
    "duration": 215,
    "start_time": "2023-02-04T06:52:10.218Z"
   },
   {
    "duration": 174,
    "start_time": "2023-02-04T06:52:42.818Z"
   },
   {
    "duration": 9,
    "start_time": "2023-02-04T06:53:48.637Z"
   },
   {
    "duration": 7,
    "start_time": "2023-02-04T06:56:17.650Z"
   },
   {
    "duration": 17,
    "start_time": "2023-02-04T06:56:27.725Z"
   },
   {
    "duration": 76,
    "start_time": "2023-02-04T06:56:30.236Z"
   },
   {
    "duration": 7,
    "start_time": "2023-02-04T06:56:33.361Z"
   },
   {
    "duration": 7,
    "start_time": "2023-02-04T06:56:36.132Z"
   },
   {
    "duration": 5,
    "start_time": "2023-02-04T06:58:21.161Z"
   },
   {
    "duration": 8,
    "start_time": "2023-02-04T06:58:24.473Z"
   },
   {
    "duration": 7,
    "start_time": "2023-02-04T06:58:47.766Z"
   },
   {
    "duration": 6,
    "start_time": "2023-02-04T06:58:53.899Z"
   },
   {
    "duration": 63,
    "start_time": "2023-02-04T06:58:55.198Z"
   },
   {
    "duration": 8,
    "start_time": "2023-02-04T07:00:54.832Z"
   },
   {
    "duration": 9,
    "start_time": "2023-02-04T07:01:06.004Z"
   },
   {
    "duration": 6,
    "start_time": "2023-02-04T07:01:08.797Z"
   },
   {
    "duration": 8,
    "start_time": "2023-02-04T07:01:12.384Z"
   },
   {
    "duration": 10,
    "start_time": "2023-02-04T07:01:14.635Z"
   },
   {
    "duration": 4,
    "start_time": "2023-02-04T07:01:25.685Z"
   },
   {
    "duration": 8,
    "start_time": "2023-02-04T07:01:37.017Z"
   },
   {
    "duration": 9,
    "start_time": "2023-02-04T07:01:38.836Z"
   },
   {
    "duration": 7,
    "start_time": "2023-02-04T07:01:55.682Z"
   },
   {
    "duration": 3,
    "start_time": "2023-02-04T07:02:12.959Z"
   },
   {
    "duration": 66,
    "start_time": "2023-02-04T07:02:32.061Z"
   },
   {
    "duration": 8,
    "start_time": "2023-02-04T07:02:39.404Z"
   },
   {
    "duration": 215,
    "start_time": "2023-02-04T07:03:43.757Z"
   },
   {
    "duration": 302,
    "start_time": "2023-02-04T07:03:49.366Z"
   },
   {
    "duration": 4,
    "start_time": "2023-02-04T07:04:10.651Z"
   },
   {
    "duration": 8,
    "start_time": "2023-02-04T07:04:14.180Z"
   },
   {
    "duration": 8,
    "start_time": "2023-02-04T07:04:53.736Z"
   },
   {
    "duration": 6,
    "start_time": "2023-02-04T07:04:55.173Z"
   },
   {
    "duration": 7,
    "start_time": "2023-02-04T07:04:56.779Z"
   },
   {
    "duration": 6,
    "start_time": "2023-02-04T07:05:01.563Z"
   },
   {
    "duration": 7,
    "start_time": "2023-02-04T07:05:10.169Z"
   },
   {
    "duration": 6,
    "start_time": "2023-02-04T07:05:10.982Z"
   },
   {
    "duration": 6,
    "start_time": "2023-02-04T07:05:30.612Z"
   },
   {
    "duration": 4,
    "start_time": "2023-02-04T07:06:02.716Z"
   },
   {
    "duration": 7,
    "start_time": "2023-02-04T07:06:04.049Z"
   },
   {
    "duration": 6,
    "start_time": "2023-02-04T07:06:15.685Z"
   },
   {
    "duration": 59,
    "start_time": "2023-02-04T07:06:16.455Z"
   },
   {
    "duration": 170,
    "start_time": "2023-02-04T07:09:56.731Z"
   },
   {
    "duration": 200,
    "start_time": "2023-02-04T07:10:01.892Z"
   },
   {
    "duration": 18,
    "start_time": "2023-02-04T07:13:07.792Z"
   },
   {
    "duration": 19,
    "start_time": "2023-02-04T07:13:25.970Z"
   },
   {
    "duration": 186,
    "start_time": "2023-02-04T07:13:34.883Z"
   },
   {
    "duration": 25,
    "start_time": "2023-02-04T07:13:45.231Z"
   },
   {
    "duration": 23,
    "start_time": "2023-02-04T07:13:48.131Z"
   },
   {
    "duration": 16,
    "start_time": "2023-02-04T07:14:20.008Z"
   },
   {
    "duration": 17,
    "start_time": "2023-02-04T07:14:51.963Z"
   },
   {
    "duration": 17,
    "start_time": "2023-02-04T07:14:56.404Z"
   },
   {
    "duration": 6,
    "start_time": "2023-02-04T07:16:30.464Z"
   },
   {
    "duration": 10,
    "start_time": "2023-02-04T07:16:32.190Z"
   },
   {
    "duration": 17,
    "start_time": "2023-02-04T07:16:38.564Z"
   },
   {
    "duration": 4,
    "start_time": "2023-02-04T07:16:57.556Z"
   },
   {
    "duration": 13,
    "start_time": "2023-02-04T07:17:00.080Z"
   },
   {
    "duration": 3,
    "start_time": "2023-02-04T07:17:01.540Z"
   },
   {
    "duration": 318,
    "start_time": "2023-02-04T07:17:02.164Z"
   },
   {
    "duration": 326,
    "start_time": "2023-02-04T07:17:23.343Z"
   },
   {
    "duration": 3,
    "start_time": "2023-02-04T07:18:25.431Z"
   },
   {
    "duration": 15,
    "start_time": "2023-02-04T07:18:27.693Z"
   },
   {
    "duration": 5,
    "start_time": "2023-02-04T07:18:28.635Z"
   },
   {
    "duration": 7,
    "start_time": "2023-02-04T07:18:30.171Z"
   },
   {
    "duration": 8,
    "start_time": "2023-02-04T07:18:31.443Z"
   },
   {
    "duration": 8,
    "start_time": "2023-02-04T07:18:32.823Z"
   },
   {
    "duration": 10,
    "start_time": "2023-02-04T07:18:34.067Z"
   },
   {
    "duration": 4,
    "start_time": "2023-02-04T07:18:35.470Z"
   },
   {
    "duration": 4,
    "start_time": "2023-02-04T07:18:36.548Z"
   },
   {
    "duration": 6,
    "start_time": "2023-02-04T07:18:38.998Z"
   },
   {
    "duration": 5,
    "start_time": "2023-02-04T07:18:39.603Z"
   },
   {
    "duration": 183,
    "start_time": "2023-02-04T07:18:40.490Z"
   },
   {
    "duration": 8,
    "start_time": "2023-02-04T07:18:42.227Z"
   },
   {
    "duration": 9,
    "start_time": "2023-02-04T07:18:45.816Z"
   },
   {
    "duration": 5,
    "start_time": "2023-02-04T07:18:47.132Z"
   },
   {
    "duration": 10,
    "start_time": "2023-02-04T07:18:47.782Z"
   },
   {
    "duration": 7,
    "start_time": "2023-02-04T07:18:48.777Z"
   },
   {
    "duration": 214,
    "start_time": "2023-02-04T07:18:50.463Z"
   },
   {
    "duration": 148,
    "start_time": "2023-02-04T07:18:52.097Z"
   },
   {
    "duration": 8,
    "start_time": "2023-02-04T07:18:53.836Z"
   },
   {
    "duration": 6,
    "start_time": "2023-02-04T07:18:54.883Z"
   },
   {
    "duration": 8,
    "start_time": "2023-02-04T07:18:57.140Z"
   },
   {
    "duration": 8,
    "start_time": "2023-02-04T07:18:58.194Z"
   },
   {
    "duration": 7,
    "start_time": "2023-02-04T07:19:02.566Z"
   },
   {
    "duration": 10,
    "start_time": "2023-02-04T07:19:04.197Z"
   },
   {
    "duration": 13,
    "start_time": "2023-02-04T07:19:28.963Z"
   },
   {
    "duration": 4,
    "start_time": "2023-02-04T07:19:32.064Z"
   },
   {
    "duration": 467,
    "start_time": "2023-02-04T07:19:37.915Z"
   },
   {
    "duration": 6,
    "start_time": "2023-02-04T07:20:09.303Z"
   },
   {
    "duration": 8,
    "start_time": "2023-02-04T07:22:55.697Z"
   },
   {
    "duration": 9,
    "start_time": "2023-02-04T07:22:59.883Z"
   },
   {
    "duration": 7,
    "start_time": "2023-02-04T07:23:11.661Z"
   },
   {
    "duration": 7,
    "start_time": "2023-02-04T07:26:10.054Z"
   },
   {
    "duration": 6,
    "start_time": "2023-02-04T07:26:10.779Z"
   },
   {
    "duration": 6,
    "start_time": "2023-02-04T07:26:12.294Z"
   },
   {
    "duration": 15,
    "start_time": "2023-02-04T07:26:22.725Z"
   },
   {
    "duration": 4,
    "start_time": "2023-02-04T07:26:31.912Z"
   },
   {
    "duration": 9,
    "start_time": "2023-02-04T07:26:37.236Z"
   },
   {
    "duration": 7,
    "start_time": "2023-02-04T07:26:44.083Z"
   },
   {
    "duration": 7,
    "start_time": "2023-02-04T07:26:44.831Z"
   },
   {
    "duration": 6,
    "start_time": "2023-02-04T07:26:50.313Z"
   },
   {
    "duration": 6,
    "start_time": "2023-02-04T07:26:51.693Z"
   },
   {
    "duration": 8,
    "start_time": "2023-02-04T07:26:57.077Z"
   },
   {
    "duration": 5,
    "start_time": "2023-02-04T07:27:06.019Z"
   },
   {
    "duration": 8,
    "start_time": "2023-02-04T07:27:07.507Z"
   },
   {
    "duration": 6,
    "start_time": "2023-02-04T07:27:10.518Z"
   },
   {
    "duration": 317,
    "start_time": "2023-02-04T07:27:12.327Z"
   },
   {
    "duration": 8,
    "start_time": "2023-02-04T07:27:21.184Z"
   },
   {
    "duration": 7,
    "start_time": "2023-02-04T07:27:22.438Z"
   },
   {
    "duration": 8,
    "start_time": "2023-02-04T07:27:24.536Z"
   },
   {
    "duration": 6,
    "start_time": "2023-02-04T07:27:27.468Z"
   },
   {
    "duration": 198,
    "start_time": "2023-02-04T07:27:30.841Z"
   },
   {
    "duration": 4,
    "start_time": "2023-02-04T07:27:37.573Z"
   },
   {
    "duration": 10,
    "start_time": "2023-02-04T07:27:38.402Z"
   },
   {
    "duration": 14,
    "start_time": "2023-02-04T07:27:43.420Z"
   },
   {
    "duration": 4,
    "start_time": "2023-02-04T07:27:44.338Z"
   },
   {
    "duration": 322,
    "start_time": "2023-02-04T07:27:45.774Z"
   },
   {
    "duration": 4,
    "start_time": "2023-02-04T07:27:46.423Z"
   },
   {
    "duration": 209,
    "start_time": "2023-02-04T07:27:51.974Z"
   },
   {
    "duration": 9,
    "start_time": "2023-02-04T07:28:05.772Z"
   },
   {
    "duration": 77,
    "start_time": "2023-02-04T07:30:03.742Z"
   },
   {
    "duration": 10,
    "start_time": "2023-02-04T07:31:09.342Z"
   },
   {
    "duration": 3,
    "start_time": "2023-02-04T07:31:11.610Z"
   },
   {
    "duration": 12,
    "start_time": "2023-02-04T07:31:12.503Z"
   },
   {
    "duration": 70,
    "start_time": "2023-02-04T07:36:58.047Z"
   },
   {
    "duration": 0,
    "start_time": "2023-02-04T07:36:58.119Z"
   },
   {
    "duration": 50,
    "start_time": "2023-02-04T07:41:48.929Z"
   },
   {
    "duration": 2,
    "start_time": "2023-02-04T07:41:51.895Z"
   },
   {
    "duration": 7,
    "start_time": "2023-02-04T07:41:52.807Z"
   },
   {
    "duration": 1379,
    "start_time": "2023-02-04T07:42:09.884Z"
   },
   {
    "duration": 186,
    "start_time": "2023-02-04T07:42:11.265Z"
   },
   {
    "duration": 14,
    "start_time": "2023-02-04T07:42:11.453Z"
   },
   {
    "duration": 2039,
    "start_time": "2023-02-04T07:42:11.469Z"
   },
   {
    "duration": 15,
    "start_time": "2023-02-04T07:42:13.510Z"
   },
   {
    "duration": 5,
    "start_time": "2023-02-04T07:42:13.527Z"
   },
   {
    "duration": 24,
    "start_time": "2023-02-04T07:42:13.534Z"
   },
   {
    "duration": 12,
    "start_time": "2023-02-04T07:42:13.560Z"
   },
   {
    "duration": 6,
    "start_time": "2023-02-04T07:42:13.574Z"
   },
   {
    "duration": 13,
    "start_time": "2023-02-04T07:42:13.583Z"
   },
   {
    "duration": 15,
    "start_time": "2023-02-04T07:42:13.597Z"
   },
   {
    "duration": 7,
    "start_time": "2023-02-04T07:42:13.614Z"
   },
   {
    "duration": 16,
    "start_time": "2023-02-04T07:42:13.623Z"
   },
   {
    "duration": 21,
    "start_time": "2023-02-04T07:42:13.641Z"
   },
   {
    "duration": 27,
    "start_time": "2023-02-04T07:42:13.664Z"
   },
   {
    "duration": 13,
    "start_time": "2023-02-04T07:42:13.693Z"
   },
   {
    "duration": 3,
    "start_time": "2023-02-04T07:42:13.708Z"
   },
   {
    "duration": 5,
    "start_time": "2023-02-04T07:42:13.713Z"
   },
   {
    "duration": 136,
    "start_time": "2023-02-04T07:42:13.720Z"
   },
   {
    "duration": 8,
    "start_time": "2023-02-04T07:42:13.857Z"
   },
   {
    "duration": 8,
    "start_time": "2023-02-04T07:42:13.866Z"
   },
   {
    "duration": 400,
    "start_time": "2023-02-04T07:42:13.875Z"
   },
   {
    "duration": 4,
    "start_time": "2023-02-04T07:42:14.276Z"
   },
   {
    "duration": 6,
    "start_time": "2023-02-04T07:42:14.282Z"
   },
   {
    "duration": 102,
    "start_time": "2023-02-04T07:42:14.289Z"
   },
   {
    "duration": 9,
    "start_time": "2023-02-04T07:42:14.393Z"
   },
   {
    "duration": 7,
    "start_time": "2023-02-04T07:42:14.403Z"
   },
   {
    "duration": 79,
    "start_time": "2023-02-04T07:42:14.414Z"
   },
   {
    "duration": 12,
    "start_time": "2023-02-04T07:42:14.495Z"
   },
   {
    "duration": 151,
    "start_time": "2023-02-04T07:42:14.509Z"
   },
   {
    "duration": 9,
    "start_time": "2023-02-04T07:42:14.663Z"
   },
   {
    "duration": 19,
    "start_time": "2023-02-04T07:42:14.674Z"
   },
   {
    "duration": 5,
    "start_time": "2023-02-04T07:42:14.696Z"
   },
   {
    "duration": 70,
    "start_time": "2023-02-04T07:42:14.703Z"
   },
   {
    "duration": 4,
    "start_time": "2023-02-04T07:42:14.775Z"
   },
   {
    "duration": 122,
    "start_time": "2023-02-04T07:42:14.780Z"
   },
   {
    "duration": 0,
    "start_time": "2023-02-04T07:42:14.904Z"
   },
   {
    "duration": 0,
    "start_time": "2023-02-04T07:42:14.905Z"
   },
   {
    "duration": 0,
    "start_time": "2023-02-04T07:42:14.907Z"
   },
   {
    "duration": 0,
    "start_time": "2023-02-04T07:42:14.908Z"
   },
   {
    "duration": 0,
    "start_time": "2023-02-04T07:42:14.910Z"
   },
   {
    "duration": 0,
    "start_time": "2023-02-04T07:42:14.911Z"
   },
   {
    "duration": 0,
    "start_time": "2023-02-04T07:42:14.911Z"
   },
   {
    "duration": 0,
    "start_time": "2023-02-04T07:42:14.912Z"
   },
   {
    "duration": 0,
    "start_time": "2023-02-04T07:42:14.914Z"
   },
   {
    "duration": 0,
    "start_time": "2023-02-04T07:42:14.915Z"
   },
   {
    "duration": 0,
    "start_time": "2023-02-04T07:42:14.918Z"
   },
   {
    "duration": 0,
    "start_time": "2023-02-04T07:42:14.920Z"
   },
   {
    "duration": 0,
    "start_time": "2023-02-04T07:42:14.938Z"
   },
   {
    "duration": 0,
    "start_time": "2023-02-04T07:42:14.939Z"
   },
   {
    "duration": 0,
    "start_time": "2023-02-04T07:42:14.939Z"
   },
   {
    "duration": 0,
    "start_time": "2023-02-04T07:42:14.940Z"
   },
   {
    "duration": 0,
    "start_time": "2023-02-04T07:42:14.941Z"
   },
   {
    "duration": 0,
    "start_time": "2023-02-04T07:42:14.941Z"
   },
   {
    "duration": 0,
    "start_time": "2023-02-04T07:42:14.942Z"
   },
   {
    "duration": 0,
    "start_time": "2023-02-04T07:42:14.943Z"
   },
   {
    "duration": 0,
    "start_time": "2023-02-04T07:42:14.944Z"
   },
   {
    "duration": 0,
    "start_time": "2023-02-04T07:42:14.947Z"
   },
   {
    "duration": 0,
    "start_time": "2023-02-04T07:42:14.948Z"
   },
   {
    "duration": 0,
    "start_time": "2023-02-04T07:42:14.948Z"
   },
   {
    "duration": 0,
    "start_time": "2023-02-04T07:42:14.949Z"
   },
   {
    "duration": 0,
    "start_time": "2023-02-04T07:42:14.950Z"
   },
   {
    "duration": 0,
    "start_time": "2023-02-04T07:42:14.950Z"
   },
   {
    "duration": 0,
    "start_time": "2023-02-04T07:42:14.951Z"
   },
   {
    "duration": 0,
    "start_time": "2023-02-04T07:42:14.951Z"
   },
   {
    "duration": 0,
    "start_time": "2023-02-04T07:42:14.952Z"
   },
   {
    "duration": 1,
    "start_time": "2023-02-04T07:42:14.952Z"
   },
   {
    "duration": 0,
    "start_time": "2023-02-04T07:42:14.953Z"
   },
   {
    "duration": 0,
    "start_time": "2023-02-04T07:42:14.955Z"
   },
   {
    "duration": 0,
    "start_time": "2023-02-04T07:42:14.956Z"
   },
   {
    "duration": 0,
    "start_time": "2023-02-04T07:42:14.958Z"
   },
   {
    "duration": 1,
    "start_time": "2023-02-04T07:42:14.958Z"
   },
   {
    "duration": 0,
    "start_time": "2023-02-04T07:42:14.960Z"
   },
   {
    "duration": 0,
    "start_time": "2023-02-04T07:42:14.961Z"
   },
   {
    "duration": 0,
    "start_time": "2023-02-04T07:42:14.962Z"
   },
   {
    "duration": 0,
    "start_time": "2023-02-04T07:42:14.963Z"
   },
   {
    "duration": 0,
    "start_time": "2023-02-04T07:42:14.964Z"
   },
   {
    "duration": 0,
    "start_time": "2023-02-04T07:42:14.965Z"
   },
   {
    "duration": 0,
    "start_time": "2023-02-04T07:42:14.966Z"
   },
   {
    "duration": 0,
    "start_time": "2023-02-04T07:42:14.967Z"
   },
   {
    "duration": 0,
    "start_time": "2023-02-04T07:42:14.968Z"
   },
   {
    "duration": 2605,
    "start_time": "2023-02-04T07:42:53.591Z"
   },
   {
    "duration": 233,
    "start_time": "2023-02-04T07:43:00.333Z"
   },
   {
    "duration": 8,
    "start_time": "2023-02-04T07:43:02.996Z"
   },
   {
    "duration": 10,
    "start_time": "2023-02-04T07:43:08.672Z"
   },
   {
    "duration": 3,
    "start_time": "2023-02-04T07:43:12.152Z"
   },
   {
    "duration": 1182,
    "start_time": "2023-02-04T07:43:12.723Z"
   },
   {
    "duration": 1109,
    "start_time": "2023-02-04T07:43:23.504Z"
   },
   {
    "duration": 105,
    "start_time": "2023-02-04T07:43:24.615Z"
   },
   {
    "duration": 28,
    "start_time": "2023-02-04T07:43:24.722Z"
   },
   {
    "duration": 1963,
    "start_time": "2023-02-04T07:43:24.753Z"
   },
   {
    "duration": 13,
    "start_time": "2023-02-04T07:43:26.717Z"
   },
   {
    "duration": 4,
    "start_time": "2023-02-04T07:43:26.732Z"
   },
   {
    "duration": 16,
    "start_time": "2023-02-04T07:43:26.739Z"
   },
   {
    "duration": 17,
    "start_time": "2023-02-04T07:43:26.757Z"
   },
   {
    "duration": 5,
    "start_time": "2023-02-04T07:43:26.776Z"
   },
   {
    "duration": 11,
    "start_time": "2023-02-04T07:43:26.783Z"
   },
   {
    "duration": 13,
    "start_time": "2023-02-04T07:43:26.795Z"
   },
   {
    "duration": 8,
    "start_time": "2023-02-04T07:43:26.809Z"
   },
   {
    "duration": 25,
    "start_time": "2023-02-04T07:43:26.818Z"
   },
   {
    "duration": 22,
    "start_time": "2023-02-04T07:43:26.845Z"
   },
   {
    "duration": 20,
    "start_time": "2023-02-04T07:43:26.869Z"
   },
   {
    "duration": 18,
    "start_time": "2023-02-04T07:43:26.891Z"
   },
   {
    "duration": 5,
    "start_time": "2023-02-04T07:43:26.910Z"
   },
   {
    "duration": 7,
    "start_time": "2023-02-04T07:43:26.916Z"
   },
   {
    "duration": 138,
    "start_time": "2023-02-04T07:43:26.925Z"
   },
   {
    "duration": 9,
    "start_time": "2023-02-04T07:43:27.065Z"
   },
   {
    "duration": 8,
    "start_time": "2023-02-04T07:43:27.076Z"
   },
   {
    "duration": 469,
    "start_time": "2023-02-04T07:43:27.086Z"
   },
   {
    "duration": 4,
    "start_time": "2023-02-04T07:43:27.556Z"
   },
   {
    "duration": 5,
    "start_time": "2023-02-04T07:43:27.562Z"
   },
   {
    "duration": 58,
    "start_time": "2023-02-04T07:43:27.568Z"
   },
   {
    "duration": 29,
    "start_time": "2023-02-04T07:43:27.627Z"
   },
   {
    "duration": 6,
    "start_time": "2023-02-04T07:43:27.658Z"
   },
   {
    "duration": 121,
    "start_time": "2023-02-04T07:43:27.667Z"
   },
   {
    "duration": 14,
    "start_time": "2023-02-04T07:43:27.790Z"
   },
   {
    "duration": 149,
    "start_time": "2023-02-04T07:43:27.806Z"
   },
   {
    "duration": 8,
    "start_time": "2023-02-04T07:43:27.957Z"
   },
   {
    "duration": 13,
    "start_time": "2023-02-04T07:43:27.967Z"
   },
   {
    "duration": 6,
    "start_time": "2023-02-04T07:43:27.982Z"
   },
   {
    "duration": 73,
    "start_time": "2023-02-04T07:43:27.990Z"
   },
   {
    "duration": 4,
    "start_time": "2023-02-04T07:43:28.064Z"
   },
   {
    "duration": 103,
    "start_time": "2023-02-04T07:43:28.070Z"
   },
   {
    "duration": 0,
    "start_time": "2023-02-04T07:43:28.174Z"
   },
   {
    "duration": 0,
    "start_time": "2023-02-04T07:43:28.176Z"
   },
   {
    "duration": 0,
    "start_time": "2023-02-04T07:43:28.177Z"
   },
   {
    "duration": 0,
    "start_time": "2023-02-04T07:43:28.179Z"
   },
   {
    "duration": 0,
    "start_time": "2023-02-04T07:43:28.180Z"
   },
   {
    "duration": 0,
    "start_time": "2023-02-04T07:43:28.181Z"
   },
   {
    "duration": 0,
    "start_time": "2023-02-04T07:43:28.182Z"
   },
   {
    "duration": 0,
    "start_time": "2023-02-04T07:43:28.184Z"
   },
   {
    "duration": 0,
    "start_time": "2023-02-04T07:43:28.185Z"
   },
   {
    "duration": 0,
    "start_time": "2023-02-04T07:43:28.187Z"
   },
   {
    "duration": 0,
    "start_time": "2023-02-04T07:43:28.188Z"
   },
   {
    "duration": 0,
    "start_time": "2023-02-04T07:43:28.190Z"
   },
   {
    "duration": 0,
    "start_time": "2023-02-04T07:43:28.191Z"
   },
   {
    "duration": 0,
    "start_time": "2023-02-04T07:43:28.192Z"
   },
   {
    "duration": 0,
    "start_time": "2023-02-04T07:43:28.194Z"
   },
   {
    "duration": 0,
    "start_time": "2023-02-04T07:43:28.195Z"
   },
   {
    "duration": 0,
    "start_time": "2023-02-04T07:43:28.196Z"
   },
   {
    "duration": 0,
    "start_time": "2023-02-04T07:43:28.198Z"
   },
   {
    "duration": 0,
    "start_time": "2023-02-04T07:43:28.247Z"
   },
   {
    "duration": 0,
    "start_time": "2023-02-04T07:43:28.247Z"
   },
   {
    "duration": 0,
    "start_time": "2023-02-04T07:43:28.248Z"
   },
   {
    "duration": 0,
    "start_time": "2023-02-04T07:43:28.248Z"
   },
   {
    "duration": 0,
    "start_time": "2023-02-04T07:43:28.249Z"
   },
   {
    "duration": 0,
    "start_time": "2023-02-04T07:43:28.249Z"
   },
   {
    "duration": 0,
    "start_time": "2023-02-04T07:43:28.251Z"
   },
   {
    "duration": 0,
    "start_time": "2023-02-04T07:43:28.252Z"
   },
   {
    "duration": 0,
    "start_time": "2023-02-04T07:43:28.253Z"
   },
   {
    "duration": 0,
    "start_time": "2023-02-04T07:43:28.254Z"
   },
   {
    "duration": 0,
    "start_time": "2023-02-04T07:43:28.255Z"
   },
   {
    "duration": 0,
    "start_time": "2023-02-04T07:43:28.256Z"
   },
   {
    "duration": 0,
    "start_time": "2023-02-04T07:43:28.258Z"
   },
   {
    "duration": 0,
    "start_time": "2023-02-04T07:43:28.259Z"
   },
   {
    "duration": 0,
    "start_time": "2023-02-04T07:43:28.260Z"
   },
   {
    "duration": 0,
    "start_time": "2023-02-04T07:43:28.261Z"
   },
   {
    "duration": 0,
    "start_time": "2023-02-04T07:43:28.262Z"
   },
   {
    "duration": 0,
    "start_time": "2023-02-04T07:43:28.264Z"
   },
   {
    "duration": 0,
    "start_time": "2023-02-04T07:43:28.265Z"
   },
   {
    "duration": 0,
    "start_time": "2023-02-04T07:43:28.267Z"
   },
   {
    "duration": 0,
    "start_time": "2023-02-04T07:43:28.268Z"
   },
   {
    "duration": 0,
    "start_time": "2023-02-04T07:43:28.271Z"
   },
   {
    "duration": 0,
    "start_time": "2023-02-04T07:43:28.272Z"
   },
   {
    "duration": 0,
    "start_time": "2023-02-04T07:43:28.273Z"
   },
   {
    "duration": 0,
    "start_time": "2023-02-04T07:43:28.274Z"
   },
   {
    "duration": 0,
    "start_time": "2023-02-04T07:43:28.275Z"
   },
   {
    "duration": 0,
    "start_time": "2023-02-04T07:43:28.277Z"
   },
   {
    "duration": 3,
    "start_time": "2023-02-04T07:43:50.362Z"
   },
   {
    "duration": 142,
    "start_time": "2023-02-04T07:43:50.367Z"
   },
   {
    "duration": 40,
    "start_time": "2023-02-04T07:43:50.510Z"
   },
   {
    "duration": 2373,
    "start_time": "2023-02-04T07:43:50.552Z"
   },
   {
    "duration": 24,
    "start_time": "2023-02-04T07:43:52.926Z"
   },
   {
    "duration": 4,
    "start_time": "2023-02-04T07:43:52.952Z"
   },
   {
    "duration": 6,
    "start_time": "2023-02-04T07:43:52.957Z"
   },
   {
    "duration": 17,
    "start_time": "2023-02-04T07:43:52.964Z"
   },
   {
    "duration": 7,
    "start_time": "2023-02-04T07:43:52.983Z"
   },
   {
    "duration": 9,
    "start_time": "2023-02-04T07:43:52.992Z"
   },
   {
    "duration": 12,
    "start_time": "2023-02-04T07:43:53.003Z"
   },
   {
    "duration": 35,
    "start_time": "2023-02-04T07:43:53.017Z"
   },
   {
    "duration": 8,
    "start_time": "2023-02-04T07:43:53.053Z"
   },
   {
    "duration": 8,
    "start_time": "2023-02-04T07:43:53.063Z"
   },
   {
    "duration": 22,
    "start_time": "2023-02-04T07:43:53.072Z"
   },
   {
    "duration": 13,
    "start_time": "2023-02-04T07:43:53.095Z"
   },
   {
    "duration": 3,
    "start_time": "2023-02-04T07:43:53.109Z"
   },
   {
    "duration": 5,
    "start_time": "2023-02-04T07:43:53.114Z"
   },
   {
    "duration": 131,
    "start_time": "2023-02-04T07:43:53.138Z"
   },
   {
    "duration": 9,
    "start_time": "2023-02-04T07:43:53.270Z"
   },
   {
    "duration": 3,
    "start_time": "2023-02-04T07:43:53.280Z"
   },
   {
    "duration": 394,
    "start_time": "2023-02-04T07:43:53.285Z"
   },
   {
    "duration": 5,
    "start_time": "2023-02-04T07:43:53.681Z"
   },
   {
    "duration": 3,
    "start_time": "2023-02-04T07:43:53.690Z"
   },
   {
    "duration": 76,
    "start_time": "2023-02-04T07:43:53.694Z"
   },
   {
    "duration": 8,
    "start_time": "2023-02-04T07:43:53.771Z"
   },
   {
    "duration": 9,
    "start_time": "2023-02-04T07:43:53.780Z"
   },
   {
    "duration": 78,
    "start_time": "2023-02-04T07:43:53.791Z"
   },
   {
    "duration": 17,
    "start_time": "2023-02-04T07:43:53.871Z"
   },
   {
    "duration": 142,
    "start_time": "2023-02-04T07:43:53.890Z"
   },
   {
    "duration": 15,
    "start_time": "2023-02-04T07:43:54.039Z"
   },
   {
    "duration": 7,
    "start_time": "2023-02-04T07:43:54.056Z"
   },
   {
    "duration": 6,
    "start_time": "2023-02-04T07:43:54.065Z"
   },
   {
    "duration": 86,
    "start_time": "2023-02-04T07:43:54.072Z"
   },
   {
    "duration": 4,
    "start_time": "2023-02-04T07:43:54.160Z"
   },
   {
    "duration": 10,
    "start_time": "2023-02-04T07:43:54.165Z"
   },
   {
    "duration": 0,
    "start_time": "2023-02-04T07:43:54.177Z"
   },
   {
    "duration": 0,
    "start_time": "2023-02-04T07:43:54.178Z"
   },
   {
    "duration": 0,
    "start_time": "2023-02-04T07:43:54.179Z"
   },
   {
    "duration": 0,
    "start_time": "2023-02-04T07:43:54.180Z"
   },
   {
    "duration": 0,
    "start_time": "2023-02-04T07:43:54.181Z"
   },
   {
    "duration": 0,
    "start_time": "2023-02-04T07:43:54.182Z"
   },
   {
    "duration": 0,
    "start_time": "2023-02-04T07:43:54.183Z"
   },
   {
    "duration": 0,
    "start_time": "2023-02-04T07:43:54.184Z"
   },
   {
    "duration": 0,
    "start_time": "2023-02-04T07:43:54.184Z"
   },
   {
    "duration": 0,
    "start_time": "2023-02-04T07:43:54.186Z"
   },
   {
    "duration": 0,
    "start_time": "2023-02-04T07:43:54.187Z"
   },
   {
    "duration": 0,
    "start_time": "2023-02-04T07:43:54.188Z"
   },
   {
    "duration": 0,
    "start_time": "2023-02-04T07:43:54.188Z"
   },
   {
    "duration": 0,
    "start_time": "2023-02-04T07:43:54.189Z"
   },
   {
    "duration": 0,
    "start_time": "2023-02-04T07:43:54.190Z"
   },
   {
    "duration": 0,
    "start_time": "2023-02-04T07:43:54.192Z"
   },
   {
    "duration": 0,
    "start_time": "2023-02-04T07:43:54.193Z"
   },
   {
    "duration": 0,
    "start_time": "2023-02-04T07:43:54.195Z"
   },
   {
    "duration": 0,
    "start_time": "2023-02-04T07:43:54.237Z"
   },
   {
    "duration": 0,
    "start_time": "2023-02-04T07:43:54.242Z"
   },
   {
    "duration": 0,
    "start_time": "2023-02-04T07:43:54.243Z"
   },
   {
    "duration": 0,
    "start_time": "2023-02-04T07:43:54.244Z"
   },
   {
    "duration": 0,
    "start_time": "2023-02-04T07:43:54.246Z"
   },
   {
    "duration": 0,
    "start_time": "2023-02-04T07:43:54.247Z"
   },
   {
    "duration": 0,
    "start_time": "2023-02-04T07:43:54.249Z"
   },
   {
    "duration": 0,
    "start_time": "2023-02-04T07:43:54.250Z"
   },
   {
    "duration": 0,
    "start_time": "2023-02-04T07:43:54.251Z"
   },
   {
    "duration": 0,
    "start_time": "2023-02-04T07:43:54.254Z"
   },
   {
    "duration": 0,
    "start_time": "2023-02-04T07:43:54.256Z"
   },
   {
    "duration": 0,
    "start_time": "2023-02-04T07:43:54.257Z"
   },
   {
    "duration": 0,
    "start_time": "2023-02-04T07:43:54.258Z"
   },
   {
    "duration": 0,
    "start_time": "2023-02-04T07:43:54.259Z"
   },
   {
    "duration": 0,
    "start_time": "2023-02-04T07:43:54.260Z"
   },
   {
    "duration": 0,
    "start_time": "2023-02-04T07:43:54.261Z"
   },
   {
    "duration": 0,
    "start_time": "2023-02-04T07:43:54.262Z"
   },
   {
    "duration": 0,
    "start_time": "2023-02-04T07:43:54.262Z"
   },
   {
    "duration": 0,
    "start_time": "2023-02-04T07:43:54.264Z"
   },
   {
    "duration": 0,
    "start_time": "2023-02-04T07:43:54.264Z"
   },
   {
    "duration": 0,
    "start_time": "2023-02-04T07:43:54.266Z"
   },
   {
    "duration": 0,
    "start_time": "2023-02-04T07:43:54.267Z"
   },
   {
    "duration": 0,
    "start_time": "2023-02-04T07:43:54.268Z"
   },
   {
    "duration": 0,
    "start_time": "2023-02-04T07:43:54.269Z"
   },
   {
    "duration": 0,
    "start_time": "2023-02-04T07:43:54.269Z"
   },
   {
    "duration": 0,
    "start_time": "2023-02-04T07:43:54.270Z"
   },
   {
    "duration": 0,
    "start_time": "2023-02-04T07:43:54.271Z"
   },
   {
    "duration": 13,
    "start_time": "2023-02-04T07:44:12.397Z"
   },
   {
    "duration": 6,
    "start_time": "2023-02-04T07:44:15.136Z"
   },
   {
    "duration": 16,
    "start_time": "2023-02-04T07:44:21.134Z"
   },
   {
    "duration": 3,
    "start_time": "2023-02-04T07:44:22.301Z"
   },
   {
    "duration": 323,
    "start_time": "2023-02-04T07:44:24.159Z"
   },
   {
    "duration": 4,
    "start_time": "2023-02-04T07:44:24.802Z"
   },
   {
    "duration": 206,
    "start_time": "2023-02-04T07:44:28.860Z"
   },
   {
    "duration": 9,
    "start_time": "2023-02-04T07:44:31.099Z"
   },
   {
    "duration": 1152,
    "start_time": "2023-02-04T07:44:45.917Z"
   },
   {
    "duration": 110,
    "start_time": "2023-02-04T07:44:47.071Z"
   },
   {
    "duration": 2134,
    "start_time": "2023-02-04T07:44:50.881Z"
   },
   {
    "duration": 3,
    "start_time": "2023-02-04T07:44:54.103Z"
   },
   {
    "duration": 4,
    "start_time": "2023-02-04T07:44:56.962Z"
   },
   {
    "duration": 11,
    "start_time": "2023-02-04T07:44:58.949Z"
   },
   {
    "duration": 7,
    "start_time": "2023-02-04T07:45:01.052Z"
   },
   {
    "duration": 27,
    "start_time": "2023-02-04T07:45:02.330Z"
   },
   {
    "duration": 20,
    "start_time": "2023-02-04T07:45:03.179Z"
   },
   {
    "duration": 11,
    "start_time": "2023-02-04T07:45:05.075Z"
   },
   {
    "duration": 9,
    "start_time": "2023-02-04T07:45:05.701Z"
   },
   {
    "duration": 16,
    "start_time": "2023-02-04T07:45:06.307Z"
   },
   {
    "duration": 8,
    "start_time": "2023-02-04T07:45:08.253Z"
   },
   {
    "duration": 16,
    "start_time": "2023-02-04T07:45:10.036Z"
   },
   {
    "duration": 4,
    "start_time": "2023-02-04T07:45:11.121Z"
   },
   {
    "duration": 140,
    "start_time": "2023-02-04T07:45:11.692Z"
   },
   {
    "duration": 9,
    "start_time": "2023-02-04T07:45:14.551Z"
   },
   {
    "duration": 3,
    "start_time": "2023-02-04T07:45:16.654Z"
   },
   {
    "duration": 413,
    "start_time": "2023-02-04T07:45:18.411Z"
   },
   {
    "duration": 3,
    "start_time": "2023-02-04T07:45:19.226Z"
   },
   {
    "duration": 62,
    "start_time": "2023-02-04T07:45:20.200Z"
   },
   {
    "duration": 8,
    "start_time": "2023-02-04T07:45:20.898Z"
   },
   {
    "duration": 4,
    "start_time": "2023-02-04T07:45:22.696Z"
   },
   {
    "duration": 17,
    "start_time": "2023-02-04T07:45:26.450Z"
   },
   {
    "duration": 119,
    "start_time": "2023-02-04T07:45:28.159Z"
   },
   {
    "duration": 11,
    "start_time": "2023-02-04T07:45:30.385Z"
   },
   {
    "duration": 8,
    "start_time": "2023-02-04T07:45:31.226Z"
   },
   {
    "duration": 7,
    "start_time": "2023-02-04T07:45:32.599Z"
   },
   {
    "duration": 97,
    "start_time": "2023-02-04T07:45:36.396Z"
   },
   {
    "duration": 3,
    "start_time": "2023-02-04T07:45:49.861Z"
   },
   {
    "duration": 4,
    "start_time": "2023-02-04T07:45:50.362Z"
   },
   {
    "duration": 4,
    "start_time": "2023-02-04T07:45:58.100Z"
   },
   {
    "duration": 24,
    "start_time": "2023-02-04T07:45:58.106Z"
   },
   {
    "duration": 4,
    "start_time": "2023-02-04T07:45:58.132Z"
   },
   {
    "duration": 25,
    "start_time": "2023-02-04T07:45:58.138Z"
   },
   {
    "duration": 8,
    "start_time": "2023-02-04T07:45:58.165Z"
   },
   {
    "duration": 10,
    "start_time": "2023-02-04T07:45:58.175Z"
   },
   {
    "duration": 6,
    "start_time": "2023-02-04T07:45:58.186Z"
   },
   {
    "duration": 7,
    "start_time": "2023-02-04T07:45:58.194Z"
   },
   {
    "duration": 5,
    "start_time": "2023-02-04T07:45:58.204Z"
   },
   {
    "duration": 9,
    "start_time": "2023-02-04T07:45:58.210Z"
   },
   {
    "duration": 32,
    "start_time": "2023-02-04T07:45:58.220Z"
   },
   {
    "duration": 212,
    "start_time": "2023-02-04T07:45:58.253Z"
   },
   {
    "duration": 7,
    "start_time": "2023-02-04T07:45:58.467Z"
   },
   {
    "duration": 18,
    "start_time": "2023-02-04T07:45:58.476Z"
   },
   {
    "duration": 14,
    "start_time": "2023-02-04T07:45:58.496Z"
   },
   {
    "duration": 11,
    "start_time": "2023-02-04T07:45:58.511Z"
   },
   {
    "duration": 24,
    "start_time": "2023-02-04T07:45:58.524Z"
   },
   {
    "duration": 223,
    "start_time": "2023-02-04T07:45:58.553Z"
   },
   {
    "duration": 150,
    "start_time": "2023-02-04T07:45:58.778Z"
   },
   {
    "duration": 13,
    "start_time": "2023-02-04T07:45:58.930Z"
   },
   {
    "duration": 19,
    "start_time": "2023-02-04T07:45:58.947Z"
   },
   {
    "duration": 9,
    "start_time": "2023-02-04T07:45:58.968Z"
   },
   {
    "duration": 5,
    "start_time": "2023-02-04T07:45:58.979Z"
   },
   {
    "duration": 199,
    "start_time": "2023-02-04T07:45:58.987Z"
   },
   {
    "duration": 4,
    "start_time": "2023-02-04T07:45:59.188Z"
   },
   {
    "duration": 18,
    "start_time": "2023-02-04T07:45:59.193Z"
   },
   {
    "duration": 30,
    "start_time": "2023-02-04T07:45:59.213Z"
   },
   {
    "duration": 4,
    "start_time": "2023-02-04T07:45:59.252Z"
   },
   {
    "duration": 437,
    "start_time": "2023-02-04T07:45:59.259Z"
   },
   {
    "duration": 5,
    "start_time": "2023-02-04T07:45:59.698Z"
   },
   {
    "duration": 3037,
    "start_time": "2023-02-04T07:45:59.704Z"
   },
   {
    "duration": 248,
    "start_time": "2023-02-04T07:46:02.743Z"
   },
   {
    "duration": 9,
    "start_time": "2023-02-04T07:46:02.993Z"
   },
   {
    "duration": 5,
    "start_time": "2023-02-04T07:46:03.004Z"
   },
   {
    "duration": 79532,
    "start_time": "2023-02-04T07:46:03.010Z"
   },
   {
    "duration": 0,
    "start_time": "2023-02-04T07:47:22.545Z"
   },
   {
    "duration": 0,
    "start_time": "2023-02-04T07:47:22.546Z"
   },
   {
    "duration": 0,
    "start_time": "2023-02-04T07:47:22.547Z"
   },
   {
    "duration": 0,
    "start_time": "2023-02-04T07:47:22.547Z"
   },
   {
    "duration": 0,
    "start_time": "2023-02-04T07:47:22.548Z"
   },
   {
    "duration": 0,
    "start_time": "2023-02-04T07:47:22.550Z"
   },
   {
    "duration": 0,
    "start_time": "2023-02-04T07:47:22.551Z"
   },
   {
    "duration": 0,
    "start_time": "2023-02-04T07:47:22.552Z"
   },
   {
    "duration": 0,
    "start_time": "2023-02-04T07:47:22.552Z"
   },
   {
    "duration": 0,
    "start_time": "2023-02-04T07:47:22.552Z"
   },
   {
    "duration": 0,
    "start_time": "2023-02-04T07:47:22.557Z"
   },
   {
    "duration": 1197,
    "start_time": "2023-02-04T07:50:46.736Z"
   },
   {
    "duration": 120,
    "start_time": "2023-02-04T07:50:47.935Z"
   },
   {
    "duration": 15,
    "start_time": "2023-02-04T07:50:48.057Z"
   },
   {
    "duration": 2026,
    "start_time": "2023-02-04T07:50:48.074Z"
   },
   {
    "duration": 15,
    "start_time": "2023-02-04T07:50:50.101Z"
   },
   {
    "duration": 3,
    "start_time": "2023-02-04T07:50:50.118Z"
   },
   {
    "duration": 6,
    "start_time": "2023-02-04T07:50:50.123Z"
   },
   {
    "duration": 29,
    "start_time": "2023-02-04T07:50:50.131Z"
   },
   {
    "duration": 8,
    "start_time": "2023-02-04T07:50:50.162Z"
   },
   {
    "duration": 20,
    "start_time": "2023-02-04T07:50:50.172Z"
   },
   {
    "duration": 14,
    "start_time": "2023-02-04T07:50:50.193Z"
   },
   {
    "duration": 8,
    "start_time": "2023-02-04T07:50:50.209Z"
   },
   {
    "duration": 7,
    "start_time": "2023-02-04T07:50:50.219Z"
   },
   {
    "duration": 13,
    "start_time": "2023-02-04T07:50:50.229Z"
   },
   {
    "duration": 24,
    "start_time": "2023-02-04T07:50:50.251Z"
   },
   {
    "duration": 10,
    "start_time": "2023-02-04T07:50:50.277Z"
   },
   {
    "duration": 4,
    "start_time": "2023-02-04T07:50:50.289Z"
   },
   {
    "duration": 14,
    "start_time": "2023-02-04T07:50:50.294Z"
   },
   {
    "duration": 169,
    "start_time": "2023-02-04T07:50:50.310Z"
   },
   {
    "duration": 9,
    "start_time": "2023-02-04T07:50:50.481Z"
   },
   {
    "duration": 3,
    "start_time": "2023-02-04T07:50:50.492Z"
   },
   {
    "duration": 456,
    "start_time": "2023-02-04T07:50:50.498Z"
   },
   {
    "duration": 4,
    "start_time": "2023-02-04T07:50:50.956Z"
   },
   {
    "duration": 10,
    "start_time": "2023-02-04T07:50:50.961Z"
   },
   {
    "duration": 58,
    "start_time": "2023-02-04T07:50:50.973Z"
   },
   {
    "duration": 13,
    "start_time": "2023-02-04T07:50:51.032Z"
   },
   {
    "duration": 12,
    "start_time": "2023-02-04T07:50:51.047Z"
   },
   {
    "duration": 67,
    "start_time": "2023-02-04T07:50:51.063Z"
   },
   {
    "duration": 25,
    "start_time": "2023-02-04T07:50:51.131Z"
   },
   {
    "duration": 131,
    "start_time": "2023-02-04T07:50:51.157Z"
   },
   {
    "duration": 8,
    "start_time": "2023-02-04T07:50:51.290Z"
   },
   {
    "duration": 7,
    "start_time": "2023-02-04T07:50:51.300Z"
   },
   {
    "duration": 6,
    "start_time": "2023-02-04T07:50:51.309Z"
   },
   {
    "duration": 83,
    "start_time": "2023-02-04T07:50:51.336Z"
   },
   {
    "duration": 4,
    "start_time": "2023-02-04T07:50:51.420Z"
   },
   {
    "duration": 10,
    "start_time": "2023-02-04T07:50:51.425Z"
   },
   {
    "duration": 23,
    "start_time": "2023-02-04T07:50:51.436Z"
   },
   {
    "duration": 15,
    "start_time": "2023-02-04T07:50:51.461Z"
   },
   {
    "duration": 5,
    "start_time": "2023-02-04T07:50:51.477Z"
   },
   {
    "duration": 26,
    "start_time": "2023-02-04T07:50:51.483Z"
   },
   {
    "duration": 12,
    "start_time": "2023-02-04T07:50:51.511Z"
   },
   {
    "duration": 7,
    "start_time": "2023-02-04T07:50:51.525Z"
   },
   {
    "duration": 9,
    "start_time": "2023-02-04T07:50:51.533Z"
   },
   {
    "duration": 15,
    "start_time": "2023-02-04T07:50:51.547Z"
   },
   {
    "duration": 11,
    "start_time": "2023-02-04T07:50:51.563Z"
   },
   {
    "duration": 21,
    "start_time": "2023-02-04T07:50:51.575Z"
   },
   {
    "duration": 12,
    "start_time": "2023-02-04T07:50:51.598Z"
   },
   {
    "duration": 190,
    "start_time": "2023-02-04T07:50:51.611Z"
   },
   {
    "duration": 7,
    "start_time": "2023-02-04T07:50:51.803Z"
   },
   {
    "duration": 11,
    "start_time": "2023-02-04T07:50:51.811Z"
   },
   {
    "duration": 28,
    "start_time": "2023-02-04T07:50:51.823Z"
   },
   {
    "duration": 9,
    "start_time": "2023-02-04T07:50:51.856Z"
   },
   {
    "duration": 6,
    "start_time": "2023-02-04T07:50:51.867Z"
   },
   {
    "duration": 234,
    "start_time": "2023-02-04T07:50:51.874Z"
   },
   {
    "duration": 161,
    "start_time": "2023-02-04T07:50:52.110Z"
   },
   {
    "duration": 6,
    "start_time": "2023-02-04T07:50:52.273Z"
   },
   {
    "duration": 10,
    "start_time": "2023-02-04T07:50:52.281Z"
   },
   {
    "duration": 9,
    "start_time": "2023-02-04T07:50:52.292Z"
   },
   {
    "duration": 7,
    "start_time": "2023-02-04T07:50:52.303Z"
   },
   {
    "duration": 263,
    "start_time": "2023-02-04T07:50:52.312Z"
   },
   {
    "duration": 4,
    "start_time": "2023-02-04T07:50:52.577Z"
   },
   {
    "duration": 15,
    "start_time": "2023-02-04T07:50:52.584Z"
   },
   {
    "duration": 23,
    "start_time": "2023-02-04T07:50:52.601Z"
   },
   {
    "duration": 36,
    "start_time": "2023-02-04T07:50:52.626Z"
   },
   {
    "duration": 442,
    "start_time": "2023-02-04T07:50:52.664Z"
   },
   {
    "duration": 4,
    "start_time": "2023-02-04T07:50:53.108Z"
   },
   {
    "duration": 3007,
    "start_time": "2023-02-04T07:50:53.114Z"
   },
   {
    "duration": 232,
    "start_time": "2023-02-04T07:50:56.123Z"
   },
   {
    "duration": 10,
    "start_time": "2023-02-04T07:50:56.357Z"
   },
   {
    "duration": 6,
    "start_time": "2023-02-04T07:50:56.369Z"
   },
   {
    "duration": 3,
    "start_time": "2023-02-04T07:52:51.886Z"
   },
   {
    "duration": 270,
    "start_time": "2023-02-04T07:52:51.890Z"
   },
   {
    "duration": 6,
    "start_time": "2023-02-04T07:52:52.162Z"
   },
   {
    "duration": 15,
    "start_time": "2023-02-04T07:52:52.170Z"
   },
   {
    "duration": 6,
    "start_time": "2023-02-04T07:52:52.187Z"
   },
   {
    "duration": 7,
    "start_time": "2023-02-04T07:52:52.195Z"
   },
   {
    "duration": 50,
    "start_time": "2023-02-04T07:52:52.203Z"
   },
   {
    "duration": 452,
    "start_time": "2023-02-04T07:52:52.255Z"
   },
   {
    "duration": 30,
    "start_time": "2023-02-04T07:52:52.710Z"
   },
   {
    "duration": 17,
    "start_time": "2023-02-04T07:52:52.743Z"
   },
   {
    "duration": 6,
    "start_time": "2023-02-04T07:52:52.765Z"
   },
   {
    "duration": 0,
    "start_time": "2023-02-04T07:55:42.842Z"
   },
   {
    "duration": 21,
    "start_time": "2023-02-04T07:55:44.071Z"
   },
   {
    "duration": 200,
    "start_time": "2023-02-04T07:57:21.391Z"
   },
   {
    "duration": 0,
    "start_time": "2023-02-04T07:59:50.121Z"
   },
   {
    "duration": 0,
    "start_time": "2023-02-04T07:59:50.139Z"
   },
   {
    "duration": 3810,
    "start_time": "2023-02-04T08:00:02.871Z"
   },
   {
    "duration": 13,
    "start_time": "2023-02-04T08:00:25.152Z"
   },
   {
    "duration": 4090,
    "start_time": "2023-02-04T08:00:29.272Z"
   },
   {
    "duration": 916,
    "start_time": "2023-02-04T08:00:41.743Z"
   },
   {
    "duration": 0,
    "start_time": "2023-02-04T08:01:37.426Z"
   },
   {
    "duration": 808,
    "start_time": "2023-02-04T08:01:38.612Z"
   },
   {
    "duration": 188,
    "start_time": "2023-02-04T08:02:06.897Z"
   },
   {
    "duration": 177,
    "start_time": "2023-02-04T08:02:43.902Z"
   },
   {
    "duration": 0,
    "start_time": "2023-02-04T08:03:46.064Z"
   },
   {
    "duration": 6881,
    "start_time": "2023-02-04T08:03:50.487Z"
   },
   {
    "duration": 57516,
    "start_time": "2023-02-04T08:04:14.432Z"
   },
   {
    "duration": 12,
    "start_time": "2023-02-04T08:05:20.779Z"
   },
   {
    "duration": 0,
    "start_time": "2023-02-04T08:06:00.304Z"
   },
   {
    "duration": 6,
    "start_time": "2023-02-04T08:08:02.848Z"
   },
   {
    "duration": 5,
    "start_time": "2023-02-04T08:08:03.593Z"
   },
   {
    "duration": 20,
    "start_time": "2023-02-04T08:08:05.063Z"
   },
   {
    "duration": 84,
    "start_time": "2023-02-04T08:10:08.983Z"
   },
   {
    "duration": 222,
    "start_time": "2023-02-04T08:11:08.363Z"
   },
   {
    "duration": 183,
    "start_time": "2023-02-04T08:11:14.785Z"
   },
   {
    "duration": 100,
    "start_time": "2023-02-04T08:11:19.982Z"
   },
   {
    "duration": 0,
    "start_time": "2023-02-04T08:11:51.077Z"
   },
   {
    "duration": 223,
    "start_time": "2023-02-04T08:11:52.346Z"
   },
   {
    "duration": 203,
    "start_time": "2023-02-04T08:11:57.364Z"
   },
   {
    "duration": 206,
    "start_time": "2023-02-04T08:14:08.999Z"
   },
   {
    "duration": 0,
    "start_time": "2023-02-04T08:14:43.710Z"
   },
   {
    "duration": 203,
    "start_time": "2023-02-04T08:14:45.263Z"
   },
   {
    "duration": 200,
    "start_time": "2023-02-04T08:15:05.904Z"
   },
   {
    "duration": 187,
    "start_time": "2023-02-04T08:15:10.704Z"
   },
   {
    "duration": 203,
    "start_time": "2023-02-04T08:15:13.356Z"
   },
   {
    "duration": 236,
    "start_time": "2023-02-04T08:15:31.592Z"
   },
   {
    "duration": 228,
    "start_time": "2023-02-04T08:15:32.897Z"
   },
   {
    "duration": 231,
    "start_time": "2023-02-04T08:15:49.949Z"
   },
   {
    "duration": 384,
    "start_time": "2023-02-04T08:20:00.795Z"
   },
   {
    "duration": 19,
    "start_time": "2023-02-04T08:20:30.101Z"
   },
   {
    "duration": 7,
    "start_time": "2023-02-04T08:20:32.272Z"
   },
   {
    "duration": 7,
    "start_time": "2023-02-04T08:20:33.277Z"
   },
   {
    "duration": 6,
    "start_time": "2023-02-04T08:20:51.380Z"
   },
   {
    "duration": 391,
    "start_time": "2023-02-04T08:20:56.476Z"
   },
   {
    "duration": 399,
    "start_time": "2023-02-04T08:20:58.465Z"
   },
   {
    "duration": 2965,
    "start_time": "2023-02-04T08:22:47.079Z"
   },
   {
    "duration": 20,
    "start_time": "2023-02-04T08:23:40.452Z"
   },
   {
    "duration": 1234,
    "start_time": "2023-02-04T08:23:59.452Z"
   },
   {
    "duration": 119,
    "start_time": "2023-02-04T08:24:00.689Z"
   },
   {
    "duration": 15,
    "start_time": "2023-02-04T08:24:00.810Z"
   },
   {
    "duration": 2271,
    "start_time": "2023-02-04T08:24:00.827Z"
   },
   {
    "duration": 16,
    "start_time": "2023-02-04T08:24:03.100Z"
   },
   {
    "duration": 4,
    "start_time": "2023-02-04T08:24:03.118Z"
   },
   {
    "duration": 5,
    "start_time": "2023-02-04T08:24:03.124Z"
   },
   {
    "duration": 19,
    "start_time": "2023-02-04T08:24:03.131Z"
   },
   {
    "duration": 10,
    "start_time": "2023-02-04T08:24:03.156Z"
   },
   {
    "duration": 15,
    "start_time": "2023-02-04T08:24:03.168Z"
   },
   {
    "duration": 15,
    "start_time": "2023-02-04T08:24:03.185Z"
   },
   {
    "duration": 9,
    "start_time": "2023-02-04T08:24:03.202Z"
   },
   {
    "duration": 13,
    "start_time": "2023-02-04T08:24:03.213Z"
   },
   {
    "duration": 13,
    "start_time": "2023-02-04T08:24:03.240Z"
   },
   {
    "duration": 35,
    "start_time": "2023-02-04T08:24:03.268Z"
   },
   {
    "duration": 12,
    "start_time": "2023-02-04T08:24:03.305Z"
   },
   {
    "duration": 5,
    "start_time": "2023-02-04T08:24:03.319Z"
   },
   {
    "duration": 11,
    "start_time": "2023-02-04T08:24:03.329Z"
   },
   {
    "duration": 164,
    "start_time": "2023-02-04T08:24:03.342Z"
   },
   {
    "duration": 9,
    "start_time": "2023-02-04T08:24:03.508Z"
   },
   {
    "duration": 7,
    "start_time": "2023-02-04T08:24:03.519Z"
   },
   {
    "duration": 463,
    "start_time": "2023-02-04T08:24:03.528Z"
   },
   {
    "duration": 5,
    "start_time": "2023-02-04T08:24:03.993Z"
   },
   {
    "duration": 16,
    "start_time": "2023-02-04T08:24:04.000Z"
   },
   {
    "duration": 83,
    "start_time": "2023-02-04T08:24:04.018Z"
   },
   {
    "duration": 10,
    "start_time": "2023-02-04T08:24:04.102Z"
   },
   {
    "duration": 10,
    "start_time": "2023-02-04T08:24:04.114Z"
   },
   {
    "duration": 96,
    "start_time": "2023-02-04T08:24:04.126Z"
   },
   {
    "duration": 29,
    "start_time": "2023-02-04T08:24:04.225Z"
   },
   {
    "duration": 135,
    "start_time": "2023-02-04T08:24:04.258Z"
   },
   {
    "duration": 11,
    "start_time": "2023-02-04T08:24:04.395Z"
   },
   {
    "duration": 9,
    "start_time": "2023-02-04T08:24:04.407Z"
   },
   {
    "duration": 31,
    "start_time": "2023-02-04T08:24:04.418Z"
   },
   {
    "duration": 116,
    "start_time": "2023-02-04T08:24:04.451Z"
   },
   {
    "duration": 5,
    "start_time": "2023-02-04T08:24:04.569Z"
   },
   {
    "duration": 7,
    "start_time": "2023-02-04T08:24:04.576Z"
   },
   {
    "duration": 11,
    "start_time": "2023-02-04T08:24:04.585Z"
   },
   {
    "duration": 22,
    "start_time": "2023-02-04T08:24:04.598Z"
   },
   {
    "duration": 5,
    "start_time": "2023-02-04T08:24:04.621Z"
   },
   {
    "duration": 10,
    "start_time": "2023-02-04T08:24:04.638Z"
   },
   {
    "duration": 18,
    "start_time": "2023-02-04T08:24:04.655Z"
   },
   {
    "duration": 8,
    "start_time": "2023-02-04T08:24:04.674Z"
   },
   {
    "duration": 6,
    "start_time": "2023-02-04T08:24:04.683Z"
   },
   {
    "duration": 6,
    "start_time": "2023-02-04T08:24:04.691Z"
   },
   {
    "duration": 6,
    "start_time": "2023-02-04T08:24:04.698Z"
   },
   {
    "duration": 39,
    "start_time": "2023-02-04T08:24:04.706Z"
   },
   {
    "duration": 20,
    "start_time": "2023-02-04T08:24:04.747Z"
   },
   {
    "duration": 191,
    "start_time": "2023-02-04T08:24:04.769Z"
   },
   {
    "duration": 9,
    "start_time": "2023-02-04T08:24:04.963Z"
   },
   {
    "duration": 12,
    "start_time": "2023-02-04T08:24:04.974Z"
   },
   {
    "duration": 5,
    "start_time": "2023-02-04T08:24:04.987Z"
   },
   {
    "duration": 8,
    "start_time": "2023-02-04T08:24:04.994Z"
   },
   {
    "duration": 36,
    "start_time": "2023-02-04T08:24:05.004Z"
   },
   {
    "duration": 234,
    "start_time": "2023-02-04T08:24:05.043Z"
   },
   {
    "duration": 150,
    "start_time": "2023-02-04T08:24:05.279Z"
   },
   {
    "duration": 12,
    "start_time": "2023-02-04T08:24:05.438Z"
   },
   {
    "duration": 11,
    "start_time": "2023-02-04T08:24:05.452Z"
   },
   {
    "duration": 11,
    "start_time": "2023-02-04T08:24:05.464Z"
   },
   {
    "duration": 6,
    "start_time": "2023-02-04T08:24:05.477Z"
   },
   {
    "duration": 238,
    "start_time": "2023-02-04T08:24:05.485Z"
   },
   {
    "duration": 22,
    "start_time": "2023-02-04T08:24:05.724Z"
   },
   {
    "duration": 9,
    "start_time": "2023-02-04T08:24:05.753Z"
   },
   {
    "duration": 13,
    "start_time": "2023-02-04T08:24:05.764Z"
   },
   {
    "duration": 4,
    "start_time": "2023-02-04T08:24:05.778Z"
   },
   {
    "duration": 473,
    "start_time": "2023-02-04T08:24:05.783Z"
   },
   {
    "duration": 3,
    "start_time": "2023-02-04T08:24:06.258Z"
   },
   {
    "duration": 3059,
    "start_time": "2023-02-04T08:24:06.263Z"
   },
   {
    "duration": 234,
    "start_time": "2023-02-04T08:24:09.324Z"
   },
   {
    "duration": 8,
    "start_time": "2023-02-04T08:24:09.560Z"
   },
   {
    "duration": 6,
    "start_time": "2023-02-04T08:24:09.569Z"
   },
   {
    "duration": 22,
    "start_time": "2023-02-04T08:24:09.576Z"
   },
   {
    "duration": 206,
    "start_time": "2023-02-04T08:24:09.600Z"
   },
   {
    "duration": 245,
    "start_time": "2023-02-04T08:24:09.808Z"
   },
   {
    "duration": 229,
    "start_time": "2023-02-04T08:24:10.055Z"
   },
   {
    "duration": 5,
    "start_time": "2023-02-04T08:24:10.286Z"
   },
   {
    "duration": 27,
    "start_time": "2023-02-04T08:24:10.292Z"
   },
   {
    "duration": 31,
    "start_time": "2023-02-04T08:24:10.320Z"
   },
   {
    "duration": 16,
    "start_time": "2023-02-04T08:24:10.354Z"
   },
   {
    "duration": 33,
    "start_time": "2023-02-04T08:24:10.371Z"
   },
   {
    "duration": 355,
    "start_time": "2023-02-04T08:24:10.407Z"
   },
   {
    "duration": 18,
    "start_time": "2023-02-04T08:24:10.764Z"
   },
   {
    "duration": 8,
    "start_time": "2023-02-04T08:24:10.784Z"
   },
   {
    "duration": 11,
    "start_time": "2023-02-04T08:24:10.794Z"
   },
   {
    "duration": 28,
    "start_time": "2023-02-04T08:24:26.270Z"
   },
   {
    "duration": 7,
    "start_time": "2023-02-04T08:24:35.152Z"
   },
   {
    "duration": 10,
    "start_time": "2023-02-04T08:24:53.815Z"
   },
   {
    "duration": 9,
    "start_time": "2023-02-04T08:25:11.648Z"
   },
   {
    "duration": 9,
    "start_time": "2023-02-04T08:25:23.543Z"
   },
   {
    "duration": 8,
    "start_time": "2023-02-04T08:27:44.955Z"
   },
   {
    "duration": 8,
    "start_time": "2023-02-04T08:28:10.462Z"
   },
   {
    "duration": 13,
    "start_time": "2023-02-04T08:31:21.477Z"
   },
   {
    "duration": 151,
    "start_time": "2023-02-04T08:31:34.688Z"
   },
   {
    "duration": 189,
    "start_time": "2023-02-04T08:32:00.207Z"
   },
   {
    "duration": 185,
    "start_time": "2023-02-04T08:32:08.009Z"
   },
   {
    "duration": 174,
    "start_time": "2023-02-04T08:32:13.850Z"
   },
   {
    "duration": 177,
    "start_time": "2023-02-04T08:32:17.880Z"
   },
   {
    "duration": 170,
    "start_time": "2023-02-04T08:35:38.482Z"
   },
   {
    "duration": 187,
    "start_time": "2023-02-04T08:36:01.129Z"
   },
   {
    "duration": 266,
    "start_time": "2023-02-04T08:36:42.989Z"
   },
   {
    "duration": 327,
    "start_time": "2023-02-04T08:36:57.404Z"
   },
   {
    "duration": 211,
    "start_time": "2023-02-04T08:37:27.244Z"
   },
   {
    "duration": 185,
    "start_time": "2023-02-04T08:37:34.162Z"
   },
   {
    "duration": 174,
    "start_time": "2023-02-04T08:37:44.471Z"
   },
   {
    "duration": 189,
    "start_time": "2023-02-04T08:38:37.467Z"
   },
   {
    "duration": 219,
    "start_time": "2023-02-04T08:39:37.940Z"
   },
   {
    "duration": 254,
    "start_time": "2023-02-04T08:40:11.550Z"
   },
   {
    "duration": 74,
    "start_time": "2023-02-04T08:40:35.708Z"
   },
   {
    "duration": 73,
    "start_time": "2023-02-04T08:40:40.061Z"
   },
   {
    "duration": 333,
    "start_time": "2023-02-04T08:40:52.268Z"
   },
   {
    "duration": 282,
    "start_time": "2023-02-04T08:40:58.275Z"
   },
   {
    "duration": 255,
    "start_time": "2023-02-04T08:41:04.187Z"
   },
   {
    "duration": 65,
    "start_time": "2023-02-04T08:41:10.314Z"
   },
   {
    "duration": 249,
    "start_time": "2023-02-04T08:41:14.693Z"
   },
   {
    "duration": 362,
    "start_time": "2023-02-04T08:41:55.152Z"
   },
   {
    "duration": 2,
    "start_time": "2023-02-04T08:42:18.862Z"
   },
   {
    "duration": 196,
    "start_time": "2023-02-04T08:42:19.935Z"
   },
   {
    "duration": 206,
    "start_time": "2023-02-04T08:43:32.951Z"
   },
   {
    "duration": 299,
    "start_time": "2023-02-04T08:44:03.481Z"
   },
   {
    "duration": 203,
    "start_time": "2023-02-04T08:44:09.926Z"
   },
   {
    "duration": 171,
    "start_time": "2023-02-04T08:44:45.693Z"
   },
   {
    "duration": 177,
    "start_time": "2023-02-04T08:45:09.562Z"
   },
   {
    "duration": 183,
    "start_time": "2023-02-04T08:45:18.147Z"
   },
   {
    "duration": 223,
    "start_time": "2023-02-04T08:45:28.551Z"
   },
   {
    "duration": 299,
    "start_time": "2023-02-04T08:45:42.365Z"
   },
   {
    "duration": 9,
    "start_time": "2023-02-04T08:46:16.108Z"
   },
   {
    "duration": 190,
    "start_time": "2023-02-04T09:02:51.494Z"
   },
   {
    "duration": 30,
    "start_time": "2023-02-04T09:11:05.404Z"
   },
   {
    "duration": 488,
    "start_time": "2023-02-04T09:11:09.006Z"
   },
   {
    "duration": 19,
    "start_time": "2023-02-04T09:11:30.800Z"
   },
   {
    "duration": 9,
    "start_time": "2023-02-04T09:11:33.286Z"
   },
   {
    "duration": 10,
    "start_time": "2023-02-04T09:11:34.944Z"
   },
   {
    "duration": 7,
    "start_time": "2023-02-04T09:11:55.752Z"
   },
   {
    "duration": 10,
    "start_time": "2023-02-04T09:12:10.669Z"
   },
   {
    "duration": 8,
    "start_time": "2023-02-04T09:12:14.553Z"
   },
   {
    "duration": 9,
    "start_time": "2023-02-04T09:12:16.098Z"
   },
   {
    "duration": 10,
    "start_time": "2023-02-04T09:12:21.647Z"
   },
   {
    "duration": 8,
    "start_time": "2023-02-04T09:12:23.144Z"
   },
   {
    "duration": 5,
    "start_time": "2023-02-04T09:13:15.427Z"
   },
   {
    "duration": 4,
    "start_time": "2023-02-04T09:14:05.679Z"
   },
   {
    "duration": 19,
    "start_time": "2023-02-04T09:14:08.746Z"
   },
   {
    "duration": 6,
    "start_time": "2023-02-04T09:14:08.768Z"
   },
   {
    "duration": 16,
    "start_time": "2023-02-04T09:14:08.776Z"
   },
   {
    "duration": 32,
    "start_time": "2023-02-04T09:14:08.798Z"
   },
   {
    "duration": 42,
    "start_time": "2023-02-04T09:14:08.833Z"
   },
   {
    "duration": 27,
    "start_time": "2023-02-04T09:14:08.878Z"
   },
   {
    "duration": 7,
    "start_time": "2023-02-04T09:14:08.907Z"
   },
   {
    "duration": 5,
    "start_time": "2023-02-04T09:14:08.916Z"
   },
   {
    "duration": 21,
    "start_time": "2023-02-04T09:14:08.923Z"
   },
   {
    "duration": 10,
    "start_time": "2023-02-04T09:14:08.946Z"
   },
   {
    "duration": 207,
    "start_time": "2023-02-04T09:14:08.958Z"
   },
   {
    "duration": 10,
    "start_time": "2023-02-04T09:14:09.168Z"
   },
   {
    "duration": 12,
    "start_time": "2023-02-04T09:14:09.180Z"
   },
   {
    "duration": 6,
    "start_time": "2023-02-04T09:14:09.196Z"
   },
   {
    "duration": 37,
    "start_time": "2023-02-04T09:14:09.204Z"
   },
   {
    "duration": 7,
    "start_time": "2023-02-04T09:14:09.244Z"
   },
   {
    "duration": 279,
    "start_time": "2023-02-04T09:14:09.253Z"
   },
   {
    "duration": 185,
    "start_time": "2023-02-04T09:14:09.536Z"
   },
   {
    "duration": 15,
    "start_time": "2023-02-04T09:14:09.723Z"
   },
   {
    "duration": 7,
    "start_time": "2023-02-04T09:14:09.740Z"
   },
   {
    "duration": 30,
    "start_time": "2023-02-04T09:14:09.749Z"
   },
   {
    "duration": 17,
    "start_time": "2023-02-04T09:14:09.781Z"
   },
   {
    "duration": 263,
    "start_time": "2023-02-04T09:14:09.801Z"
   },
   {
    "duration": 8,
    "start_time": "2023-02-04T09:14:10.066Z"
   },
   {
    "duration": 25,
    "start_time": "2023-02-04T09:14:10.076Z"
   },
   {
    "duration": 29,
    "start_time": "2023-02-04T09:14:10.103Z"
   },
   {
    "duration": 14,
    "start_time": "2023-02-04T09:14:10.133Z"
   },
   {
    "duration": 335,
    "start_time": "2023-02-04T09:14:10.149Z"
   },
   {
    "duration": 4,
    "start_time": "2023-02-04T09:14:10.486Z"
   },
   {
    "duration": 3307,
    "start_time": "2023-02-04T09:14:10.492Z"
   },
   {
    "duration": 288,
    "start_time": "2023-02-04T09:14:13.801Z"
   },
   {
    "duration": 12,
    "start_time": "2023-02-04T09:14:14.092Z"
   },
   {
    "duration": 236,
    "start_time": "2023-02-04T09:14:14.107Z"
   },
   {
    "duration": 403,
    "start_time": "2023-02-04T09:14:14.347Z"
   },
   {
    "duration": 252,
    "start_time": "2023-02-04T09:14:14.752Z"
   },
   {
    "duration": 273,
    "start_time": "2023-02-04T09:14:15.005Z"
   },
   {
    "duration": 7,
    "start_time": "2023-02-04T09:14:15.280Z"
   },
   {
    "duration": 11,
    "start_time": "2023-02-04T09:14:15.289Z"
   },
   {
    "duration": 29,
    "start_time": "2023-02-04T09:14:15.302Z"
   },
   {
    "duration": 373,
    "start_time": "2023-02-04T09:14:15.337Z"
   },
   {
    "duration": 29,
    "start_time": "2023-02-04T09:14:15.714Z"
   },
   {
    "duration": 24,
    "start_time": "2023-02-04T09:14:15.745Z"
   },
   {
    "duration": 16,
    "start_time": "2023-02-04T09:14:15.771Z"
   },
   {
    "duration": 6,
    "start_time": "2023-02-04T09:14:52.952Z"
   },
   {
    "duration": 5,
    "start_time": "2023-02-04T09:15:17.570Z"
   },
   {
    "duration": 6,
    "start_time": "2023-02-04T09:15:18.601Z"
   },
   {
    "duration": 12,
    "start_time": "2023-02-04T09:15:21.308Z"
   },
   {
    "duration": 18,
    "start_time": "2023-02-04T09:15:21.323Z"
   },
   {
    "duration": 6,
    "start_time": "2023-02-04T09:15:21.344Z"
   },
   {
    "duration": 348,
    "start_time": "2023-02-04T09:15:21.352Z"
   },
   {
    "duration": 5,
    "start_time": "2023-02-04T09:15:21.703Z"
   },
   {
    "duration": 3087,
    "start_time": "2023-02-04T09:15:21.710Z"
   },
   {
    "duration": 260,
    "start_time": "2023-02-04T09:15:24.800Z"
   },
   {
    "duration": 10,
    "start_time": "2023-02-04T09:15:25.063Z"
   },
   {
    "duration": 213,
    "start_time": "2023-02-04T09:15:25.076Z"
   },
   {
    "duration": 200,
    "start_time": "2023-02-04T09:15:25.291Z"
   },
   {
    "duration": 449,
    "start_time": "2023-02-04T09:15:25.494Z"
   },
   {
    "duration": 204,
    "start_time": "2023-02-04T09:15:25.945Z"
   },
   {
    "duration": 6,
    "start_time": "2023-02-04T09:15:26.150Z"
   },
   {
    "duration": 10,
    "start_time": "2023-02-04T09:15:26.159Z"
   },
   {
    "duration": 27,
    "start_time": "2023-02-04T09:15:26.170Z"
   },
   {
    "duration": 353,
    "start_time": "2023-02-04T09:15:26.198Z"
   },
   {
    "duration": 18,
    "start_time": "2023-02-04T09:15:26.553Z"
   },
   {
    "duration": 7,
    "start_time": "2023-02-04T09:15:26.573Z"
   },
   {
    "duration": 14,
    "start_time": "2023-02-04T09:15:26.582Z"
   },
   {
    "duration": 4,
    "start_time": "2023-02-04T09:16:18.054Z"
   },
   {
    "duration": 7,
    "start_time": "2023-02-04T09:16:18.641Z"
   },
   {
    "duration": 11,
    "start_time": "2023-02-04T09:16:22.201Z"
   },
   {
    "duration": 15,
    "start_time": "2023-02-04T09:16:22.236Z"
   },
   {
    "duration": 4,
    "start_time": "2023-02-04T09:16:22.254Z"
   },
   {
    "duration": 453,
    "start_time": "2023-02-04T09:16:22.260Z"
   },
   {
    "duration": 5,
    "start_time": "2023-02-04T09:16:22.716Z"
   },
   {
    "duration": 2983,
    "start_time": "2023-02-04T09:16:22.723Z"
   },
   {
    "duration": 241,
    "start_time": "2023-02-04T09:16:25.707Z"
   },
   {
    "duration": 14,
    "start_time": "2023-02-04T09:16:25.950Z"
   },
   {
    "duration": 219,
    "start_time": "2023-02-04T09:16:25.966Z"
   },
   {
    "duration": 202,
    "start_time": "2023-02-04T09:16:26.187Z"
   },
   {
    "duration": 267,
    "start_time": "2023-02-04T09:16:26.391Z"
   },
   {
    "duration": 235,
    "start_time": "2023-02-04T09:16:26.660Z"
   },
   {
    "duration": 6,
    "start_time": "2023-02-04T09:16:26.897Z"
   },
   {
    "duration": 11,
    "start_time": "2023-02-04T09:16:26.905Z"
   },
   {
    "duration": 40,
    "start_time": "2023-02-04T09:16:26.918Z"
   },
   {
    "duration": 562,
    "start_time": "2023-02-04T09:16:26.960Z"
   },
   {
    "duration": 22,
    "start_time": "2023-02-04T09:16:27.524Z"
   },
   {
    "duration": 8,
    "start_time": "2023-02-04T09:16:27.548Z"
   },
   {
    "duration": 21,
    "start_time": "2023-02-04T09:16:27.557Z"
   },
   {
    "duration": 348,
    "start_time": "2023-02-04T09:16:42.796Z"
   },
   {
    "duration": 6,
    "start_time": "2023-02-04T09:17:05.504Z"
   },
   {
    "duration": 7,
    "start_time": "2023-02-04T09:17:17.378Z"
   },
   {
    "duration": 1155,
    "start_time": "2023-02-04T09:17:37.680Z"
   },
   {
    "duration": 109,
    "start_time": "2023-02-04T09:17:38.838Z"
   },
   {
    "duration": 15,
    "start_time": "2023-02-04T09:17:38.949Z"
   },
   {
    "duration": 1961,
    "start_time": "2023-02-04T09:17:38.967Z"
   },
   {
    "duration": 16,
    "start_time": "2023-02-04T09:17:40.929Z"
   },
   {
    "duration": 4,
    "start_time": "2023-02-04T09:17:40.947Z"
   },
   {
    "duration": 6,
    "start_time": "2023-02-04T09:17:40.953Z"
   },
   {
    "duration": 11,
    "start_time": "2023-02-04T09:17:40.961Z"
   },
   {
    "duration": 7,
    "start_time": "2023-02-04T09:17:40.974Z"
   },
   {
    "duration": 13,
    "start_time": "2023-02-04T09:17:40.984Z"
   },
   {
    "duration": 44,
    "start_time": "2023-02-04T09:17:40.999Z"
   },
   {
    "duration": 7,
    "start_time": "2023-02-04T09:17:41.045Z"
   },
   {
    "duration": 8,
    "start_time": "2023-02-04T09:17:41.054Z"
   },
   {
    "duration": 7,
    "start_time": "2023-02-04T09:17:41.064Z"
   },
   {
    "duration": 21,
    "start_time": "2023-02-04T09:17:41.073Z"
   },
   {
    "duration": 44,
    "start_time": "2023-02-04T09:17:41.096Z"
   },
   {
    "duration": 10,
    "start_time": "2023-02-04T09:17:41.141Z"
   },
   {
    "duration": 24,
    "start_time": "2023-02-04T09:17:41.153Z"
   },
   {
    "duration": 126,
    "start_time": "2023-02-04T09:17:41.179Z"
   },
   {
    "duration": 8,
    "start_time": "2023-02-04T09:17:41.307Z"
   },
   {
    "duration": 6,
    "start_time": "2023-02-04T09:17:41.317Z"
   },
   {
    "duration": 425,
    "start_time": "2023-02-04T09:17:41.325Z"
   },
   {
    "duration": 5,
    "start_time": "2023-02-04T09:17:41.752Z"
   },
   {
    "duration": 9,
    "start_time": "2023-02-04T09:17:41.758Z"
   },
   {
    "duration": 76,
    "start_time": "2023-02-04T09:17:41.769Z"
   },
   {
    "duration": 10,
    "start_time": "2023-02-04T09:17:41.847Z"
   },
   {
    "duration": 9,
    "start_time": "2023-02-04T09:17:41.859Z"
   },
   {
    "duration": 84,
    "start_time": "2023-02-04T09:17:41.872Z"
   },
   {
    "duration": 15,
    "start_time": "2023-02-04T09:17:41.958Z"
   },
   {
    "duration": 151,
    "start_time": "2023-02-04T09:17:41.974Z"
   },
   {
    "duration": 13,
    "start_time": "2023-02-04T09:17:42.127Z"
   },
   {
    "duration": 7,
    "start_time": "2023-02-04T09:17:42.142Z"
   },
   {
    "duration": 6,
    "start_time": "2023-02-04T09:17:42.151Z"
   },
   {
    "duration": 95,
    "start_time": "2023-02-04T09:17:42.159Z"
   },
   {
    "duration": 4,
    "start_time": "2023-02-04T09:17:42.257Z"
   },
   {
    "duration": 9,
    "start_time": "2023-02-04T09:17:42.263Z"
   },
   {
    "duration": 6,
    "start_time": "2023-02-04T09:17:42.273Z"
   },
   {
    "duration": 17,
    "start_time": "2023-02-04T09:17:42.280Z"
   },
   {
    "duration": 38,
    "start_time": "2023-02-04T09:17:42.300Z"
   },
   {
    "duration": 9,
    "start_time": "2023-02-04T09:17:42.340Z"
   },
   {
    "duration": 11,
    "start_time": "2023-02-04T09:17:42.350Z"
   },
   {
    "duration": 6,
    "start_time": "2023-02-04T09:17:42.363Z"
   },
   {
    "duration": 10,
    "start_time": "2023-02-04T09:17:42.371Z"
   },
   {
    "duration": 6,
    "start_time": "2023-02-04T09:17:42.383Z"
   },
   {
    "duration": 20,
    "start_time": "2023-02-04T09:17:42.391Z"
   },
   {
    "duration": 25,
    "start_time": "2023-02-04T09:17:42.413Z"
   },
   {
    "duration": 7,
    "start_time": "2023-02-04T09:17:42.440Z"
   },
   {
    "duration": 272,
    "start_time": "2023-02-04T09:17:42.449Z"
   },
   {
    "duration": 16,
    "start_time": "2023-02-04T09:17:42.723Z"
   },
   {
    "duration": 19,
    "start_time": "2023-02-04T09:17:42.741Z"
   },
   {
    "duration": 5,
    "start_time": "2023-02-04T09:17:42.761Z"
   },
   {
    "duration": 11,
    "start_time": "2023-02-04T09:17:42.767Z"
   },
   {
    "duration": 6,
    "start_time": "2023-02-04T09:17:42.780Z"
   },
   {
    "duration": 255,
    "start_time": "2023-02-04T09:17:42.787Z"
   },
   {
    "duration": 145,
    "start_time": "2023-02-04T09:17:43.044Z"
   },
   {
    "duration": 6,
    "start_time": "2023-02-04T09:17:43.191Z"
   },
   {
    "duration": 9,
    "start_time": "2023-02-04T09:17:43.199Z"
   },
   {
    "duration": 29,
    "start_time": "2023-02-04T09:17:43.209Z"
   },
   {
    "duration": 6,
    "start_time": "2023-02-04T09:17:43.240Z"
   },
   {
    "duration": 210,
    "start_time": "2023-02-04T09:17:43.248Z"
   },
   {
    "duration": 8,
    "start_time": "2023-02-04T09:17:43.460Z"
   },
   {
    "duration": 10,
    "start_time": "2023-02-04T09:17:43.470Z"
   },
   {
    "duration": 13,
    "start_time": "2023-02-04T09:17:43.483Z"
   },
   {
    "duration": 7,
    "start_time": "2023-02-04T09:17:43.498Z"
   },
   {
    "duration": 418,
    "start_time": "2023-02-04T09:17:43.536Z"
   },
   {
    "duration": 5,
    "start_time": "2023-02-04T09:17:43.957Z"
   },
   {
    "duration": 3333,
    "start_time": "2023-02-04T09:17:43.964Z"
   },
   {
    "duration": 300,
    "start_time": "2023-02-04T09:17:47.300Z"
   },
   {
    "duration": 9,
    "start_time": "2023-02-04T09:17:47.602Z"
   },
   {
    "duration": 219,
    "start_time": "2023-02-04T09:17:47.613Z"
   },
   {
    "duration": 201,
    "start_time": "2023-02-04T09:17:47.838Z"
   },
   {
    "duration": 223,
    "start_time": "2023-02-04T09:17:48.041Z"
   },
   {
    "duration": 198,
    "start_time": "2023-02-04T09:17:48.265Z"
   },
   {
    "duration": 6,
    "start_time": "2023-02-04T09:17:48.464Z"
   },
   {
    "duration": 8,
    "start_time": "2023-02-04T09:17:48.471Z"
   },
   {
    "duration": 24,
    "start_time": "2023-02-04T09:17:48.481Z"
   },
   {
    "duration": 353,
    "start_time": "2023-02-04T09:17:48.506Z"
   },
   {
    "duration": 17,
    "start_time": "2023-02-04T09:17:48.861Z"
   },
   {
    "duration": 9,
    "start_time": "2023-02-04T09:17:48.880Z"
   },
   {
    "duration": 13,
    "start_time": "2023-02-04T09:17:48.892Z"
   },
   {
    "duration": 6,
    "start_time": "2023-02-04T09:18:28.076Z"
   },
   {
    "duration": 1269,
    "start_time": "2023-02-04T09:18:31.541Z"
   },
   {
    "duration": 113,
    "start_time": "2023-02-04T09:18:32.812Z"
   },
   {
    "duration": 19,
    "start_time": "2023-02-04T09:18:32.927Z"
   },
   {
    "duration": 2004,
    "start_time": "2023-02-04T09:18:32.948Z"
   },
   {
    "duration": 14,
    "start_time": "2023-02-04T09:18:34.954Z"
   },
   {
    "duration": 4,
    "start_time": "2023-02-04T09:18:34.970Z"
   },
   {
    "duration": 6,
    "start_time": "2023-02-04T09:18:34.976Z"
   },
   {
    "duration": 13,
    "start_time": "2023-02-04T09:18:34.984Z"
   },
   {
    "duration": 5,
    "start_time": "2023-02-04T09:18:34.999Z"
   },
   {
    "duration": 17,
    "start_time": "2023-02-04T09:18:35.005Z"
   },
   {
    "duration": 14,
    "start_time": "2023-02-04T09:18:35.037Z"
   },
   {
    "duration": 9,
    "start_time": "2023-02-04T09:18:35.052Z"
   },
   {
    "duration": 11,
    "start_time": "2023-02-04T09:18:35.062Z"
   },
   {
    "duration": 12,
    "start_time": "2023-02-04T09:18:35.077Z"
   },
   {
    "duration": 24,
    "start_time": "2023-02-04T09:18:35.091Z"
   },
   {
    "duration": 30,
    "start_time": "2023-02-04T09:18:35.117Z"
   },
   {
    "duration": 3,
    "start_time": "2023-02-04T09:18:35.148Z"
   },
   {
    "duration": 7,
    "start_time": "2023-02-04T09:18:35.153Z"
   },
   {
    "duration": 130,
    "start_time": "2023-02-04T09:18:35.161Z"
   },
   {
    "duration": 8,
    "start_time": "2023-02-04T09:18:35.292Z"
   },
   {
    "duration": 3,
    "start_time": "2023-02-04T09:18:35.302Z"
   },
   {
    "duration": 399,
    "start_time": "2023-02-04T09:18:35.306Z"
   },
   {
    "duration": 5,
    "start_time": "2023-02-04T09:18:35.707Z"
   },
   {
    "duration": 13,
    "start_time": "2023-02-04T09:18:35.713Z"
   },
   {
    "duration": 70,
    "start_time": "2023-02-04T09:18:35.728Z"
   },
   {
    "duration": 9,
    "start_time": "2023-02-04T09:18:35.800Z"
   },
   {
    "duration": 7,
    "start_time": "2023-02-04T09:18:35.811Z"
   },
   {
    "duration": 72,
    "start_time": "2023-02-04T09:18:35.819Z"
   },
   {
    "duration": 13,
    "start_time": "2023-02-04T09:18:35.893Z"
   },
   {
    "duration": 143,
    "start_time": "2023-02-04T09:18:35.907Z"
   },
   {
    "duration": 8,
    "start_time": "2023-02-04T09:18:36.051Z"
   },
   {
    "duration": 8,
    "start_time": "2023-02-04T09:18:36.060Z"
   },
   {
    "duration": 26,
    "start_time": "2023-02-04T09:18:36.069Z"
   },
   {
    "duration": 74,
    "start_time": "2023-02-04T09:18:36.097Z"
   },
   {
    "duration": 4,
    "start_time": "2023-02-04T09:18:36.173Z"
   },
   {
    "duration": 10,
    "start_time": "2023-02-04T09:18:36.178Z"
   },
   {
    "duration": 9,
    "start_time": "2023-02-04T09:18:36.190Z"
   },
   {
    "duration": 14,
    "start_time": "2023-02-04T09:18:36.201Z"
   },
   {
    "duration": 22,
    "start_time": "2023-02-04T09:18:36.217Z"
   },
   {
    "duration": 5,
    "start_time": "2023-02-04T09:18:36.241Z"
   },
   {
    "duration": 6,
    "start_time": "2023-02-04T09:18:36.251Z"
   },
   {
    "duration": 6,
    "start_time": "2023-02-04T09:18:36.259Z"
   },
   {
    "duration": 7,
    "start_time": "2023-02-04T09:18:36.266Z"
   },
   {
    "duration": 5,
    "start_time": "2023-02-04T09:18:36.275Z"
   },
   {
    "duration": 7,
    "start_time": "2023-02-04T09:18:36.281Z"
   },
   {
    "duration": 18,
    "start_time": "2023-02-04T09:18:36.289Z"
   },
   {
    "duration": 31,
    "start_time": "2023-02-04T09:18:36.310Z"
   },
   {
    "duration": 196,
    "start_time": "2023-02-04T09:18:36.343Z"
   },
   {
    "duration": 8,
    "start_time": "2023-02-04T09:18:36.541Z"
   },
   {
    "duration": 13,
    "start_time": "2023-02-04T09:18:36.551Z"
   },
   {
    "duration": 4,
    "start_time": "2023-02-04T09:18:36.566Z"
   },
   {
    "duration": 8,
    "start_time": "2023-02-04T09:18:36.572Z"
   },
   {
    "duration": 9,
    "start_time": "2023-02-04T09:18:36.582Z"
   },
   {
    "duration": 289,
    "start_time": "2023-02-04T09:18:36.593Z"
   },
   {
    "duration": 174,
    "start_time": "2023-02-04T09:18:36.885Z"
   },
   {
    "duration": 8,
    "start_time": "2023-02-04T09:18:37.062Z"
   },
   {
    "duration": 8,
    "start_time": "2023-02-04T09:18:37.072Z"
   },
   {
    "duration": 9,
    "start_time": "2023-02-04T09:18:37.081Z"
   },
   {
    "duration": 6,
    "start_time": "2023-02-04T09:18:37.091Z"
   },
   {
    "duration": 218,
    "start_time": "2023-02-04T09:18:37.099Z"
   },
   {
    "duration": 6,
    "start_time": "2023-02-04T09:18:37.318Z"
   },
   {
    "duration": 21,
    "start_time": "2023-02-04T09:18:37.325Z"
   },
   {
    "duration": 13,
    "start_time": "2023-02-04T09:18:37.348Z"
   },
   {
    "duration": 3,
    "start_time": "2023-02-04T09:18:37.363Z"
   },
   {
    "duration": 433,
    "start_time": "2023-02-04T09:18:37.367Z"
   },
   {
    "duration": 5,
    "start_time": "2023-02-04T09:18:37.802Z"
   },
   {
    "duration": 2894,
    "start_time": "2023-02-04T09:18:37.808Z"
   },
   {
    "duration": 221,
    "start_time": "2023-02-04T09:18:40.703Z"
   },
   {
    "duration": 12,
    "start_time": "2023-02-04T09:18:40.926Z"
   },
   {
    "duration": 190,
    "start_time": "2023-02-04T09:18:40.940Z"
   },
   {
    "duration": 186,
    "start_time": "2023-02-04T09:18:41.132Z"
   },
   {
    "duration": 240,
    "start_time": "2023-02-04T09:18:41.320Z"
   },
   {
    "duration": 233,
    "start_time": "2023-02-04T09:18:41.561Z"
   },
   {
    "duration": 6,
    "start_time": "2023-02-04T09:18:41.796Z"
   },
   {
    "duration": 10,
    "start_time": "2023-02-04T09:18:41.804Z"
   },
   {
    "duration": 38,
    "start_time": "2023-02-04T09:18:41.816Z"
   },
   {
    "duration": 355,
    "start_time": "2023-02-04T09:18:41.855Z"
   },
   {
    "duration": 27,
    "start_time": "2023-02-04T09:18:42.211Z"
   },
   {
    "duration": 8,
    "start_time": "2023-02-04T09:18:42.240Z"
   },
   {
    "duration": 10,
    "start_time": "2023-02-04T09:18:42.250Z"
   },
   {
    "duration": 19,
    "start_time": "2023-02-04T09:21:55.383Z"
   },
   {
    "duration": 8,
    "start_time": "2023-02-04T09:21:59.335Z"
   },
   {
    "duration": 9,
    "start_time": "2023-02-04T09:22:00.956Z"
   },
   {
    "duration": 74,
    "start_time": "2023-02-04T09:24:48.869Z"
   },
   {
    "duration": 311,
    "start_time": "2023-02-04T09:26:18.396Z"
   },
   {
    "duration": 22,
    "start_time": "2023-02-04T09:26:42.339Z"
   },
   {
    "duration": 6,
    "start_time": "2023-02-04T09:26:44.763Z"
   },
   {
    "duration": 7,
    "start_time": "2023-02-04T09:26:46.665Z"
   },
   {
    "duration": 11,
    "start_time": "2023-02-04T09:26:48.733Z"
   },
   {
    "duration": 289,
    "start_time": "2023-02-04T09:29:37.281Z"
   },
   {
    "duration": 27,
    "start_time": "2023-02-04T09:29:44.534Z"
   },
   {
    "duration": 7,
    "start_time": "2023-02-04T09:29:47.049Z"
   },
   {
    "duration": 9,
    "start_time": "2023-02-04T09:29:48.806Z"
   },
   {
    "duration": 10,
    "start_time": "2023-02-04T09:29:52.007Z"
   },
   {
    "duration": 18,
    "start_time": "2023-02-04T09:30:07.746Z"
   },
   {
    "duration": 7,
    "start_time": "2023-02-04T09:30:09.265Z"
   },
   {
    "duration": 9,
    "start_time": "2023-02-04T09:30:10.858Z"
   },
   {
    "duration": 366,
    "start_time": "2023-02-04T09:30:51.653Z"
   },
   {
    "duration": 23,
    "start_time": "2023-02-04T09:31:01.574Z"
   },
   {
    "duration": 7,
    "start_time": "2023-02-04T09:31:03.841Z"
   },
   {
    "duration": 11,
    "start_time": "2023-02-04T09:31:05.766Z"
   },
   {
    "duration": 3,
    "start_time": "2023-02-04T09:33:23.160Z"
   },
   {
    "duration": 5,
    "start_time": "2023-02-04T09:33:29.997Z"
   },
   {
    "duration": 4,
    "start_time": "2023-02-04T09:36:44.589Z"
   },
   {
    "duration": 4,
    "start_time": "2023-02-04T09:36:46.878Z"
   },
   {
    "duration": 97,
    "start_time": "2023-02-04T09:36:59.686Z"
   },
   {
    "duration": 4,
    "start_time": "2023-02-04T09:37:05.293Z"
   },
   {
    "duration": 3309,
    "start_time": "2023-02-04T09:37:49.938Z"
   },
   {
    "duration": 447,
    "start_time": "2023-02-04T09:38:11.182Z"
   },
   {
    "duration": 3253,
    "start_time": "2023-02-04T09:38:37.636Z"
   },
   {
    "duration": 3286,
    "start_time": "2023-02-04T09:38:55.304Z"
   },
   {
    "duration": 3,
    "start_time": "2023-02-04T09:40:54.890Z"
   },
   {
    "duration": 253,
    "start_time": "2023-02-04T09:41:18.301Z"
   },
   {
    "duration": 148,
    "start_time": "2023-02-04T09:41:25.658Z"
   },
   {
    "duration": 184,
    "start_time": "2023-02-04T09:41:31.619Z"
   },
   {
    "duration": 175,
    "start_time": "2023-02-04T09:41:37.475Z"
   },
   {
    "duration": 313,
    "start_time": "2023-02-04T09:41:42.473Z"
   },
   {
    "duration": 174,
    "start_time": "2023-02-04T09:41:49.376Z"
   },
   {
    "duration": 182,
    "start_time": "2023-02-04T09:41:52.906Z"
   },
   {
    "duration": 174,
    "start_time": "2023-02-04T09:41:58.523Z"
   },
   {
    "duration": 190,
    "start_time": "2023-02-04T09:42:01.070Z"
   },
   {
    "duration": 170,
    "start_time": "2023-02-04T09:42:22.839Z"
   },
   {
    "duration": 1134,
    "start_time": "2023-02-04T09:47:15.500Z"
   },
   {
    "duration": 108,
    "start_time": "2023-02-04T09:47:16.637Z"
   },
   {
    "duration": 13,
    "start_time": "2023-02-04T09:47:16.747Z"
   },
   {
    "duration": 1870,
    "start_time": "2023-02-04T09:47:16.762Z"
   },
   {
    "duration": 14,
    "start_time": "2023-02-04T09:47:18.633Z"
   },
   {
    "duration": 3,
    "start_time": "2023-02-04T09:47:18.648Z"
   },
   {
    "duration": 6,
    "start_time": "2023-02-04T09:47:18.653Z"
   },
   {
    "duration": 11,
    "start_time": "2023-02-04T09:47:18.660Z"
   },
   {
    "duration": 6,
    "start_time": "2023-02-04T09:47:18.672Z"
   },
   {
    "duration": 11,
    "start_time": "2023-02-04T09:47:18.680Z"
   },
   {
    "duration": 14,
    "start_time": "2023-02-04T09:47:18.692Z"
   },
   {
    "duration": 13,
    "start_time": "2023-02-04T09:47:18.738Z"
   },
   {
    "duration": 7,
    "start_time": "2023-02-04T09:47:18.754Z"
   },
   {
    "duration": 6,
    "start_time": "2023-02-04T09:47:18.763Z"
   },
   {
    "duration": 21,
    "start_time": "2023-02-04T09:47:18.770Z"
   },
   {
    "duration": 10,
    "start_time": "2023-02-04T09:47:18.793Z"
   },
   {
    "duration": 34,
    "start_time": "2023-02-04T09:47:18.804Z"
   },
   {
    "duration": 3,
    "start_time": "2023-02-04T09:47:18.839Z"
   },
   {
    "duration": 124,
    "start_time": "2023-02-04T09:47:18.844Z"
   },
   {
    "duration": 8,
    "start_time": "2023-02-04T09:47:18.969Z"
   },
   {
    "duration": 6,
    "start_time": "2023-02-04T09:47:18.979Z"
   },
   {
    "duration": 384,
    "start_time": "2023-02-04T09:47:18.987Z"
   },
   {
    "duration": 4,
    "start_time": "2023-02-04T09:47:19.373Z"
   },
   {
    "duration": 5,
    "start_time": "2023-02-04T09:47:19.378Z"
   },
   {
    "duration": 73,
    "start_time": "2023-02-04T09:47:19.385Z"
   },
   {
    "duration": 7,
    "start_time": "2023-02-04T09:47:19.460Z"
   },
   {
    "duration": 7,
    "start_time": "2023-02-04T09:47:19.468Z"
   },
   {
    "duration": 80,
    "start_time": "2023-02-04T09:47:19.479Z"
   },
   {
    "duration": 14,
    "start_time": "2023-02-04T09:47:19.561Z"
   },
   {
    "duration": 141,
    "start_time": "2023-02-04T09:47:19.577Z"
   },
   {
    "duration": 18,
    "start_time": "2023-02-04T09:47:19.720Z"
   },
   {
    "duration": 7,
    "start_time": "2023-02-04T09:47:19.739Z"
   },
   {
    "duration": 7,
    "start_time": "2023-02-04T09:47:19.747Z"
   },
   {
    "duration": 65,
    "start_time": "2023-02-04T09:47:19.756Z"
   },
   {
    "duration": 4,
    "start_time": "2023-02-04T09:47:19.837Z"
   },
   {
    "duration": 6,
    "start_time": "2023-02-04T09:47:19.843Z"
   },
   {
    "duration": 7,
    "start_time": "2023-02-04T09:47:19.851Z"
   },
   {
    "duration": 19,
    "start_time": "2023-02-04T09:47:19.861Z"
   },
   {
    "duration": 4,
    "start_time": "2023-02-04T09:47:19.882Z"
   },
   {
    "duration": 8,
    "start_time": "2023-02-04T09:47:19.888Z"
   },
   {
    "duration": 41,
    "start_time": "2023-02-04T09:47:19.898Z"
   },
   {
    "duration": 7,
    "start_time": "2023-02-04T09:47:19.941Z"
   },
   {
    "duration": 7,
    "start_time": "2023-02-04T09:47:19.950Z"
   },
   {
    "duration": 4,
    "start_time": "2023-02-04T09:47:19.958Z"
   },
   {
    "duration": 5,
    "start_time": "2023-02-04T09:47:19.964Z"
   },
   {
    "duration": 14,
    "start_time": "2023-02-04T09:47:19.971Z"
   },
   {
    "duration": 7,
    "start_time": "2023-02-04T09:47:19.987Z"
   },
   {
    "duration": 222,
    "start_time": "2023-02-04T09:47:19.996Z"
   },
   {
    "duration": 17,
    "start_time": "2023-02-04T09:47:20.220Z"
   },
   {
    "duration": 9,
    "start_time": "2023-02-04T09:47:20.239Z"
   },
   {
    "duration": 5,
    "start_time": "2023-02-04T09:47:20.250Z"
   },
   {
    "duration": 8,
    "start_time": "2023-02-04T09:47:20.256Z"
   },
   {
    "duration": 26,
    "start_time": "2023-02-04T09:47:20.265Z"
   },
   {
    "duration": 222,
    "start_time": "2023-02-04T09:47:20.292Z"
   },
   {
    "duration": 139,
    "start_time": "2023-02-04T09:47:20.516Z"
   },
   {
    "duration": 6,
    "start_time": "2023-02-04T09:47:20.657Z"
   },
   {
    "duration": 9,
    "start_time": "2023-02-04T09:47:20.664Z"
   },
   {
    "duration": 7,
    "start_time": "2023-02-04T09:47:20.675Z"
   },
   {
    "duration": 5,
    "start_time": "2023-02-04T09:47:20.684Z"
   },
   {
    "duration": 206,
    "start_time": "2023-02-04T09:47:20.690Z"
   },
   {
    "duration": 6,
    "start_time": "2023-02-04T09:47:20.898Z"
   },
   {
    "duration": 14,
    "start_time": "2023-02-04T09:47:20.905Z"
   },
   {
    "duration": 27,
    "start_time": "2023-02-04T09:47:20.921Z"
   },
   {
    "duration": 3,
    "start_time": "2023-02-04T09:47:20.950Z"
   },
   {
    "duration": 421,
    "start_time": "2023-02-04T09:47:20.955Z"
   },
   {
    "duration": 4,
    "start_time": "2023-02-04T09:47:21.378Z"
   },
   {
    "duration": 8,
    "start_time": "2023-02-04T09:47:21.384Z"
   },
   {
    "duration": 179,
    "start_time": "2023-02-04T09:47:21.394Z"
   },
   {
    "duration": 169,
    "start_time": "2023-02-04T09:47:21.575Z"
   },
   {
    "duration": 189,
    "start_time": "2023-02-04T09:47:21.746Z"
   },
   {
    "duration": 194,
    "start_time": "2023-02-04T09:47:21.937Z"
   },
   {
    "duration": 172,
    "start_time": "2023-02-04T09:47:22.137Z"
   },
   {
    "duration": 213,
    "start_time": "2023-02-04T09:47:22.311Z"
   },
   {
    "duration": 201,
    "start_time": "2023-02-04T09:47:22.526Z"
   },
   {
    "duration": 173,
    "start_time": "2023-02-04T09:47:22.728Z"
   },
   {
    "duration": 115,
    "start_time": "2023-02-04T09:47:22.903Z"
   },
   {
    "duration": 0,
    "start_time": "2023-02-04T09:47:23.021Z"
   },
   {
    "duration": 0,
    "start_time": "2023-02-04T09:47:23.023Z"
   },
   {
    "duration": 0,
    "start_time": "2023-02-04T09:47:23.024Z"
   },
   {
    "duration": 0,
    "start_time": "2023-02-04T09:47:23.025Z"
   },
   {
    "duration": 0,
    "start_time": "2023-02-04T09:47:23.027Z"
   },
   {
    "duration": 0,
    "start_time": "2023-02-04T09:47:23.028Z"
   },
   {
    "duration": 0,
    "start_time": "2023-02-04T09:47:23.030Z"
   },
   {
    "duration": 0,
    "start_time": "2023-02-04T09:47:23.030Z"
   },
   {
    "duration": 0,
    "start_time": "2023-02-04T09:47:23.031Z"
   },
   {
    "duration": 0,
    "start_time": "2023-02-04T09:47:23.031Z"
   },
   {
    "duration": 0,
    "start_time": "2023-02-04T09:47:23.032Z"
   },
   {
    "duration": 0,
    "start_time": "2023-02-04T09:47:23.032Z"
   },
   {
    "duration": 0,
    "start_time": "2023-02-04T09:47:23.033Z"
   },
   {
    "duration": 0,
    "start_time": "2023-02-04T09:47:23.033Z"
   },
   {
    "duration": 0,
    "start_time": "2023-02-04T09:47:23.034Z"
   },
   {
    "duration": 0,
    "start_time": "2023-02-04T09:47:23.037Z"
   },
   {
    "duration": 0,
    "start_time": "2023-02-04T09:47:23.038Z"
   },
   {
    "duration": 0,
    "start_time": "2023-02-04T09:47:23.039Z"
   },
   {
    "duration": 93,
    "start_time": "2023-02-04T09:49:24.196Z"
   },
   {
    "duration": 495,
    "start_time": "2023-02-04T09:49:27.829Z"
   },
   {
    "duration": 185,
    "start_time": "2023-02-04T09:49:33.419Z"
   },
   {
    "duration": 17494,
    "start_time": "2023-02-04T09:50:47.680Z"
   },
   {
    "duration": 12,
    "start_time": "2023-02-04T09:52:03.365Z"
   },
   {
    "duration": 13,
    "start_time": "2023-02-04T09:52:21.487Z"
   },
   {
    "duration": 15,
    "start_time": "2023-02-04T09:52:26.236Z"
   },
   {
    "duration": 1180,
    "start_time": "2023-02-04T09:52:36.066Z"
   },
   {
    "duration": 151,
    "start_time": "2023-02-04T09:53:06.429Z"
   },
   {
    "duration": 199,
    "start_time": "2023-02-04T09:53:17.399Z"
   },
   {
    "duration": 165,
    "start_time": "2023-02-04T09:53:25.766Z"
   },
   {
    "duration": 150,
    "start_time": "2023-02-04T09:53:43.037Z"
   },
   {
    "duration": 185,
    "start_time": "2023-02-04T09:54:16.036Z"
   },
   {
    "duration": 214,
    "start_time": "2023-02-04T09:54:16.223Z"
   },
   {
    "duration": 782,
    "start_time": "2023-02-04T09:54:16.439Z"
   },
   {
    "duration": 189,
    "start_time": "2023-02-04T09:54:17.223Z"
   },
   {
    "duration": 183,
    "start_time": "2023-02-04T09:54:17.414Z"
   },
   {
    "duration": 270,
    "start_time": "2023-02-04T09:54:17.599Z"
   },
   {
    "duration": 9,
    "start_time": "2023-02-04T09:54:17.871Z"
   },
   {
    "duration": 203,
    "start_time": "2023-02-04T09:54:17.882Z"
   },
   {
    "duration": 199,
    "start_time": "2023-02-04T09:54:18.087Z"
   },
   {
    "duration": 282,
    "start_time": "2023-02-04T09:54:18.289Z"
   },
   {
    "duration": 226,
    "start_time": "2023-02-04T09:54:18.573Z"
   },
   {
    "duration": 6,
    "start_time": "2023-02-04T09:54:18.800Z"
   },
   {
    "duration": 7,
    "start_time": "2023-02-04T09:54:18.808Z"
   },
   {
    "duration": 31,
    "start_time": "2023-02-04T09:54:18.817Z"
   },
   {
    "duration": 349,
    "start_time": "2023-02-04T09:54:18.850Z"
   },
   {
    "duration": 25,
    "start_time": "2023-02-04T09:54:19.200Z"
   },
   {
    "duration": 9,
    "start_time": "2023-02-04T09:54:19.236Z"
   },
   {
    "duration": 16,
    "start_time": "2023-02-04T09:54:19.247Z"
   },
   {
    "duration": 177,
    "start_time": "2023-02-04T09:56:04.201Z"
   },
   {
    "duration": 189,
    "start_time": "2023-02-04T09:59:55.889Z"
   },
   {
    "duration": 234,
    "start_time": "2023-02-04T10:02:48.440Z"
   },
   {
    "duration": 206,
    "start_time": "2023-02-04T10:02:53.065Z"
   },
   {
    "duration": 204,
    "start_time": "2023-02-04T10:02:58.173Z"
   },
   {
    "duration": 178,
    "start_time": "2023-02-04T10:03:28.375Z"
   },
   {
    "duration": 202,
    "start_time": "2023-02-04T10:03:52.044Z"
   },
   {
    "duration": 227,
    "start_time": "2023-02-04T10:03:55.516Z"
   },
   {
    "duration": 199,
    "start_time": "2023-02-04T10:04:24.711Z"
   },
   {
    "duration": 222,
    "start_time": "2023-02-04T10:04:28.027Z"
   },
   {
    "duration": 208,
    "start_time": "2023-02-04T10:04:32.781Z"
   },
   {
    "duration": 260,
    "start_time": "2023-02-04T10:04:43.777Z"
   },
   {
    "duration": 187,
    "start_time": "2023-02-04T10:05:15.240Z"
   },
   {
    "duration": 72,
    "start_time": "2023-02-04T10:05:47.160Z"
   },
   {
    "duration": 191,
    "start_time": "2023-02-04T10:06:00.432Z"
   },
   {
    "duration": 203,
    "start_time": "2023-02-04T10:06:03.761Z"
   },
   {
    "duration": 175,
    "start_time": "2023-02-04T10:06:44.130Z"
   },
   {
    "duration": 308,
    "start_time": "2023-02-04T10:06:53.617Z"
   },
   {
    "duration": 182,
    "start_time": "2023-02-04T10:06:58.907Z"
   },
   {
    "duration": 77,
    "start_time": "2023-02-04T10:11:27.113Z"
   },
   {
    "duration": 169,
    "start_time": "2023-02-04T10:14:45.198Z"
   },
   {
    "duration": 87,
    "start_time": "2023-02-04T10:16:46.858Z"
   },
   {
    "duration": 132,
    "start_time": "2023-02-04T10:20:55.467Z"
   },
   {
    "duration": 243,
    "start_time": "2023-02-04T10:21:52.222Z"
   },
   {
    "duration": 211,
    "start_time": "2023-02-04T10:21:55.969Z"
   },
   {
    "duration": 207,
    "start_time": "2023-02-04T10:22:00.952Z"
   },
   {
    "duration": 73,
    "start_time": "2023-02-04T10:24:19.558Z"
   },
   {
    "duration": 197,
    "start_time": "2023-02-04T10:29:53.732Z"
   },
   {
    "duration": 74,
    "start_time": "2023-02-04T10:34:47.430Z"
   },
   {
    "duration": 1288,
    "start_time": "2023-02-04T10:35:42.058Z"
   },
   {
    "duration": 121,
    "start_time": "2023-02-04T10:35:43.352Z"
   },
   {
    "duration": 14,
    "start_time": "2023-02-04T10:35:43.474Z"
   },
   {
    "duration": 1986,
    "start_time": "2023-02-04T10:35:43.490Z"
   },
   {
    "duration": 17,
    "start_time": "2023-02-04T10:35:45.478Z"
   },
   {
    "duration": 4,
    "start_time": "2023-02-04T10:35:45.497Z"
   },
   {
    "duration": 6,
    "start_time": "2023-02-04T10:35:45.502Z"
   },
   {
    "duration": 12,
    "start_time": "2023-02-04T10:35:45.510Z"
   },
   {
    "duration": 5,
    "start_time": "2023-02-04T10:35:45.523Z"
   },
   {
    "duration": 15,
    "start_time": "2023-02-04T10:35:45.530Z"
   },
   {
    "duration": 20,
    "start_time": "2023-02-04T10:35:45.547Z"
   },
   {
    "duration": 8,
    "start_time": "2023-02-04T10:35:45.569Z"
   },
   {
    "duration": 14,
    "start_time": "2023-02-04T10:35:45.579Z"
   },
   {
    "duration": 8,
    "start_time": "2023-02-04T10:35:45.597Z"
   },
   {
    "duration": 39,
    "start_time": "2023-02-04T10:35:45.607Z"
   },
   {
    "duration": 25,
    "start_time": "2023-02-04T10:35:45.648Z"
   },
   {
    "duration": 15,
    "start_time": "2023-02-04T10:35:45.675Z"
   },
   {
    "duration": 5,
    "start_time": "2023-02-04T10:35:45.695Z"
   },
   {
    "duration": 116,
    "start_time": "2023-02-04T10:35:45.701Z"
   },
   {
    "duration": 8,
    "start_time": "2023-02-04T10:35:45.819Z"
   },
   {
    "duration": 22,
    "start_time": "2023-02-04T10:35:45.829Z"
   },
   {
    "duration": 392,
    "start_time": "2023-02-04T10:35:45.854Z"
   },
   {
    "duration": 5,
    "start_time": "2023-02-04T10:35:46.251Z"
   },
   {
    "duration": 5,
    "start_time": "2023-02-04T10:35:46.257Z"
   },
   {
    "duration": 76,
    "start_time": "2023-02-04T10:35:46.264Z"
   },
   {
    "duration": 9,
    "start_time": "2023-02-04T10:35:46.347Z"
   },
   {
    "duration": 9,
    "start_time": "2023-02-04T10:35:46.358Z"
   },
   {
    "duration": 65,
    "start_time": "2023-02-04T10:35:46.368Z"
   },
   {
    "duration": 25,
    "start_time": "2023-02-04T10:35:46.435Z"
   },
   {
    "duration": 131,
    "start_time": "2023-02-04T10:35:46.461Z"
   },
   {
    "duration": 8,
    "start_time": "2023-02-04T10:35:46.594Z"
   },
   {
    "duration": 5,
    "start_time": "2023-02-04T10:35:46.604Z"
   },
   {
    "duration": 4,
    "start_time": "2023-02-04T10:35:46.611Z"
   },
   {
    "duration": 92,
    "start_time": "2023-02-04T10:35:46.617Z"
   },
   {
    "duration": 4,
    "start_time": "2023-02-04T10:35:46.711Z"
   },
   {
    "duration": 20,
    "start_time": "2023-02-04T10:35:46.717Z"
   },
   {
    "duration": 6,
    "start_time": "2023-02-04T10:35:46.738Z"
   },
   {
    "duration": 23,
    "start_time": "2023-02-04T10:35:46.749Z"
   },
   {
    "duration": 6,
    "start_time": "2023-02-04T10:35:46.774Z"
   },
   {
    "duration": 9,
    "start_time": "2023-02-04T10:35:46.781Z"
   },
   {
    "duration": 12,
    "start_time": "2023-02-04T10:35:46.796Z"
   },
   {
    "duration": 30,
    "start_time": "2023-02-04T10:35:46.810Z"
   },
   {
    "duration": 8,
    "start_time": "2023-02-04T10:35:46.847Z"
   },
   {
    "duration": 10,
    "start_time": "2023-02-04T10:35:46.856Z"
   },
   {
    "duration": 14,
    "start_time": "2023-02-04T10:35:46.868Z"
   },
   {
    "duration": 13,
    "start_time": "2023-02-04T10:35:46.884Z"
   },
   {
    "duration": 5,
    "start_time": "2023-02-04T10:35:46.899Z"
   },
   {
    "duration": 197,
    "start_time": "2023-02-04T10:35:46.905Z"
   },
   {
    "duration": 7,
    "start_time": "2023-02-04T10:35:47.104Z"
   },
   {
    "duration": 9,
    "start_time": "2023-02-04T10:35:47.113Z"
   },
   {
    "duration": 17,
    "start_time": "2023-02-04T10:35:47.136Z"
   },
   {
    "duration": 14,
    "start_time": "2023-02-04T10:35:47.155Z"
   },
   {
    "duration": 7,
    "start_time": "2023-02-04T10:35:47.171Z"
   },
   {
    "duration": 220,
    "start_time": "2023-02-04T10:35:47.179Z"
   },
   {
    "duration": 161,
    "start_time": "2023-02-04T10:35:47.400Z"
   },
   {
    "duration": 7,
    "start_time": "2023-02-04T10:35:47.562Z"
   },
   {
    "duration": 9,
    "start_time": "2023-02-04T10:35:47.571Z"
   },
   {
    "duration": 8,
    "start_time": "2023-02-04T10:35:47.582Z"
   },
   {
    "duration": 10,
    "start_time": "2023-02-04T10:35:47.591Z"
   },
   {
    "duration": 225,
    "start_time": "2023-02-04T10:35:47.602Z"
   },
   {
    "duration": 14,
    "start_time": "2023-02-04T10:35:47.829Z"
   },
   {
    "duration": 12,
    "start_time": "2023-02-04T10:35:47.851Z"
   },
   {
    "duration": 13,
    "start_time": "2023-02-04T10:35:47.864Z"
   },
   {
    "duration": 3,
    "start_time": "2023-02-04T10:35:47.879Z"
   },
   {
    "duration": 475,
    "start_time": "2023-02-04T10:35:47.883Z"
   },
   {
    "duration": 5,
    "start_time": "2023-02-04T10:35:48.360Z"
   },
   {
    "duration": 5,
    "start_time": "2023-02-04T10:35:48.367Z"
   },
   {
    "duration": 464,
    "start_time": "2023-02-04T10:35:48.374Z"
   },
   {
    "duration": 257,
    "start_time": "2023-02-04T10:35:48.840Z"
   },
   {
    "duration": 211,
    "start_time": "2023-02-04T10:35:49.100Z"
   },
   {
    "duration": 196,
    "start_time": "2023-02-04T10:35:49.313Z"
   },
   {
    "duration": 177,
    "start_time": "2023-02-04T10:35:49.510Z"
   },
   {
    "duration": 184,
    "start_time": "2023-02-04T10:35:49.689Z"
   },
   {
    "duration": 166,
    "start_time": "2023-02-04T10:35:49.874Z"
   },
   {
    "duration": 182,
    "start_time": "2023-02-04T10:35:50.046Z"
   },
   {
    "duration": 171,
    "start_time": "2023-02-04T10:35:50.231Z"
   },
   {
    "duration": 170,
    "start_time": "2023-02-04T10:35:50.403Z"
   },
   {
    "duration": 191,
    "start_time": "2023-02-04T10:35:50.575Z"
   },
   {
    "duration": 287,
    "start_time": "2023-02-04T10:35:50.768Z"
   },
   {
    "duration": 185,
    "start_time": "2023-02-04T10:35:51.057Z"
   },
   {
    "duration": 184,
    "start_time": "2023-02-04T10:35:51.246Z"
   },
   {
    "duration": 228,
    "start_time": "2023-02-04T10:35:51.432Z"
   },
   {
    "duration": 12,
    "start_time": "2023-02-04T10:35:51.662Z"
   },
   {
    "duration": 232,
    "start_time": "2023-02-04T10:35:51.676Z"
   },
   {
    "duration": 208,
    "start_time": "2023-02-04T10:35:51.909Z"
   },
   {
    "duration": 244,
    "start_time": "2023-02-04T10:35:52.119Z"
   },
   {
    "duration": 261,
    "start_time": "2023-02-04T10:35:52.365Z"
   },
   {
    "duration": 20,
    "start_time": "2023-02-04T10:35:52.628Z"
   },
   {
    "duration": 25,
    "start_time": "2023-02-04T10:35:52.655Z"
   },
   {
    "duration": 36,
    "start_time": "2023-02-04T10:35:52.683Z"
   },
   {
    "duration": 372,
    "start_time": "2023-02-04T10:35:52.721Z"
   },
   {
    "duration": 18,
    "start_time": "2023-02-04T10:35:53.095Z"
   },
   {
    "duration": 6,
    "start_time": "2023-02-04T10:35:53.115Z"
   },
   {
    "duration": 9,
    "start_time": "2023-02-04T10:35:53.137Z"
   },
   {
    "duration": 4,
    "start_time": "2023-02-04T10:36:34.652Z"
   },
   {
    "duration": 1234,
    "start_time": "2023-02-04T18:46:54.654Z"
   },
   {
    "duration": 114,
    "start_time": "2023-02-04T18:46:55.891Z"
   },
   {
    "duration": 16,
    "start_time": "2023-02-04T18:46:56.007Z"
   },
   {
    "duration": 2055,
    "start_time": "2023-02-04T18:46:56.038Z"
   },
   {
    "duration": 15,
    "start_time": "2023-02-04T18:46:58.094Z"
   },
   {
    "duration": 10,
    "start_time": "2023-02-04T18:46:58.111Z"
   },
   {
    "duration": 32,
    "start_time": "2023-02-04T18:46:58.123Z"
   },
   {
    "duration": 23,
    "start_time": "2023-02-04T18:46:58.157Z"
   },
   {
    "duration": 16,
    "start_time": "2023-02-04T18:46:58.183Z"
   },
   {
    "duration": 17,
    "start_time": "2023-02-04T18:46:58.202Z"
   },
   {
    "duration": 19,
    "start_time": "2023-02-04T18:46:58.220Z"
   },
   {
    "duration": 10,
    "start_time": "2023-02-04T18:46:58.241Z"
   },
   {
    "duration": 13,
    "start_time": "2023-02-04T18:46:58.252Z"
   },
   {
    "duration": 11,
    "start_time": "2023-02-04T18:46:58.267Z"
   },
   {
    "duration": 38,
    "start_time": "2023-02-04T18:46:58.280Z"
   },
   {
    "duration": 27,
    "start_time": "2023-02-04T18:46:58.320Z"
   },
   {
    "duration": 14,
    "start_time": "2023-02-04T18:46:58.349Z"
   },
   {
    "duration": 17,
    "start_time": "2023-02-04T18:46:58.365Z"
   },
   {
    "duration": 150,
    "start_time": "2023-02-04T18:46:58.383Z"
   },
   {
    "duration": 11,
    "start_time": "2023-02-04T18:46:58.534Z"
   },
   {
    "duration": 6,
    "start_time": "2023-02-04T18:46:58.547Z"
   },
   {
    "duration": 403,
    "start_time": "2023-02-04T18:46:58.555Z"
   },
   {
    "duration": 5,
    "start_time": "2023-02-04T18:46:58.960Z"
   },
   {
    "duration": 16,
    "start_time": "2023-02-04T18:46:58.967Z"
   },
   {
    "duration": 74,
    "start_time": "2023-02-04T18:46:58.985Z"
   },
   {
    "duration": 8,
    "start_time": "2023-02-04T18:46:59.061Z"
   },
   {
    "duration": 9,
    "start_time": "2023-02-04T18:46:59.071Z"
   },
   {
    "duration": 84,
    "start_time": "2023-02-04T18:46:59.086Z"
   },
   {
    "duration": 14,
    "start_time": "2023-02-04T18:46:59.172Z"
   },
   {
    "duration": 144,
    "start_time": "2023-02-04T18:46:59.187Z"
   },
   {
    "duration": 12,
    "start_time": "2023-02-04T18:46:59.332Z"
   },
   {
    "duration": 18,
    "start_time": "2023-02-04T18:46:59.346Z"
   },
   {
    "duration": 14,
    "start_time": "2023-02-04T18:46:59.366Z"
   },
   {
    "duration": 84,
    "start_time": "2023-02-04T18:46:59.381Z"
   },
   {
    "duration": 4,
    "start_time": "2023-02-04T18:46:59.467Z"
   },
   {
    "duration": 12,
    "start_time": "2023-02-04T18:46:59.473Z"
   },
   {
    "duration": 26,
    "start_time": "2023-02-04T18:46:59.487Z"
   },
   {
    "duration": 22,
    "start_time": "2023-02-04T18:46:59.515Z"
   },
   {
    "duration": 10,
    "start_time": "2023-02-04T18:46:59.538Z"
   },
   {
    "duration": 16,
    "start_time": "2023-02-04T18:46:59.550Z"
   },
   {
    "duration": 13,
    "start_time": "2023-02-04T18:46:59.567Z"
   },
   {
    "duration": 16,
    "start_time": "2023-02-04T18:46:59.582Z"
   },
   {
    "duration": 13,
    "start_time": "2023-02-04T18:46:59.600Z"
   },
   {
    "duration": 6,
    "start_time": "2023-02-04T18:46:59.615Z"
   },
   {
    "duration": 18,
    "start_time": "2023-02-04T18:46:59.637Z"
   },
   {
    "duration": 22,
    "start_time": "2023-02-04T18:46:59.657Z"
   },
   {
    "duration": 10,
    "start_time": "2023-02-04T18:46:59.681Z"
   },
   {
    "duration": 207,
    "start_time": "2023-02-04T18:46:59.694Z"
   },
   {
    "duration": 7,
    "start_time": "2023-02-04T18:46:59.903Z"
   },
   {
    "duration": 28,
    "start_time": "2023-02-04T18:46:59.912Z"
   },
   {
    "duration": 19,
    "start_time": "2023-02-04T18:46:59.942Z"
   },
   {
    "duration": 24,
    "start_time": "2023-02-04T18:46:59.963Z"
   },
   {
    "duration": 17,
    "start_time": "2023-02-04T18:46:59.989Z"
   },
   {
    "duration": 269,
    "start_time": "2023-02-04T18:47:00.008Z"
   },
   {
    "duration": 160,
    "start_time": "2023-02-04T18:47:00.279Z"
   },
   {
    "duration": 7,
    "start_time": "2023-02-04T18:47:00.441Z"
   },
   {
    "duration": 40,
    "start_time": "2023-02-04T18:47:00.449Z"
   },
   {
    "duration": 80,
    "start_time": "2023-02-04T18:47:00.491Z"
   },
   {
    "duration": 37,
    "start_time": "2023-02-04T18:47:00.572Z"
   },
   {
    "duration": 252,
    "start_time": "2023-02-04T18:47:00.610Z"
   },
   {
    "duration": 5,
    "start_time": "2023-02-04T18:47:00.864Z"
   },
   {
    "duration": 22,
    "start_time": "2023-02-04T18:47:00.870Z"
   },
   {
    "duration": 28,
    "start_time": "2023-02-04T18:47:00.894Z"
   },
   {
    "duration": 47,
    "start_time": "2023-02-04T18:47:00.924Z"
   },
   {
    "duration": 22,
    "start_time": "2023-02-04T18:47:00.972Z"
   },
   {
    "duration": 463,
    "start_time": "2023-02-04T18:47:00.996Z"
   },
   {
    "duration": 6,
    "start_time": "2023-02-04T18:47:01.460Z"
   },
   {
    "duration": 42,
    "start_time": "2023-02-04T18:47:01.467Z"
   },
   {
    "duration": 294,
    "start_time": "2023-02-04T18:47:01.511Z"
   },
   {
    "duration": 219,
    "start_time": "2023-02-04T18:47:01.807Z"
   },
   {
    "duration": 213,
    "start_time": "2023-02-04T18:47:02.028Z"
   },
   {
    "duration": 219,
    "start_time": "2023-02-04T18:47:02.243Z"
   },
   {
    "duration": 201,
    "start_time": "2023-02-04T18:47:02.464Z"
   },
   {
    "duration": 249,
    "start_time": "2023-02-04T18:47:02.668Z"
   },
   {
    "duration": 183,
    "start_time": "2023-02-04T18:47:02.919Z"
   },
   {
    "duration": 215,
    "start_time": "2023-02-04T18:47:03.104Z"
   },
   {
    "duration": 184,
    "start_time": "2023-02-04T18:47:03.321Z"
   },
   {
    "duration": 198,
    "start_time": "2023-02-04T18:47:03.507Z"
   },
   {
    "duration": 217,
    "start_time": "2023-02-04T18:47:03.708Z"
   },
   {
    "duration": 290,
    "start_time": "2023-02-04T18:47:03.926Z"
   },
   {
    "duration": 201,
    "start_time": "2023-02-04T18:47:04.217Z"
   },
   {
    "duration": 206,
    "start_time": "2023-02-04T18:47:04.423Z"
   },
   {
    "duration": 232,
    "start_time": "2023-02-04T18:47:04.630Z"
   },
   {
    "duration": 9,
    "start_time": "2023-02-04T18:47:04.864Z"
   },
   {
    "duration": 213,
    "start_time": "2023-02-04T18:47:04.874Z"
   },
   {
    "duration": 199,
    "start_time": "2023-02-04T18:47:05.089Z"
   },
   {
    "duration": 258,
    "start_time": "2023-02-04T18:47:05.290Z"
   },
   {
    "duration": 213,
    "start_time": "2023-02-04T18:47:05.550Z"
   },
   {
    "duration": 6,
    "start_time": "2023-02-04T18:47:05.765Z"
   },
   {
    "duration": 40,
    "start_time": "2023-02-04T18:47:05.772Z"
   },
   {
    "duration": 31,
    "start_time": "2023-02-04T18:47:05.814Z"
   },
   {
    "duration": 376,
    "start_time": "2023-02-04T18:47:05.847Z"
   },
   {
    "duration": 25,
    "start_time": "2023-02-04T18:47:06.225Z"
   },
   {
    "duration": 30,
    "start_time": "2023-02-04T18:47:06.252Z"
   },
   {
    "duration": 25,
    "start_time": "2023-02-04T18:47:06.283Z"
   },
   {
    "duration": 1217,
    "start_time": "2023-02-04T18:47:26.614Z"
   },
   {
    "duration": 119,
    "start_time": "2023-02-04T18:47:27.833Z"
   },
   {
    "duration": 16,
    "start_time": "2023-02-04T18:47:27.953Z"
   },
   {
    "duration": 1910,
    "start_time": "2023-02-04T18:47:27.971Z"
   },
   {
    "duration": 14,
    "start_time": "2023-02-04T18:47:29.883Z"
   },
   {
    "duration": 3,
    "start_time": "2023-02-04T18:47:29.899Z"
   },
   {
    "duration": 10,
    "start_time": "2023-02-04T18:47:29.904Z"
   },
   {
    "duration": 28,
    "start_time": "2023-02-04T18:47:29.916Z"
   },
   {
    "duration": 27,
    "start_time": "2023-02-04T18:47:29.946Z"
   },
   {
    "duration": 28,
    "start_time": "2023-02-04T18:47:29.974Z"
   },
   {
    "duration": 24,
    "start_time": "2023-02-04T18:47:30.004Z"
   },
   {
    "duration": 21,
    "start_time": "2023-02-04T18:47:30.030Z"
   },
   {
    "duration": 26,
    "start_time": "2023-02-04T18:47:30.053Z"
   },
   {
    "duration": 40,
    "start_time": "2023-02-04T18:47:30.083Z"
   },
   {
    "duration": 36,
    "start_time": "2023-02-04T18:47:30.125Z"
   },
   {
    "duration": 25,
    "start_time": "2023-02-04T18:47:30.163Z"
   },
   {
    "duration": 21,
    "start_time": "2023-02-04T18:47:30.190Z"
   },
   {
    "duration": 41,
    "start_time": "2023-02-04T18:47:30.213Z"
   },
   {
    "duration": 143,
    "start_time": "2023-02-04T18:47:30.255Z"
   },
   {
    "duration": 8,
    "start_time": "2023-02-04T18:47:30.400Z"
   },
   {
    "duration": 45,
    "start_time": "2023-02-04T18:47:30.410Z"
   },
   {
    "duration": 421,
    "start_time": "2023-02-04T18:47:30.457Z"
   },
   {
    "duration": 4,
    "start_time": "2023-02-04T18:47:30.880Z"
   },
   {
    "duration": 19,
    "start_time": "2023-02-04T18:47:30.886Z"
   },
   {
    "duration": 88,
    "start_time": "2023-02-04T18:47:30.906Z"
   },
   {
    "duration": 7,
    "start_time": "2023-02-04T18:47:30.996Z"
   },
   {
    "duration": 12,
    "start_time": "2023-02-04T18:47:31.005Z"
   },
   {
    "duration": 80,
    "start_time": "2023-02-04T18:47:31.019Z"
   },
   {
    "duration": 15,
    "start_time": "2023-02-04T18:47:31.101Z"
   },
   {
    "duration": 136,
    "start_time": "2023-02-04T18:47:31.117Z"
   },
   {
    "duration": 8,
    "start_time": "2023-02-04T18:47:31.255Z"
   },
   {
    "duration": 29,
    "start_time": "2023-02-04T18:47:31.265Z"
   },
   {
    "duration": 18,
    "start_time": "2023-02-04T18:47:31.295Z"
   },
   {
    "duration": 83,
    "start_time": "2023-02-04T18:47:31.315Z"
   },
   {
    "duration": 4,
    "start_time": "2023-02-04T18:47:31.400Z"
   },
   {
    "duration": 30,
    "start_time": "2023-02-04T18:47:31.406Z"
   },
   {
    "duration": 38,
    "start_time": "2023-02-04T18:47:31.438Z"
   },
   {
    "duration": 43,
    "start_time": "2023-02-04T18:47:31.478Z"
   },
   {
    "duration": 21,
    "start_time": "2023-02-04T18:47:31.523Z"
   },
   {
    "duration": 19,
    "start_time": "2023-02-04T18:47:31.546Z"
   },
   {
    "duration": 24,
    "start_time": "2023-02-04T18:47:31.569Z"
   },
   {
    "duration": 14,
    "start_time": "2023-02-04T18:47:31.595Z"
   },
   {
    "duration": 28,
    "start_time": "2023-02-04T18:47:31.611Z"
   },
   {
    "duration": 31,
    "start_time": "2023-02-04T18:47:31.641Z"
   },
   {
    "duration": 25,
    "start_time": "2023-02-04T18:47:31.674Z"
   },
   {
    "duration": 15,
    "start_time": "2023-02-04T18:47:31.701Z"
   },
   {
    "duration": 45,
    "start_time": "2023-02-04T18:47:31.718Z"
   },
   {
    "duration": 210,
    "start_time": "2023-02-04T18:47:31.765Z"
   },
   {
    "duration": 7,
    "start_time": "2023-02-04T18:47:31.977Z"
   },
   {
    "duration": 21,
    "start_time": "2023-02-04T18:47:31.986Z"
   },
   {
    "duration": 9,
    "start_time": "2023-02-04T18:47:32.009Z"
   },
   {
    "duration": 24,
    "start_time": "2023-02-04T18:47:32.020Z"
   },
   {
    "duration": 22,
    "start_time": "2023-02-04T18:47:32.045Z"
   },
   {
    "duration": 226,
    "start_time": "2023-02-04T18:47:32.069Z"
   },
   {
    "duration": 171,
    "start_time": "2023-02-04T18:47:32.297Z"
   },
   {
    "duration": 8,
    "start_time": "2023-02-04T18:47:32.470Z"
   },
   {
    "duration": 30,
    "start_time": "2023-02-04T18:47:32.480Z"
   },
   {
    "duration": 23,
    "start_time": "2023-02-04T18:47:32.513Z"
   },
   {
    "duration": 19,
    "start_time": "2023-02-04T18:47:32.539Z"
   },
   {
    "duration": 256,
    "start_time": "2023-02-04T18:47:32.561Z"
   },
   {
    "duration": 5,
    "start_time": "2023-02-04T18:47:32.819Z"
   },
   {
    "duration": 33,
    "start_time": "2023-02-04T18:47:32.826Z"
   },
   {
    "duration": 6,
    "start_time": "2023-02-04T18:47:32.860Z"
   },
   {
    "duration": 23,
    "start_time": "2023-02-04T18:47:32.868Z"
   },
   {
    "duration": 9,
    "start_time": "2023-02-04T18:47:32.893Z"
   },
   {
    "duration": 436,
    "start_time": "2023-02-04T18:47:32.903Z"
   },
   {
    "duration": 4,
    "start_time": "2023-02-04T18:47:33.341Z"
   },
   {
    "duration": 16,
    "start_time": "2023-02-04T18:47:33.346Z"
   },
   {
    "duration": 222,
    "start_time": "2023-02-04T18:47:33.364Z"
   },
   {
    "duration": 207,
    "start_time": "2023-02-04T18:47:33.588Z"
   },
   {
    "duration": 211,
    "start_time": "2023-02-04T18:47:33.797Z"
   },
   {
    "duration": 204,
    "start_time": "2023-02-04T18:47:34.010Z"
   },
   {
    "duration": 189,
    "start_time": "2023-02-04T18:47:34.216Z"
   },
   {
    "duration": 190,
    "start_time": "2023-02-04T18:47:34.406Z"
   },
   {
    "duration": 181,
    "start_time": "2023-02-04T18:47:34.598Z"
   },
   {
    "duration": 192,
    "start_time": "2023-02-04T18:47:34.781Z"
   },
   {
    "duration": 197,
    "start_time": "2023-02-04T18:47:34.975Z"
   },
   {
    "duration": 198,
    "start_time": "2023-02-04T18:47:35.173Z"
   },
   {
    "duration": 210,
    "start_time": "2023-02-04T18:47:35.373Z"
   },
   {
    "duration": 289,
    "start_time": "2023-02-04T18:47:35.585Z"
   },
   {
    "duration": 188,
    "start_time": "2023-02-04T18:47:35.875Z"
   },
   {
    "duration": 213,
    "start_time": "2023-02-04T18:47:36.066Z"
   },
   {
    "duration": 235,
    "start_time": "2023-02-04T18:47:36.281Z"
   },
   {
    "duration": 22,
    "start_time": "2023-02-04T18:47:36.519Z"
   },
   {
    "duration": 214,
    "start_time": "2023-02-04T18:47:36.542Z"
   },
   {
    "duration": 211,
    "start_time": "2023-02-04T18:47:36.758Z"
   },
   {
    "duration": 246,
    "start_time": "2023-02-04T18:47:36.971Z"
   },
   {
    "duration": 248,
    "start_time": "2023-02-04T18:47:37.219Z"
   },
   {
    "duration": 6,
    "start_time": "2023-02-04T18:47:37.469Z"
   },
   {
    "duration": 27,
    "start_time": "2023-02-04T18:47:37.477Z"
   },
   {
    "duration": 36,
    "start_time": "2023-02-04T18:47:37.506Z"
   },
   {
    "duration": 365,
    "start_time": "2023-02-04T18:47:37.544Z"
   },
   {
    "duration": 28,
    "start_time": "2023-02-04T18:47:37.911Z"
   },
   {
    "duration": 6,
    "start_time": "2023-02-04T18:47:37.941Z"
   },
   {
    "duration": 55,
    "start_time": "2023-02-04T18:47:37.949Z"
   },
   {
    "duration": 13,
    "start_time": "2023-02-04T18:48:51.696Z"
   },
   {
    "duration": 101,
    "start_time": "2023-02-04T18:48:54.808Z"
   }
  ],
  "kernelspec": {
   "display_name": "Python 3 (ipykernel)",
   "language": "python",
   "name": "python3"
  },
  "language_info": {
   "codemirror_mode": {
    "name": "ipython",
    "version": 3
   },
   "file_extension": ".py",
   "mimetype": "text/x-python",
   "name": "python",
   "nbconvert_exporter": "python",
   "pygments_lexer": "ipython3",
   "version": "3.9.12"
  },
  "toc": {
   "base_numbering": 1,
   "nav_menu": {},
   "number_sections": true,
   "sideBar": true,
   "skip_h1_title": true,
   "title_cell": "Table of Contents",
   "title_sidebar": "Contents",
   "toc_cell": false,
   "toc_position": {},
   "toc_section_display": true,
   "toc_window_display": false
  },
  "toc-autonumbering": true
 },
 "nbformat": 4,
 "nbformat_minor": 4
}
