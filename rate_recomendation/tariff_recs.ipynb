{
 "cells": [
  {
   "cell_type": "markdown",
   "metadata": {},
   "source": [
    "# Рекомендация тарифов"
   ]
  },
  {
   "cell_type": "markdown",
   "metadata": {},
   "source": [
    "В нашем распоряжении данные о поведении клиентов, которые уже перешли на эти тарифы. Нужно построить модель для задачи классификации, которая выберет подходящий тариф.\n",
    "\n",
    "Требуется построить модель с максимально большим значением *accuracy*, нужно довести долю правильных ответов по крайней мере до 0.75."
   ]
  },
  {
   "cell_type": "markdown",
   "metadata": {},
   "source": [
    "## Загрузка данных"
   ]
  },
  {
   "cell_type": "code",
   "execution_count": 165,
   "metadata": {},
   "outputs": [],
   "source": [
    "import pandas as pd\n",
    "from sklearn.model_selection import train_test_split\n",
    "from sklearn.metrics import accuracy_score as acc, mean_squared_error as mse, \\\n",
    "recall_score as recall, precision_score as precision, confusion_matrix, accuracy_score as accuracy, f1_score as f1\n",
    "\n",
    "import matplotlib.pyplot as plt\n",
    "import numpy as np"
   ]
  },
  {
   "cell_type": "code",
   "execution_count": 166,
   "metadata": {},
   "outputs": [],
   "source": [
    "df = pd.read_csv('datasets/users_behavior.csv')"
   ]
  },
  {
   "cell_type": "code",
   "execution_count": 167,
   "metadata": {},
   "outputs": [
    {
     "data": {
      "text/html": [
       "<div>\n",
       "<style scoped>\n",
       "    .dataframe tbody tr th:only-of-type {\n",
       "        vertical-align: middle;\n",
       "    }\n",
       "\n",
       "    .dataframe tbody tr th {\n",
       "        vertical-align: top;\n",
       "    }\n",
       "\n",
       "    .dataframe thead th {\n",
       "        text-align: right;\n",
       "    }\n",
       "</style>\n",
       "<table border=\"1\" class=\"dataframe\">\n",
       "  <thead>\n",
       "    <tr style=\"text-align: right;\">\n",
       "      <th></th>\n",
       "      <th>calls</th>\n",
       "      <th>minutes</th>\n",
       "      <th>messages</th>\n",
       "      <th>mb_used</th>\n",
       "      <th>is_ultra</th>\n",
       "    </tr>\n",
       "  </thead>\n",
       "  <tbody>\n",
       "    <tr>\n",
       "      <th>0</th>\n",
       "      <td>40.0</td>\n",
       "      <td>311.90</td>\n",
       "      <td>83.0</td>\n",
       "      <td>19915.42</td>\n",
       "      <td>0</td>\n",
       "    </tr>\n",
       "    <tr>\n",
       "      <th>1</th>\n",
       "      <td>85.0</td>\n",
       "      <td>516.75</td>\n",
       "      <td>56.0</td>\n",
       "      <td>22696.96</td>\n",
       "      <td>0</td>\n",
       "    </tr>\n",
       "    <tr>\n",
       "      <th>2</th>\n",
       "      <td>77.0</td>\n",
       "      <td>467.66</td>\n",
       "      <td>86.0</td>\n",
       "      <td>21060.45</td>\n",
       "      <td>0</td>\n",
       "    </tr>\n",
       "    <tr>\n",
       "      <th>3</th>\n",
       "      <td>106.0</td>\n",
       "      <td>745.53</td>\n",
       "      <td>81.0</td>\n",
       "      <td>8437.39</td>\n",
       "      <td>1</td>\n",
       "    </tr>\n",
       "    <tr>\n",
       "      <th>4</th>\n",
       "      <td>66.0</td>\n",
       "      <td>418.74</td>\n",
       "      <td>1.0</td>\n",
       "      <td>14502.75</td>\n",
       "      <td>0</td>\n",
       "    </tr>\n",
       "  </tbody>\n",
       "</table>\n",
       "</div>"
      ],
      "text/plain": [
       "   calls  minutes  messages   mb_used  is_ultra\n",
       "0   40.0   311.90      83.0  19915.42         0\n",
       "1   85.0   516.75      56.0  22696.96         0\n",
       "2   77.0   467.66      86.0  21060.45         0\n",
       "3  106.0   745.53      81.0   8437.39         1\n",
       "4   66.0   418.74       1.0  14502.75         0"
      ]
     },
     "execution_count": 167,
     "metadata": {},
     "output_type": "execute_result"
    }
   ],
   "source": [
    "df.head()"
   ]
  },
  {
   "cell_type": "code",
   "execution_count": 168,
   "metadata": {},
   "outputs": [
    {
     "name": "stdout",
     "output_type": "stream",
     "text": [
      "<class 'pandas.core.frame.DataFrame'>\n",
      "RangeIndex: 3214 entries, 0 to 3213\n",
      "Data columns (total 5 columns):\n",
      " #   Column    Non-Null Count  Dtype  \n",
      "---  ------    --------------  -----  \n",
      " 0   calls     3214 non-null   float64\n",
      " 1   minutes   3214 non-null   float64\n",
      " 2   messages  3214 non-null   float64\n",
      " 3   mb_used   3214 non-null   float64\n",
      " 4   is_ultra  3214 non-null   int64  \n",
      "dtypes: float64(4), int64(1)\n",
      "memory usage: 125.7 KB\n"
     ]
    }
   ],
   "source": [
    "df.info()"
   ]
  },
  {
   "cell_type": "markdown",
   "metadata": {},
   "source": [
    "## Разбивка данных на выборки"
   ]
  },
  {
   "cell_type": "markdown",
   "metadata": {},
   "source": [
    "В \"Мегалайн\" хотят построить систему, способную проанализировать поведение клиентов и предложить пользователям тариф \"Смарт\" или \"Ультра\". Мы имеем дело с задачей классификации: по использованным услугам определим, какой тариф для них будет предпочтительнее."
   ]
  },
  {
   "cell_type": "code",
   "execution_count": 169,
   "metadata": {},
   "outputs": [],
   "source": [
    "x = df.drop('is_ultra', axis=1) #фичи\n",
    "y = df['is_ultra'] #таргет"
   ]
  },
  {
   "cell_type": "markdown",
   "metadata": {},
   "source": [
    "Поскольку нет заранее отложенной тестовой выборки, отнесем 60% наблюдений в train, 20% для валидации и 20% в test:"
   ]
  },
  {
   "cell_type": "code",
   "execution_count": 170,
   "metadata": {},
   "outputs": [],
   "source": [
    "x_train, x_test, y_train, y_test = train_test_split(x, y, test_size=0.2, random_state=42, shuffle=True)"
   ]
  },
  {
   "cell_type": "code",
   "execution_count": 171,
   "metadata": {},
   "outputs": [],
   "source": [
    "x_train, x_val, y_train, y_val = train_test_split(x_train, y_train, test_size=0.25, random_state=42, shuffle=True) #0.8*0.25=0.2"
   ]
  },
  {
   "cell_type": "code",
   "execution_count": 172,
   "metadata": {},
   "outputs": [
    {
     "data": {
      "text/plain": [
       "0.2000622277535781"
      ]
     },
     "execution_count": 172,
     "metadata": {},
     "output_type": "execute_result"
    }
   ],
   "source": [
    "x_val.shape[0] / df.shape[0]"
   ]
  },
  {
   "cell_type": "code",
   "execution_count": 173,
   "metadata": {},
   "outputs": [
    {
     "data": {
      "text/plain": [
       "0.5998755444928439"
      ]
     },
     "execution_count": 173,
     "metadata": {},
     "output_type": "execute_result"
    }
   ],
   "source": [
    "x_train.shape[0] / df.shape[0]"
   ]
  },
  {
   "cell_type": "code",
   "execution_count": 174,
   "metadata": {},
   "outputs": [
    {
     "data": {
      "text/plain": [
       "0.2000622277535781"
      ]
     },
     "execution_count": 174,
     "metadata": {},
     "output_type": "execute_result"
    }
   ],
   "source": [
    "x_test.shape[0] / df.shape[0]"
   ]
  },
  {
   "cell_type": "markdown",
   "metadata": {},
   "source": [
    "Соотношение размеров выборок верное."
   ]
  },
  {
   "cell_type": "markdown",
   "metadata": {},
   "source": [
    "## Исследование моделей"
   ]
  },
  {
   "cell_type": "markdown",
   "metadata": {},
   "source": [
    "Для задачи классификации рассмотрим три семейства моделей: дерево решений, случайный лес и логистическую регрессию."
   ]
  },
  {
   "cell_type": "markdown",
   "metadata": {},
   "source": [
    "### Дерево решений"
   ]
  },
  {
   "cell_type": "code",
   "execution_count": 175,
   "metadata": {},
   "outputs": [],
   "source": [
    "from sklearn.tree import DecisionTreeClassifier, plot_tree"
   ]
  },
  {
   "cell_type": "markdown",
   "metadata": {},
   "source": [
    "Проведем поиск оптимальной глубины дерева:"
   ]
  },
  {
   "cell_type": "code",
   "execution_count": 176,
   "metadata": {},
   "outputs": [
    {
     "name": "stdout",
     "output_type": "stream",
     "text": [
      "Лучшее дерево: DecisionTreeClassifier(max_depth=6, min_samples_leaf=8, random_state=42) \n",
      "Accuracy = 0.7947122861586314\n"
     ]
    }
   ],
   "source": [
    "val_tree_scores = []\n",
    "best_tree_score = 0\n",
    "for depth in range(1,11):\n",
    "    for sampl in range(2, 11, 2):\n",
    "        tree = DecisionTreeClassifier(max_depth=depth, random_state=42, min_samples_leaf=sampl)\n",
    "        tree.fit(x_train, y_train)\n",
    "        \n",
    "        if tree.score(x_val, y_val) > best_tree_score:\n",
    "            best_tree = tree\n",
    "            best_tree_score = tree.score(x_val, y_val)\n",
    "    val_tree_scores.append(best_tree.score(x_val, y_val)) #сохраняем лучшее дерево для данной глубины\n",
    "        \n",
    "print('Лучшее дерево:', best_tree, \n",
    "      '\\nAccuracy =', best_tree_score)"
   ]
  },
  {
   "cell_type": "code",
   "execution_count": 177,
   "metadata": {},
   "outputs": [],
   "source": [
    "#plot_tree(best_tree)\n",
    "#plt.show()"
   ]
  },
  {
   "cell_type": "code",
   "execution_count": 178,
   "metadata": {},
   "outputs": [
    {
     "data": {
      "image/png": "[encoded data removed]",
      "text/plain": [
       "<Figure size 432x288 with 1 Axes>"
      ]
     },
     "metadata": {
      "needs_background": "light"
     },
     "output_type": "display_data"
    }
   ],
   "source": [
    "plt.plot(list(range(1,11)), val_tree_scores)\n",
    "plt.xticks(list(range(1,11)))\n",
    "plt.xlabel('Глубина дерева')\n",
    "plt.ylabel('Доля верных ответов')\n",
    "plt.title('Зависимость качества модели от глубины дерева')\n",
    "plt.show()"
   ]
  },
  {
   "cell_type": "markdown",
   "metadata": {},
   "source": [
    "На графике также видно, что наилучшее качество показывает дерево с глубиной 6 и больше не растет."
   ]
  },
  {
   "cell_type": "markdown",
   "metadata": {},
   "source": [
    "### Случайный лес"
   ]
  },
  {
   "cell_type": "code",
   "execution_count": 179,
   "metadata": {},
   "outputs": [],
   "source": [
    "from sklearn.ensemble import RandomForestClassifier"
   ]
  },
  {
   "cell_type": "markdown",
   "metadata": {},
   "source": [
    "Найдем оптимальное число деревьев, их глубину и обучим модель."
   ]
  },
  {
   "cell_type": "code",
   "execution_count": 180,
   "metadata": {},
   "outputs": [
    {
     "name": "stdout",
     "output_type": "stream",
     "text": [
      "Лучший случайный лес: RandomForestClassifier(max_depth=7, n_estimators=500, random_state=42) \n",
      "Accuracy = 0.8087091757387247\n"
     ]
    }
   ],
   "source": [
    "val_rf_scores = []\n",
    "best_rf_score = 0\n",
    "for depth in range(1,11):\n",
    "    for n_est in range(100, 1001, 200):\n",
    "        rf = RandomForestClassifier(n_estimators=n_est, max_depth=depth, random_state=42)\n",
    "        rf.fit(x_train, y_train)\n",
    "            \n",
    "        if rf.score(x_val, y_val) > best_rf_score:\n",
    "            best_rf = rf\n",
    "            best_rf_score = rf.score(x_val, y_val)\n",
    "            \n",
    "    val_rf_scores.append(best_rf_score) #сохраним лучшую оценку для текущей глубины\n",
    "\n",
    "print('Лучший случайный лес:', best_rf, \n",
    "      '\\nAccuracy =', best_rf_score)"
   ]
  },
  {
   "cell_type": "code",
   "execution_count": 181,
   "metadata": {},
   "outputs": [
    {
     "data": {
      "image/png": "[encoded data removed]",
      "text/plain": [
       "<Figure size 432x288 with 1 Axes>"
      ]
     },
     "metadata": {
      "needs_background": "light"
     },
     "output_type": "display_data"
    }
   ],
   "source": [
    "plt.plot(list(range(1,11)), val_rf_scores)\n",
    "plt.xticks(list(range(1,11)))\n",
    "plt.xlabel('Глубина дерева')\n",
    "plt.ylabel('Доля верных ответов')\n",
    "plt.title('Зависимость качества модели от глубины дерева')\n",
    "plt.show()"
   ]
  },
  {
   "cell_type": "markdown",
   "metadata": {},
   "source": [
    "Видно, что число деревьев больше 500 не повлияло на качество, и по достижении глубины 7 качество стало предельным."
   ]
  },
  {
   "cell_type": "markdown",
   "metadata": {},
   "source": [
    "### KFold для best_rf"
   ]
  },
  {
   "cell_type": "code",
   "execution_count": 182,
   "metadata": {},
   "outputs": [],
   "source": [
    "from sklearn.model_selection import cross_val_score, KFold\n",
    "from sklearn.pipeline import make_pipeline"
   ]
  },
  {
   "cell_type": "code",
   "execution_count": 183,
   "metadata": {},
   "outputs": [
    {
     "name": "stdout",
     "output_type": "stream",
     "text": [
      "Лучший случайный лес: RandomForestClassifier(max_depth=7, n_estimators=500, random_state=42) \n",
      "Accuracy = 0.8087091757387247\n"
     ]
    }
   ],
   "source": [
    "print('Лучший случайный лес:', best_rf, \n",
    "      '\\nAccuracy =', best_rf_score)"
   ]
  },
  {
   "cell_type": "code",
   "execution_count": 184,
   "metadata": {},
   "outputs": [
    {
     "name": "stdout",
     "output_type": "stream",
     "text": [
      "Accuracy score: [0.76165803 0.8238342  0.82642487 0.82337662 0.7974026 ]\n",
      "Mean accuracy: 0.8065392638449633\n"
     ]
    }
   ],
   "source": [
    "pipeline_rf = make_pipeline(best_rf)\n",
    "scores = cross_val_score(pipeline_rf, x_train, y_train,\n",
    "                         cv=5, #т.к int + классификатор, исп StratifiedKFold\n",
    "                         scoring='accuracy')\n",
    "print('Accuracy score:', scores)\n",
    "print('Mean accuracy:', scores.mean())"
   ]
  },
  {
   "cell_type": "markdown",
   "metadata": {},
   "source": [
    "### Learning curves"
   ]
  },
  {
   "cell_type": "markdown",
   "metadata": {},
   "source": [
    "Чтобы примерно оценить, как будет вести себя модель при добавлении новых данных, построим кривые обучения:"
   ]
  },
  {
   "cell_type": "code",
   "execution_count": 187,
   "metadata": {},
   "outputs": [],
   "source": [
    "def plot_learning_curves(model, x, y):\n",
    "    X_train, X_val, Y_train, Y_val = train_test_split(x, y, test_size=0.2, random_state=42, shuffle=True)\n",
    "    train_score, val_score = [], []\n",
    "    for n in np.linspace(0.2, 1.0, 4):\n",
    "        m = int(n * len(X_train))\n",
    "        model.fit(X_train[:m], Y_train[:m])\n",
    "        train_score.append(model.score(X_train[:m], Y_train[:m]))\n",
    "        val_score.append(model.score(X_val, Y_val))\n",
    "    plt.plot(train_score, 'r-+', linewidth=1.5, label='train')\n",
    "    plt.plot(val_score, 'b-', linewidth=1, label='val')\n",
    "    plt.grid()\n",
    "    plt.legend(loc='best')\n",
    "    print('train_score:', train_score)\n",
    "    print('val_score:', val_score)"
   ]
  },
  {
   "cell_type": "code",
   "execution_count": 188,
   "metadata": {},
   "outputs": [
    {
     "name": "stdout",
     "output_type": "stream",
     "text": [
      "train_score: [0.9066147859922179, 0.8715596330275229, 0.8594164456233422, 0.8490859587709063]\n",
      "val_score: [0.7916018662519441, 0.80248833592535, 0.807153965785381, 0.8118195956454122]\n"
     ]
    },
    {
     "data": {
      "image/png": "[encoded data removed]",
      "text/plain": [
       "<Figure size 432x288 with 1 Axes>"
      ]
     },
     "metadata": {
      "needs_background": "light"
     },
     "output_type": "display_data"
    }
   ],
   "source": [
    "plot_learning_curves(pipeline_rf, x, y)"
   ]
  },
  {
   "cell_type": "markdown",
   "metadata": {},
   "source": [
    "### Learning curves: Sklearn"
   ]
  },
  {
   "cell_type": "code",
   "execution_count": 189,
   "metadata": {},
   "outputs": [],
   "source": [
    "#будет проводиться KFold, оставим только тестовую выборку\n",
    "x_train, x_test, y_train, y_test = train_test_split(x, y, test_size=0.2, random_state=42, shuffle=True)\n",
    "\n",
    "from sklearn.model_selection import learning_curve\n",
    "train_size_abs, train_scores, test_scores = learning_curve(\n",
    "    pipeline_rf, x_train, y_train, \n",
    "    train_sizes=np.linspace(0.2, 1.0, 4),\n",
    "    cv=5, #или cv=skf (если int то тоже исп. StratifiedKFold)\n",
    "    shuffle=True,\n",
    "    scoring='accuracy'\n",
    "    )\n",
    "\n",
    "#возвращаем валидационную выборку (с ней выполнялась вся остальная работа)\n",
    "x_train, x_val, y_train, y_val = train_test_split(x_train, y_train, test_size=0.25, random_state=42, shuffle=True) #0.8*0.25=0.2"
   ]
  },
  {
   "cell_type": "code",
   "execution_count": 190,
   "metadata": {},
   "outputs": [
    {
     "name": "stdout",
     "output_type": "stream",
     "text": [
      "[0.9099756690997566, 0.8750782064650677, 0.8617120106171201, 0.85]\n",
      "[0.7977515016433078, 0.797362396584942, 0.8020309017415285, 0.8032004835480336]\n"
     ]
    },
    {
     "data": {
      "image/png": "[encoded data removed]",
      "text/plain": [
       "<Figure size 432x288 with 1 Axes>"
      ]
     },
     "metadata": {
      "needs_background": "light"
     },
     "output_type": "display_data"
    }
   ],
   "source": [
    "train_scores_mean, val_scores_mean = [], [] #сохраним средние оценки с валидации\n",
    "for train_size, cv_train_scores, cv_val_scores in zip(train_size_abs, train_scores, test_scores):\n",
    "    train_scores_mean.append(cv_train_scores.mean())\n",
    "    val_scores_mean.append(cv_val_scores.mean())\n",
    "\n",
    "#plt.style.use('ggplot')\n",
    "plt.plot(train_size_abs, train_scores_mean, label = 'Training score')\n",
    "plt.plot(train_size_abs, val_scores_mean, label = 'Validation score')\n",
    "plt.ylabel('Accuracy', fontsize = 11)\n",
    "plt.xlabel('Training set size', fontsize = 11)\n",
    "plt.title('Learning curves for a Random Forest model', fontsize = 14, y = 1.03)\n",
    "plt.legend()\n",
    "plt.grid()\n",
    "plt.ylim(0.7,1);\n",
    "print(train_scores_mean)\n",
    "print(val_scores_mean)"
   ]
  },
  {
   "cell_type": "markdown",
   "metadata": {},
   "source": [
    "### Логистическая регрессия"
   ]
  },
  {
   "cell_type": "code",
   "execution_count": 191,
   "metadata": {},
   "outputs": [],
   "source": [
    "from sklearn.linear_model import LogisticRegression"
   ]
  },
  {
   "cell_type": "code",
   "execution_count": 192,
   "metadata": {},
   "outputs": [
    {
     "name": "stdout",
     "output_type": "stream",
     "text": [
      "Лучшая логистическая регрессия: LogisticRegression(random_state=42) \n",
      "Accuracy = 0.7527216174183515\n"
     ]
    }
   ],
   "source": [
    "val_log_scores = []\n",
    "best_log_score = 0\n",
    "for iters in range(100, 501, 100):\n",
    "    log_reg = LogisticRegression(random_state=42, solver='lbfgs', max_iter=iters)\n",
    "    log_reg.fit(x_train, y_train)\n",
    "\n",
    "    val_log_scores.append(tree.score(x_val, y_val))\n",
    "    \n",
    "    if log_reg.score(x_val, y_val) > best_log_score:\n",
    "        best_log = log_reg\n",
    "        best_log_score = log_reg.score(x_val, y_val)\n",
    "        \n",
    "print('Лучшая логистическая регрессия:', best_log, \n",
    "      '\\nAccuracy =', best_log_score)"
   ]
  },
  {
   "cell_type": "code",
   "execution_count": 193,
   "metadata": {},
   "outputs": [
    {
     "data": {
      "image/png": "[encoded data removed]",
      "text/plain": [
       "<Figure size 432x288 with 1 Axes>"
      ]
     },
     "metadata": {
      "needs_background": "light"
     },
     "output_type": "display_data"
    }
   ],
   "source": [
    "plt.plot(list(range(100, 501, 100)), val_log_scores)\n",
    "plt.xticks(list(range(100, 501, 100)))\n",
    "plt.xlabel('Число итераций')\n",
    "plt.ylabel('Доля верных ответов')\n",
    "plt.title('Зависимость качества модели от числа итераций')\n",
    "plt.show()"
   ]
  },
  {
   "cell_type": "markdown",
   "metadata": {},
   "source": [
    "Разное число итераций не влияет на качество модели. Точность получилась ниже 0.75, поэтому такая модель нам не подойдет. Для увеличения точности можно было бы собрать больше данных и увеличить размер обучающей выборки."
   ]
  },
  {
   "cell_type": "markdown",
   "metadata": {},
   "source": [
    "## Проверка модели на тестовой выборке"
   ]
  },
  {
   "cell_type": "markdown",
   "metadata": {},
   "source": [
    "Нам подходят модели дерева решений `best_tree` и случайного леса `best_rf`. Их точность равна 0.799 и 0.815 соответственно. Оптимальная глубина деревьев 7, а оптимальное число деревьев в случайном лесе 500. Проверим их на тестовой выборке."
   ]
  },
  {
   "cell_type": "code",
   "execution_count": 194,
   "metadata": {},
   "outputs": [
    {
     "data": {
      "text/plain": [
       "0.8211508553654744"
      ]
     },
     "execution_count": 194,
     "metadata": {},
     "output_type": "execute_result"
    }
   ],
   "source": [
    "best_tree.score(x_test, y_test)"
   ]
  },
  {
   "cell_type": "code",
   "execution_count": 195,
   "metadata": {},
   "outputs": [
    {
     "data": {
      "text/plain": [
       "0.8600311041990669"
      ]
     },
     "execution_count": 195,
     "metadata": {},
     "output_type": "execute_result"
    }
   ],
   "source": [
    "best_rf.score(x_test, y_test)"
   ]
  },
  {
   "cell_type": "markdown",
   "metadata": {},
   "source": [
    "На тестовой выборке модели показали себя не хуже, чем на валидационной. Наилуший результат у случайного леса. С уже заданными гиперпараметрами он обучается достаточно быстро, поэтому такой выбор модели рентабелен."
   ]
  },
  {
   "cell_type": "markdown",
   "metadata": {},
   "source": [
    "## Проверка модели на адекватность"
   ]
  },
  {
   "cell_type": "markdown",
   "metadata": {},
   "source": [
    "Рассчитаем дополнительные метрики классификации: точность (precision) и полноту (recall):"
   ]
  },
  {
   "cell_type": "code",
   "execution_count": 202,
   "metadata": {},
   "outputs": [],
   "source": [
    "def scores(y_test, y_pred):\n",
    "    print('precision = ', precision(y_test, y_pred))\n",
    "    print('recall = ', recall(y_test, y_pred))\n",
    "    print('accuracy = ', accuracy(y_test, y_pred))\n",
    "    print(confusion_matrix(y_test, y_pred).ravel()) #tn fp fn tp"
   ]
  },
  {
   "cell_type": "code",
   "execution_count": 203,
   "metadata": {},
   "outputs": [
    {
     "name": "stdout",
     "output_type": "stream",
     "text": [
      "precision =  0.8253968253968254\n",
      "recall =  0.5279187817258884\n",
      "accuracy =  0.8211508553654744\n",
      "[424  22  93 104]\n"
     ]
    }
   ],
   "source": [
    "scores(y_test, best_tree.predict(x_test))"
   ]
  },
  {
   "cell_type": "code",
   "execution_count": 204,
   "metadata": {},
   "outputs": [
    {
     "name": "stdout",
     "output_type": "stream",
     "text": [
      "precision =  0.9495798319327731\n",
      "recall =  0.5736040609137056\n",
      "accuracy =  0.8600311041990669\n",
      "[440   6  84 113]\n"
     ]
    }
   ],
   "source": [
    "scores(y_test, best_rf.predict(x_test))"
   ]
  },
  {
   "cell_type": "markdown",
   "metadata": {},
   "source": [
    "***Точность*** указывает долю правильно предсказанных положительных объектов среди всех объектов, признанных положительным классом: `'is_ultra' = 1`. По развернутой матрице видим, что модели хорошо определяют пользователей тарифа \"Ультра\" (FalsePositive = 22 и 6). Когда всего положительных классов 197 (fn+tp) — треть выборки."
   ]
  },
  {
   "cell_type": "markdown",
   "metadata": {},
   "source": [
    "**Доля положительного класса в тестовой выборке:**"
   ]
  },
  {
   "cell_type": "code",
   "execution_count": 199,
   "metadata": {},
   "outputs": [
    {
     "data": {
      "text/plain": [
       "0.30637636080870917"
      ]
     },
     "execution_count": 199,
     "metadata": {},
     "output_type": "execute_result"
    }
   ],
   "source": [
    "y_test.mean()"
   ]
  },
  {
   "cell_type": "markdown",
   "metadata": {},
   "source": [
    "Получается, что высокий accuracy обеспечивается в основном за счет члена TN: в выборке 70% нулевого класса и из них мы угадываем больше половины (424 и 440) — этим клиентам предложим тариф \"Смарт\".\n",
    "\n",
    "***Полнота*** — доля верно выявленных положительных объектов среди всех объектов действительно являющихся положительными. <br>\n",
    "Наши модели правильно выделяют положительный класс всего в 53% и 57% случаев соответственно: высокая доля значений FalseNegative (93 и 84) — это все упущенные шансы, на которых клиент оказался бы заинтересованным в новом тарифе."
   ]
  },
  {
   "cell_type": "markdown",
   "metadata": {},
   "source": [
    "Однако нас интересует верная классификация как TruePositive, так и TrueNegative — для тарифов Ультра и Смарт. Поэтому выбор метрики accuracy обоснован."
   ]
  },
  {
   "cell_type": "markdown",
   "metadata": {},
   "source": [
    "**F1-мера — среднее гармоническое между точностю и полнотой**"
   ]
  },
  {
   "cell_type": "code",
   "execution_count": 201,
   "metadata": {},
   "outputs": [
    {
     "data": {
      "text/plain": [
       "0.7151898734177216"
      ]
     },
     "execution_count": 201,
     "metadata": {},
     "output_type": "execute_result"
    }
   ],
   "source": [
    "f1(y_test, best_rf.predict(x_test))"
   ]
  },
  {
   "cell_type": "markdown",
   "metadata": {},
   "source": [
    "*Можно сказать, что модель достаточно хорошо решает задачу, для которой предназначена.*"
   ]
  }
 ],
 "metadata": {
  "ExecuteTimeLog": [
   {
    "duration": 1113,
    "start_time": "2023-03-13T13:37:00.632Z"
   },
   {
    "duration": 133,
    "start_time": "2023-03-13T13:39:54.487Z"
   },
   {
    "duration": 3,
    "start_time": "2023-03-13T13:39:56.777Z"
   },
   {
    "duration": 47,
    "start_time": "2023-03-13T13:39:58.349Z"
   },
   {
    "duration": 51,
    "start_time": "2023-03-13T13:40:13.363Z"
   },
   {
    "duration": 67,
    "start_time": "2023-03-13T13:40:19.197Z"
   },
   {
    "duration": 69,
    "start_time": "2023-03-13T13:40:41.347Z"
   },
   {
    "duration": 3,
    "start_time": "2023-03-13T13:40:42.939Z"
   },
   {
    "duration": 76,
    "start_time": "2023-03-13T13:40:46.918Z"
   },
   {
    "duration": 17,
    "start_time": "2023-03-13T13:40:51.657Z"
   },
   {
    "duration": 11,
    "start_time": "2023-03-13T13:46:12.128Z"
   },
   {
    "duration": 8,
    "start_time": "2023-03-13T13:46:14.428Z"
   },
   {
    "duration": 8,
    "start_time": "2023-03-13T13:46:20.812Z"
   },
   {
    "duration": 29,
    "start_time": "2023-03-13T13:46:21.379Z"
   },
   {
    "duration": 10,
    "start_time": "2023-03-13T13:46:21.868Z"
   },
   {
    "duration": 4,
    "start_time": "2023-03-13T13:46:23.451Z"
   },
   {
    "duration": 6,
    "start_time": "2023-03-13T13:46:24.552Z"
   },
   {
    "duration": 11,
    "start_time": "2023-03-13T13:50:37.865Z"
   },
   {
    "duration": 5,
    "start_time": "2023-03-13T13:51:47.000Z"
   },
   {
    "duration": 5,
    "start_time": "2023-03-13T13:51:49.314Z"
   },
   {
    "duration": 5,
    "start_time": "2023-03-13T13:51:49.767Z"
   },
   {
    "duration": 5,
    "start_time": "2023-03-13T13:52:01.449Z"
   },
   {
    "duration": 3,
    "start_time": "2023-03-13T13:52:11.713Z"
   },
   {
    "duration": 5,
    "start_time": "2023-03-13T13:52:20.639Z"
   },
   {
    "duration": 6,
    "start_time": "2023-03-13T13:53:22.701Z"
   },
   {
    "duration": 4,
    "start_time": "2023-03-13T13:53:43.957Z"
   },
   {
    "duration": 5,
    "start_time": "2023-03-13T13:53:44.457Z"
   },
   {
    "duration": 4,
    "start_time": "2023-03-13T13:53:45.942Z"
   },
   {
    "duration": 4,
    "start_time": "2023-03-13T13:53:46.805Z"
   },
   {
    "duration": 4,
    "start_time": "2023-03-13T13:53:47.941Z"
   },
   {
    "duration": 6,
    "start_time": "2023-03-13T13:54:56.970Z"
   },
   {
    "duration": 5,
    "start_time": "2023-03-13T13:54:57.434Z"
   },
   {
    "duration": 4,
    "start_time": "2023-03-13T13:54:58.732Z"
   },
   {
    "duration": 3,
    "start_time": "2023-03-13T13:54:59.417Z"
   },
   {
    "duration": 4,
    "start_time": "2023-03-13T13:55:00.349Z"
   },
   {
    "duration": 5,
    "start_time": "2023-03-13T13:55:10.556Z"
   },
   {
    "duration": 5,
    "start_time": "2023-03-13T13:55:11.476Z"
   },
   {
    "duration": 4,
    "start_time": "2023-03-13T13:55:11.990Z"
   },
   {
    "duration": 4,
    "start_time": "2023-03-13T13:55:12.557Z"
   },
   {
    "duration": 4,
    "start_time": "2023-03-13T13:55:13.223Z"
   },
   {
    "duration": 6,
    "start_time": "2023-03-13T13:55:18.643Z"
   },
   {
    "duration": 5,
    "start_time": "2023-03-13T13:55:28.228Z"
   },
   {
    "duration": 5,
    "start_time": "2023-03-13T13:55:28.834Z"
   },
   {
    "duration": 3,
    "start_time": "2023-03-13T13:55:29.704Z"
   },
   {
    "duration": 4,
    "start_time": "2023-03-13T13:55:30.302Z"
   },
   {
    "duration": 4,
    "start_time": "2023-03-13T13:55:30.894Z"
   },
   {
    "duration": 3,
    "start_time": "2023-03-13T13:55:37.402Z"
   },
   {
    "duration": 4,
    "start_time": "2023-03-13T13:55:38.911Z"
   },
   {
    "duration": 4,
    "start_time": "2023-03-13T13:55:39.594Z"
   },
   {
    "duration": 5,
    "start_time": "2023-03-13T13:56:13.207Z"
   },
   {
    "duration": 4,
    "start_time": "2023-03-13T13:56:13.849Z"
   },
   {
    "duration": 3,
    "start_time": "2023-03-13T13:56:14.447Z"
   },
   {
    "duration": 4,
    "start_time": "2023-03-13T13:56:15.026Z"
   },
   {
    "duration": 3,
    "start_time": "2023-03-13T13:56:15.664Z"
   },
   {
    "duration": 5,
    "start_time": "2023-03-13T13:59:38.460Z"
   },
   {
    "duration": 9,
    "start_time": "2023-03-13T13:59:49.803Z"
   },
   {
    "duration": 4,
    "start_time": "2023-03-13T13:59:57.651Z"
   },
   {
    "duration": 3,
    "start_time": "2023-03-13T14:00:00.779Z"
   },
   {
    "duration": 8,
    "start_time": "2023-03-13T14:00:05.891Z"
   },
   {
    "duration": 18,
    "start_time": "2023-03-13T14:00:14.357Z"
   },
   {
    "duration": 3,
    "start_time": "2023-03-13T14:00:24.822Z"
   },
   {
    "duration": 9,
    "start_time": "2023-03-13T14:01:04.592Z"
   },
   {
    "duration": 5,
    "start_time": "2023-03-13T14:01:05.967Z"
   },
   {
    "duration": 10,
    "start_time": "2023-03-13T14:01:06.571Z"
   },
   {
    "duration": 5,
    "start_time": "2023-03-13T14:01:14.330Z"
   },
   {
    "duration": 5,
    "start_time": "2023-03-13T14:01:15.645Z"
   },
   {
    "duration": 3,
    "start_time": "2023-03-13T14:01:17.723Z"
   },
   {
    "duration": 4,
    "start_time": "2023-03-13T14:01:18.528Z"
   },
   {
    "duration": 5,
    "start_time": "2023-03-13T14:01:19.700Z"
   },
   {
    "duration": 5,
    "start_time": "2023-03-13T14:01:20.408Z"
   },
   {
    "duration": 4,
    "start_time": "2023-03-13T14:01:23.038Z"
   },
   {
    "duration": 4,
    "start_time": "2023-03-13T14:01:54.634Z"
   },
   {
    "duration": 4,
    "start_time": "2023-03-13T14:02:06.712Z"
   },
   {
    "duration": 4,
    "start_time": "2023-03-13T14:02:07.936Z"
   },
   {
    "duration": 3,
    "start_time": "2023-03-13T14:21:39.594Z"
   },
   {
    "duration": 38,
    "start_time": "2023-03-13T14:21:49.426Z"
   },
   {
    "duration": 431,
    "start_time": "2023-03-13T14:29:05.755Z"
   },
   {
    "duration": 29,
    "start_time": "2023-03-13T14:30:11.421Z"
   },
   {
    "duration": 66,
    "start_time": "2023-03-13T14:30:16.488Z"
   },
   {
    "duration": 132,
    "start_time": "2023-03-13T14:30:20.591Z"
   },
   {
    "duration": 3,
    "start_time": "2023-03-13T14:32:49.754Z"
   },
   {
    "duration": 67,
    "start_time": "2023-03-13T14:32:54.010Z"
   },
   {
    "duration": 129,
    "start_time": "2023-03-13T14:32:57.814Z"
   },
   {
    "duration": 125,
    "start_time": "2023-03-13T14:33:08.445Z"
   },
   {
    "duration": 124,
    "start_time": "2023-03-13T14:33:33.297Z"
   },
   {
    "duration": 129,
    "start_time": "2023-03-13T14:33:37.630Z"
   },
   {
    "duration": 112,
    "start_time": "2023-03-13T14:33:43.736Z"
   },
   {
    "duration": 195,
    "start_time": "2023-03-13T14:33:48.964Z"
   },
   {
    "duration": 113,
    "start_time": "2023-03-13T14:33:51.968Z"
   },
   {
    "duration": 142,
    "start_time": "2023-03-13T14:34:04.094Z"
   },
   {
    "duration": 125,
    "start_time": "2023-03-13T14:34:11.149Z"
   },
   {
    "duration": 109,
    "start_time": "2023-03-13T14:34:17.547Z"
   },
   {
    "duration": 127,
    "start_time": "2023-03-13T14:34:19.838Z"
   },
   {
    "duration": 164,
    "start_time": "2023-03-13T14:35:05.818Z"
   },
   {
    "duration": 114,
    "start_time": "2023-03-13T14:35:06.549Z"
   },
   {
    "duration": 168,
    "start_time": "2023-03-13T14:35:11.797Z"
   },
   {
    "duration": 69,
    "start_time": "2023-03-13T14:35:20.748Z"
   },
   {
    "duration": 141,
    "start_time": "2023-03-13T14:35:21.473Z"
   },
   {
    "duration": 76,
    "start_time": "2023-03-13T14:35:28.501Z"
   },
   {
    "duration": 132,
    "start_time": "2023-03-13T14:35:29.023Z"
   },
   {
    "duration": 83,
    "start_time": "2023-03-13T14:36:12.352Z"
   },
   {
    "duration": 80,
    "start_time": "2023-03-13T14:36:29.094Z"
   },
   {
    "duration": 79,
    "start_time": "2023-03-13T14:36:47.535Z"
   },
   {
    "duration": 80,
    "start_time": "2023-03-13T14:36:52.693Z"
   },
   {
    "duration": 79,
    "start_time": "2023-03-13T14:37:08.342Z"
   },
   {
    "duration": 83,
    "start_time": "2023-03-13T14:37:23.775Z"
   },
   {
    "duration": 99,
    "start_time": "2023-03-13T14:38:06.468Z"
   },
   {
    "duration": 79,
    "start_time": "2023-03-13T14:40:36.530Z"
   },
   {
    "duration": 82,
    "start_time": "2023-03-13T14:41:00.670Z"
   },
   {
    "duration": 75,
    "start_time": "2023-03-13T14:41:04.731Z"
   },
   {
    "duration": 79,
    "start_time": "2023-03-13T14:41:24.795Z"
   },
   {
    "duration": 76,
    "start_time": "2023-03-13T14:41:35.129Z"
   },
   {
    "duration": 80,
    "start_time": "2023-03-13T14:43:15.639Z"
   },
   {
    "duration": 72,
    "start_time": "2023-03-13T14:43:19.169Z"
   },
   {
    "duration": 144,
    "start_time": "2023-03-13T14:43:23.628Z"
   },
   {
    "duration": 81,
    "start_time": "2023-03-13T14:43:37.493Z"
   },
   {
    "duration": 134,
    "start_time": "2023-03-13T14:43:39.437Z"
   },
   {
    "duration": 79,
    "start_time": "2023-03-13T14:43:42.819Z"
   },
   {
    "duration": 76,
    "start_time": "2023-03-13T14:43:44.504Z"
   },
   {
    "duration": 75,
    "start_time": "2023-03-13T14:44:29.121Z"
   },
   {
    "duration": 135,
    "start_time": "2023-03-13T14:44:31.266Z"
   },
   {
    "duration": 97,
    "start_time": "2023-03-13T14:44:34.119Z"
   },
   {
    "duration": 223,
    "start_time": "2023-03-13T14:44:35.293Z"
   },
   {
    "duration": 87,
    "start_time": "2023-03-13T14:44:36.008Z"
   },
   {
    "duration": 130,
    "start_time": "2023-03-13T14:44:36.731Z"
   },
   {
    "duration": 83,
    "start_time": "2023-03-13T14:44:37.324Z"
   },
   {
    "duration": 136,
    "start_time": "2023-03-13T14:44:38.048Z"
   },
   {
    "duration": 73,
    "start_time": "2023-03-13T14:44:38.668Z"
   },
   {
    "duration": 125,
    "start_time": "2023-03-13T14:44:39.362Z"
   },
   {
    "duration": 79,
    "start_time": "2023-03-13T14:44:39.997Z"
   },
   {
    "duration": 131,
    "start_time": "2023-03-13T14:44:40.698Z"
   },
   {
    "duration": 77,
    "start_time": "2023-03-13T14:44:41.325Z"
   },
   {
    "duration": 133,
    "start_time": "2023-03-13T14:44:42.040Z"
   },
   {
    "duration": 79,
    "start_time": "2023-03-13T14:44:42.698Z"
   },
   {
    "duration": 133,
    "start_time": "2023-03-13T14:44:43.361Z"
   },
   {
    "duration": 87,
    "start_time": "2023-03-13T14:44:43.995Z"
   },
   {
    "duration": 127,
    "start_time": "2023-03-13T14:44:44.774Z"
   },
   {
    "duration": 85,
    "start_time": "2023-03-13T14:44:45.392Z"
   },
   {
    "duration": 139,
    "start_time": "2023-03-13T14:44:46.086Z"
   },
   {
    "duration": 74,
    "start_time": "2023-03-13T14:44:56.846Z"
   },
   {
    "duration": 137,
    "start_time": "2023-03-13T14:44:58.571Z"
   },
   {
    "duration": 86,
    "start_time": "2023-03-13T14:45:00.912Z"
   },
   {
    "duration": 86,
    "start_time": "2023-03-13T14:45:02.193Z"
   },
   {
    "duration": 102,
    "start_time": "2023-03-13T14:45:04.169Z"
   },
   {
    "duration": 133,
    "start_time": "2023-03-13T14:45:05.366Z"
   },
   {
    "duration": 84,
    "start_time": "2023-03-13T14:45:10.865Z"
   },
   {
    "duration": 80,
    "start_time": "2023-03-13T14:45:13.305Z"
   },
   {
    "duration": 81,
    "start_time": "2023-03-13T14:45:14.343Z"
   },
   {
    "duration": 73,
    "start_time": "2023-03-13T14:45:18.525Z"
   },
   {
    "duration": 125,
    "start_time": "2023-03-13T14:45:21.178Z"
   },
   {
    "duration": 93,
    "start_time": "2023-03-13T14:47:55.221Z"
   },
   {
    "duration": 99,
    "start_time": "2023-03-13T14:48:13.196Z"
   },
   {
    "duration": 215,
    "start_time": "2023-03-13T14:48:14.533Z"
   },
   {
    "duration": 98,
    "start_time": "2023-03-13T14:48:15.541Z"
   },
   {
    "duration": 134,
    "start_time": "2023-03-13T14:48:16.174Z"
   },
   {
    "duration": 99,
    "start_time": "2023-03-13T14:48:39.345Z"
   },
   {
    "duration": 145,
    "start_time": "2023-03-13T14:48:40.847Z"
   },
   {
    "duration": 11,
    "start_time": "2023-03-13T14:49:19.971Z"
   },
   {
    "duration": 93,
    "start_time": "2023-03-13T14:49:21.549Z"
   },
   {
    "duration": 118,
    "start_time": "2023-03-13T14:49:23.161Z"
   },
   {
    "duration": 100,
    "start_time": "2023-03-13T14:49:33.216Z"
   },
   {
    "duration": 126,
    "start_time": "2023-03-13T14:49:34.449Z"
   },
   {
    "duration": 95,
    "start_time": "2023-03-13T14:50:14.731Z"
   },
   {
    "duration": 128,
    "start_time": "2023-03-13T14:50:15.674Z"
   },
   {
    "duration": 241,
    "start_time": "2023-03-13T14:50:31.231Z"
   },
   {
    "duration": 249,
    "start_time": "2023-03-13T14:50:49.294Z"
   },
   {
    "duration": 142,
    "start_time": "2023-03-13T14:51:10.088Z"
   },
   {
    "duration": 98,
    "start_time": "2023-03-13T14:51:11.514Z"
   },
   {
    "duration": 132,
    "start_time": "2023-03-13T14:51:12.526Z"
   },
   {
    "duration": 98,
    "start_time": "2023-03-13T14:52:04.996Z"
   },
   {
    "duration": 129,
    "start_time": "2023-03-13T14:52:06.625Z"
   },
   {
    "duration": 106,
    "start_time": "2023-03-13T14:52:50.298Z"
   },
   {
    "duration": 140,
    "start_time": "2023-03-13T14:52:51.852Z"
   },
   {
    "duration": 72,
    "start_time": "2023-03-13T14:54:28.394Z"
   },
   {
    "duration": 11,
    "start_time": "2023-03-13T14:54:32.336Z"
   },
   {
    "duration": 99,
    "start_time": "2023-03-13T14:54:36.131Z"
   },
   {
    "duration": 37901,
    "start_time": "2023-03-13T14:54:37.927Z"
   },
   {
    "duration": 123,
    "start_time": "2023-03-13T14:55:35.114Z"
   },
   {
    "duration": 129,
    "start_time": "2023-03-13T14:55:59.738Z"
   },
   {
    "duration": 78,
    "start_time": "2023-03-13T14:57:19.713Z"
   },
   {
    "duration": 1251,
    "start_time": "2023-03-13T14:57:57.505Z"
   },
   {
    "duration": 131,
    "start_time": "2023-03-13T14:58:02.564Z"
   },
   {
    "duration": 17121,
    "start_time": "2023-03-13T14:58:11.200Z"
   },
   {
    "duration": 5,
    "start_time": "2023-03-13T14:58:32.399Z"
   },
   {
    "duration": 153,
    "start_time": "2023-03-13T14:58:46.135Z"
   },
   {
    "duration": 16361,
    "start_time": "2023-03-13T15:03:01.967Z"
   },
   {
    "duration": 142,
    "start_time": "2023-03-13T15:03:18.331Z"
   },
   {
    "duration": 145,
    "start_time": "2023-03-13T15:03:23.649Z"
   },
   {
    "duration": 39323,
    "start_time": "2023-03-13T15:04:35.698Z"
   },
   {
    "duration": 138,
    "start_time": "2023-03-13T15:05:16.504Z"
   },
   {
    "duration": 44406,
    "start_time": "2023-03-13T15:05:45.750Z"
   },
   {
    "duration": 154,
    "start_time": "2023-03-13T15:06:30.158Z"
   },
   {
    "duration": 155,
    "start_time": "2023-03-13T15:06:36.330Z"
   },
   {
    "duration": 151,
    "start_time": "2023-03-13T15:06:45.296Z"
   },
   {
    "duration": 69,
    "start_time": "2023-03-13T15:07:31.876Z"
   },
   {
    "duration": 129,
    "start_time": "2023-03-13T15:07:44.916Z"
   },
   {
    "duration": 9076,
    "start_time": "2023-03-13T15:07:52.741Z"
   },
   {
    "duration": 140,
    "start_time": "2023-03-13T15:08:01.819Z"
   },
   {
    "duration": 137,
    "start_time": "2023-03-13T15:08:12.429Z"
   },
   {
    "duration": 190,
    "start_time": "2023-03-13T15:09:01.658Z"
   },
   {
    "duration": 7897,
    "start_time": "2023-03-13T15:09:10.193Z"
   },
   {
    "duration": 153,
    "start_time": "2023-03-13T15:09:18.092Z"
   },
   {
    "duration": 147,
    "start_time": "2023-03-13T15:09:24.358Z"
   },
   {
    "duration": 15336,
    "start_time": "2023-03-13T15:11:30.621Z"
   },
   {
    "duration": 70848,
    "start_time": "2023-03-13T15:12:04.229Z"
   },
   {
    "duration": 143,
    "start_time": "2023-03-13T15:13:17.579Z"
   },
   {
    "duration": 181,
    "start_time": "2023-03-13T15:14:04.035Z"
   },
   {
    "duration": 90723,
    "start_time": "2023-03-13T15:15:43.923Z"
   },
   {
    "duration": 142,
    "start_time": "2023-03-13T15:17:19.210Z"
   },
   {
    "duration": 3,
    "start_time": "2023-03-13T15:22:51.657Z"
   },
   {
    "duration": 38,
    "start_time": "2023-03-13T15:39:55.820Z"
   },
   {
    "duration": 144,
    "start_time": "2023-03-13T15:40:20.577Z"
   },
   {
    "duration": 114,
    "start_time": "2023-03-13T15:40:22.538Z"
   },
   {
    "duration": 136,
    "start_time": "2023-03-13T15:40:44.897Z"
   },
   {
    "duration": 124,
    "start_time": "2023-03-13T15:40:45.934Z"
   },
   {
    "duration": 157,
    "start_time": "2023-03-13T15:40:46.594Z"
   },
   {
    "duration": 122,
    "start_time": "2023-03-13T15:40:47.264Z"
   },
   {
    "duration": 142,
    "start_time": "2023-03-13T15:40:47.930Z"
   },
   {
    "duration": 151,
    "start_time": "2023-03-13T15:40:48.700Z"
   },
   {
    "duration": 158,
    "start_time": "2023-03-13T15:40:49.475Z"
   },
   {
    "duration": 168,
    "start_time": "2023-03-13T15:40:56.777Z"
   },
   {
    "duration": 50,
    "start_time": "2023-03-13T15:40:59.765Z"
   },
   {
    "duration": 63,
    "start_time": "2023-03-13T15:41:04.571Z"
   },
   {
    "duration": 150,
    "start_time": "2023-03-13T15:41:07.404Z"
   },
   {
    "duration": 57,
    "start_time": "2023-03-13T15:41:09.831Z"
   },
   {
    "duration": 104,
    "start_time": "2023-03-13T15:41:13.245Z"
   },
   {
    "duration": 149,
    "start_time": "2023-03-13T15:41:17.748Z"
   },
   {
    "duration": 144,
    "start_time": "2023-03-13T15:41:20.643Z"
   },
   {
    "duration": 144,
    "start_time": "2023-03-13T15:41:25.739Z"
   },
   {
    "duration": 145,
    "start_time": "2023-03-13T15:41:28.313Z"
   },
   {
    "duration": 67,
    "start_time": "2023-03-13T15:41:50.450Z"
   },
   {
    "duration": 189,
    "start_time": "2023-03-13T15:41:54.056Z"
   },
   {
    "duration": 146,
    "start_time": "2023-03-13T15:42:08.116Z"
   },
   {
    "duration": 151,
    "start_time": "2023-03-13T15:42:09.613Z"
   },
   {
    "duration": 146,
    "start_time": "2023-03-13T15:42:19.688Z"
   },
   {
    "duration": 163,
    "start_time": "2023-03-13T15:42:49.458Z"
   },
   {
    "duration": 138,
    "start_time": "2023-03-13T15:42:51.294Z"
   },
   {
    "duration": 146,
    "start_time": "2023-03-13T15:43:16.694Z"
   },
   {
    "duration": 151,
    "start_time": "2023-03-13T15:43:18.029Z"
   },
   {
    "duration": 144,
    "start_time": "2023-03-13T15:43:20.972Z"
   },
   {
    "duration": 141,
    "start_time": "2023-03-13T15:43:22.770Z"
   },
   {
    "duration": 127,
    "start_time": "2023-03-13T15:43:27.974Z"
   },
   {
    "duration": 122,
    "start_time": "2023-03-13T15:43:36.749Z"
   },
   {
    "duration": 90,
    "start_time": "2023-03-13T15:43:49.997Z"
   },
   {
    "duration": 170,
    "start_time": "2023-03-13T15:43:55.444Z"
   },
   {
    "duration": 74,
    "start_time": "2023-03-13T15:45:13.054Z"
   },
   {
    "duration": 43,
    "start_time": "2023-03-13T15:45:18.434Z"
   },
   {
    "duration": 43,
    "start_time": "2023-03-13T15:45:19.616Z"
   },
   {
    "duration": 166,
    "start_time": "2023-03-13T15:45:25.556Z"
   },
   {
    "duration": 13,
    "start_time": "2023-03-13T15:45:53.644Z"
   },
   {
    "duration": 144,
    "start_time": "2023-03-13T15:46:06.894Z"
   },
   {
    "duration": 120,
    "start_time": "2023-03-13T15:46:08.379Z"
   },
   {
    "duration": 126,
    "start_time": "2023-03-13T15:47:19.522Z"
   },
   {
    "duration": 148,
    "start_time": "2023-03-13T15:49:05.977Z"
   },
   {
    "duration": 163,
    "start_time": "2023-03-13T15:49:07.444Z"
   },
   {
    "duration": 111,
    "start_time": "2023-03-13T15:49:14.804Z"
   },
   {
    "duration": 7,
    "start_time": "2023-03-13T15:52:47.678Z"
   },
   {
    "duration": 85,
    "start_time": "2023-03-13T15:52:49.297Z"
   },
   {
    "duration": 117,
    "start_time": "2023-03-13T15:56:37.078Z"
   },
   {
    "duration": 218,
    "start_time": "2023-03-13T15:57:44.337Z"
   },
   {
    "duration": 7,
    "start_time": "2023-03-13T15:58:31.439Z"
   },
   {
    "duration": 668,
    "start_time": "2023-03-13T15:58:38.293Z"
   },
   {
    "duration": 132,
    "start_time": "2023-03-13T15:59:08.573Z"
   },
   {
    "duration": 676,
    "start_time": "2023-03-13T15:59:58.997Z"
   },
   {
    "duration": 1359,
    "start_time": "2023-03-13T16:01:05.901Z"
   },
   {
    "duration": 180,
    "start_time": "2023-03-13T16:06:40.098Z"
   },
   {
    "duration": 192,
    "start_time": "2023-03-13T16:06:57.597Z"
   },
   {
    "duration": 616,
    "start_time": "2023-03-13T16:24:50.149Z"
   },
   {
    "duration": 573,
    "start_time": "2023-03-13T16:26:35.117Z"
   },
   {
    "duration": 13,
    "start_time": "2023-03-13T16:33:46.114Z"
   },
   {
    "duration": 1120,
    "start_time": "2023-03-13T16:34:41.153Z"
   },
   {
    "duration": 1161,
    "start_time": "2023-03-13T16:34:55.361Z"
   },
   {
    "duration": 3,
    "start_time": "2023-03-13T16:35:22.801Z"
   },
   {
    "duration": 1146,
    "start_time": "2023-03-13T16:35:24.953Z"
   },
   {
    "duration": 49,
    "start_time": "2023-03-13T16:36:58.029Z"
   },
   {
    "duration": 1325,
    "start_time": "2023-03-13T16:37:05.569Z"
   },
   {
    "duration": 87,
    "start_time": "2023-03-13T16:37:06.896Z"
   },
   {
    "duration": 14,
    "start_time": "2023-03-13T16:37:06.984Z"
   },
   {
    "duration": 4,
    "start_time": "2023-03-13T16:37:07.000Z"
   },
   {
    "duration": 5,
    "start_time": "2023-03-13T16:37:07.005Z"
   },
   {
    "duration": 5,
    "start_time": "2023-03-13T16:37:07.012Z"
   },
   {
    "duration": 4,
    "start_time": "2023-03-13T16:37:07.019Z"
   },
   {
    "duration": 5,
    "start_time": "2023-03-13T16:37:07.025Z"
   },
   {
    "duration": 5,
    "start_time": "2023-03-13T16:37:07.032Z"
   },
   {
    "duration": 4,
    "start_time": "2023-03-13T16:37:07.039Z"
   },
   {
    "duration": 101,
    "start_time": "2023-03-13T16:37:07.044Z"
   },
   {
    "duration": 111,
    "start_time": "2023-03-13T16:37:07.147Z"
   },
   {
    "duration": 155,
    "start_time": "2023-03-13T16:37:07.260Z"
   },
   {
    "duration": 23,
    "start_time": "2023-03-13T16:37:07.417Z"
   },
   {
    "duration": 62184,
    "start_time": "2023-03-13T16:37:07.442Z"
   },
   {
    "duration": 130,
    "start_time": "2023-03-13T16:38:09.628Z"
   },
   {
    "duration": 3,
    "start_time": "2023-03-13T16:38:09.760Z"
   },
   {
    "duration": 142,
    "start_time": "2023-03-13T16:38:09.764Z"
   },
   {
    "duration": 118,
    "start_time": "2023-03-13T16:38:09.912Z"
   },
   {
    "duration": 6,
    "start_time": "2023-03-13T16:38:10.032Z"
   },
   {
    "duration": 17,
    "start_time": "2023-03-13T16:38:10.039Z"
   },
   {
    "duration": 52,
    "start_time": "2023-03-13T16:39:13.770Z"
   },
   {
    "duration": 898,
    "start_time": "2023-03-13T16:39:21.850Z"
   },
   {
    "duration": 430,
    "start_time": "2023-03-13T16:39:26.114Z"
   },
   {
    "duration": 75,
    "start_time": "2023-03-13T16:39:26.860Z"
   },
   {
    "duration": 14,
    "start_time": "2023-03-13T16:39:27.670Z"
   },
   {
    "duration": 6,
    "start_time": "2023-03-13T16:39:29.108Z"
   },
   {
    "duration": 4,
    "start_time": "2023-03-13T16:39:30.563Z"
   },
   {
    "duration": 6,
    "start_time": "2023-03-13T16:39:31.308Z"
   },
   {
    "duration": 4,
    "start_time": "2023-03-13T16:39:31.895Z"
   },
   {
    "duration": 3,
    "start_time": "2023-03-13T16:39:34.956Z"
   },
   {
    "duration": 75,
    "start_time": "2023-03-13T16:39:38.547Z"
   },
   {
    "duration": 3,
    "start_time": "2023-03-13T16:39:41.764Z"
   },
   {
    "duration": 54,
    "start_time": "2023-03-13T20:04:09.790Z"
   },
   {
    "duration": 1598,
    "start_time": "2023-03-13T20:04:15.371Z"
   },
   {
    "duration": 133,
    "start_time": "2023-03-13T20:04:17.233Z"
   },
   {
    "duration": 5,
    "start_time": "2023-03-13T20:04:18.813Z"
   },
   {
    "duration": 5,
    "start_time": "2023-03-13T20:04:19.729Z"
   },
   {
    "duration": 5,
    "start_time": "2023-03-13T20:04:20.320Z"
   },
   {
    "duration": 45,
    "start_time": "2023-03-13T20:04:21.998Z"
   },
   {
    "duration": 126,
    "start_time": "2023-03-13T20:04:27.217Z"
   },
   {
    "duration": 161,
    "start_time": "2023-03-13T20:04:28.948Z"
   },
   {
    "duration": 6,
    "start_time": "2023-03-13T20:04:34.532Z"
   },
   {
    "duration": 411,
    "start_time": "2023-03-13T20:04:36.123Z"
   },
   {
    "duration": 50,
    "start_time": "2023-03-13T20:06:51.611Z"
   },
   {
    "duration": 1400,
    "start_time": "2023-03-13T20:06:55.911Z"
   },
   {
    "duration": 130,
    "start_time": "2023-03-13T20:06:57.314Z"
   },
   {
    "duration": 15,
    "start_time": "2023-03-13T20:06:57.446Z"
   },
   {
    "duration": 7,
    "start_time": "2023-03-13T20:06:57.464Z"
   },
   {
    "duration": 8,
    "start_time": "2023-03-13T20:06:57.473Z"
   },
   {
    "duration": 13,
    "start_time": "2023-03-13T20:06:57.483Z"
   },
   {
    "duration": 11,
    "start_time": "2023-03-13T20:06:57.498Z"
   },
   {
    "duration": 6,
    "start_time": "2023-03-13T20:06:57.511Z"
   },
   {
    "duration": 10,
    "start_time": "2023-03-13T20:06:57.519Z"
   },
   {
    "duration": 7,
    "start_time": "2023-03-13T20:06:57.532Z"
   },
   {
    "duration": 62,
    "start_time": "2023-03-13T20:06:57.540Z"
   },
   {
    "duration": 142,
    "start_time": "2023-03-13T20:06:57.604Z"
   },
   {
    "duration": 191,
    "start_time": "2023-03-13T20:06:57.748Z"
   },
   {
    "duration": 13,
    "start_time": "2023-03-13T20:06:57.941Z"
   },
   {
    "duration": 67652,
    "start_time": "2023-03-13T20:06:57.965Z"
   },
   {
    "duration": 149,
    "start_time": "2023-03-13T20:08:05.619Z"
   },
   {
    "duration": 3,
    "start_time": "2023-03-13T20:08:05.770Z"
   },
   {
    "duration": 165,
    "start_time": "2023-03-13T20:08:05.774Z"
   },
   {
    "duration": 143,
    "start_time": "2023-03-13T20:08:05.941Z"
   },
   {
    "duration": 8,
    "start_time": "2023-03-13T20:08:06.085Z"
   },
   {
    "duration": 99,
    "start_time": "2023-03-13T20:08:06.095Z"
   },
   {
    "duration": 87,
    "start_time": "2023-03-13T20:08:47.501Z"
   },
   {
    "duration": 9,
    "start_time": "2023-03-13T20:10:47.042Z"
   },
   {
    "duration": 122,
    "start_time": "2023-03-13T20:11:19.145Z"
   },
   {
    "duration": 2,
    "start_time": "2023-03-13T20:11:30.610Z"
   },
   {
    "duration": 8,
    "start_time": "2023-03-13T20:11:32.047Z"
   },
   {
    "duration": 25,
    "start_time": "2023-03-13T20:11:33.156Z"
   },
   {
    "duration": 11,
    "start_time": "2023-03-13T20:18:52.012Z"
   },
   {
    "duration": 11,
    "start_time": "2023-03-13T20:18:58.667Z"
   },
   {
    "duration": 10,
    "start_time": "2023-03-13T20:18:59.854Z"
   },
   {
    "duration": 10,
    "start_time": "2023-03-13T20:19:05.667Z"
   },
   {
    "duration": 306,
    "start_time": "2023-03-13T20:20:47.639Z"
   },
   {
    "duration": 154,
    "start_time": "2023-03-13T20:21:09.727Z"
   },
   {
    "duration": 203,
    "start_time": "2023-03-13T20:21:21.916Z"
   },
   {
    "duration": 156,
    "start_time": "2023-03-13T20:21:25.228Z"
   },
   {
    "duration": 392,
    "start_time": "2023-03-13T20:25:39.788Z"
   },
   {
    "duration": 239,
    "start_time": "2023-03-13T20:26:10.909Z"
   },
   {
    "duration": 187,
    "start_time": "2023-03-13T20:27:31.605Z"
   },
   {
    "duration": 207,
    "start_time": "2023-03-13T20:27:36.510Z"
   },
   {
    "duration": 201,
    "start_time": "2023-03-13T20:27:39.391Z"
   },
   {
    "duration": 236,
    "start_time": "2023-03-13T20:27:43.915Z"
   },
   {
    "duration": 218,
    "start_time": "2023-03-13T20:27:49.230Z"
   },
   {
    "duration": 226,
    "start_time": "2023-03-13T20:27:53.904Z"
   },
   {
    "duration": 222,
    "start_time": "2023-03-13T20:27:56.675Z"
   },
   {
    "duration": 225,
    "start_time": "2023-03-13T20:27:59.503Z"
   },
   {
    "duration": 4,
    "start_time": "2023-03-13T20:29:48.677Z"
   },
   {
    "duration": 7,
    "start_time": "2023-03-13T20:30:19.623Z"
   },
   {
    "duration": 4,
    "start_time": "2023-03-13T20:35:46.770Z"
   },
   {
    "duration": 5,
    "start_time": "2023-03-13T20:35:55.467Z"
   },
   {
    "duration": 14,
    "start_time": "2023-03-13T20:36:11.657Z"
   },
   {
    "duration": 9,
    "start_time": "2023-03-13T20:36:15.872Z"
   },
   {
    "duration": 7,
    "start_time": "2023-03-13T20:36:46.989Z"
   },
   {
    "duration": 6,
    "start_time": "2023-03-13T20:36:51.234Z"
   },
   {
    "duration": 3,
    "start_time": "2023-03-13T20:38:03.515Z"
   },
   {
    "duration": 39,
    "start_time": "2023-03-13T20:38:07.792Z"
   },
   {
    "duration": 3,
    "start_time": "2023-03-13T20:38:20.067Z"
   },
   {
    "duration": 7,
    "start_time": "2023-03-13T20:38:22.027Z"
   },
   {
    "duration": 7,
    "start_time": "2023-03-13T20:38:29.553Z"
   },
   {
    "duration": 3,
    "start_time": "2023-03-13T20:38:46.901Z"
   },
   {
    "duration": 8,
    "start_time": "2023-03-13T20:38:47.688Z"
   },
   {
    "duration": 8,
    "start_time": "2023-03-13T20:38:48.478Z"
   },
   {
    "duration": 6,
    "start_time": "2023-03-13T20:39:08.391Z"
   },
   {
    "duration": 3,
    "start_time": "2023-03-13T20:39:49.354Z"
   },
   {
    "duration": 7,
    "start_time": "2023-03-13T20:39:49.889Z"
   },
   {
    "duration": 7,
    "start_time": "2023-03-13T20:39:51.492Z"
   },
   {
    "duration": 6,
    "start_time": "2023-03-13T20:39:52.124Z"
   },
   {
    "duration": 7,
    "start_time": "2023-03-13T20:47:16.472Z"
   },
   {
    "duration": 38,
    "start_time": "2023-03-13T20:49:29.280Z"
   },
   {
    "duration": 50,
    "start_time": "2023-03-13T20:50:29.691Z"
   },
   {
    "duration": 5,
    "start_time": "2023-03-13T20:50:36.435Z"
   },
   {
    "duration": 69,
    "start_time": "2023-03-13T20:54:18.033Z"
   },
   {
    "duration": 4,
    "start_time": "2023-03-13T20:54:23.692Z"
   },
   {
    "duration": 4,
    "start_time": "2023-03-13T20:54:45.097Z"
   },
   {
    "duration": 29,
    "start_time": "2023-03-13T20:54:46.700Z"
   },
   {
    "duration": 4,
    "start_time": "2023-03-13T20:54:52.038Z"
   },
   {
    "duration": 11,
    "start_time": "2023-03-13T20:54:53.494Z"
   },
   {
    "duration": 12,
    "start_time": "2023-03-13T20:54:54.471Z"
   },
   {
    "duration": 3,
    "start_time": "2023-03-13T21:01:58.339Z"
   },
   {
    "duration": 9,
    "start_time": "2023-03-13T21:01:59.215Z"
   },
   {
    "duration": 9,
    "start_time": "2023-03-13T21:04:03.477Z"
   },
   {
    "duration": 62,
    "start_time": "2023-03-13T21:46:40.596Z"
   },
   {
    "duration": 4,
    "start_time": "2023-03-13T21:46:46.078Z"
   },
   {
    "duration": 19,
    "start_time": "2023-03-13T21:46:48.131Z"
   },
   {
    "duration": 4,
    "start_time": "2023-03-13T21:47:02.503Z"
   },
   {
    "duration": 3,
    "start_time": "2023-03-13T21:47:07.440Z"
   },
   {
    "duration": 18,
    "start_time": "2023-03-13T21:47:09.228Z"
   },
   {
    "duration": 19,
    "start_time": "2023-03-13T21:47:10.595Z"
   },
   {
    "duration": 3,
    "start_time": "2023-03-13T21:47:44.046Z"
   },
   {
    "duration": 9,
    "start_time": "2023-03-13T21:47:45.624Z"
   },
   {
    "duration": 9,
    "start_time": "2023-03-13T21:47:48.169Z"
   },
   {
    "duration": 7,
    "start_time": "2023-03-13T21:47:54.051Z"
   },
   {
    "duration": 84,
    "start_time": "2023-03-13T21:47:54.800Z"
   },
   {
    "duration": 151,
    "start_time": "2023-03-13T21:49:23.616Z"
   },
   {
    "duration": 9,
    "start_time": "2023-03-13T21:50:49.125Z"
   },
   {
    "duration": 120,
    "start_time": "2023-03-13T21:52:21.506Z"
   },
   {
    "duration": 116,
    "start_time": "2023-03-13T21:52:23.768Z"
   },
   {
    "duration": 6,
    "start_time": "2023-03-13T21:52:41.840Z"
   },
   {
    "duration": 6,
    "start_time": "2023-03-13T21:52:47.619Z"
   },
   {
    "duration": 127,
    "start_time": "2023-03-13T21:52:49.187Z"
   },
   {
    "duration": 5,
    "start_time": "2023-03-13T21:54:32.424Z"
   },
   {
    "duration": 6,
    "start_time": "2023-03-13T21:54:35.949Z"
   },
   {
    "duration": 5,
    "start_time": "2023-03-13T21:54:37.693Z"
   },
   {
    "duration": 5,
    "start_time": "2023-03-13T21:54:46.491Z"
   },
   {
    "duration": 5,
    "start_time": "2023-03-13T21:54:47.235Z"
   },
   {
    "duration": 5,
    "start_time": "2023-03-13T21:54:50.714Z"
   },
   {
    "duration": 5,
    "start_time": "2023-03-13T21:54:51.693Z"
   },
   {
    "duration": 115,
    "start_time": "2023-03-13T21:54:57.666Z"
   },
   {
    "duration": 167,
    "start_time": "2023-03-13T21:56:02.526Z"
   },
   {
    "duration": 161,
    "start_time": "2023-03-13T21:56:05.367Z"
   },
   {
    "duration": 149,
    "start_time": "2023-03-13T21:56:25.975Z"
   },
   {
    "duration": 7,
    "start_time": "2023-03-13T21:56:33.166Z"
   },
   {
    "duration": 105,
    "start_time": "2023-03-13T21:56:34.020Z"
   },
   {
    "duration": 7,
    "start_time": "2023-03-13T21:56:35.592Z"
   },
   {
    "duration": 86,
    "start_time": "2023-03-13T21:56:36.091Z"
   },
   {
    "duration": 5,
    "start_time": "2023-03-13T21:56:54.990Z"
   },
   {
    "duration": 115,
    "start_time": "2023-03-13T21:57:51.399Z"
   },
   {
    "duration": 10,
    "start_time": "2023-03-13T21:57:58.755Z"
   },
   {
    "duration": 9,
    "start_time": "2023-03-13T21:58:01.131Z"
   },
   {
    "duration": 3,
    "start_time": "2023-03-13T21:58:02.624Z"
   },
   {
    "duration": 10,
    "start_time": "2023-03-13T21:58:03.591Z"
   },
   {
    "duration": 8,
    "start_time": "2023-03-13T21:58:15.851Z"
   },
   {
    "duration": 8,
    "start_time": "2023-03-13T21:58:16.700Z"
   },
   {
    "duration": 116,
    "start_time": "2023-03-13T22:00:17.463Z"
   },
   {
    "duration": 1425,
    "start_time": "2023-03-13T22:00:29.423Z"
   },
   {
    "duration": 33,
    "start_time": "2023-03-13T22:00:30.850Z"
   },
   {
    "duration": 24,
    "start_time": "2023-03-13T22:00:30.884Z"
   },
   {
    "duration": 56,
    "start_time": "2023-03-13T22:00:30.910Z"
   },
   {
    "duration": 49,
    "start_time": "2023-03-13T22:00:30.968Z"
   },
   {
    "duration": 48,
    "start_time": "2023-03-13T22:00:31.019Z"
   },
   {
    "duration": 50,
    "start_time": "2023-03-13T22:00:31.069Z"
   },
   {
    "duration": 32,
    "start_time": "2023-03-13T22:00:31.121Z"
   },
   {
    "duration": 57,
    "start_time": "2023-03-13T22:00:31.155Z"
   },
   {
    "duration": 42,
    "start_time": "2023-03-13T22:00:31.216Z"
   },
   {
    "duration": 104,
    "start_time": "2023-03-13T22:00:31.260Z"
   },
   {
    "duration": 125,
    "start_time": "2023-03-13T22:00:31.366Z"
   },
   {
    "duration": 173,
    "start_time": "2023-03-13T22:00:31.493Z"
   },
   {
    "duration": 11,
    "start_time": "2023-03-13T22:00:31.668Z"
   },
   {
    "duration": 67784,
    "start_time": "2023-03-13T22:00:31.681Z"
   },
   {
    "duration": 148,
    "start_time": "2023-03-13T22:01:39.466Z"
   },
   {
    "duration": 3,
    "start_time": "2023-03-13T22:01:39.616Z"
   },
   {
    "duration": 160,
    "start_time": "2023-03-13T22:01:39.621Z"
   },
   {
    "duration": 128,
    "start_time": "2023-03-13T22:01:39.783Z"
   },
   {
    "duration": 8,
    "start_time": "2023-03-13T22:01:39.912Z"
   },
   {
    "duration": 7,
    "start_time": "2023-03-13T22:01:39.922Z"
   },
   {
    "duration": 104,
    "start_time": "2023-03-13T22:01:39.931Z"
   },
   {
    "duration": 119,
    "start_time": "2023-03-13T22:01:40.037Z"
   },
   {
    "duration": 0,
    "start_time": "2023-03-13T22:01:40.158Z"
   },
   {
    "duration": 0,
    "start_time": "2023-03-13T22:01:40.164Z"
   },
   {
    "duration": 0,
    "start_time": "2023-03-13T22:01:40.166Z"
   },
   {
    "duration": 0,
    "start_time": "2023-03-13T22:01:40.167Z"
   },
   {
    "duration": 0,
    "start_time": "2023-03-13T22:01:40.168Z"
   },
   {
    "duration": 4,
    "start_time": "2023-03-13T22:02:31.192Z"
   },
   {
    "duration": 5,
    "start_time": "2023-03-13T22:02:57.426Z"
   },
   {
    "duration": 143,
    "start_time": "2023-03-13T22:03:13.210Z"
   },
   {
    "duration": 3,
    "start_time": "2023-03-13T22:03:17.506Z"
   },
   {
    "duration": 5,
    "start_time": "2023-03-13T22:03:18.728Z"
   },
   {
    "duration": 5,
    "start_time": "2023-03-13T22:03:19.514Z"
   },
   {
    "duration": 5,
    "start_time": "2023-03-13T22:03:20.462Z"
   },
   {
    "duration": 148,
    "start_time": "2023-03-13T22:03:27.593Z"
   },
   {
    "duration": 6,
    "start_time": "2023-03-13T22:03:33.908Z"
   },
   {
    "duration": 156,
    "start_time": "2023-03-13T22:04:03.137Z"
   },
   {
    "duration": 144,
    "start_time": "2023-03-13T22:04:31.741Z"
   },
   {
    "duration": 7,
    "start_time": "2023-03-13T22:05:03.772Z"
   },
   {
    "duration": 4,
    "start_time": "2023-03-13T22:05:06.993Z"
   },
   {
    "duration": 7,
    "start_time": "2023-03-13T22:05:22.316Z"
   },
   {
    "duration": 10,
    "start_time": "2023-03-13T22:05:41.602Z"
   },
   {
    "duration": 10,
    "start_time": "2023-03-13T22:05:47.351Z"
   },
   {
    "duration": 3,
    "start_time": "2023-03-13T22:07:28.968Z"
   },
   {
    "duration": 10,
    "start_time": "2023-03-13T22:07:29.953Z"
   },
   {
    "duration": 18,
    "start_time": "2023-03-13T22:07:53.114Z"
   },
   {
    "duration": 6,
    "start_time": "2023-03-13T22:08:03.597Z"
   },
   {
    "duration": 8,
    "start_time": "2023-03-13T22:08:10.975Z"
   },
   {
    "duration": 87,
    "start_time": "2023-03-13T22:08:22.420Z"
   },
   {
    "duration": 11,
    "start_time": "2023-03-13T22:08:33.992Z"
   },
   {
    "duration": 84,
    "start_time": "2023-03-13T22:08:35.150Z"
   },
   {
    "duration": 5,
    "start_time": "2023-03-13T22:09:35.812Z"
   },
   {
    "duration": 104,
    "start_time": "2023-03-13T22:10:26.464Z"
   },
   {
    "duration": 151,
    "start_time": "2023-03-13T22:10:31.561Z"
   },
   {
    "duration": 11,
    "start_time": "2023-03-13T22:10:46.139Z"
   },
   {
    "duration": 43,
    "start_time": "2023-03-13T22:11:55.093Z"
   },
   {
    "duration": 157,
    "start_time": "2023-03-13T22:12:01.804Z"
   },
   {
    "duration": 109,
    "start_time": "2023-03-13T22:12:26.474Z"
   },
   {
    "duration": 11,
    "start_time": "2023-03-13T22:12:39.411Z"
   },
   {
    "duration": 11,
    "start_time": "2023-03-13T22:12:40.639Z"
   },
   {
    "duration": 11,
    "start_time": "2023-03-13T22:12:42.948Z"
   },
   {
    "duration": 107,
    "start_time": "2023-03-13T22:13:28.396Z"
   },
   {
    "duration": 14,
    "start_time": "2023-03-13T22:13:47.525Z"
   },
   {
    "duration": 13,
    "start_time": "2023-03-13T22:13:55.393Z"
   },
   {
    "duration": 4,
    "start_time": "2023-03-13T22:14:19.006Z"
   },
   {
    "duration": 21,
    "start_time": "2023-03-13T22:14:23.824Z"
   },
   {
    "duration": 3,
    "start_time": "2023-03-13T22:14:32.400Z"
   },
   {
    "duration": 13,
    "start_time": "2023-03-13T22:14:33.677Z"
   },
   {
    "duration": 10,
    "start_time": "2023-03-13T22:14:47.763Z"
   },
   {
    "duration": 92,
    "start_time": "2023-03-13T22:15:00.839Z"
   },
   {
    "duration": 5,
    "start_time": "2023-03-13T22:15:47.155Z"
   },
   {
    "duration": 83,
    "start_time": "2023-03-14T10:48:30.718Z"
   },
   {
    "duration": 76,
    "start_time": "2023-03-14T10:53:08.497Z"
   },
   {
    "duration": 2089,
    "start_time": "2023-03-14T10:53:15.723Z"
   },
   {
    "duration": 72,
    "start_time": "2023-03-14T10:53:17.815Z"
   },
   {
    "duration": 23,
    "start_time": "2023-03-14T10:53:17.890Z"
   },
   {
    "duration": 6,
    "start_time": "2023-03-14T10:53:18.433Z"
   },
   {
    "duration": 6,
    "start_time": "2023-03-14T10:53:20.312Z"
   },
   {
    "duration": 7,
    "start_time": "2023-03-14T10:53:20.761Z"
   },
   {
    "duration": 7,
    "start_time": "2023-03-14T10:53:21.510Z"
   },
   {
    "duration": 5,
    "start_time": "2023-03-14T10:53:22.205Z"
   },
   {
    "duration": 87,
    "start_time": "2023-03-14T10:53:24.106Z"
   },
   {
    "duration": 171,
    "start_time": "2023-03-14T10:53:25.108Z"
   },
   {
    "duration": 166,
    "start_time": "2023-03-14T10:53:27.519Z"
   },
   {
    "duration": 99,
    "start_time": "2023-03-14T10:53:35.923Z"
   },
   {
    "duration": 13,
    "start_time": "2023-03-14T10:53:38.442Z"
   },
   {
    "duration": 66275,
    "start_time": "2023-03-14T10:53:39.109Z"
   },
   {
    "duration": 187,
    "start_time": "2023-03-14T10:54:45.387Z"
   },
   {
    "duration": 13,
    "start_time": "2023-03-14T10:54:45.576Z"
   },
   {
    "duration": 0,
    "start_time": "2023-03-14T10:54:45.592Z"
   },
   {
    "duration": 64902,
    "start_time": "2023-03-14T10:55:18.739Z"
   },
   {
    "duration": 175,
    "start_time": "2023-03-14T10:56:23.644Z"
   },
   {
    "duration": 18,
    "start_time": "2023-03-14T10:56:23.821Z"
   },
   {
    "duration": 91,
    "start_time": "2023-03-14T10:56:46.311Z"
   },
   {
    "duration": 17,
    "start_time": "2023-03-14T11:00:11.134Z"
   },
   {
    "duration": 15,
    "start_time": "2023-03-14T11:00:22.966Z"
   },
   {
    "duration": 152,
    "start_time": "2023-03-14T11:01:41.833Z"
   },
   {
    "duration": 17,
    "start_time": "2023-03-14T11:01:45.406Z"
   },
   {
    "duration": 12,
    "start_time": "2023-03-14T11:02:05.562Z"
   },
   {
    "duration": 16,
    "start_time": "2023-03-14T11:02:08.675Z"
   },
   {
    "duration": 4,
    "start_time": "2023-03-14T11:02:26.808Z"
   },
   {
    "duration": 177,
    "start_time": "2023-03-14T11:02:41.106Z"
   },
   {
    "duration": 6729,
    "start_time": "2023-03-14T11:02:45.804Z"
   },
   {
    "duration": 427,
    "start_time": "2023-03-14T11:05:37.059Z"
   },
   {
    "duration": 323,
    "start_time": "2023-03-14T11:05:45.111Z"
   },
   {
    "duration": 295,
    "start_time": "2023-03-14T11:06:23.300Z"
   },
   {
    "duration": 157,
    "start_time": "2023-03-14T11:06:24.798Z"
   },
   {
    "duration": 274,
    "start_time": "2023-03-14T11:06:37.411Z"
   },
   {
    "duration": 283,
    "start_time": "2023-03-14T11:06:41.454Z"
   },
   {
    "duration": 333,
    "start_time": "2023-03-14T11:06:44.232Z"
   },
   {
    "duration": 291,
    "start_time": "2023-03-14T11:06:46.995Z"
   },
   {
    "duration": 359,
    "start_time": "2023-03-14T11:06:53.474Z"
   },
   {
    "duration": 305,
    "start_time": "2023-03-14T11:06:58.909Z"
   },
   {
    "duration": 285,
    "start_time": "2023-03-14T11:07:04.627Z"
   },
   {
    "duration": 274,
    "start_time": "2023-03-14T11:07:26.518Z"
   },
   {
    "duration": 193,
    "start_time": "2023-03-14T11:07:27.652Z"
   },
   {
    "duration": 199,
    "start_time": "2023-03-14T11:07:28.902Z"
   },
   {
    "duration": 431,
    "start_time": "2023-03-14T11:07:34.041Z"
   },
   {
    "duration": 270,
    "start_time": "2023-03-14T11:07:34.794Z"
   },
   {
    "duration": 187,
    "start_time": "2023-03-14T11:07:35.735Z"
   },
   {
    "duration": 432,
    "start_time": "2023-03-14T11:07:42.995Z"
   },
   {
    "duration": 189,
    "start_time": "2023-03-14T11:07:45.698Z"
   },
   {
    "duration": 186,
    "start_time": "2023-03-14T11:07:46.651Z"
   },
   {
    "duration": 326,
    "start_time": "2023-03-14T11:07:57.707Z"
   },
   {
    "duration": 186,
    "start_time": "2023-03-14T11:08:00.201Z"
   },
   {
    "duration": 322,
    "start_time": "2023-03-14T11:08:27.103Z"
   },
   {
    "duration": 1300,
    "start_time": "2023-03-14T11:08:59.824Z"
   },
   {
    "duration": 191,
    "start_time": "2023-03-14T11:09:02.753Z"
   },
   {
    "duration": 1303,
    "start_time": "2023-03-14T11:09:19.463Z"
   },
   {
    "duration": 1293,
    "start_time": "2023-03-14T11:09:29.709Z"
   },
   {
    "duration": 210,
    "start_time": "2023-03-14T11:09:31.005Z"
   },
   {
    "duration": 1217,
    "start_time": "2023-03-14T11:09:33.436Z"
   },
   {
    "duration": 1256,
    "start_time": "2023-03-14T11:09:44.711Z"
   },
   {
    "duration": 194,
    "start_time": "2023-03-14T11:09:45.970Z"
   },
   {
    "duration": 1319,
    "start_time": "2023-03-14T11:09:48.610Z"
   },
   {
    "duration": 1084,
    "start_time": "2023-03-14T11:09:52.662Z"
   },
   {
    "duration": 242,
    "start_time": "2023-03-14T11:09:53.749Z"
   },
   {
    "duration": 1072,
    "start_time": "2023-03-14T11:10:18.308Z"
   },
   {
    "duration": 257,
    "start_time": "2023-03-14T11:10:20.407Z"
   },
   {
    "duration": 552,
    "start_time": "2023-03-14T11:10:49.319Z"
   },
   {
    "duration": 263,
    "start_time": "2023-03-14T11:10:51.310Z"
   },
   {
    "duration": 1036,
    "start_time": "2023-03-14T11:10:59.156Z"
   },
   {
    "duration": 251,
    "start_time": "2023-03-14T11:11:00.310Z"
   },
   {
    "duration": 612,
    "start_time": "2023-03-14T11:11:05.508Z"
   },
   {
    "duration": 1062,
    "start_time": "2023-03-14T11:11:10.327Z"
   },
   {
    "duration": 731,
    "start_time": "2023-03-14T11:11:19.911Z"
   },
   {
    "duration": 1025,
    "start_time": "2023-03-14T11:11:32.465Z"
   },
   {
    "duration": 236,
    "start_time": "2023-03-14T11:11:34.813Z"
   },
   {
    "duration": 880,
    "start_time": "2023-03-14T11:11:54.361Z"
   },
   {
    "duration": 246,
    "start_time": "2023-03-14T11:11:56.535Z"
   },
   {
    "duration": 1531,
    "start_time": "2023-03-14T11:12:00.760Z"
   },
   {
    "duration": 250,
    "start_time": "2023-03-14T11:12:03.963Z"
   },
   {
    "duration": 989,
    "start_time": "2023-03-14T11:12:13.873Z"
   },
   {
    "duration": 978,
    "start_time": "2023-03-14T11:12:16.823Z"
   },
   {
    "duration": 404,
    "start_time": "2023-03-14T11:12:19.748Z"
   },
   {
    "duration": 970,
    "start_time": "2023-03-14T11:12:45.725Z"
   },
   {
    "duration": 232,
    "start_time": "2023-03-14T11:12:46.809Z"
   },
   {
    "duration": 903,
    "start_time": "2023-03-14T11:13:28.019Z"
   },
   {
    "duration": 161,
    "start_time": "2023-03-14T11:13:51.220Z"
   },
   {
    "duration": 111,
    "start_time": "2023-03-14T11:17:45.440Z"
   },
   {
    "duration": 679,
    "start_time": "2023-03-14T11:17:47.852Z"
   },
   {
    "duration": 886,
    "start_time": "2023-03-14T11:18:34.797Z"
   },
   {
    "duration": 509,
    "start_time": "2023-03-14T11:18:42.806Z"
   },
   {
    "duration": 172,
    "start_time": "2023-03-14T11:18:46.312Z"
   },
   {
    "duration": 495,
    "start_time": "2023-03-14T11:18:56.407Z"
   },
   {
    "duration": 193,
    "start_time": "2023-03-14T11:18:58.616Z"
   },
   {
    "duration": 476,
    "start_time": "2023-03-14T11:19:11.954Z"
   },
   {
    "duration": 229,
    "start_time": "2023-03-14T11:19:13.423Z"
   },
   {
    "duration": 2333,
    "start_time": "2023-03-14T11:19:53.068Z"
   },
   {
    "duration": 2453,
    "start_time": "2023-03-14T11:20:12.915Z"
   },
   {
    "duration": 82,
    "start_time": "2023-03-14T11:20:30.618Z"
   },
   {
    "duration": 317,
    "start_time": "2023-03-14T11:20:33.000Z"
   },
   {
    "duration": 374,
    "start_time": "2023-03-14T11:20:54.903Z"
   },
   {
    "duration": 2261,
    "start_time": "2023-03-14T11:20:56.703Z"
   },
   {
    "duration": 5,
    "start_time": "2023-03-14T11:21:04.274Z"
   },
   {
    "duration": 12,
    "start_time": "2023-03-14T11:22:03.450Z"
   },
   {
    "duration": 3,
    "start_time": "2023-03-14T11:22:05.567Z"
   },
   {
    "duration": 152,
    "start_time": "2023-03-14T11:22:06.558Z"
   },
   {
    "duration": 136,
    "start_time": "2023-03-14T11:22:07.630Z"
   },
   {
    "duration": 4,
    "start_time": "2023-03-14T11:22:17.530Z"
   },
   {
    "duration": 11,
    "start_time": "2023-03-14T11:22:19.065Z"
   },
   {
    "duration": 92,
    "start_time": "2023-03-14T11:22:20.657Z"
   },
   {
    "duration": 4,
    "start_time": "2023-03-14T11:22:59.234Z"
   },
   {
    "duration": 11,
    "start_time": "2023-03-14T11:23:00.448Z"
   },
   {
    "duration": 127,
    "start_time": "2023-03-14T11:23:01.703Z"
   },
   {
    "duration": 6,
    "start_time": "2023-03-14T11:23:25.067Z"
   },
   {
    "duration": 4,
    "start_time": "2023-03-14T11:23:26.359Z"
   },
   {
    "duration": 3,
    "start_time": "2023-03-14T11:23:40.906Z"
   },
   {
    "duration": 30,
    "start_time": "2023-03-14T11:23:42.404Z"
   },
   {
    "duration": 4,
    "start_time": "2023-03-14T11:23:44.827Z"
   },
   {
    "duration": 6,
    "start_time": "2023-03-14T11:23:45.499Z"
   },
   {
    "duration": 5,
    "start_time": "2023-03-14T11:23:46.004Z"
   },
   {
    "duration": 5,
    "start_time": "2023-03-14T11:23:46.737Z"
   },
   {
    "duration": 4,
    "start_time": "2023-03-14T11:23:47.629Z"
   },
   {
    "duration": 8,
    "start_time": "2023-03-14T11:23:48.508Z"
   },
   {
    "duration": 424,
    "start_time": "2023-03-14T11:23:51.830Z"
   },
   {
    "duration": 134,
    "start_time": "2023-03-14T11:23:53.744Z"
   },
   {
    "duration": 399,
    "start_time": "2023-03-14T11:24:05.474Z"
   },
   {
    "duration": 166,
    "start_time": "2023-03-14T11:24:08.035Z"
   },
   {
    "duration": 258,
    "start_time": "2023-03-14T11:24:16.522Z"
   },
   {
    "duration": 389,
    "start_time": "2023-03-14T11:24:17.553Z"
   },
   {
    "duration": 180,
    "start_time": "2023-03-14T11:24:18.508Z"
   },
   {
    "duration": 9,
    "start_time": "2023-03-14T11:24:27.034Z"
   },
   {
    "duration": 99,
    "start_time": "2023-03-14T11:24:29.031Z"
   },
   {
    "duration": 9,
    "start_time": "2023-03-14T11:24:53.756Z"
   },
   {
    "duration": 88,
    "start_time": "2023-03-14T11:24:54.555Z"
   },
   {
    "duration": 6,
    "start_time": "2023-03-14T11:24:57.123Z"
   },
   {
    "duration": 16,
    "start_time": "2023-03-14T11:24:58.039Z"
   },
   {
    "duration": 104,
    "start_time": "2023-03-14T11:24:59.727Z"
   },
   {
    "duration": 5,
    "start_time": "2023-03-14T11:25:02.153Z"
   },
   {
    "duration": 16,
    "start_time": "2023-03-14T11:26:56.738Z"
   },
   {
    "duration": 127,
    "start_time": "2023-03-14T11:26:58.475Z"
   },
   {
    "duration": 88,
    "start_time": "2023-03-14T11:29:50.275Z"
   }
  ],
  "kernelspec": {
   "display_name": "Python 3 (ipykernel)",
   "language": "python",
   "name": "python3"
  },
  "language_info": {
   "codemirror_mode": {
    "name": "ipython",
    "version": 3
   },
   "file_extension": ".py",
   "mimetype": "text/x-python",
   "name": "python",
   "nbconvert_exporter": "python",
   "pygments_lexer": "ipython3",
   "version": "3.9.16"
  },
  "toc": {
   "base_numbering": 1,
   "nav_menu": {},
   "number_sections": true,
   "sideBar": true,
   "skip_h1_title": true,
   "title_cell": "Table of Contents",
   "title_sidebar": "Contents",
   "toc_cell": false,
   "toc_position": {},
   "toc_section_display": true,
   "toc_window_display": false
  }
 },
 "nbformat": 4,
 "nbformat_minor": 4
}
