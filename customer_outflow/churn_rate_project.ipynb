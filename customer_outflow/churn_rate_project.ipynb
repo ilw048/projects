{
 "cells": [
  {
   "cell_type": "markdown",
   "metadata": {
    "toc": true
   },
   "source": [
    "<h1>Содержание<span class=\"tocSkip\"></span></h1>\n",
    "<div class=\"toc\"><ul class=\"toc-item\"><li><span><a href=\"#Подготовка-данных\" data-toc-modified-id=\"Подготовка-данных-1\"><span class=\"toc-item-num\">1&nbsp;&nbsp;</span>Подготовка данных</a></span></li><li><span><a href=\"#Исследование-задачи\" data-toc-modified-id=\"Исследование-задачи-2\"><span class=\"toc-item-num\">2&nbsp;&nbsp;</span>Исследование задачи</a></span><ul class=\"toc-item\"><li><span><a href=\"#Прогнозирование-логистической-регрессией\" data-toc-modified-id=\"Прогнозирование-логистической-регрессией-2.1\"><span class=\"toc-item-num\">2.1&nbsp;&nbsp;</span>Прогнозирование логистической регрессией</a></span></li><li><span><a href=\"#Прогнозирование-случайным-лесом\" data-toc-modified-id=\"Прогнозирование-случайным-лесом-2.2\"><span class=\"toc-item-num\">2.2&nbsp;&nbsp;</span>Прогнозирование случайным лесом</a></span></li></ul></li><li><span><a href=\"#Борьба-с-дисбалансом\" data-toc-modified-id=\"Борьба-с-дисбалансом-3\"><span class=\"toc-item-num\">3&nbsp;&nbsp;</span>Борьба с дисбалансом</a></span><ul class=\"toc-item\"><li><span><a href=\"#Использование-балансировки-классов\" data-toc-modified-id=\"Использование-балансировки-классов-3.1\"><span class=\"toc-item-num\">3.1&nbsp;&nbsp;</span>Использование балансировки классов</a></span><ul class=\"toc-item\"><li><span><a href=\"#Логистическая-регрессия\" data-toc-modified-id=\"Логистическая-регрессия-3.1.1\"><span class=\"toc-item-num\">3.1.1&nbsp;&nbsp;</span>Логистическая регрессия</a></span></li><li><span><a href=\"#Случайный-лес\" data-toc-modified-id=\"Случайный-лес-3.1.2\"><span class=\"toc-item-num\">3.1.2&nbsp;&nbsp;</span>Случайный лес</a></span></li></ul></li><li><span><a href=\"#Увеличение-обущающей-выборки-(upsampling)\" data-toc-modified-id=\"Увеличение-обущающей-выборки-(upsampling)-3.2\"><span class=\"toc-item-num\">3.2&nbsp;&nbsp;</span>Увеличение обущающей выборки (upsampling)</a></span><ul class=\"toc-item\"><li><span><a href=\"#Логистическая-регрессия-\" data-toc-modified-id=\"Логистическая-регрессия--3.2.1\"><span class=\"toc-item-num\">3.2.1&nbsp;&nbsp;</span>Логистическая регрессия <a id=\"bal_log_reg\"></a></a></span></li><li><span><a href=\"#Случайный-лес\" data-toc-modified-id=\"Случайный-лес-3.2.2\"><span class=\"toc-item-num\">3.2.2&nbsp;&nbsp;</span>Случайный лес</a></span></li></ul></li></ul></li><li><span><a href=\"#Тестирование-моделей\" data-toc-modified-id=\"Тестирование-моделей-4\"><span class=\"toc-item-num\">4&nbsp;&nbsp;</span>Тестирование моделей</a></span><ul class=\"toc-item\"><li><span><a href=\"#Прогнозирование-лучшей-моделью-на-тестовой-выборке\" data-toc-modified-id=\"Прогнозирование-лучшей-моделью-на-тестовой-выборке-4.1\"><span class=\"toc-item-num\">4.1&nbsp;&nbsp;</span>Прогнозирование лучшей моделью на тестовой выборке</a></span></li><li><span><a href=\"#Сравнение-с-дамми-классификатором\" data-toc-modified-id=\"Сравнение-с-дамми-классификатором-4.2\"><span class=\"toc-item-num\">4.2&nbsp;&nbsp;</span>Сравнение с дамми-классификатором</a></span></li></ul></li><li><span><a href=\"#Чек-лист-готовности-проекта\" data-toc-modified-id=\"Чек-лист-готовности-проекта-5\"><span class=\"toc-item-num\">5&nbsp;&nbsp;</span>Чек-лист готовности проекта</a></span></li></ul></div>"
   ]
  },
  {
   "cell_type": "markdown",
   "metadata": {},
   "source": [
    "# Отток клиентов"
   ]
  },
  {
   "cell_type": "markdown",
   "metadata": {},
   "source": [
    "Из «Бета-Банка» стали уходить клиенты. Каждый месяц. Немного, но заметно. Банковские маркетологи посчитали: сохранять текущих клиентов дешевле, чем привлекать новых.\n",
    "\n",
    "Нужно спрогнозировать, уйдёт клиент из банка в ближайшее время или нет по историческим данным о поведении клиентов и расторжении договоров с банком. \n",
    "\n",
    "Постройть модель необходимо с предельно большим значением *F1*-меры, нужно довести метрику до 0.59.  \n",
    "\n",
    "Источник данных: [https://www.kaggle.com/barelydedicated/bank-customer-churn-modeling](https://www.kaggle.com/barelydedicated/bank-customer-churn-modeling)"
   ]
  },
  {
   "cell_type": "code",
   "execution_count": 102,
   "metadata": {
    "tags": []
   },
   "outputs": [],
   "source": [
    "#!pip install scikit-learn==1.1.3"
   ]
  },
  {
   "cell_type": "code",
   "execution_count": 2,
   "metadata": {
    "tags": []
   },
   "outputs": [],
   "source": [
    "import pandas as pd\n",
    "from sklearn.ensemble import RandomForestClassifier\n",
    "from sklearn.linear_model import LogisticRegression\n",
    "from sklearn.model_selection import train_test_split, cross_val_score, learning_curve, KFold\n",
    "from sklearn.preprocessing import StandardScaler \n",
    "from sklearn.metrics import (\n",
    "    accuracy_score as acc, \n",
    "    recall_score as recall, \n",
    "    precision_score as precision,\n",
    "    confusion_matrix, \n",
    "    f1_score as f1, \n",
    "    roc_auc_score, \n",
    "    roc_curve,\n",
    "    average_precision_score as aps\n",
    ")\n",
    "import matplotlib.pyplot as plt\n",
    "import numpy as np"
   ]
  },
  {
   "cell_type": "markdown",
   "metadata": {},
   "source": [
    "## Подготовка данных"
   ]
  },
  {
   "cell_type": "code",
   "execution_count": 3,
   "metadata": {
    "tags": []
   },
   "outputs": [],
   "source": [
    "data = pd.read_csv('datasets/Churn.csv')\n",
    "data.columns = data.columns.str.lower()"
   ]
  },
  {
   "cell_type": "code",
   "execution_count": 4,
   "metadata": {
    "tags": []
   },
   "outputs": [
    {
     "name": "stdout",
     "output_type": "stream",
     "text": [
      "<class 'pandas.core.frame.DataFrame'>\n",
      "RangeIndex: 10000 entries, 0 to 9999\n",
      "Data columns (total 14 columns):\n",
      " #   Column           Non-Null Count  Dtype  \n",
      "---  ------           --------------  -----  \n",
      " 0   rownumber        10000 non-null  int64  \n",
      " 1   customerid       10000 non-null  int64  \n",
      " 2   surname          10000 non-null  object \n",
      " 3   creditscore      10000 non-null  int64  \n",
      " 4   geography        10000 non-null  object \n",
      " 5   gender           10000 non-null  object \n",
      " 6   age              10000 non-null  int64  \n",
      " 7   tenure           9091 non-null   float64\n",
      " 8   balance          10000 non-null  float64\n",
      " 9   numofproducts    10000 non-null  int64  \n",
      " 10  hascrcard        10000 non-null  int64  \n",
      " 11  isactivemember   10000 non-null  int64  \n",
      " 12  estimatedsalary  10000 non-null  float64\n",
      " 13  exited           10000 non-null  int64  \n",
      "dtypes: float64(3), int64(8), object(3)\n",
      "memory usage: 1.1+ MB\n"
     ]
    }
   ],
   "source": [
    "data.info()"
   ]
  },
  {
   "cell_type": "code",
   "execution_count": 5,
   "metadata": {
    "tags": []
   },
   "outputs": [
    {
     "data": {
      "text/html": [
       "<div>\n",
       "<style scoped>\n",
       "    .dataframe tbody tr th:only-of-type {\n",
       "        vertical-align: middle;\n",
       "    }\n",
       "\n",
       "    .dataframe tbody tr th {\n",
       "        vertical-align: top;\n",
       "    }\n",
       "\n",
       "    .dataframe thead th {\n",
       "        text-align: right;\n",
       "    }\n",
       "</style>\n",
       "<table border=\"1\" class=\"dataframe\">\n",
       "  <thead>\n",
       "    <tr style=\"text-align: right;\">\n",
       "      <th></th>\n",
       "      <th>rownumber</th>\n",
       "      <th>customerid</th>\n",
       "      <th>surname</th>\n",
       "      <th>creditscore</th>\n",
       "      <th>geography</th>\n",
       "      <th>gender</th>\n",
       "      <th>age</th>\n",
       "      <th>tenure</th>\n",
       "      <th>balance</th>\n",
       "      <th>numofproducts</th>\n",
       "      <th>hascrcard</th>\n",
       "      <th>isactivemember</th>\n",
       "      <th>estimatedsalary</th>\n",
       "      <th>exited</th>\n",
       "    </tr>\n",
       "  </thead>\n",
       "  <tbody>\n",
       "    <tr>\n",
       "      <th>0</th>\n",
       "      <td>1</td>\n",
       "      <td>15634602</td>\n",
       "      <td>Hargrave</td>\n",
       "      <td>619</td>\n",
       "      <td>France</td>\n",
       "      <td>Female</td>\n",
       "      <td>42</td>\n",
       "      <td>2.0</td>\n",
       "      <td>0.00</td>\n",
       "      <td>1</td>\n",
       "      <td>1</td>\n",
       "      <td>1</td>\n",
       "      <td>101348.88</td>\n",
       "      <td>1</td>\n",
       "    </tr>\n",
       "    <tr>\n",
       "      <th>1</th>\n",
       "      <td>2</td>\n",
       "      <td>15647311</td>\n",
       "      <td>Hill</td>\n",
       "      <td>608</td>\n",
       "      <td>Spain</td>\n",
       "      <td>Female</td>\n",
       "      <td>41</td>\n",
       "      <td>1.0</td>\n",
       "      <td>83807.86</td>\n",
       "      <td>1</td>\n",
       "      <td>0</td>\n",
       "      <td>1</td>\n",
       "      <td>112542.58</td>\n",
       "      <td>0</td>\n",
       "    </tr>\n",
       "    <tr>\n",
       "      <th>2</th>\n",
       "      <td>3</td>\n",
       "      <td>15619304</td>\n",
       "      <td>Onio</td>\n",
       "      <td>502</td>\n",
       "      <td>France</td>\n",
       "      <td>Female</td>\n",
       "      <td>42</td>\n",
       "      <td>8.0</td>\n",
       "      <td>159660.80</td>\n",
       "      <td>3</td>\n",
       "      <td>1</td>\n",
       "      <td>0</td>\n",
       "      <td>113931.57</td>\n",
       "      <td>1</td>\n",
       "    </tr>\n",
       "    <tr>\n",
       "      <th>3</th>\n",
       "      <td>4</td>\n",
       "      <td>15701354</td>\n",
       "      <td>Boni</td>\n",
       "      <td>699</td>\n",
       "      <td>France</td>\n",
       "      <td>Female</td>\n",
       "      <td>39</td>\n",
       "      <td>1.0</td>\n",
       "      <td>0.00</td>\n",
       "      <td>2</td>\n",
       "      <td>0</td>\n",
       "      <td>0</td>\n",
       "      <td>93826.63</td>\n",
       "      <td>0</td>\n",
       "    </tr>\n",
       "    <tr>\n",
       "      <th>4</th>\n",
       "      <td>5</td>\n",
       "      <td>15737888</td>\n",
       "      <td>Mitchell</td>\n",
       "      <td>850</td>\n",
       "      <td>Spain</td>\n",
       "      <td>Female</td>\n",
       "      <td>43</td>\n",
       "      <td>2.0</td>\n",
       "      <td>125510.82</td>\n",
       "      <td>1</td>\n",
       "      <td>1</td>\n",
       "      <td>1</td>\n",
       "      <td>79084.10</td>\n",
       "      <td>0</td>\n",
       "    </tr>\n",
       "  </tbody>\n",
       "</table>\n",
       "</div>"
      ],
      "text/plain": [
       "   rownumber  customerid   surname  creditscore geography  gender  age  \\\n",
       "0          1    15634602  Hargrave          619    France  Female   42   \n",
       "1          2    15647311      Hill          608     Spain  Female   41   \n",
       "2          3    15619304      Onio          502    France  Female   42   \n",
       "3          4    15701354      Boni          699    France  Female   39   \n",
       "4          5    15737888  Mitchell          850     Spain  Female   43   \n",
       "\n",
       "   tenure    balance  numofproducts  hascrcard  isactivemember  \\\n",
       "0     2.0       0.00              1          1               1   \n",
       "1     1.0   83807.86              1          0               1   \n",
       "2     8.0  159660.80              3          1               0   \n",
       "3     1.0       0.00              2          0               0   \n",
       "4     2.0  125510.82              1          1               1   \n",
       "\n",
       "   estimatedsalary  exited  \n",
       "0        101348.88       1  \n",
       "1        112542.58       0  \n",
       "2        113931.57       1  \n",
       "3         93826.63       0  \n",
       "4         79084.10       0  "
      ]
     },
     "execution_count": 5,
     "metadata": {},
     "output_type": "execute_result"
    }
   ],
   "source": [
    "data.head()"
   ]
  },
  {
   "cell_type": "markdown",
   "metadata": {},
   "source": [
    "Идентификационная информация не поможет нам в классификации: ID клиента, информацию о фамилии можно опустить. Также удалим индекс строк `'rownumber'` за ненадобностью."
   ]
  },
  {
   "cell_type": "code",
   "execution_count": 6,
   "metadata": {
    "tags": []
   },
   "outputs": [],
   "source": [
    "data.drop(columns=['rownumber', 'surname', 'customerid'], axis=1, inplace=True)"
   ]
  },
  {
   "cell_type": "code",
   "execution_count": 7,
   "metadata": {
    "tags": []
   },
   "outputs": [
    {
     "data": {
      "text/plain": [
       "(10000, 11)"
      ]
     },
     "execution_count": 7,
     "metadata": {},
     "output_type": "execute_result"
    }
   ],
   "source": [
    "data.shape #осталось 11 столбцов"
   ]
  },
  {
   "cell_type": "markdown",
   "metadata": {},
   "source": [
    "Столбец `'gender'` обработаем порядковым кодированием, а для трех стран в `'geography'` создадим дамми-переменные."
   ]
  },
  {
   "cell_type": "code",
   "execution_count": 8,
   "metadata": {
    "tags": []
   },
   "outputs": [],
   "source": [
    "data['gender'] = data['gender'].astype('category')\n",
    "data['gender'] = data['gender'].cat.codes #так реализовать проще, чем через OrdinalEncoder (female - 0, male - 1)"
   ]
  },
  {
   "cell_type": "markdown",
   "metadata": {},
   "source": [
    "Чтобы не терять 10% выборки, заполним пропуски в `'tenure'` (сколько лет является клиентом). Посмотрим на распределение признака:"
   ]
  },
  {
   "cell_type": "code",
   "execution_count": 101,
   "metadata": {
    "tags": []
   },
   "outputs": [
    {
     "data": {
      "text/plain": [
       "<AxesSubplot:>"
      ]
     },
     "execution_count": 101,
     "metadata": {},
     "output_type": "execute_result"
    },
    {
     "data": {
      "image/png": "[encoded data removed]",
      "text/plain": [
       "<Figure size 400x250 with 1 Axes>"
      ]
     },
     "metadata": {},
     "output_type": "display_data"
    }
   ],
   "source": [
    "data['tenure'].hist(bins=20, figsize=(4, 2.5))"
   ]
  },
  {
   "cell_type": "markdown",
   "metadata": {},
   "source": [
    "Мы имеем почти одинаковое количество всех значений, заполним пропуски случайными числами."
   ]
  },
  {
   "cell_type": "code",
   "execution_count": 10,
   "metadata": {
    "tags": []
   },
   "outputs": [],
   "source": [
    "rows = data['tenure'].isna()\n",
    "data.loc[rows, 'tenure'] = np.random.randint(0, 11, data['tenure'].isna().sum())"
   ]
  },
  {
   "cell_type": "code",
   "execution_count": 11,
   "metadata": {
    "tags": []
   },
   "outputs": [
    {
     "data": {
      "text/plain": [
       "0"
      ]
     },
     "execution_count": 11,
     "metadata": {},
     "output_type": "execute_result"
    }
   ],
   "source": [
    "data['tenure'].isna().sum()"
   ]
  },
  {
   "cell_type": "markdown",
   "metadata": {},
   "source": [
    "Можно снова посмотреть на распределение, его характер сохранился."
   ]
  },
  {
   "cell_type": "code",
   "execution_count": 12,
   "metadata": {
    "tags": []
   },
   "outputs": [
    {
     "data": {
      "text/html": [
       "<div>\n",
       "<style scoped>\n",
       "    .dataframe tbody tr th:only-of-type {\n",
       "        vertical-align: middle;\n",
       "    }\n",
       "\n",
       "    .dataframe tbody tr th {\n",
       "        vertical-align: top;\n",
       "    }\n",
       "\n",
       "    .dataframe thead th {\n",
       "        text-align: right;\n",
       "    }\n",
       "</style>\n",
       "<table border=\"1\" class=\"dataframe\">\n",
       "  <thead>\n",
       "    <tr style=\"text-align: right;\">\n",
       "      <th></th>\n",
       "      <th>creditscore</th>\n",
       "      <th>geography</th>\n",
       "      <th>gender</th>\n",
       "      <th>age</th>\n",
       "      <th>tenure</th>\n",
       "      <th>balance</th>\n",
       "      <th>numofproducts</th>\n",
       "      <th>hascrcard</th>\n",
       "      <th>isactivemember</th>\n",
       "      <th>estimatedsalary</th>\n",
       "      <th>exited</th>\n",
       "    </tr>\n",
       "  </thead>\n",
       "  <tbody>\n",
       "    <tr>\n",
       "      <th>0</th>\n",
       "      <td>619</td>\n",
       "      <td>France</td>\n",
       "      <td>0</td>\n",
       "      <td>42</td>\n",
       "      <td>2.0</td>\n",
       "      <td>0.00</td>\n",
       "      <td>1</td>\n",
       "      <td>1</td>\n",
       "      <td>1</td>\n",
       "      <td>101348.88</td>\n",
       "      <td>1</td>\n",
       "    </tr>\n",
       "    <tr>\n",
       "      <th>1</th>\n",
       "      <td>608</td>\n",
       "      <td>Spain</td>\n",
       "      <td>0</td>\n",
       "      <td>41</td>\n",
       "      <td>1.0</td>\n",
       "      <td>83807.86</td>\n",
       "      <td>1</td>\n",
       "      <td>0</td>\n",
       "      <td>1</td>\n",
       "      <td>112542.58</td>\n",
       "      <td>0</td>\n",
       "    </tr>\n",
       "    <tr>\n",
       "      <th>2</th>\n",
       "      <td>502</td>\n",
       "      <td>France</td>\n",
       "      <td>0</td>\n",
       "      <td>42</td>\n",
       "      <td>8.0</td>\n",
       "      <td>159660.80</td>\n",
       "      <td>3</td>\n",
       "      <td>1</td>\n",
       "      <td>0</td>\n",
       "      <td>113931.57</td>\n",
       "      <td>1</td>\n",
       "    </tr>\n",
       "    <tr>\n",
       "      <th>3</th>\n",
       "      <td>699</td>\n",
       "      <td>France</td>\n",
       "      <td>0</td>\n",
       "      <td>39</td>\n",
       "      <td>1.0</td>\n",
       "      <td>0.00</td>\n",
       "      <td>2</td>\n",
       "      <td>0</td>\n",
       "      <td>0</td>\n",
       "      <td>93826.63</td>\n",
       "      <td>0</td>\n",
       "    </tr>\n",
       "    <tr>\n",
       "      <th>4</th>\n",
       "      <td>850</td>\n",
       "      <td>Spain</td>\n",
       "      <td>0</td>\n",
       "      <td>43</td>\n",
       "      <td>2.0</td>\n",
       "      <td>125510.82</td>\n",
       "      <td>1</td>\n",
       "      <td>1</td>\n",
       "      <td>1</td>\n",
       "      <td>79084.10</td>\n",
       "      <td>0</td>\n",
       "    </tr>\n",
       "  </tbody>\n",
       "</table>\n",
       "</div>"
      ],
      "text/plain": [
       "   creditscore geography  gender  age  tenure    balance  numofproducts  \\\n",
       "0          619    France       0   42     2.0       0.00              1   \n",
       "1          608     Spain       0   41     1.0   83807.86              1   \n",
       "2          502    France       0   42     8.0  159660.80              3   \n",
       "3          699    France       0   39     1.0       0.00              2   \n",
       "4          850     Spain       0   43     2.0  125510.82              1   \n",
       "\n",
       "   hascrcard  isactivemember  estimatedsalary  exited  \n",
       "0          1               1        101348.88       1  \n",
       "1          0               1        112542.58       0  \n",
       "2          1               0        113931.57       1  \n",
       "3          0               0         93826.63       0  \n",
       "4          1               1         79084.10       0  "
      ]
     },
     "execution_count": 12,
     "metadata": {},
     "output_type": "execute_result"
    }
   ],
   "source": [
    "data.head()"
   ]
  },
  {
   "cell_type": "markdown",
   "metadata": {},
   "source": [
    "Баланс на карте и оцененная зарплата могут запутать модель своими высокими значениями, проведем стандартизацию всех численных признаков. <br>\n",
    "Перед этим разделим выборки на train, val и test, чтобы при стандартизации избежать утечек информации в тестовую и валидационную выборки."
   ]
  },
  {
   "cell_type": "markdown",
   "metadata": {},
   "source": [
    "Поскольку нет заранее отложенной тестовой выборки, отнесем 60% наблюдений в train, 20% для валидации и 20% в test:"
   ]
  },
  {
   "cell_type": "code",
   "execution_count": 13,
   "metadata": {
    "tags": []
   },
   "outputs": [],
   "source": [
    "features = data.drop('exited', axis=1)\n",
    "target = data['exited']"
   ]
  },
  {
   "cell_type": "code",
   "execution_count": 14,
   "metadata": {
    "tags": []
   },
   "outputs": [],
   "source": [
    "x_train, x_test, y_train, y_test = train_test_split(features, target, test_size=0.2, random_state=42, shuffle=True)\n",
    "x_train, x_val, y_train, y_val = train_test_split(x_train, y_train, test_size=0.25, random_state=42, shuffle=True) #0.8*0.25=0.2"
   ]
  },
  {
   "cell_type": "code",
   "execution_count": 15,
   "metadata": {
    "tags": []
   },
   "outputs": [
    {
     "name": "stdout",
     "output_type": "stream",
     "text": [
      "(6000, 10)\n",
      "(2000, 10)\n",
      "(2000, 10)\n"
     ]
    }
   ],
   "source": [
    "print(x_train.shape) #соотношения верные\n",
    "print(x_val.shape)\n",
    "print(x_test.shape)"
   ]
  },
  {
   "cell_type": "markdown",
   "metadata": {},
   "source": [
    "Создадим дамми-переменные для колонки `'geography'`:"
   ]
  },
  {
   "cell_type": "code",
   "execution_count": 16,
   "metadata": {
    "tags": []
   },
   "outputs": [],
   "source": [
    "from sklearn.preprocessing import OneHotEncoder\n",
    "\n",
    "encoder = OneHotEncoder(drop='first', handle_unknown='ignore', sparse=False)\n",
    "ohe_features = [col for col in features.columns if col=='geography']\n",
    "\n",
    "encoder.fit(x_train[ohe_features])\n",
    "# encoder_ohe.get_feature_names_out() позволяет получить названия колонок\n",
    "x_train[encoder.get_feature_names_out()] = encoder.fit_transform(x_train[ohe_features])\n",
    "x_val[encoder.get_feature_names_out()] = encoder.transform(x_val[ohe_features])\n",
    "x_test[encoder.get_feature_names_out()] = encoder.transform(x_test[ohe_features])"
   ]
  },
  {
   "cell_type": "code",
   "execution_count": 17,
   "metadata": {},
   "outputs": [
    {
     "data": {
      "text/html": [
       "<div>\n",
       "<style scoped>\n",
       "    .dataframe tbody tr th:only-of-type {\n",
       "        vertical-align: middle;\n",
       "    }\n",
       "\n",
       "    .dataframe tbody tr th {\n",
       "        vertical-align: top;\n",
       "    }\n",
       "\n",
       "    .dataframe thead th {\n",
       "        text-align: right;\n",
       "    }\n",
       "</style>\n",
       "<table border=\"1\" class=\"dataframe\">\n",
       "  <thead>\n",
       "    <tr style=\"text-align: right;\">\n",
       "      <th></th>\n",
       "      <th>creditscore</th>\n",
       "      <th>geography</th>\n",
       "      <th>gender</th>\n",
       "      <th>age</th>\n",
       "      <th>tenure</th>\n",
       "      <th>balance</th>\n",
       "      <th>numofproducts</th>\n",
       "      <th>hascrcard</th>\n",
       "      <th>isactivemember</th>\n",
       "      <th>estimatedsalary</th>\n",
       "      <th>geography_Germany</th>\n",
       "      <th>geography_Spain</th>\n",
       "    </tr>\n",
       "  </thead>\n",
       "  <tbody>\n",
       "    <tr>\n",
       "      <th>8588</th>\n",
       "      <td>712</td>\n",
       "      <td>Spain</td>\n",
       "      <td>0</td>\n",
       "      <td>29</td>\n",
       "      <td>7.0</td>\n",
       "      <td>77919.78</td>\n",
       "      <td>1</td>\n",
       "      <td>1</td>\n",
       "      <td>0</td>\n",
       "      <td>122547.58</td>\n",
       "      <td>0.0</td>\n",
       "      <td>1.0</td>\n",
       "    </tr>\n",
       "  </tbody>\n",
       "</table>\n",
       "</div>"
      ],
      "text/plain": [
       "      creditscore geography  gender  age  tenure   balance  numofproducts  \\\n",
       "8588          712     Spain       0   29     7.0  77919.78              1   \n",
       "\n",
       "      hascrcard  isactivemember  estimatedsalary  geography_Germany  \\\n",
       "8588          1               0        122547.58                0.0   \n",
       "\n",
       "      geography_Spain  \n",
       "8588              1.0  "
      ]
     },
     "execution_count": 17,
     "metadata": {},
     "output_type": "execute_result"
    }
   ],
   "source": [
    "x_train.head(1) #осталась колонка geography"
   ]
  },
  {
   "cell_type": "code",
   "execution_count": 18,
   "metadata": {},
   "outputs": [],
   "source": [
    "for item in [x_train, x_val, x_test]:\n",
    "    item.drop('geography', axis=1, inplace=True)"
   ]
  },
  {
   "cell_type": "code",
   "execution_count": 19,
   "metadata": {},
   "outputs": [],
   "source": [
    "pd.options.mode.chained_assignment = None\n",
    "\n",
    "numeric = ['creditscore', 'age', 'tenure', 'balance', 'estimatedsalary']\n",
    "scaler = StandardScaler()\n",
    "x_train[numeric] = scaler.fit_transform(x_train[numeric])\n",
    "x_val[numeric] = scaler.transform(x_val[numeric])\n",
    "x_test[numeric] = scaler.transform(x_test[numeric])"
   ]
  },
  {
   "cell_type": "code",
   "execution_count": 20,
   "metadata": {},
   "outputs": [
    {
     "data": {
      "text/html": [
       "<div>\n",
       "<style scoped>\n",
       "    .dataframe tbody tr th:only-of-type {\n",
       "        vertical-align: middle;\n",
       "    }\n",
       "\n",
       "    .dataframe tbody tr th {\n",
       "        vertical-align: top;\n",
       "    }\n",
       "\n",
       "    .dataframe thead th {\n",
       "        text-align: right;\n",
       "    }\n",
       "</style>\n",
       "<table border=\"1\" class=\"dataframe\">\n",
       "  <thead>\n",
       "    <tr style=\"text-align: right;\">\n",
       "      <th></th>\n",
       "      <th>creditscore</th>\n",
       "      <th>gender</th>\n",
       "      <th>age</th>\n",
       "      <th>tenure</th>\n",
       "      <th>balance</th>\n",
       "      <th>numofproducts</th>\n",
       "      <th>hascrcard</th>\n",
       "      <th>isactivemember</th>\n",
       "      <th>estimatedsalary</th>\n",
       "      <th>geography_Germany</th>\n",
       "      <th>geography_Spain</th>\n",
       "    </tr>\n",
       "  </thead>\n",
       "  <tbody>\n",
       "    <tr>\n",
       "      <th>8588</th>\n",
       "      <td>0.626553</td>\n",
       "      <td>0</td>\n",
       "      <td>-0.948125</td>\n",
       "      <td>0.700914</td>\n",
       "      <td>0.026803</td>\n",
       "      <td>1</td>\n",
       "      <td>1</td>\n",
       "      <td>0</td>\n",
       "      <td>0.389943</td>\n",
       "      <td>0.0</td>\n",
       "      <td>1.0</td>\n",
       "    </tr>\n",
       "    <tr>\n",
       "      <th>3178</th>\n",
       "      <td>-1.143262</td>\n",
       "      <td>0</td>\n",
       "      <td>0.006684</td>\n",
       "      <td>-0.332882</td>\n",
       "      <td>0.538874</td>\n",
       "      <td>2</td>\n",
       "      <td>1</td>\n",
       "      <td>1</td>\n",
       "      <td>-1.026089</td>\n",
       "      <td>0.0</td>\n",
       "      <td>0.0</td>\n",
       "    </tr>\n",
       "    <tr>\n",
       "      <th>5200</th>\n",
       "      <td>-1.455583</td>\n",
       "      <td>1</td>\n",
       "      <td>0.293126</td>\n",
       "      <td>1.390111</td>\n",
       "      <td>0.283178</td>\n",
       "      <td>2</td>\n",
       "      <td>1</td>\n",
       "      <td>0</td>\n",
       "      <td>-1.486725</td>\n",
       "      <td>1.0</td>\n",
       "      <td>0.0</td>\n",
       "    </tr>\n",
       "    <tr>\n",
       "      <th>8889</th>\n",
       "      <td>-0.747657</td>\n",
       "      <td>0</td>\n",
       "      <td>0.006684</td>\n",
       "      <td>1.390111</td>\n",
       "      <td>0.833254</td>\n",
       "      <td>1</td>\n",
       "      <td>1</td>\n",
       "      <td>0</td>\n",
       "      <td>-0.246001</td>\n",
       "      <td>0.0</td>\n",
       "      <td>0.0</td>\n",
       "    </tr>\n",
       "    <tr>\n",
       "      <th>5789</th>\n",
       "      <td>0.387107</td>\n",
       "      <td>0</td>\n",
       "      <td>1.534377</td>\n",
       "      <td>-1.366678</td>\n",
       "      <td>0.000856</td>\n",
       "      <td>1</td>\n",
       "      <td>1</td>\n",
       "      <td>0</td>\n",
       "      <td>-1.006993</td>\n",
       "      <td>1.0</td>\n",
       "      <td>0.0</td>\n",
       "    </tr>\n",
       "  </tbody>\n",
       "</table>\n",
       "</div>"
      ],
      "text/plain": [
       "      creditscore  gender       age    tenure   balance  numofproducts  \\\n",
       "8588     0.626553       0 -0.948125  0.700914  0.026803              1   \n",
       "3178    -1.143262       0  0.006684 -0.332882  0.538874              2   \n",
       "5200    -1.455583       1  0.293126  1.390111  0.283178              2   \n",
       "8889    -0.747657       0  0.006684  1.390111  0.833254              1   \n",
       "5789     0.387107       0  1.534377 -1.366678  0.000856              1   \n",
       "\n",
       "      hascrcard  isactivemember  estimatedsalary  geography_Germany  \\\n",
       "8588          1               0         0.389943                0.0   \n",
       "3178          1               1        -1.026089                0.0   \n",
       "5200          1               0        -1.486725                1.0   \n",
       "8889          1               0        -0.246001                0.0   \n",
       "5789          1               0        -1.006993                1.0   \n",
       "\n",
       "      geography_Spain  \n",
       "8588              1.0  \n",
       "3178              0.0  \n",
       "5200              0.0  \n",
       "8889              0.0  \n",
       "5789              0.0  "
      ]
     },
     "execution_count": 20,
     "metadata": {},
     "output_type": "execute_result"
    }
   ],
   "source": [
    "x_train.head()"
   ]
  },
  {
   "cell_type": "markdown",
   "metadata": {},
   "source": [
    "**Остальные признаки оставим как есть, преобразовывать их не требуется — они годятся для прогнозирования.**"
   ]
  },
  {
   "cell_type": "markdown",
   "metadata": {},
   "source": [
    "## Исследование задачи"
   ]
  },
  {
   "cell_type": "markdown",
   "metadata": {},
   "source": [
    "На основе исторических данных требуется спрогнозировать, уйдет клиент в ближайшее время или нет. Это задача классификации, попробуем решить ее двумя методами: логистической регрессией и случайным лесом, как наиболее потенциальными алгоритмами классификации."
   ]
  },
  {
   "cell_type": "markdown",
   "metadata": {},
   "source": [
    "Посмотрим на баланс классов:"
   ]
  },
  {
   "cell_type": "code",
   "execution_count": 21,
   "metadata": {},
   "outputs": [
    {
     "data": {
      "text/plain": [
       "0.20516666666666666"
      ]
     },
     "execution_count": 21,
     "metadata": {},
     "output_type": "execute_result"
    }
   ],
   "source": [
    "y_train.mean()"
   ]
  },
  {
   "cell_type": "markdown",
   "metadata": {},
   "source": [
    "Доля положительного класса — 20,5%. За предоставленный период банк покинула пятая часть клиентов из выборки. В дальнейшем можно будет провести балансировку классов или обучить модель через upsampling."
   ]
  },
  {
   "cell_type": "markdown",
   "metadata": {},
   "source": [
    "Напишем функцию, выдающую все нужные нам метрики:"
   ]
  },
  {
   "cell_type": "code",
   "execution_count": 22,
   "metadata": {},
   "outputs": [],
   "source": [
    "def scores(y_true, model, x_true):\n",
    "    y_pred = model.predict(x_true)\n",
    "    print('f1 =', format(f1(y_true, y_pred), '.3f'))\n",
    "    print('Precision =', format(precision(y_true, y_pred), '.3f'))\n",
    "    print('Recall =', format(recall(y_true, y_pred), '.3f'))\n",
    "    print(confusion_matrix(y_true, y_pred).ravel(), '\\n  tn   fp    fn   tp') #tn fp fn tp\n",
    "    print('AUC =', round(roc_auc_score(y_true, model.predict_proba(x_true)[:, 1]), 3) )\n",
    "    return"
   ]
  },
  {
   "cell_type": "markdown",
   "metadata": {},
   "source": [
    "### Прогнозирование логистической регрессией"
   ]
  },
  {
   "cell_type": "code",
   "execution_count": 23,
   "metadata": {},
   "outputs": [
    {
     "name": "stdout",
     "output_type": "stream",
     "text": [
      "f1 = 0.315\n",
      "Precision = 0.621\n",
      "Recall = 0.211\n",
      "[1534   53  326   87] \n",
      "  tn   fp    fn   tp\n",
      "AUC = 0.783\n"
     ]
    }
   ],
   "source": [
    "log_reg = LogisticRegression(solver='liblinear', random_state=42)\n",
    "log_reg.fit(x_train, y_train)\n",
    "#log_pred = log_reg.predict(x_val)\n",
    "\n",
    "scores(y_val, log_reg, x_val)"
   ]
  },
  {
   "cell_type": "markdown",
   "metadata": {},
   "source": [
    "Полнота равна 0,21 (доля положительных объектов правильно предсказанных положительными) — модель плохо определяет уход клиентов, несмотря на высокий Accuracy. Много FN-ответов и мало TP. Метрика AUC = 0.78 — это лучше, чем у случайной модели 0,5."
   ]
  },
  {
   "cell_type": "markdown",
   "metadata": {},
   "source": [
    "### Прогнозирование случайным лесом"
   ]
  },
  {
   "cell_type": "markdown",
   "metadata": {},
   "source": [
    "Оптимальные параметры случайного леса будем определять с помощью GridSearchCV."
   ]
  },
  {
   "cell_type": "code",
   "execution_count": 48,
   "metadata": {},
   "outputs": [],
   "source": [
    "from sklearn.model_selection import GridSearchCV\n",
    "\n",
    "rf = RandomForestClassifier(random_state=42)\n",
    "kf = KFold(n_splits=3, shuffle=True, random_state=42)\n",
    "\n",
    "param_grid = {'n_estimators': [80, 100, 150], 'max_depth': list(range(2,13,2))}\n",
    "grid = GridSearchCV(rf, param_grid=param_grid, cv=kf, verbose=3, scoring='f1')"
   ]
  },
  {
   "cell_type": "code",
   "execution_count": 49,
   "metadata": {},
   "outputs": [
    {
     "name": "stdout",
     "output_type": "stream",
     "text": [
      "Fitting 3 folds for each of 18 candidates, totalling 54 fits\n",
      "[CV 1/3] END ......max_depth=2, n_estimators=80;, score=0.094 total time=   0.7s\n",
      "[CV 2/3] END ......max_depth=2, n_estimators=80;, score=0.113 total time=   0.6s\n",
      "[CV 3/3] END ......max_depth=2, n_estimators=80;, score=0.077 total time=   0.7s\n",
      "[CV 1/3] END .....max_depth=2, n_estimators=100;, score=0.108 total time=   0.7s\n",
      "[CV 2/3] END .....max_depth=2, n_estimators=100;, score=0.131 total time=   0.6s\n",
      "[CV 3/3] END .....max_depth=2, n_estimators=100;, score=0.089 total time=   0.6s\n",
      "[CV 1/3] END .....max_depth=2, n_estimators=150;, score=0.094 total time=   1.1s\n",
      "[CV 2/3] END .....max_depth=2, n_estimators=150;, score=0.126 total time=   1.0s\n",
      "[CV 3/3] END .....max_depth=2, n_estimators=150;, score=0.085 total time=   0.8s\n",
      "[CV 1/3] END ......max_depth=4, n_estimators=80;, score=0.408 total time=   0.4s\n",
      "[CV 2/3] END ......max_depth=4, n_estimators=80;, score=0.401 total time=   0.4s\n",
      "[CV 3/3] END ......max_depth=4, n_estimators=80;, score=0.368 total time=   0.4s\n",
      "[CV 1/3] END .....max_depth=4, n_estimators=100;, score=0.418 total time=   0.6s\n",
      "[CV 2/3] END .....max_depth=4, n_estimators=100;, score=0.398 total time=   0.6s\n",
      "[CV 3/3] END .....max_depth=4, n_estimators=100;, score=0.389 total time=   0.5s\n",
      "[CV 1/3] END .....max_depth=4, n_estimators=150;, score=0.427 total time=   1.0s\n",
      "[CV 2/3] END .....max_depth=4, n_estimators=150;, score=0.404 total time=   1.3s\n",
      "[CV 3/3] END .....max_depth=4, n_estimators=150;, score=0.388 total time=   1.1s\n",
      "[CV 1/3] END ......max_depth=6, n_estimators=80;, score=0.485 total time=   0.8s\n",
      "[CV 2/3] END ......max_depth=6, n_estimators=80;, score=0.503 total time=   0.9s\n",
      "[CV 3/3] END ......max_depth=6, n_estimators=80;, score=0.502 total time=   0.9s\n",
      "[CV 1/3] END .....max_depth=6, n_estimators=100;, score=0.497 total time=   1.2s\n",
      "[CV 2/3] END .....max_depth=6, n_estimators=100;, score=0.500 total time=   1.1s\n",
      "[CV 3/3] END .....max_depth=6, n_estimators=100;, score=0.494 total time=   1.0s\n",
      "[CV 1/3] END .....max_depth=6, n_estimators=150;, score=0.513 total time=   1.6s\n",
      "[CV 2/3] END .....max_depth=6, n_estimators=150;, score=0.504 total time=   1.2s\n",
      "[CV 3/3] END .....max_depth=6, n_estimators=150;, score=0.503 total time=   1.0s\n",
      "[CV 1/3] END ......max_depth=8, n_estimators=80;, score=0.534 total time=   0.7s\n",
      "[CV 2/3] END ......max_depth=8, n_estimators=80;, score=0.529 total time=   0.7s\n",
      "[CV 3/3] END ......max_depth=8, n_estimators=80;, score=0.521 total time=   0.8s\n",
      "[CV 1/3] END .....max_depth=8, n_estimators=100;, score=0.532 total time=   1.3s\n",
      "[CV 2/3] END .....max_depth=8, n_estimators=100;, score=0.534 total time=   1.2s\n",
      "[CV 3/3] END .....max_depth=8, n_estimators=100;, score=0.523 total time=   1.2s\n",
      "[CV 1/3] END .....max_depth=8, n_estimators=150;, score=0.534 total time=   1.8s\n",
      "[CV 2/3] END .....max_depth=8, n_estimators=150;, score=0.541 total time=   1.7s\n",
      "[CV 3/3] END .....max_depth=8, n_estimators=150;, score=0.529 total time=   1.9s\n",
      "[CV 1/3] END .....max_depth=10, n_estimators=80;, score=0.553 total time=   1.1s\n",
      "[CV 2/3] END .....max_depth=10, n_estimators=80;, score=0.541 total time=   1.0s\n",
      "[CV 3/3] END .....max_depth=10, n_estimators=80;, score=0.547 total time=   0.8s\n",
      "[CV 1/3] END ....max_depth=10, n_estimators=100;, score=0.555 total time=   0.9s\n",
      "[CV 2/3] END ....max_depth=10, n_estimators=100;, score=0.539 total time=   1.0s\n",
      "[CV 3/3] END ....max_depth=10, n_estimators=100;, score=0.553 total time=   1.0s\n",
      "[CV 1/3] END ....max_depth=10, n_estimators=150;, score=0.552 total time=   2.1s\n",
      "[CV 2/3] END ....max_depth=10, n_estimators=150;, score=0.541 total time=   2.1s\n",
      "[CV 3/3] END ....max_depth=10, n_estimators=150;, score=0.557 total time=   2.0s\n",
      "[CV 1/3] END .....max_depth=12, n_estimators=80;, score=0.553 total time=   1.0s\n",
      "[CV 2/3] END .....max_depth=12, n_estimators=80;, score=0.533 total time=   1.2s\n",
      "[CV 3/3] END .....max_depth=12, n_estimators=80;, score=0.572 total time=   1.1s\n",
      "[CV 1/3] END ....max_depth=12, n_estimators=100;, score=0.554 total time=   1.4s\n",
      "[CV 2/3] END ....max_depth=12, n_estimators=100;, score=0.540 total time=   1.1s\n",
      "[CV 3/3] END ....max_depth=12, n_estimators=100;, score=0.570 total time=   1.1s\n",
      "[CV 1/3] END ....max_depth=12, n_estimators=150;, score=0.549 total time=   1.7s\n",
      "[CV 2/3] END ....max_depth=12, n_estimators=150;, score=0.548 total time=   1.9s\n",
      "[CV 3/3] END ....max_depth=12, n_estimators=150;, score=0.557 total time=   2.1s\n"
     ]
    },
    {
     "data": {
      "text/html": [
       "<style>#sk-container-id-1 {color: black;background-color: white;}#sk-container-id-1 pre{padding: 0;}#sk-container-id-1 div.sk-toggleable {background-color: white;}#sk-container-id-1 label.sk-toggleable__label {cursor: pointer;display: block;width: 100%;margin-bottom: 0;padding: 0.3em;box-sizing: border-box;text-align: center;}#sk-container-id-1 label.sk-toggleable__label-arrow:before {content: \"▸\";float: left;margin-right: 0.25em;color: #696969;}#sk-container-id-1 label.sk-toggleable__label-arrow:hover:before {color: black;}#sk-container-id-1 div.sk-estimator:hover label.sk-toggleable__label-arrow:before {color: black;}#sk-container-id-1 div.sk-toggleable__content {max-height: 0;max-width: 0;overflow: hidden;text-align: left;background-color: #f0f8ff;}#sk-container-id-1 div.sk-toggleable__content pre {margin: 0.2em;color: black;border-radius: 0.25em;background-color: #f0f8ff;}#sk-container-id-1 input.sk-toggleable__control:checked~div.sk-toggleable__content {max-height: 200px;max-width: 100%;overflow: auto;}#sk-container-id-1 input.sk-toggleable__control:checked~label.sk-toggleable__label-arrow:before {content: \"▾\";}#sk-container-id-1 div.sk-estimator input.sk-toggleable__control:checked~label.sk-toggleable__label {background-color: #d4ebff;}#sk-container-id-1 div.sk-label input.sk-toggleable__control:checked~label.sk-toggleable__label {background-color: #d4ebff;}#sk-container-id-1 input.sk-hidden--visually {border: 0;clip: rect(1px 1px 1px 1px);clip: rect(1px, 1px, 1px, 1px);height: 1px;margin: -1px;overflow: hidden;padding: 0;position: absolute;width: 1px;}#sk-container-id-1 div.sk-estimator {font-family: monospace;background-color: #f0f8ff;border: 1px dotted black;border-radius: 0.25em;box-sizing: border-box;margin-bottom: 0.5em;}#sk-container-id-1 div.sk-estimator:hover {background-color: #d4ebff;}#sk-container-id-1 div.sk-parallel-item::after {content: \"\";width: 100%;border-bottom: 1px solid gray;flex-grow: 1;}#sk-container-id-1 div.sk-label:hover label.sk-toggleable__label {background-color: #d4ebff;}#sk-container-id-1 div.sk-serial::before {content: \"\";position: absolute;border-left: 1px solid gray;box-sizing: border-box;top: 0;bottom: 0;left: 50%;z-index: 0;}#sk-container-id-1 div.sk-serial {display: flex;flex-direction: column;align-items: center;background-color: white;padding-right: 0.2em;padding-left: 0.2em;position: relative;}#sk-container-id-1 div.sk-item {position: relative;z-index: 1;}#sk-container-id-1 div.sk-parallel {display: flex;align-items: stretch;justify-content: center;background-color: white;position: relative;}#sk-container-id-1 div.sk-item::before, #sk-container-id-1 div.sk-parallel-item::before {content: \"\";position: absolute;border-left: 1px solid gray;box-sizing: border-box;top: 0;bottom: 0;left: 50%;z-index: -1;}#sk-container-id-1 div.sk-parallel-item {display: flex;flex-direction: column;z-index: 1;position: relative;background-color: white;}#sk-container-id-1 div.sk-parallel-item:first-child::after {align-self: flex-end;width: 50%;}#sk-container-id-1 div.sk-parallel-item:last-child::after {align-self: flex-start;width: 50%;}#sk-container-id-1 div.sk-parallel-item:only-child::after {width: 0;}#sk-container-id-1 div.sk-dashed-wrapped {border: 1px dashed gray;margin: 0 0.4em 0.5em 0.4em;box-sizing: border-box;padding-bottom: 0.4em;background-color: white;}#sk-container-id-1 div.sk-label label {font-family: monospace;font-weight: bold;display: inline-block;line-height: 1.2em;}#sk-container-id-1 div.sk-label-container {text-align: center;}#sk-container-id-1 div.sk-container {/* jupyter's `normalize.less` sets `[hidden] { display: none; }` but bootstrap.min.css set `[hidden] { display: none !important; }` so we also need the `!important` here to be able to override the default hidden behavior on the sphinx rendered scikit-learn.org. See: https://github.com/scikit-learn/scikit-learn/issues/21755 */display: inline-block !important;position: relative;}#sk-container-id-1 div.sk-text-repr-fallback {display: none;}</style><div id=\"sk-container-id-1\" class=\"sk-top-container\"><div class=\"sk-text-repr-fallback\"><pre>GridSearchCV(cv=KFold(n_splits=3, random_state=42, shuffle=True),\n",
       "             estimator=RandomForestClassifier(random_state=42),\n",
       "             param_grid={&#x27;max_depth&#x27;: [2, 4, 6, 8, 10, 12],\n",
       "                         &#x27;n_estimators&#x27;: [80, 100, 150]},\n",
       "             scoring=&#x27;f1&#x27;, verbose=3)</pre><b>In a Jupyter environment, please rerun this cell to show the HTML representation or trust the notebook. <br />On GitHub, the HTML representation is unable to render, please try loading this page with nbviewer.org.</b></div><div class=\"sk-container\" hidden><div class=\"sk-item sk-dashed-wrapped\"><div class=\"sk-label-container\"><div class=\"sk-label sk-toggleable\"><input class=\"sk-toggleable__control sk-hidden--visually\" id=\"sk-estimator-id-1\" type=\"checkbox\" ><label for=\"sk-estimator-id-1\" class=\"sk-toggleable__label sk-toggleable__label-arrow\">GridSearchCV</label><div class=\"sk-toggleable__content\"><pre>GridSearchCV(cv=KFold(n_splits=3, random_state=42, shuffle=True),\n",
       "             estimator=RandomForestClassifier(random_state=42),\n",
       "             param_grid={&#x27;max_depth&#x27;: [2, 4, 6, 8, 10, 12],\n",
       "                         &#x27;n_estimators&#x27;: [80, 100, 150]},\n",
       "             scoring=&#x27;f1&#x27;, verbose=3)</pre></div></div></div><div class=\"sk-parallel\"><div class=\"sk-parallel-item\"><div class=\"sk-item\"><div class=\"sk-label-container\"><div class=\"sk-label sk-toggleable\"><input class=\"sk-toggleable__control sk-hidden--visually\" id=\"sk-estimator-id-2\" type=\"checkbox\" ><label for=\"sk-estimator-id-2\" class=\"sk-toggleable__label sk-toggleable__label-arrow\">estimator: RandomForestClassifier</label><div class=\"sk-toggleable__content\"><pre>RandomForestClassifier(random_state=42)</pre></div></div></div><div class=\"sk-serial\"><div class=\"sk-item\"><div class=\"sk-estimator sk-toggleable\"><input class=\"sk-toggleable__control sk-hidden--visually\" id=\"sk-estimator-id-3\" type=\"checkbox\" ><label for=\"sk-estimator-id-3\" class=\"sk-toggleable__label sk-toggleable__label-arrow\">RandomForestClassifier</label><div class=\"sk-toggleable__content\"><pre>RandomForestClassifier(random_state=42)</pre></div></div></div></div></div></div></div></div></div></div>"
      ],
      "text/plain": [
       "GridSearchCV(cv=KFold(n_splits=3, random_state=42, shuffle=True),\n",
       "             estimator=RandomForestClassifier(random_state=42),\n",
       "             param_grid={'max_depth': [2, 4, 6, 8, 10, 12],\n",
       "                         'n_estimators': [80, 100, 150]},\n",
       "             scoring='f1', verbose=3)"
      ]
     },
     "execution_count": 49,
     "metadata": {},
     "output_type": "execute_result"
    }
   ],
   "source": [
    "grid.fit(x_train, y_train)"
   ]
  },
  {
   "cell_type": "code",
   "execution_count": 50,
   "metadata": {},
   "outputs": [
    {
     "name": "stdout",
     "output_type": "stream",
     "text": [
      "F1_train = 0.5545687748749318\n",
      "{'max_depth': 12, 'n_estimators': 100}\n",
      "RandomForestClassifier(max_depth=12, random_state=42)\n",
      "F1_val = 0.5916795069337443\n"
     ]
    }
   ],
   "source": [
    "print('F1_train =', grid.best_score_)\n",
    "print(grid.best_params_)\n",
    "print(grid.best_estimator_)\n",
    "print('F1_val =', grid.score(x_val, y_val))"
   ]
  },
  {
   "cell_type": "markdown",
   "metadata": {},
   "source": [
    "*Лучшая модель получилась RandomForestClassifier(max_depth=12, n_estimators=100) — F1_score = 0.592 на отложенной выборке.*"
   ]
  },
  {
   "cell_type": "code",
   "execution_count": 51,
   "metadata": {
    "tags": []
   },
   "outputs": [],
   "source": [
    "best_rf = grid.best_estimator_"
   ]
  },
  {
   "cell_type": "code",
   "execution_count": 52,
   "metadata": {
    "tags": []
   },
   "outputs": [
    {
     "name": "stdout",
     "output_type": "stream",
     "text": [
      "f1 = 0.592\n",
      "Precision = 0.814\n",
      "Recall = 0.465\n",
      "[1543   44  221  192] \n",
      "  tn   fp    fn   tp\n",
      "AUC = 0.863\n"
     ]
    }
   ],
   "source": [
    "scores(y_val, best_rf, x_val)"
   ]
  },
  {
   "cell_type": "markdown",
   "metadata": {},
   "source": [
    "Также видим, что полнота у случайного леса прилично выше, чем у логистической регрессии (0,46 против 0,21). Модель предсказывает больше TP взамен FN. А точность увеличилась почти на 20%. Площадь под ROC кривой также выросла на 8%."
   ]
  },
  {
   "cell_type": "markdown",
   "metadata": {},
   "source": [
    "## Борьба с дисбалансом"
   ]
  },
  {
   "cell_type": "markdown",
   "metadata": {},
   "source": [
    "Попробуем три способа борьбы с дисбалансом:\n",
    "1. Укажем аргумент `'class_weight'` при обучении моделей\n",
    "2. Осуществим обучение через upsampling, увеличив долю положительного класса в выборке. Но тогда придется отказаться от GridSearchCV, поскольку его нельзя использовать с апсемплингом, так как у нас утекут признаки из одной выборки в другую (фактически обучаться и валидироваться будем на одних данных)."
   ]
  },
  {
   "cell_type": "markdown",
   "metadata": {},
   "source": [
    "### Использование балансировки классов"
   ]
  },
  {
   "cell_type": "markdown",
   "metadata": {},
   "source": [
    "#### Логистическая регрессия"
   ]
  },
  {
   "cell_type": "code",
   "execution_count": 53,
   "metadata": {},
   "outputs": [
    {
     "name": "stdout",
     "output_type": "stream",
     "text": [
      "f1 = 0.520\n",
      "Precision = 0.405\n",
      "Recall = 0.729\n",
      "[1144  443  112  301] \n",
      "  tn   fp    fn   tp\n",
      "AUC = 0.785\n"
     ]
    }
   ],
   "source": [
    "bal_log_reg = LogisticRegression(solver='liblinear', random_state=42, class_weight='balanced')\n",
    "bal_log_reg.fit(x_train, y_train)\n",
    "bal_log_pred = bal_log_reg.predict(x_val)\n",
    "\n",
    "scores(y_val, bal_log_reg, x_val)"
   ]
  },
  {
   "cell_type": "code",
   "execution_count": 54,
   "metadata": {},
   "outputs": [
    {
     "name": "stdout",
     "output_type": "stream",
     "text": [
      "f1 = 0.315\n",
      "Precision = 0.621\n",
      "Recall = 0.211\n",
      "[1534   53  326   87] \n",
      "  tn   fp    fn   tp\n",
      "AUC = 0.783\n"
     ]
    }
   ],
   "source": [
    "scores(y_val, log_reg, x_val) #результаты прошлой модели"
   ]
  },
  {
   "cell_type": "markdown",
   "metadata": {},
   "source": [
    "Балансировка классов показала отличный результат. F1-мера выросла до 0.52, а полнота значительно увеличилась с 0.21 до 0.73 (модель лучше определяет положительный класс). При этом точность упала на 0.2. Это произошло потому, что модель стала делать гораздо больше положительных предсказаний — вырос как TP, так и FP. В данном случае слишком много ложно-положительных предсказаний повлияло на снижение метрики. При этом значение метрики AUC не поменялось."
   ]
  },
  {
   "cell_type": "markdown",
   "metadata": {},
   "source": [
    "#### Случайный лес"
   ]
  },
  {
   "cell_type": "code",
   "execution_count": 55,
   "metadata": {},
   "outputs": [],
   "source": [
    "bal_rf = RandomForestClassifier(class_weight='balanced', random_state=42)\n",
    "kf = KFold(n_splits=3, shuffle=True, random_state=42)\n",
    "\n",
    "param_grid = {'n_estimators': [80, 100, 150], 'max_depth': list(range(2,13,2))}\n",
    "bal_grid = GridSearchCV(bal_rf, param_grid=param_grid, cv=kf, verbose=3, scoring='f1')"
   ]
  },
  {
   "cell_type": "code",
   "execution_count": 56,
   "metadata": {},
   "outputs": [
    {
     "name": "stdout",
     "output_type": "stream",
     "text": [
      "Fitting 3 folds for each of 18 candidates, totalling 54 fits\n",
      "[CV 1/3] END ......max_depth=2, n_estimators=80;, score=0.510 total time=   0.5s\n",
      "[CV 2/3] END ......max_depth=2, n_estimators=80;, score=0.562 total time=   0.4s\n",
      "[CV 3/3] END ......max_depth=2, n_estimators=80;, score=0.564 total time=   0.5s\n",
      "[CV 1/3] END .....max_depth=2, n_estimators=100;, score=0.517 total time=   0.5s\n",
      "[CV 2/3] END .....max_depth=2, n_estimators=100;, score=0.564 total time=   0.4s\n",
      "[CV 3/3] END .....max_depth=2, n_estimators=100;, score=0.568 total time=   0.5s\n",
      "[CV 1/3] END .....max_depth=2, n_estimators=150;, score=0.514 total time=   0.8s\n",
      "[CV 2/3] END .....max_depth=2, n_estimators=150;, score=0.547 total time=   0.7s\n",
      "[CV 3/3] END .....max_depth=2, n_estimators=150;, score=0.550 total time=   0.8s\n",
      "[CV 1/3] END ......max_depth=4, n_estimators=80;, score=0.537 total time=   0.5s\n",
      "[CV 2/3] END ......max_depth=4, n_estimators=80;, score=0.602 total time=   0.5s\n",
      "[CV 3/3] END ......max_depth=4, n_estimators=80;, score=0.576 total time=   0.5s\n",
      "[CV 1/3] END .....max_depth=4, n_estimators=100;, score=0.535 total time=   0.4s\n",
      "[CV 2/3] END .....max_depth=4, n_estimators=100;, score=0.597 total time=   0.4s\n",
      "[CV 3/3] END .....max_depth=4, n_estimators=100;, score=0.573 total time=   0.5s\n",
      "[CV 1/3] END .....max_depth=4, n_estimators=150;, score=0.539 total time=   0.7s\n",
      "[CV 2/3] END .....max_depth=4, n_estimators=150;, score=0.595 total time=   0.8s\n",
      "[CV 3/3] END .....max_depth=4, n_estimators=150;, score=0.573 total time=   0.7s\n",
      "[CV 1/3] END ......max_depth=6, n_estimators=80;, score=0.577 total time=   0.5s\n",
      "[CV 2/3] END ......max_depth=6, n_estimators=80;, score=0.625 total time=   0.4s\n",
      "[CV 3/3] END ......max_depth=6, n_estimators=80;, score=0.599 total time=   0.5s\n",
      "[CV 1/3] END .....max_depth=6, n_estimators=100;, score=0.574 total time=   0.5s\n",
      "[CV 2/3] END .....max_depth=6, n_estimators=100;, score=0.627 total time=   0.5s\n",
      "[CV 3/3] END .....max_depth=6, n_estimators=100;, score=0.601 total time=   0.6s\n",
      "[CV 1/3] END .....max_depth=6, n_estimators=150;, score=0.575 total time=   1.3s\n",
      "[CV 2/3] END .....max_depth=6, n_estimators=150;, score=0.629 total time=   1.1s\n",
      "[CV 3/3] END .....max_depth=6, n_estimators=150;, score=0.597 total time=   1.1s\n",
      "[CV 1/3] END ......max_depth=8, n_estimators=80;, score=0.588 total time=   0.8s\n",
      "[CV 2/3] END ......max_depth=8, n_estimators=80;, score=0.641 total time=   0.8s\n",
      "[CV 3/3] END ......max_depth=8, n_estimators=80;, score=0.619 total time=   0.8s\n",
      "[CV 1/3] END .....max_depth=8, n_estimators=100;, score=0.585 total time=   1.1s\n",
      "[CV 2/3] END .....max_depth=8, n_estimators=100;, score=0.645 total time=   1.0s\n",
      "[CV 3/3] END .....max_depth=8, n_estimators=100;, score=0.623 total time=   0.7s\n",
      "[CV 1/3] END .....max_depth=8, n_estimators=150;, score=0.582 total time=   1.1s\n",
      "[CV 2/3] END .....max_depth=8, n_estimators=150;, score=0.638 total time=   1.1s\n",
      "[CV 3/3] END .....max_depth=8, n_estimators=150;, score=0.610 total time=   1.0s\n",
      "[CV 1/3] END .....max_depth=10, n_estimators=80;, score=0.578 total time=   0.6s\n",
      "[CV 2/3] END .....max_depth=10, n_estimators=80;, score=0.601 total time=   0.6s\n",
      "[CV 3/3] END .....max_depth=10, n_estimators=80;, score=0.620 total time=   0.8s\n",
      "[CV 1/3] END ....max_depth=10, n_estimators=100;, score=0.588 total time=   1.0s\n",
      "[CV 2/3] END ....max_depth=10, n_estimators=100;, score=0.598 total time=   1.2s\n",
      "[CV 3/3] END ....max_depth=10, n_estimators=100;, score=0.627 total time=   1.1s\n",
      "[CV 1/3] END ....max_depth=10, n_estimators=150;, score=0.593 total time=   1.7s\n",
      "[CV 2/3] END ....max_depth=10, n_estimators=150;, score=0.611 total time=   1.7s\n",
      "[CV 3/3] END ....max_depth=10, n_estimators=150;, score=0.618 total time=   2.4s\n",
      "[CV 1/3] END .....max_depth=12, n_estimators=80;, score=0.576 total time=   0.9s\n",
      "[CV 2/3] END .....max_depth=12, n_estimators=80;, score=0.588 total time=   0.7s\n",
      "[CV 3/3] END .....max_depth=12, n_estimators=80;, score=0.589 total time=   0.8s\n",
      "[CV 1/3] END ....max_depth=12, n_estimators=100;, score=0.576 total time=   0.8s\n",
      "[CV 2/3] END ....max_depth=12, n_estimators=100;, score=0.584 total time=   0.9s\n",
      "[CV 3/3] END ....max_depth=12, n_estimators=100;, score=0.590 total time=   0.9s\n",
      "[CV 1/3] END ....max_depth=12, n_estimators=150;, score=0.569 total time=   1.4s\n",
      "[CV 2/3] END ....max_depth=12, n_estimators=150;, score=0.581 total time=   1.8s\n",
      "[CV 3/3] END ....max_depth=12, n_estimators=150;, score=0.593 total time=   1.7s\n"
     ]
    },
    {
     "data": {
      "text/html": [
       "<style>#sk-container-id-2 {color: black;background-color: white;}#sk-container-id-2 pre{padding: 0;}#sk-container-id-2 div.sk-toggleable {background-color: white;}#sk-container-id-2 label.sk-toggleable__label {cursor: pointer;display: block;width: 100%;margin-bottom: 0;padding: 0.3em;box-sizing: border-box;text-align: center;}#sk-container-id-2 label.sk-toggleable__label-arrow:before {content: \"▸\";float: left;margin-right: 0.25em;color: #696969;}#sk-container-id-2 label.sk-toggleable__label-arrow:hover:before {color: black;}#sk-container-id-2 div.sk-estimator:hover label.sk-toggleable__label-arrow:before {color: black;}#sk-container-id-2 div.sk-toggleable__content {max-height: 0;max-width: 0;overflow: hidden;text-align: left;background-color: #f0f8ff;}#sk-container-id-2 div.sk-toggleable__content pre {margin: 0.2em;color: black;border-radius: 0.25em;background-color: #f0f8ff;}#sk-container-id-2 input.sk-toggleable__control:checked~div.sk-toggleable__content {max-height: 200px;max-width: 100%;overflow: auto;}#sk-container-id-2 input.sk-toggleable__control:checked~label.sk-toggleable__label-arrow:before {content: \"▾\";}#sk-container-id-2 div.sk-estimator input.sk-toggleable__control:checked~label.sk-toggleable__label {background-color: #d4ebff;}#sk-container-id-2 div.sk-label input.sk-toggleable__control:checked~label.sk-toggleable__label {background-color: #d4ebff;}#sk-container-id-2 input.sk-hidden--visually {border: 0;clip: rect(1px 1px 1px 1px);clip: rect(1px, 1px, 1px, 1px);height: 1px;margin: -1px;overflow: hidden;padding: 0;position: absolute;width: 1px;}#sk-container-id-2 div.sk-estimator {font-family: monospace;background-color: #f0f8ff;border: 1px dotted black;border-radius: 0.25em;box-sizing: border-box;margin-bottom: 0.5em;}#sk-container-id-2 div.sk-estimator:hover {background-color: #d4ebff;}#sk-container-id-2 div.sk-parallel-item::after {content: \"\";width: 100%;border-bottom: 1px solid gray;flex-grow: 1;}#sk-container-id-2 div.sk-label:hover label.sk-toggleable__label {background-color: #d4ebff;}#sk-container-id-2 div.sk-serial::before {content: \"\";position: absolute;border-left: 1px solid gray;box-sizing: border-box;top: 0;bottom: 0;left: 50%;z-index: 0;}#sk-container-id-2 div.sk-serial {display: flex;flex-direction: column;align-items: center;background-color: white;padding-right: 0.2em;padding-left: 0.2em;position: relative;}#sk-container-id-2 div.sk-item {position: relative;z-index: 1;}#sk-container-id-2 div.sk-parallel {display: flex;align-items: stretch;justify-content: center;background-color: white;position: relative;}#sk-container-id-2 div.sk-item::before, #sk-container-id-2 div.sk-parallel-item::before {content: \"\";position: absolute;border-left: 1px solid gray;box-sizing: border-box;top: 0;bottom: 0;left: 50%;z-index: -1;}#sk-container-id-2 div.sk-parallel-item {display: flex;flex-direction: column;z-index: 1;position: relative;background-color: white;}#sk-container-id-2 div.sk-parallel-item:first-child::after {align-self: flex-end;width: 50%;}#sk-container-id-2 div.sk-parallel-item:last-child::after {align-self: flex-start;width: 50%;}#sk-container-id-2 div.sk-parallel-item:only-child::after {width: 0;}#sk-container-id-2 div.sk-dashed-wrapped {border: 1px dashed gray;margin: 0 0.4em 0.5em 0.4em;box-sizing: border-box;padding-bottom: 0.4em;background-color: white;}#sk-container-id-2 div.sk-label label {font-family: monospace;font-weight: bold;display: inline-block;line-height: 1.2em;}#sk-container-id-2 div.sk-label-container {text-align: center;}#sk-container-id-2 div.sk-container {/* jupyter's `normalize.less` sets `[hidden] { display: none; }` but bootstrap.min.css set `[hidden] { display: none !important; }` so we also need the `!important` here to be able to override the default hidden behavior on the sphinx rendered scikit-learn.org. See: https://github.com/scikit-learn/scikit-learn/issues/21755 */display: inline-block !important;position: relative;}#sk-container-id-2 div.sk-text-repr-fallback {display: none;}</style><div id=\"sk-container-id-2\" class=\"sk-top-container\"><div class=\"sk-text-repr-fallback\"><pre>GridSearchCV(cv=KFold(n_splits=3, random_state=42, shuffle=True),\n",
       "             estimator=RandomForestClassifier(class_weight=&#x27;balanced&#x27;,\n",
       "                                              random_state=42),\n",
       "             param_grid={&#x27;max_depth&#x27;: [2, 4, 6, 8, 10, 12],\n",
       "                         &#x27;n_estimators&#x27;: [80, 100, 150]},\n",
       "             scoring=&#x27;f1&#x27;, verbose=3)</pre><b>In a Jupyter environment, please rerun this cell to show the HTML representation or trust the notebook. <br />On GitHub, the HTML representation is unable to render, please try loading this page with nbviewer.org.</b></div><div class=\"sk-container\" hidden><div class=\"sk-item sk-dashed-wrapped\"><div class=\"sk-label-container\"><div class=\"sk-label sk-toggleable\"><input class=\"sk-toggleable__control sk-hidden--visually\" id=\"sk-estimator-id-4\" type=\"checkbox\" ><label for=\"sk-estimator-id-4\" class=\"sk-toggleable__label sk-toggleable__label-arrow\">GridSearchCV</label><div class=\"sk-toggleable__content\"><pre>GridSearchCV(cv=KFold(n_splits=3, random_state=42, shuffle=True),\n",
       "             estimator=RandomForestClassifier(class_weight=&#x27;balanced&#x27;,\n",
       "                                              random_state=42),\n",
       "             param_grid={&#x27;max_depth&#x27;: [2, 4, 6, 8, 10, 12],\n",
       "                         &#x27;n_estimators&#x27;: [80, 100, 150]},\n",
       "             scoring=&#x27;f1&#x27;, verbose=3)</pre></div></div></div><div class=\"sk-parallel\"><div class=\"sk-parallel-item\"><div class=\"sk-item\"><div class=\"sk-label-container\"><div class=\"sk-label sk-toggleable\"><input class=\"sk-toggleable__control sk-hidden--visually\" id=\"sk-estimator-id-5\" type=\"checkbox\" ><label for=\"sk-estimator-id-5\" class=\"sk-toggleable__label sk-toggleable__label-arrow\">estimator: RandomForestClassifier</label><div class=\"sk-toggleable__content\"><pre>RandomForestClassifier(class_weight=&#x27;balanced&#x27;, random_state=42)</pre></div></div></div><div class=\"sk-serial\"><div class=\"sk-item\"><div class=\"sk-estimator sk-toggleable\"><input class=\"sk-toggleable__control sk-hidden--visually\" id=\"sk-estimator-id-6\" type=\"checkbox\" ><label for=\"sk-estimator-id-6\" class=\"sk-toggleable__label sk-toggleable__label-arrow\">RandomForestClassifier</label><div class=\"sk-toggleable__content\"><pre>RandomForestClassifier(class_weight=&#x27;balanced&#x27;, random_state=42)</pre></div></div></div></div></div></div></div></div></div></div>"
      ],
      "text/plain": [
       "GridSearchCV(cv=KFold(n_splits=3, random_state=42, shuffle=True),\n",
       "             estimator=RandomForestClassifier(class_weight='balanced',\n",
       "                                              random_state=42),\n",
       "             param_grid={'max_depth': [2, 4, 6, 8, 10, 12],\n",
       "                         'n_estimators': [80, 100, 150]},\n",
       "             scoring='f1', verbose=3)"
      ]
     },
     "execution_count": 56,
     "metadata": {},
     "output_type": "execute_result"
    }
   ],
   "source": [
    "bal_grid.fit(x_train, y_train)"
   ]
  },
  {
   "cell_type": "code",
   "execution_count": 58,
   "metadata": {},
   "outputs": [
    {
     "name": "stdout",
     "output_type": "stream",
     "text": [
      "F1_train = 0.6176089780520415\n",
      "{'max_depth': 8, 'n_estimators': 100}\n",
      "RandomForestClassifier(class_weight='balanced', max_depth=8, random_state=42)\n",
      "F1_val = 0.6157158234660925\n"
     ]
    }
   ],
   "source": [
    "print('F1_train =', bal_grid.best_score_) #результаты модели с балансом классов\n",
    "print(bal_grid.best_params_)\n",
    "print(bal_grid.best_estimator_)\n",
    "print('F1_val =', bal_grid.score(x_val, y_val))"
   ]
  },
  {
   "cell_type": "markdown",
   "metadata": {},
   "source": [
    "*Лучшая модель получилась RandomForestClassifier(max_depth=8, n_estimators=100) — F1_score = 0.62 на отложенной выборке.*"
   ]
  },
  {
   "cell_type": "code",
   "execution_count": 59,
   "metadata": {
    "tags": []
   },
   "outputs": [],
   "source": [
    "bal_best_rf = bal_grid.best_estimator_"
   ]
  },
  {
   "cell_type": "code",
   "execution_count": 64,
   "metadata": {
    "tags": []
   },
   "outputs": [
    {
     "name": "stdout",
     "output_type": "stream",
     "text": [
      "f1 = 0.616\n",
      "Precision = 0.554\n",
      "Recall = 0.692\n",
      "[1357  230  127  286] \n",
      "  tn   fp    fn   tp\n",
      "AUC = 0.87\n"
     ]
    }
   ],
   "source": [
    "scores(y_val, bal_best_rf, x_val)"
   ]
  },
  {
   "cell_type": "code",
   "execution_count": 63,
   "metadata": {},
   "outputs": [
    {
     "name": "stdout",
     "output_type": "stream",
     "text": [
      "f1 = 0.592\n",
      "Precision = 0.814\n",
      "Recall = 0.465\n",
      "[1543   44  221  192] \n",
      "  tn   fp    fn   tp\n",
      "AUC = 0.863\n"
     ]
    }
   ],
   "source": [
    "scores(y_val, best_rf, x_val) #результаты прошлой модели"
   ]
  },
  {
   "cell_type": "markdown",
   "metadata": {},
   "source": [
    "В случайном лесе также упала точность и выросла полнота, но в меньшей мере, поскольку здесь количество положительных предсказаний изменилось не так значительно. Среднее гармоническое обеих метрик немного выросло. F1 = 0.62 — уже приемлемый результат для данной работы. Метрика AUC не изменилась."
   ]
  },
  {
   "cell_type": "markdown",
   "metadata": {},
   "source": [
    "### Увеличение обущающей выборки (upsampling)"
   ]
  },
  {
   "cell_type": "markdown",
   "metadata": {},
   "source": [
    "Напишем функцию upsample, принимающую на вход фичи, таргет и количество повторов и выдающую выборку с повышенной долей класса."
   ]
  },
  {
   "cell_type": "code",
   "execution_count": 65,
   "metadata": {},
   "outputs": [],
   "source": [
    "from sklearn.utils import shuffle"
   ]
  },
  {
   "cell_type": "code",
   "execution_count": 66,
   "metadata": {},
   "outputs": [],
   "source": [
    "def upsample(features, target, repeat):\n",
    "    features_zeros = features[target==0]\n",
    "    features_ones = features[target==1]\n",
    "    target_zeros = target[target==0]\n",
    "    target_ones = target[target==1]\n",
    "    \n",
    "    features_upsample = pd.concat([features_zeros] + [features_ones] * repeat)\n",
    "    target_upsample = pd.concat([target_zeros] + [target_ones] * repeat)\n",
    "    \n",
    "    return shuffle(features_upsample, target_upsample, random_state=42)"
   ]
  },
  {
   "cell_type": "markdown",
   "metadata": {},
   "source": [
    "Увеличим долю единиц в 4 раза, поскольку дисбаланс классов 1:4."
   ]
  },
  {
   "cell_type": "code",
   "execution_count": 67,
   "metadata": {},
   "outputs": [],
   "source": [
    "x_train_up, y_train_up = upsample(x_train, y_train, 4)"
   ]
  },
  {
   "cell_type": "code",
   "execution_count": 68,
   "metadata": {},
   "outputs": [
    {
     "data": {
      "text/plain": [
       "0.5079954606417002"
      ]
     },
     "execution_count": 68,
     "metadata": {},
     "output_type": "execute_result"
    }
   ],
   "source": [
    "y_train_up.mean() #теперь единицы составляют ~50%"
   ]
  },
  {
   "cell_type": "markdown",
   "metadata": {},
   "source": [
    "#### Логистическая регрессия <a id='bal_log_reg'></a>"
   ]
  },
  {
   "cell_type": "code",
   "execution_count": 72,
   "metadata": {},
   "outputs": [
    {
     "name": "stdout",
     "output_type": "stream",
     "text": [
      "f1 = 0.517\n",
      "Precision = 0.397\n",
      "Recall = 0.738\n",
      "[1124  463  108  305] \n",
      "  tn   fp    fn   tp\n",
      "AUC = 0.785\n"
     ]
    }
   ],
   "source": [
    "up_log_reg = LogisticRegression(solver='liblinear', random_state=42)\n",
    "up_log_reg.fit(x_train_up, y_train_up)\n",
    "up_log_pred = up_log_reg.predict(x_val)\n",
    "\n",
    "scores(y_val, up_log_reg, x_val)"
   ]
  },
  {
   "cell_type": "markdown",
   "metadata": {},
   "source": [
    "Результат F1 получился чуть хуже, чем при балансировке классов. Полнота и число FP выросло еще сильнее в ущерб точности. Такая модель не годится. Площадь под ROC-кривой, наоборот, не поменялась."
   ]
  },
  {
   "cell_type": "markdown",
   "metadata": {},
   "source": [
    "#### Случайный лес"
   ]
  },
  {
   "cell_type": "markdown",
   "metadata": {
    "tags": []
   },
   "source": [
    "Здесь будем использовать вложенный цикл для подбора оптимальных гиперпараметров"
   ]
  },
  {
   "cell_type": "code",
   "execution_count": 76,
   "metadata": {},
   "outputs": [
    {
     "name": "stdout",
     "output_type": "stream",
     "text": [
      "RandomForestClassifier(max_depth=12, random_state=12345) n_estimators = 100\n",
      "f1 = 0.597\n",
      "Precision = 0.803\n",
      "Recall = 0.475\n",
      "[1539   48  217  196] \n",
      "  tn   fp    fn   tp\n",
      "AUC = 0.865\n",
      "None\n"
     ]
    }
   ],
   "source": [
    "best_score = 0\n",
    "for est in range(20, 101, 20):\n",
    "    for depth in range(2, 13, 2):\n",
    "        rf = RandomForestClassifier(random_state=12345, n_estimators=est, max_depth=depth)\n",
    "        rf.fit(x_train, y_train)\n",
    "        rf_pred = rf.predict(x_val)\n",
    "        if f1(y_val, rf_pred) > best_score:\n",
    "            up_best_rf = rf\n",
    "print(up_best_rf, 'n_estimators =', up_best_rf.get_params().get('n_estimators'))\n",
    "print(scores(y_val, up_best_rf, x_val))"
   ]
  },
  {
   "cell_type": "markdown",
   "metadata": {},
   "source": [
    "*Лучшая модель получилась RandomForestClassifier(max_depth=12, n_estimators=100) — F1_score = 0.587 на валидационной выборке.*"
   ]
  },
  {
   "cell_type": "code",
   "execution_count": 77,
   "metadata": {},
   "outputs": [
    {
     "name": "stdout",
     "output_type": "stream",
     "text": [
      "f1 = 0.616\n",
      "Precision = 0.554\n",
      "Recall = 0.692\n",
      "[1357  230  127  286] \n",
      "  tn   fp    fn   tp\n",
      "AUC = 0.87\n",
      "None\n"
     ]
    }
   ],
   "source": [
    "print(scores(y_val, bal_best_rf, x_val)) #результаты с балансировкой"
   ]
  },
  {
   "cell_type": "markdown",
   "metadata": {},
   "source": [
    "**Upsampling не смог дать внушительные результаты. Реализовывать downsampling и значительно уменьшать обучающую выборку выглядит нерационально, поэтому остановимся на балансировке классов.**"
   ]
  },
  {
   "cell_type": "markdown",
   "metadata": {},
   "source": [
    "## Тестирование моделей"
   ]
  },
  {
   "cell_type": "markdown",
   "metadata": {},
   "source": [
    "### Прогнозирование лучшей моделью на тестовой выборке"
   ]
  },
  {
   "cell_type": "markdown",
   "metadata": {},
   "source": [
    "Нам подошла модель случайного леса с балансировкой классов:"
   ]
  },
  {
   "cell_type": "code",
   "execution_count": 78,
   "metadata": {},
   "outputs": [
    {
     "name": "stdout",
     "output_type": "stream",
     "text": [
      "RandomForestClassifier(class_weight='balanced', max_depth=8, random_state=42) n_estimators = 100\n",
      "f1 = 0.616\n",
      "Precision = 0.554\n",
      "Recall = 0.692\n",
      "[1357  230  127  286] \n",
      "  tn   fp    fn   tp\n",
      "AUC = 0.87\n",
      "None\n"
     ]
    }
   ],
   "source": [
    "print(bal_best_rf, 'n_estimators =', bal_best_rf.get_params().get('n_estimators'))\n",
    "print(scores(y_val, bal_best_rf, x_val))"
   ]
  },
  {
   "cell_type": "markdown",
   "metadata": {},
   "source": [
    "**Проверим модель на тестовой выборке:**"
   ]
  },
  {
   "cell_type": "code",
   "execution_count": 79,
   "metadata": {},
   "outputs": [
    {
     "name": "stdout",
     "output_type": "stream",
     "text": [
      "f1 = 0.625\n",
      "Precision = 0.557\n",
      "Recall = 0.712\n",
      "[1384  223  113  280] \n",
      "  tn   fp    fn   tp\n",
      "AUC = 0.865\n"
     ]
    }
   ],
   "source": [
    "scores(y_test, bal_best_rf, x_test)"
   ]
  },
  {
   "cell_type": "markdown",
   "metadata": {},
   "source": [
    "Метрика AUC изменилась незначительно в рамках случайных отклонений."
   ]
  },
  {
   "cell_type": "markdown",
   "metadata": {},
   "source": [
    "**Модель хорошо ведет себя на тестовой выборке, наши метрики практически не изменились. Далее сравним нашу модель с константными предсказаниями.**"
   ]
  },
  {
   "cell_type": "markdown",
   "metadata": {},
   "source": [
    "### Сравнение с дамми-классификатором"
   ]
  },
  {
   "cell_type": "code",
   "execution_count": 80,
   "metadata": {},
   "outputs": [
    {
     "name": "stdout",
     "output_type": "stream",
     "text": [
      "f1 = 0.328\n",
      "Precision = 0.197\n",
      "Recall = 1.000\n",
      "[   0 1607    0  393] \n",
      "  tn   fp    fn   tp\n",
      "AUC = 0.5\n",
      "None\n"
     ]
    }
   ],
   "source": [
    "from sklearn.dummy import DummyClassifier\n",
    "\n",
    "dummy_model = DummyClassifier(strategy='constant', constant=1)\n",
    "dummy_model.fit(x_train, y_train)\n",
    "print(scores(y_test, dummy_model, x_test))"
   ]
  },
  {
   "cell_type": "code",
   "execution_count": 81,
   "metadata": {},
   "outputs": [
    {
     "name": "stdout",
     "output_type": "stream",
     "text": [
      "f1 = 0.625\n",
      "Precision = 0.557\n",
      "Recall = 0.712\n",
      "[1384  223  113  280] \n",
      "  tn   fp    fn   tp\n",
      "AUC = 0.865\n"
     ]
    }
   ],
   "source": [
    "scores(y_test, bal_best_rf, x_test) #лучшая модель на тестовой выборке"
   ]
  },
  {
   "cell_type": "markdown",
   "metadata": {},
   "source": [
    "В сравнении с константным классификатором видно, что наша модель более сложная и дает нам прирост качества — объекты хорошо определяются, судя по разнице количества ложных предсказаний FP и FN (1607 + 0 дамми против 123 + 169 в модели случайного леса)."
   ]
  },
  {
   "cell_type": "markdown",
   "metadata": {},
   "source": [
    "Первостепенная задача состоит в корректном выделении клиентов на отток. Модель верно определяет 57% таких клиентов *(Recall = 0.57)*, в том числе из-за проблем с дисбалансом — их достаточно мало в выборке. Однако наша модель при этом отлично справляется с детекцией клиентов, которые не уйдут в ближайшее время: 1484 из 1607 (92%) — это позволит сократить расходы банка на лишние акции с бонусами.<br> **Посмотрим на ROC-кривую:**"
   ]
  },
  {
   "cell_type": "code",
   "execution_count": 95,
   "metadata": {},
   "outputs": [
    {
     "data": {
      "image/png": "[encoded data removed]",
      "text/plain": [
       "<Figure size 450x300 with 1 Axes>"
      ]
     },
     "metadata": {},
     "output_type": "display_data"
    }
   ],
   "source": [
    "fpr, tpr, thresholds = roc_curve(y_test, bal_best_rf.predict_proba(x_test)[:, 1])\n",
    "\n",
    "plt.figure(figsize=(4.5, 3))\n",
    "plt.plot(fpr, tpr, linestyle='--')\n",
    "plt.ylim([0.0, 1.0])\n",
    "plt.xlim([0.0, 1.0])\n",
    "plt.xlabel('False Positive Rate')\n",
    "plt.ylabel('True Positive Rate')\n",
    "plt.title('ROC-кривая')\n",
    "#plt.figsize(8,4)\n",
    "plt.show();"
   ]
  },
  {
   "cell_type": "markdown",
   "metadata": {},
   "source": [
    "На вертикальной оси отмечен TPR (он же Recall), мы можем понизить порог и выделять, например, 80% потенциально уходящих клиентов. Но это непременно повлечет увеличение FPR c ~8% до 25% за счет увеличения ложно-положительных предсказаний FP и, соответственно, это приведет к большей раздаче бонусов. *Подобный результат показала модель логистической регрессии с балансировкой классов и она отличалась низкой точностью*. <br>\n",
    "\n",
    "В попытке удержать как можно больше клиентов, мы можем потратить больше средств, чем эти клиенты могли бы принести. Но поскольку банковские маркетологи посчитали, что сохранить текущих клиентов дешевле, чем привлекать новых, такое решение вполне может быть оптимальным."
   ]
  }
 ],
 "metadata": {
  "ExecuteTimeLog": [
   {
    "duration": 1880,
    "start_time": "2023-03-27T23:54:26.426Z"
   },
   {
    "duration": 543,
    "start_time": "2023-03-27T23:54:53.119Z"
   },
   {
    "duration": 70,
    "start_time": "2023-03-27T23:55:29.285Z"
   },
   {
    "duration": 64,
    "start_time": "2023-03-27T23:55:40.930Z"
   },
   {
    "duration": 24,
    "start_time": "2023-03-27T23:55:49.636Z"
   },
   {
    "duration": 25,
    "start_time": "2023-03-27T23:55:57.555Z"
   },
   {
    "duration": 30,
    "start_time": "2023-03-27T23:56:52.047Z"
   },
   {
    "duration": 143,
    "start_time": "2023-03-27T23:58:31.474Z"
   },
   {
    "duration": 5,
    "start_time": "2023-03-27T23:58:38.293Z"
   },
   {
    "duration": 6,
    "start_time": "2023-03-28T00:42:32.619Z"
   },
   {
    "duration": 374,
    "start_time": "2023-03-28T00:43:04.653Z"
   },
   {
    "duration": 47,
    "start_time": "2023-03-28T00:43:18.261Z"
   },
   {
    "duration": 20,
    "start_time": "2023-03-28T00:43:21.265Z"
   },
   {
    "duration": 14,
    "start_time": "2023-03-28T00:43:24.918Z"
   },
   {
    "duration": 8,
    "start_time": "2023-03-28T00:45:46.719Z"
   },
   {
    "duration": 5,
    "start_time": "2023-03-28T00:47:12.191Z"
   },
   {
    "duration": 15,
    "start_time": "2023-03-28T00:47:15.771Z"
   },
   {
    "duration": 4,
    "start_time": "2023-03-28T00:47:27.298Z"
   },
   {
    "duration": 8,
    "start_time": "2023-03-28T00:49:06.099Z"
   },
   {
    "duration": 7,
    "start_time": "2023-03-28T00:52:36.258Z"
   },
   {
    "duration": 28,
    "start_time": "2023-03-28T00:54:32.061Z"
   },
   {
    "duration": 10,
    "start_time": "2023-03-28T00:55:07.818Z"
   },
   {
    "duration": 4,
    "start_time": "2023-03-28T00:58:57.086Z"
   },
   {
    "duration": 6,
    "start_time": "2023-03-28T00:59:00.512Z"
   },
   {
    "duration": 6,
    "start_time": "2023-03-28T01:00:04.761Z"
   },
   {
    "duration": 14,
    "start_time": "2023-03-28T01:00:15.686Z"
   },
   {
    "duration": 13,
    "start_time": "2023-03-28T01:00:22.514Z"
   },
   {
    "duration": 21,
    "start_time": "2023-03-28T01:00:25.346Z"
   },
   {
    "duration": 5,
    "start_time": "2023-03-28T01:01:49.695Z"
   },
   {
    "duration": 12,
    "start_time": "2023-03-28T01:01:56.801Z"
   },
   {
    "duration": 57,
    "start_time": "2023-03-28T01:04:01.616Z"
   },
   {
    "duration": 13,
    "start_time": "2023-03-28T01:04:02.591Z"
   },
   {
    "duration": 15,
    "start_time": "2023-03-28T01:04:04.163Z"
   },
   {
    "duration": 6,
    "start_time": "2023-03-28T01:04:07.782Z"
   },
   {
    "duration": 5,
    "start_time": "2023-03-28T01:04:09.057Z"
   },
   {
    "duration": 4,
    "start_time": "2023-03-28T01:04:09.891Z"
   },
   {
    "duration": 10,
    "start_time": "2023-03-28T01:04:11.629Z"
   },
   {
    "duration": 14,
    "start_time": "2023-03-28T01:04:13.459Z"
   },
   {
    "duration": 10,
    "start_time": "2023-03-28T01:05:09.262Z"
   },
   {
    "duration": 13,
    "start_time": "2023-03-28T01:05:09.902Z"
   },
   {
    "duration": 15,
    "start_time": "2023-03-28T01:07:49.332Z"
   },
   {
    "duration": 10,
    "start_time": "2023-03-28T01:12:37.665Z"
   },
   {
    "duration": 3,
    "start_time": "2023-03-28T01:12:46.885Z"
   },
   {
    "duration": 22,
    "start_time": "2023-03-28T01:20:21.429Z"
   },
   {
    "duration": 48,
    "start_time": "2023-03-28T01:20:23.815Z"
   },
   {
    "duration": 18,
    "start_time": "2023-03-28T01:20:24.242Z"
   },
   {
    "duration": 6,
    "start_time": "2023-03-28T01:20:25.854Z"
   },
   {
    "duration": 8,
    "start_time": "2023-03-28T01:20:27.754Z"
   },
   {
    "duration": 11,
    "start_time": "2023-03-28T01:20:29.035Z"
   },
   {
    "duration": 4,
    "start_time": "2023-03-28T01:20:31.302Z"
   },
   {
    "duration": 9,
    "start_time": "2023-03-28T01:20:32.826Z"
   },
   {
    "duration": 8,
    "start_time": "2023-03-28T01:20:34.554Z"
   },
   {
    "duration": 13,
    "start_time": "2023-03-28T01:20:35.104Z"
   },
   {
    "duration": 16,
    "start_time": "2023-03-28T01:21:26.536Z"
   },
   {
    "duration": 12,
    "start_time": "2023-03-28T01:21:33.697Z"
   },
   {
    "duration": 8,
    "start_time": "2023-03-28T01:21:40.533Z"
   },
   {
    "duration": 10,
    "start_time": "2023-03-28T01:22:00.419Z"
   },
   {
    "duration": 9,
    "start_time": "2023-03-28T01:22:06.345Z"
   },
   {
    "duration": 9,
    "start_time": "2023-03-28T01:22:57.337Z"
   },
   {
    "duration": 5,
    "start_time": "2023-03-28T01:23:38.284Z"
   },
   {
    "duration": 4,
    "start_time": "2023-03-28T01:23:55.890Z"
   },
   {
    "duration": 27,
    "start_time": "2023-03-28T01:25:40.190Z"
   },
   {
    "duration": 36,
    "start_time": "2023-03-28T01:26:05.214Z"
   },
   {
    "duration": 13,
    "start_time": "2023-03-28T01:26:14.774Z"
   },
   {
    "duration": 0,
    "start_time": "2023-03-28T01:30:36.421Z"
   },
   {
    "duration": 189,
    "start_time": "2023-03-28T01:30:40.476Z"
   },
   {
    "duration": 172,
    "start_time": "2023-03-28T01:30:49.504Z"
   },
   {
    "duration": 165,
    "start_time": "2023-03-28T01:30:57.258Z"
   },
   {
    "duration": 7,
    "start_time": "2023-03-28T01:32:19.746Z"
   },
   {
    "duration": 6,
    "start_time": "2023-03-28T01:35:30.243Z"
   },
   {
    "duration": 151,
    "start_time": "2023-03-28T01:39:42.926Z"
   },
   {
    "duration": 173,
    "start_time": "2023-03-28T01:40:29.119Z"
   },
   {
    "duration": 51,
    "start_time": "2023-03-28T01:44:10.262Z"
   },
   {
    "duration": 4,
    "start_time": "2023-03-28T01:44:46.390Z"
   },
   {
    "duration": 21,
    "start_time": "2023-03-28T01:52:50.070Z"
   },
   {
    "duration": 22,
    "start_time": "2023-03-28T01:54:27.990Z"
   },
   {
    "duration": 3,
    "start_time": "2023-03-28T01:57:10.778Z"
   },
   {
    "duration": 54,
    "start_time": "2023-03-28T01:57:12.012Z"
   },
   {
    "duration": 14,
    "start_time": "2023-03-28T01:57:12.502Z"
   },
   {
    "duration": 14,
    "start_time": "2023-03-28T01:57:13.651Z"
   },
   {
    "duration": 4,
    "start_time": "2023-03-28T01:57:18.583Z"
   },
   {
    "duration": 5,
    "start_time": "2023-03-28T01:57:19.273Z"
   },
   {
    "duration": 6,
    "start_time": "2023-03-28T01:57:20.623Z"
   },
   {
    "duration": 14,
    "start_time": "2023-03-28T01:57:21.133Z"
   },
   {
    "duration": 25,
    "start_time": "2023-03-28T01:57:21.622Z"
   },
   {
    "duration": 7,
    "start_time": "2023-03-28T01:57:32.092Z"
   },
   {
    "duration": 9,
    "start_time": "2023-03-28T01:57:40.337Z"
   },
   {
    "duration": 22,
    "start_time": "2023-03-28T01:57:42.633Z"
   },
   {
    "duration": 13,
    "start_time": "2023-03-28T01:57:54.547Z"
   },
   {
    "duration": 6,
    "start_time": "2023-03-28T01:58:03.264Z"
   },
   {
    "duration": 9,
    "start_time": "2023-03-28T01:58:03.954Z"
   },
   {
    "duration": 4,
    "start_time": "2023-03-28T01:58:04.461Z"
   },
   {
    "duration": 32,
    "start_time": "2023-03-28T01:58:06.343Z"
   },
   {
    "duration": 16,
    "start_time": "2023-03-28T01:58:07.241Z"
   },
   {
    "duration": 5,
    "start_time": "2023-03-28T01:58:10.264Z"
   },
   {
    "duration": 35,
    "start_time": "2023-03-28T01:58:11.512Z"
   },
   {
    "duration": 4,
    "start_time": "2023-03-28T02:00:30.225Z"
   },
   {
    "duration": 86,
    "start_time": "2023-03-28T02:00:43.966Z"
   },
   {
    "duration": 4,
    "start_time": "2023-03-28T02:01:23.294Z"
   },
   {
    "duration": 4,
    "start_time": "2023-03-28T02:05:31.975Z"
   },
   {
    "duration": 70,
    "start_time": "2023-03-28T02:05:32.876Z"
   },
   {
    "duration": 4,
    "start_time": "2023-03-28T02:08:11.777Z"
   },
   {
    "duration": 122,
    "start_time": "2023-03-28T02:08:13.229Z"
   },
   {
    "duration": 7,
    "start_time": "2023-03-28T02:08:23.050Z"
   },
   {
    "duration": 69,
    "start_time": "2023-03-28T02:08:24.879Z"
   },
   {
    "duration": 4,
    "start_time": "2023-03-28T02:08:31.405Z"
   },
   {
    "duration": 97,
    "start_time": "2023-03-28T02:08:31.847Z"
   },
   {
    "duration": 4,
    "start_time": "2023-03-28T02:08:38.750Z"
   },
   {
    "duration": 34,
    "start_time": "2023-03-28T02:08:39.400Z"
   },
   {
    "duration": 4,
    "start_time": "2023-03-28T02:08:42.662Z"
   },
   {
    "duration": 70,
    "start_time": "2023-03-28T02:08:43.066Z"
   },
   {
    "duration": 51,
    "start_time": "2023-03-28T02:08:47.598Z"
   },
   {
    "duration": 4,
    "start_time": "2023-03-28T02:08:49.429Z"
   },
   {
    "duration": 50,
    "start_time": "2023-03-28T02:08:49.895Z"
   },
   {
    "duration": 54,
    "start_time": "2023-03-28T02:08:55.194Z"
   },
   {
    "duration": 4,
    "start_time": "2023-03-28T02:08:55.878Z"
   },
   {
    "duration": 50,
    "start_time": "2023-03-28T02:08:56.292Z"
   },
   {
    "duration": 4,
    "start_time": "2023-03-28T02:09:02.775Z"
   },
   {
    "duration": 183,
    "start_time": "2023-03-28T02:09:03.258Z"
   },
   {
    "duration": 3,
    "start_time": "2023-03-28T02:09:22.523Z"
   },
   {
    "duration": 48,
    "start_time": "2023-03-28T02:09:23.003Z"
   },
   {
    "duration": 4,
    "start_time": "2023-03-28T02:09:41.475Z"
   },
   {
    "duration": 80,
    "start_time": "2023-03-28T02:09:43.157Z"
   },
   {
    "duration": 9,
    "start_time": "2023-03-28T02:12:38.927Z"
   },
   {
    "duration": 52,
    "start_time": "2023-03-28T02:12:50.786Z"
   },
   {
    "duration": 66,
    "start_time": "2023-03-28T02:12:59.483Z"
   },
   {
    "duration": 20,
    "start_time": "2023-03-28T02:13:05.432Z"
   },
   {
    "duration": 96,
    "start_time": "2023-03-28T02:13:14.346Z"
   },
   {
    "duration": 26,
    "start_time": "2023-03-28T02:13:18.628Z"
   },
   {
    "duration": 13,
    "start_time": "2023-03-28T02:13:46.414Z"
   },
   {
    "duration": 66,
    "start_time": "2023-03-28T02:13:48.469Z"
   },
   {
    "duration": 13,
    "start_time": "2023-03-28T02:13:49.560Z"
   },
   {
    "duration": 191,
    "start_time": "2023-03-28T02:20:03.458Z"
   },
   {
    "duration": 12,
    "start_time": "2023-03-28T02:22:47.495Z"
   },
   {
    "duration": 5,
    "start_time": "2023-03-28T02:22:56.705Z"
   },
   {
    "duration": 86567,
    "start_time": "2023-03-28T02:23:12.949Z"
   },
   {
    "duration": 13,
    "start_time": "2023-03-28T02:24:54.387Z"
   },
   {
    "duration": 91,
    "start_time": "2023-03-28T02:25:04.830Z"
   },
   {
    "duration": 44,
    "start_time": "2023-03-28T02:25:14.174Z"
   },
   {
    "duration": 56,
    "start_time": "2023-03-28T02:25:54.023Z"
   },
   {
    "duration": 5,
    "start_time": "2023-03-28T02:26:20.026Z"
   },
   {
    "duration": 50422,
    "start_time": "2023-03-28T02:26:27.392Z"
   },
   {
    "duration": 61,
    "start_time": "2023-03-28T02:27:17.816Z"
   },
   {
    "duration": 61,
    "start_time": "2023-03-28T02:27:22.726Z"
   },
   {
    "duration": 54,
    "start_time": "2023-03-28T02:27:27.102Z"
   },
   {
    "duration": 57,
    "start_time": "2023-03-28T02:27:28.115Z"
   },
   {
    "duration": 58,
    "start_time": "2023-03-28T02:27:46.200Z"
   },
   {
    "duration": 4,
    "start_time": "2023-03-28T02:28:06.847Z"
   },
   {
    "duration": 41751,
    "start_time": "2023-03-28T02:28:08.373Z"
   },
   {
    "duration": 49,
    "start_time": "2023-03-28T02:28:52.161Z"
   },
   {
    "duration": 54,
    "start_time": "2023-03-28T02:28:53.401Z"
   },
   {
    "duration": 49,
    "start_time": "2023-03-28T02:29:22.954Z"
   },
   {
    "duration": 54,
    "start_time": "2023-03-28T02:29:28.820Z"
   },
   {
    "duration": 50,
    "start_time": "2023-03-28T02:29:31.259Z"
   },
   {
    "duration": 53,
    "start_time": "2023-03-28T02:29:40.323Z"
   },
   {
    "duration": 4,
    "start_time": "2023-03-28T02:29:59.019Z"
   },
   {
    "duration": 4,
    "start_time": "2023-03-28T02:30:04.856Z"
   },
   {
    "duration": 23058,
    "start_time": "2023-03-28T02:30:05.518Z"
   },
   {
    "duration": 56,
    "start_time": "2023-03-28T02:30:29.929Z"
   },
   {
    "duration": 52,
    "start_time": "2023-03-28T02:31:37.341Z"
   },
   {
    "duration": 57,
    "start_time": "2023-03-28T02:32:14.197Z"
   },
   {
    "duration": 61,
    "start_time": "2023-03-28T02:32:30.324Z"
   },
   {
    "duration": 4,
    "start_time": "2023-03-28T02:34:36.426Z"
   },
   {
    "duration": 23713,
    "start_time": "2023-03-28T02:34:39.094Z"
   },
   {
    "duration": 98,
    "start_time": "2023-03-28T02:35:05.447Z"
   },
   {
    "duration": 12,
    "start_time": "2023-03-28T02:35:44.795Z"
   },
   {
    "duration": 101,
    "start_time": "2023-03-28T02:36:16.411Z"
   },
   {
    "duration": 11,
    "start_time": "2023-03-28T02:37:16.401Z"
   },
   {
    "duration": 4,
    "start_time": "2023-03-28T02:37:36.524Z"
   },
   {
    "duration": 10,
    "start_time": "2023-03-28T02:37:42.402Z"
   },
   {
    "duration": 8,
    "start_time": "2023-03-28T02:37:48.640Z"
   },
   {
    "duration": 23092,
    "start_time": "2023-03-28T02:37:50.614Z"
   },
   {
    "duration": 48,
    "start_time": "2023-03-28T02:38:15.630Z"
   },
   {
    "duration": 48,
    "start_time": "2023-03-28T02:38:42.461Z"
   },
   {
    "duration": 56,
    "start_time": "2023-03-28T02:38:48.818Z"
   },
   {
    "duration": 4,
    "start_time": "2023-03-28T02:39:41.387Z"
   },
   {
    "duration": 24033,
    "start_time": "2023-03-28T02:39:42.890Z"
   },
   {
    "duration": 87,
    "start_time": "2023-03-28T02:40:08.490Z"
   },
   {
    "duration": 98,
    "start_time": "2023-03-28T02:40:14.425Z"
   },
   {
    "duration": 3,
    "start_time": "2023-03-28T02:40:43.491Z"
   },
   {
    "duration": 23556,
    "start_time": "2023-03-28T02:40:45.113Z"
   },
   {
    "duration": 47,
    "start_time": "2023-03-28T02:41:10.719Z"
   },
   {
    "duration": 43,
    "start_time": "2023-03-28T02:41:14.375Z"
   },
   {
    "duration": 53,
    "start_time": "2023-03-28T02:41:16.808Z"
   },
   {
    "duration": 59,
    "start_time": "2023-03-28T02:41:20.014Z"
   },
   {
    "duration": 51,
    "start_time": "2023-03-28T02:41:27.567Z"
   },
   {
    "duration": 3,
    "start_time": "2023-03-28T02:41:49.382Z"
   },
   {
    "duration": 21163,
    "start_time": "2023-03-28T02:41:52.946Z"
   },
   {
    "duration": 48,
    "start_time": "2023-03-28T02:42:21.480Z"
   },
   {
    "duration": 45,
    "start_time": "2023-03-28T02:42:25.092Z"
   },
   {
    "duration": 61,
    "start_time": "2023-03-28T02:42:30.017Z"
   },
   {
    "duration": 47,
    "start_time": "2023-03-28T02:43:19.446Z"
   },
   {
    "duration": 66,
    "start_time": "2023-03-28T02:43:51.616Z"
   },
   {
    "duration": 49,
    "start_time": "2023-03-28T02:44:22.491Z"
   },
   {
    "duration": 4,
    "start_time": "2023-03-28T02:44:42.511Z"
   },
   {
    "duration": 24597,
    "start_time": "2023-03-28T02:44:43.669Z"
   },
   {
    "duration": 57,
    "start_time": "2023-03-28T02:45:11.893Z"
   },
   {
    "duration": 62,
    "start_time": "2023-03-28T02:45:30.049Z"
   },
   {
    "duration": 60,
    "start_time": "2023-03-28T02:45:36.112Z"
   },
   {
    "duration": 4,
    "start_time": "2023-03-28T02:45:42.558Z"
   },
   {
    "duration": 29393,
    "start_time": "2023-03-28T02:45:47.279Z"
   },
   {
    "duration": 55,
    "start_time": "2023-03-28T02:46:20.818Z"
   },
   {
    "duration": 45,
    "start_time": "2023-03-28T02:46:24.269Z"
   },
   {
    "duration": 57,
    "start_time": "2023-03-28T02:46:37.006Z"
   },
   {
    "duration": 4,
    "start_time": "2023-03-28T02:46:48.522Z"
   },
   {
    "duration": 24229,
    "start_time": "2023-03-28T02:46:49.779Z"
   },
   {
    "duration": 52,
    "start_time": "2023-03-28T02:47:15.568Z"
   },
   {
    "duration": 53,
    "start_time": "2023-03-28T02:47:21.078Z"
   },
   {
    "duration": 62,
    "start_time": "2023-03-28T02:47:25.624Z"
   },
   {
    "duration": 64,
    "start_time": "2023-03-28T02:47:27.904Z"
   },
   {
    "duration": 61,
    "start_time": "2023-03-28T02:47:33.204Z"
   },
   {
    "duration": 67,
    "start_time": "2023-03-28T02:48:41.194Z"
   },
   {
    "duration": 63,
    "start_time": "2023-03-28T02:48:54.379Z"
   },
   {
    "duration": 14,
    "start_time": "2023-03-28T02:50:06.718Z"
   },
   {
    "duration": 62,
    "start_time": "2023-03-28T02:50:25.306Z"
   },
   {
    "duration": 65,
    "start_time": "2023-03-28T02:50:28.605Z"
   },
   {
    "duration": 23,
    "start_time": "2023-03-28T02:56:29.525Z"
   },
   {
    "duration": 4,
    "start_time": "2023-03-28T03:03:16.649Z"
   },
   {
    "duration": 91,
    "start_time": "2023-03-28T03:03:32.857Z"
   },
   {
    "duration": 57,
    "start_time": "2023-03-28T03:03:41.770Z"
   },
   {
    "duration": 9,
    "start_time": "2023-03-28T03:09:08.566Z"
   },
   {
    "duration": 77,
    "start_time": "2023-03-28T03:09:15.720Z"
   },
   {
    "duration": 61,
    "start_time": "2023-03-28T03:09:23.106Z"
   },
   {
    "duration": 59,
    "start_time": "2023-03-28T03:09:35.427Z"
   },
   {
    "duration": 196,
    "start_time": "2023-03-28T03:18:54.648Z"
   },
   {
    "duration": 122,
    "start_time": "2023-03-28T03:19:04.218Z"
   },
   {
    "duration": 68,
    "start_time": "2023-03-28T03:19:07.697Z"
   },
   {
    "duration": 4,
    "start_time": "2023-03-28T03:20:55.488Z"
   },
   {
    "duration": 28900,
    "start_time": "2023-03-28T03:20:57.256Z"
   },
   {
    "duration": 44,
    "start_time": "2023-03-28T03:21:31.307Z"
   },
   {
    "duration": 61,
    "start_time": "2023-03-28T03:21:49.128Z"
   },
   {
    "duration": 57,
    "start_time": "2023-03-28T03:21:53.782Z"
   },
   {
    "duration": 6,
    "start_time": "2023-03-28T03:22:13.051Z"
   },
   {
    "duration": 28197,
    "start_time": "2023-03-28T03:22:14.205Z"
   },
   {
    "duration": 53,
    "start_time": "2023-03-28T03:22:44.855Z"
   },
   {
    "duration": 63,
    "start_time": "2023-03-28T03:22:45.695Z"
   },
   {
    "duration": 64,
    "start_time": "2023-03-28T03:22:46.424Z"
   },
   {
    "duration": 90,
    "start_time": "2023-03-28T03:22:47.627Z"
   },
   {
    "duration": 66,
    "start_time": "2023-03-28T03:22:48.457Z"
   },
   {
    "duration": 67,
    "start_time": "2023-03-28T03:22:50.863Z"
   },
   {
    "duration": 67,
    "start_time": "2023-03-28T03:22:51.795Z"
   },
   {
    "duration": 235,
    "start_time": "2023-03-28T03:23:03.027Z"
   },
   {
    "duration": 5,
    "start_time": "2023-03-28T03:23:12.853Z"
   },
   {
    "duration": 27183,
    "start_time": "2023-03-28T03:23:35.670Z"
   },
   {
    "duration": 76,
    "start_time": "2023-03-28T03:24:14.628Z"
   },
   {
    "duration": 60,
    "start_time": "2023-03-28T03:24:30.706Z"
   },
   {
    "duration": 56,
    "start_time": "2023-03-28T03:24:31.762Z"
   },
   {
    "duration": 4,
    "start_time": "2023-03-28T03:24:45.082Z"
   },
   {
    "duration": 28293,
    "start_time": "2023-03-28T03:24:47.119Z"
   },
   {
    "duration": 63,
    "start_time": "2023-03-28T03:25:38.308Z"
   },
   {
    "duration": 55,
    "start_time": "2023-03-28T03:26:45.486Z"
   },
   {
    "duration": 55,
    "start_time": "2023-03-28T03:26:51.458Z"
   },
   {
    "duration": 14,
    "start_time": "2023-03-28T03:31:05.569Z"
   },
   {
    "duration": 20,
    "start_time": "2023-03-28T03:31:31.749Z"
   },
   {
    "duration": 25,
    "start_time": "2023-03-28T03:31:44.623Z"
   },
   {
    "duration": 84,
    "start_time": "2023-03-28T03:31:49.364Z"
   },
   {
    "duration": 13,
    "start_time": "2023-03-28T03:31:53.469Z"
   },
   {
    "duration": 63,
    "start_time": "2023-03-28T03:35:48.599Z"
   },
   {
    "duration": 13,
    "start_time": "2023-03-28T03:36:20.096Z"
   },
   {
    "duration": 25,
    "start_time": "2023-03-28T03:37:03.947Z"
   },
   {
    "duration": 13,
    "start_time": "2023-03-28T03:37:16.568Z"
   },
   {
    "duration": 11,
    "start_time": "2023-03-28T03:37:38.266Z"
   },
   {
    "duration": 66,
    "start_time": "2023-03-28T03:38:34.276Z"
   },
   {
    "duration": 14,
    "start_time": "2023-03-28T03:38:59.612Z"
   },
   {
    "duration": 55,
    "start_time": "2023-03-28T03:48:33.958Z"
   },
   {
    "duration": 52,
    "start_time": "2023-03-28T03:48:35.860Z"
   },
   {
    "duration": 15,
    "start_time": "2023-03-28T03:48:38.948Z"
   },
   {
    "duration": 53,
    "start_time": "2023-03-28T03:48:45.253Z"
   },
   {
    "duration": 57,
    "start_time": "2023-03-28T03:49:00.058Z"
   },
   {
    "duration": 13,
    "start_time": "2023-03-28T03:49:02.378Z"
   },
   {
    "duration": 58,
    "start_time": "2023-03-28T03:49:45.316Z"
   },
   {
    "duration": 63,
    "start_time": "2023-03-28T03:49:54.982Z"
   },
   {
    "duration": 60,
    "start_time": "2023-03-28T03:50:04.488Z"
   },
   {
    "duration": 60,
    "start_time": "2023-03-28T03:50:08.494Z"
   },
   {
    "duration": 89,
    "start_time": "2023-03-28T03:50:21.246Z"
   },
   {
    "duration": 64,
    "start_time": "2023-03-28T03:50:46.995Z"
   },
   {
    "duration": 45,
    "start_time": "2023-03-28T03:50:54.356Z"
   },
   {
    "duration": 43,
    "start_time": "2023-03-28T03:52:10.188Z"
   },
   {
    "duration": 52,
    "start_time": "2023-03-28T03:52:16.487Z"
   },
   {
    "duration": 3,
    "start_time": "2023-03-28T03:58:18.053Z"
   },
   {
    "duration": 4,
    "start_time": "2023-03-28T04:01:22.397Z"
   },
   {
    "duration": 3,
    "start_time": "2023-03-28T04:01:24.221Z"
   },
   {
    "duration": 25,
    "start_time": "2023-03-28T04:03:00.792Z"
   },
   {
    "duration": 201,
    "start_time": "2023-03-28T04:04:42.755Z"
   },
   {
    "duration": 197,
    "start_time": "2023-03-28T04:05:16.265Z"
   },
   {
    "duration": 195,
    "start_time": "2023-03-28T04:05:31.257Z"
   },
   {
    "duration": 172,
    "start_time": "2023-03-28T04:05:33.294Z"
   },
   {
    "duration": 15,
    "start_time": "2023-03-28T04:06:09.277Z"
   },
   {
    "duration": 144,
    "start_time": "2023-03-28T04:06:35.394Z"
   },
   {
    "duration": 141,
    "start_time": "2023-03-28T04:06:36.614Z"
   },
   {
    "duration": 172,
    "start_time": "2023-03-28T04:06:48.179Z"
   },
   {
    "duration": 125,
    "start_time": "2023-03-28T04:06:49.309Z"
   },
   {
    "duration": 8,
    "start_time": "2023-03-28T04:07:06.082Z"
   },
   {
    "duration": 7,
    "start_time": "2023-03-28T04:07:19.958Z"
   },
   {
    "duration": 4,
    "start_time": "2023-03-28T04:09:40.278Z"
   },
   {
    "duration": 37512,
    "start_time": "2023-03-28T04:10:02.707Z"
   },
   {
    "duration": 90,
    "start_time": "2023-03-28T04:10:47.860Z"
   },
   {
    "duration": 4,
    "start_time": "2023-03-28T04:11:12.003Z"
   },
   {
    "duration": 5683,
    "start_time": "2023-03-28T04:11:14.666Z"
   },
   {
    "duration": 4,
    "start_time": "2023-03-28T04:11:22.950Z"
   },
   {
    "duration": 3,
    "start_time": "2023-03-28T04:11:29.676Z"
   },
   {
    "duration": 50376,
    "start_time": "2023-03-28T04:11:31.778Z"
   },
   {
    "duration": 116,
    "start_time": "2023-03-28T04:12:25.655Z"
   },
   {
    "duration": 7,
    "start_time": "2023-03-28T04:13:35.342Z"
   },
   {
    "duration": 41026,
    "start_time": "2023-03-28T04:13:36.831Z"
   },
   {
    "duration": 97,
    "start_time": "2023-03-28T04:14:23.359Z"
   },
   {
    "duration": 94,
    "start_time": "2023-03-28T04:14:34.297Z"
   },
   {
    "duration": 46,
    "start_time": "2023-03-28T04:16:20.973Z"
   },
   {
    "duration": 43,
    "start_time": "2023-03-28T04:16:36.851Z"
   },
   {
    "duration": 23,
    "start_time": "2023-03-28T04:22:32.930Z"
   },
   {
    "duration": 14,
    "start_time": "2023-03-28T04:23:15.306Z"
   },
   {
    "duration": 5,
    "start_time": "2023-03-28T04:24:22.087Z"
   },
   {
    "duration": 11,
    "start_time": "2023-03-28T04:24:33.004Z"
   },
   {
    "duration": 5,
    "start_time": "2023-03-28T04:24:37.547Z"
   },
   {
    "duration": 4,
    "start_time": "2023-03-28T04:24:38.495Z"
   },
   {
    "duration": 11,
    "start_time": "2023-03-28T04:24:39.647Z"
   },
   {
    "duration": 5,
    "start_time": "2023-03-28T04:24:40.446Z"
   },
   {
    "duration": 6,
    "start_time": "2023-03-28T04:26:27.543Z"
   },
   {
    "duration": 5,
    "start_time": "2023-03-28T04:26:30.155Z"
   },
   {
    "duration": 5,
    "start_time": "2023-03-28T04:26:45.655Z"
   },
   {
    "duration": 4,
    "start_time": "2023-03-28T04:26:48.380Z"
   },
   {
    "duration": 31,
    "start_time": "2023-03-28T04:32:59.132Z"
   },
   {
    "duration": 4,
    "start_time": "2023-03-28T04:35:44.667Z"
   },
   {
    "duration": 11,
    "start_time": "2023-03-28T04:36:29.259Z"
   },
   {
    "duration": 5,
    "start_time": "2023-03-28T04:41:35.546Z"
   },
   {
    "duration": 26948,
    "start_time": "2023-03-28T04:41:40.895Z"
   },
   {
    "duration": 75,
    "start_time": "2023-03-28T04:42:14.670Z"
   },
   {
    "duration": 77,
    "start_time": "2023-03-28T04:42:17.025Z"
   },
   {
    "duration": 72,
    "start_time": "2023-03-28T04:42:17.777Z"
   },
   {
    "duration": 72,
    "start_time": "2023-03-28T04:42:18.845Z"
   },
   {
    "duration": 4,
    "start_time": "2023-03-28T04:42:49.801Z"
   },
   {
    "duration": 27762,
    "start_time": "2023-03-28T04:42:51.098Z"
   },
   {
    "duration": 52,
    "start_time": "2023-03-28T04:43:23.746Z"
   },
   {
    "duration": 58,
    "start_time": "2023-03-28T04:43:24.908Z"
   },
   {
    "duration": 51,
    "start_time": "2023-03-28T04:43:30.452Z"
   },
   {
    "duration": 21,
    "start_time": "2023-03-28T04:44:03.135Z"
   },
   {
    "duration": 28162,
    "start_time": "2023-03-28T04:44:06.003Z"
   },
   {
    "duration": 98,
    "start_time": "2023-03-28T04:44:35.954Z"
   },
   {
    "duration": 101,
    "start_time": "2023-03-28T04:44:43.081Z"
   },
   {
    "duration": 4,
    "start_time": "2023-03-28T04:44:57.173Z"
   },
   {
    "duration": 4,
    "start_time": "2023-03-28T04:45:11.468Z"
   },
   {
    "duration": 5,
    "start_time": "2023-03-28T04:45:22.227Z"
   },
   {
    "duration": 41157,
    "start_time": "2023-03-28T04:45:24.334Z"
   },
   {
    "duration": 27530,
    "start_time": "2023-03-28T04:46:05.494Z"
   },
   {
    "duration": 73,
    "start_time": "2023-03-28T04:46:46.375Z"
   },
   {
    "duration": 66,
    "start_time": "2023-03-28T04:46:47.701Z"
   },
   {
    "duration": 47,
    "start_time": "2023-03-28T04:47:31.177Z"
   },
   {
    "duration": 61,
    "start_time": "2023-03-28T04:47:39.093Z"
   },
   {
    "duration": 20,
    "start_time": "2023-03-28T04:47:43.209Z"
   },
   {
    "duration": 18,
    "start_time": "2023-03-28T04:47:47.749Z"
   },
   {
    "duration": 5,
    "start_time": "2023-03-28T04:47:50.156Z"
   },
   {
    "duration": 167,
    "start_time": "2023-03-28T04:47:53.673Z"
   },
   {
    "duration": 103,
    "start_time": "2023-03-28T04:47:54.941Z"
   },
   {
    "duration": 5,
    "start_time": "2023-03-28T04:48:06.209Z"
   },
   {
    "duration": 16,
    "start_time": "2023-03-28T04:48:07.319Z"
   },
   {
    "duration": 5,
    "start_time": "2023-03-28T04:48:08.383Z"
   },
   {
    "duration": 129,
    "start_time": "2023-03-28T04:48:09.922Z"
   },
   {
    "duration": 81,
    "start_time": "2023-03-28T04:48:10.666Z"
   },
   {
    "duration": 9,
    "start_time": "2023-03-28T04:48:29.088Z"
   },
   {
    "duration": 1647,
    "start_time": "2023-03-28T04:48:43.852Z"
   },
   {
    "duration": 55,
    "start_time": "2023-03-28T04:48:45.501Z"
   },
   {
    "duration": 16,
    "start_time": "2023-03-28T04:48:45.558Z"
   },
   {
    "duration": 26,
    "start_time": "2023-03-28T04:48:45.577Z"
   },
   {
    "duration": 6,
    "start_time": "2023-03-28T04:48:45.605Z"
   },
   {
    "duration": 33,
    "start_time": "2023-03-28T04:48:45.613Z"
   },
   {
    "duration": 20,
    "start_time": "2023-03-28T04:48:45.648Z"
   },
   {
    "duration": 25,
    "start_time": "2023-03-28T04:48:45.670Z"
   },
   {
    "duration": 5,
    "start_time": "2023-03-28T04:48:45.696Z"
   },
   {
    "duration": 26,
    "start_time": "2023-03-28T04:48:45.704Z"
   },
   {
    "duration": 40,
    "start_time": "2023-03-28T04:48:45.732Z"
   },
   {
    "duration": 26,
    "start_time": "2023-03-28T04:48:45.774Z"
   },
   {
    "duration": 6,
    "start_time": "2023-03-28T04:48:45.802Z"
   },
   {
    "duration": 36,
    "start_time": "2023-03-28T04:48:45.810Z"
   },
   {
    "duration": 14,
    "start_time": "2023-03-28T04:48:45.849Z"
   },
   {
    "duration": 9,
    "start_time": "2023-03-28T04:48:45.865Z"
   },
   {
    "duration": 11,
    "start_time": "2023-03-28T04:48:45.875Z"
   },
   {
    "duration": 56,
    "start_time": "2023-03-28T04:48:45.888Z"
   },
   {
    "duration": 111,
    "start_time": "2023-03-28T04:48:45.947Z"
   },
   {
    "duration": 191,
    "start_time": "2023-03-28T04:48:46.061Z"
   },
   {
    "duration": 27474,
    "start_time": "2023-03-28T04:48:46.253Z"
   },
   {
    "duration": 69,
    "start_time": "2023-03-28T04:49:13.729Z"
   },
   {
    "duration": 78,
    "start_time": "2023-03-28T04:49:13.801Z"
   },
   {
    "duration": 70,
    "start_time": "2023-03-28T04:49:13.881Z"
   },
   {
    "duration": 197,
    "start_time": "2023-03-28T04:49:13.954Z"
   },
   {
    "duration": 17,
    "start_time": "2023-03-28T04:49:14.153Z"
   },
   {
    "duration": 61,
    "start_time": "2023-03-28T04:49:14.173Z"
   },
   {
    "duration": 113,
    "start_time": "2023-03-28T04:49:14.241Z"
   },
   {
    "duration": 26628,
    "start_time": "2023-03-28T04:49:14.356Z"
   },
   {
    "duration": 60,
    "start_time": "2023-03-28T04:49:40.986Z"
   },
   {
    "duration": 58,
    "start_time": "2023-03-28T04:49:41.048Z"
   },
   {
    "duration": 42,
    "start_time": "2023-03-28T04:49:41.108Z"
   },
   {
    "duration": 48,
    "start_time": "2023-03-28T04:49:41.154Z"
   },
   {
    "duration": 3,
    "start_time": "2023-03-28T04:49:41.205Z"
   },
   {
    "duration": 38,
    "start_time": "2023-03-28T04:49:41.210Z"
   },
   {
    "duration": 19,
    "start_time": "2023-03-28T04:49:41.251Z"
   },
   {
    "duration": 10,
    "start_time": "2023-03-28T04:49:41.277Z"
   },
   {
    "duration": 167,
    "start_time": "2023-03-28T04:49:41.289Z"
   },
   {
    "duration": 5,
    "start_time": "2023-03-28T04:49:41.459Z"
   },
   {
    "duration": 40093,
    "start_time": "2023-03-28T04:49:41.466Z"
   },
   {
    "duration": 96,
    "start_time": "2023-03-28T04:50:21.562Z"
   },
   {
    "duration": 49,
    "start_time": "2023-03-28T04:50:21.660Z"
   },
   {
    "duration": 225,
    "start_time": "2023-03-28T04:50:21.712Z"
   },
   {
    "duration": 63,
    "start_time": "2023-03-28T04:50:44.681Z"
   },
   {
    "duration": 62,
    "start_time": "2023-03-28T04:50:53.214Z"
   },
   {
    "duration": 48,
    "start_time": "2023-03-28T04:58:29.746Z"
   },
   {
    "duration": 61,
    "start_time": "2023-03-28T04:58:50.458Z"
   },
   {
    "duration": 48,
    "start_time": "2023-03-28T04:58:55.750Z"
   },
   {
    "duration": 47,
    "start_time": "2023-03-28T04:59:17.669Z"
   },
   {
    "duration": 52,
    "start_time": "2023-03-28T04:59:40.054Z"
   },
   {
    "duration": 63,
    "start_time": "2023-03-28T05:00:06.897Z"
   },
   {
    "duration": 62,
    "start_time": "2023-03-28T05:00:52.387Z"
   },
   {
    "duration": 54,
    "start_time": "2023-03-28T05:01:09.862Z"
   },
   {
    "duration": 52,
    "start_time": "2023-03-28T05:01:15.063Z"
   },
   {
    "duration": 58,
    "start_time": "2023-03-28T05:01:18.774Z"
   },
   {
    "duration": 4,
    "start_time": "2023-03-28T05:05:25.916Z"
   },
   {
    "duration": 145,
    "start_time": "2023-03-28T05:05:34.273Z"
   },
   {
    "duration": 59,
    "start_time": "2023-03-28T05:05:44.077Z"
   },
   {
    "duration": 145,
    "start_time": "2023-03-28T05:05:47.811Z"
   },
   {
    "duration": 143,
    "start_time": "2023-03-28T05:07:07.326Z"
   },
   {
    "duration": 147,
    "start_time": "2023-03-28T05:08:38.983Z"
   },
   {
    "duration": 12,
    "start_time": "2023-03-28T05:08:48.505Z"
   },
   {
    "duration": 46,
    "start_time": "2023-03-28T05:09:15.276Z"
   },
   {
    "duration": 50,
    "start_time": "2023-03-28T05:09:39.057Z"
   },
   {
    "duration": 13,
    "start_time": "2023-03-28T05:09:57.373Z"
   },
   {
    "duration": 14,
    "start_time": "2023-03-28T05:10:30.319Z"
   },
   {
    "duration": 14,
    "start_time": "2023-03-28T05:10:33.710Z"
   },
   {
    "duration": 15,
    "start_time": "2023-03-28T05:10:36.988Z"
   },
   {
    "duration": 15,
    "start_time": "2023-03-28T05:10:45.096Z"
   },
   {
    "duration": 13,
    "start_time": "2023-03-28T05:10:48.815Z"
   },
   {
    "duration": 15,
    "start_time": "2023-03-28T05:10:55.155Z"
   },
   {
    "duration": 52,
    "start_time": "2023-03-28T05:11:58.658Z"
   },
   {
    "duration": 86,
    "start_time": "2023-03-28T05:13:35.387Z"
   },
   {
    "duration": 325,
    "start_time": "2023-03-28T05:13:40.599Z"
   },
   {
    "duration": 23,
    "start_time": "2023-03-28T05:14:11.754Z"
   },
   {
    "duration": 22,
    "start_time": "2023-03-28T05:14:30.498Z"
   },
   {
    "duration": 53,
    "start_time": "2023-03-28T05:14:39.064Z"
   },
   {
    "duration": 260,
    "start_time": "2023-03-28T05:14:42.696Z"
   },
   {
    "duration": 257,
    "start_time": "2023-03-28T05:16:43.061Z"
   },
   {
    "duration": 273,
    "start_time": "2023-03-28T05:17:00.561Z"
   },
   {
    "duration": 35,
    "start_time": "2023-03-28T05:17:16.845Z"
   },
   {
    "duration": 12,
    "start_time": "2023-03-28T05:22:54.959Z"
   },
   {
    "duration": 1980,
    "start_time": "2023-03-29T11:10:34.385Z"
   },
   {
    "duration": 186,
    "start_time": "2023-03-29T11:10:36.368Z"
   },
   {
    "duration": 18,
    "start_time": "2023-03-29T11:10:36.556Z"
   },
   {
    "duration": 29,
    "start_time": "2023-03-29T11:10:36.578Z"
   },
   {
    "duration": 7,
    "start_time": "2023-03-29T11:10:36.609Z"
   },
   {
    "duration": 45,
    "start_time": "2023-03-29T11:10:36.618Z"
   },
   {
    "duration": 24,
    "start_time": "2023-03-29T11:10:36.665Z"
   },
   {
    "duration": 34,
    "start_time": "2023-03-29T11:10:36.691Z"
   },
   {
    "duration": 25,
    "start_time": "2023-03-29T11:10:36.727Z"
   },
   {
    "duration": 50,
    "start_time": "2023-03-29T11:10:36.755Z"
   },
   {
    "duration": 25,
    "start_time": "2023-03-29T11:10:36.807Z"
   },
   {
    "duration": 49,
    "start_time": "2023-03-29T11:10:36.835Z"
   },
   {
    "duration": 34,
    "start_time": "2023-03-29T11:10:36.890Z"
   },
   {
    "duration": 70,
    "start_time": "2023-03-29T11:10:36.927Z"
   },
   {
    "duration": 20,
    "start_time": "2023-03-29T11:10:36.999Z"
   },
   {
    "duration": 45,
    "start_time": "2023-03-29T11:10:37.022Z"
   },
   {
    "duration": 41,
    "start_time": "2023-03-29T11:10:37.070Z"
   },
   {
    "duration": 123,
    "start_time": "2023-03-29T11:10:37.113Z"
   },
   {
    "duration": 108,
    "start_time": "2023-03-29T11:10:37.238Z"
   },
   {
    "duration": 182,
    "start_time": "2023-03-29T11:10:37.353Z"
   },
   {
    "duration": 26676,
    "start_time": "2023-03-29T11:10:37.538Z"
   },
   {
    "duration": 67,
    "start_time": "2023-03-29T11:11:04.215Z"
   },
   {
    "duration": 72,
    "start_time": "2023-03-29T11:11:04.284Z"
   },
   {
    "duration": 59,
    "start_time": "2023-03-29T11:11:04.359Z"
   },
   {
    "duration": 52,
    "start_time": "2023-03-29T11:11:04.420Z"
   },
   {
    "duration": 26,
    "start_time": "2023-03-29T11:11:04.535Z"
   },
   {
    "duration": 16,
    "start_time": "2023-03-29T11:11:04.635Z"
   },
   {
    "duration": 81,
    "start_time": "2023-03-29T11:11:04.659Z"
   },
   {
    "duration": 27097,
    "start_time": "2023-03-29T11:11:04.743Z"
   },
   {
    "duration": 57,
    "start_time": "2023-03-29T11:11:31.843Z"
   },
   {
    "duration": 76,
    "start_time": "2023-03-29T11:11:31.902Z"
   },
   {
    "duration": 13,
    "start_time": "2023-03-29T11:11:31.979Z"
   },
   {
    "duration": 75,
    "start_time": "2023-03-29T11:11:31.994Z"
   },
   {
    "duration": 5,
    "start_time": "2023-03-29T11:11:32.071Z"
   },
   {
    "duration": 19,
    "start_time": "2023-03-29T11:11:32.077Z"
   },
   {
    "duration": 129,
    "start_time": "2023-03-29T11:11:32.098Z"
   },
   {
    "duration": 86,
    "start_time": "2023-03-29T11:11:32.229Z"
   },
   {
    "duration": 121,
    "start_time": "2023-03-29T11:11:32.317Z"
   },
   {
    "duration": 93,
    "start_time": "2023-03-29T11:11:32.443Z"
   },
   {
    "duration": 40140,
    "start_time": "2023-03-29T11:11:32.539Z"
   },
   {
    "duration": 96,
    "start_time": "2023-03-29T11:12:12.681Z"
   },
   {
    "duration": 59,
    "start_time": "2023-03-29T11:12:12.779Z"
   },
   {
    "duration": 27,
    "start_time": "2023-03-29T11:12:12.840Z"
   },
   {
    "duration": 68,
    "start_time": "2023-03-29T11:12:12.869Z"
   },
   {
    "duration": 268,
    "start_time": "2023-03-29T11:12:12.940Z"
   },
   {
    "duration": 6,
    "start_time": "2023-03-29T11:14:02.425Z"
   },
   {
    "duration": 167,
    "start_time": "2023-03-29T11:15:14.163Z"
   },
   {
    "duration": 54,
    "start_time": "2023-03-29T11:15:22.108Z"
   },
   {
    "duration": 5,
    "start_time": "2023-03-29T11:15:25.675Z"
   },
   {
    "duration": 4,
    "start_time": "2023-03-29T11:15:26.570Z"
   },
   {
    "duration": 15,
    "start_time": "2023-03-29T11:15:37.724Z"
   },
   {
    "duration": 7,
    "start_time": "2023-03-29T11:15:42.653Z"
   },
   {
    "duration": 12,
    "start_time": "2023-03-29T11:15:43.592Z"
   },
   {
    "duration": 14,
    "start_time": "2023-03-29T11:15:44.270Z"
   },
   {
    "duration": 70,
    "start_time": "2023-03-29T11:16:26.123Z"
   },
   {
    "duration": 63,
    "start_time": "2023-03-29T11:17:29.127Z"
   },
   {
    "duration": 14,
    "start_time": "2023-03-29T11:17:33.202Z"
   },
   {
    "duration": 23,
    "start_time": "2023-03-29T11:17:33.861Z"
   },
   {
    "duration": 6,
    "start_time": "2023-03-29T11:19:25.651Z"
   },
   {
    "duration": 139,
    "start_time": "2023-03-29T11:19:45.205Z"
   },
   {
    "duration": 14,
    "start_time": "2023-03-29T11:19:48.343Z"
   },
   {
    "duration": 47,
    "start_time": "2023-03-29T11:20:37.353Z"
   },
   {
    "duration": 7,
    "start_time": "2023-03-29T11:20:41.560Z"
   },
   {
    "duration": 11,
    "start_time": "2023-03-29T11:20:46.330Z"
   },
   {
    "duration": 20,
    "start_time": "2023-03-29T11:20:49.252Z"
   },
   {
    "duration": 86,
    "start_time": "2023-03-29T11:21:08.400Z"
   },
   {
    "duration": 106,
    "start_time": "2023-03-29T11:21:09.750Z"
   },
   {
    "duration": 6,
    "start_time": "2023-03-29T11:21:11.852Z"
   },
   {
    "duration": 6,
    "start_time": "2023-03-29T11:21:14.080Z"
   },
   {
    "duration": 12,
    "start_time": "2023-03-29T11:21:15.733Z"
   },
   {
    "duration": 19,
    "start_time": "2023-03-29T11:21:16.225Z"
   },
   {
    "duration": 145,
    "start_time": "2023-03-29T11:24:39.381Z"
   },
   {
    "duration": 140,
    "start_time": "2023-03-29T11:24:41.579Z"
   },
   {
    "duration": 148,
    "start_time": "2023-03-29T11:25:25.017Z"
   },
   {
    "duration": 8,
    "start_time": "2023-03-29T11:28:02.501Z"
   },
   {
    "duration": 8,
    "start_time": "2023-03-29T11:28:09.760Z"
   },
   {
    "duration": 12,
    "start_time": "2023-03-29T11:28:17.494Z"
   },
   {
    "duration": 167,
    "start_time": "2023-03-29T11:28:27.510Z"
   },
   {
    "duration": 222,
    "start_time": "2023-03-29T11:28:37.016Z"
   },
   {
    "duration": 218,
    "start_time": "2023-03-29T11:28:37.958Z"
   },
   {
    "duration": 218,
    "start_time": "2023-03-29T11:28:38.721Z"
   },
   {
    "duration": 203,
    "start_time": "2023-03-29T11:28:39.553Z"
   },
   {
    "duration": 159,
    "start_time": "2023-03-29T11:28:42.905Z"
   },
   {
    "duration": 156,
    "start_time": "2023-03-29T11:28:45.450Z"
   },
   {
    "duration": 233,
    "start_time": "2023-03-29T11:28:47.330Z"
   },
   {
    "duration": 260,
    "start_time": "2023-03-29T11:28:48.284Z"
   },
   {
    "duration": 198,
    "start_time": "2023-03-29T11:28:49.319Z"
   },
   {
    "duration": 20,
    "start_time": "2023-03-29T11:28:55.173Z"
   },
   {
    "duration": 153,
    "start_time": "2023-03-29T11:28:58.976Z"
   },
   {
    "duration": 185,
    "start_time": "2023-03-29T11:29:04.030Z"
   },
   {
    "duration": 157,
    "start_time": "2023-03-29T11:29:12.909Z"
   },
   {
    "duration": 204,
    "start_time": "2023-03-29T11:29:17.222Z"
   },
   {
    "duration": 195,
    "start_time": "2023-03-29T11:29:34.988Z"
   },
   {
    "duration": 184,
    "start_time": "2023-03-29T11:29:40.062Z"
   },
   {
    "duration": 212,
    "start_time": "2023-03-29T11:29:47.267Z"
   },
   {
    "duration": 5,
    "start_time": "2023-03-29T11:30:31.873Z"
   },
   {
    "duration": 14,
    "start_time": "2023-03-29T11:30:33.064Z"
   },
   {
    "duration": 5,
    "start_time": "2023-03-29T11:30:49.706Z"
   },
   {
    "duration": 173,
    "start_time": "2023-03-29T11:30:57.429Z"
   },
   {
    "duration": 161,
    "start_time": "2023-03-29T11:30:58.749Z"
   },
   {
    "duration": 169,
    "start_time": "2023-03-29T11:30:59.579Z"
   },
   {
    "duration": 169,
    "start_time": "2023-03-29T11:31:02.137Z"
   },
   {
    "duration": 14,
    "start_time": "2023-03-29T11:31:05.659Z"
   },
   {
    "duration": 12,
    "start_time": "2023-03-29T11:31:07.217Z"
   },
   {
    "duration": 14,
    "start_time": "2023-03-29T11:31:08.315Z"
   },
   {
    "duration": 5,
    "start_time": "2023-03-29T11:31:17.178Z"
   },
   {
    "duration": 6,
    "start_time": "2023-03-29T11:31:30.320Z"
   },
   {
    "duration": 4,
    "start_time": "2023-03-29T11:31:37.516Z"
   },
   {
    "duration": 5,
    "start_time": "2023-03-29T11:31:41.137Z"
   },
   {
    "duration": 271,
    "start_time": "2023-03-29T11:31:44.665Z"
   },
   {
    "duration": 8,
    "start_time": "2023-03-29T11:31:47.998Z"
   },
   {
    "duration": 7,
    "start_time": "2023-03-29T11:31:48.723Z"
   },
   {
    "duration": 3,
    "start_time": "2023-03-29T11:31:57.096Z"
   },
   {
    "duration": 4,
    "start_time": "2023-03-29T11:31:57.566Z"
   },
   {
    "duration": 187,
    "start_time": "2023-03-29T11:32:01.727Z"
   },
   {
    "duration": 5,
    "start_time": "2023-03-29T11:32:10.889Z"
   },
   {
    "duration": 6,
    "start_time": "2023-03-29T11:32:11.586Z"
   },
   {
    "duration": 6,
    "start_time": "2023-03-29T11:32:19.158Z"
   },
   {
    "duration": 14,
    "start_time": "2023-03-29T11:32:32.484Z"
   },
   {
    "duration": 5,
    "start_time": "2023-03-29T11:32:44.681Z"
   },
   {
    "duration": 13,
    "start_time": "2023-03-29T11:32:50.126Z"
   },
   {
    "duration": 10,
    "start_time": "2023-03-29T11:33:07.149Z"
   },
   {
    "duration": 51,
    "start_time": "2023-03-29T11:33:23.703Z"
   },
   {
    "duration": 7,
    "start_time": "2023-03-29T11:33:27.173Z"
   },
   {
    "duration": 12,
    "start_time": "2023-03-29T11:33:28.721Z"
   },
   {
    "duration": 159,
    "start_time": "2023-03-29T11:33:40.326Z"
   },
   {
    "duration": 7,
    "start_time": "2023-03-29T11:33:42.114Z"
   },
   {
    "duration": 6,
    "start_time": "2023-03-29T11:33:42.989Z"
   },
   {
    "duration": 4,
    "start_time": "2023-03-29T11:33:46.996Z"
   },
   {
    "duration": 8,
    "start_time": "2023-03-29T11:34:02.427Z"
   },
   {
    "duration": 8,
    "start_time": "2023-03-29T11:34:05.077Z"
   },
   {
    "duration": 4,
    "start_time": "2023-03-29T11:34:09.727Z"
   },
   {
    "duration": 6,
    "start_time": "2023-03-29T11:34:14.166Z"
   },
   {
    "duration": 12,
    "start_time": "2023-03-29T11:34:15.050Z"
   },
   {
    "duration": 20,
    "start_time": "2023-03-29T11:34:16.222Z"
   },
   {
    "duration": 10,
    "start_time": "2023-03-29T11:34:16.976Z"
   },
   {
    "duration": 8,
    "start_time": "2023-03-29T11:34:17.555Z"
   },
   {
    "duration": 9,
    "start_time": "2023-03-29T11:34:18.396Z"
   },
   {
    "duration": 9,
    "start_time": "2023-03-29T11:34:19.818Z"
   },
   {
    "duration": 5,
    "start_time": "2023-03-29T11:35:39.300Z"
   },
   {
    "duration": 4,
    "start_time": "2023-03-29T11:35:41.203Z"
   },
   {
    "duration": 5,
    "start_time": "2023-03-29T11:35:42.197Z"
   },
   {
    "duration": 5,
    "start_time": "2023-03-29T11:35:42.776Z"
   },
   {
    "duration": 10,
    "start_time": "2023-03-29T11:35:48.553Z"
   },
   {
    "duration": 19,
    "start_time": "2023-03-29T11:36:28.824Z"
   },
   {
    "duration": 16,
    "start_time": "2023-03-29T11:36:41.116Z"
   },
   {
    "duration": 19,
    "start_time": "2023-03-29T11:36:48.022Z"
   },
   {
    "duration": 17,
    "start_time": "2023-03-29T11:36:56.493Z"
   },
   {
    "duration": 6,
    "start_time": "2023-03-29T11:37:03.969Z"
   },
   {
    "duration": 4,
    "start_time": "2023-03-29T11:37:10.014Z"
   },
   {
    "duration": 4,
    "start_time": "2023-03-29T11:37:13.417Z"
   },
   {
    "duration": 5,
    "start_time": "2023-03-29T11:37:15.036Z"
   },
   {
    "duration": 7,
    "start_time": "2023-03-29T11:37:15.646Z"
   },
   {
    "duration": 7,
    "start_time": "2023-03-29T11:37:18.123Z"
   },
   {
    "duration": 11,
    "start_time": "2023-03-29T11:37:19.714Z"
   },
   {
    "duration": 11,
    "start_time": "2023-03-29T11:37:20.510Z"
   },
   {
    "duration": 11,
    "start_time": "2023-03-29T11:37:39.245Z"
   },
   {
    "duration": 14,
    "start_time": "2023-03-29T11:37:40.640Z"
   },
   {
    "duration": 14,
    "start_time": "2023-03-29T11:37:41.431Z"
   },
   {
    "duration": 8,
    "start_time": "2023-03-29T11:37:42.244Z"
   },
   {
    "duration": 12,
    "start_time": "2023-03-29T11:37:42.950Z"
   },
   {
    "duration": 56,
    "start_time": "2023-03-29T11:37:51.306Z"
   },
   {
    "duration": 21,
    "start_time": "2023-03-29T11:37:53.390Z"
   },
   {
    "duration": 21,
    "start_time": "2023-03-29T11:37:55.291Z"
   },
   {
    "duration": 8,
    "start_time": "2023-03-29T11:37:57.175Z"
   },
   {
    "duration": 12,
    "start_time": "2023-03-29T11:37:58.637Z"
   },
   {
    "duration": 15,
    "start_time": "2023-03-29T11:37:59.852Z"
   },
   {
    "duration": 247,
    "start_time": "2023-03-29T11:38:01.924Z"
   },
   {
    "duration": 8,
    "start_time": "2023-03-29T11:38:04.182Z"
   },
   {
    "duration": 8,
    "start_time": "2023-03-29T11:38:06.832Z"
   },
   {
    "duration": 5,
    "start_time": "2023-03-29T11:38:12.389Z"
   },
   {
    "duration": 6,
    "start_time": "2023-03-29T11:38:14.467Z"
   },
   {
    "duration": 5,
    "start_time": "2023-03-29T11:38:23.564Z"
   },
   {
    "duration": 10,
    "start_time": "2023-03-29T11:38:24.706Z"
   },
   {
    "duration": 20,
    "start_time": "2023-03-29T11:38:33.419Z"
   },
   {
    "duration": 5,
    "start_time": "2023-03-29T11:38:50.173Z"
   },
   {
    "duration": 6,
    "start_time": "2023-03-29T11:39:00.102Z"
   },
   {
    "duration": 4,
    "start_time": "2023-03-29T11:39:00.934Z"
   },
   {
    "duration": 247,
    "start_time": "2023-03-29T11:39:02.910Z"
   },
   {
    "duration": 76,
    "start_time": "2023-03-29T11:39:07.323Z"
   },
   {
    "duration": 8,
    "start_time": "2023-03-29T11:39:09.405Z"
   },
   {
    "duration": 13,
    "start_time": "2023-03-29T11:39:10.703Z"
   },
   {
    "duration": 244,
    "start_time": "2023-03-29T11:40:18.581Z"
   },
   {
    "duration": 7,
    "start_time": "2023-03-29T11:40:22.106Z"
   },
   {
    "duration": 6,
    "start_time": "2023-03-29T11:40:23.531Z"
   },
   {
    "duration": 5,
    "start_time": "2023-03-29T11:40:34.589Z"
   },
   {
    "duration": 14,
    "start_time": "2023-03-29T11:40:34.743Z"
   },
   {
    "duration": 25,
    "start_time": "2023-03-29T11:40:37.860Z"
   },
   {
    "duration": 19,
    "start_time": "2023-03-29T11:40:48.673Z"
   },
   {
    "duration": 12,
    "start_time": "2023-03-29T11:40:55.787Z"
   },
   {
    "duration": 251,
    "start_time": "2023-03-29T11:40:59.791Z"
   },
   {
    "duration": 571,
    "start_time": "2023-03-29T11:41:38.172Z"
   },
   {
    "duration": 1072,
    "start_time": "2023-03-29T11:41:56.143Z"
   },
   {
    "duration": 52,
    "start_time": "2023-03-29T11:42:05.777Z"
   },
   {
    "duration": 8,
    "start_time": "2023-03-29T11:42:07.995Z"
   },
   {
    "duration": 14,
    "start_time": "2023-03-29T11:42:09.862Z"
   },
   {
    "duration": 8,
    "start_time": "2023-03-29T11:42:12.276Z"
   },
   {
    "duration": 5,
    "start_time": "2023-03-29T11:42:14.421Z"
   },
   {
    "duration": 8,
    "start_time": "2023-03-29T11:42:15.657Z"
   },
   {
    "duration": 6,
    "start_time": "2023-03-29T11:42:17.076Z"
   },
   {
    "duration": 7,
    "start_time": "2023-03-29T11:42:54.315Z"
   },
   {
    "duration": 9,
    "start_time": "2023-03-29T11:42:55.846Z"
   },
   {
    "duration": 6,
    "start_time": "2023-03-29T11:42:56.801Z"
   },
   {
    "duration": 12,
    "start_time": "2023-03-29T11:43:01.650Z"
   },
   {
    "duration": 15,
    "start_time": "2023-03-29T11:43:10.693Z"
   },
   {
    "duration": 6,
    "start_time": "2023-03-29T11:43:14.803Z"
   },
   {
    "duration": 24,
    "start_time": "2023-03-29T11:43:16.078Z"
   },
   {
    "duration": 57,
    "start_time": "2023-03-29T11:43:20.577Z"
   },
   {
    "duration": 9,
    "start_time": "2023-03-29T11:43:24.804Z"
   },
   {
    "duration": 13,
    "start_time": "2023-03-29T11:43:26.006Z"
   },
   {
    "duration": 179,
    "start_time": "2023-03-29T11:43:27.995Z"
   },
   {
    "duration": 7,
    "start_time": "2023-03-29T11:43:35.873Z"
   },
   {
    "duration": 6,
    "start_time": "2023-03-29T11:43:36.881Z"
   },
   {
    "duration": 6,
    "start_time": "2023-03-29T11:43:38.118Z"
   },
   {
    "duration": 7,
    "start_time": "2023-03-29T11:43:38.842Z"
   },
   {
    "duration": 224,
    "start_time": "2023-03-29T11:43:40.852Z"
   },
   {
    "duration": 69,
    "start_time": "2023-03-29T11:44:33.902Z"
   },
   {
    "duration": 10,
    "start_time": "2023-03-29T11:45:30.214Z"
   },
   {
    "duration": 15,
    "start_time": "2023-03-29T11:45:30.754Z"
   },
   {
    "duration": 6,
    "start_time": "2023-03-29T11:45:31.840Z"
   },
   {
    "duration": 6,
    "start_time": "2023-03-29T11:45:36.940Z"
   },
   {
    "duration": 53,
    "start_time": "2023-03-29T11:45:38.616Z"
   },
   {
    "duration": 20,
    "start_time": "2023-03-29T11:45:39.762Z"
   },
   {
    "duration": 21,
    "start_time": "2023-03-29T11:45:41.677Z"
   },
   {
    "duration": 6,
    "start_time": "2023-03-29T11:45:42.970Z"
   },
   {
    "duration": 6,
    "start_time": "2023-03-29T11:45:44.949Z"
   },
   {
    "duration": 8,
    "start_time": "2023-03-29T11:45:45.641Z"
   },
   {
    "duration": 13,
    "start_time": "2023-03-29T11:45:46.959Z"
   },
   {
    "duration": 226,
    "start_time": "2023-03-29T11:45:49.124Z"
   },
   {
    "duration": 7,
    "start_time": "2023-03-29T11:45:52.418Z"
   },
   {
    "duration": 12,
    "start_time": "2023-03-29T11:45:53.102Z"
   },
   {
    "duration": 18,
    "start_time": "2023-03-29T11:45:57.421Z"
   },
   {
    "duration": 6,
    "start_time": "2023-03-29T11:46:09.342Z"
   },
   {
    "duration": 12,
    "start_time": "2023-03-29T11:46:10.463Z"
   },
   {
    "duration": 6,
    "start_time": "2023-03-29T11:46:12.165Z"
   },
   {
    "duration": 44,
    "start_time": "2023-03-29T11:46:17.117Z"
   },
   {
    "duration": 19,
    "start_time": "2023-03-29T11:46:18.734Z"
   },
   {
    "duration": 8,
    "start_time": "2023-03-29T11:46:26.790Z"
   },
   {
    "duration": 54,
    "start_time": "2023-03-29T11:51:03.809Z"
   },
   {
    "duration": 6,
    "start_time": "2023-03-29T11:51:18.561Z"
   },
   {
    "duration": 93,
    "start_time": "2023-03-29T11:51:37.255Z"
   },
   {
    "duration": 68,
    "start_time": "2023-03-29T11:51:39.576Z"
   },
   {
    "duration": 7,
    "start_time": "2023-03-29T11:53:08.788Z"
   },
   {
    "duration": 201,
    "start_time": "2023-03-29T11:53:23.436Z"
   },
   {
    "duration": 6,
    "start_time": "2023-03-29T11:53:43.444Z"
   },
   {
    "duration": 10,
    "start_time": "2023-03-29T11:55:54.334Z"
   },
   {
    "duration": 9,
    "start_time": "2023-03-29T11:55:59.346Z"
   },
   {
    "duration": 7,
    "start_time": "2023-03-29T11:57:06.885Z"
   },
   {
    "duration": 131,
    "start_time": "2023-03-29T11:57:18.613Z"
   },
   {
    "duration": 192,
    "start_time": "2023-03-29T11:57:20.241Z"
   },
   {
    "duration": 137,
    "start_time": "2023-03-29T11:58:06.097Z"
   },
   {
    "duration": 4,
    "start_time": "2023-03-29T11:58:32.649Z"
   },
   {
    "duration": 85,
    "start_time": "2023-03-29T11:58:36.959Z"
   },
   {
    "duration": 3,
    "start_time": "2023-03-29T12:00:39.378Z"
   },
   {
    "duration": 3,
    "start_time": "2023-03-29T12:00:43.561Z"
   },
   {
    "duration": 14,
    "start_time": "2023-03-29T12:06:32.036Z"
   },
   {
    "duration": 14,
    "start_time": "2023-03-29T12:06:39.405Z"
   },
   {
    "duration": 3,
    "start_time": "2023-03-29T12:08:37.757Z"
   },
   {
    "duration": 3,
    "start_time": "2023-03-29T12:08:52.755Z"
   },
   {
    "duration": 3,
    "start_time": "2023-03-29T12:10:57.154Z"
   },
   {
    "duration": 5,
    "start_time": "2023-03-29T12:11:06.510Z"
   },
   {
    "duration": 57,
    "start_time": "2023-03-29T12:11:07.936Z"
   },
   {
    "duration": 14,
    "start_time": "2023-03-29T12:11:09.059Z"
   },
   {
    "duration": 6,
    "start_time": "2023-03-29T12:11:11.567Z"
   },
   {
    "duration": 9,
    "start_time": "2023-03-29T12:11:22.189Z"
   },
   {
    "duration": 872,
    "start_time": "2023-03-29T12:13:19.251Z"
   },
   {
    "duration": 49,
    "start_time": "2023-03-29T12:13:31.311Z"
   },
   {
    "duration": 19,
    "start_time": "2023-03-29T12:13:32.496Z"
   },
   {
    "duration": 19,
    "start_time": "2023-03-29T12:13:34.103Z"
   },
   {
    "duration": 6,
    "start_time": "2023-03-29T12:13:39.592Z"
   },
   {
    "duration": 5,
    "start_time": "2023-03-29T12:13:40.484Z"
   },
   {
    "duration": 7,
    "start_time": "2023-03-29T12:13:42.014Z"
   },
   {
    "duration": 3,
    "start_time": "2023-03-29T12:13:46.571Z"
   },
   {
    "duration": 4,
    "start_time": "2023-03-29T12:13:48.495Z"
   },
   {
    "duration": 834,
    "start_time": "2023-03-29T12:13:50.273Z"
   },
   {
    "duration": 1023,
    "start_time": "2023-03-29T12:14:08.695Z"
   },
   {
    "duration": 7672,
    "start_time": "2023-03-29T12:14:25.195Z"
   },
   {
    "duration": 3589,
    "start_time": "2023-03-29T12:14:40.269Z"
   },
   {
    "duration": 1968,
    "start_time": "2023-03-29T12:14:49.837Z"
   },
   {
    "duration": 20,
    "start_time": "2023-03-29T12:15:41.359Z"
   },
   {
    "duration": 14,
    "start_time": "2023-03-29T12:15:42.724Z"
   },
   {
    "duration": 1369,
    "start_time": "2023-03-29T12:15:59.009Z"
   },
   {
    "duration": 47,
    "start_time": "2023-03-29T12:16:00.380Z"
   },
   {
    "duration": 23,
    "start_time": "2023-03-29T12:16:00.429Z"
   },
   {
    "duration": 52,
    "start_time": "2023-03-29T12:16:00.455Z"
   },
   {
    "duration": 27,
    "start_time": "2023-03-29T12:16:00.509Z"
   },
   {
    "duration": 29,
    "start_time": "2023-03-29T12:16:00.538Z"
   },
   {
    "duration": 40,
    "start_time": "2023-03-29T12:16:00.569Z"
   },
   {
    "duration": 72,
    "start_time": "2023-03-29T12:16:00.612Z"
   },
   {
    "duration": 2613,
    "start_time": "2023-03-29T12:16:00.687Z"
   },
   {
    "duration": 148,
    "start_time": "2023-03-29T12:16:03.304Z"
   },
   {
    "duration": 0,
    "start_time": "2023-03-29T12:16:03.455Z"
   },
   {
    "duration": 0,
    "start_time": "2023-03-29T12:16:03.457Z"
   },
   {
    "duration": 0,
    "start_time": "2023-03-29T12:16:03.459Z"
   },
   {
    "duration": 0,
    "start_time": "2023-03-29T12:16:03.461Z"
   },
   {
    "duration": 0,
    "start_time": "2023-03-29T12:16:03.463Z"
   },
   {
    "duration": 0,
    "start_time": "2023-03-29T12:16:03.464Z"
   },
   {
    "duration": 0,
    "start_time": "2023-03-29T12:16:03.472Z"
   },
   {
    "duration": 0,
    "start_time": "2023-03-29T12:16:03.474Z"
   },
   {
    "duration": 0,
    "start_time": "2023-03-29T12:16:03.476Z"
   },
   {
    "duration": 0,
    "start_time": "2023-03-29T12:16:03.478Z"
   },
   {
    "duration": 0,
    "start_time": "2023-03-29T12:16:03.481Z"
   },
   {
    "duration": 0,
    "start_time": "2023-03-29T12:16:03.483Z"
   },
   {
    "duration": 0,
    "start_time": "2023-03-29T12:16:03.484Z"
   },
   {
    "duration": 0,
    "start_time": "2023-03-29T12:16:03.487Z"
   },
   {
    "duration": 0,
    "start_time": "2023-03-29T12:16:03.489Z"
   },
   {
    "duration": 0,
    "start_time": "2023-03-29T12:16:03.490Z"
   },
   {
    "duration": 0,
    "start_time": "2023-03-29T12:16:03.492Z"
   },
   {
    "duration": 0,
    "start_time": "2023-03-29T12:16:03.535Z"
   },
   {
    "duration": 0,
    "start_time": "2023-03-29T12:16:03.537Z"
   },
   {
    "duration": 0,
    "start_time": "2023-03-29T12:16:03.538Z"
   },
   {
    "duration": 0,
    "start_time": "2023-03-29T12:16:03.540Z"
   },
   {
    "duration": 0,
    "start_time": "2023-03-29T12:16:03.542Z"
   },
   {
    "duration": 0,
    "start_time": "2023-03-29T12:16:03.543Z"
   },
   {
    "duration": 0,
    "start_time": "2023-03-29T12:16:03.545Z"
   },
   {
    "duration": 0,
    "start_time": "2023-03-29T12:16:03.546Z"
   },
   {
    "duration": 0,
    "start_time": "2023-03-29T12:16:03.548Z"
   },
   {
    "duration": 0,
    "start_time": "2023-03-29T12:16:03.549Z"
   },
   {
    "duration": 0,
    "start_time": "2023-03-29T12:16:03.552Z"
   },
   {
    "duration": 0,
    "start_time": "2023-03-29T12:16:03.553Z"
   },
   {
    "duration": 0,
    "start_time": "2023-03-29T12:16:03.555Z"
   },
   {
    "duration": 0,
    "start_time": "2023-03-29T12:16:03.556Z"
   },
   {
    "duration": 0,
    "start_time": "2023-03-29T12:16:03.558Z"
   },
   {
    "duration": 0,
    "start_time": "2023-03-29T12:16:03.560Z"
   },
   {
    "duration": 0,
    "start_time": "2023-03-29T12:16:03.561Z"
   },
   {
    "duration": 0,
    "start_time": "2023-03-29T12:16:03.563Z"
   },
   {
    "duration": 0,
    "start_time": "2023-03-29T12:16:03.564Z"
   },
   {
    "duration": 0,
    "start_time": "2023-03-29T12:16:03.566Z"
   },
   {
    "duration": 0,
    "start_time": "2023-03-29T12:16:03.568Z"
   },
   {
    "duration": 0,
    "start_time": "2023-03-29T12:16:03.570Z"
   },
   {
    "duration": 232,
    "start_time": "2023-03-29T12:18:26.090Z"
   },
   {
    "duration": 14,
    "start_time": "2023-03-29T12:18:28.262Z"
   },
   {
    "duration": 8,
    "start_time": "2023-03-29T12:18:28.759Z"
   },
   {
    "duration": 21,
    "start_time": "2023-03-29T12:18:31.649Z"
   },
   {
    "duration": 7,
    "start_time": "2023-03-29T12:18:34.935Z"
   },
   {
    "duration": 14,
    "start_time": "2023-03-29T12:18:35.737Z"
   },
   {
    "duration": 5,
    "start_time": "2023-03-29T12:18:36.316Z"
   },
   {
    "duration": 29,
    "start_time": "2023-03-29T12:18:38.028Z"
   },
   {
    "duration": 25,
    "start_time": "2023-03-29T12:18:53.031Z"
   },
   {
    "duration": 16,
    "start_time": "2023-03-29T12:23:13.006Z"
   },
   {
    "duration": 16,
    "start_time": "2023-03-29T12:24:06.506Z"
   },
   {
    "duration": 18,
    "start_time": "2023-03-29T12:24:09.506Z"
   },
   {
    "duration": 16,
    "start_time": "2023-03-29T12:25:06.298Z"
   },
   {
    "duration": 19,
    "start_time": "2023-03-29T12:25:07.280Z"
   },
   {
    "duration": 13,
    "start_time": "2023-03-29T12:28:27.449Z"
   },
   {
    "duration": 5,
    "start_time": "2023-03-29T12:29:03.886Z"
   },
   {
    "duration": 12,
    "start_time": "2023-03-29T12:29:23.263Z"
   },
   {
    "duration": 15,
    "start_time": "2023-03-29T12:29:30.042Z"
   },
   {
    "duration": 11,
    "start_time": "2023-03-29T12:29:35.230Z"
   },
   {
    "duration": 49,
    "start_time": "2023-03-29T12:29:42.995Z"
   },
   {
    "duration": 6,
    "start_time": "2023-03-29T12:29:46.533Z"
   },
   {
    "duration": 5,
    "start_time": "2023-03-29T12:29:48.945Z"
   },
   {
    "duration": 5,
    "start_time": "2023-03-29T12:29:49.639Z"
   },
   {
    "duration": 4,
    "start_time": "2023-03-29T12:29:53.288Z"
   },
   {
    "duration": 11,
    "start_time": "2023-03-29T12:29:53.920Z"
   },
   {
    "duration": 5,
    "start_time": "2023-03-29T12:29:54.480Z"
   },
   {
    "duration": 4,
    "start_time": "2023-03-29T12:30:07.757Z"
   },
   {
    "duration": 5,
    "start_time": "2023-03-29T12:30:20.740Z"
   },
   {
    "duration": 19,
    "start_time": "2023-03-29T12:30:26.738Z"
   },
   {
    "duration": 10,
    "start_time": "2023-03-29T12:30:55.394Z"
   },
   {
    "duration": 11,
    "start_time": "2023-03-29T12:35:15.538Z"
   },
   {
    "duration": 4,
    "start_time": "2023-03-29T12:35:17.527Z"
   },
   {
    "duration": 25,
    "start_time": "2023-03-29T12:35:18.708Z"
   },
   {
    "duration": 31,
    "start_time": "2023-03-29T12:35:47.543Z"
   },
   {
    "duration": 27,
    "start_time": "2023-03-29T12:36:30.380Z"
   },
   {
    "duration": 12,
    "start_time": "2023-03-29T12:36:35.902Z"
   },
   {
    "duration": 4,
    "start_time": "2023-03-29T12:36:37.157Z"
   },
   {
    "duration": 12,
    "start_time": "2023-03-29T12:36:40.338Z"
   },
   {
    "duration": 4,
    "start_time": "2023-03-29T12:36:40.855Z"
   },
   {
    "duration": 27,
    "start_time": "2023-03-29T12:36:43.772Z"
   },
   {
    "duration": 13,
    "start_time": "2023-03-29T12:39:56.122Z"
   },
   {
    "duration": 21,
    "start_time": "2023-03-29T12:40:17.233Z"
   },
   {
    "duration": 29,
    "start_time": "2023-03-29T12:40:36.767Z"
   },
   {
    "duration": 27,
    "start_time": "2023-03-29T12:41:07.704Z"
   },
   {
    "duration": 1179,
    "start_time": "2023-03-29T12:41:22.084Z"
   },
   {
    "duration": 52,
    "start_time": "2023-03-29T12:41:23.266Z"
   },
   {
    "duration": 12,
    "start_time": "2023-03-29T12:41:23.320Z"
   },
   {
    "duration": 16,
    "start_time": "2023-03-29T12:41:23.334Z"
   },
   {
    "duration": 4,
    "start_time": "2023-03-29T12:41:23.352Z"
   },
   {
    "duration": 6,
    "start_time": "2023-03-29T12:41:23.358Z"
   },
   {
    "duration": 8,
    "start_time": "2023-03-29T12:41:23.365Z"
   },
   {
    "duration": 3,
    "start_time": "2023-03-29T12:41:23.375Z"
   },
   {
    "duration": 2302,
    "start_time": "2023-03-29T12:41:23.379Z"
   },
   {
    "duration": 170,
    "start_time": "2023-03-29T12:41:25.685Z"
   },
   {
    "duration": 6,
    "start_time": "2023-03-29T12:41:25.857Z"
   },
   {
    "duration": 16,
    "start_time": "2023-03-29T12:41:25.865Z"
   },
   {
    "duration": 14,
    "start_time": "2023-03-29T12:41:25.883Z"
   },
   {
    "duration": 11,
    "start_time": "2023-03-29T12:41:25.900Z"
   },
   {
    "duration": 21,
    "start_time": "2023-03-29T12:41:25.913Z"
   },
   {
    "duration": 5,
    "start_time": "2023-03-29T12:41:25.935Z"
   },
   {
    "duration": 28,
    "start_time": "2023-03-29T12:41:25.942Z"
   },
   {
    "duration": 25,
    "start_time": "2023-03-29T12:41:25.972Z"
   },
   {
    "duration": 42,
    "start_time": "2023-03-29T12:41:25.999Z"
   },
   {
    "duration": 9,
    "start_time": "2023-03-29T12:41:26.043Z"
   },
   {
    "duration": 9,
    "start_time": "2023-03-29T12:41:26.054Z"
   },
   {
    "duration": 141,
    "start_time": "2023-03-29T12:41:26.064Z"
   },
   {
    "duration": 0,
    "start_time": "2023-03-29T12:41:26.207Z"
   },
   {
    "duration": 0,
    "start_time": "2023-03-29T12:41:26.209Z"
   },
   {
    "duration": 0,
    "start_time": "2023-03-29T12:41:26.210Z"
   },
   {
    "duration": 0,
    "start_time": "2023-03-29T12:41:26.211Z"
   },
   {
    "duration": 0,
    "start_time": "2023-03-29T12:41:26.212Z"
   },
   {
    "duration": 0,
    "start_time": "2023-03-29T12:41:26.213Z"
   },
   {
    "duration": 0,
    "start_time": "2023-03-29T12:41:26.214Z"
   },
   {
    "duration": 0,
    "start_time": "2023-03-29T12:41:26.214Z"
   },
   {
    "duration": 0,
    "start_time": "2023-03-29T12:41:26.217Z"
   },
   {
    "duration": 0,
    "start_time": "2023-03-29T12:41:26.218Z"
   },
   {
    "duration": 0,
    "start_time": "2023-03-29T12:41:26.220Z"
   },
   {
    "duration": 0,
    "start_time": "2023-03-29T12:41:26.234Z"
   },
   {
    "duration": 0,
    "start_time": "2023-03-29T12:41:26.236Z"
   },
   {
    "duration": 0,
    "start_time": "2023-03-29T12:41:26.237Z"
   },
   {
    "duration": 0,
    "start_time": "2023-03-29T12:41:26.238Z"
   },
   {
    "duration": 0,
    "start_time": "2023-03-29T12:41:26.240Z"
   },
   {
    "duration": 0,
    "start_time": "2023-03-29T12:41:26.241Z"
   },
   {
    "duration": 0,
    "start_time": "2023-03-29T12:41:26.243Z"
   },
   {
    "duration": 0,
    "start_time": "2023-03-29T12:41:26.244Z"
   },
   {
    "duration": 0,
    "start_time": "2023-03-29T12:41:26.245Z"
   },
   {
    "duration": 0,
    "start_time": "2023-03-29T12:41:26.246Z"
   },
   {
    "duration": 0,
    "start_time": "2023-03-29T12:41:26.248Z"
   },
   {
    "duration": 0,
    "start_time": "2023-03-29T12:41:26.249Z"
   },
   {
    "duration": 0,
    "start_time": "2023-03-29T12:41:26.250Z"
   },
   {
    "duration": 0,
    "start_time": "2023-03-29T12:41:26.251Z"
   },
   {
    "duration": 0,
    "start_time": "2023-03-29T12:41:26.252Z"
   },
   {
    "duration": 0,
    "start_time": "2023-03-29T12:41:26.253Z"
   },
   {
    "duration": 33,
    "start_time": "2023-03-29T12:41:40.533Z"
   },
   {
    "duration": 14,
    "start_time": "2023-03-29T12:42:05.573Z"
   },
   {
    "duration": 44,
    "start_time": "2023-03-29T12:42:53.721Z"
   },
   {
    "duration": 16,
    "start_time": "2023-03-29T12:43:07.998Z"
   },
   {
    "duration": 10,
    "start_time": "2023-03-29T12:43:21.369Z"
   },
   {
    "duration": 30,
    "start_time": "2023-03-29T12:43:22.329Z"
   },
   {
    "duration": 18,
    "start_time": "2023-03-29T12:43:30.415Z"
   },
   {
    "duration": 8,
    "start_time": "2023-03-29T12:43:34.807Z"
   },
   {
    "duration": 20,
    "start_time": "2023-03-29T12:43:35.773Z"
   },
   {
    "duration": 12,
    "start_time": "2023-03-29T12:43:46.225Z"
   },
   {
    "duration": 17,
    "start_time": "2023-03-29T12:44:53.085Z"
   },
   {
    "duration": 18,
    "start_time": "2023-03-29T12:45:08.916Z"
   },
   {
    "duration": 12,
    "start_time": "2023-03-29T12:50:29.986Z"
   },
   {
    "duration": 17,
    "start_time": "2023-03-29T12:50:31.664Z"
   },
   {
    "duration": 13,
    "start_time": "2023-03-29T12:50:42.323Z"
   },
   {
    "duration": 20,
    "start_time": "2023-03-29T12:50:42.875Z"
   },
   {
    "duration": 22,
    "start_time": "2023-03-29T12:50:46.818Z"
   },
   {
    "duration": 11,
    "start_time": "2023-03-29T12:50:49.649Z"
   },
   {
    "duration": 27,
    "start_time": "2023-03-29T12:51:03.152Z"
   },
   {
    "duration": 11,
    "start_time": "2023-03-29T12:51:08.970Z"
   },
   {
    "duration": 30,
    "start_time": "2023-03-29T12:51:09.541Z"
   },
   {
    "duration": 11,
    "start_time": "2023-03-29T12:51:16.488Z"
   },
   {
    "duration": 17,
    "start_time": "2023-03-29T12:51:17.635Z"
   },
   {
    "duration": 11,
    "start_time": "2023-03-29T12:53:07.166Z"
   },
   {
    "duration": 2362,
    "start_time": "2023-03-29T12:53:07.703Z"
   },
   {
    "duration": 17,
    "start_time": "2023-03-29T12:53:19.462Z"
   },
   {
    "duration": 22,
    "start_time": "2023-03-29T12:53:54.548Z"
   },
   {
    "duration": 20,
    "start_time": "2023-03-29T12:53:56.256Z"
   },
   {
    "duration": 13,
    "start_time": "2023-03-29T12:56:41.957Z"
   },
   {
    "duration": 11,
    "start_time": "2023-03-29T12:56:48.345Z"
   },
   {
    "duration": 10,
    "start_time": "2023-03-29T12:57:59.316Z"
   },
   {
    "duration": 11,
    "start_time": "2023-03-29T12:58:02.087Z"
   },
   {
    "duration": 13,
    "start_time": "2023-03-29T12:58:03.529Z"
   },
   {
    "duration": 11,
    "start_time": "2023-03-29T12:58:09.098Z"
   },
   {
    "duration": 17,
    "start_time": "2023-03-29T12:58:15.336Z"
   },
   {
    "duration": 1300,
    "start_time": "2023-03-29T12:58:21.918Z"
   },
   {
    "duration": 44,
    "start_time": "2023-03-29T12:58:23.219Z"
   },
   {
    "duration": 19,
    "start_time": "2023-03-29T12:58:23.265Z"
   },
   {
    "duration": 23,
    "start_time": "2023-03-29T12:58:23.287Z"
   },
   {
    "duration": 5,
    "start_time": "2023-03-29T12:58:23.312Z"
   },
   {
    "duration": 23,
    "start_time": "2023-03-29T12:58:23.320Z"
   },
   {
    "duration": 14,
    "start_time": "2023-03-29T12:58:23.345Z"
   },
   {
    "duration": 10,
    "start_time": "2023-03-29T12:58:23.361Z"
   },
   {
    "duration": 166,
    "start_time": "2023-03-29T12:58:23.372Z"
   },
   {
    "duration": 6,
    "start_time": "2023-03-29T12:58:23.541Z"
   },
   {
    "duration": 25,
    "start_time": "2023-03-29T12:58:23.549Z"
   },
   {
    "duration": 19,
    "start_time": "2023-03-29T12:58:23.576Z"
   },
   {
    "duration": 21,
    "start_time": "2023-03-29T12:58:23.597Z"
   },
   {
    "duration": 37,
    "start_time": "2023-03-29T12:58:23.620Z"
   },
   {
    "duration": 6,
    "start_time": "2023-03-29T12:58:23.660Z"
   },
   {
    "duration": 2366,
    "start_time": "2023-03-29T12:58:23.668Z"
   },
   {
    "duration": 16,
    "start_time": "2023-03-29T12:58:26.036Z"
   },
   {
    "duration": 16,
    "start_time": "2023-03-29T12:58:26.054Z"
   },
   {
    "duration": 32,
    "start_time": "2023-03-29T12:58:26.072Z"
   },
   {
    "duration": 28,
    "start_time": "2023-03-29T12:58:26.106Z"
   },
   {
    "duration": 6,
    "start_time": "2023-03-29T12:58:26.137Z"
   },
   {
    "duration": 12,
    "start_time": "2023-03-29T12:58:26.145Z"
   },
   {
    "duration": 180,
    "start_time": "2023-03-29T12:58:26.159Z"
   },
   {
    "duration": 4,
    "start_time": "2023-03-29T12:58:26.341Z"
   },
   {
    "duration": 99,
    "start_time": "2023-03-29T12:58:26.347Z"
   },
   {
    "duration": 108,
    "start_time": "2023-03-29T12:58:26.448Z"
   },
   {
    "duration": 95,
    "start_time": "2023-03-29T12:58:26.558Z"
   },
   {
    "duration": 1,
    "start_time": "2023-03-29T12:58:26.655Z"
   },
   {
    "duration": 0,
    "start_time": "2023-03-29T12:58:26.658Z"
   },
   {
    "duration": 0,
    "start_time": "2023-03-29T12:58:26.659Z"
   },
   {
    "duration": 0,
    "start_time": "2023-03-29T12:58:26.661Z"
   },
   {
    "duration": 0,
    "start_time": "2023-03-29T12:58:26.663Z"
   },
   {
    "duration": 0,
    "start_time": "2023-03-29T12:58:26.664Z"
   },
   {
    "duration": 0,
    "start_time": "2023-03-29T12:58:26.666Z"
   },
   {
    "duration": 0,
    "start_time": "2023-03-29T12:58:26.667Z"
   },
   {
    "duration": 0,
    "start_time": "2023-03-29T12:58:26.669Z"
   },
   {
    "duration": 0,
    "start_time": "2023-03-29T12:58:26.670Z"
   },
   {
    "duration": 0,
    "start_time": "2023-03-29T12:58:26.671Z"
   },
   {
    "duration": 0,
    "start_time": "2023-03-29T12:58:26.673Z"
   },
   {
    "duration": 0,
    "start_time": "2023-03-29T12:58:26.675Z"
   },
   {
    "duration": 0,
    "start_time": "2023-03-29T12:58:26.677Z"
   },
   {
    "duration": 0,
    "start_time": "2023-03-29T12:58:26.678Z"
   },
   {
    "duration": 0,
    "start_time": "2023-03-29T12:58:26.680Z"
   },
   {
    "duration": 0,
    "start_time": "2023-03-29T12:58:26.681Z"
   },
   {
    "duration": 0,
    "start_time": "2023-03-29T12:58:26.683Z"
   },
   {
    "duration": 0,
    "start_time": "2023-03-29T12:58:26.684Z"
   },
   {
    "duration": 0,
    "start_time": "2023-03-29T12:58:26.686Z"
   },
   {
    "duration": 0,
    "start_time": "2023-03-29T12:58:26.687Z"
   },
   {
    "duration": 0,
    "start_time": "2023-03-29T12:58:26.689Z"
   },
   {
    "duration": 0,
    "start_time": "2023-03-29T12:58:26.691Z"
   },
   {
    "duration": 129,
    "start_time": "2023-03-29T13:01:18.415Z"
   },
   {
    "duration": 55,
    "start_time": "2023-03-29T13:01:24.524Z"
   },
   {
    "duration": 42,
    "start_time": "2023-03-29T13:01:38.399Z"
   },
   {
    "duration": 7944,
    "start_time": "2023-03-29T13:02:00.628Z"
   },
   {
    "duration": 9347,
    "start_time": "2023-03-29T13:02:32.316Z"
   },
   {
    "duration": 4,
    "start_time": "2023-03-29T13:04:01.097Z"
   },
   {
    "duration": 5,
    "start_time": "2023-03-29T13:04:24.827Z"
   },
   {
    "duration": 11,
    "start_time": "2023-03-29T13:04:57.911Z"
   },
   {
    "duration": 10,
    "start_time": "2023-03-29T13:07:22.538Z"
   },
   {
    "duration": 3,
    "start_time": "2023-03-29T13:07:26.416Z"
   },
   {
    "duration": 4,
    "start_time": "2023-03-29T13:07:37.828Z"
   },
   {
    "duration": 3,
    "start_time": "2023-03-29T13:07:58.395Z"
   },
   {
    "duration": 4,
    "start_time": "2023-03-29T13:07:59.299Z"
   },
   {
    "duration": 10,
    "start_time": "2023-03-29T13:08:08.375Z"
   },
   {
    "duration": 51,
    "start_time": "2023-03-29T13:08:20.488Z"
   },
   {
    "duration": 12,
    "start_time": "2023-03-29T13:08:23.749Z"
   },
   {
    "duration": 4,
    "start_time": "2023-03-29T13:08:28.902Z"
   },
   {
    "duration": 4,
    "start_time": "2023-03-29T13:08:36.285Z"
   },
   {
    "duration": 3,
    "start_time": "2023-03-29T13:08:44.342Z"
   },
   {
    "duration": 70,
    "start_time": "2023-03-29T13:16:11.045Z"
   },
   {
    "duration": 56,
    "start_time": "2023-03-29T13:16:21.858Z"
   },
   {
    "duration": 55,
    "start_time": "2023-03-29T13:16:34.228Z"
   },
   {
    "duration": 42,
    "start_time": "2023-03-29T13:16:39.230Z"
   },
   {
    "duration": 4,
    "start_time": "2023-03-29T13:17:00.742Z"
   },
   {
    "duration": 93,
    "start_time": "2023-03-29T13:17:08.503Z"
   },
   {
    "duration": 48,
    "start_time": "2023-03-29T13:17:49.090Z"
   },
   {
    "duration": 5,
    "start_time": "2023-03-29T13:20:21.688Z"
   },
   {
    "duration": 3,
    "start_time": "2023-03-29T13:20:32.173Z"
   },
   {
    "duration": 8834,
    "start_time": "2023-03-29T13:20:41.151Z"
   },
   {
    "duration": 80,
    "start_time": "2023-03-29T13:23:14.765Z"
   },
   {
    "duration": 38,
    "start_time": "2023-03-29T13:23:35.500Z"
   },
   {
    "duration": 25,
    "start_time": "2023-03-29T13:23:50.919Z"
   },
   {
    "duration": 3,
    "start_time": "2023-03-29T13:25:36.428Z"
   },
   {
    "duration": 3,
    "start_time": "2023-03-29T13:25:36.863Z"
   },
   {
    "duration": 3,
    "start_time": "2023-03-29T13:25:37.171Z"
   },
   {
    "duration": 8947,
    "start_time": "2023-03-29T13:26:14.666Z"
   },
   {
    "duration": 4,
    "start_time": "2023-03-29T13:26:57.629Z"
   },
   {
    "duration": 8940,
    "start_time": "2023-03-29T13:27:01.629Z"
   },
   {
    "duration": 8837,
    "start_time": "2023-03-29T13:27:45.702Z"
   },
   {
    "duration": 103,
    "start_time": "2023-03-29T13:28:28.110Z"
   },
   {
    "duration": 3,
    "start_time": "2023-03-29T13:29:13.791Z"
   },
   {
    "duration": 4,
    "start_time": "2023-03-29T13:29:14.264Z"
   },
   {
    "duration": 14,
    "start_time": "2023-03-29T13:29:16.131Z"
   },
   {
    "duration": 49,
    "start_time": "2023-03-29T13:29:52.731Z"
   },
   {
    "duration": 58,
    "start_time": "2023-03-29T13:30:56.382Z"
   },
   {
    "duration": 10,
    "start_time": "2023-03-29T13:31:00.090Z"
   },
   {
    "duration": 6,
    "start_time": "2023-03-29T13:31:21.663Z"
   },
   {
    "duration": 6,
    "start_time": "2023-03-29T13:31:26.790Z"
   },
   {
    "duration": 5,
    "start_time": "2023-03-29T13:31:32.321Z"
   },
   {
    "duration": 226,
    "start_time": "2023-03-29T13:31:54.821Z"
   },
   {
    "duration": 8910,
    "start_time": "2023-03-29T13:33:34.602Z"
   },
   {
    "duration": 3,
    "start_time": "2023-03-29T13:34:18.865Z"
   },
   {
    "duration": 104,
    "start_time": "2023-03-29T13:34:44.769Z"
   },
   {
    "duration": 105,
    "start_time": "2023-03-29T13:34:46.463Z"
   },
   {
    "duration": 106,
    "start_time": "2023-03-29T13:34:51.489Z"
   },
   {
    "duration": 124,
    "start_time": "2023-03-29T13:35:12.687Z"
   },
   {
    "duration": 123,
    "start_time": "2023-03-29T13:36:46.604Z"
   },
   {
    "duration": 127,
    "start_time": "2023-03-29T13:37:14.951Z"
   },
   {
    "duration": 17,
    "start_time": "2023-03-29T13:37:26.522Z"
   },
   {
    "duration": 184,
    "start_time": "2023-03-29T13:37:34.791Z"
   },
   {
    "duration": 184,
    "start_time": "2023-03-29T13:37:42.114Z"
   },
   {
    "duration": 244,
    "start_time": "2023-03-29T13:38:03.398Z"
   },
   {
    "duration": 12,
    "start_time": "2023-03-29T13:48:16.686Z"
   },
   {
    "duration": 8,
    "start_time": "2023-03-29T13:48:21.042Z"
   },
   {
    "duration": 8,
    "start_time": "2023-03-29T13:48:37.214Z"
   },
   {
    "duration": 8,
    "start_time": "2023-03-29T13:48:43.452Z"
   },
   {
    "duration": 7,
    "start_time": "2023-03-29T13:48:46.293Z"
   },
   {
    "duration": 64,
    "start_time": "2023-03-29T13:55:16.683Z"
   },
   {
    "duration": 88,
    "start_time": "2023-03-29T13:55:17.546Z"
   },
   {
    "duration": 1636,
    "start_time": "2023-03-29T17:56:09.353Z"
   },
   {
    "duration": 190,
    "start_time": "2023-03-29T17:56:10.991Z"
   },
   {
    "duration": 19,
    "start_time": "2023-03-29T17:56:11.183Z"
   },
   {
    "duration": 27,
    "start_time": "2023-03-29T17:56:11.205Z"
   },
   {
    "duration": 13,
    "start_time": "2023-03-29T17:56:11.234Z"
   },
   {
    "duration": 12,
    "start_time": "2023-03-29T17:56:11.249Z"
   },
   {
    "duration": 14,
    "start_time": "2023-03-29T17:56:11.263Z"
   },
   {
    "duration": 17,
    "start_time": "2023-03-29T17:56:11.279Z"
   },
   {
    "duration": 166,
    "start_time": "2023-03-29T17:56:11.298Z"
   },
   {
    "duration": 5,
    "start_time": "2023-03-29T17:56:11.467Z"
   },
   {
    "duration": 24,
    "start_time": "2023-03-29T17:56:11.474Z"
   },
   {
    "duration": 18,
    "start_time": "2023-03-29T17:56:11.501Z"
   },
   {
    "duration": 18,
    "start_time": "2023-03-29T17:56:11.521Z"
   },
   {
    "duration": 13,
    "start_time": "2023-03-29T17:56:11.541Z"
   },
   {
    "duration": 5,
    "start_time": "2023-03-29T17:56:11.556Z"
   },
   {
    "duration": 7636,
    "start_time": "2023-03-29T17:56:11.563Z"
   },
   {
    "duration": 0,
    "start_time": "2023-03-29T17:56:19.202Z"
   },
   {
    "duration": 0,
    "start_time": "2023-03-29T17:56:19.206Z"
   },
   {
    "duration": 0,
    "start_time": "2023-03-29T17:56:19.207Z"
   },
   {
    "duration": 0,
    "start_time": "2023-03-29T17:56:19.209Z"
   },
   {
    "duration": 0,
    "start_time": "2023-03-29T17:56:19.218Z"
   },
   {
    "duration": 0,
    "start_time": "2023-03-29T17:56:19.220Z"
   },
   {
    "duration": 0,
    "start_time": "2023-03-29T17:56:19.221Z"
   },
   {
    "duration": 0,
    "start_time": "2023-03-29T17:56:19.223Z"
   },
   {
    "duration": 0,
    "start_time": "2023-03-29T17:56:19.224Z"
   },
   {
    "duration": 0,
    "start_time": "2023-03-29T17:56:19.230Z"
   },
   {
    "duration": 0,
    "start_time": "2023-03-29T17:56:19.231Z"
   },
   {
    "duration": 0,
    "start_time": "2023-03-29T17:56:19.234Z"
   },
   {
    "duration": 0,
    "start_time": "2023-03-29T17:56:19.236Z"
   },
   {
    "duration": 0,
    "start_time": "2023-03-29T17:56:19.237Z"
   },
   {
    "duration": 0,
    "start_time": "2023-03-29T17:56:19.238Z"
   },
   {
    "duration": 0,
    "start_time": "2023-03-29T17:56:19.240Z"
   },
   {
    "duration": 0,
    "start_time": "2023-03-29T17:56:19.241Z"
   },
   {
    "duration": 0,
    "start_time": "2023-03-29T17:56:19.242Z"
   },
   {
    "duration": 0,
    "start_time": "2023-03-29T17:56:19.243Z"
   },
   {
    "duration": 0,
    "start_time": "2023-03-29T17:56:19.244Z"
   },
   {
    "duration": 0,
    "start_time": "2023-03-29T17:56:19.245Z"
   },
   {
    "duration": 0,
    "start_time": "2023-03-29T17:56:19.246Z"
   },
   {
    "duration": 0,
    "start_time": "2023-03-29T17:56:19.247Z"
   },
   {
    "duration": 0,
    "start_time": "2023-03-29T17:56:19.248Z"
   },
   {
    "duration": 0,
    "start_time": "2023-03-29T17:56:19.249Z"
   },
   {
    "duration": 0,
    "start_time": "2023-03-29T17:56:19.250Z"
   },
   {
    "duration": 0,
    "start_time": "2023-03-29T17:56:19.251Z"
   },
   {
    "duration": 0,
    "start_time": "2023-03-29T17:56:19.252Z"
   },
   {
    "duration": 0,
    "start_time": "2023-03-29T17:56:19.253Z"
   },
   {
    "duration": 0,
    "start_time": "2023-03-29T17:56:19.254Z"
   },
   {
    "duration": 2288,
    "start_time": "2023-03-29T17:57:24.490Z"
   },
   {
    "duration": 13,
    "start_time": "2023-03-29T17:58:01.457Z"
   },
   {
    "duration": 4,
    "start_time": "2023-03-29T17:58:02.511Z"
   },
   {
    "duration": 2594,
    "start_time": "2023-03-29T17:58:04.257Z"
   },
   {
    "duration": 21,
    "start_time": "2023-03-29T17:58:09.687Z"
   },
   {
    "duration": 16,
    "start_time": "2023-03-29T17:58:10.639Z"
   },
   {
    "duration": 1319,
    "start_time": "2023-03-29T18:00:59.660Z"
   },
   {
    "duration": 44,
    "start_time": "2023-03-29T18:01:00.982Z"
   },
   {
    "duration": 230,
    "start_time": "2023-03-29T18:01:01.029Z"
   },
   {
    "duration": 78,
    "start_time": "2023-03-29T18:01:01.262Z"
   },
   {
    "duration": 34,
    "start_time": "2023-03-29T18:01:01.343Z"
   },
   {
    "duration": 57,
    "start_time": "2023-03-29T18:01:01.379Z"
   },
   {
    "duration": 28,
    "start_time": "2023-03-29T18:01:01.439Z"
   },
   {
    "duration": 43,
    "start_time": "2023-03-29T18:01:01.469Z"
   },
   {
    "duration": 219,
    "start_time": "2023-03-29T18:01:01.514Z"
   },
   {
    "duration": 7,
    "start_time": "2023-03-29T18:01:01.737Z"
   },
   {
    "duration": 233,
    "start_time": "2023-03-29T18:01:01.746Z"
   },
   {
    "duration": 111,
    "start_time": "2023-03-29T18:01:01.981Z"
   },
   {
    "duration": 27,
    "start_time": "2023-03-29T18:01:02.093Z"
   },
   {
    "duration": 53,
    "start_time": "2023-03-29T18:01:02.122Z"
   },
   {
    "duration": 46,
    "start_time": "2023-03-29T18:01:02.176Z"
   },
   {
    "duration": 65,
    "start_time": "2023-03-29T18:01:02.224Z"
   },
   {
    "duration": 64,
    "start_time": "2023-03-29T18:01:02.291Z"
   },
   {
    "duration": 39,
    "start_time": "2023-03-29T18:01:02.357Z"
   },
   {
    "duration": 86,
    "start_time": "2023-03-29T18:01:02.398Z"
   },
   {
    "duration": 35,
    "start_time": "2023-03-29T18:01:02.486Z"
   },
   {
    "duration": 62,
    "start_time": "2023-03-29T18:01:02.522Z"
   },
   {
    "duration": 75,
    "start_time": "2023-03-29T18:01:02.586Z"
   },
   {
    "duration": 257,
    "start_time": "2023-03-29T18:01:02.663Z"
   },
   {
    "duration": 5,
    "start_time": "2023-03-29T18:01:02.927Z"
   },
   {
    "duration": 145,
    "start_time": "2023-03-29T18:01:02.939Z"
   },
   {
    "duration": 47,
    "start_time": "2023-03-29T18:01:03.086Z"
   },
   {
    "duration": 9474,
    "start_time": "2023-03-29T18:01:03.135Z"
   },
   {
    "duration": 110,
    "start_time": "2023-03-29T18:01:12.617Z"
   },
   {
    "duration": 195,
    "start_time": "2023-03-29T18:01:12.729Z"
   },
   {
    "duration": 5,
    "start_time": "2023-03-29T18:01:12.930Z"
   },
   {
    "duration": 107,
    "start_time": "2023-03-29T18:01:12.938Z"
   },
   {
    "duration": 11,
    "start_time": "2023-03-29T18:01:13.047Z"
   },
   {
    "duration": 9745,
    "start_time": "2023-03-29T18:01:13.060Z"
   },
   {
    "duration": 130,
    "start_time": "2023-03-29T18:01:22.807Z"
   },
   {
    "duration": 4,
    "start_time": "2023-03-29T18:01:22.939Z"
   },
   {
    "duration": 35,
    "start_time": "2023-03-29T18:01:22.945Z"
   },
   {
    "duration": 41,
    "start_time": "2023-03-29T18:01:22.982Z"
   },
   {
    "duration": 46,
    "start_time": "2023-03-29T18:01:23.025Z"
   },
   {
    "duration": 155,
    "start_time": "2023-03-29T18:01:23.073Z"
   },
   {
    "duration": 9650,
    "start_time": "2023-03-29T18:01:23.230Z"
   },
   {
    "duration": 142,
    "start_time": "2023-03-29T18:01:32.882Z"
   },
   {
    "duration": 3,
    "start_time": "2023-03-29T18:01:33.027Z"
   },
   {
    "duration": 203,
    "start_time": "2023-03-29T18:01:33.033Z"
   },
   {
    "duration": 136,
    "start_time": "2023-03-29T18:01:33.238Z"
   },
   {
    "duration": 241,
    "start_time": "2023-03-29T18:01:33.376Z"
   },
   {
    "duration": 9,
    "start_time": "2023-03-29T18:01:33.622Z"
   },
   {
    "duration": 2396,
    "start_time": "2023-03-29T18:01:54.293Z"
   },
   {
    "duration": 120,
    "start_time": "2023-03-29T18:02:30.768Z"
   },
   {
    "duration": 5,
    "start_time": "2023-03-29T18:02:50.860Z"
   },
   {
    "duration": 9,
    "start_time": "2023-03-29T18:03:02.599Z"
   },
   {
    "duration": 61,
    "start_time": "2023-03-29T18:03:16.158Z"
   },
   {
    "duration": 2,
    "start_time": "2023-03-29T18:03:37.034Z"
   },
   {
    "duration": 48,
    "start_time": "2023-03-29T18:03:39.930Z"
   },
   {
    "duration": 9,
    "start_time": "2023-03-29T18:03:44.334Z"
   },
   {
    "duration": 63,
    "start_time": "2023-03-29T18:04:01.892Z"
   },
   {
    "duration": 32,
    "start_time": "2023-03-29T18:04:56.803Z"
   },
   {
    "duration": 10,
    "start_time": "2023-03-29T18:05:18.191Z"
   },
   {
    "duration": 53,
    "start_time": "2023-03-29T18:05:44.048Z"
   },
   {
    "duration": 54,
    "start_time": "2023-03-29T18:05:55.057Z"
   },
   {
    "duration": 24,
    "start_time": "2023-03-29T18:06:25.632Z"
   },
   {
    "duration": 49,
    "start_time": "2023-03-29T18:07:33.466Z"
   },
   {
    "duration": 49,
    "start_time": "2023-03-29T18:07:50.739Z"
   },
   {
    "duration": 16,
    "start_time": "2023-03-29T18:12:58.660Z"
   },
   {
    "duration": 130,
    "start_time": "2023-03-29T18:13:07.662Z"
   },
   {
    "duration": 153,
    "start_time": "2023-03-29T18:13:22.503Z"
   },
   {
    "duration": 52,
    "start_time": "2023-03-29T18:14:10.659Z"
   },
   {
    "duration": 61,
    "start_time": "2023-03-29T18:14:14.651Z"
   },
   {
    "duration": 14,
    "start_time": "2023-03-29T18:47:23.485Z"
   },
   {
    "duration": 13,
    "start_time": "2023-03-29T18:47:29.591Z"
   },
   {
    "duration": 53,
    "start_time": "2023-03-29T18:53:10.676Z"
   },
   {
    "duration": 5,
    "start_time": "2023-03-29T18:54:05.336Z"
   },
   {
    "duration": 2797,
    "start_time": "2023-03-29T18:57:06.262Z"
   },
   {
    "duration": 11,
    "start_time": "2023-03-29T18:57:44.958Z"
   },
   {
    "duration": 10,
    "start_time": "2023-03-29T18:57:54.100Z"
   },
   {
    "duration": 10,
    "start_time": "2023-03-29T18:58:10.234Z"
   },
   {
    "duration": 10,
    "start_time": "2023-03-29T18:58:17.379Z"
   },
   {
    "duration": 10,
    "start_time": "2023-03-29T18:58:30.546Z"
   },
   {
    "duration": 5,
    "start_time": "2023-03-29T18:58:46.237Z"
   },
   {
    "duration": 5,
    "start_time": "2023-03-29T18:59:03.178Z"
   },
   {
    "duration": 35,
    "start_time": "2023-03-29T18:59:18.628Z"
   },
   {
    "duration": 231,
    "start_time": "2023-03-29T19:01:16.792Z"
   },
   {
    "duration": 178,
    "start_time": "2023-03-29T19:01:21.664Z"
   }
  ],
  "kernelspec": {
   "display_name": "Python 3 (ipykernel)",
   "language": "python",
   "name": "python3"
  },
  "language_info": {
   "codemirror_mode": {
    "name": "ipython",
    "version": 3
   },
   "file_extension": ".py",
   "mimetype": "text/x-python",
   "name": "python",
   "nbconvert_exporter": "python",
   "pygments_lexer": "ipython3",
   "version": "3.9.16"
  },
  "toc": {
   "base_numbering": 1,
   "nav_menu": {},
   "number_sections": true,
   "sideBar": true,
   "skip_h1_title": true,
   "title_cell": "Содержание",
   "title_sidebar": "Contents",
   "toc_cell": true,
   "toc_position": {
    "height": "calc(100% - 180px)",
    "left": "10px",
    "top": "150px",
    "width": "165px"
   },
   "toc_section_display": true,
   "toc_window_display": false
  }
 },
 "nbformat": 4,
 "nbformat_minor": 4
}
