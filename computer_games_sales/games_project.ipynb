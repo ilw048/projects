{
 "cells": [
  {
   "cell_type": "markdown",
   "metadata": {
    "tags": []
   },
   "source": [
    "# Исследование продаж компьютерных игр "
   ]
  },
  {
   "cell_type": "markdown",
   "metadata": {},
   "source": [
    "В нашем распоряжении данные по продажам компьютерных игр в Европе, Северной Америке и Японии до 2016 года. Нужно выявить определяющие успешность игры закономерности. Это позволит сделать ставку на потенциально популярный продукт и спланировать рекламные кампании на будущий год."
   ]
  },
  {
   "cell_type": "code",
   "execution_count": 1,
   "metadata": {},
   "outputs": [],
   "source": [
    "import pandas as pd\n",
    "import matplotlib.pyplot as plt\n",
    "import seaborn as sns"
   ]
  },
  {
   "cell_type": "code",
   "execution_count": 2,
   "metadata": {
    "tags": []
   },
   "outputs": [],
   "source": [
    "plt.rc('lines', linewidth=1)\n",
    "plt.rcParams.update({'font.size': 8})"
   ]
  },
  {
   "cell_type": "code",
   "execution_count": 3,
   "metadata": {},
   "outputs": [],
   "source": [
    "data = pd.read_csv('datasets/games.csv')"
   ]
  },
  {
   "cell_type": "code",
   "execution_count": 4,
   "metadata": {},
   "outputs": [
    {
     "data": {
      "text/html": [
       "<div>\n",
       "<style scoped>\n",
       "    .dataframe tbody tr th:only-of-type {\n",
       "        vertical-align: middle;\n",
       "    }\n",
       "\n",
       "    .dataframe tbody tr th {\n",
       "        vertical-align: top;\n",
       "    }\n",
       "\n",
       "    .dataframe thead th {\n",
       "        text-align: right;\n",
       "    }\n",
       "</style>\n",
       "<table border=\"1\" class=\"dataframe\">\n",
       "  <thead>\n",
       "    <tr style=\"text-align: right;\">\n",
       "      <th></th>\n",
       "      <th>Name</th>\n",
       "      <th>Platform</th>\n",
       "      <th>Year_of_Release</th>\n",
       "      <th>Genre</th>\n",
       "      <th>NA_sales</th>\n",
       "      <th>EU_sales</th>\n",
       "      <th>JP_sales</th>\n",
       "      <th>Other_sales</th>\n",
       "      <th>Critic_Score</th>\n",
       "      <th>User_Score</th>\n",
       "      <th>Rating</th>\n",
       "    </tr>\n",
       "  </thead>\n",
       "  <tbody>\n",
       "    <tr>\n",
       "      <th>0</th>\n",
       "      <td>Wii Sports</td>\n",
       "      <td>Wii</td>\n",
       "      <td>2006.0</td>\n",
       "      <td>Sports</td>\n",
       "      <td>41.36</td>\n",
       "      <td>28.96</td>\n",
       "      <td>3.77</td>\n",
       "      <td>8.45</td>\n",
       "      <td>76.0</td>\n",
       "      <td>8</td>\n",
       "      <td>E</td>\n",
       "    </tr>\n",
       "    <tr>\n",
       "      <th>1</th>\n",
       "      <td>Super Mario Bros.</td>\n",
       "      <td>NES</td>\n",
       "      <td>1985.0</td>\n",
       "      <td>Platform</td>\n",
       "      <td>29.08</td>\n",
       "      <td>3.58</td>\n",
       "      <td>6.81</td>\n",
       "      <td>0.77</td>\n",
       "      <td>NaN</td>\n",
       "      <td>NaN</td>\n",
       "      <td>NaN</td>\n",
       "    </tr>\n",
       "    <tr>\n",
       "      <th>2</th>\n",
       "      <td>Mario Kart Wii</td>\n",
       "      <td>Wii</td>\n",
       "      <td>2008.0</td>\n",
       "      <td>Racing</td>\n",
       "      <td>15.68</td>\n",
       "      <td>12.76</td>\n",
       "      <td>3.79</td>\n",
       "      <td>3.29</td>\n",
       "      <td>82.0</td>\n",
       "      <td>8.3</td>\n",
       "      <td>E</td>\n",
       "    </tr>\n",
       "    <tr>\n",
       "      <th>3</th>\n",
       "      <td>Wii Sports Resort</td>\n",
       "      <td>Wii</td>\n",
       "      <td>2009.0</td>\n",
       "      <td>Sports</td>\n",
       "      <td>15.61</td>\n",
       "      <td>10.93</td>\n",
       "      <td>3.28</td>\n",
       "      <td>2.95</td>\n",
       "      <td>80.0</td>\n",
       "      <td>8</td>\n",
       "      <td>E</td>\n",
       "    </tr>\n",
       "    <tr>\n",
       "      <th>4</th>\n",
       "      <td>Pokemon Red/Pokemon Blue</td>\n",
       "      <td>GB</td>\n",
       "      <td>1996.0</td>\n",
       "      <td>Role-Playing</td>\n",
       "      <td>11.27</td>\n",
       "      <td>8.89</td>\n",
       "      <td>10.22</td>\n",
       "      <td>1.00</td>\n",
       "      <td>NaN</td>\n",
       "      <td>NaN</td>\n",
       "      <td>NaN</td>\n",
       "    </tr>\n",
       "  </tbody>\n",
       "</table>\n",
       "</div>"
      ],
      "text/plain": [
       "                       Name Platform  Year_of_Release         Genre  NA_sales  \\\n",
       "0                Wii Sports      Wii           2006.0        Sports     41.36   \n",
       "1         Super Mario Bros.      NES           1985.0      Platform     29.08   \n",
       "2            Mario Kart Wii      Wii           2008.0        Racing     15.68   \n",
       "3         Wii Sports Resort      Wii           2009.0        Sports     15.61   \n",
       "4  Pokemon Red/Pokemon Blue       GB           1996.0  Role-Playing     11.27   \n",
       "\n",
       "   EU_sales  JP_sales  Other_sales  Critic_Score User_Score Rating  \n",
       "0     28.96      3.77         8.45          76.0          8      E  \n",
       "1      3.58      6.81         0.77           NaN        NaN    NaN  \n",
       "2     12.76      3.79         3.29          82.0        8.3      E  \n",
       "3     10.93      3.28         2.95          80.0          8      E  \n",
       "4      8.89     10.22         1.00           NaN        NaN    NaN  "
      ]
     },
     "execution_count": 4,
     "metadata": {},
     "output_type": "execute_result"
    }
   ],
   "source": [
    "data.head()"
   ]
  },
  {
   "cell_type": "code",
   "execution_count": 5,
   "metadata": {},
   "outputs": [
    {
     "name": "stdout",
     "output_type": "stream",
     "text": [
      "<class 'pandas.core.frame.DataFrame'>\n",
      "RangeIndex: 16715 entries, 0 to 16714\n",
      "Data columns (total 11 columns):\n",
      " #   Column           Non-Null Count  Dtype  \n",
      "---  ------           --------------  -----  \n",
      " 0   Name             16713 non-null  object \n",
      " 1   Platform         16715 non-null  object \n",
      " 2   Year_of_Release  16446 non-null  float64\n",
      " 3   Genre            16713 non-null  object \n",
      " 4   NA_sales         16715 non-null  float64\n",
      " 5   EU_sales         16715 non-null  float64\n",
      " 6   JP_sales         16715 non-null  float64\n",
      " 7   Other_sales      16715 non-null  float64\n",
      " 8   Critic_Score     8137 non-null   float64\n",
      " 9   User_Score       10014 non-null  object \n",
      " 10  Rating           9949 non-null   object \n",
      "dtypes: float64(6), object(5)\n",
      "memory usage: 1.4+ MB\n"
     ]
    }
   ],
   "source": [
    "data.info()"
   ]
  },
  {
   "cell_type": "markdown",
   "metadata": {},
   "source": [
    "# Подготовка данных"
   ]
  },
  {
   "cell_type": "code",
   "execution_count": 6,
   "metadata": {},
   "outputs": [],
   "source": [
    "data.columns = data.columns.str.lower() #приведем названия к нижнему регистру"
   ]
  },
  {
   "cell_type": "markdown",
   "metadata": {},
   "source": [
    "Сменим тип данных. Столбец `'year_of_release'` — **`int`**, `'user_score'` — **`float`**, `'rating'` — **`float`**, предварительно заменив возрастные категории на числа."
   ]
  },
  {
   "cell_type": "code",
   "execution_count": 7,
   "metadata": {},
   "outputs": [],
   "source": [
    "#Перед преобразованием year в int нужно удалить пропуски, поскольку восстановить их не выйдет\n",
    "data.dropna(subset=['year_of_release'], inplace=True)\n",
    "data['year_of_release'] = data['year_of_release'].astype('int')"
   ]
  },
  {
   "cell_type": "code",
   "execution_count": 8,
   "metadata": {},
   "outputs": [
    {
     "data": {
      "text/plain": [
       "tbd    2376\n",
       "7.8     322\n",
       "8       285\n",
       "8.2     276\n",
       "8.3     252\n",
       "       ... \n",
       "2.3       2\n",
       "1.3       2\n",
       "0.5       2\n",
       "0         1\n",
       "9.7       1\n",
       "Name: user_score, Length: 96, dtype: int64"
      ]
     },
     "execution_count": 8,
     "metadata": {},
     "output_type": "execute_result"
    }
   ],
   "source": [
    "data['user_score'].value_counts()"
   ]
  },
  {
   "cell_type": "markdown",
   "metadata": {},
   "source": [
    "Пока не определенные оценки встречаются чаще всего, удалять их нельзя. Но нам нужны остальные числовые данные. Заменим **'tbd'** на NaN и преобразуем столбец в тип `float`."
   ]
  },
  {
   "cell_type": "code",
   "execution_count": 9,
   "metadata": {},
   "outputs": [],
   "source": [
    "data['user_score'] = data['user_score'].replace('tbd', float('nan'))"
   ]
  },
  {
   "cell_type": "code",
   "execution_count": 10,
   "metadata": {},
   "outputs": [],
   "source": [
    "#Если вызвать data.info(), увидим, что число ненулевых строк снизилось на 2к\n",
    "#Теперь сменим тип данных\n",
    "data['user_score'] = data['user_score'].astype('float')"
   ]
  },
  {
   "cell_type": "code",
   "execution_count": 11,
   "metadata": {},
   "outputs": [
    {
     "data": {
      "text/plain": [
       "E       3921\n",
       "T       2905\n",
       "M       1536\n",
       "E10+    1393\n",
       "EC         8\n",
       "K-A        3\n",
       "AO         1\n",
       "RP         1\n",
       "Name: rating, dtype: int64"
      ]
     },
     "execution_count": 11,
     "metadata": {},
     "output_type": "execute_result"
    }
   ],
   "source": [
    "#Заменим рейтинги в rating\n",
    "data['rating'].value_counts()"
   ]
  },
  {
   "cell_type": "code",
   "execution_count": 12,
   "metadata": {},
   "outputs": [
    {
     "data": {
      "text/plain": [
       "6678"
      ]
     },
     "execution_count": 12,
     "metadata": {},
     "output_type": "execute_result"
    }
   ],
   "source": [
    "data['rating'].isna().sum()"
   ]
  },
  {
   "cell_type": "markdown",
   "metadata": {},
   "source": [
    "Непопулярный рейтинг удалим, а остальные преобразуем по следующему правилу: `E (Everyone)` — 0, `T (Teen)` — 13, `M (Mature)` — 17, `E10+ (Everyone 10 and older)` — 10. Пропуски заполним строкой `'NA'`."
   ]
  },
  {
   "cell_type": "code",
   "execution_count": 13,
   "metadata": {},
   "outputs": [],
   "source": [
    "data = data[~data['rating'].isin(['EC', 'K-A', 'AO', 'RP'])] #уберем строки с 'EC', 'K-A', 'AO', 'RP'"
   ]
  },
  {
   "cell_type": "code",
   "execution_count": 14,
   "metadata": {},
   "outputs": [],
   "source": [
    "def rating_edit(row):\n",
    "    if row == 'E':\n",
    "        return 0\n",
    "    elif row == 'T':\n",
    "        return 13\n",
    "    elif row == 'M':\n",
    "        return 17\n",
    "    elif row == 'E10+':\n",
    "        return 10\n",
    "    return 'NA'"
   ]
  },
  {
   "cell_type": "code",
   "execution_count": 15,
   "metadata": {},
   "outputs": [],
   "source": [
    "data['rating'] = data.loc[:,'rating'].apply(rating_edit)"
   ]
  },
  {
   "cell_type": "markdown",
   "metadata": {},
   "source": [
    "Снова посмотрим на сводную информацию по преобразованному датафрейму."
   ]
  },
  {
   "cell_type": "code",
   "execution_count": 16,
   "metadata": {},
   "outputs": [
    {
     "name": "stdout",
     "output_type": "stream",
     "text": [
      "<class 'pandas.core.frame.DataFrame'>\n",
      "Int64Index: 16433 entries, 0 to 16714\n",
      "Data columns (total 11 columns):\n",
      " #   Column           Non-Null Count  Dtype  \n",
      "---  ------           --------------  -----  \n",
      " 0   name             16431 non-null  object \n",
      " 1   platform         16433 non-null  object \n",
      " 2   year_of_release  16433 non-null  int32  \n",
      " 3   genre            16431 non-null  object \n",
      " 4   na_sales         16433 non-null  float64\n",
      " 5   eu_sales         16433 non-null  float64\n",
      " 6   jp_sales         16433 non-null  float64\n",
      " 7   other_sales      16433 non-null  float64\n",
      " 8   critic_score     7980 non-null   float64\n",
      " 9   user_score       7457 non-null   float64\n",
      " 10  rating           16433 non-null  object \n",
      "dtypes: float64(6), int32(1), object(4)\n",
      "memory usage: 1.4+ MB\n"
     ]
    }
   ],
   "source": [
    "data.info()"
   ]
  },
  {
   "cell_type": "markdown",
   "metadata": {},
   "source": [
    "Осталось удалить 2 пропуска в столбце `'name'`. Также мы видим >50% пропусков в столбцах с оценками. Это нормально, далеко не все ставят свою оценку, также 2000 оценок из `'critic_score'` только будут определены. Но если удалим их, потеряем все 50% строк датафрейма, поэтому целесообразно оставить все как есть."
   ]
  },
  {
   "cell_type": "code",
   "execution_count": 17,
   "metadata": {},
   "outputs": [],
   "source": [
    "data.dropna(subset=['name'], inplace=True)\n",
    "data.reset_index(drop=True, inplace=True)"
   ]
  },
  {
   "cell_type": "markdown",
   "metadata": {},
   "source": [
    "**Подсчет суммарных продаж по регионам:**"
   ]
  },
  {
   "cell_type": "code",
   "execution_count": 18,
   "metadata": {},
   "outputs": [],
   "source": [
    "data['sales_all'] = data[['na_sales','eu_sales','jp_sales', 'other_sales']].sum(axis = 1)"
   ]
  },
  {
   "cell_type": "code",
   "execution_count": 19,
   "metadata": {},
   "outputs": [
    {
     "data": {
      "text/html": [
       "<div>\n",
       "<style scoped>\n",
       "    .dataframe tbody tr th:only-of-type {\n",
       "        vertical-align: middle;\n",
       "    }\n",
       "\n",
       "    .dataframe tbody tr th {\n",
       "        vertical-align: top;\n",
       "    }\n",
       "\n",
       "    .dataframe thead th {\n",
       "        text-align: right;\n",
       "    }\n",
       "</style>\n",
       "<table border=\"1\" class=\"dataframe\">\n",
       "  <thead>\n",
       "    <tr style=\"text-align: right;\">\n",
       "      <th></th>\n",
       "      <th>name</th>\n",
       "      <th>platform</th>\n",
       "      <th>year_of_release</th>\n",
       "      <th>genre</th>\n",
       "      <th>na_sales</th>\n",
       "      <th>eu_sales</th>\n",
       "      <th>jp_sales</th>\n",
       "      <th>other_sales</th>\n",
       "      <th>critic_score</th>\n",
       "      <th>user_score</th>\n",
       "      <th>rating</th>\n",
       "      <th>sales_all</th>\n",
       "    </tr>\n",
       "  </thead>\n",
       "  <tbody>\n",
       "    <tr>\n",
       "      <th>0</th>\n",
       "      <td>Wii Sports</td>\n",
       "      <td>Wii</td>\n",
       "      <td>2006</td>\n",
       "      <td>Sports</td>\n",
       "      <td>41.36</td>\n",
       "      <td>28.96</td>\n",
       "      <td>3.77</td>\n",
       "      <td>8.45</td>\n",
       "      <td>76.0</td>\n",
       "      <td>8.0</td>\n",
       "      <td>0</td>\n",
       "      <td>82.54</td>\n",
       "    </tr>\n",
       "    <tr>\n",
       "      <th>1</th>\n",
       "      <td>Super Mario Bros.</td>\n",
       "      <td>NES</td>\n",
       "      <td>1985</td>\n",
       "      <td>Platform</td>\n",
       "      <td>29.08</td>\n",
       "      <td>3.58</td>\n",
       "      <td>6.81</td>\n",
       "      <td>0.77</td>\n",
       "      <td>NaN</td>\n",
       "      <td>NaN</td>\n",
       "      <td>NA</td>\n",
       "      <td>40.24</td>\n",
       "    </tr>\n",
       "    <tr>\n",
       "      <th>2</th>\n",
       "      <td>Mario Kart Wii</td>\n",
       "      <td>Wii</td>\n",
       "      <td>2008</td>\n",
       "      <td>Racing</td>\n",
       "      <td>15.68</td>\n",
       "      <td>12.76</td>\n",
       "      <td>3.79</td>\n",
       "      <td>3.29</td>\n",
       "      <td>82.0</td>\n",
       "      <td>8.3</td>\n",
       "      <td>0</td>\n",
       "      <td>35.52</td>\n",
       "    </tr>\n",
       "    <tr>\n",
       "      <th>3</th>\n",
       "      <td>Wii Sports Resort</td>\n",
       "      <td>Wii</td>\n",
       "      <td>2009</td>\n",
       "      <td>Sports</td>\n",
       "      <td>15.61</td>\n",
       "      <td>10.93</td>\n",
       "      <td>3.28</td>\n",
       "      <td>2.95</td>\n",
       "      <td>80.0</td>\n",
       "      <td>8.0</td>\n",
       "      <td>0</td>\n",
       "      <td>32.77</td>\n",
       "    </tr>\n",
       "    <tr>\n",
       "      <th>4</th>\n",
       "      <td>Pokemon Red/Pokemon Blue</td>\n",
       "      <td>GB</td>\n",
       "      <td>1996</td>\n",
       "      <td>Role-Playing</td>\n",
       "      <td>11.27</td>\n",
       "      <td>8.89</td>\n",
       "      <td>10.22</td>\n",
       "      <td>1.00</td>\n",
       "      <td>NaN</td>\n",
       "      <td>NaN</td>\n",
       "      <td>NA</td>\n",
       "      <td>31.38</td>\n",
       "    </tr>\n",
       "  </tbody>\n",
       "</table>\n",
       "</div>"
      ],
      "text/plain": [
       "                       name platform  year_of_release         genre  na_sales  \\\n",
       "0                Wii Sports      Wii             2006        Sports     41.36   \n",
       "1         Super Mario Bros.      NES             1985      Platform     29.08   \n",
       "2            Mario Kart Wii      Wii             2008        Racing     15.68   \n",
       "3         Wii Sports Resort      Wii             2009        Sports     15.61   \n",
       "4  Pokemon Red/Pokemon Blue       GB             1996  Role-Playing     11.27   \n",
       "\n",
       "   eu_sales  jp_sales  other_sales  critic_score  user_score rating  sales_all  \n",
       "0     28.96      3.77         8.45          76.0         8.0      0      82.54  \n",
       "1      3.58      6.81         0.77           NaN         NaN     NA      40.24  \n",
       "2     12.76      3.79         3.29          82.0         8.3      0      35.52  \n",
       "3     10.93      3.28         2.95          80.0         8.0      0      32.77  \n",
       "4      8.89     10.22         1.00           NaN         NaN     NA      31.38  "
      ]
     },
     "execution_count": 19,
     "metadata": {},
     "output_type": "execute_result"
    }
   ],
   "source": [
    "data.head()"
   ]
  },
  {
   "cell_type": "markdown",
   "metadata": {},
   "source": [
    "# Исследовательский анализ данных"
   ]
  },
  {
   "cell_type": "markdown",
   "metadata": {},
   "source": [
    "Нужно выявить определяющие успешность игры закономерности, чтобы определить потенциально популярный продукт и спланировать рекламные кампании. Посмотрим на динамику выпуска новых игр, продажи по платформам. Попробуем определить прибыльные платформы и выясним, как отзывы влияют на продажи."
   ]
  },
  {
   "cell_type": "markdown",
   "metadata": {},
   "source": [
    "## Количество выпущенных игр в разные годы"
   ]
  },
  {
   "cell_type": "code",
   "execution_count": 20,
   "metadata": {
    "tags": []
   },
   "outputs": [],
   "source": [
    "sns.set(font_scale=0.85)"
   ]
  },
  {
   "cell_type": "code",
   "execution_count": 21,
   "metadata": {},
   "outputs": [
    {
     "data": {
      "image/png": "[encoded data removed]",
      "text/plain": [
       "<Figure size 650x250 with 1 Axes>"
      ]
     },
     "metadata": {},
     "output_type": "display_data"
    }
   ],
   "source": [
    "(data.pivot_table(index='year_of_release', values='name', aggfunc='count')\n",
    "     .plot.line(rot=45, \n",
    "                xlabel='Год выхода', \n",
    "                ylabel='Количество игр',\n",
    "                title='Количество выпущенных игр в разные годы',\n",
    "                legend=False,\n",
    "                grid=True,\n",
    "                figsize=(6.5,2.5))\n",
    ")\n",
    "plt.show()"
   ]
  },
  {
   "cell_type": "markdown",
   "metadata": {},
   "source": [
    "Мы видим, что наибольшее количество игр стало выпускаться под конец нулевых, а далее их объем сошел на убыль, резко оборвавшись в 2011 и сохранившись примерно на том же уровне. Возможно, это связано с разработкой требовательных к ресурсам игр с более продвинутой графикой. Также игры становились насыщеннее с точки зрения сценария и продолжительности, что тоже влияет на выпускаемое их количество в год. При этом сохраняется общая тенденция рынка — если потребитель заинтересован, допустим, в крупных играх, то значительная часть рынка будет удовлетворять этот запрос, разрабатывая их несколько лет."
   ]
  },
  {
   "cell_type": "markdown",
   "metadata": {},
   "source": [
    "Нам предстоит планировать рекламную кампанию на 2017 год, поэтому данные о старых играх в дальнейшем не понадобятся."
   ]
  },
  {
   "cell_type": "markdown",
   "metadata": {},
   "source": [
    "## Количество выпущенных игр по платформам"
   ]
  },
  {
   "cell_type": "code",
   "execution_count": 22,
   "metadata": {},
   "outputs": [
    {
     "data": {
      "image/png": "[encoded data removed]",
      "text/plain": [
       "<Figure size 800x250 with 1 Axes>"
      ]
     },
     "metadata": {},
     "output_type": "display_data"
    }
   ],
   "source": [
    "(data.pivot_table(index='platform', values='sales_all', aggfunc='sum').sort_values(by='sales_all', ascending=False).head(10)\n",
    "     .plot.bar(rot=45, \n",
    "               xlabel='Платформа', \n",
    "               ylabel='Суммарные продажи', \n",
    "               title='Топ 10 платформ по суммарным продажам',\n",
    "               legend=False,\n",
    "               figsize=(8, 2.5))\n",
    ")\n",
    "plt.show()"
   ]
  },
  {
   "cell_type": "markdown",
   "metadata": {},
   "source": [
    "## Отбор платформ с наибольшими продажами"
   ]
  },
  {
   "cell_type": "code",
   "execution_count": 23,
   "metadata": {},
   "outputs": [],
   "source": [
    "#Сохраним индексы предыдущей таблицы\n",
    "most_sales_platform = data.pivot_table(index='platform', values='sales_all', aggfunc='sum') \\\n",
    "                          .sort_values(by='sales_all', ascending=False).head(10).index"
   ]
  },
  {
   "cell_type": "code",
   "execution_count": 24,
   "metadata": {},
   "outputs": [
    {
     "data": {
      "text/plain": [
       "Index(['PS2', 'X360', 'PS3', 'Wii', 'DS', 'PS', 'PS4', 'GBA', 'PSP', '3DS'], dtype='object', name='platform')"
      ]
     },
     "execution_count": 24,
     "metadata": {},
     "output_type": "execute_result"
    }
   ],
   "source": [
    "most_sales_platform"
   ]
  },
  {
   "cell_type": "markdown",
   "metadata": {},
   "source": [
    "**Посмотрим, как менялись продажи по популярным платформам. Чтобы графики были более информативными, посторим два периода: с 1995 по 2005 и с 2005 по 2016.**"
   ]
  },
  {
   "cell_type": "code",
   "execution_count": 25,
   "metadata": {},
   "outputs": [
    {
     "data": {
      "image/png": "[encoded data removed]",
      "text/plain": [
       "<Figure size 1000x350 with 1 Axes>"
      ]
     },
     "metadata": {},
     "output_type": "display_data"
    }
   ],
   "source": [
    "(data.query('(platform in @most_sales_platform) & (2005 >= year_of_release >= 1995)')\n",
    "     .pivot_table(index='year_of_release', columns='platform', values='sales_all', aggfunc='sum')\n",
    "     .plot.bar(rot=45, \n",
    "               xlabel='', \n",
    "               ylabel='Суммарные продажи, млн.копий', \n",
    "               title='Топ 10 платформ по суммарным продажам (1995-2005)',\n",
    "               legend=True,\n",
    "               figsize=(10, 3.5))\n",
    ")\n",
    "plt.show()"
   ]
  },
  {
   "cell_type": "code",
   "execution_count": 26,
   "metadata": {},
   "outputs": [
    {
     "data": {
      "image/png": "[encoded data removed]",
      "text/plain": [
       "<Figure size 1200x400 with 1 Axes>"
      ]
     },
     "metadata": {},
     "output_type": "display_data"
    }
   ],
   "source": [
    "(data.query('(platform in @most_sales_platform) & (year_of_release >= 2005)')\n",
    "     .pivot_table(index='year_of_release', columns='platform', values='sales_all', aggfunc='sum')\n",
    "     .plot.bar(rot=45, \n",
    "               xlabel='', \n",
    "               ylabel='Суммарные продажи, млн.копий', \n",
    "               title='Топ 10 платформ по суммарным продажам (2005-2016)',\n",
    "               legend=True,\n",
    "               figsize=(12,4))\n",
    ")\n",
    "plt.show()"
   ]
  },
  {
   "cell_type": "markdown",
   "metadata": {},
   "source": [
    "Наиболее популярные платформы меняются периодами, PS2 появилась в 2002 и к 2008 ее актуальность значительно затухла, то же самое с PS1 (1995-2001) и с Wii (2006-2012). Популярность некоторых продлилась 8 лет (X360 и PS3). Можно предположить, что период актуальности составляет в среднем 6-8 лет."
   ]
  },
  {
   "cell_type": "markdown",
   "metadata": {},
   "source": [
    "**Теперь построим график по всем платформам, поскольку в most_sales_platform могли не попасать консоли, актуальные на 2016 год.**"
   ]
  },
  {
   "cell_type": "code",
   "execution_count": 27,
   "metadata": {},
   "outputs": [
    {
     "data": {
      "image/png": "[encoded data removed]",
      "text/plain": [
       "<Figure size 1500x450 with 1 Axes>"
      ]
     },
     "metadata": {},
     "output_type": "display_data"
    }
   ],
   "source": [
    "(data.query('year_of_release >= 2011')\n",
    "     .pivot_table(index='year_of_release', columns='platform', values='sales_all', aggfunc='sum')\n",
    "     .plot.bar(rot=45, \n",
    "               xlabel='', \n",
    "               ylabel='Суммарные продажи, млн.копий', \n",
    "               title='Все платформы по суммарным продажам (2011-2016)',\n",
    "               legend=True,\n",
    "               figsize=(15,4.5))\n",
    ")\n",
    "plt.show()"
   ]
  },
  {
   "cell_type": "markdown",
   "metadata": {},
   "source": [
    "Поскольку задача состоит в прогнозировании на 2017 год, нас интересуют наиболее свежие данные по продажам.\n",
    "\n",
    "Видно, что PS4 и XOne к 2015 уже смогли перенять на себя всю аудиторию старых платформ. В 2011 лидировали PS3 и X360, но в 2017 они уже не будут представлять интереса. Для целей прогнозирования продаж на следующий год, ввиду соображений актуальности данных для прогноза, возьмем более короткий период в три года. Так мы не захватим уже отжившие тренды, которые зависят не только от выхода новой игровой платформы. Отберем топ-5 платформ по продажам."
   ]
  },
  {
   "cell_type": "code",
   "execution_count": 28,
   "metadata": {},
   "outputs": [],
   "source": [
    "most_sales_platform = data.query('year_of_release >= 2014') \\\n",
    "                          .pivot_table(index='platform', values='sales_all', aggfunc='sum') \\\n",
    "                          .sort_values(by='sales_all', ascending=False).head(5).index"
   ]
  },
  {
   "cell_type": "code",
   "execution_count": 29,
   "metadata": {},
   "outputs": [
    {
     "data": {
      "text/plain": [
       "Index(['PS4', 'XOne', '3DS', 'PS3', 'X360'], dtype='object', name='platform')"
      ]
     },
     "execution_count": 29,
     "metadata": {},
     "output_type": "execute_result"
    }
   ],
   "source": [
    "most_sales_platform"
   ]
  },
  {
   "cell_type": "code",
   "execution_count": 30,
   "metadata": {},
   "outputs": [],
   "source": [
    "data_fresh = data.query('(year_of_release >= 2014) & platform in @most_sales_platform').copy()"
   ]
  },
  {
   "cell_type": "code",
   "execution_count": 31,
   "metadata": {},
   "outputs": [
    {
     "data": {
      "image/png": "[encoded data removed]",
      "text/plain": [
       "<Figure size 800x300 with 1 Axes>"
      ]
     },
     "metadata": {},
     "output_type": "display_data"
    }
   ],
   "source": [
    "(data_fresh.pivot_table(index='year_of_release', columns='platform', values='sales_all', aggfunc='sum')\n",
    "           .plot.bar(rot=45, \n",
    "                     xlabel='', \n",
    "                     ylabel='Суммарные продажи, млн.копий', \n",
    "                     title='Топ-5 платформ по суммарным продажам за 5 лет',\n",
    "                     grid=True,\n",
    "                     figsize=(8,3))\n",
    ");"
   ]
  },
  {
   "cell_type": "markdown",
   "metadata": {},
   "source": [
    "## Анализ глобальных продаж по популярным платформам"
   ]
  },
  {
   "cell_type": "markdown",
   "metadata": {},
   "source": [
    "**Построим график \"ящик с усами\" по глобальным продажам игр в разбивке по платформам:**"
   ]
  },
  {
   "cell_type": "code",
   "execution_count": 32,
   "metadata": {},
   "outputs": [
    {
     "data": {
      "image/png": "[encoded data removed]",
      "text/plain": [
       "<Figure size 900x300 with 1 Axes>"
      ]
     },
     "metadata": {},
     "output_type": "display_data"
    }
   ],
   "source": [
    "sns.set(rc={\"figure.figsize\":(9, 3)})\n",
    "sns.set(font_scale=0.85)\n",
    "ax = sns.boxplot(x=data_fresh['platform'], \n",
    "                 y=data_fresh['sales_all'])\n",
    "\n",
    "ax.set_title('Глобальные продажи игр в разбивке по платформам')\n",
    "ax.set(ylabel='Суммарные продажи, млн.копий', xlabel='')\n",
    "ax.set_ylim(0,3);"
   ]
  },
  {
   "cell_type": "code",
   "execution_count": 33,
   "metadata": {},
   "outputs": [
    {
     "data": {
      "text/html": [
       "<div>\n",
       "<style scoped>\n",
       "    .dataframe tbody tr th:only-of-type {\n",
       "        vertical-align: middle;\n",
       "    }\n",
       "\n",
       "    .dataframe tbody tr th {\n",
       "        vertical-align: top;\n",
       "    }\n",
       "\n",
       "    .dataframe thead th {\n",
       "        text-align: right;\n",
       "    }\n",
       "</style>\n",
       "<table border=\"1\" class=\"dataframe\">\n",
       "  <thead>\n",
       "    <tr style=\"text-align: right;\">\n",
       "      <th></th>\n",
       "      <th>count</th>\n",
       "      <th>mean</th>\n",
       "      <th>std</th>\n",
       "      <th>min</th>\n",
       "      <th>25%</th>\n",
       "      <th>50%</th>\n",
       "      <th>75%</th>\n",
       "      <th>max</th>\n",
       "    </tr>\n",
       "    <tr>\n",
       "      <th>platform</th>\n",
       "      <th></th>\n",
       "      <th></th>\n",
       "      <th></th>\n",
       "      <th></th>\n",
       "      <th></th>\n",
       "      <th></th>\n",
       "      <th></th>\n",
       "      <th></th>\n",
       "    </tr>\n",
       "  </thead>\n",
       "  <tbody>\n",
       "    <tr>\n",
       "      <th>3DS</th>\n",
       "      <td>212.0</td>\n",
       "      <td>0.408868</td>\n",
       "      <td>1.188368</td>\n",
       "      <td>0.01</td>\n",
       "      <td>0.0300</td>\n",
       "      <td>0.090</td>\n",
       "      <td>0.2500</td>\n",
       "      <td>11.68</td>\n",
       "    </tr>\n",
       "    <tr>\n",
       "      <th>PS3</th>\n",
       "      <td>219.0</td>\n",
       "      <td>0.311324</td>\n",
       "      <td>0.633059</td>\n",
       "      <td>0.01</td>\n",
       "      <td>0.0400</td>\n",
       "      <td>0.110</td>\n",
       "      <td>0.3250</td>\n",
       "      <td>5.27</td>\n",
       "    </tr>\n",
       "    <tr>\n",
       "      <th>PS4</th>\n",
       "      <td>376.0</td>\n",
       "      <td>0.766356</td>\n",
       "      <td>1.614969</td>\n",
       "      <td>0.01</td>\n",
       "      <td>0.0575</td>\n",
       "      <td>0.185</td>\n",
       "      <td>0.6900</td>\n",
       "      <td>14.63</td>\n",
       "    </tr>\n",
       "    <tr>\n",
       "      <th>X360</th>\n",
       "      <td>111.0</td>\n",
       "      <td>0.434414</td>\n",
       "      <td>0.628967</td>\n",
       "      <td>0.01</td>\n",
       "      <td>0.0700</td>\n",
       "      <td>0.180</td>\n",
       "      <td>0.5050</td>\n",
       "      <td>4.28</td>\n",
       "    </tr>\n",
       "    <tr>\n",
       "      <th>XOne</th>\n",
       "      <td>228.0</td>\n",
       "      <td>0.615614</td>\n",
       "      <td>1.046513</td>\n",
       "      <td>0.01</td>\n",
       "      <td>0.0500</td>\n",
       "      <td>0.205</td>\n",
       "      <td>0.6325</td>\n",
       "      <td>7.39</td>\n",
       "    </tr>\n",
       "  </tbody>\n",
       "</table>\n",
       "</div>"
      ],
      "text/plain": [
       "          count      mean       std   min     25%    50%     75%    max\n",
       "platform                                                               \n",
       "3DS       212.0  0.408868  1.188368  0.01  0.0300  0.090  0.2500  11.68\n",
       "PS3       219.0  0.311324  0.633059  0.01  0.0400  0.110  0.3250   5.27\n",
       "PS4       376.0  0.766356  1.614969  0.01  0.0575  0.185  0.6900  14.63\n",
       "X360      111.0  0.434414  0.628967  0.01  0.0700  0.180  0.5050   4.28\n",
       "XOne      228.0  0.615614  1.046513  0.01  0.0500  0.205  0.6325   7.39"
      ]
     },
     "execution_count": 33,
     "metadata": {},
     "output_type": "execute_result"
    }
   ],
   "source": [
    "data_fresh.groupby('platform')['sales_all'].describe()"
   ]
  },
  {
   "cell_type": "markdown",
   "metadata": {},
   "source": [
    "На графиках и таблице видим, что медиана PS3 и PS4 равны, и у XOne примерно такое же значение. Получается, 50% игр, продающихся на PS3, PS4 расходятся тиражом в более чем 180 тыс.копий, а другая половина в менее чем 180 тыс. копий. И только 25% игр PS4 и XOne продаются в >600-700 тыс. копий. Это та малая доля наиболее популярных игр с несколькими миллионами продаж."
   ]
  },
  {
   "cell_type": "code",
   "execution_count": 34,
   "metadata": {},
   "outputs": [
    {
     "data": {
      "image/png": "[encoded data removed]",
      "text/plain": [
       "<Figure size 900x300 with 1 Axes>"
      ]
     },
     "metadata": {},
     "output_type": "display_data"
    }
   ],
   "source": [
    "data_fresh['sales_all'].plot(kind='hist', xlim=(0,4), bins=100, xlabel='sales_all', ylabel='');"
   ]
  },
  {
   "cell_type": "markdown",
   "metadata": {},
   "source": [
    "Это же видно на гистограмме суммарных продаж за все годы, большинство игр имеют меньше 200 тыс.копий."
   ]
  },
  {
   "cell_type": "markdown",
   "metadata": {},
   "source": [
    "## Влияние на продажи отзывов пользователей и критиков"
   ]
  },
  {
   "cell_type": "markdown",
   "metadata": {},
   "source": [
    "**Нужно посмотреть, как влияют на продажи внутри одной популярной платформы отзывы пользователей и критиков, затем соотнести выводы с продажами на других платформах. Возьмем самую популярную платформу на 2016 год — PS4.**"
   ]
  },
  {
   "cell_type": "markdown",
   "metadata": {},
   "source": [
    "Зависимость по продажам от отзывов пользователей:"
   ]
  },
  {
   "cell_type": "code",
   "execution_count": 35,
   "metadata": {},
   "outputs": [
    {
     "data": {
      "image/png": "[encoded data removed]",
      "text/plain": [
       "<Figure size 800x300 with 1 Axes>"
      ]
     },
     "metadata": {},
     "output_type": "display_data"
    }
   ],
   "source": [
    "data_fresh.query('platform == \"PS4\"').plot(kind='scatter', x='user_score', y='sales_all', alpha=0.5, color='blue', figsize=(8,3));"
   ]
  },
  {
   "cell_type": "code",
   "execution_count": 36,
   "metadata": {},
   "outputs": [
    {
     "name": "stdout",
     "output_type": "stream",
     "text": [
      "-0.04013158947269735\n"
     ]
    }
   ],
   "source": [
    "print(data_fresh.query('platform == \"PS4\"')['sales_all'].corr(data_fresh.query('platform == \"PS4\"')['user_score']))"
   ]
  },
  {
   "cell_type": "markdown",
   "metadata": {},
   "source": [
    "Корреляция равна нулю, и на графике видно, что оценки в районе 5.5-9 баллов распределены равномерно, вне зависимости от количества продаж (за исключением некоторых выбросов)."
   ]
  },
  {
   "cell_type": "markdown",
   "metadata": {},
   "source": [
    "Зависимость по продажам от отзывов критиков:"
   ]
  },
  {
   "cell_type": "code",
   "execution_count": 37,
   "metadata": {},
   "outputs": [
    {
     "data": {
      "image/png": "[encoded data removed]",
      "text/plain": [
       "<Figure size 800x300 with 1 Axes>"
      ]
     },
     "metadata": {},
     "output_type": "display_data"
    }
   ],
   "source": [
    "data_fresh.query('platform == \"PS4\"').plot(kind='scatter', x='critic_score', y='sales_all', alpha=0.5, color='blue', figsize=(8,3));"
   ]
  },
  {
   "cell_type": "code",
   "execution_count": 38,
   "metadata": {},
   "outputs": [
    {
     "name": "stdout",
     "output_type": "stream",
     "text": [
      "0.40266141068104083\n"
     ]
    }
   ],
   "source": [
    "print(data_fresh.query('platform == \"PS4\"')['sales_all'].corr(data_fresh.query('platform == \"PS4\"')['critic_score']))"
   ]
  },
  {
   "cell_type": "markdown",
   "metadata": {},
   "source": [
    "<a id='conclusion'></a>\n",
    "В случае с критиками корреляция равна 0.40 — связь есть, но она слишком слабая. Наблюдаемая корреляция обусловлена чуть более сконцентрированным облаком точек вокруг игр с несколькими миллионами копий, такие игры рассматривают чаще — это продукты с высоким бюджетом. Ввиду этого их оценка может быть выше."
   ]
  },
  {
   "cell_type": "markdown",
   "metadata": {},
   "source": [
    "**Соотнесем выводы с продажами игр на других платформах:**"
   ]
  },
  {
   "cell_type": "code",
   "execution_count": 39,
   "metadata": {},
   "outputs": [
    {
     "data": {
      "image/png": "[encoded data removed]",
      "text/plain": [
       "<Figure size 800x300 with 1 Axes>"
      ]
     },
     "metadata": {},
     "output_type": "display_data"
    }
   ],
   "source": [
    "data_fresh.query('platform != \"PS4\"').plot(kind='scatter', x='user_score', y='sales_all', alpha=0.5, color='blue', figsize=(8,3));"
   ]
  },
  {
   "cell_type": "code",
   "execution_count": 40,
   "metadata": {},
   "outputs": [
    {
     "name": "stdout",
     "output_type": "stream",
     "text": [
      "-0.05285553045768628\n"
     ]
    }
   ],
   "source": [
    "print(data_fresh.query('platform != \"PS4\"')['sales_all'].corr(data_fresh.query('platform != \"PS4\"')['user_score']))"
   ]
  },
  {
   "cell_type": "code",
   "execution_count": 41,
   "metadata": {},
   "outputs": [
    {
     "data": {
      "image/png": "[encoded data removed]",
      "text/plain": [
       "<Figure size 800x300 with 1 Axes>"
      ]
     },
     "metadata": {},
     "output_type": "display_data"
    }
   ],
   "source": [
    "data_fresh.query('platform != \"PS4\"').plot(kind='scatter', x='critic_score', y='sales_all', alpha=0.5, color='blue', figsize=(8,3));"
   ]
  },
  {
   "cell_type": "code",
   "execution_count": 42,
   "metadata": {},
   "outputs": [
    {
     "name": "stdout",
     "output_type": "stream",
     "text": [
      "0.4154241251014942\n"
     ]
    }
   ],
   "source": [
    "print(data_fresh.query('platform != \"PS4\"')['sales_all'].corr(data_fresh.query('platform != \"PS4\"')['critic_score']))"
   ]
  },
  {
   "cell_type": "markdown",
   "metadata": {},
   "source": [
    "В целом картина такая же — отзывы пользователей на продажи совсем не влияют, а отзывы критиков имеют слабую линейную связь. Предположительная причина такой связи была описана [выше](#conclusion)."
   ]
  },
  {
   "cell_type": "markdown",
   "metadata": {},
   "source": [
    "## Общее распределение игр по жанрам"
   ]
  },
  {
   "cell_type": "code",
   "execution_count": 43,
   "metadata": {},
   "outputs": [
    {
     "data": {
      "image/png": "[encoded data removed]",
      "text/plain": [
       "<Figure size 900x300 with 1 Axes>"
      ]
     },
     "metadata": {},
     "output_type": "display_data"
    }
   ],
   "source": [
    "(data_fresh.pivot_table(index='genre', values='sales_all', aggfunc='mean')\n",
    "           .plot(kind='bar', \n",
    "                 color='purple', \n",
    "                 rot=45,\n",
    "                 xlabel='Жанр',\n",
    "                 ylabel='Среднее число продаж, млн.копий',\n",
    "                 title='Общее распределение игр по жанрам',\n",
    "                 legend=False)\n",
    ");"
   ]
  },
  {
   "cell_type": "markdown",
   "metadata": {},
   "source": [
    "Наиболее продаваемые жанры — шутеры, спорт и ролевые с игрой за персонажа. Самые низкие продажи у стратегий и пазлов."
   ]
  },
  {
   "cell_type": "markdown",
   "metadata": {},
   "source": [
    "## Составление портрета пользователя каждого региона"
   ]
  },
  {
   "cell_type": "markdown",
   "metadata": {},
   "source": [
    "Определим для пользователей каждого региона (EU, NA, JP) самые популярные платформы, жанры и влияние рейтинга ESRB на продажи."
   ]
  },
  {
   "cell_type": "markdown",
   "metadata": {},
   "source": [
    "### Топ-5 платформ в регионах"
   ]
  },
  {
   "cell_type": "markdown",
   "metadata": {},
   "source": [
    "Составим функцию, строящую графики для каждого случая."
   ]
  },
  {
   "cell_type": "code",
   "execution_count": 44,
   "metadata": {},
   "outputs": [],
   "source": [
    "def top5(data_fresh, argument, region, title, color='lightblue'):\n",
    "    df = data_fresh.pivot_table(index=argument, values=region, aggfunc='sum')\n",
    "    df.columns = ['percent'] #тут хранится сумма, потом пересчитаем в проценты\n",
    "    df['percent'] = df['percent'] / sum(df['percent']) * 100\n",
    "    (df.plot(kind='bar', \n",
    "             color=color, \n",
    "             rot=40,\n",
    "             xlabel='',\n",
    "             ylabel='Число продаж, %',\n",
    "             title=title,\n",
    "             figsize=(8,2.5),\n",
    "             legend=False)\n",
    "    );\n",
    "    return None"
   ]
  },
  {
   "cell_type": "code",
   "execution_count": 45,
   "metadata": {},
   "outputs": [
    {
     "data": {
      "image/png": "[encoded data removed]",
      "text/plain": [
       "<Figure size 800x250 with 1 Axes>"
      ]
     },
     "metadata": {},
     "output_type": "display_data"
    },
    {
     "data": {
      "image/png": "[encoded data removed]",
      "text/plain": [
       "<Figure size 800x250 with 1 Axes>"
      ]
     },
     "metadata": {},
     "output_type": "display_data"
    },
    {
     "data": {
      "image/png": "[encoded data removed]",
      "text/plain": [
       "<Figure size 800x250 with 1 Axes>"
      ]
     },
     "metadata": {},
     "output_type": "display_data"
    }
   ],
   "source": [
    "top5(data_fresh, 'platform', 'eu_sales', 'Топ-5 платформ в Европе')\n",
    "top5(data_fresh, 'platform', 'na_sales', 'Топ-5 платформ в Северной Америке')\n",
    "top5(data_fresh, 'platform', 'jp_sales', 'Топ-5 платформ в Японии')"
   ]
  },
  {
   "cell_type": "markdown",
   "metadata": {},
   "source": [
    "Поскольку PlayStation в целом популярнее, чем Xbox от Microsoft, мы видим ее ожидаемую наибольшую популярность в Европе.<br>\n",
    "\n",
    "В Северной Америке ситуация такая же, здесь PS4 лидирует, но консоли Xbox One уже популярнее и отстают менее чем на 10%, разумно связать эту разницу с принадлежностью бренда Xbox от Microsoft к данному региону.<br>\n",
    "\n",
    "В Японии самая популярная платформа Nintendo 3DS. Ее особенность в том, что это не привычная нам стационарная консоль, а портативная. Видимо, японцам больше нравится играть в Pokemon, Zelda, Mario — наиболее характерные игры этой платформы. Еще мы видим, что вместо Xbox в Японии предпочитают PS от их же бренда Sony."
   ]
  },
  {
   "cell_type": "markdown",
   "metadata": {},
   "source": [
    "### Топ-5 жанров в регионах"
   ]
  },
  {
   "cell_type": "code",
   "execution_count": 46,
   "metadata": {},
   "outputs": [
    {
     "data": {
      "image/png": "[encoded data removed]",
      "text/plain": [
       "<Figure size 800x250 with 1 Axes>"
      ]
     },
     "metadata": {},
     "output_type": "display_data"
    },
    {
     "data": {
      "image/png": "[encoded data removed]",
      "text/plain": [
       "<Figure size 800x250 with 1 Axes>"
      ]
     },
     "metadata": {},
     "output_type": "display_data"
    }
   ],
   "source": [
    "top5(data_fresh, 'genre', 'eu_sales', 'Топ-5 жанров в Европе', color='lightgreen')\n",
    "top5(data_fresh, 'genre', 'na_sales', 'Топ-5 жанров в Северной Америке', color='lightgreen')"
   ]
  },
  {
   "cell_type": "markdown",
   "metadata": {},
   "source": [
    "Можно резюмировать, что топ-5 популярных жанров в Европе и Северной Америке практически идентичен. На первых местах шутеры, аркады, спорт, ролевые игры. На последнем месте в Европе гонки (Racing), а в Северной Америке аркады (Misc). Схожесть интересов может быть связана со схожими культурными особенностями западных регионов."
   ]
  },
  {
   "cell_type": "code",
   "execution_count": 47,
   "metadata": {},
   "outputs": [
    {
     "data": {
      "image/png": "[encoded data removed]",
      "text/plain": [
       "<Figure size 800x250 with 1 Axes>"
      ]
     },
     "metadata": {},
     "output_type": "display_data"
    }
   ],
   "source": [
    "top5(data_fresh, 'genre', 'jp_sales', 'Топ-5 жанров в Японии', color='lightgreen')"
   ]
  },
  {
   "cell_type": "markdown",
   "metadata": {},
   "source": [
    "В Японии на первом месте, наоборот, ролевые игры — 37% всех продаж, аркады здесь также популярны и составляют около 33% продаж. Остальные жанры не особо распространены и распределены равномерно. Такое значительное отличие аналогично можно связать с разным культурным бэкграундом запада и востока."
   ]
  },
  {
   "cell_type": "markdown",
   "metadata": {},
   "source": [
    "### Влияние рейтинга ESRB на продажи в отдельных регионах"
   ]
  },
  {
   "cell_type": "markdown",
   "metadata": {},
   "source": [
    "Для построения графиков продолжим пользоваться функцией top5, поскольку структурно суть задачи не изменилась."
   ]
  },
  {
   "cell_type": "code",
   "execution_count": 48,
   "metadata": {},
   "outputs": [
    {
     "data": {
      "image/png": "[encoded data removed]",
      "text/plain": [
       "<Figure size 800x250 with 1 Axes>"
      ]
     },
     "metadata": {},
     "output_type": "display_data"
    },
    {
     "data": {
      "image/png": "[encoded data removed]",
      "text/plain": [
       "<Figure size 800x250 with 1 Axes>"
      ]
     },
     "metadata": {},
     "output_type": "display_data"
    }
   ],
   "source": [
    "top5(data_fresh, 'rating', 'eu_sales', 'Зависимость рейтинга от продаж. Европа', color='pink')\n",
    "top5(data_fresh, 'rating', 'na_sales', 'Зависимость рейтинга от продаж. Северная Америка', color='pink')"
   ]
  },
  {
   "cell_type": "markdown",
   "metadata": {},
   "source": [
    "В Европе и Северной Америке в среднем одинаковые предпочтения с точки зрения возрастного рейтинга игр. Лучше всего продаются игры для взрослых 17+. На втором месте игры без указанного возрастного ценза (NA), их доля составляет около 23%. Игры 0+ в Европе несколько популярнее, их доля на 5 процентов больше. "
   ]
  },
  {
   "cell_type": "code",
   "execution_count": 49,
   "metadata": {},
   "outputs": [
    {
     "data": {
      "image/png": "[encoded data removed]",
      "text/plain": [
       "<Figure size 800x250 with 1 Axes>"
      ]
     },
     "metadata": {},
     "output_type": "display_data"
    }
   ],
   "source": [
    "top5(data_fresh, 'rating', 'jp_sales', 'Зависимость рейтинга от продаж. Япония', color='pink')"
   ]
  },
  {
   "cell_type": "markdown",
   "metadata": {},
   "source": [
    "В Японии подавляющее большинство занимают игры без рейтинга (NA), далее идут игры для подростков T(13+) и для взрослых M(17+) —  их доля около 10%."
   ]
  },
  {
   "cell_type": "markdown",
   "metadata": {},
   "source": [
    "**Рейтинг ESRB влияет на продажи в отдельных регионах. Новая игра с рейтингом M(17+) вероятнее будет иметь популярность в Европе и Северной Америке, а без рейтинга — в Японии.**"
   ]
  },
  {
   "cell_type": "markdown",
   "metadata": {},
   "source": [
    "## Проверка гипотез"
   ]
  },
  {
   "cell_type": "markdown",
   "metadata": {},
   "source": [
    "### Гипотеза о равенстве средних пользовательских рейтингов платформ Xbox One и PC"
   ]
  },
  {
   "cell_type": "markdown",
   "metadata": {},
   "source": [
    "Можем рассматривать задачу как проверку гипотезы о равенстве средних двух генеральных совокупностей. Сформулируем нулевую и альтернативную гипотезы:\n",
    "```\n",
    "H_0: Рейтинг пользователей XOne = Рейтинг пользователей PC\n",
    "H_a: Рейтинг пользователей XOne ≠ Рейтинг пользователей PC\n",
    "alpha = 0.05\n",
    "```\n",
    "**Проведем t-test**"
   ]
  },
  {
   "cell_type": "code",
   "execution_count": 50,
   "metadata": {},
   "outputs": [],
   "source": [
    "from scipy import stats as st"
   ]
  },
  {
   "cell_type": "code",
   "execution_count": 51,
   "metadata": {},
   "outputs": [
    {
     "name": "stdout",
     "output_type": "stream",
     "text": [
      "p_value = 0.000005\n",
      "Отвергаем нулевую гипотезу \n",
      "\n",
      "Средний рейтинг пользователей XOne ≠ Средний рейтинг пользователей PC\n",
      "Средний рейтинг XOne = 6.52\n",
      "Средний рейтинг PC = 7.06\n"
     ]
    }
   ],
   "source": [
    "xone = data.query('platform == \"XOne\"')['user_score'].dropna() #без удаления пропущенных значений тест не сработает\n",
    "pc = data.query('platform == \"PC\"')['user_score'].dropna()\n",
    "\n",
    "#Проверка гипотезы по двум выборкам. Можно рассчитать среднее по одной и сравнить с выборкой, проведя двусторонний тест\n",
    "#Но лучше рассматривать задачу как равенство средних двух ген. совокупностей\n",
    "results = st.ttest_ind(xone, pc, equal_var=False) #совокупности хоть и большие, но разного размера, принимаем дисперсию разной\n",
    "alpha = 0.05 #классическое значение в 5%\n",
    "\n",
    "#p_value\n",
    "print(f'p_value = {results.pvalue:2f}')\n",
    "\n",
    "if results.pvalue < alpha:\n",
    "    print('Отвергаем нулевую гипотезу \\n') #Значит рейтинг пользователей XOne ≠ Рейтинг пользователей PC\n",
    "    print('Средний рейтинг пользователей XOne ≠ Средний рейтинг пользователей PC')\n",
    "    print(f'Средний рейтинг XOne = {xone.mean():.2f}')\n",
    "    print(f'Средний рейтинг PC = {pc.mean():.2f}')\n",
    "else:\n",
    "    print('Не получилось отвергнуть нулевую гипотезу \\n')\n",
    "    print('Средний рейтинг пользователей XOne = Средний рейтинг пользователей PC')\n",
    "    print(f'Средний рейтинг XOne = {xone.mean():.2f}')\n",
    "    print(f'Средний рейтинг PC = {pc.mean():.2f}')"
   ]
  },
  {
   "cell_type": "markdown",
   "metadata": {},
   "source": [
    "*Выходит, что при условии истинности нулевой гипотезы, вероятность получить такой же или более далекий результат, как у XOne, равна 0 процентов. Разница в средних оценках была бы статистически значима даже при alpha=0.001.*"
   ]
  },
  {
   "cell_type": "markdown",
   "metadata": {},
   "source": [
    "Если проводить двусторонний тест 1samp и сравнивать среднее значение выборки с другим предварительно рассчитанным, p_value будет еще ниже. Принципиальной разницы в результатах нет."
   ]
  },
  {
   "cell_type": "markdown",
   "metadata": {},
   "source": [
    "### Проверка гипотезы о различии средних пользовательских рейтингов жанров Action и Sports"
   ]
  },
  {
   "cell_type": "markdown",
   "metadata": {},
   "source": [
    "```\n",
    "H_0: Средний рейтинг жанра Action = Средний рейтинг жанра Sports \n",
    "H_a: Средний рейтинг жанра Action ≠ Средний рейтинг жанра Sports\n",
    "alpha = 0.05\n",
    "```"
   ]
  },
  {
   "cell_type": "code",
   "execution_count": 52,
   "metadata": {},
   "outputs": [
    {
     "name": "stdout",
     "output_type": "stream",
     "text": [
      "p_value = 0.076073\n",
      "Не получилось отвергнуть нулевую гипотезу \n",
      "\n",
      "Средний рейтинг жанра Action = Средний рейтинг жанра Sports\n",
      "Средний рейтинг Action = 7.06\n",
      "Средний рейтинг Sports = 6.95\n"
     ]
    }
   ],
   "source": [
    "action = data.query('genre == \"Action\"')['user_score'].dropna() #без удаления пропущенных значений тест не сработает\n",
    "sports = data.query('genre == \"Sports\"')['user_score'].dropna()\n",
    "\n",
    "results = st.ttest_ind(action, sports, equal_var=False) #принимаем дисперсию разной, т.к. размер выборок различен\n",
    "alpha = 0.05 #классическое значение в 5%\n",
    "\n",
    "#p_value\n",
    "print(f'p_value = {results.pvalue:2f}')\n",
    "\n",
    "if results.pvalue < alpha:\n",
    "    print('Отвергаем нулевую гипотезу \\n') #Значит средний рейтинг жанра Action ≠ средний рейтинг жанра Sports\n",
    "    print('Средний рейтинг жанра Action ≠ Средний рейтинг жанра Sports')\n",
    "    print(f'Средний рейтинг Action = {action.mean():.2f}')\n",
    "    print(f'Средний рейтинг Sports = {sports.mean():.2f}')\n",
    "else:\n",
    "    print('Не получилось отвергнуть нулевую гипотезу \\n')\n",
    "    print('Средний рейтинг жанра Action = Средний рейтинг жанра Sports')\n",
    "    print(f'Средний рейтинг Action = {action.mean():.2f}')\n",
    "    print(f'Средний рейтинг Sports = {sports.mean():.2f}')"
   ]
  },
  {
   "cell_type": "markdown",
   "metadata": {},
   "source": [
    "*Как видно, средний рейтинг этих жанров практически равен, а вероятноть получить такое же или более далекое значение равна 7%. Эта разница статистически незначима, поэтому нулевая гипотеза и не была отвергнута.*"
   ]
  },
  {
   "cell_type": "markdown",
   "metadata": {},
   "source": [
    "# Общий вывод"
   ]
  },
  {
   "cell_type": "markdown",
   "metadata": {},
   "source": [
    "В рамках исследования требовалось выявить определяющие успешность игры закономерности, чтобы в дальнейшем сделать ставку на потенциально популярный продукт и спланировать рекламные кампании на 2017 год.\n",
    "\n",
    "1. Были рассмотрены распределение количества выпускаемых игр в разные годы и динамика изменения продаж по платформам. Мы отобрали платформы с наибольшими суммарными продажами и определили, за какой характерный срок появляются новые и исчезают старые. Выяснилось, что игровая консоль является актуальной в среднем 6-8 лет.\n",
    "2. PS4 и XOne к 2015 уже смогли перенять на себя всю аудиторию старых платформ. *В рамках рекламной кампании рентабельно сделать упор на играх, выпускаемых под эти консоли.* В 2011 лидировали PS3 и X360, но в 2017 они уже не будут представлять интереса. Поэтому, ввиду соображений о будущем прогнозировании, было решено принять актуальным период в 3 года. \n",
    "3. В пределах актуального периода были отобраны топ-5 потенциально прибыльных платформ: PS4, PS3, X360, 3DS, XOne. По графикам обнаружено, что медиана PS3 и PS4 равны, и у XOne примерно такое же значение. Получается, 50% игр, продающихся на PS3, PS4 расходятся тиражом в более чем 180 тыс.копий, а другая половина в менее чем 180 тыс. копий. И только 25% игр PS4 и XOne продаются в >600-700 тыс. копий. Это та малая доля наиболее популярных игр с несколькими миллионами продаж.\n",
    "4. Влияние отзывов пользователей на продажи игр не выявлено. Средняя оценка критиков, наоборот, коррелируют с продажами в районе 0,4. Достаточно слабая зависимость, обусловленная естественным успехом популярных и высокобюджетных игр, которые они оценивают.\n",
    "5. Было рассмотрено общее распределение игр по жанрам. Наиболее продаваемые жанры — шутеры, спорт и ролевые с игрой за персонажа. Самые низкие продажи у стратегий и пазлов."
   ]
  },
  {
   "cell_type": "markdown",
   "metadata": {},
   "source": [
    "**Портреты пользователей каждого региона**<br>\n",
    "Определили для пользователей каждого региона (EU, NA, JP) самые популярные платформы, жанры и влияние рейтинга ESRB на продажи:\n",
    "\n",
    "**Популярные платформы**<br>\n",
    "Поскольку PlayStation в целом популярнее, чем Xbox от Microsoft, мы видим ее ожидаемую наибольшую популярность в Европе — доля всех проданных игр на PS4 — 55%, Xbox One — 20%. <br>\n",
    "В Северной Америке ситуация такая же, здесь PS4 лидирует (38%), но консоли Xbox One уже популярнее и лишь немного отстают (33%), разумно связать эту разницу с принадлежностью бренда Xbox от Microsoft к данному региону.<br>\n",
    "В Японии самая популярная платформа Nintendo 3DS (62%). Ее особенность в том, что это не привычная стационарная консоль, а портативная. Видимо, японцам больше нравится играть в Pokemon, Zelda, Mario — наиболее характерные игры этой платформы. Еще мы видим, что вместо Xbox в Японии предпочитают PS от их же бренда Sony (PS3 — 15%, PS4 — 20%).<br>\n",
    "\n",
    "**Популярные жанры**<br>\n",
    "Топ-5 популярных жанров в Европе и Северной Америке практически идентичен. На первых местах шутеры, аркады, спорт, ролевые игры. На последнем месте в Европе гонки (Racing), а в Северной Америке аркады (Misc). Схожесть интересов может быть связана со схожими культурными особенностями западных регионов. <br>\n",
    "В Японии на первом месте, наоборот, ролевые игры — 37% всех продаж, аркады здесь также популярны и составляют около 33% продаж. Остальные жанры не особо распространены и распределены равномерно. Такое значительное отличие аналогично можно связать с разным культурным бэкграундом запада и востока. <br>\n",
    "\n",
    "**Влияние рейтинга ESRB на продажи в отдельном регионе**<br>\n",
    "В Европе и Северной Америке в среднем одинаковые предпочтения с точки зрения возрастного рейтинга игр. Лучше всего продаются игры для взрослых 17+ (32%). На втором месте игры без указанного возрастного ценза (NA), их доля составляет около 23%. Игры 0+ в Европе несколько популярнее, их доля на 5 процентов больше (22%).<br>\n",
    "В Японии подавляющее большинство занимают игры без рейтинга (NA) — 60%, далее идут игры для подростков T(13+) и для взрослых M(17+) —  их доля около 10%.<br>\n",
    "\n",
    "*Рейтинг ESRB влияет на продажи только в отдельных регионах. Новая игра с рейтингом M(17+) вероятнее будет иметь популярность в Европе и Северной Америке. В Японии любят игры без рейтинга, они составляют более 60% продаж.*\n",
    "<br>"
   ]
  },
  {
   "cell_type": "markdown",
   "metadata": {},
   "source": [
    "**С помощью статистических тестов были проверены гипотезы о равенстве средних пользовательских рейтингов по жанрам игр и по платформам, на которые они были выпущены.**"
   ]
  },
  {
   "cell_type": "markdown",
   "metadata": {},
   "source": [
    "1. Гипотеза о равенстве средних пользовательских рейтингов платформ Xbox One и PC **была отвергнута** с уровнем статистической значимости в 5% (p_value = 0.000005). <br> \n",
    "*Таким образом, средний рейтинг пользователей Xbox One (6.52) ≠ cредний рейтинг пользователей PC (7.06).* <br>\n",
    "\n",
    "2. Гипотеза о равенстве средних пользовательских рейтингов жанров Action и Sports **не была отвергнута** с уровнем статистической значимости в 5% (p_value = 0.07). <br>\n",
    "*Средний рейтинг жанра Action (7.06) = средний рейтинг жанра Sports (6.95)* <br>"
   ]
  }
 ],
 "metadata": {
  "ExecuteTimeLog": [
   {
    "duration": 532,
    "start_time": "2023-02-28T02:44:12.441Z"
   },
   {
    "duration": 344,
    "start_time": "2023-02-28T02:44:32.950Z"
   },
   {
    "duration": 193,
    "start_time": "2023-02-28T02:44:56.976Z"
   },
   {
    "duration": 19,
    "start_time": "2023-02-28T02:45:01.371Z"
   },
   {
    "duration": 4,
    "start_time": "2023-02-28T02:48:41.705Z"
   },
   {
    "duration": 22,
    "start_time": "2023-02-28T02:48:57.423Z"
   },
   {
    "duration": 5,
    "start_time": "2023-02-28T02:50:21.177Z"
   },
   {
    "duration": 6,
    "start_time": "2023-02-28T02:50:36.957Z"
   },
   {
    "duration": 9,
    "start_time": "2023-02-28T02:50:42.466Z"
   },
   {
    "duration": 5,
    "start_time": "2023-02-28T02:50:46.286Z"
   },
   {
    "duration": 4,
    "start_time": "2023-02-28T02:50:52.061Z"
   },
   {
    "duration": 5,
    "start_time": "2023-02-28T02:50:59.510Z"
   },
   {
    "duration": 5,
    "start_time": "2023-02-28T02:51:03.369Z"
   },
   {
    "duration": 6,
    "start_time": "2023-02-28T02:51:08.783Z"
   },
   {
    "duration": 6,
    "start_time": "2023-02-28T02:51:17.611Z"
   },
   {
    "duration": 8,
    "start_time": "2023-02-28T02:51:25.084Z"
   },
   {
    "duration": 7,
    "start_time": "2023-02-28T02:51:33.028Z"
   },
   {
    "duration": 5,
    "start_time": "2023-02-28T02:51:41.733Z"
   },
   {
    "duration": 15,
    "start_time": "2023-02-28T02:51:43.518Z"
   },
   {
    "duration": 16,
    "start_time": "2023-02-28T02:52:19.904Z"
   },
   {
    "duration": 6,
    "start_time": "2023-02-28T02:57:57.497Z"
   },
   {
    "duration": 15,
    "start_time": "2023-02-28T02:58:19.833Z"
   },
   {
    "duration": 12,
    "start_time": "2023-02-28T02:58:22.840Z"
   },
   {
    "duration": 2,
    "start_time": "2023-02-28T02:59:31.152Z"
   },
   {
    "duration": 7,
    "start_time": "2023-02-28T02:59:37.657Z"
   },
   {
    "duration": 8,
    "start_time": "2023-02-28T02:59:44.964Z"
   },
   {
    "duration": 5,
    "start_time": "2023-02-28T02:59:48.713Z"
   },
   {
    "duration": 11,
    "start_time": "2023-02-28T03:00:19.715Z"
   },
   {
    "duration": 4,
    "start_time": "2023-02-28T03:00:23.390Z"
   },
   {
    "duration": 5,
    "start_time": "2023-02-28T03:06:26.251Z"
   },
   {
    "duration": 5,
    "start_time": "2023-02-28T03:07:05.062Z"
   },
   {
    "duration": 7,
    "start_time": "2023-02-28T03:07:31.193Z"
   },
   {
    "duration": 6,
    "start_time": "2023-02-28T03:07:37.605Z"
   },
   {
    "duration": 5,
    "start_time": "2023-02-28T03:07:40.223Z"
   },
   {
    "duration": 4,
    "start_time": "2023-02-28T03:07:41.687Z"
   },
   {
    "duration": 13,
    "start_time": "2023-02-28T03:07:50.737Z"
   },
   {
    "duration": 4,
    "start_time": "2023-02-28T03:07:54.988Z"
   },
   {
    "duration": 6,
    "start_time": "2023-02-28T03:08:53.147Z"
   },
   {
    "duration": 4,
    "start_time": "2023-02-28T03:09:08.558Z"
   },
   {
    "duration": 5,
    "start_time": "2023-02-28T03:09:10.381Z"
   },
   {
    "duration": 4,
    "start_time": "2023-02-28T03:09:11.638Z"
   },
   {
    "duration": 4,
    "start_time": "2023-02-28T03:09:53.262Z"
   },
   {
    "duration": 3,
    "start_time": "2023-02-28T03:09:55.065Z"
   },
   {
    "duration": 5,
    "start_time": "2023-02-28T03:09:58.606Z"
   },
   {
    "duration": 55,
    "start_time": "2023-02-28T03:10:01.077Z"
   },
   {
    "duration": 14,
    "start_time": "2023-02-28T03:10:01.835Z"
   },
   {
    "duration": 13,
    "start_time": "2023-02-28T03:10:03.359Z"
   },
   {
    "duration": 703,
    "start_time": "2023-02-28T03:12:17.662Z"
   },
   {
    "duration": 4,
    "start_time": "2023-02-28T03:12:18.460Z"
   },
   {
    "duration": 3,
    "start_time": "2023-02-28T03:12:25.210Z"
   },
   {
    "duration": 7,
    "start_time": "2023-02-28T03:12:25.972Z"
   },
   {
    "duration": 4,
    "start_time": "2023-02-28T03:13:48.549Z"
   },
   {
    "duration": 5,
    "start_time": "2023-02-28T03:13:50.345Z"
   },
   {
    "duration": 5,
    "start_time": "2023-02-28T03:13:52.616Z"
   },
   {
    "duration": 7,
    "start_time": "2023-02-28T03:14:01.733Z"
   },
   {
    "duration": 4,
    "start_time": "2023-02-28T03:14:03.324Z"
   },
   {
    "duration": 13,
    "start_time": "2023-02-28T03:15:57.887Z"
   },
   {
    "duration": 16,
    "start_time": "2023-02-28T03:16:03.099Z"
   },
   {
    "duration": 4,
    "start_time": "2023-02-28T03:16:21.882Z"
   },
   {
    "duration": 4,
    "start_time": "2023-02-28T03:16:23.420Z"
   },
   {
    "duration": 4,
    "start_time": "2023-02-28T03:16:25.251Z"
   },
   {
    "duration": 4,
    "start_time": "2023-02-28T03:16:32.056Z"
   },
   {
    "duration": 3,
    "start_time": "2023-02-28T03:17:52.331Z"
   },
   {
    "duration": 4,
    "start_time": "2023-02-28T03:17:54.447Z"
   },
   {
    "duration": 4,
    "start_time": "2023-02-28T03:18:06.743Z"
   },
   {
    "duration": 4,
    "start_time": "2023-02-28T03:18:08.344Z"
   },
   {
    "duration": 7,
    "start_time": "2023-02-28T03:19:59.731Z"
   },
   {
    "duration": 11,
    "start_time": "2023-02-28T03:20:03.268Z"
   },
   {
    "duration": 4,
    "start_time": "2023-02-28T03:20:04.960Z"
   },
   {
    "duration": 51,
    "start_time": "2023-02-28T03:20:58.133Z"
   },
   {
    "duration": 4,
    "start_time": "2023-02-28T03:21:00.907Z"
   },
   {
    "duration": 7,
    "start_time": "2023-02-28T03:21:03.177Z"
   },
   {
    "duration": 8,
    "start_time": "2023-02-28T03:21:07.342Z"
   },
   {
    "duration": 11,
    "start_time": "2023-02-28T03:21:17.125Z"
   },
   {
    "duration": 7,
    "start_time": "2023-02-28T03:21:25.479Z"
   },
   {
    "duration": 7,
    "start_time": "2023-02-28T03:21:36.954Z"
   },
   {
    "duration": 59,
    "start_time": "2023-02-28T03:21:44.840Z"
   },
   {
    "duration": 4,
    "start_time": "2023-02-28T03:21:46.438Z"
   },
   {
    "duration": 9,
    "start_time": "2023-02-28T03:21:48.717Z"
   },
   {
    "duration": 4,
    "start_time": "2023-02-28T03:21:49.443Z"
   },
   {
    "duration": 52,
    "start_time": "2023-02-28T03:23:14.265Z"
   },
   {
    "duration": 3,
    "start_time": "2023-02-28T03:23:16.564Z"
   },
   {
    "duration": 8,
    "start_time": "2023-02-28T03:23:18.223Z"
   },
   {
    "duration": 4,
    "start_time": "2023-02-28T03:23:18.957Z"
   },
   {
    "duration": 5,
    "start_time": "2023-02-28T03:23:20.043Z"
   },
   {
    "duration": 15,
    "start_time": "2023-02-28T03:23:24.079Z"
   },
   {
    "duration": 13,
    "start_time": "2023-02-28T03:23:26.808Z"
   },
   {
    "duration": 13,
    "start_time": "2023-02-28T03:23:29.983Z"
   },
   {
    "duration": 8,
    "start_time": "2023-02-28T03:24:14.911Z"
   },
   {
    "duration": 4,
    "start_time": "2023-02-28T03:24:16.260Z"
   },
   {
    "duration": 4,
    "start_time": "2023-02-28T03:24:17.132Z"
   },
   {
    "duration": 3,
    "start_time": "2023-02-28T03:24:18.101Z"
   },
   {
    "duration": 3,
    "start_time": "2023-02-28T03:24:24.517Z"
   },
   {
    "duration": 9,
    "start_time": "2023-02-28T03:24:53.924Z"
   },
   {
    "duration": 4,
    "start_time": "2023-02-28T03:24:56.251Z"
   },
   {
    "duration": 17,
    "start_time": "2023-02-28T03:25:30.113Z"
   },
   {
    "duration": 17,
    "start_time": "2023-02-28T03:25:33.621Z"
   },
   {
    "duration": 9,
    "start_time": "2023-02-28T03:25:52.770Z"
   },
   {
    "duration": 6,
    "start_time": "2023-02-28T03:28:34.365Z"
   },
   {
    "duration": 8,
    "start_time": "2023-02-28T03:28:36.412Z"
   },
   {
    "duration": 2,
    "start_time": "2023-02-28T03:29:30.905Z"
   },
   {
    "duration": 8,
    "start_time": "2023-02-28T03:36:02.320Z"
   },
   {
    "duration": 7,
    "start_time": "2023-02-28T03:36:24.607Z"
   },
   {
    "duration": 9,
    "start_time": "2023-02-28T03:36:38.299Z"
   },
   {
    "duration": 10,
    "start_time": "2023-02-28T03:36:43.096Z"
   },
   {
    "duration": 6,
    "start_time": "2023-02-28T03:36:56.441Z"
   },
   {
    "duration": 7,
    "start_time": "2023-02-28T03:37:02.471Z"
   },
   {
    "duration": 4,
    "start_time": "2023-02-28T03:37:14.515Z"
   },
   {
    "duration": 7,
    "start_time": "2023-02-28T03:37:17.972Z"
   },
   {
    "duration": 15,
    "start_time": "2023-02-28T03:37:24.602Z"
   },
   {
    "duration": 2,
    "start_time": "2023-02-28T03:37:51.518Z"
   },
   {
    "duration": 5,
    "start_time": "2023-02-28T03:38:28.259Z"
   },
   {
    "duration": 7,
    "start_time": "2023-02-28T03:38:34.254Z"
   },
   {
    "duration": 16,
    "start_time": "2023-02-28T03:38:38.476Z"
   },
   {
    "duration": 13,
    "start_time": "2023-02-28T03:38:42.256Z"
   },
   {
    "duration": 2,
    "start_time": "2023-02-28T03:39:02.868Z"
   },
   {
    "duration": 7,
    "start_time": "2023-02-28T03:39:11.201Z"
   },
   {
    "duration": 7,
    "start_time": "2023-02-28T03:41:59.187Z"
   },
   {
    "duration": 13,
    "start_time": "2023-02-28T03:47:52.014Z"
   },
   {
    "duration": 8,
    "start_time": "2023-02-28T03:48:44.371Z"
   },
   {
    "duration": 12,
    "start_time": "2023-02-28T03:48:48.449Z"
   },
   {
    "duration": 7,
    "start_time": "2023-02-28T03:49:03.013Z"
   },
   {
    "duration": 7,
    "start_time": "2023-02-28T03:49:09.928Z"
   },
   {
    "duration": 7,
    "start_time": "2023-02-28T03:49:31.260Z"
   },
   {
    "duration": 15,
    "start_time": "2023-02-28T03:49:36.561Z"
   },
   {
    "duration": 5,
    "start_time": "2023-02-28T03:52:44.544Z"
   },
   {
    "duration": 5,
    "start_time": "2023-02-28T03:53:14.646Z"
   },
   {
    "duration": 10,
    "start_time": "2023-02-28T03:53:26.546Z"
   },
   {
    "duration": 7,
    "start_time": "2023-02-28T03:53:31.611Z"
   },
   {
    "duration": 10,
    "start_time": "2023-02-28T03:53:45.894Z"
   },
   {
    "duration": 10,
    "start_time": "2023-02-28T03:53:58.032Z"
   },
   {
    "duration": 6,
    "start_time": "2023-02-28T03:54:00.884Z"
   },
   {
    "duration": 6,
    "start_time": "2023-02-28T03:54:01.983Z"
   },
   {
    "duration": 5,
    "start_time": "2023-02-28T03:54:04.079Z"
   },
   {
    "duration": 52,
    "start_time": "2023-02-28T03:54:44.917Z"
   },
   {
    "duration": 3,
    "start_time": "2023-02-28T03:54:46.930Z"
   },
   {
    "duration": 9,
    "start_time": "2023-02-28T03:54:48.354Z"
   },
   {
    "duration": 8,
    "start_time": "2023-02-28T03:54:49.033Z"
   },
   {
    "duration": 5,
    "start_time": "2023-02-28T03:54:51.517Z"
   },
   {
    "duration": 5,
    "start_time": "2023-02-28T03:54:52.159Z"
   },
   {
    "duration": 7,
    "start_time": "2023-02-28T03:54:53.880Z"
   },
   {
    "duration": 6,
    "start_time": "2023-02-28T03:54:57.728Z"
   },
   {
    "duration": 4,
    "start_time": "2023-02-28T03:55:00.682Z"
   },
   {
    "duration": 9,
    "start_time": "2023-02-28T03:55:04.064Z"
   },
   {
    "duration": 3,
    "start_time": "2023-02-28T03:55:05.326Z"
   },
   {
    "duration": 12,
    "start_time": "2023-02-28T03:55:07.456Z"
   },
   {
    "duration": 9,
    "start_time": "2023-02-28T03:55:08.507Z"
   },
   {
    "duration": 6,
    "start_time": "2023-02-28T03:55:13.414Z"
   },
   {
    "duration": 3,
    "start_time": "2023-02-28T03:56:38.938Z"
   },
   {
    "duration": 8,
    "start_time": "2023-02-28T03:56:40.252Z"
   },
   {
    "duration": 9,
    "start_time": "2023-02-28T03:56:41.769Z"
   },
   {
    "duration": 52,
    "start_time": "2023-02-28T03:57:00.991Z"
   },
   {
    "duration": 4,
    "start_time": "2023-02-28T03:57:03.226Z"
   },
   {
    "duration": 8,
    "start_time": "2023-02-28T03:57:04.571Z"
   },
   {
    "duration": 5,
    "start_time": "2023-02-28T03:57:07.134Z"
   },
   {
    "duration": 5,
    "start_time": "2023-02-28T03:57:09.213Z"
   },
   {
    "duration": 6,
    "start_time": "2023-02-28T03:57:09.897Z"
   },
   {
    "duration": 7,
    "start_time": "2023-02-28T03:57:11.803Z"
   },
   {
    "duration": 3,
    "start_time": "2023-02-28T03:57:12.328Z"
   },
   {
    "duration": 9,
    "start_time": "2023-02-28T03:57:15.132Z"
   },
   {
    "duration": 7,
    "start_time": "2023-02-28T03:57:17.536Z"
   },
   {
    "duration": 10,
    "start_time": "2023-02-28T03:57:39.566Z"
   },
   {
    "duration": 5,
    "start_time": "2023-02-28T03:57:41.737Z"
   },
   {
    "duration": 4,
    "start_time": "2023-02-28T03:57:59.145Z"
   },
   {
    "duration": 63,
    "start_time": "2023-02-28T03:58:03.550Z"
   },
   {
    "duration": 14,
    "start_time": "2023-02-28T03:58:12.303Z"
   },
   {
    "duration": 745,
    "start_time": "2023-02-28T03:58:17.170Z"
   },
   {
    "duration": 50,
    "start_time": "2023-02-28T03:58:21.570Z"
   },
   {
    "duration": 13,
    "start_time": "2023-02-28T03:58:22.286Z"
   },
   {
    "duration": 14,
    "start_time": "2023-02-28T03:58:24.538Z"
   },
   {
    "duration": 3,
    "start_time": "2023-02-28T03:58:28.826Z"
   },
   {
    "duration": 8,
    "start_time": "2023-02-28T03:58:31.296Z"
   },
   {
    "duration": 26,
    "start_time": "2023-02-28T03:58:31.306Z"
   },
   {
    "duration": 37,
    "start_time": "2023-02-28T03:58:31.334Z"
   },
   {
    "duration": 36,
    "start_time": "2023-02-28T03:58:31.372Z"
   },
   {
    "duration": 19,
    "start_time": "2023-02-28T03:58:31.410Z"
   },
   {
    "duration": 21,
    "start_time": "2023-02-28T03:58:31.431Z"
   },
   {
    "duration": 32,
    "start_time": "2023-02-28T03:58:31.453Z"
   },
   {
    "duration": 32,
    "start_time": "2023-02-28T03:58:31.487Z"
   },
   {
    "duration": 16,
    "start_time": "2023-02-28T03:58:31.520Z"
   },
   {
    "duration": 7,
    "start_time": "2023-02-28T03:58:35.306Z"
   },
   {
    "duration": 4,
    "start_time": "2023-02-28T03:58:43.439Z"
   },
   {
    "duration": 51,
    "start_time": "2023-02-28T03:58:45.736Z"
   },
   {
    "duration": 15,
    "start_time": "2023-02-28T03:58:49.675Z"
   },
   {
    "duration": 19,
    "start_time": "2023-02-28T03:58:49.692Z"
   },
   {
    "duration": 3,
    "start_time": "2023-02-28T03:58:49.712Z"
   },
   {
    "duration": 11,
    "start_time": "2023-02-28T03:58:49.716Z"
   },
   {
    "duration": 2,
    "start_time": "2023-02-28T03:58:49.729Z"
   },
   {
    "duration": 9,
    "start_time": "2023-02-28T03:58:49.732Z"
   },
   {
    "duration": 10,
    "start_time": "2023-02-28T03:58:49.742Z"
   },
   {
    "duration": 6,
    "start_time": "2023-02-28T03:58:49.753Z"
   },
   {
    "duration": 10,
    "start_time": "2023-02-28T03:58:49.760Z"
   },
   {
    "duration": 10,
    "start_time": "2023-02-28T03:58:49.771Z"
   },
   {
    "duration": 3,
    "start_time": "2023-02-28T03:58:49.782Z"
   },
   {
    "duration": 11,
    "start_time": "2023-02-28T03:58:49.787Z"
   },
   {
    "duration": 5,
    "start_time": "2023-02-28T03:58:52.288Z"
   },
   {
    "duration": 11,
    "start_time": "2023-02-28T03:59:16.980Z"
   },
   {
    "duration": 6,
    "start_time": "2023-02-28T03:59:18.406Z"
   },
   {
    "duration": 4,
    "start_time": "2023-02-28T03:59:37.554Z"
   },
   {
    "duration": 53,
    "start_time": "2023-02-28T03:59:39.280Z"
   },
   {
    "duration": 14,
    "start_time": "2023-02-28T03:59:39.334Z"
   },
   {
    "duration": 132,
    "start_time": "2023-02-28T03:59:39.350Z"
   },
   {
    "duration": 4,
    "start_time": "2023-02-28T03:59:39.483Z"
   },
   {
    "duration": 14,
    "start_time": "2023-02-28T03:59:39.489Z"
   },
   {
    "duration": 11,
    "start_time": "2023-02-28T03:59:39.505Z"
   },
   {
    "duration": 14,
    "start_time": "2023-02-28T03:59:39.517Z"
   },
   {
    "duration": 9,
    "start_time": "2023-02-28T03:59:39.533Z"
   },
   {
    "duration": 7,
    "start_time": "2023-02-28T03:59:39.544Z"
   },
   {
    "duration": 9,
    "start_time": "2023-02-28T03:59:39.553Z"
   },
   {
    "duration": 8,
    "start_time": "2023-02-28T03:59:39.564Z"
   },
   {
    "duration": 6,
    "start_time": "2023-02-28T03:59:39.573Z"
   },
   {
    "duration": 13,
    "start_time": "2023-02-28T03:59:39.581Z"
   },
   {
    "duration": 5,
    "start_time": "2023-02-28T03:59:43.787Z"
   },
   {
    "duration": 14,
    "start_time": "2023-02-28T04:02:05.572Z"
   },
   {
    "duration": 13,
    "start_time": "2023-02-28T04:04:32.083Z"
   },
   {
    "duration": 8,
    "start_time": "2023-02-28T04:10:31.707Z"
   },
   {
    "duration": 18,
    "start_time": "2023-02-28T04:10:34.795Z"
   },
   {
    "duration": 5,
    "start_time": "2023-02-28T04:14:53.411Z"
   },
   {
    "duration": 16,
    "start_time": "2023-02-28T04:14:59.630Z"
   },
   {
    "duration": 3,
    "start_time": "2023-02-28T04:16:05.102Z"
   },
   {
    "duration": 3,
    "start_time": "2023-02-28T04:26:33.223Z"
   },
   {
    "duration": 17,
    "start_time": "2023-02-28T04:26:35.767Z"
   },
   {
    "duration": 14,
    "start_time": "2023-02-28T04:26:38.072Z"
   },
   {
    "duration": 14,
    "start_time": "2023-02-28T04:26:40.852Z"
   },
   {
    "duration": 14,
    "start_time": "2023-02-28T04:26:42.528Z"
   },
   {
    "duration": 33,
    "start_time": "2023-02-28T04:27:05.897Z"
   },
   {
    "duration": 14,
    "start_time": "2023-02-28T04:27:17.969Z"
   },
   {
    "duration": 13,
    "start_time": "2023-02-28T04:29:17.924Z"
   },
   {
    "duration": 248,
    "start_time": "2023-02-28T04:29:30.907Z"
   },
   {
    "duration": 147,
    "start_time": "2023-02-28T04:29:38.357Z"
   },
   {
    "duration": 307,
    "start_time": "2023-02-28T04:30:58.726Z"
   },
   {
    "duration": 327,
    "start_time": "2023-02-28T04:31:30.560Z"
   },
   {
    "duration": 346,
    "start_time": "2023-02-28T04:31:48.174Z"
   },
   {
    "duration": 310,
    "start_time": "2023-02-28T04:32:14.945Z"
   },
   {
    "duration": 556,
    "start_time": "2023-02-28T04:32:51.631Z"
   },
   {
    "duration": 49,
    "start_time": "2023-02-28T04:33:55.085Z"
   },
   {
    "duration": 16,
    "start_time": "2023-02-28T04:34:13.151Z"
   },
   {
    "duration": 35,
    "start_time": "2023-02-28T04:34:29.138Z"
   },
   {
    "duration": 379,
    "start_time": "2023-02-28T04:34:41.722Z"
   },
   {
    "duration": 317,
    "start_time": "2023-02-28T04:35:22.498Z"
   },
   {
    "duration": 410,
    "start_time": "2023-02-28T04:36:18.248Z"
   },
   {
    "duration": 313,
    "start_time": "2023-02-28T04:36:25.613Z"
   },
   {
    "duration": 319,
    "start_time": "2023-02-28T04:36:33.504Z"
   },
   {
    "duration": 326,
    "start_time": "2023-02-28T04:36:38.486Z"
   },
   {
    "duration": 429,
    "start_time": "2023-02-28T04:39:14.186Z"
   },
   {
    "duration": 439,
    "start_time": "2023-02-28T04:39:29.218Z"
   },
   {
    "duration": 17,
    "start_time": "2023-02-28T04:40:01.694Z"
   },
   {
    "duration": 571,
    "start_time": "2023-02-28T04:40:04.491Z"
   },
   {
    "duration": 454,
    "start_time": "2023-02-28T04:40:22.995Z"
   },
   {
    "duration": 478,
    "start_time": "2023-02-28T04:40:27.627Z"
   },
   {
    "duration": 436,
    "start_time": "2023-02-28T04:40:31.759Z"
   },
   {
    "duration": 429,
    "start_time": "2023-02-28T04:40:36.092Z"
   },
   {
    "duration": 529,
    "start_time": "2023-02-28T04:40:54.723Z"
   },
   {
    "duration": 320,
    "start_time": "2023-02-28T04:40:58.243Z"
   },
   {
    "duration": 300,
    "start_time": "2023-02-28T04:41:05.063Z"
   },
   {
    "duration": 294,
    "start_time": "2023-02-28T04:41:52.201Z"
   },
   {
    "duration": 301,
    "start_time": "2023-02-28T04:41:57.951Z"
   },
   {
    "duration": 288,
    "start_time": "2023-02-28T04:45:26.330Z"
   },
   {
    "duration": 57,
    "start_time": "2023-02-28T04:46:51.858Z"
   },
   {
    "duration": 64,
    "start_time": "2023-02-28T04:46:54.198Z"
   },
   {
    "duration": 14,
    "start_time": "2023-02-28T04:47:11.263Z"
   },
   {
    "duration": 10862,
    "start_time": "2023-02-28T04:48:54.255Z"
   },
   {
    "duration": 1904,
    "start_time": "2023-02-28T04:50:16.286Z"
   },
   {
    "duration": 15,
    "start_time": "2023-02-28T04:51:35.417Z"
   },
   {
    "duration": 14,
    "start_time": "2023-02-28T04:51:45.171Z"
   },
   {
    "duration": 17,
    "start_time": "2023-02-28T04:51:57.209Z"
   },
   {
    "duration": 14,
    "start_time": "2023-02-28T04:52:13.423Z"
   },
   {
    "duration": 15,
    "start_time": "2023-02-28T04:52:19.848Z"
   },
   {
    "duration": 15,
    "start_time": "2023-02-28T04:52:26.377Z"
   },
   {
    "duration": 16,
    "start_time": "2023-02-28T04:52:34.248Z"
   },
   {
    "duration": 14,
    "start_time": "2023-02-28T04:55:10.664Z"
   },
   {
    "duration": 45,
    "start_time": "2023-02-28T04:56:08.756Z"
   },
   {
    "duration": 45,
    "start_time": "2023-02-28T04:56:29.123Z"
   },
   {
    "duration": 289,
    "start_time": "2023-02-28T04:56:32.530Z"
   },
   {
    "duration": 25,
    "start_time": "2023-02-28T04:56:41.670Z"
   },
   {
    "duration": 34,
    "start_time": "2023-02-28T04:57:23.881Z"
   },
   {
    "duration": 2033,
    "start_time": "2023-02-28T04:58:03.261Z"
   },
   {
    "duration": 2111,
    "start_time": "2023-02-28T04:58:29.805Z"
   },
   {
    "duration": 11205,
    "start_time": "2023-02-28T04:59:27.561Z"
   },
   {
    "duration": 26,
    "start_time": "2023-02-28T05:00:22.707Z"
   },
   {
    "duration": 59,
    "start_time": "2023-02-28T05:00:30.076Z"
   },
   {
    "duration": 16,
    "start_time": "2023-02-28T05:00:43.416Z"
   },
   {
    "duration": 18,
    "start_time": "2023-02-28T05:00:54.736Z"
   },
   {
    "duration": 17,
    "start_time": "2023-02-28T05:01:06.816Z"
   },
   {
    "duration": 21,
    "start_time": "2023-02-28T05:01:14.310Z"
   },
   {
    "duration": 15,
    "start_time": "2023-02-28T05:01:19.660Z"
   },
   {
    "duration": 14,
    "start_time": "2023-02-28T05:01:41.116Z"
   },
   {
    "duration": 161,
    "start_time": "2023-02-28T05:02:16.983Z"
   },
   {
    "duration": 22,
    "start_time": "2023-02-28T05:03:18.020Z"
   },
   {
    "duration": 16,
    "start_time": "2023-02-28T05:03:30.299Z"
   },
   {
    "duration": 10,
    "start_time": "2023-02-28T05:03:49.687Z"
   },
   {
    "duration": 22,
    "start_time": "2023-02-28T05:03:53.804Z"
   },
   {
    "duration": 74,
    "start_time": "2023-02-28T05:03:58.832Z"
   },
   {
    "duration": 11,
    "start_time": "2023-02-28T05:05:23.801Z"
   },
   {
    "duration": 11,
    "start_time": "2023-02-28T05:05:41.393Z"
   },
   {
    "duration": 11,
    "start_time": "2023-02-28T05:06:10.723Z"
   },
   {
    "duration": 17,
    "start_time": "2023-02-28T05:06:24.143Z"
   },
   {
    "duration": 4,
    "start_time": "2023-02-28T05:06:37.727Z"
   },
   {
    "duration": 19,
    "start_time": "2023-02-28T05:06:46.480Z"
   },
   {
    "duration": 38,
    "start_time": "2023-02-28T05:07:59.283Z"
   },
   {
    "duration": 157,
    "start_time": "2023-02-28T05:08:36.220Z"
   },
   {
    "duration": 164,
    "start_time": "2023-02-28T05:09:14.551Z"
   },
   {
    "duration": 169,
    "start_time": "2023-02-28T05:09:55.511Z"
   },
   {
    "duration": 43,
    "start_time": "2023-02-28T05:10:18.287Z"
   },
   {
    "duration": 91,
    "start_time": "2023-02-28T05:10:30.005Z"
   },
   {
    "duration": 152,
    "start_time": "2023-02-28T05:10:32.511Z"
   },
   {
    "duration": 238,
    "start_time": "2023-02-28T05:11:14.607Z"
   },
   {
    "duration": 52,
    "start_time": "2023-02-28T05:11:32.250Z"
   },
   {
    "duration": 320,
    "start_time": "2023-02-28T05:11:36.445Z"
   },
   {
    "duration": 600,
    "start_time": "2023-02-28T05:12:45.574Z"
   },
   {
    "duration": 863,
    "start_time": "2023-02-28T05:13:04.905Z"
   },
   {
    "duration": 638,
    "start_time": "2023-02-28T05:13:14.162Z"
   },
   {
    "duration": 495,
    "start_time": "2023-02-28T05:14:20.237Z"
   },
   {
    "duration": 397,
    "start_time": "2023-02-28T05:14:36.195Z"
   },
   {
    "duration": 538,
    "start_time": "2023-02-28T05:14:46.407Z"
   },
   {
    "duration": 547,
    "start_time": "2023-02-28T05:16:55.809Z"
   },
   {
    "duration": 828,
    "start_time": "2023-02-28T05:18:31.538Z"
   },
   {
    "duration": 545,
    "start_time": "2023-02-28T05:18:44.545Z"
   },
   {
    "duration": 538,
    "start_time": "2023-02-28T05:18:48.042Z"
   },
   {
    "duration": 422,
    "start_time": "2023-02-28T05:19:21.617Z"
   },
   {
    "duration": 382,
    "start_time": "2023-02-28T05:19:32.681Z"
   },
   {
    "duration": 314,
    "start_time": "2023-02-28T05:19:51.820Z"
   },
   {
    "duration": 425,
    "start_time": "2023-02-28T05:20:02.773Z"
   },
   {
    "duration": 406,
    "start_time": "2023-02-28T05:20:06.321Z"
   },
   {
    "duration": 572,
    "start_time": "2023-02-28T05:20:22.176Z"
   },
   {
    "duration": 1005,
    "start_time": "2023-02-28T05:20:29.976Z"
   },
   {
    "duration": 411,
    "start_time": "2023-02-28T05:21:06.917Z"
   },
   {
    "duration": 396,
    "start_time": "2023-02-28T05:21:35.250Z"
   },
   {
    "duration": 450,
    "start_time": "2023-02-28T05:21:39.219Z"
   },
   {
    "duration": 436,
    "start_time": "2023-02-28T05:22:52.237Z"
   },
   {
    "duration": 406,
    "start_time": "2023-02-28T05:23:07.164Z"
   },
   {
    "duration": 391,
    "start_time": "2023-02-28T05:23:11.056Z"
   },
   {
    "duration": 418,
    "start_time": "2023-02-28T05:23:14.716Z"
   },
   {
    "duration": 408,
    "start_time": "2023-02-28T05:23:18.475Z"
   },
   {
    "duration": 317,
    "start_time": "2023-02-28T05:23:37.935Z"
   },
   {
    "duration": 312,
    "start_time": "2023-02-28T05:23:43.991Z"
   },
   {
    "duration": 320,
    "start_time": "2023-02-28T05:23:47.908Z"
   },
   {
    "duration": 401,
    "start_time": "2023-02-28T05:24:26.501Z"
   },
   {
    "duration": 774,
    "start_time": "2023-02-28T05:25:55.908Z"
   },
   {
    "duration": 363,
    "start_time": "2023-02-28T05:26:12.895Z"
   },
   {
    "duration": 364,
    "start_time": "2023-02-28T05:26:18.638Z"
   },
   {
    "duration": 352,
    "start_time": "2023-02-28T05:26:22.093Z"
   },
   {
    "duration": 373,
    "start_time": "2023-02-28T05:26:47.861Z"
   },
   {
    "duration": 317,
    "start_time": "2023-02-28T05:27:08.477Z"
   },
   {
    "duration": 365,
    "start_time": "2023-02-28T05:27:17.160Z"
   },
   {
    "duration": 368,
    "start_time": "2023-02-28T05:27:35.087Z"
   },
   {
    "duration": 318,
    "start_time": "2023-02-28T05:35:32.717Z"
   },
   {
    "duration": 855,
    "start_time": "2023-02-28T05:35:39.660Z"
   },
   {
    "duration": 28,
    "start_time": "2023-02-28T05:35:41.947Z"
   },
   {
    "duration": 339,
    "start_time": "2023-02-28T05:35:43.643Z"
   },
   {
    "duration": 12,
    "start_time": "2023-02-28T05:38:10.269Z"
   },
   {
    "duration": 15,
    "start_time": "2023-02-28T05:38:12.226Z"
   },
   {
    "duration": 18,
    "start_time": "2023-02-28T05:38:13.660Z"
   },
   {
    "duration": 15,
    "start_time": "2023-02-28T05:38:17.177Z"
   },
   {
    "duration": 1016,
    "start_time": "2023-02-28T05:38:38.173Z"
   },
   {
    "duration": 359,
    "start_time": "2023-02-28T05:38:53.879Z"
   },
   {
    "duration": 641,
    "start_time": "2023-02-28T05:39:00.946Z"
   },
   {
    "duration": 402,
    "start_time": "2023-02-28T05:39:09.211Z"
   },
   {
    "duration": 493,
    "start_time": "2023-02-28T05:39:15.166Z"
   },
   {
    "duration": 685,
    "start_time": "2023-02-28T05:40:50.236Z"
   },
   {
    "duration": 420,
    "start_time": "2023-02-28T05:41:01.939Z"
   },
   {
    "duration": 16,
    "start_time": "2023-02-28T05:43:12.622Z"
   },
   {
    "duration": 15,
    "start_time": "2023-02-28T05:43:33.351Z"
   },
   {
    "duration": 324,
    "start_time": "2023-02-28T05:44:59.395Z"
   },
   {
    "duration": 655,
    "start_time": "2023-02-28T05:45:07.431Z"
   },
   {
    "duration": 375,
    "start_time": "2023-02-28T05:45:14.303Z"
   },
   {
    "duration": 387,
    "start_time": "2023-02-28T05:46:08.883Z"
   },
   {
    "duration": 386,
    "start_time": "2023-02-28T05:46:13.195Z"
   },
   {
    "duration": 15,
    "start_time": "2023-02-28T06:00:02.463Z"
   },
   {
    "duration": 4,
    "start_time": "2023-02-28T06:00:08.786Z"
   },
   {
    "duration": 12,
    "start_time": "2023-02-28T06:00:17.584Z"
   },
   {
    "duration": 4,
    "start_time": "2023-02-28T06:00:18.206Z"
   },
   {
    "duration": 13,
    "start_time": "2023-02-28T06:00:44.176Z"
   },
   {
    "duration": 5,
    "start_time": "2023-02-28T06:00:45.354Z"
   },
   {
    "duration": 16,
    "start_time": "2023-02-28T06:03:04.943Z"
   },
   {
    "duration": 4,
    "start_time": "2023-02-28T06:03:06.240Z"
   },
   {
    "duration": 12,
    "start_time": "2023-02-28T06:04:34.804Z"
   },
   {
    "duration": 4,
    "start_time": "2023-02-28T06:04:38.117Z"
   },
   {
    "duration": 329,
    "start_time": "2023-02-28T06:05:38.583Z"
   },
   {
    "duration": 381,
    "start_time": "2023-02-28T06:05:49.106Z"
   },
   {
    "duration": 13,
    "start_time": "2023-02-28T06:06:35.289Z"
   },
   {
    "duration": 5,
    "start_time": "2023-02-28T06:06:35.892Z"
   },
   {
    "duration": 12,
    "start_time": "2023-02-28T06:06:51.775Z"
   },
   {
    "duration": 4,
    "start_time": "2023-02-28T06:06:52.738Z"
   },
   {
    "duration": 13,
    "start_time": "2023-02-28T06:06:56.554Z"
   },
   {
    "duration": 4,
    "start_time": "2023-02-28T06:06:57.109Z"
   },
   {
    "duration": 45,
    "start_time": "2023-02-28T06:07:38.496Z"
   },
   {
    "duration": 4,
    "start_time": "2023-02-28T06:07:41.096Z"
   },
   {
    "duration": 34,
    "start_time": "2023-02-28T06:07:42.275Z"
   },
   {
    "duration": 238,
    "start_time": "2023-02-28T06:07:52.719Z"
   },
   {
    "duration": 12,
    "start_time": "2023-02-28T06:08:07.079Z"
   },
   {
    "duration": 4,
    "start_time": "2023-02-28T06:08:08.176Z"
   },
   {
    "duration": 208,
    "start_time": "2023-02-28T06:08:11.493Z"
   },
   {
    "duration": 13,
    "start_time": "2023-02-28T06:08:17.046Z"
   },
   {
    "duration": 4,
    "start_time": "2023-02-28T06:08:17.883Z"
   },
   {
    "duration": 231,
    "start_time": "2023-02-28T06:08:19.420Z"
   },
   {
    "duration": 232,
    "start_time": "2023-02-28T06:10:45.580Z"
   },
   {
    "duration": 235,
    "start_time": "2023-02-28T06:10:48.782Z"
   },
   {
    "duration": 245,
    "start_time": "2023-02-28T06:11:05.321Z"
   },
   {
    "duration": 231,
    "start_time": "2023-02-28T06:11:12.851Z"
   },
   {
    "duration": 242,
    "start_time": "2023-02-28T06:11:18.289Z"
   },
   {
    "duration": 243,
    "start_time": "2023-02-28T06:11:38.079Z"
   },
   {
    "duration": 243,
    "start_time": "2023-02-28T06:11:48.523Z"
   },
   {
    "duration": 232,
    "start_time": "2023-02-28T06:11:52.215Z"
   },
   {
    "duration": 240,
    "start_time": "2023-02-28T06:12:15.417Z"
   },
   {
    "duration": 233,
    "start_time": "2023-02-28T06:12:31.791Z"
   },
   {
    "duration": 243,
    "start_time": "2023-02-28T06:12:36.999Z"
   },
   {
    "duration": 235,
    "start_time": "2023-02-28T06:12:45.562Z"
   },
   {
    "duration": 230,
    "start_time": "2023-02-28T06:12:52.311Z"
   },
   {
    "duration": 7,
    "start_time": "2023-02-28T06:18:02.173Z"
   },
   {
    "duration": 258,
    "start_time": "2023-02-28T06:18:03.411Z"
   },
   {
    "duration": 231,
    "start_time": "2023-02-28T06:18:12.007Z"
   },
   {
    "duration": 14,
    "start_time": "2023-02-28T06:21:01.169Z"
   },
   {
    "duration": 14,
    "start_time": "2023-02-28T06:21:14.286Z"
   },
   {
    "duration": 13,
    "start_time": "2023-02-28T06:21:21.823Z"
   },
   {
    "duration": 61,
    "start_time": "2023-02-28T06:21:46.337Z"
   },
   {
    "duration": 533,
    "start_time": "2023-02-28T06:21:49.728Z"
   },
   {
    "duration": 18,
    "start_time": "2023-02-28T06:22:41.812Z"
   },
   {
    "duration": 51,
    "start_time": "2023-02-28T06:22:58.742Z"
   },
   {
    "duration": 13,
    "start_time": "2023-02-28T06:22:59.745Z"
   },
   {
    "duration": 222,
    "start_time": "2023-02-28T06:23:23.536Z"
   },
   {
    "duration": 744,
    "start_time": "2023-02-28T06:24:26.113Z"
   },
   {
    "duration": 839,
    "start_time": "2023-02-28T06:24:36.356Z"
   },
   {
    "duration": 12,
    "start_time": "2023-02-28T06:24:43.831Z"
   },
   {
    "duration": 9,
    "start_time": "2023-02-28T06:24:56.644Z"
   },
   {
    "duration": 776,
    "start_time": "2023-02-28T06:25:10.511Z"
   },
   {
    "duration": 9,
    "start_time": "2023-02-28T06:25:16.447Z"
   },
   {
    "duration": 116,
    "start_time": "2023-02-28T06:25:23.361Z"
   },
   {
    "duration": 162,
    "start_time": "2023-02-28T06:26:51.159Z"
   },
   {
    "duration": 212,
    "start_time": "2023-02-28T06:27:04.199Z"
   },
   {
    "duration": 189,
    "start_time": "2023-02-28T06:27:10.680Z"
   },
   {
    "duration": 202,
    "start_time": "2023-02-28T06:27:14.630Z"
   },
   {
    "duration": 11,
    "start_time": "2023-02-28T06:28:03.468Z"
   },
   {
    "duration": 186,
    "start_time": "2023-02-28T06:29:09.361Z"
   },
   {
    "duration": 190,
    "start_time": "2023-02-28T06:29:13.709Z"
   },
   {
    "duration": 201,
    "start_time": "2023-02-28T06:29:21.244Z"
   },
   {
    "duration": 7,
    "start_time": "2023-02-28T06:29:33.821Z"
   },
   {
    "duration": 9,
    "start_time": "2023-02-28T06:29:49.028Z"
   },
   {
    "duration": 197,
    "start_time": "2023-02-28T06:32:41.085Z"
   },
   {
    "duration": 36,
    "start_time": "2023-02-28T06:35:04.499Z"
   },
   {
    "duration": 13,
    "start_time": "2023-02-28T06:38:06.854Z"
   },
   {
    "duration": 16,
    "start_time": "2023-02-28T06:38:29.731Z"
   },
   {
    "duration": 20,
    "start_time": "2023-02-28T06:38:55.421Z"
   },
   {
    "duration": 11,
    "start_time": "2023-02-28T06:44:54.658Z"
   },
   {
    "duration": 34,
    "start_time": "2023-02-28T06:45:02.420Z"
   },
   {
    "duration": 5,
    "start_time": "2023-02-28T06:45:26.612Z"
   },
   {
    "duration": 5,
    "start_time": "2023-02-28T06:45:37.690Z"
   },
   {
    "duration": 8,
    "start_time": "2023-02-28T06:45:41.337Z"
   },
   {
    "duration": 22,
    "start_time": "2023-02-28T06:45:50.196Z"
   },
   {
    "duration": 8,
    "start_time": "2023-02-28T06:46:15.194Z"
   },
   {
    "duration": 255,
    "start_time": "2023-02-28T06:46:17.590Z"
   },
   {
    "duration": 204,
    "start_time": "2023-02-28T06:46:23.528Z"
   },
   {
    "duration": 24,
    "start_time": "2023-02-28T06:46:29.192Z"
   },
   {
    "duration": 25,
    "start_time": "2023-02-28T06:46:31.028Z"
   },
   {
    "duration": 5,
    "start_time": "2023-02-28T06:47:31.938Z"
   },
   {
    "duration": 8,
    "start_time": "2023-02-28T06:47:41.355Z"
   },
   {
    "duration": 3,
    "start_time": "2023-02-28T06:48:20.103Z"
   },
   {
    "duration": 29,
    "start_time": "2023-02-28T06:48:22.485Z"
   },
   {
    "duration": 23,
    "start_time": "2023-02-28T06:48:31.007Z"
   },
   {
    "duration": 19,
    "start_time": "2023-02-28T06:48:33.890Z"
   },
   {
    "duration": 12,
    "start_time": "2023-02-28T06:48:59.948Z"
   },
   {
    "duration": 39,
    "start_time": "2023-02-28T06:49:04.153Z"
   },
   {
    "duration": 61,
    "start_time": "2023-03-01T04:24:27.820Z"
   },
   {
    "duration": 1267,
    "start_time": "2023-03-01T04:24:31.249Z"
   },
   {
    "duration": 94,
    "start_time": "2023-03-01T04:24:35.176Z"
   },
   {
    "duration": 19,
    "start_time": "2023-03-01T04:24:35.272Z"
   },
   {
    "duration": 39,
    "start_time": "2023-03-01T04:24:35.292Z"
   },
   {
    "duration": 13,
    "start_time": "2023-03-01T04:24:35.333Z"
   },
   {
    "duration": 15,
    "start_time": "2023-03-01T04:24:35.348Z"
   },
   {
    "duration": 14,
    "start_time": "2023-03-01T04:24:35.365Z"
   },
   {
    "duration": 31,
    "start_time": "2023-03-01T04:24:35.381Z"
   },
   {
    "duration": 12,
    "start_time": "2023-03-01T04:24:35.414Z"
   },
   {
    "duration": 21,
    "start_time": "2023-03-01T04:24:35.428Z"
   },
   {
    "duration": 15,
    "start_time": "2023-03-01T04:24:35.453Z"
   },
   {
    "duration": 28,
    "start_time": "2023-03-01T04:24:35.470Z"
   },
   {
    "duration": 14,
    "start_time": "2023-03-01T04:24:35.500Z"
   },
   {
    "duration": 28,
    "start_time": "2023-03-01T04:24:35.515Z"
   },
   {
    "duration": 40,
    "start_time": "2023-03-01T04:24:35.545Z"
   },
   {
    "duration": 23,
    "start_time": "2023-03-01T04:24:35.587Z"
   },
   {
    "duration": 46,
    "start_time": "2023-03-01T04:24:35.612Z"
   },
   {
    "duration": 47,
    "start_time": "2023-03-01T04:24:35.660Z"
   },
   {
    "duration": 46,
    "start_time": "2023-03-01T04:24:35.709Z"
   },
   {
    "duration": 322,
    "start_time": "2023-03-01T04:24:35.756Z"
   },
   {
    "duration": 161,
    "start_time": "2023-03-01T04:24:36.080Z"
   },
   {
    "duration": 14,
    "start_time": "2023-03-01T04:24:36.243Z"
   },
   {
    "duration": 9,
    "start_time": "2023-03-01T04:24:36.259Z"
   },
   {
    "duration": 7,
    "start_time": "2023-03-01T04:24:36.270Z"
   },
   {
    "duration": 381,
    "start_time": "2023-03-01T04:24:36.278Z"
   },
   {
    "duration": 378,
    "start_time": "2023-03-01T04:24:36.661Z"
   },
   {
    "duration": 423,
    "start_time": "2023-03-01T04:24:37.040Z"
   },
   {
    "duration": 11,
    "start_time": "2023-03-01T04:24:37.465Z"
   },
   {
    "duration": 4,
    "start_time": "2023-03-01T04:24:37.479Z"
   },
   {
    "duration": 14,
    "start_time": "2023-03-01T04:24:37.485Z"
   },
   {
    "duration": 226,
    "start_time": "2023-03-01T04:24:37.500Z"
   },
   {
    "duration": 194,
    "start_time": "2023-03-01T04:24:37.728Z"
   },
   {
    "duration": 24,
    "start_time": "2023-03-01T04:24:37.923Z"
   },
   {
    "duration": 346,
    "start_time": "2023-03-01T04:24:49.211Z"
   },
   {
    "duration": 372,
    "start_time": "2023-03-01T04:24:54.368Z"
   },
   {
    "duration": 400,
    "start_time": "2023-03-01T04:25:13.852Z"
   },
   {
    "duration": 381,
    "start_time": "2023-03-01T04:25:27.705Z"
   },
   {
    "duration": 505,
    "start_time": "2023-03-01T04:25:53.593Z"
   },
   {
    "duration": 377,
    "start_time": "2023-03-01T04:25:58.798Z"
   },
   {
    "duration": 78,
    "start_time": "2023-03-01T04:29:49.566Z"
   },
   {
    "duration": 256,
    "start_time": "2023-03-01T04:29:54.144Z"
   },
   {
    "duration": 236,
    "start_time": "2023-03-01T04:30:56.839Z"
   },
   {
    "duration": 183,
    "start_time": "2023-03-01T04:31:31.436Z"
   },
   {
    "duration": 187,
    "start_time": "2023-03-01T04:31:38.654Z"
   },
   {
    "duration": 176,
    "start_time": "2023-03-01T04:31:48.200Z"
   },
   {
    "duration": 192,
    "start_time": "2023-03-01T04:32:18.607Z"
   },
   {
    "duration": 270,
    "start_time": "2023-03-01T04:32:42.811Z"
   },
   {
    "duration": 371,
    "start_time": "2023-03-01T04:33:02.803Z"
   },
   {
    "duration": 186,
    "start_time": "2023-03-01T04:34:05.763Z"
   },
   {
    "duration": 204,
    "start_time": "2023-03-01T04:35:06.100Z"
   },
   {
    "duration": 189,
    "start_time": "2023-03-01T04:36:01.669Z"
   },
   {
    "duration": 99,
    "start_time": "2023-03-01T04:36:19.472Z"
   },
   {
    "duration": 157,
    "start_time": "2023-03-01T04:36:23.467Z"
   },
   {
    "duration": 178,
    "start_time": "2023-03-01T04:36:50.632Z"
   },
   {
    "duration": 188,
    "start_time": "2023-03-01T04:36:55.209Z"
   },
   {
    "duration": 197,
    "start_time": "2023-03-01T04:37:03.167Z"
   },
   {
    "duration": 181,
    "start_time": "2023-03-01T04:37:33.585Z"
   },
   {
    "duration": 187,
    "start_time": "2023-03-01T04:41:13.197Z"
   },
   {
    "duration": 192,
    "start_time": "2023-03-01T04:41:23.882Z"
   },
   {
    "duration": 288,
    "start_time": "2023-03-01T04:41:34.207Z"
   },
   {
    "duration": 189,
    "start_time": "2023-03-01T04:41:40.851Z"
   },
   {
    "duration": 204,
    "start_time": "2023-03-01T04:41:47.052Z"
   },
   {
    "duration": 187,
    "start_time": "2023-03-01T04:41:51.378Z"
   },
   {
    "duration": 178,
    "start_time": "2023-03-01T04:41:55.301Z"
   },
   {
    "duration": 270,
    "start_time": "2023-03-01T04:41:57.047Z"
   },
   {
    "duration": 268,
    "start_time": "2023-03-01T04:44:44.918Z"
   },
   {
    "duration": 182,
    "start_time": "2023-03-01T04:45:16.438Z"
   },
   {
    "duration": 538,
    "start_time": "2023-03-01T04:46:24.507Z"
   },
   {
    "duration": 186,
    "start_time": "2023-03-01T04:46:34.403Z"
   },
   {
    "duration": 176,
    "start_time": "2023-03-01T04:46:42.492Z"
   },
   {
    "duration": 168,
    "start_time": "2023-03-01T04:46:50.349Z"
   },
   {
    "duration": 180,
    "start_time": "2023-03-01T04:46:55.610Z"
   },
   {
    "duration": 250,
    "start_time": "2023-03-01T04:46:58.397Z"
   },
   {
    "duration": 291,
    "start_time": "2023-03-01T04:47:05.993Z"
   },
   {
    "duration": 283,
    "start_time": "2023-03-01T04:47:13.961Z"
   },
   {
    "duration": 392,
    "start_time": "2023-03-01T04:47:25.532Z"
   },
   {
    "duration": 260,
    "start_time": "2023-03-01T04:47:28.238Z"
   },
   {
    "duration": 280,
    "start_time": "2023-03-01T04:47:38.696Z"
   },
   {
    "duration": 283,
    "start_time": "2023-03-01T04:51:29.745Z"
   },
   {
    "duration": 11,
    "start_time": "2023-03-01T04:52:07.262Z"
   },
   {
    "duration": 10,
    "start_time": "2023-03-01T04:52:24.072Z"
   },
   {
    "duration": 10,
    "start_time": "2023-03-01T04:52:26.661Z"
   },
   {
    "duration": 135,
    "start_time": "2023-03-01T04:52:32.492Z"
   },
   {
    "duration": 10,
    "start_time": "2023-03-01T04:52:37.824Z"
   },
   {
    "duration": 1670,
    "start_time": "2023-03-01T04:53:12.839Z"
   },
   {
    "duration": 1923,
    "start_time": "2023-03-01T04:53:58.129Z"
   },
   {
    "duration": 438,
    "start_time": "2023-03-01T04:54:07.442Z"
   },
   {
    "duration": 79,
    "start_time": "2023-03-01T04:54:23.781Z"
   },
   {
    "duration": 292,
    "start_time": "2023-03-01T04:54:40.615Z"
   },
   {
    "duration": 271,
    "start_time": "2023-03-01T04:55:20.679Z"
   },
   {
    "duration": 270,
    "start_time": "2023-03-01T04:55:23.978Z"
   },
   {
    "duration": 308,
    "start_time": "2023-03-01T04:55:33.864Z"
   },
   {
    "duration": 270,
    "start_time": "2023-03-01T04:55:37.782Z"
   },
   {
    "duration": 437,
    "start_time": "2023-03-01T04:56:23.537Z"
   },
   {
    "duration": 427,
    "start_time": "2023-03-01T04:58:46.544Z"
   },
   {
    "duration": 399,
    "start_time": "2023-03-01T04:58:53.195Z"
   },
   {
    "duration": 287,
    "start_time": "2023-03-01T04:59:10.012Z"
   },
   {
    "duration": 404,
    "start_time": "2023-03-01T04:59:17.266Z"
   },
   {
    "duration": 256,
    "start_time": "2023-03-01T04:59:21.262Z"
   },
   {
    "duration": 286,
    "start_time": "2023-03-01T04:59:25.938Z"
   },
   {
    "duration": 262,
    "start_time": "2023-03-01T04:59:29.696Z"
   },
   {
    "duration": 405,
    "start_time": "2023-03-01T04:59:55.884Z"
   },
   {
    "duration": 410,
    "start_time": "2023-03-01T04:59:59.677Z"
   },
   {
    "duration": 401,
    "start_time": "2023-03-01T05:00:44.974Z"
   },
   {
    "duration": 371,
    "start_time": "2023-03-01T05:00:49.865Z"
   },
   {
    "duration": 369,
    "start_time": "2023-03-01T05:00:52.411Z"
   },
   {
    "duration": 404,
    "start_time": "2023-03-01T05:01:05.823Z"
   },
   {
    "duration": 284,
    "start_time": "2023-03-01T05:01:09.479Z"
   },
   {
    "duration": 278,
    "start_time": "2023-03-01T05:01:12.377Z"
   },
   {
    "duration": 14,
    "start_time": "2023-03-01T05:04:25.017Z"
   },
   {
    "duration": 175,
    "start_time": "2023-03-01T05:04:46.112Z"
   },
   {
    "duration": 171,
    "start_time": "2023-03-01T05:06:16.041Z"
   },
   {
    "duration": 187,
    "start_time": "2023-03-01T05:06:30.013Z"
   },
   {
    "duration": 194,
    "start_time": "2023-03-01T05:07:13.753Z"
   },
   {
    "duration": 5,
    "start_time": "2023-03-01T05:08:16.483Z"
   },
   {
    "duration": 6,
    "start_time": "2023-03-01T05:08:25.584Z"
   },
   {
    "duration": 171,
    "start_time": "2023-03-01T05:09:10.606Z"
   },
   {
    "duration": 174,
    "start_time": "2023-03-01T05:09:15.961Z"
   },
   {
    "duration": 163,
    "start_time": "2023-03-01T05:09:59.050Z"
   },
   {
    "duration": 188,
    "start_time": "2023-03-01T05:10:13.718Z"
   },
   {
    "duration": 92,
    "start_time": "2023-03-01T05:11:39.107Z"
   },
   {
    "duration": 168,
    "start_time": "2023-03-01T05:19:40.256Z"
   },
   {
    "duration": 166,
    "start_time": "2023-03-01T05:19:53.288Z"
   },
   {
    "duration": 73,
    "start_time": "2023-03-01T05:20:43.402Z"
   },
   {
    "duration": 177,
    "start_time": "2023-03-01T05:25:19.794Z"
   },
   {
    "duration": 9,
    "start_time": "2023-03-01T05:26:08.144Z"
   },
   {
    "duration": 357,
    "start_time": "2023-03-01T05:26:33.826Z"
   },
   {
    "duration": 8,
    "start_time": "2023-03-01T05:26:43.654Z"
   },
   {
    "duration": 187,
    "start_time": "2023-03-01T05:32:34.136Z"
   },
   {
    "duration": 13,
    "start_time": "2023-03-01T05:32:43.333Z"
   },
   {
    "duration": 10,
    "start_time": "2023-03-01T05:32:47.338Z"
   },
   {
    "duration": 177,
    "start_time": "2023-03-01T05:33:17.922Z"
   },
   {
    "duration": 9,
    "start_time": "2023-03-01T05:34:10.242Z"
   },
   {
    "duration": 2,
    "start_time": "2023-03-01T05:38:13.588Z"
   },
   {
    "duration": 14,
    "start_time": "2023-03-01T05:39:28.019Z"
   },
   {
    "duration": 12,
    "start_time": "2023-03-01T05:40:43.539Z"
   },
   {
    "duration": 13,
    "start_time": "2023-03-01T05:40:53.557Z"
   },
   {
    "duration": 11,
    "start_time": "2023-03-01T05:41:03.270Z"
   },
   {
    "duration": 14,
    "start_time": "2023-03-01T05:41:09.695Z"
   },
   {
    "duration": 14,
    "start_time": "2023-03-01T05:41:20.581Z"
   },
   {
    "duration": 264,
    "start_time": "2023-03-01T05:41:33.917Z"
   },
   {
    "duration": 239,
    "start_time": "2023-03-01T05:42:39.783Z"
   },
   {
    "duration": 219,
    "start_time": "2023-03-01T05:42:44.627Z"
   },
   {
    "duration": 244,
    "start_time": "2023-03-01T05:42:52.031Z"
   },
   {
    "duration": 220,
    "start_time": "2023-03-01T05:42:57.848Z"
   },
   {
    "duration": 246,
    "start_time": "2023-03-01T05:43:04.018Z"
   },
   {
    "duration": 165,
    "start_time": "2023-03-01T05:43:09.278Z"
   },
   {
    "duration": 229,
    "start_time": "2023-03-01T05:43:12.735Z"
   },
   {
    "duration": 238,
    "start_time": "2023-03-01T05:43:16.903Z"
   },
   {
    "duration": 219,
    "start_time": "2023-03-01T05:43:36.687Z"
   },
   {
    "duration": 78,
    "start_time": "2023-03-01T05:43:52.929Z"
   },
   {
    "duration": 215,
    "start_time": "2023-03-01T05:43:57.320Z"
   },
   {
    "duration": 233,
    "start_time": "2023-03-01T05:44:22.356Z"
   },
   {
    "duration": 218,
    "start_time": "2023-03-01T05:44:37.288Z"
   },
   {
    "duration": 82,
    "start_time": "2023-03-01T05:44:52.258Z"
   },
   {
    "duration": 228,
    "start_time": "2023-03-01T05:44:54.877Z"
   },
   {
    "duration": 368,
    "start_time": "2023-03-01T05:45:06.900Z"
   },
   {
    "duration": 206,
    "start_time": "2023-03-01T05:45:18.530Z"
   },
   {
    "duration": 223,
    "start_time": "2023-03-01T05:45:25.147Z"
   },
   {
    "duration": 216,
    "start_time": "2023-03-01T05:45:29.462Z"
   },
   {
    "duration": 13,
    "start_time": "2023-03-01T06:02:30.432Z"
   },
   {
    "duration": 148,
    "start_time": "2023-03-01T06:03:26.355Z"
   },
   {
    "duration": 151,
    "start_time": "2023-03-01T06:04:05.068Z"
   },
   {
    "duration": 158,
    "start_time": "2023-03-01T06:04:14.478Z"
   },
   {
    "duration": 147,
    "start_time": "2023-03-01T06:04:22.435Z"
   },
   {
    "duration": 158,
    "start_time": "2023-03-01T06:04:48.994Z"
   },
   {
    "duration": 150,
    "start_time": "2023-03-01T06:05:11.236Z"
   },
   {
    "duration": 187,
    "start_time": "2023-03-01T06:06:02.808Z"
   },
   {
    "duration": 19,
    "start_time": "2023-03-01T06:06:12.383Z"
   },
   {
    "duration": 167,
    "start_time": "2023-03-01T06:06:21.355Z"
   },
   {
    "duration": 175,
    "start_time": "2023-03-01T06:06:47.088Z"
   },
   {
    "duration": 154,
    "start_time": "2023-03-01T06:07:06.558Z"
   },
   {
    "duration": 163,
    "start_time": "2023-03-01T06:07:23.361Z"
   },
   {
    "duration": 14,
    "start_time": "2023-03-01T06:07:47.500Z"
   },
   {
    "duration": 19,
    "start_time": "2023-03-01T06:08:46.957Z"
   },
   {
    "duration": 13,
    "start_time": "2023-03-01T06:08:59.660Z"
   },
   {
    "duration": 11,
    "start_time": "2023-03-01T06:10:20.779Z"
   },
   {
    "duration": 12,
    "start_time": "2023-03-01T06:10:27.223Z"
   },
   {
    "duration": 6,
    "start_time": "2023-03-01T06:11:15.006Z"
   },
   {
    "duration": 12,
    "start_time": "2023-03-01T06:11:23.504Z"
   },
   {
    "duration": 156,
    "start_time": "2023-03-01T06:11:41.725Z"
   },
   {
    "duration": 17,
    "start_time": "2023-03-01T06:12:01.260Z"
   },
   {
    "duration": 187,
    "start_time": "2023-03-01T06:13:09.454Z"
   },
   {
    "duration": 180,
    "start_time": "2023-03-01T06:15:30.841Z"
   },
   {
    "duration": 154,
    "start_time": "2023-03-01T06:15:35.177Z"
   },
   {
    "duration": 145,
    "start_time": "2023-03-01T06:15:44.845Z"
   },
   {
    "duration": 168,
    "start_time": "2023-03-01T06:15:50.078Z"
   },
   {
    "duration": 376,
    "start_time": "2023-03-01T06:16:13.662Z"
   },
   {
    "duration": 333,
    "start_time": "2023-03-01T06:17:12.245Z"
   },
   {
    "duration": 160,
    "start_time": "2023-03-01T06:43:41.370Z"
   },
   {
    "duration": 168,
    "start_time": "2023-03-01T06:43:43.929Z"
   },
   {
    "duration": 148,
    "start_time": "2023-03-01T06:43:54.734Z"
   },
   {
    "duration": 154,
    "start_time": "2023-03-01T06:43:57.611Z"
   },
   {
    "duration": 216,
    "start_time": "2023-03-01T06:47:50.064Z"
   },
   {
    "duration": 229,
    "start_time": "2023-03-01T06:48:03.915Z"
   },
   {
    "duration": 153,
    "start_time": "2023-03-01T06:48:15.048Z"
   },
   {
    "duration": 167,
    "start_time": "2023-03-01T06:48:19.104Z"
   },
   {
    "duration": 212,
    "start_time": "2023-03-01T06:48:21.041Z"
   },
   {
    "duration": 226,
    "start_time": "2023-03-01T06:48:36.354Z"
   },
   {
    "duration": 207,
    "start_time": "2023-03-01T06:48:52.540Z"
   },
   {
    "duration": 212,
    "start_time": "2023-03-01T06:49:01.377Z"
   },
   {
    "duration": 197,
    "start_time": "2023-03-01T06:49:24.265Z"
   },
   {
    "duration": 73,
    "start_time": "2023-03-01T07:02:58.291Z"
   },
   {
    "duration": 9,
    "start_time": "2023-03-01T07:03:01.029Z"
   },
   {
    "duration": 14,
    "start_time": "2023-03-01T07:03:10.928Z"
   },
   {
    "duration": 19,
    "start_time": "2023-03-01T07:03:34.413Z"
   },
   {
    "duration": 25,
    "start_time": "2023-03-01T07:03:51.913Z"
   },
   {
    "duration": 20,
    "start_time": "2023-03-01T07:04:14.505Z"
   },
   {
    "duration": 10,
    "start_time": "2023-03-01T07:04:18.695Z"
   },
   {
    "duration": 19,
    "start_time": "2023-03-01T07:04:38.260Z"
   },
   {
    "duration": 9,
    "start_time": "2023-03-01T07:04:40.375Z"
   },
   {
    "duration": 3,
    "start_time": "2023-03-01T07:05:02.063Z"
   },
   {
    "duration": 9,
    "start_time": "2023-03-01T07:05:06.768Z"
   },
   {
    "duration": 4,
    "start_time": "2023-03-01T07:05:18.730Z"
   },
   {
    "duration": 3,
    "start_time": "2023-03-01T07:11:05.053Z"
   },
   {
    "duration": 1170,
    "start_time": "2023-03-01T07:11:32.029Z"
   },
   {
    "duration": 5,
    "start_time": "2023-03-01T07:12:01.152Z"
   },
   {
    "duration": 232,
    "start_time": "2023-03-01T07:12:03.419Z"
   },
   {
    "duration": 4,
    "start_time": "2023-03-01T07:12:31.186Z"
   },
   {
    "duration": 1221,
    "start_time": "2023-03-01T07:12:33.169Z"
   },
   {
    "duration": 5,
    "start_time": "2023-03-01T07:12:41.496Z"
   },
   {
    "duration": 227,
    "start_time": "2023-03-01T07:12:43.552Z"
   },
   {
    "duration": 4,
    "start_time": "2023-03-01T07:13:19.852Z"
   },
   {
    "duration": 235,
    "start_time": "2023-03-01T07:13:21.537Z"
   },
   {
    "duration": 5,
    "start_time": "2023-03-01T07:13:29.070Z"
   },
   {
    "duration": 5,
    "start_time": "2023-03-01T07:14:17.994Z"
   },
   {
    "duration": 256,
    "start_time": "2023-03-01T07:14:19.513Z"
   },
   {
    "duration": 4,
    "start_time": "2023-03-01T07:14:39.417Z"
   },
   {
    "duration": 4,
    "start_time": "2023-03-01T07:14:47.188Z"
   },
   {
    "duration": 220,
    "start_time": "2023-03-01T07:14:48.824Z"
   },
   {
    "duration": 71,
    "start_time": "2023-03-01T07:15:22.361Z"
   },
   {
    "duration": 4,
    "start_time": "2023-03-01T07:15:31.390Z"
   },
   {
    "duration": 75,
    "start_time": "2023-03-01T07:16:19.058Z"
   },
   {
    "duration": 4,
    "start_time": "2023-03-01T07:16:41.057Z"
   },
   {
    "duration": 320,
    "start_time": "2023-03-01T07:17:06.984Z"
   },
   {
    "duration": 155,
    "start_time": "2023-03-01T07:17:52.448Z"
   },
   {
    "duration": 164,
    "start_time": "2023-03-01T07:18:26.120Z"
   },
   {
    "duration": 4,
    "start_time": "2023-03-01T07:20:01.687Z"
   },
   {
    "duration": 4,
    "start_time": "2023-03-01T07:20:20.749Z"
   },
   {
    "duration": 7,
    "start_time": "2023-03-01T07:20:31.059Z"
   },
   {
    "duration": 4,
    "start_time": "2023-03-01T07:20:44.173Z"
   },
   {
    "duration": 158,
    "start_time": "2023-03-01T07:20:50.527Z"
   },
   {
    "duration": 150,
    "start_time": "2023-03-01T07:20:53.144Z"
   },
   {
    "duration": 238,
    "start_time": "2023-03-01T07:21:43.709Z"
   },
   {
    "duration": 267,
    "start_time": "2023-03-01T07:22:05.370Z"
   },
   {
    "duration": 213,
    "start_time": "2023-03-01T07:22:28.551Z"
   },
   {
    "duration": 4,
    "start_time": "2023-03-01T07:23:54.198Z"
   },
   {
    "duration": 170,
    "start_time": "2023-03-01T07:23:56.432Z"
   },
   {
    "duration": 163,
    "start_time": "2023-03-01T07:24:02.207Z"
   },
   {
    "duration": 166,
    "start_time": "2023-03-01T07:24:04.353Z"
   },
   {
    "duration": 224,
    "start_time": "2023-03-01T07:24:10.588Z"
   },
   {
    "duration": 219,
    "start_time": "2023-03-01T07:24:13.488Z"
   },
   {
    "duration": 292,
    "start_time": "2023-03-01T07:24:15.555Z"
   },
   {
    "duration": 269,
    "start_time": "2023-03-01T07:24:45.727Z"
   },
   {
    "duration": 157,
    "start_time": "2023-03-01T07:34:03.103Z"
   },
   {
    "duration": 187,
    "start_time": "2023-03-01T07:34:33.807Z"
   },
   {
    "duration": 158,
    "start_time": "2023-03-01T07:35:09.976Z"
   },
   {
    "duration": 170,
    "start_time": "2023-03-01T07:35:55.076Z"
   },
   {
    "duration": 161,
    "start_time": "2023-03-01T07:36:03.129Z"
   },
   {
    "duration": 161,
    "start_time": "2023-03-01T07:36:20.509Z"
   },
   {
    "duration": 198,
    "start_time": "2023-03-01T07:36:35.593Z"
   },
   {
    "duration": 346,
    "start_time": "2023-03-01T07:36:41.850Z"
   },
   {
    "duration": 217,
    "start_time": "2023-03-01T07:37:04.234Z"
   },
   {
    "duration": 217,
    "start_time": "2023-03-01T07:37:08.705Z"
   },
   {
    "duration": 159,
    "start_time": "2023-03-01T07:37:17.157Z"
   },
   {
    "duration": 201,
    "start_time": "2023-03-01T07:37:25.678Z"
   },
   {
    "duration": 178,
    "start_time": "2023-03-01T07:37:30.196Z"
   },
   {
    "duration": 155,
    "start_time": "2023-03-01T07:39:18.931Z"
   },
   {
    "duration": 161,
    "start_time": "2023-03-01T07:39:33.107Z"
   },
   {
    "duration": 192,
    "start_time": "2023-03-01T07:40:05.656Z"
   },
   {
    "duration": 150,
    "start_time": "2023-03-01T07:40:07.951Z"
   },
   {
    "duration": 120,
    "start_time": "2023-03-01T07:57:18.565Z"
   },
   {
    "duration": 258,
    "start_time": "2023-03-01T08:09:41.932Z"
   },
   {
    "duration": 197,
    "start_time": "2023-03-01T08:09:47.382Z"
   },
   {
    "duration": 82,
    "start_time": "2023-03-01T08:18:11.163Z"
   },
   {
    "duration": 72,
    "start_time": "2023-03-01T08:18:15.429Z"
   },
   {
    "duration": 13,
    "start_time": "2023-03-01T08:21:29.785Z"
   },
   {
    "duration": 15,
    "start_time": "2023-03-01T08:21:36.902Z"
   },
   {
    "duration": 13,
    "start_time": "2023-03-01T08:21:46.606Z"
   },
   {
    "duration": 2,
    "start_time": "2023-03-01T08:22:18.980Z"
   },
   {
    "duration": 13,
    "start_time": "2023-03-01T08:25:40.424Z"
   },
   {
    "duration": 13,
    "start_time": "2023-03-01T08:25:48.136Z"
   },
   {
    "duration": 9,
    "start_time": "2023-03-01T08:26:23.084Z"
   },
   {
    "duration": 5,
    "start_time": "2023-03-01T08:26:32.233Z"
   },
   {
    "duration": 4,
    "start_time": "2023-03-01T08:26:39.436Z"
   },
   {
    "duration": 12,
    "start_time": "2023-03-01T08:26:51.729Z"
   },
   {
    "duration": 4,
    "start_time": "2023-03-01T08:26:54.177Z"
   },
   {
    "duration": 19,
    "start_time": "2023-03-01T08:27:43.897Z"
   },
   {
    "duration": 13,
    "start_time": "2023-03-01T08:27:55.450Z"
   },
   {
    "duration": 12,
    "start_time": "2023-03-01T08:28:17.111Z"
   },
   {
    "duration": 12,
    "start_time": "2023-03-01T08:28:29.260Z"
   },
   {
    "duration": 7,
    "start_time": "2023-03-01T08:28:36.163Z"
   },
   {
    "duration": 4,
    "start_time": "2023-03-01T08:28:40.205Z"
   },
   {
    "duration": 5,
    "start_time": "2023-03-01T08:28:45.429Z"
   },
   {
    "duration": 15,
    "start_time": "2023-03-01T08:30:19.261Z"
   },
   {
    "duration": 77,
    "start_time": "2023-03-01T08:31:37.642Z"
   },
   {
    "duration": 97,
    "start_time": "2023-03-01T08:31:42.556Z"
   },
   {
    "duration": 71,
    "start_time": "2023-03-01T08:31:44.789Z"
   },
   {
    "duration": 88,
    "start_time": "2023-03-01T08:32:07.927Z"
   },
   {
    "duration": 82,
    "start_time": "2023-03-01T08:32:12.161Z"
   },
   {
    "duration": 99,
    "start_time": "2023-03-01T08:32:50.667Z"
   },
   {
    "duration": 14,
    "start_time": "2023-03-01T08:35:04.238Z"
   },
   {
    "duration": 13,
    "start_time": "2023-03-01T08:35:21.137Z"
   },
   {
    "duration": 13,
    "start_time": "2023-03-01T08:35:46.919Z"
   },
   {
    "duration": 14,
    "start_time": "2023-03-01T08:36:13.769Z"
   },
   {
    "duration": 14,
    "start_time": "2023-03-01T08:36:31.228Z"
   },
   {
    "duration": 15,
    "start_time": "2023-03-01T08:36:36.520Z"
   },
   {
    "duration": 15,
    "start_time": "2023-03-01T08:36:42.622Z"
   },
   {
    "duration": 11,
    "start_time": "2023-03-01T08:36:56.695Z"
   },
   {
    "duration": 12,
    "start_time": "2023-03-01T08:36:58.482Z"
   },
   {
    "duration": 13,
    "start_time": "2023-03-01T08:37:07.675Z"
   },
   {
    "duration": 3,
    "start_time": "2023-03-01T08:39:27.055Z"
   },
   {
    "duration": 7,
    "start_time": "2023-03-01T08:39:36.699Z"
   },
   {
    "duration": 7,
    "start_time": "2023-03-01T08:39:59.060Z"
   },
   {
    "duration": 12,
    "start_time": "2023-03-01T08:45:42.961Z"
   },
   {
    "duration": 5,
    "start_time": "2023-03-01T08:45:53.065Z"
   },
   {
    "duration": 4,
    "start_time": "2023-03-01T08:45:59.579Z"
   },
   {
    "duration": 15,
    "start_time": "2023-03-01T08:55:13.218Z"
   },
   {
    "duration": 18,
    "start_time": "2023-03-01T08:55:23.367Z"
   },
   {
    "duration": 78,
    "start_time": "2023-03-01T08:55:32.253Z"
   },
   {
    "duration": 13,
    "start_time": "2023-03-01T08:58:46.350Z"
   },
   {
    "duration": 15,
    "start_time": "2023-03-01T09:00:57.758Z"
   },
   {
    "duration": 5,
    "start_time": "2023-03-01T09:01:23.686Z"
   },
   {
    "duration": 5,
    "start_time": "2023-03-01T09:01:28.504Z"
   },
   {
    "duration": 15,
    "start_time": "2023-03-01T09:05:01.411Z"
   },
   {
    "duration": 205,
    "start_time": "2023-03-01T09:06:09.160Z"
   },
   {
    "duration": 204,
    "start_time": "2023-03-01T09:06:16.597Z"
   },
   {
    "duration": 195,
    "start_time": "2023-03-01T09:06:36.400Z"
   },
   {
    "duration": 193,
    "start_time": "2023-03-01T09:06:38.446Z"
   },
   {
    "duration": 85,
    "start_time": "2023-03-01T10:26:23.461Z"
   },
   {
    "duration": 44,
    "start_time": "2023-03-01T10:41:29.566Z"
   },
   {
    "duration": 16,
    "start_time": "2023-03-01T10:41:30.076Z"
   },
   {
    "duration": 3,
    "start_time": "2023-03-01T10:41:31.708Z"
   },
   {
    "duration": 9,
    "start_time": "2023-03-01T10:41:33.179Z"
   },
   {
    "duration": 7,
    "start_time": "2023-03-01T10:41:35.051Z"
   },
   {
    "duration": 5,
    "start_time": "2023-03-01T10:41:37.022Z"
   },
   {
    "duration": 6,
    "start_time": "2023-03-01T10:41:37.540Z"
   },
   {
    "duration": 8,
    "start_time": "2023-03-01T10:41:38.678Z"
   },
   {
    "duration": 7,
    "start_time": "2023-03-01T10:41:40.975Z"
   },
   {
    "duration": 3,
    "start_time": "2023-03-01T10:41:41.500Z"
   },
   {
    "duration": 12,
    "start_time": "2023-03-01T10:41:42.308Z"
   },
   {
    "duration": 205,
    "start_time": "2023-03-01T10:41:48.404Z"
   },
   {
    "duration": 387,
    "start_time": "2023-03-01T10:42:01.414Z"
   },
   {
    "duration": 7,
    "start_time": "2023-03-01T10:49:13.930Z"
   },
   {
    "duration": 14,
    "start_time": "2023-03-01T10:49:16.226Z"
   },
   {
    "duration": 544,
    "start_time": "2023-03-01T10:49:20.064Z"
   },
   {
    "duration": 73,
    "start_time": "2023-03-01T10:49:51.346Z"
   },
   {
    "duration": 217,
    "start_time": "2023-03-01T10:49:55.078Z"
   },
   {
    "duration": 69,
    "start_time": "2023-03-01T10:52:17.429Z"
   },
   {
    "duration": 185,
    "start_time": "2023-03-01T10:52:48.132Z"
   },
   {
    "duration": 10,
    "start_time": "2023-03-01T10:52:55.127Z"
   },
   {
    "duration": 4,
    "start_time": "2023-03-01T10:52:56.001Z"
   },
   {
    "duration": 360,
    "start_time": "2023-03-01T10:52:58.931Z"
   },
   {
    "duration": 487,
    "start_time": "2023-03-01T10:53:04.425Z"
   },
   {
    "duration": 362,
    "start_time": "2023-03-01T10:53:14.205Z"
   },
   {
    "duration": 465,
    "start_time": "2023-03-01T10:53:16.202Z"
   },
   {
    "duration": 139,
    "start_time": "2023-03-01T10:54:54.071Z"
   },
   {
    "duration": 14,
    "start_time": "2023-03-01T10:55:13.625Z"
   },
   {
    "duration": 4,
    "start_time": "2023-03-01T10:55:14.531Z"
   },
   {
    "duration": 8,
    "start_time": "2023-03-01T10:55:19.716Z"
   },
   {
    "duration": 203,
    "start_time": "2023-03-01T10:55:31.386Z"
   },
   {
    "duration": 180,
    "start_time": "2023-03-01T10:55:44.242Z"
   },
   {
    "duration": 26,
    "start_time": "2023-03-01T10:55:51.005Z"
   },
   {
    "duration": 200,
    "start_time": "2023-03-01T10:57:47.133Z"
   },
   {
    "duration": 348,
    "start_time": "2023-03-01T10:57:49.370Z"
   },
   {
    "duration": 284,
    "start_time": "2023-03-01T10:57:53.982Z"
   },
   {
    "duration": 197,
    "start_time": "2023-03-01T10:58:24.153Z"
   },
   {
    "duration": 10,
    "start_time": "2023-03-01T10:58:26.091Z"
   },
   {
    "duration": 204,
    "start_time": "2023-03-01T10:58:28.473Z"
   },
   {
    "duration": 9,
    "start_time": "2023-03-01T10:58:30.096Z"
   },
   {
    "duration": 165,
    "start_time": "2023-03-01T10:58:32.394Z"
   },
   {
    "duration": 11,
    "start_time": "2023-03-01T10:58:34.110Z"
   },
   {
    "duration": 214,
    "start_time": "2023-03-01T10:58:34.922Z"
   },
   {
    "duration": 12,
    "start_time": "2023-03-01T10:58:36.573Z"
   },
   {
    "duration": 5,
    "start_time": "2023-03-01T10:59:35.360Z"
   },
   {
    "duration": 43,
    "start_time": "2023-03-01T10:59:44.479Z"
   },
   {
    "duration": 13,
    "start_time": "2023-03-01T10:59:45.258Z"
   },
   {
    "duration": 1180,
    "start_time": "2023-03-01T10:59:49.682Z"
   },
   {
    "duration": 3,
    "start_time": "2023-03-01T10:59:56.221Z"
   },
   {
    "duration": 6,
    "start_time": "2023-03-01T10:59:59.331Z"
   },
   {
    "duration": 81,
    "start_time": "2023-03-01T11:00:52.445Z"
   },
   {
    "duration": 4,
    "start_time": "2023-03-01T11:00:59.728Z"
   },
   {
    "duration": 11,
    "start_time": "2023-03-01T11:01:02.687Z"
   },
   {
    "duration": 6,
    "start_time": "2023-03-01T11:01:05.196Z"
   },
   {
    "duration": 4,
    "start_time": "2023-03-01T11:01:08.576Z"
   },
   {
    "duration": 6,
    "start_time": "2023-03-01T11:01:09.464Z"
   },
   {
    "duration": 6,
    "start_time": "2023-03-01T11:01:10.116Z"
   },
   {
    "duration": 4,
    "start_time": "2023-03-01T11:01:28.863Z"
   },
   {
    "duration": 12,
    "start_time": "2023-03-01T11:01:31.658Z"
   },
   {
    "duration": 5,
    "start_time": "2023-03-01T11:01:33.264Z"
   },
   {
    "duration": 47,
    "start_time": "2023-03-01T11:01:39.778Z"
   },
   {
    "duration": 3,
    "start_time": "2023-03-01T11:01:42.156Z"
   },
   {
    "duration": 9,
    "start_time": "2023-03-01T11:01:48.173Z"
   },
   {
    "duration": 7,
    "start_time": "2023-03-01T11:01:51.495Z"
   },
   {
    "duration": 3,
    "start_time": "2023-03-01T11:01:53.414Z"
   },
   {
    "duration": 12,
    "start_time": "2023-03-01T11:01:55.194Z"
   },
   {
    "duration": 6,
    "start_time": "2023-03-01T11:01:56.885Z"
   },
   {
    "duration": 5,
    "start_time": "2023-03-01T11:01:58.395Z"
   },
   {
    "duration": 5,
    "start_time": "2023-03-01T11:02:08.539Z"
   },
   {
    "duration": 6,
    "start_time": "2023-03-01T11:02:30.514Z"
   },
   {
    "duration": 7,
    "start_time": "2023-03-01T11:02:32.674Z"
   },
   {
    "duration": 3,
    "start_time": "2023-03-01T11:02:45.392Z"
   },
   {
    "duration": 49,
    "start_time": "2023-03-01T11:02:45.969Z"
   },
   {
    "duration": 15,
    "start_time": "2023-03-01T11:02:48.859Z"
   },
   {
    "duration": 15,
    "start_time": "2023-03-01T11:02:50.570Z"
   },
   {
    "duration": 4,
    "start_time": "2023-03-01T11:02:52.018Z"
   },
   {
    "duration": 9,
    "start_time": "2023-03-01T11:02:52.809Z"
   },
   {
    "duration": 10,
    "start_time": "2023-03-01T11:02:54.313Z"
   },
   {
    "duration": 5,
    "start_time": "2023-03-01T11:02:56.499Z"
   },
   {
    "duration": 6,
    "start_time": "2023-03-01T11:02:57.038Z"
   },
   {
    "duration": 8,
    "start_time": "2023-03-01T11:02:57.651Z"
   },
   {
    "duration": 5,
    "start_time": "2023-03-01T11:02:59.475Z"
   },
   {
    "duration": 7,
    "start_time": "2023-03-01T11:03:00.492Z"
   },
   {
    "duration": 3,
    "start_time": "2023-03-01T11:03:01.297Z"
   },
   {
    "duration": 12,
    "start_time": "2023-03-01T11:03:02.059Z"
   },
   {
    "duration": 17,
    "start_time": "2023-03-01T11:03:03.469Z"
   },
   {
    "duration": 9,
    "start_time": "2023-03-01T11:03:05.544Z"
   },
   {
    "duration": 3,
    "start_time": "2023-03-01T11:03:06.187Z"
   },
   {
    "duration": 6,
    "start_time": "2023-03-01T11:03:08.380Z"
   },
   {
    "duration": 19,
    "start_time": "2023-03-01T11:03:10.147Z"
   },
   {
    "duration": 281,
    "start_time": "2023-03-01T11:03:33.717Z"
   },
   {
    "duration": 241,
    "start_time": "2023-03-01T11:03:44.475Z"
   },
   {
    "duration": 234,
    "start_time": "2023-03-01T11:03:47.742Z"
   },
   {
    "duration": 260,
    "start_time": "2023-03-01T11:04:03.218Z"
   },
   {
    "duration": 261,
    "start_time": "2023-03-01T11:04:21.489Z"
   },
   {
    "duration": 234,
    "start_time": "2023-03-01T11:04:48.840Z"
   },
   {
    "duration": 235,
    "start_time": "2023-03-01T11:04:59.657Z"
   },
   {
    "duration": 273,
    "start_time": "2023-03-01T11:05:05.796Z"
   },
   {
    "duration": 237,
    "start_time": "2023-03-01T11:05:10.275Z"
   },
   {
    "duration": 259,
    "start_time": "2023-03-01T11:05:36.509Z"
   },
   {
    "duration": 412,
    "start_time": "2023-03-01T11:06:02.846Z"
   },
   {
    "duration": 263,
    "start_time": "2023-03-01T11:06:22.802Z"
   },
   {
    "duration": 242,
    "start_time": "2023-03-01T11:07:36.984Z"
   },
   {
    "duration": 259,
    "start_time": "2023-03-01T11:07:41.210Z"
   },
   {
    "duration": 240,
    "start_time": "2023-03-01T11:07:44.050Z"
   },
   {
    "duration": 255,
    "start_time": "2023-03-01T11:07:51.262Z"
   },
   {
    "duration": 75,
    "start_time": "2023-03-01T11:08:59.443Z"
   },
   {
    "duration": 4,
    "start_time": "2023-03-01T11:10:59.499Z"
   },
   {
    "duration": 10,
    "start_time": "2023-03-01T11:11:13.022Z"
   },
   {
    "duration": 167,
    "start_time": "2023-03-01T11:11:14.055Z"
   },
   {
    "duration": 201,
    "start_time": "2023-03-01T11:11:38.220Z"
   },
   {
    "duration": 173,
    "start_time": "2023-03-01T11:15:21.060Z"
   },
   {
    "duration": 232,
    "start_time": "2023-03-01T11:17:46.693Z"
   },
   {
    "duration": 251,
    "start_time": "2023-03-01T11:17:52.143Z"
   },
   {
    "duration": 236,
    "start_time": "2023-03-01T11:17:54.695Z"
   },
   {
    "duration": 4,
    "start_time": "2023-03-01T11:18:07.098Z"
   },
   {
    "duration": 216,
    "start_time": "2023-03-01T11:18:08.136Z"
   },
   {
    "duration": 172,
    "start_time": "2023-03-01T11:18:10.394Z"
   },
   {
    "duration": 186,
    "start_time": "2023-03-01T11:18:29.397Z"
   },
   {
    "duration": 243,
    "start_time": "2023-03-01T11:18:39.247Z"
   },
   {
    "duration": 189,
    "start_time": "2023-03-01T11:19:03.709Z"
   },
   {
    "duration": 195,
    "start_time": "2023-03-01T11:19:05.852Z"
   },
   {
    "duration": 5,
    "start_time": "2023-03-01T11:20:15.890Z"
   },
   {
    "duration": 157,
    "start_time": "2023-03-01T11:20:16.997Z"
   },
   {
    "duration": 348,
    "start_time": "2023-03-01T11:20:19.186Z"
   },
   {
    "duration": 167,
    "start_time": "2023-03-01T11:20:23.155Z"
   },
   {
    "duration": 5,
    "start_time": "2023-03-01T11:22:39.942Z"
   },
   {
    "duration": 156,
    "start_time": "2023-03-01T11:22:40.934Z"
   },
   {
    "duration": 169,
    "start_time": "2023-03-01T11:22:42.538Z"
   },
   {
    "duration": 178,
    "start_time": "2023-03-01T11:22:45.091Z"
   },
   {
    "duration": 4,
    "start_time": "2023-03-01T11:22:54.572Z"
   },
   {
    "duration": 159,
    "start_time": "2023-03-01T11:22:57.711Z"
   },
   {
    "duration": 5,
    "start_time": "2023-03-01T11:23:18.607Z"
   },
   {
    "duration": 183,
    "start_time": "2023-03-01T11:23:20.074Z"
   },
   {
    "duration": 170,
    "start_time": "2023-03-01T11:23:21.742Z"
   },
   {
    "duration": 166,
    "start_time": "2023-03-01T11:23:23.594Z"
   },
   {
    "duration": 5,
    "start_time": "2023-03-01T11:24:29.818Z"
   },
   {
    "duration": 174,
    "start_time": "2023-03-01T11:24:31.490Z"
   },
   {
    "duration": 5,
    "start_time": "2023-03-01T11:24:36.502Z"
   },
   {
    "duration": 170,
    "start_time": "2023-03-01T11:24:38.442Z"
   },
   {
    "duration": 6,
    "start_time": "2023-03-01T11:24:47.142Z"
   },
   {
    "duration": 153,
    "start_time": "2023-03-01T11:24:48.758Z"
   },
   {
    "duration": 4,
    "start_time": "2023-03-01T11:28:26.186Z"
   },
   {
    "duration": 184,
    "start_time": "2023-03-01T11:28:27.299Z"
   },
   {
    "duration": 6,
    "start_time": "2023-03-01T11:28:40.778Z"
   },
   {
    "duration": 168,
    "start_time": "2023-03-01T11:28:42.854Z"
   },
   {
    "duration": 4,
    "start_time": "2023-03-01T11:28:45.411Z"
   },
   {
    "duration": 171,
    "start_time": "2023-03-01T11:28:46.411Z"
   },
   {
    "duration": 112,
    "start_time": "2023-03-01T11:28:54.903Z"
   },
   {
    "duration": 4,
    "start_time": "2023-03-01T11:29:19.890Z"
   },
   {
    "duration": 162,
    "start_time": "2023-03-01T11:29:21.142Z"
   },
   {
    "duration": 5,
    "start_time": "2023-03-01T11:29:34.143Z"
   },
   {
    "duration": 161,
    "start_time": "2023-03-01T11:29:35.143Z"
   },
   {
    "duration": 4,
    "start_time": "2023-03-01T11:30:01.242Z"
   },
   {
    "duration": 163,
    "start_time": "2023-03-01T11:30:02.384Z"
   },
   {
    "duration": 177,
    "start_time": "2023-03-01T11:30:06.739Z"
   },
   {
    "duration": 165,
    "start_time": "2023-03-01T11:30:13.481Z"
   },
   {
    "duration": 744,
    "start_time": "2023-03-01T11:31:28.945Z"
   },
   {
    "duration": 5,
    "start_time": "2023-03-01T11:31:44.201Z"
   },
   {
    "duration": 563,
    "start_time": "2023-03-01T11:31:47.840Z"
   },
   {
    "duration": 411,
    "start_time": "2023-03-01T11:31:55.706Z"
   },
   {
    "duration": 77,
    "start_time": "2023-03-01T11:34:03.158Z"
   },
   {
    "duration": 589,
    "start_time": "2023-03-01T11:34:16.422Z"
   },
   {
    "duration": 4,
    "start_time": "2023-03-01T11:36:52.268Z"
   },
   {
    "duration": 174,
    "start_time": "2023-03-01T11:36:54.283Z"
   },
   {
    "duration": 4,
    "start_time": "2023-03-01T11:37:01.966Z"
   },
   {
    "duration": 174,
    "start_time": "2023-03-01T11:37:03.337Z"
   },
   {
    "duration": 591,
    "start_time": "2023-03-01T11:37:09.593Z"
   },
   {
    "duration": 555,
    "start_time": "2023-03-01T11:37:26.785Z"
   },
   {
    "duration": 248,
    "start_time": "2023-03-01T11:44:49.646Z"
   },
   {
    "duration": 272,
    "start_time": "2023-03-01T11:45:00.567Z"
   },
   {
    "duration": 747,
    "start_time": "2023-03-01T11:45:14.375Z"
   },
   {
    "duration": 751,
    "start_time": "2023-03-01T11:45:33.397Z"
   },
   {
    "duration": 4,
    "start_time": "2023-03-01T11:46:38.481Z"
   },
   {
    "duration": 156,
    "start_time": "2023-03-01T11:46:40.441Z"
   },
   {
    "duration": 528,
    "start_time": "2023-03-01T11:46:45.838Z"
   },
   {
    "duration": 478,
    "start_time": "2023-03-01T11:47:04.948Z"
   },
   {
    "duration": 4,
    "start_time": "2023-03-01T11:47:29.542Z"
   },
   {
    "duration": 481,
    "start_time": "2023-03-01T11:47:30.761Z"
   },
   {
    "duration": 5,
    "start_time": "2023-03-01T11:47:36.372Z"
   },
   {
    "duration": 468,
    "start_time": "2023-03-01T11:47:37.368Z"
   },
   {
    "duration": 5,
    "start_time": "2023-03-01T11:47:45.153Z"
   },
   {
    "duration": 436,
    "start_time": "2023-03-01T11:47:46.884Z"
   },
   {
    "duration": 4,
    "start_time": "2023-03-01T11:47:51.437Z"
   },
   {
    "duration": 644,
    "start_time": "2023-03-01T11:47:52.581Z"
   },
   {
    "duration": 4,
    "start_time": "2023-03-01T11:48:00.791Z"
   },
   {
    "duration": 431,
    "start_time": "2023-03-01T11:48:01.739Z"
   },
   {
    "duration": 5,
    "start_time": "2023-03-01T11:48:09.240Z"
   },
   {
    "duration": 501,
    "start_time": "2023-03-01T11:48:10.139Z"
   },
   {
    "duration": 7,
    "start_time": "2023-03-01T11:50:09.072Z"
   },
   {
    "duration": 526,
    "start_time": "2023-03-01T11:50:10.060Z"
   },
   {
    "duration": 266,
    "start_time": "2023-03-01T11:50:33.747Z"
   },
   {
    "duration": 309,
    "start_time": "2023-03-01T11:50:35.542Z"
   },
   {
    "duration": 461,
    "start_time": "2023-03-01T11:50:41.842Z"
   },
   {
    "duration": 4,
    "start_time": "2023-03-01T11:51:08.113Z"
   },
   {
    "duration": 477,
    "start_time": "2023-03-01T11:51:09.490Z"
   },
   {
    "duration": 444,
    "start_time": "2023-03-01T11:51:15.838Z"
   },
   {
    "duration": 228,
    "start_time": "2023-03-01T11:51:32.852Z"
   },
   {
    "duration": 4,
    "start_time": "2023-03-01T11:57:47.103Z"
   },
   {
    "duration": 699,
    "start_time": "2023-03-01T11:57:49.042Z"
   },
   {
    "duration": 513,
    "start_time": "2023-03-01T11:58:22.661Z"
   },
   {
    "duration": 4,
    "start_time": "2023-03-01T11:59:30.518Z"
   },
   {
    "duration": 533,
    "start_time": "2023-03-01T11:59:32.317Z"
   },
   {
    "duration": 4,
    "start_time": "2023-03-01T12:00:26.040Z"
   },
   {
    "duration": 508,
    "start_time": "2023-03-01T12:00:28.291Z"
   },
   {
    "duration": 4,
    "start_time": "2023-03-01T12:00:49.011Z"
   },
   {
    "duration": 511,
    "start_time": "2023-03-01T12:00:50.603Z"
   },
   {
    "duration": 466,
    "start_time": "2023-03-01T12:01:46.792Z"
   },
   {
    "duration": 457,
    "start_time": "2023-03-01T12:02:44.906Z"
   },
   {
    "duration": 211,
    "start_time": "2023-03-01T12:02:48.306Z"
   },
   {
    "duration": 156,
    "start_time": "2023-03-01T12:11:37.200Z"
   },
   {
    "duration": 167,
    "start_time": "2023-03-01T12:11:39.974Z"
   },
   {
    "duration": 188,
    "start_time": "2023-03-01T12:11:42.243Z"
   },
   {
    "duration": 4,
    "start_time": "2023-03-01T12:12:39.401Z"
   },
   {
    "duration": 3,
    "start_time": "2023-03-01T12:12:48.442Z"
   },
   {
    "duration": 68,
    "start_time": "2023-03-01T12:12:52.811Z"
   },
   {
    "duration": 14,
    "start_time": "2023-03-01T12:12:52.882Z"
   },
   {
    "duration": 21,
    "start_time": "2023-03-01T12:12:52.897Z"
   },
   {
    "duration": 13,
    "start_time": "2023-03-01T12:12:52.920Z"
   },
   {
    "duration": 30,
    "start_time": "2023-03-01T12:12:52.935Z"
   },
   {
    "duration": 6,
    "start_time": "2023-03-01T12:12:52.967Z"
   },
   {
    "duration": 10,
    "start_time": "2023-03-01T12:12:52.975Z"
   },
   {
    "duration": 7,
    "start_time": "2023-03-01T12:12:52.987Z"
   },
   {
    "duration": 6,
    "start_time": "2023-03-01T12:12:52.996Z"
   },
   {
    "duration": 9,
    "start_time": "2023-03-01T12:12:53.005Z"
   },
   {
    "duration": 43,
    "start_time": "2023-03-01T12:12:53.016Z"
   },
   {
    "duration": 13,
    "start_time": "2023-03-01T12:12:53.061Z"
   },
   {
    "duration": 5,
    "start_time": "2023-03-01T12:12:53.075Z"
   },
   {
    "duration": 15,
    "start_time": "2023-03-01T12:12:53.082Z"
   },
   {
    "duration": 20,
    "start_time": "2023-03-01T12:12:53.098Z"
   },
   {
    "duration": 9,
    "start_time": "2023-03-01T12:12:53.121Z"
   },
   {
    "duration": 25,
    "start_time": "2023-03-01T12:12:53.132Z"
   },
   {
    "duration": 5,
    "start_time": "2023-03-01T12:12:53.159Z"
   },
   {
    "duration": 19,
    "start_time": "2023-03-01T12:12:53.166Z"
   },
   {
    "duration": 23,
    "start_time": "2023-03-01T12:12:53.187Z"
   },
   {
    "duration": 230,
    "start_time": "2023-03-01T12:12:53.212Z"
   },
   {
    "duration": 425,
    "start_time": "2023-03-01T12:12:53.444Z"
   },
   {
    "duration": 17,
    "start_time": "2023-03-01T12:12:53.871Z"
   },
   {
    "duration": 17,
    "start_time": "2023-03-01T12:12:53.890Z"
   },
   {
    "duration": 49,
    "start_time": "2023-03-01T12:12:53.909Z"
   },
   {
    "duration": 457,
    "start_time": "2023-03-01T12:12:53.960Z"
   },
   {
    "duration": 488,
    "start_time": "2023-03-01T12:12:54.419Z"
   },
   {
    "duration": 436,
    "start_time": "2023-03-01T12:12:54.911Z"
   },
   {
    "duration": 13,
    "start_time": "2023-03-01T12:12:55.349Z"
   },
   {
    "duration": 13,
    "start_time": "2023-03-01T12:12:55.363Z"
   },
   {
    "duration": 21,
    "start_time": "2023-03-01T12:12:55.377Z"
   },
   {
    "duration": 309,
    "start_time": "2023-03-01T12:12:55.400Z"
   },
   {
    "duration": 235,
    "start_time": "2023-03-01T12:12:55.711Z"
   },
   {
    "duration": 28,
    "start_time": "2023-03-01T12:12:55.948Z"
   },
   {
    "duration": 334,
    "start_time": "2023-03-01T12:12:55.978Z"
   },
   {
    "duration": 202,
    "start_time": "2023-03-01T12:12:56.313Z"
   },
   {
    "duration": 12,
    "start_time": "2023-03-01T12:12:56.522Z"
   },
   {
    "duration": 231,
    "start_time": "2023-03-01T12:12:56.535Z"
   },
   {
    "duration": 10,
    "start_time": "2023-03-01T12:12:56.767Z"
   },
   {
    "duration": 197,
    "start_time": "2023-03-01T12:12:56.779Z"
   },
   {
    "duration": 10,
    "start_time": "2023-03-01T12:12:56.978Z"
   },
   {
    "duration": 246,
    "start_time": "2023-03-01T12:12:56.990Z"
   },
   {
    "duration": 11,
    "start_time": "2023-03-01T12:12:57.239Z"
   },
   {
    "duration": 446,
    "start_time": "2023-03-01T12:12:57.252Z"
   },
   {
    "duration": 4,
    "start_time": "2023-03-01T12:12:57.700Z"
   },
   {
    "duration": 589,
    "start_time": "2023-03-01T12:12:57.706Z"
   },
   {
    "duration": 451,
    "start_time": "2023-03-01T12:12:58.297Z"
   },
   {
    "duration": 235,
    "start_time": "2023-03-01T12:12:58.750Z"
   },
   {
    "duration": 174,
    "start_time": "2023-03-01T12:12:58.987Z"
   },
   {
    "duration": 191,
    "start_time": "2023-03-01T12:12:59.163Z"
   },
   {
    "duration": 200,
    "start_time": "2023-03-01T12:12:59.357Z"
   },
   {
    "duration": 6,
    "start_time": "2023-03-01T12:12:59.560Z"
   },
   {
    "duration": 21,
    "start_time": "2023-03-01T12:12:59.568Z"
   },
   {
    "duration": 36,
    "start_time": "2023-03-01T12:12:59.591Z"
   },
   {
    "duration": 486,
    "start_time": "2023-03-01T12:13:23.129Z"
   },
   {
    "duration": 330,
    "start_time": "2023-03-01T12:13:46.347Z"
   },
   {
    "duration": 5,
    "start_time": "2023-03-01T12:16:33.046Z"
   },
   {
    "duration": 4,
    "start_time": "2023-03-01T12:16:41.635Z"
   },
   {
    "duration": 57,
    "start_time": "2023-03-01T12:16:45.295Z"
   },
   {
    "duration": 16,
    "start_time": "2023-03-01T12:16:45.355Z"
   },
   {
    "duration": 17,
    "start_time": "2023-03-01T12:16:45.374Z"
   },
   {
    "duration": 29,
    "start_time": "2023-03-01T12:16:45.393Z"
   },
   {
    "duration": 12,
    "start_time": "2023-03-01T12:16:45.425Z"
   },
   {
    "duration": 6,
    "start_time": "2023-03-01T12:16:45.439Z"
   },
   {
    "duration": 26,
    "start_time": "2023-03-01T12:16:45.447Z"
   },
   {
    "duration": 55,
    "start_time": "2023-03-01T12:16:45.475Z"
   },
   {
    "duration": 25,
    "start_time": "2023-03-01T12:16:45.532Z"
   },
   {
    "duration": 34,
    "start_time": "2023-03-01T12:16:45.560Z"
   },
   {
    "duration": 20,
    "start_time": "2023-03-01T12:16:45.597Z"
   },
   {
    "duration": 16,
    "start_time": "2023-03-01T12:16:45.620Z"
   },
   {
    "duration": 14,
    "start_time": "2023-03-01T12:16:45.638Z"
   },
   {
    "duration": 22,
    "start_time": "2023-03-01T12:16:45.658Z"
   },
   {
    "duration": 26,
    "start_time": "2023-03-01T12:16:45.682Z"
   },
   {
    "duration": 9,
    "start_time": "2023-03-01T12:16:45.713Z"
   },
   {
    "duration": 6,
    "start_time": "2023-03-01T12:16:45.725Z"
   },
   {
    "duration": 8,
    "start_time": "2023-03-01T12:16:45.733Z"
   },
   {
    "duration": 14,
    "start_time": "2023-03-01T12:16:45.743Z"
   },
   {
    "duration": 33,
    "start_time": "2023-03-01T12:16:45.759Z"
   },
   {
    "duration": 230,
    "start_time": "2023-03-01T12:16:45.794Z"
   },
   {
    "duration": 199,
    "start_time": "2023-03-01T12:16:46.026Z"
   },
   {
    "duration": 15,
    "start_time": "2023-03-01T12:16:46.227Z"
   },
   {
    "duration": 13,
    "start_time": "2023-03-01T12:16:46.243Z"
   },
   {
    "duration": 10,
    "start_time": "2023-03-01T12:16:46.257Z"
   },
   {
    "duration": 409,
    "start_time": "2023-03-01T12:16:46.269Z"
   },
   {
    "duration": 666,
    "start_time": "2023-03-01T12:16:46.680Z"
   },
   {
    "duration": 453,
    "start_time": "2023-03-01T12:16:47.348Z"
   },
   {
    "duration": 25,
    "start_time": "2023-03-01T12:16:47.804Z"
   },
   {
    "duration": 8,
    "start_time": "2023-03-01T12:16:47.832Z"
   },
   {
    "duration": 10,
    "start_time": "2023-03-01T12:16:47.842Z"
   },
   {
    "duration": 269,
    "start_time": "2023-03-01T12:16:47.854Z"
   },
   {
    "duration": 201,
    "start_time": "2023-03-01T12:16:48.125Z"
   },
   {
    "duration": 31,
    "start_time": "2023-03-01T12:16:48.328Z"
   },
   {
    "duration": 331,
    "start_time": "2023-03-01T12:16:48.361Z"
   },
   {
    "duration": 190,
    "start_time": "2023-03-01T12:16:48.694Z"
   },
   {
    "duration": 12,
    "start_time": "2023-03-01T12:16:48.887Z"
   },
   {
    "duration": 235,
    "start_time": "2023-03-01T12:16:48.901Z"
   },
   {
    "duration": 10,
    "start_time": "2023-03-01T12:16:49.137Z"
   },
   {
    "duration": 190,
    "start_time": "2023-03-01T12:16:49.149Z"
   },
   {
    "duration": 10,
    "start_time": "2023-03-01T12:16:49.344Z"
   },
   {
    "duration": 220,
    "start_time": "2023-03-01T12:16:49.356Z"
   },
   {
    "duration": 14,
    "start_time": "2023-03-01T12:16:49.579Z"
   },
   {
    "duration": 273,
    "start_time": "2023-03-01T12:16:49.595Z"
   },
   {
    "duration": 4,
    "start_time": "2023-03-01T12:16:49.870Z"
   },
   {
    "duration": 503,
    "start_time": "2023-03-01T12:16:49.875Z"
   },
   {
    "duration": 450,
    "start_time": "2023-03-01T12:16:50.380Z"
   },
   {
    "duration": 244,
    "start_time": "2023-03-01T12:16:50.832Z"
   },
   {
    "duration": 556,
    "start_time": "2023-03-01T12:16:51.077Z"
   },
   {
    "duration": 177,
    "start_time": "2023-03-01T12:16:51.634Z"
   },
   {
    "duration": 10,
    "start_time": "2023-03-01T12:16:51.813Z"
   },
   {
    "duration": 22,
    "start_time": "2023-03-01T12:16:51.824Z"
   },
   {
    "duration": 34,
    "start_time": "2023-03-01T12:16:51.848Z"
   },
   {
    "duration": 326,
    "start_time": "2023-03-01T12:18:08.598Z"
   },
   {
    "duration": 3,
    "start_time": "2023-03-01T12:18:19.607Z"
   },
   {
    "duration": 8,
    "start_time": "2023-03-01T12:18:20.410Z"
   },
   {
    "duration": 7,
    "start_time": "2023-03-01T12:18:21.765Z"
   },
   {
    "duration": 2,
    "start_time": "2023-03-01T12:18:26.601Z"
   },
   {
    "duration": 45,
    "start_time": "2023-03-01T12:18:28.704Z"
   },
   {
    "duration": 14,
    "start_time": "2023-03-01T12:18:28.752Z"
   },
   {
    "duration": 27,
    "start_time": "2023-03-01T12:18:28.768Z"
   },
   {
    "duration": 4,
    "start_time": "2023-03-01T12:18:28.797Z"
   },
   {
    "duration": 9,
    "start_time": "2023-03-01T12:18:28.823Z"
   },
   {
    "duration": 21,
    "start_time": "2023-03-01T12:18:28.834Z"
   },
   {
    "duration": 14,
    "start_time": "2023-03-01T12:18:28.858Z"
   },
   {
    "duration": 13,
    "start_time": "2023-03-01T12:18:28.874Z"
   },
   {
    "duration": 9,
    "start_time": "2023-03-01T12:18:28.889Z"
   },
   {
    "duration": 13,
    "start_time": "2023-03-01T12:18:28.900Z"
   },
   {
    "duration": 11,
    "start_time": "2023-03-01T12:18:28.914Z"
   },
   {
    "duration": 34,
    "start_time": "2023-03-01T12:18:28.926Z"
   },
   {
    "duration": 5,
    "start_time": "2023-03-01T12:18:28.962Z"
   },
   {
    "duration": 15,
    "start_time": "2023-03-01T12:18:28.970Z"
   },
   {
    "duration": 19,
    "start_time": "2023-03-01T12:18:28.987Z"
   },
   {
    "duration": 9,
    "start_time": "2023-03-01T12:18:29.007Z"
   },
   {
    "duration": 8,
    "start_time": "2023-03-01T12:18:29.017Z"
   },
   {
    "duration": 18,
    "start_time": "2023-03-01T12:18:29.027Z"
   },
   {
    "duration": 12,
    "start_time": "2023-03-01T12:18:29.047Z"
   },
   {
    "duration": 26,
    "start_time": "2023-03-01T12:18:29.060Z"
   },
   {
    "duration": 203,
    "start_time": "2023-03-01T12:18:29.088Z"
   },
   {
    "duration": 192,
    "start_time": "2023-03-01T12:18:29.293Z"
   },
   {
    "duration": 14,
    "start_time": "2023-03-01T12:18:29.487Z"
   },
   {
    "duration": 20,
    "start_time": "2023-03-01T12:18:29.503Z"
   },
   {
    "duration": 4,
    "start_time": "2023-03-01T12:18:29.524Z"
   },
   {
    "duration": 394,
    "start_time": "2023-03-01T12:18:29.530Z"
   },
   {
    "duration": 477,
    "start_time": "2023-03-01T12:18:29.925Z"
   },
   {
    "duration": 403,
    "start_time": "2023-03-01T12:18:30.404Z"
   },
   {
    "duration": 20,
    "start_time": "2023-03-01T12:18:30.808Z"
   },
   {
    "duration": 55,
    "start_time": "2023-03-01T12:18:30.830Z"
   },
   {
    "duration": 40,
    "start_time": "2023-03-01T12:18:30.887Z"
   },
   {
    "duration": 250,
    "start_time": "2023-03-01T12:18:30.929Z"
   },
   {
    "duration": 201,
    "start_time": "2023-03-01T12:18:31.181Z"
   },
   {
    "duration": 39,
    "start_time": "2023-03-01T12:18:31.384Z"
   },
   {
    "duration": 488,
    "start_time": "2023-03-01T12:18:31.424Z"
   },
   {
    "duration": 210,
    "start_time": "2023-03-01T12:18:31.914Z"
   },
   {
    "duration": 10,
    "start_time": "2023-03-01T12:18:32.125Z"
   },
   {
    "duration": 207,
    "start_time": "2023-03-01T12:18:32.137Z"
   },
   {
    "duration": 9,
    "start_time": "2023-03-01T12:18:32.345Z"
   },
   {
    "duration": 176,
    "start_time": "2023-03-01T12:18:32.356Z"
   },
   {
    "duration": 9,
    "start_time": "2023-03-01T12:18:32.535Z"
   },
   {
    "duration": 210,
    "start_time": "2023-03-01T12:18:32.546Z"
   },
   {
    "duration": 10,
    "start_time": "2023-03-01T12:18:32.757Z"
   },
   {
    "duration": 370,
    "start_time": "2023-03-01T12:18:32.769Z"
   },
   {
    "duration": 6,
    "start_time": "2023-03-01T12:18:33.141Z"
   },
   {
    "duration": 519,
    "start_time": "2023-03-01T12:18:33.149Z"
   },
   {
    "duration": 461,
    "start_time": "2023-03-01T12:18:33.669Z"
   },
   {
    "duration": 206,
    "start_time": "2023-03-01T12:18:34.132Z"
   },
   {
    "duration": 314,
    "start_time": "2023-03-01T12:18:34.340Z"
   },
   {
    "duration": 170,
    "start_time": "2023-03-01T12:18:34.656Z"
   },
   {
    "duration": 2,
    "start_time": "2023-03-01T12:18:34.828Z"
   },
   {
    "duration": 49,
    "start_time": "2023-03-01T12:18:34.832Z"
   },
   {
    "duration": 60,
    "start_time": "2023-03-01T12:18:34.883Z"
   },
   {
    "duration": 4,
    "start_time": "2023-03-01T12:18:56.364Z"
   },
   {
    "duration": 484,
    "start_time": "2023-03-01T12:18:57.682Z"
   },
   {
    "duration": 437,
    "start_time": "2023-03-01T12:19:02.132Z"
   },
   {
    "duration": 334,
    "start_time": "2023-03-01T12:19:07.906Z"
   },
   {
    "duration": 164,
    "start_time": "2023-03-01T12:19:42.510Z"
   },
   {
    "duration": 6,
    "start_time": "2023-03-01T12:19:50.116Z"
   },
   {
    "duration": 640,
    "start_time": "2023-03-01T12:19:50.945Z"
   },
   {
    "duration": 430,
    "start_time": "2023-03-01T12:19:53.829Z"
   },
   {
    "duration": 5,
    "start_time": "2023-03-01T12:19:59.172Z"
   },
   {
    "duration": 461,
    "start_time": "2023-03-01T12:20:00.093Z"
   },
   {
    "duration": 406,
    "start_time": "2023-03-01T12:20:03.092Z"
   },
   {
    "duration": 196,
    "start_time": "2023-03-01T12:20:07.647Z"
   },
   {
    "duration": 307,
    "start_time": "2023-03-01T12:20:09.956Z"
   },
   {
    "duration": 153,
    "start_time": "2023-03-01T12:20:13.542Z"
   },
   {
    "duration": 9,
    "start_time": "2023-03-01T15:18:10.494Z"
   },
   {
    "duration": 3,
    "start_time": "2023-03-01T15:18:22.400Z"
   },
   {
    "duration": 44,
    "start_time": "2023-03-01T15:19:00.092Z"
   },
   {
    "duration": 1252,
    "start_time": "2023-03-01T15:19:08.949Z"
   },
   {
    "duration": 190,
    "start_time": "2023-03-01T15:19:12.367Z"
   },
   {
    "duration": 18,
    "start_time": "2023-03-01T15:19:12.559Z"
   },
   {
    "duration": 14,
    "start_time": "2023-03-01T15:19:12.579Z"
   },
   {
    "duration": 3,
    "start_time": "2023-03-01T15:19:12.596Z"
   },
   {
    "duration": 10,
    "start_time": "2023-03-01T15:19:12.600Z"
   },
   {
    "duration": 2,
    "start_time": "2023-03-01T15:19:12.612Z"
   },
   {
    "duration": 11,
    "start_time": "2023-03-01T15:19:12.616Z"
   },
   {
    "duration": 5,
    "start_time": "2023-03-01T15:19:12.629Z"
   },
   {
    "duration": 6,
    "start_time": "2023-03-01T15:19:12.636Z"
   },
   {
    "duration": 6,
    "start_time": "2023-03-01T15:19:12.645Z"
   },
   {
    "duration": 6,
    "start_time": "2023-03-01T15:19:12.653Z"
   },
   {
    "duration": 6,
    "start_time": "2023-03-01T15:19:12.661Z"
   },
   {
    "duration": 4,
    "start_time": "2023-03-01T15:19:12.669Z"
   },
   {
    "duration": 8,
    "start_time": "2023-03-01T15:19:12.703Z"
   },
   {
    "duration": 17,
    "start_time": "2023-03-01T15:19:12.712Z"
   },
   {
    "duration": 7,
    "start_time": "2023-03-01T15:19:12.731Z"
   },
   {
    "duration": 10,
    "start_time": "2023-03-01T15:19:12.739Z"
   },
   {
    "duration": 6,
    "start_time": "2023-03-01T15:19:12.751Z"
   },
   {
    "duration": 13,
    "start_time": "2023-03-01T15:19:12.758Z"
   },
   {
    "duration": 25,
    "start_time": "2023-03-01T15:19:12.772Z"
   },
   {
    "duration": 192,
    "start_time": "2023-03-01T15:19:12.799Z"
   },
   {
    "duration": 168,
    "start_time": "2023-03-01T15:19:12.993Z"
   },
   {
    "duration": 16,
    "start_time": "2023-03-01T15:19:13.162Z"
   },
   {
    "duration": 28,
    "start_time": "2023-03-01T15:19:13.179Z"
   },
   {
    "duration": 4,
    "start_time": "2023-03-01T15:19:13.208Z"
   },
   {
    "duration": 330,
    "start_time": "2023-03-01T15:19:13.214Z"
   },
   {
    "duration": 406,
    "start_time": "2023-03-01T15:19:13.546Z"
   },
   {
    "duration": 355,
    "start_time": "2023-03-01T15:19:13.955Z"
   },
   {
    "duration": 11,
    "start_time": "2023-03-01T15:19:14.311Z"
   },
   {
    "duration": 10,
    "start_time": "2023-03-01T15:19:14.324Z"
   },
   {
    "duration": 14,
    "start_time": "2023-03-01T15:19:14.335Z"
   },
   {
    "duration": 267,
    "start_time": "2023-03-01T15:19:14.350Z"
   },
   {
    "duration": 175,
    "start_time": "2023-03-01T15:19:14.619Z"
   },
   {
    "duration": 30,
    "start_time": "2023-03-01T15:19:14.795Z"
   },
   {
    "duration": 294,
    "start_time": "2023-03-01T15:19:14.827Z"
   },
   {
    "duration": 195,
    "start_time": "2023-03-01T15:19:15.122Z"
   },
   {
    "duration": 9,
    "start_time": "2023-03-01T15:19:15.318Z"
   },
   {
    "duration": 218,
    "start_time": "2023-03-01T15:19:15.329Z"
   },
   {
    "duration": 9,
    "start_time": "2023-03-01T15:19:15.549Z"
   },
   {
    "duration": 187,
    "start_time": "2023-03-01T15:19:15.560Z"
   },
   {
    "duration": 10,
    "start_time": "2023-03-01T15:19:15.748Z"
   },
   {
    "duration": 192,
    "start_time": "2023-03-01T15:19:15.760Z"
   },
   {
    "duration": 8,
    "start_time": "2023-03-01T15:19:15.954Z"
   },
   {
    "duration": 247,
    "start_time": "2023-03-01T15:19:15.964Z"
   },
   {
    "duration": 3,
    "start_time": "2023-03-01T15:19:16.213Z"
   },
   {
    "duration": 434,
    "start_time": "2023-03-01T15:19:16.218Z"
   },
   {
    "duration": 531,
    "start_time": "2023-03-01T15:19:16.654Z"
   },
   {
    "duration": 211,
    "start_time": "2023-03-01T15:19:17.187Z"
   },
   {
    "duration": 303,
    "start_time": "2023-03-01T15:19:17.403Z"
   },
   {
    "duration": 153,
    "start_time": "2023-03-01T15:19:17.708Z"
   },
   {
    "duration": 3,
    "start_time": "2023-03-01T15:19:17.863Z"
   },
   {
    "duration": 13,
    "start_time": "2023-03-01T15:19:17.868Z"
   },
   {
    "duration": 31,
    "start_time": "2023-03-01T15:19:17.882Z"
   },
   {
    "duration": 411,
    "start_time": "2023-03-01T15:19:47.638Z"
   },
   {
    "duration": 422,
    "start_time": "2023-03-01T15:20:59.269Z"
   },
   {
    "duration": 414,
    "start_time": "2023-03-01T15:21:03.291Z"
   },
   {
    "duration": 301,
    "start_time": "2023-03-01T15:21:07.015Z"
   },
   {
    "duration": 285,
    "start_time": "2023-03-01T15:21:44.778Z"
   },
   {
    "duration": 147,
    "start_time": "2023-03-01T15:21:56.402Z"
   },
   {
    "duration": 432,
    "start_time": "2023-03-01T15:22:03.951Z"
   },
   {
    "duration": 4,
    "start_time": "2023-03-01T15:38:53.102Z"
   },
   {
    "duration": 13,
    "start_time": "2023-03-01T15:38:54.048Z"
   },
   {
    "duration": 14,
    "start_time": "2023-03-01T15:39:01.708Z"
   },
   {
    "duration": 283,
    "start_time": "2023-03-01T15:41:25.860Z"
   },
   {
    "duration": 160,
    "start_time": "2023-03-01T15:41:30.092Z"
   },
   {
    "duration": 168,
    "start_time": "2023-03-01T15:57:32.254Z"
   },
   {
    "duration": 164,
    "start_time": "2023-03-01T15:57:36.301Z"
   },
   {
    "duration": 9,
    "start_time": "2023-03-01T15:57:47.655Z"
   },
   {
    "duration": 337,
    "start_time": "2023-03-01T15:57:49.309Z"
   },
   {
    "duration": 441,
    "start_time": "2023-03-01T15:57:54.749Z"
   },
   {
    "duration": 450,
    "start_time": "2023-03-01T15:57:59.967Z"
   },
   {
    "duration": 1213,
    "start_time": "2023-03-01T15:58:20.681Z"
   },
   {
    "duration": 50,
    "start_time": "2023-03-01T15:58:21.896Z"
   },
   {
    "duration": 17,
    "start_time": "2023-03-01T15:58:21.947Z"
   },
   {
    "duration": 13,
    "start_time": "2023-03-01T15:58:21.966Z"
   },
   {
    "duration": 3,
    "start_time": "2023-03-01T15:58:21.981Z"
   },
   {
    "duration": 11,
    "start_time": "2023-03-01T15:58:21.985Z"
   },
   {
    "duration": 7,
    "start_time": "2023-03-01T15:58:21.997Z"
   },
   {
    "duration": 10,
    "start_time": "2023-03-01T15:58:22.005Z"
   },
   {
    "duration": 6,
    "start_time": "2023-03-01T15:58:22.016Z"
   },
   {
    "duration": 11,
    "start_time": "2023-03-01T15:58:22.024Z"
   },
   {
    "duration": 10,
    "start_time": "2023-03-01T15:58:22.037Z"
   },
   {
    "duration": 7,
    "start_time": "2023-03-01T15:58:22.049Z"
   },
   {
    "duration": 11,
    "start_time": "2023-03-01T15:58:22.057Z"
   },
   {
    "duration": 4,
    "start_time": "2023-03-01T15:58:22.070Z"
   },
   {
    "duration": 10,
    "start_time": "2023-03-01T15:58:22.075Z"
   },
   {
    "duration": 28,
    "start_time": "2023-03-01T15:58:22.086Z"
   },
   {
    "duration": 7,
    "start_time": "2023-03-01T15:58:22.115Z"
   },
   {
    "duration": 4,
    "start_time": "2023-03-01T15:58:22.124Z"
   },
   {
    "duration": 5,
    "start_time": "2023-03-01T15:58:22.130Z"
   },
   {
    "duration": 7,
    "start_time": "2023-03-01T15:58:22.137Z"
   },
   {
    "duration": 16,
    "start_time": "2023-03-01T15:58:22.146Z"
   },
   {
    "duration": 194,
    "start_time": "2023-03-01T15:58:22.163Z"
   },
   {
    "duration": 169,
    "start_time": "2023-03-01T15:58:22.359Z"
   },
   {
    "duration": 12,
    "start_time": "2023-03-01T15:58:22.530Z"
   },
   {
    "duration": 4,
    "start_time": "2023-03-01T15:58:22.544Z"
   },
   {
    "duration": 345,
    "start_time": "2023-03-01T15:58:22.549Z"
   },
   {
    "duration": 426,
    "start_time": "2023-03-01T15:58:22.896Z"
   },
   {
    "duration": 359,
    "start_time": "2023-03-01T15:58:23.325Z"
   },
   {
    "duration": 21,
    "start_time": "2023-03-01T15:58:23.685Z"
   },
   {
    "duration": 4,
    "start_time": "2023-03-01T15:58:23.707Z"
   },
   {
    "duration": 8,
    "start_time": "2023-03-01T15:58:23.712Z"
   },
   {
    "duration": 275,
    "start_time": "2023-03-01T15:58:23.721Z"
   },
   {
    "duration": 194,
    "start_time": "2023-03-01T15:58:23.997Z"
   },
   {
    "duration": 32,
    "start_time": "2023-03-01T15:58:24.193Z"
   },
   {
    "duration": 282,
    "start_time": "2023-03-01T15:58:24.227Z"
   },
   {
    "duration": 190,
    "start_time": "2023-03-01T15:58:24.511Z"
   },
   {
    "duration": 8,
    "start_time": "2023-03-01T15:58:24.703Z"
   },
   {
    "duration": 195,
    "start_time": "2023-03-01T15:58:24.712Z"
   },
   {
    "duration": 8,
    "start_time": "2023-03-01T15:58:24.909Z"
   },
   {
    "duration": 178,
    "start_time": "2023-03-01T15:58:24.919Z"
   },
   {
    "duration": 10,
    "start_time": "2023-03-01T15:58:25.099Z"
   },
   {
    "duration": 198,
    "start_time": "2023-03-01T15:58:25.111Z"
   },
   {
    "duration": 10,
    "start_time": "2023-03-01T15:58:25.310Z"
   },
   {
    "duration": 242,
    "start_time": "2023-03-01T15:58:25.322Z"
   },
   {
    "duration": 4,
    "start_time": "2023-03-01T15:58:25.565Z"
   },
   {
    "duration": 443,
    "start_time": "2023-03-01T15:58:25.571Z"
   },
   {
    "duration": 482,
    "start_time": "2023-03-01T15:58:26.016Z"
   },
   {
    "duration": 260,
    "start_time": "2023-03-01T15:58:26.500Z"
   },
   {
    "duration": 356,
    "start_time": "2023-03-01T15:58:26.762Z"
   },
   {
    "duration": 161,
    "start_time": "2023-03-01T15:58:27.120Z"
   },
   {
    "duration": 4,
    "start_time": "2023-03-01T15:58:27.282Z"
   },
   {
    "duration": 25,
    "start_time": "2023-03-01T15:58:27.287Z"
   },
   {
    "duration": 13,
    "start_time": "2023-03-01T15:58:27.313Z"
   },
   {
    "duration": 60,
    "start_time": "2023-03-02T06:04:55.821Z"
   },
   {
    "duration": 1311,
    "start_time": "2023-03-02T06:05:11.489Z"
   },
   {
    "duration": 93,
    "start_time": "2023-03-02T06:05:12.802Z"
   },
   {
    "duration": 18,
    "start_time": "2023-03-02T06:05:12.897Z"
   },
   {
    "duration": 14,
    "start_time": "2023-03-02T06:05:12.917Z"
   },
   {
    "duration": 3,
    "start_time": "2023-03-02T06:05:12.933Z"
   },
   {
    "duration": 13,
    "start_time": "2023-03-02T06:05:12.937Z"
   },
   {
    "duration": 2,
    "start_time": "2023-03-02T06:05:12.952Z"
   },
   {
    "duration": 9,
    "start_time": "2023-03-02T06:05:12.955Z"
   },
   {
    "duration": 28,
    "start_time": "2023-03-02T06:05:12.966Z"
   },
   {
    "duration": 10,
    "start_time": "2023-03-02T06:05:12.997Z"
   },
   {
    "duration": 10,
    "start_time": "2023-03-02T06:05:13.008Z"
   },
   {
    "duration": 6,
    "start_time": "2023-03-02T06:05:13.020Z"
   },
   {
    "duration": 8,
    "start_time": "2023-03-02T06:05:13.028Z"
   },
   {
    "duration": 3,
    "start_time": "2023-03-02T06:05:13.037Z"
   },
   {
    "duration": 10,
    "start_time": "2023-03-02T06:05:13.041Z"
   },
   {
    "duration": 39,
    "start_time": "2023-03-02T06:05:13.052Z"
   },
   {
    "duration": 7,
    "start_time": "2023-03-02T06:05:13.093Z"
   },
   {
    "duration": 3,
    "start_time": "2023-03-02T06:05:13.101Z"
   },
   {
    "duration": 5,
    "start_time": "2023-03-02T06:05:13.105Z"
   },
   {
    "duration": 7,
    "start_time": "2023-03-02T06:05:13.111Z"
   },
   {
    "duration": 27,
    "start_time": "2023-03-02T06:05:13.119Z"
   },
   {
    "duration": 178,
    "start_time": "2023-03-02T06:05:13.148Z"
   },
   {
    "duration": 155,
    "start_time": "2023-03-02T06:05:13.327Z"
   },
   {
    "duration": 15,
    "start_time": "2023-03-02T06:05:13.484Z"
   },
   {
    "duration": 5,
    "start_time": "2023-03-02T06:05:13.500Z"
   },
   {
    "duration": 305,
    "start_time": "2023-03-02T06:05:13.506Z"
   },
   {
    "duration": 383,
    "start_time": "2023-03-02T06:05:13.813Z"
   },
   {
    "duration": 418,
    "start_time": "2023-03-02T06:05:14.200Z"
   },
   {
    "duration": 11,
    "start_time": "2023-03-02T06:05:14.620Z"
   },
   {
    "duration": 4,
    "start_time": "2023-03-02T06:05:14.633Z"
   },
   {
    "duration": 16,
    "start_time": "2023-03-02T06:05:14.638Z"
   },
   {
    "duration": 191,
    "start_time": "2023-03-02T06:05:14.656Z"
   },
   {
    "duration": 174,
    "start_time": "2023-03-02T06:05:14.848Z"
   },
   {
    "duration": 24,
    "start_time": "2023-03-02T06:05:15.023Z"
   },
   {
    "duration": 261,
    "start_time": "2023-03-02T06:05:15.048Z"
   },
   {
    "duration": 170,
    "start_time": "2023-03-02T06:05:15.310Z"
   },
   {
    "duration": 16,
    "start_time": "2023-03-02T06:05:15.482Z"
   },
   {
    "duration": 184,
    "start_time": "2023-03-02T06:05:15.499Z"
   },
   {
    "duration": 12,
    "start_time": "2023-03-02T06:05:15.684Z"
   },
   {
    "duration": 173,
    "start_time": "2023-03-02T06:05:15.698Z"
   },
   {
    "duration": 22,
    "start_time": "2023-03-02T06:05:15.872Z"
   },
   {
    "duration": 176,
    "start_time": "2023-03-02T06:05:15.896Z"
   },
   {
    "duration": 18,
    "start_time": "2023-03-02T06:05:16.074Z"
   },
   {
    "duration": 226,
    "start_time": "2023-03-02T06:05:16.094Z"
   },
   {
    "duration": 4,
    "start_time": "2023-03-02T06:05:16.322Z"
   },
   {
    "duration": 536,
    "start_time": "2023-03-02T06:05:16.328Z"
   },
   {
    "duration": 370,
    "start_time": "2023-03-02T06:05:16.866Z"
   },
   {
    "duration": 194,
    "start_time": "2023-03-02T06:05:17.238Z"
   },
   {
    "duration": 284,
    "start_time": "2023-03-02T06:05:17.433Z"
   },
   {
    "duration": 147,
    "start_time": "2023-03-02T06:05:17.719Z"
   },
   {
    "duration": 3,
    "start_time": "2023-03-02T06:05:17.868Z"
   },
   {
    "duration": 34,
    "start_time": "2023-03-02T06:05:17.872Z"
   },
   {
    "duration": 43,
    "start_time": "2023-03-02T06:05:17.908Z"
   }
  ],
  "kernelspec": {
   "display_name": "Python 3 (ipykernel)",
   "language": "python",
   "name": "python3"
  },
  "language_info": {
   "codemirror_mode": {
    "name": "ipython",
    "version": 3
   },
   "file_extension": ".py",
   "mimetype": "text/x-python",
   "name": "python",
   "nbconvert_exporter": "python",
   "pygments_lexer": "ipython3",
   "version": "3.9.16"
  },
  "toc": {
   "base_numbering": 1,
   "nav_menu": {},
   "number_sections": true,
   "sideBar": true,
   "skip_h1_title": true,
   "title_cell": "Table of Contents",
   "title_sidebar": "Contents",
   "toc_cell": false,
   "toc_position": {},
   "toc_section_display": true,
   "toc_window_display": false
  },
  "toc-autonumbering": true,
  "toc-showcode": false,
  "toc-showmarkdowntxt": false,
  "toc-showtags": false
 },
 "nbformat": 4,
 "nbformat_minor": 4
}
