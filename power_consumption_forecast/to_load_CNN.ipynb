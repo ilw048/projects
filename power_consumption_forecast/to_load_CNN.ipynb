{
 "cells": [
  {
   "cell_type": "markdown",
   "id": "73c10dac-2522-4ff6-ace7-dede781edd7c",
   "metadata": {},
   "source": [
    "# Прогнозирование потребления электроэнергии в городе"
   ]
  },
  {
   "cell_type": "markdown",
   "id": "4eae8bdb-8f07-495f-9ccb-af99613d9d83",
   "metadata": {},
   "source": [
    "В наличии были реальные данные потребляемой мощности в городе Выборг за 2018 год, значения фиксировались каждые полчаса и датасет состоял из 19000 строк. Известно, что потребляемая мощность хорошо коррелирует с метеорологическими и сезонными факторами, поэтому предварительно был догружен архив погоды за 2018 год и добавлен к датасету. <br>\n",
    "\n",
    "Прошу учесть, что **это сырой проект**, в нем могут быть ошибки. Все предварительные исследования о влиянии различных факторов на потребляемую мощность и подбор оптимального периода предыстории для тренировочной выборки были проведены еще в 2021 году в моем дипломном проекте. Поэтому используются уже готовые эвристики. <br>\n",
    "\n",
    "Здесь я просто пробую различные методы, которые дают хороший результат на нестационарных промежутках временного ряда (осенью, зимой, весной) — самые сложные периоды для прогнозирования, которые мне раньше не поддавались."
   ]
  },
  {
   "cell_type": "code",
   "execution_count": 1,
   "id": "eb11582c-a6a4-4f3e-9ea2-3a11b83d349a",
   "metadata": {},
   "outputs": [],
   "source": [
    "import numpy as np\n",
    "import tensorflow as tf\n",
    "from tensorflow import keras"
   ]
  },
  {
   "cell_type": "code",
   "execution_count": 2,
   "id": "98727959-e645-47bb-99f3-f19f938f056d",
   "metadata": {},
   "outputs": [],
   "source": [
    "from keras.models import Sequential\n",
    "from keras.layers import LSTM, GRU, SimpleRNN, InputLayer\n",
    "from keras.layers import Activation, Dense, Dropout, BatchNormalization\n",
    "from keras.callbacks import EarlyStopping\n",
    "\n",
    "tf.config.set_visible_devices([], 'GPU') "
   ]
  },
  {
   "cell_type": "code",
   "execution_count": 3,
   "id": "e5b18c9b-6127-4882-8fb4-55f1ce589e85",
   "metadata": {},
   "outputs": [],
   "source": [
    "import pandas as pd\n",
    "import matplotlib.pyplot as plt\n",
    "import seaborn as sns\n",
    "from sklearn.model_selection import train_test_split\n",
    "from sklearn.metrics import (\n",
    "    mean_absolute_percentage_error as mape, \n",
    "    r2_score as r2,\n",
    "    mean_absolute_error as mae, \n",
    "    mean_squared_error as mse\n",
    ")\n",
    "pd.set_option('display.max_rows', None)\n",
    "pd.set_option('display.max_columns', 200)"
   ]
  },
  {
   "cell_type": "code",
   "execution_count": 4,
   "id": "b8ffaf62-704e-4e99-a57e-7863fc73e164",
   "metadata": {},
   "outputs": [],
   "source": [
    "from sklearn.pipeline import make_pipeline, Pipeline\n",
    "from sklearn.compose import ColumnTransformer\n",
    "from sklearn.preprocessing import StandardScaler, MinMaxScaler, OneHotEncoder\n",
    "import os\n",
    "def set_seed(seed=31415):\n",
    "    np.random.seed(seed)\n",
    "    tf.random.set_seed(seed)\n",
    "    os.environ['PYTHONHASHSEED'] = str(seed)\n",
    "    os.environ['TF_DETERMINISTIC_OPS'] = '1'\n",
    "    os.environ['TF_CUDNN_DETERMINISTIC'] = '1'\n",
    "    import random\n",
    "    random.seed(seed)\n",
    "\n",
    "set_seed(1)"
   ]
  },
  {
   "cell_type": "code",
   "execution_count": 5,
   "id": "2e27e958-41f6-4dc0-9b4d-3f588d177f31",
   "metadata": {
    "tags": []
   },
   "outputs": [],
   "source": [
    "plt.rc('lines', linewidth=1)\n",
    "plt.rcParams.update({'font.size': 7})"
   ]
  },
  {
   "cell_type": "markdown",
   "id": "c1e023da-295d-4cde-8b35-dfde1f08a887",
   "metadata": {},
   "source": [
    "## Подготовка данных"
   ]
  },
  {
   "cell_type": "markdown",
   "id": "1ea7a3bd-62be-4d12-83ed-453e0d112001",
   "metadata": {},
   "source": [
    "Для прогнозов нужно вытащить максимум информации из двух столбцов: дата и потребляемая мощность. Поскольку процесс носит цикличный характер и менятся в течение суток, недели и года, были созданы соответствующие фичи. \n",
    "Также хороший прирост в точности дала разница температуры за час (2 наблюдения) — `T_diff`."
   ]
  },
  {
   "cell_type": "code",
   "execution_count": 6,
   "id": "30a021b9-36d9-46ee-bff6-00d642208c2e",
   "metadata": {},
   "outputs": [],
   "source": [
    "def edit(data):\n",
    "    data = data.drop([5016, 5715, 5476, 5478, 1170, 1171, 1172], axis=0) #выбросы\n",
    "    data.index = data['date']\n",
    "    \n",
    "    data = data[pd.DatetimeIndex(data.index).year == 2018] #за 2019 год мало наблюдений\n",
    "    #data['season'] = data['season'].astype('category')\n",
    "    #data['hours'] = pd.DatetimeIndex(data.index).hour + (pd.DatetimeIndex(data.index).minute / 60)\n",
    "    data['days'] = pd.DatetimeIndex(data.index).weekday\n",
    "    data['weekend'] = pd.DatetimeIndex(data.index).weekday.isin([5,6])*1\n",
    "    #data['month'] = pd.DatetimeIndex(data.index).month\n",
    "    data['weekofyear'] = data.index.isocalendar().week\n",
    "    #data['dayofyear'] = data.index.isocalendar().day\n",
    "    \n",
    "    data['T_diff'] = data['T'] - data['T'].shift(2)\n",
    "    \n",
    "    data.drop(['time_num', 'date'], axis=1, inplace=True)\n",
    "    data = data[data['P'] > 400] #исключим выбросы\n",
    "\n",
    "    #data = pd.get_dummies(data, columns=['season'])\n",
    "    return data"
   ]
  },
  {
   "cell_type": "code",
   "execution_count": 7,
   "id": "a0b05681-46d2-46f7-9dfb-751158824e87",
   "metadata": {},
   "outputs": [],
   "source": [
    "def code_mean(data, category_feature, real_feature):\n",
    "    \"\"\"\n",
    "    Возвращает словарь, где ключами являются уникальные категории признака category_feature,\n",
    "    а значениями - средние по real_feature\n",
    "    \"\"\"\n",
    "    return dict(data.groupby(category_feature)[real_feature].mean())"
   ]
  },
  {
   "cell_type": "code",
   "execution_count": 8,
   "id": "ab8fca3f-5f1f-40c0-8765-995376f01fe0",
   "metadata": {},
   "outputs": [],
   "source": [
    "def prepareData(data, lag_start=48, lag_end=48*7, test_size=0.2): #48 наблюдений в одних сутках на 7 дней недели\n",
    "    data['P'] = data['P'] / 100 #масштабируем\n",
    "    data['P_diff'] = data['P'] - data['P'].shift(1)\n",
    "    test_index = int(len(data)*(1-test_size))\n",
    "        \n",
    "    data['week_mean'] = list(map(code_mean(data[:test_index], 'weekofyear', 'P').get, data.weekofyear))\n",
    "    data['hours'] = pd.DatetimeIndex(data.index).hour + (pd.DatetimeIndex(data.index).minute / 60) #час + 0,5часа(30 минут)\n",
    "    data['lag_week'] = data['week_mean'].shift(lag_end) #лаг недели\n",
    "    data['timestamp'] = data.index\n",
    "    \n",
    "    data['moving_average'] = data['P'].rolling( #очень поможет в прогнозах\n",
    "        window=48,       # 1-day window\n",
    "        center=True,     # puts the average at the center of the window\n",
    "        min_periods=24,  # choose about half the window size\n",
    "    ).mean()             # compute the mean (could also do median, std, min, max, ...)\n",
    "    \n",
    "    data = data.reset_index(drop=True)\n",
    "    \n",
    "    columns = ['P', 'hours', 'days', 'T', 'weekend', 'lag_week', 'moving_average', 'T_diff', 'timestamp']\n",
    "    x_train, x_test, y_train, y_test = train_test_split(data[columns].drop(['P'], axis=1), \n",
    "                                                        data['P'], test_size=0.2, \n",
    "                                                        random_state=42, shuffle=False).copy() #обязательно shuffle=False\n",
    "    for item in [x_train, x_test, y_train, y_test]:\n",
    "        item.reset_index(drop=True, inplace=True)\n",
    "    \n",
    "    #print(x_train.shape, y_train.shape, x_test.shape, y_test.shape)\n",
    "    return x_train, y_train, x_test, y_test"
   ]
  },
  {
   "cell_type": "code",
   "execution_count": 9,
   "id": "a3a8f9ae-a346-4b7c-bee9-b4174763bd9b",
   "metadata": {},
   "outputs": [],
   "source": [
    "def scores(y_true, y_pred):\n",
    "    print('MAPE =', format(mape(y_true, y_pred) * 100, '.2f'))\n",
    "    print('r2 =', format(r2(y_true, y_pred), '.3f'))\n",
    "    print('MAE =', format(mae(y_true, y_pred), '.3f'))\n",
    "    print('MSE =', format(mse(y_true, y_pred), '.3f'))\n",
    "    print('RMSE = ', format(np.sqrt(mse(y_true, y_pred)), '.3f'))\n",
    "    return None"
   ]
  },
  {
   "cell_type": "code",
   "execution_count": 10,
   "id": "dd8c09f4-ad4d-4ae9-8036-0c7637d8c809",
   "metadata": {},
   "outputs": [],
   "source": [
    "dataset = pd.read_excel('datasets/power.xlsx', sheet_name=0)\n",
    "dataset = edit(dataset)"
   ]
  },
  {
   "cell_type": "code",
   "execution_count": 11,
   "id": "a6354df8-8e6b-471b-af74-deb412e55e13",
   "metadata": {},
   "outputs": [
    {
     "data": {
      "text/html": [
       "<div>\n",
       "<style scoped>\n",
       "    .dataframe tbody tr th:only-of-type {\n",
       "        vertical-align: middle;\n",
       "    }\n",
       "\n",
       "    .dataframe tbody tr th {\n",
       "        vertical-align: top;\n",
       "    }\n",
       "\n",
       "    .dataframe thead th {\n",
       "        text-align: right;\n",
       "    }\n",
       "</style>\n",
       "<table border=\"1\" class=\"dataframe\">\n",
       "  <thead>\n",
       "    <tr style=\"text-align: right;\">\n",
       "      <th></th>\n",
       "      <th>P</th>\n",
       "      <th>hours</th>\n",
       "      <th>days</th>\n",
       "      <th>T</th>\n",
       "      <th>Po</th>\n",
       "      <th>Pa</th>\n",
       "      <th>U</th>\n",
       "      <th>Ff</th>\n",
       "      <th>N</th>\n",
       "      <th>H</th>\n",
       "      <th>VV</th>\n",
       "      <th>Td</th>\n",
       "      <th>season</th>\n",
       "      <th>weekend</th>\n",
       "      <th>weekofyear</th>\n",
       "      <th>T_diff</th>\n",
       "    </tr>\n",
       "    <tr>\n",
       "      <th>date</th>\n",
       "      <th></th>\n",
       "      <th></th>\n",
       "      <th></th>\n",
       "      <th></th>\n",
       "      <th></th>\n",
       "      <th></th>\n",
       "      <th></th>\n",
       "      <th></th>\n",
       "      <th></th>\n",
       "      <th></th>\n",
       "      <th></th>\n",
       "      <th></th>\n",
       "      <th></th>\n",
       "      <th></th>\n",
       "      <th></th>\n",
       "      <th></th>\n",
       "    </tr>\n",
       "  </thead>\n",
       "  <tbody>\n",
       "    <tr>\n",
       "      <th>2018-01-01 00:00:00</th>\n",
       "      <td>1209.6</td>\n",
       "      <td>3.0</td>\n",
       "      <td>0</td>\n",
       "      <td>-0.400000</td>\n",
       "      <td>752.50</td>\n",
       "      <td>-1.20</td>\n",
       "      <td>87.000000</td>\n",
       "      <td>4</td>\n",
       "      <td>90</td>\n",
       "      <td>3000</td>\n",
       "      <td>10.0</td>\n",
       "      <td>-2.4</td>\n",
       "      <td>winter</td>\n",
       "      <td>0</td>\n",
       "      <td>1</td>\n",
       "      <td>NaN</td>\n",
       "    </tr>\n",
       "    <tr>\n",
       "      <th>2018-01-01 00:30:00</th>\n",
       "      <td>1200.8</td>\n",
       "      <td>3.5</td>\n",
       "      <td>0</td>\n",
       "      <td>-0.433333</td>\n",
       "      <td>752.25</td>\n",
       "      <td>-1.25</td>\n",
       "      <td>87.166667</td>\n",
       "      <td>4</td>\n",
       "      <td>90</td>\n",
       "      <td>3000</td>\n",
       "      <td>10.0</td>\n",
       "      <td>-2.4</td>\n",
       "      <td>winter</td>\n",
       "      <td>0</td>\n",
       "      <td>1</td>\n",
       "      <td>NaN</td>\n",
       "    </tr>\n",
       "    <tr>\n",
       "      <th>2018-01-01 01:00:00</th>\n",
       "      <td>1191.6</td>\n",
       "      <td>4.0</td>\n",
       "      <td>0</td>\n",
       "      <td>-0.466667</td>\n",
       "      <td>752.00</td>\n",
       "      <td>-1.30</td>\n",
       "      <td>87.333333</td>\n",
       "      <td>4</td>\n",
       "      <td>90</td>\n",
       "      <td>3000</td>\n",
       "      <td>10.0</td>\n",
       "      <td>-2.4</td>\n",
       "      <td>winter</td>\n",
       "      <td>0</td>\n",
       "      <td>1</td>\n",
       "      <td>-0.066667</td>\n",
       "    </tr>\n",
       "    <tr>\n",
       "      <th>2018-01-01 01:30:00</th>\n",
       "      <td>1188.4</td>\n",
       "      <td>4.5</td>\n",
       "      <td>0</td>\n",
       "      <td>-0.500000</td>\n",
       "      <td>751.75</td>\n",
       "      <td>-1.35</td>\n",
       "      <td>87.500000</td>\n",
       "      <td>4</td>\n",
       "      <td>90</td>\n",
       "      <td>3000</td>\n",
       "      <td>10.0</td>\n",
       "      <td>-2.4</td>\n",
       "      <td>winter</td>\n",
       "      <td>0</td>\n",
       "      <td>1</td>\n",
       "      <td>-0.066667</td>\n",
       "    </tr>\n",
       "    <tr>\n",
       "      <th>2018-01-01 02:00:00</th>\n",
       "      <td>1155.6</td>\n",
       "      <td>5.0</td>\n",
       "      <td>0</td>\n",
       "      <td>-0.533333</td>\n",
       "      <td>751.50</td>\n",
       "      <td>-1.40</td>\n",
       "      <td>87.666667</td>\n",
       "      <td>4</td>\n",
       "      <td>90</td>\n",
       "      <td>3000</td>\n",
       "      <td>10.0</td>\n",
       "      <td>-2.4</td>\n",
       "      <td>winter</td>\n",
       "      <td>0</td>\n",
       "      <td>1</td>\n",
       "      <td>-0.066667</td>\n",
       "    </tr>\n",
       "  </tbody>\n",
       "</table>\n",
       "</div>"
      ],
      "text/plain": [
       "                          P  hours  days         T      Po    Pa          U   \n",
       "date                                                                          \n",
       "2018-01-01 00:00:00  1209.6    3.0     0 -0.400000  752.50 -1.20  87.000000  \\\n",
       "2018-01-01 00:30:00  1200.8    3.5     0 -0.433333  752.25 -1.25  87.166667   \n",
       "2018-01-01 01:00:00  1191.6    4.0     0 -0.466667  752.00 -1.30  87.333333   \n",
       "2018-01-01 01:30:00  1188.4    4.5     0 -0.500000  751.75 -1.35  87.500000   \n",
       "2018-01-01 02:00:00  1155.6    5.0     0 -0.533333  751.50 -1.40  87.666667   \n",
       "\n",
       "                     Ff   N     H    VV   Td  season  weekend  weekofyear   \n",
       "date                                                                        \n",
       "2018-01-01 00:00:00   4  90  3000  10.0 -2.4  winter        0           1  \\\n",
       "2018-01-01 00:30:00   4  90  3000  10.0 -2.4  winter        0           1   \n",
       "2018-01-01 01:00:00   4  90  3000  10.0 -2.4  winter        0           1   \n",
       "2018-01-01 01:30:00   4  90  3000  10.0 -2.4  winter        0           1   \n",
       "2018-01-01 02:00:00   4  90  3000  10.0 -2.4  winter        0           1   \n",
       "\n",
       "                       T_diff  \n",
       "date                           \n",
       "2018-01-01 00:00:00       NaN  \n",
       "2018-01-01 00:30:00       NaN  \n",
       "2018-01-01 01:00:00 -0.066667  \n",
       "2018-01-01 01:30:00 -0.066667  \n",
       "2018-01-01 02:00:00 -0.066667  "
      ]
     },
     "execution_count": 11,
     "metadata": {},
     "output_type": "execute_result"
    }
   ],
   "source": [
    "dataset.head()"
   ]
  },
  {
   "cell_type": "markdown",
   "id": "ab595e45-5942-4276-a19f-9b67e6d39751",
   "metadata": {},
   "source": [
    "### Годовой график потребляемой мощности"
   ]
  },
  {
   "cell_type": "markdown",
   "id": "f6636988-e527-491c-ad28-6e129185b940",
   "metadata": {},
   "source": [
    "Как видим, ряд нестационарный: от зимы к лету мощность постепенно снижается, к зиме — повышается. Летом ряд примерно постоянный, и поэтому там получаются самые точные прогнозы (mape 4-5%). Задача будет состоять в недельном прогнозировании по истории в 5 недель. Были выделены соответствующие сезонные периоды, чтобы проверять адекватность методов во все времена года."
   ]
  },
  {
   "cell_type": "code",
   "execution_count": 12,
   "id": "44aa5f14-4562-40e2-9912-f3148f6f24ea",
   "metadata": {},
   "outputs": [],
   "source": [
    "winter = np.arange(300,3500)\n",
    "spring = np.arange(3000,6500)\n",
    "summer = np.arange(6000,9500)\n",
    "autumn = np.arange(9500,13000)"
   ]
  },
  {
   "cell_type": "code",
   "execution_count": 13,
   "id": "636a39eb-2b53-4170-8102-8569facf51e1",
   "metadata": {},
   "outputs": [],
   "source": [
    "data = dataset.iloc[autumn].copy()"
   ]
  },
  {
   "cell_type": "code",
   "execution_count": 14,
   "id": "7d93a402-4915-45ea-8ad1-0da83b9b1c21",
   "metadata": {},
   "outputs": [],
   "source": [
    "x_train, y_train, x_test, y_test = prepareData(data)"
   ]
  },
  {
   "cell_type": "code",
   "execution_count": 15,
   "id": "b1aea9ce-2c3f-4820-acca-e72f3339f425",
   "metadata": {},
   "outputs": [],
   "source": [
    "n_week = 48*7\n",
    "x_train, y_train = x_train[-5*n_week:], y_train[-5*n_week:] #5 недель в трейн\n",
    "x_test, y_test = x_test[:n_week], y_test[:n_week] #1 неделя в тест\n",
    "\n",
    "for item in [x_train, x_test, y_train, y_test]:\n",
    "        item.reset_index(drop=True, inplace=True)"
   ]
  },
  {
   "cell_type": "code",
   "execution_count": 16,
   "id": "bf7410cb-3b69-4faa-9f13-dea590f6ef36",
   "metadata": {},
   "outputs": [
    {
     "data": {
      "text/plain": [
       "hours             0\n",
       "days              0\n",
       "T                 0\n",
       "weekend           0\n",
       "lag_week          0\n",
       "moving_average    0\n",
       "T_diff            0\n",
       "timestamp         0\n",
       "dtype: int64"
      ]
     },
     "execution_count": 16,
     "metadata": {},
     "output_type": "execute_result"
    }
   ],
   "source": [
    "x_test.isna().sum()"
   ]
  },
  {
   "cell_type": "markdown",
   "id": "1757b160-a0c8-4cc1-807a-83f5de7e1694",
   "metadata": {},
   "source": [
    "Раннее было замечено, что наличие скользящего среднего очень сильно повышает гибкость методов, поскольку не все они могут аппроксимировать значения за пределы обучающей выборки, а это неизбежно ввиду нестационарности ряда. <br>\n",
    "\n",
    "Идея заключается в следующем: спрогнозируем в тестовую выборку скользящее среднее и будем использовать как фичу в окончательных прогнозах. <br>\n",
    "**Тут возникает проблема в ограниченности данных для такого прогноза: мы не можем использовать лаги по дням, среднее дня и т.п. — данные из будущего. Доступен только лаг на неделю и вариации температурных показателей.**"
   ]
  },
  {
   "cell_type": "code",
   "execution_count": 17,
   "id": "d20043f9-9a0c-489a-837d-513817c513b1",
   "metadata": {},
   "outputs": [],
   "source": [
    "#для окончательного прогноза\n",
    "x_train = x_train.loc[:,['hours', 'days', 'weekend', 'T', 'lag_week', 'moving_average', 'T_diff', 'timestamp']]\n",
    "x_test = x_test.loc[:,['hours', 'days', 'weekend', 'T', 'lag_week', 'moving_average', 'T_diff', 'timestamp']]"
   ]
  },
  {
   "cell_type": "code",
   "execution_count": 18,
   "id": "58256e49-5cd2-4b77-ad82-4c2613f760ee",
   "metadata": {
    "tags": []
   },
   "outputs": [
    {
     "data": {
      "text/html": [
       "<div>\n",
       "<style scoped>\n",
       "    .dataframe tbody tr th:only-of-type {\n",
       "        vertical-align: middle;\n",
       "    }\n",
       "\n",
       "    .dataframe tbody tr th {\n",
       "        vertical-align: top;\n",
       "    }\n",
       "\n",
       "    .dataframe thead th {\n",
       "        text-align: right;\n",
       "    }\n",
       "</style>\n",
       "<table border=\"1\" class=\"dataframe\">\n",
       "  <thead>\n",
       "    <tr style=\"text-align: right;\">\n",
       "      <th></th>\n",
       "      <th>hours</th>\n",
       "      <th>days</th>\n",
       "      <th>weekend</th>\n",
       "      <th>T</th>\n",
       "      <th>lag_week</th>\n",
       "      <th>moving_average</th>\n",
       "      <th>T_diff</th>\n",
       "      <th>timestamp</th>\n",
       "    </tr>\n",
       "  </thead>\n",
       "  <tbody>\n",
       "    <tr>\n",
       "      <th>0</th>\n",
       "      <td>5.5</td>\n",
       "      <td>6</td>\n",
       "      <td>1</td>\n",
       "      <td>16.550000</td>\n",
       "      <td>6.581685</td>\n",
       "      <td>6.817583</td>\n",
       "      <td>0.100000</td>\n",
       "      <td>2018-08-12 05:30:00</td>\n",
       "    </tr>\n",
       "    <tr>\n",
       "      <th>1</th>\n",
       "      <td>6.0</td>\n",
       "      <td>6</td>\n",
       "      <td>1</td>\n",
       "      <td>16.600000</td>\n",
       "      <td>6.581685</td>\n",
       "      <td>6.840500</td>\n",
       "      <td>0.100000</td>\n",
       "      <td>2018-08-12 06:00:00</td>\n",
       "    </tr>\n",
       "    <tr>\n",
       "      <th>2</th>\n",
       "      <td>6.5</td>\n",
       "      <td>6</td>\n",
       "      <td>1</td>\n",
       "      <td>17.016667</td>\n",
       "      <td>6.581685</td>\n",
       "      <td>6.858250</td>\n",
       "      <td>0.466667</td>\n",
       "      <td>2018-08-12 06:30:00</td>\n",
       "    </tr>\n",
       "    <tr>\n",
       "      <th>3</th>\n",
       "      <td>7.0</td>\n",
       "      <td>6</td>\n",
       "      <td>1</td>\n",
       "      <td>17.433333</td>\n",
       "      <td>6.581685</td>\n",
       "      <td>6.867333</td>\n",
       "      <td>0.833333</td>\n",
       "      <td>2018-08-12 07:00:00</td>\n",
       "    </tr>\n",
       "    <tr>\n",
       "      <th>4</th>\n",
       "      <td>7.5</td>\n",
       "      <td>6</td>\n",
       "      <td>1</td>\n",
       "      <td>17.850000</td>\n",
       "      <td>6.581685</td>\n",
       "      <td>6.872083</td>\n",
       "      <td>0.833333</td>\n",
       "      <td>2018-08-12 07:30:00</td>\n",
       "    </tr>\n",
       "  </tbody>\n",
       "</table>\n",
       "</div>"
      ],
      "text/plain": [
       "   hours  days  weekend          T  lag_week  moving_average    T_diff   \n",
       "0    5.5     6        1  16.550000  6.581685        6.817583  0.100000  \\\n",
       "1    6.0     6        1  16.600000  6.581685        6.840500  0.100000   \n",
       "2    6.5     6        1  17.016667  6.581685        6.858250  0.466667   \n",
       "3    7.0     6        1  17.433333  6.581685        6.867333  0.833333   \n",
       "4    7.5     6        1  17.850000  6.581685        6.872083  0.833333   \n",
       "\n",
       "            timestamp  \n",
       "0 2018-08-12 05:30:00  \n",
       "1 2018-08-12 06:00:00  \n",
       "2 2018-08-12 06:30:00  \n",
       "3 2018-08-12 07:00:00  \n",
       "4 2018-08-12 07:30:00  "
      ]
     },
     "execution_count": 18,
     "metadata": {},
     "output_type": "execute_result"
    }
   ],
   "source": [
    "x_train.head()"
   ]
  },
  {
   "cell_type": "code",
   "execution_count": 19,
   "id": "d664a8d6-4dae-4347-82fc-9d75439d0593",
   "metadata": {},
   "outputs": [],
   "source": [
    "#для скользящего среднего\n",
    "moving_features = ['hours', 'days', 'weekend', 'T', 'lag_week', 'T_diff']"
   ]
  },
  {
   "cell_type": "code",
   "execution_count": 20,
   "id": "3086cb42-3fce-4305-8792-629bdf7cbfa1",
   "metadata": {},
   "outputs": [],
   "source": [
    "x_train_moving = x_train.loc[:, moving_features]\n",
    "x_test_moving = x_test.loc[:, moving_features]"
   ]
  },
  {
   "cell_type": "code",
   "execution_count": 21,
   "id": "98813142-753a-4e49-a194-7ae70bf2aac1",
   "metadata": {},
   "outputs": [],
   "source": [
    "y_train_moving = y_train\n",
    "y_test_moving = y_test"
   ]
  },
  {
   "cell_type": "code",
   "execution_count": 22,
   "id": "0a2a66f9-9637-4029-b2f2-04ee0d931958",
   "metadata": {
    "tags": []
   },
   "outputs": [],
   "source": [
    "x_train_moving, x_val_moving, y_train_moving, y_val_moving = train_test_split(x_train_moving, y_train_moving, test_size=0.2, \n",
    "                                                                      random_state=42, shuffle=False).copy()"
   ]
  },
  {
   "cell_type": "code",
   "execution_count": 23,
   "id": "5d7bc08a-cca4-4619-a358-f228cd2cd383",
   "metadata": {
    "tags": []
   },
   "outputs": [
    {
     "data": {
      "text/html": [
       "<div>\n",
       "<style scoped>\n",
       "    .dataframe tbody tr th:only-of-type {\n",
       "        vertical-align: middle;\n",
       "    }\n",
       "\n",
       "    .dataframe tbody tr th {\n",
       "        vertical-align: top;\n",
       "    }\n",
       "\n",
       "    .dataframe thead th {\n",
       "        text-align: right;\n",
       "    }\n",
       "</style>\n",
       "<table border=\"1\" class=\"dataframe\">\n",
       "  <thead>\n",
       "    <tr style=\"text-align: right;\">\n",
       "      <th></th>\n",
       "      <th>hours</th>\n",
       "      <th>days</th>\n",
       "      <th>weekend</th>\n",
       "      <th>T</th>\n",
       "      <th>lag_week</th>\n",
       "      <th>T_diff</th>\n",
       "    </tr>\n",
       "  </thead>\n",
       "  <tbody>\n",
       "    <tr>\n",
       "      <th>0</th>\n",
       "      <td>5.5</td>\n",
       "      <td>6</td>\n",
       "      <td>1</td>\n",
       "      <td>16.550000</td>\n",
       "      <td>6.581685</td>\n",
       "      <td>0.100000</td>\n",
       "    </tr>\n",
       "    <tr>\n",
       "      <th>1</th>\n",
       "      <td>6.0</td>\n",
       "      <td>6</td>\n",
       "      <td>1</td>\n",
       "      <td>16.600000</td>\n",
       "      <td>6.581685</td>\n",
       "      <td>0.100000</td>\n",
       "    </tr>\n",
       "    <tr>\n",
       "      <th>2</th>\n",
       "      <td>6.5</td>\n",
       "      <td>6</td>\n",
       "      <td>1</td>\n",
       "      <td>17.016667</td>\n",
       "      <td>6.581685</td>\n",
       "      <td>0.466667</td>\n",
       "    </tr>\n",
       "    <tr>\n",
       "      <th>3</th>\n",
       "      <td>7.0</td>\n",
       "      <td>6</td>\n",
       "      <td>1</td>\n",
       "      <td>17.433333</td>\n",
       "      <td>6.581685</td>\n",
       "      <td>0.833333</td>\n",
       "    </tr>\n",
       "    <tr>\n",
       "      <th>4</th>\n",
       "      <td>7.5</td>\n",
       "      <td>6</td>\n",
       "      <td>1</td>\n",
       "      <td>17.850000</td>\n",
       "      <td>6.581685</td>\n",
       "      <td>0.833333</td>\n",
       "    </tr>\n",
       "  </tbody>\n",
       "</table>\n",
       "</div>"
      ],
      "text/plain": [
       "   hours  days  weekend          T  lag_week    T_diff\n",
       "0    5.5     6        1  16.550000  6.581685  0.100000\n",
       "1    6.0     6        1  16.600000  6.581685  0.100000\n",
       "2    6.5     6        1  17.016667  6.581685  0.466667\n",
       "3    7.0     6        1  17.433333  6.581685  0.833333\n",
       "4    7.5     6        1  17.850000  6.581685  0.833333"
      ]
     },
     "execution_count": 23,
     "metadata": {},
     "output_type": "execute_result"
    }
   ],
   "source": [
    "x_train_moving.head()"
   ]
  },
  {
   "cell_type": "code",
   "execution_count": 24,
   "id": "c5d5a1d7-7398-41af-9b3d-017902d7bf31",
   "metadata": {
    "tags": []
   },
   "outputs": [
    {
     "data": {
      "text/plain": [
       "0    5.828\n",
       "1    6.332\n",
       "2    6.724\n",
       "3    6.912\n",
       "4    7.436\n",
       "Name: P, dtype: float64"
      ]
     },
     "execution_count": 24,
     "metadata": {},
     "output_type": "execute_result"
    }
   ],
   "source": [
    "y_train_moving.head()"
   ]
  },
  {
   "cell_type": "markdown",
   "id": "dcf66ab8-9b94-4bd4-98d3-7799b871188f",
   "metadata": {},
   "source": [
    "## Прогнозирование скользящего среднего"
   ]
  },
  {
   "cell_type": "markdown",
   "id": "debc974d-32f5-46bb-80e7-b9cff8f286f6",
   "metadata": {},
   "source": [
    "По сути это было самой сложной задачей: по минимуму доступных данных хотя бы грубо научиться предсказывать тренд. Случайный лес и градиентный бустинг не подошли, потому что деревья не аппроксимируют зависимость. Более-менее нормальные прогнозы дала *рекурентная нейронная сеть с долгой краткосрочной памятью LSTM*, но не во всех сезонах она работала хорошо. Поэтому также была добавлена *линейная регрессия Надарая Ватсона*, которая заменяла нейронную сеть в случае плохих результатов. <br>\n",
    "\n",
    "Выбор наилучшей модели проводился на заранее отложенной валидационной выборке."
   ]
  },
  {
   "cell_type": "code",
   "execution_count": 25,
   "id": "46da36c0-3ca7-4186-abe7-af92170c2fe2",
   "metadata": {
    "tags": []
   },
   "outputs": [],
   "source": [
    "def fit_moving(model):\n",
    "    set_seed(31415)\n",
    "    best_score = -1\n",
    "    best_pred = []\n",
    "    best_model = []\n",
    "    for i in range(1,7): #30 эпох 16 батчей имба (мб 24/48 батчей), без эрли стоп, лр=0.01\n",
    "        history = model.fit(x_train_moving, y_train_moving, epochs=30, batch_size=16,validation_split=0.2)#callbacks=[early_stopping])\n",
    "        pred = pd.Series(model.predict(x_val_moving).ravel())\n",
    "        print('****************R2_val = ', r2(y_val_moving, pred))\n",
    "        if r2(y_val_moving, pred) > best_score: #y_val будет доступен на тот момент, можем ориентироваться на него\n",
    "            best_score = r2(y_val_moving, pred)\n",
    "            best_pred = pred\n",
    "            best_model = model\n",
    "    return best_pred, best_model, history"
   ]
  },
  {
   "cell_type": "markdown",
   "id": "4dcb7b58-c3d4-4e51-9e88-8b396e793e57",
   "metadata": {},
   "source": [
    "### CNN"
   ]
  },
  {
   "cell_type": "code",
   "execution_count": 27,
   "id": "0d9877f0-c4b1-4b66-8631-af77ad3ba54f",
   "metadata": {},
   "outputs": [],
   "source": [
    "set_seed(1)\n",
    "opt = keras.optimizers.legacy.Adam(learning_rate=0.005) #0.005 0.0075 0.01 – имба\n",
    "\n",
    "model = keras.models.Sequential()\n",
    "model.add(keras.layers.InputLayer(input_shape=[None, 1]))\n",
    "for rate in (2, 8) * 1:\n",
    "    model.add(keras.layers.Conv1D(filters=10, kernel_size=2, padding=\"causal\", activation=\"relu\", dilation_rate=rate))\n",
    "model.add(LSTM(units=40, activation='relu'))\n",
    "model.add(Dense(40, activation='relu'))\n",
    "model.add(Dense(1))\n",
    "model.compile(loss=\"mse\", optimizer=opt)\n",
    "#history = model.fit(x_train_moving, y_train_moving, epochs=20, validation_split=0.2)"
   ]
  },
  {
   "cell_type": "code",
   "execution_count": 28,
   "id": "c73ba488-ebad-4dd7-9567-81017bd455a4",
   "metadata": {},
   "outputs": [
    {
     "name": "stdout",
     "output_type": "stream",
     "text": [
      "Epoch 1/30\n"
     ]
    },
    {
     "name": "stderr",
     "output_type": "stream",
     "text": [
      "2023-06-04 14:49:13.065984: W tensorflow/tsl/platform/profile_utils/cpu_utils.cc:128] Failed to get CPU frequency: 0 Hz\n"
     ]
    },
    {
     "name": "stdout",
     "output_type": "stream",
     "text": [
      "68/68 [==============================] - 1s 3ms/step - loss: 7.8079 - val_loss: 3.6200\n",
      "Epoch 2/30\n",
      "68/68 [==============================] - 0s 1ms/step - loss: 0.9005 - val_loss: 3.1676\n",
      "Epoch 3/30\n",
      "68/68 [==============================] - 0s 1ms/step - loss: 0.7973 - val_loss: 2.8671\n",
      "Epoch 4/30\n",
      "68/68 [==============================] - 0s 1ms/step - loss: 0.7189 - val_loss: 3.6090\n",
      "Epoch 5/30\n",
      "68/68 [==============================] - 0s 1ms/step - loss: 0.7314 - val_loss: 2.5498\n",
      "Epoch 6/30\n",
      "68/68 [==============================] - 0s 1ms/step - loss: 0.7185 - val_loss: 2.6356\n",
      "Epoch 7/30\n",
      "68/68 [==============================] - 0s 1ms/step - loss: 0.7513 - val_loss: 3.6071\n",
      "Epoch 8/30\n",
      "68/68 [==============================] - 0s 1ms/step - loss: 0.7376 - val_loss: 3.4170\n",
      "Epoch 9/30\n",
      "68/68 [==============================] - 0s 1ms/step - loss: 0.6536 - val_loss: 3.2335\n",
      "Epoch 10/30\n",
      "68/68 [==============================] - 0s 1ms/step - loss: 0.6314 - val_loss: 2.2842\n",
      "Epoch 11/30\n",
      "68/68 [==============================] - 0s 1ms/step - loss: 0.6015 - val_loss: 2.6312\n",
      "Epoch 12/30\n",
      "68/68 [==============================] - 0s 1ms/step - loss: 0.6012 - val_loss: 2.5691\n",
      "Epoch 13/30\n",
      "68/68 [==============================] - 0s 1ms/step - loss: 0.5677 - val_loss: 2.8691\n",
      "Epoch 14/30\n",
      "68/68 [==============================] - 0s 1ms/step - loss: 0.5382 - val_loss: 3.5591\n",
      "Epoch 15/30\n",
      "68/68 [==============================] - 0s 1ms/step - loss: 0.5172 - val_loss: 2.5158\n",
      "Epoch 16/30\n",
      "68/68 [==============================] - 0s 1ms/step - loss: 0.5159 - val_loss: 2.6278\n",
      "Epoch 17/30\n",
      "68/68 [==============================] - 0s 1ms/step - loss: 0.5008 - val_loss: 2.9225\n",
      "Epoch 18/30\n",
      "68/68 [==============================] - 0s 1ms/step - loss: 0.5161 - val_loss: 2.4815\n",
      "Epoch 19/30\n",
      "68/68 [==============================] - 0s 1ms/step - loss: 0.4686 - val_loss: 2.7496\n",
      "Epoch 20/30\n",
      "68/68 [==============================] - 0s 1ms/step - loss: 0.4943 - val_loss: 2.8603\n",
      "Epoch 21/30\n",
      "68/68 [==============================] - 0s 1ms/step - loss: 0.4590 - val_loss: 3.3220\n",
      "Epoch 22/30\n",
      "68/68 [==============================] - 0s 1ms/step - loss: 0.4714 - val_loss: 2.4913\n",
      "Epoch 23/30\n",
      "68/68 [==============================] - 0s 1ms/step - loss: 0.5248 - val_loss: 3.4581\n",
      "Epoch 24/30\n",
      "68/68 [==============================] - 0s 1ms/step - loss: 0.4881 - val_loss: 3.2830\n",
      "Epoch 25/30\n",
      "68/68 [==============================] - 0s 1ms/step - loss: 0.5080 - val_loss: 3.5765\n",
      "Epoch 26/30\n",
      "68/68 [==============================] - 0s 1ms/step - loss: 0.4757 - val_loss: 2.5725\n",
      "Epoch 27/30\n",
      "68/68 [==============================] - 0s 1ms/step - loss: 0.5477 - val_loss: 2.4399\n",
      "Epoch 28/30\n",
      "68/68 [==============================] - 0s 1ms/step - loss: 0.5472 - val_loss: 2.5402\n",
      "Epoch 29/30\n",
      "68/68 [==============================] - 0s 1ms/step - loss: 0.5118 - val_loss: 2.8251\n",
      "Epoch 30/30\n",
      "68/68 [==============================] - 0s 1ms/step - loss: 0.4413 - val_loss: 3.2969\n",
      "11/11 [==============================] - 0s 625us/step\n",
      "****************R2_val =  -0.6413195962875475\n",
      "Epoch 1/30\n",
      "68/68 [==============================] - 0s 2ms/step - loss: 0.4784 - val_loss: 2.9139\n",
      "Epoch 2/30\n",
      "68/68 [==============================] - 0s 1ms/step - loss: 0.4777 - val_loss: 2.6696\n",
      "Epoch 3/30\n",
      "68/68 [==============================] - 0s 1ms/step - loss: 0.4834 - val_loss: 2.7019\n",
      "Epoch 4/30\n",
      "68/68 [==============================] - 0s 1ms/step - loss: 0.4370 - val_loss: 3.4746\n",
      "Epoch 5/30\n",
      "68/68 [==============================] - 0s 1ms/step - loss: 0.4375 - val_loss: 2.6677\n",
      "Epoch 6/30\n",
      "68/68 [==============================] - 0s 1ms/step - loss: 0.4189 - val_loss: 2.3362\n",
      "Epoch 7/30\n",
      "68/68 [==============================] - 0s 1ms/step - loss: 0.4130 - val_loss: 2.6570\n",
      "Epoch 8/30\n",
      "68/68 [==============================] - 0s 1ms/step - loss: 0.4153 - val_loss: 2.4665\n",
      "Epoch 9/30\n",
      "68/68 [==============================] - 0s 1ms/step - loss: 0.3446 - val_loss: 2.4637\n",
      "Epoch 10/30\n",
      "68/68 [==============================] - 0s 1ms/step - loss: 0.2954 - val_loss: 2.3648\n",
      "Epoch 11/30\n",
      "68/68 [==============================] - 0s 1ms/step - loss: 0.2748 - val_loss: 2.4462\n",
      "Epoch 12/30\n",
      "68/68 [==============================] - 0s 1ms/step - loss: 0.2450 - val_loss: 2.5473\n",
      "Epoch 13/30\n",
      "68/68 [==============================] - 0s 1ms/step - loss: 0.2259 - val_loss: 2.3620\n",
      "Epoch 14/30\n",
      "68/68 [==============================] - 0s 1ms/step - loss: 0.2038 - val_loss: 2.6019\n",
      "Epoch 15/30\n",
      "68/68 [==============================] - 0s 1ms/step - loss: 0.2010 - val_loss: 2.5289\n",
      "Epoch 16/30\n",
      "68/68 [==============================] - 0s 1ms/step - loss: 0.1908 - val_loss: 2.2384\n",
      "Epoch 17/30\n",
      "68/68 [==============================] - 0s 1ms/step - loss: 0.1957 - val_loss: 2.3253\n",
      "Epoch 18/30\n",
      "68/68 [==============================] - 0s 1ms/step - loss: 0.2113 - val_loss: 2.2089\n",
      "Epoch 19/30\n",
      "68/68 [==============================] - 0s 2ms/step - loss: 0.1695 - val_loss: 2.2356\n",
      "Epoch 20/30\n",
      "68/68 [==============================] - 0s 1ms/step - loss: 0.1918 - val_loss: 2.3104\n",
      "Epoch 21/30\n",
      "68/68 [==============================] - 0s 1ms/step - loss: 0.1689 - val_loss: 2.3624\n",
      "Epoch 22/30\n",
      "68/68 [==============================] - 0s 1ms/step - loss: 0.1901 - val_loss: 2.1183\n",
      "Epoch 23/30\n",
      "68/68 [==============================] - 0s 1ms/step - loss: 0.2081 - val_loss: 2.2732\n",
      "Epoch 24/30\n",
      "68/68 [==============================] - 0s 1ms/step - loss: 0.1836 - val_loss: 2.2157\n",
      "Epoch 25/30\n",
      "68/68 [==============================] - 0s 1ms/step - loss: 0.1989 - val_loss: 2.3659\n",
      "Epoch 26/30\n",
      "68/68 [==============================] - 0s 1ms/step - loss: 0.1672 - val_loss: 2.2332\n",
      "Epoch 27/30\n",
      "68/68 [==============================] - 0s 1ms/step - loss: 0.1711 - val_loss: 2.0837\n",
      "Epoch 28/30\n",
      "68/68 [==============================] - 0s 1ms/step - loss: 0.2534 - val_loss: 2.1308\n",
      "Epoch 29/30\n",
      "68/68 [==============================] - 0s 1ms/step - loss: 0.1622 - val_loss: 2.4596\n",
      "Epoch 30/30\n",
      "68/68 [==============================] - 0s 1ms/step - loss: 0.1904 - val_loss: 2.2169\n",
      "11/11 [==============================] - 0s 642us/step\n",
      "****************R2_val =  0.7198367665131733\n",
      "Epoch 1/30\n",
      "68/68 [==============================] - 0s 2ms/step - loss: 0.1554 - val_loss: 2.1975\n",
      "Epoch 2/30\n",
      "68/68 [==============================] - 0s 1ms/step - loss: 0.1578 - val_loss: 2.4146\n",
      "Epoch 3/30\n",
      "68/68 [==============================] - 0s 1ms/step - loss: 0.1712 - val_loss: 2.5740\n",
      "Epoch 4/30\n",
      "68/68 [==============================] - 0s 1ms/step - loss: 0.1961 - val_loss: 2.4206\n",
      "Epoch 5/30\n",
      "68/68 [==============================] - 0s 1ms/step - loss: 0.2028 - val_loss: 2.2636\n",
      "Epoch 6/30\n",
      "68/68 [==============================] - 0s 1ms/step - loss: 0.1703 - val_loss: 2.0050\n",
      "Epoch 7/30\n",
      "68/68 [==============================] - 0s 1ms/step - loss: 0.1556 - val_loss: 2.2830\n",
      "Epoch 8/30\n",
      "68/68 [==============================] - 0s 1ms/step - loss: 0.1684 - val_loss: 2.2107\n",
      "Epoch 9/30\n",
      "68/68 [==============================] - 0s 1ms/step - loss: 0.1560 - val_loss: 2.1413\n",
      "Epoch 10/30\n",
      "68/68 [==============================] - 0s 1ms/step - loss: 0.1621 - val_loss: 2.1643\n",
      "Epoch 11/30\n",
      "68/68 [==============================] - 0s 1ms/step - loss: 0.1831 - val_loss: 2.1359\n",
      "Epoch 12/30\n",
      "68/68 [==============================] - 0s 1ms/step - loss: 0.1477 - val_loss: 2.1652\n",
      "Epoch 13/30\n",
      "68/68 [==============================] - 0s 1ms/step - loss: 0.1432 - val_loss: 2.2998\n",
      "Epoch 14/30\n",
      "68/68 [==============================] - 0s 1ms/step - loss: 0.1731 - val_loss: 2.3420\n",
      "Epoch 15/30\n",
      "68/68 [==============================] - 0s 1ms/step - loss: 0.1476 - val_loss: 2.1001\n",
      "Epoch 16/30\n",
      "68/68 [==============================] - 0s 1ms/step - loss: 0.1457 - val_loss: 2.1016\n",
      "Epoch 17/30\n",
      "68/68 [==============================] - 0s 1ms/step - loss: 0.1625 - val_loss: 2.2078\n",
      "Epoch 18/30\n",
      "68/68 [==============================] - 0s 1ms/step - loss: 0.1573 - val_loss: 2.1822\n",
      "Epoch 19/30\n",
      "68/68 [==============================] - 0s 1ms/step - loss: 0.1392 - val_loss: 2.0610\n",
      "Epoch 20/30\n",
      "68/68 [==============================] - 0s 1ms/step - loss: 0.1472 - val_loss: 2.0932\n",
      "Epoch 21/30\n",
      "68/68 [==============================] - 0s 1ms/step - loss: 0.1355 - val_loss: 2.1503\n",
      "Epoch 22/30\n",
      "68/68 [==============================] - 0s 2ms/step - loss: 0.1630 - val_loss: 2.0948\n",
      "Epoch 23/30\n",
      "68/68 [==============================] - 0s 1ms/step - loss: 0.1510 - val_loss: 2.2066\n",
      "Epoch 24/30\n",
      "68/68 [==============================] - 0s 1ms/step - loss: 0.1479 - val_loss: 2.1107\n",
      "Epoch 25/30\n",
      "68/68 [==============================] - 0s 1ms/step - loss: 0.1604 - val_loss: 2.2108\n",
      "Epoch 26/30\n",
      "68/68 [==============================] - 0s 1ms/step - loss: 0.1383 - val_loss: 2.1904\n",
      "Epoch 27/30\n",
      "68/68 [==============================] - 0s 1ms/step - loss: 0.1361 - val_loss: 2.0408\n",
      "Epoch 28/30\n",
      "68/68 [==============================] - 0s 1ms/step - loss: 0.1939 - val_loss: 2.1441\n",
      "Epoch 29/30\n",
      "68/68 [==============================] - 0s 1ms/step - loss: 0.1595 - val_loss: 2.3463\n",
      "Epoch 30/30\n",
      "68/68 [==============================] - 0s 1ms/step - loss: 0.1807 - val_loss: 2.2419\n",
      "11/11 [==============================] - 0s 534us/step\n",
      "****************R2_val =  0.6608150232549487\n",
      "Epoch 1/30\n",
      "68/68 [==============================] - 0s 2ms/step - loss: 0.1364 - val_loss: 2.0271\n",
      "Epoch 2/30\n",
      "68/68 [==============================] - 0s 1ms/step - loss: 0.1354 - val_loss: 2.3225\n",
      "Epoch 3/30\n",
      "68/68 [==============================] - 0s 1ms/step - loss: 0.1409 - val_loss: 2.4160\n",
      "Epoch 4/30\n",
      "68/68 [==============================] - 0s 1ms/step - loss: 0.1726 - val_loss: 2.3460\n",
      "Epoch 5/30\n",
      "68/68 [==============================] - 0s 1ms/step - loss: 0.1605 - val_loss: 2.2401\n",
      "Epoch 6/30\n",
      "68/68 [==============================] - 0s 1ms/step - loss: 0.1644 - val_loss: 1.9509\n",
      "Epoch 7/30\n",
      "68/68 [==============================] - 0s 1ms/step - loss: 0.1376 - val_loss: 2.2660\n",
      "Epoch 8/30\n",
      "68/68 [==============================] - 0s 1ms/step - loss: 0.1370 - val_loss: 2.1224\n",
      "Epoch 9/30\n",
      "68/68 [==============================] - 0s 1ms/step - loss: 0.1279 - val_loss: 2.0661\n",
      "Epoch 10/30\n",
      "68/68 [==============================] - 0s 1ms/step - loss: 0.1482 - val_loss: 2.1383\n",
      "Epoch 11/30\n",
      "68/68 [==============================] - 0s 1ms/step - loss: 0.1720 - val_loss: 2.0619\n",
      "Epoch 12/30\n",
      "68/68 [==============================] - 0s 1ms/step - loss: 0.1463 - val_loss: 2.1465\n",
      "Epoch 13/30\n",
      "68/68 [==============================] - 0s 1ms/step - loss: 0.1392 - val_loss: 2.3234\n",
      "Epoch 14/30\n",
      "68/68 [==============================] - 0s 1ms/step - loss: 0.1518 - val_loss: 2.2256\n",
      "Epoch 15/30\n",
      "68/68 [==============================] - 0s 2ms/step - loss: 0.1281 - val_loss: 2.0506\n",
      "Epoch 16/30\n",
      "68/68 [==============================] - 0s 1ms/step - loss: 0.1339 - val_loss: 2.1631\n",
      "Epoch 17/30\n",
      "68/68 [==============================] - 0s 1ms/step - loss: 0.1439 - val_loss: 2.3384\n",
      "Epoch 18/30\n",
      "68/68 [==============================] - 0s 1ms/step - loss: 0.1369 - val_loss: 2.1719\n",
      "Epoch 19/30\n",
      "68/68 [==============================] - 0s 1ms/step - loss: 0.1269 - val_loss: 2.0602\n",
      "Epoch 20/30\n",
      "68/68 [==============================] - 0s 1ms/step - loss: 0.1259 - val_loss: 2.0127\n",
      "Epoch 21/30\n",
      "68/68 [==============================] - 0s 1ms/step - loss: 0.1288 - val_loss: 2.0946\n",
      "Epoch 22/30\n",
      "68/68 [==============================] - 0s 1ms/step - loss: 0.1284 - val_loss: 2.0193\n",
      "Epoch 23/30\n",
      "68/68 [==============================] - 0s 1ms/step - loss: 0.1382 - val_loss: 2.2076\n",
      "Epoch 24/30\n",
      "68/68 [==============================] - 0s 1ms/step - loss: 0.1347 - val_loss: 2.0893\n",
      "Epoch 25/30\n",
      "68/68 [==============================] - 0s 1ms/step - loss: 0.1501 - val_loss: 2.1174\n",
      "Epoch 26/30\n",
      "68/68 [==============================] - 0s 1ms/step - loss: 0.1215 - val_loss: 2.1974\n",
      "Epoch 27/30\n",
      "68/68 [==============================] - 0s 1ms/step - loss: 0.1186 - val_loss: 2.0703\n",
      "Epoch 28/30\n",
      "68/68 [==============================] - 0s 1ms/step - loss: 0.1450 - val_loss: 2.3188\n",
      "Epoch 29/30\n",
      "68/68 [==============================] - 0s 1ms/step - loss: 0.1405 - val_loss: 2.3713\n",
      "Epoch 30/30\n",
      "68/68 [==============================] - 0s 1ms/step - loss: 0.1494 - val_loss: 2.1760\n",
      "11/11 [==============================] - 0s 560us/step\n",
      "****************R2_val =  0.7349388040120988\n",
      "Epoch 1/30\n",
      "68/68 [==============================] - 0s 2ms/step - loss: 0.1174 - val_loss: 1.9656\n",
      "Epoch 2/30\n",
      "68/68 [==============================] - 0s 1ms/step - loss: 0.1216 - val_loss: 2.2148\n",
      "Epoch 3/30\n",
      "68/68 [==============================] - 0s 1ms/step - loss: 0.1276 - val_loss: 2.3067\n",
      "Epoch 4/30\n",
      "68/68 [==============================] - 0s 1ms/step - loss: 0.1449 - val_loss: 2.1953\n",
      "Epoch 5/30\n",
      "68/68 [==============================] - 0s 1ms/step - loss: 0.1594 - val_loss: 2.1722\n",
      "Epoch 6/30\n",
      "68/68 [==============================] - 0s 1ms/step - loss: 0.1488 - val_loss: 1.9381\n",
      "Epoch 7/30\n",
      "68/68 [==============================] - 0s 2ms/step - loss: 0.1263 - val_loss: 2.2677\n",
      "Epoch 8/30\n",
      "68/68 [==============================] - 0s 1ms/step - loss: 0.1187 - val_loss: 2.0650\n",
      "Epoch 9/30\n",
      "68/68 [==============================] - 0s 1ms/step - loss: 0.1172 - val_loss: 2.1006\n",
      "Epoch 10/30\n",
      "68/68 [==============================] - 0s 1ms/step - loss: 0.1276 - val_loss: 2.1680\n",
      "Epoch 11/30\n",
      "68/68 [==============================] - 0s 1ms/step - loss: 0.1489 - val_loss: 2.0482\n",
      "Epoch 12/30\n",
      "68/68 [==============================] - 0s 1ms/step - loss: 0.1317 - val_loss: 2.1597\n",
      "Epoch 13/30\n",
      "68/68 [==============================] - 0s 1ms/step - loss: 0.1226 - val_loss: 2.2748\n",
      "Epoch 14/30\n",
      "68/68 [==============================] - 0s 1ms/step - loss: 0.1340 - val_loss: 2.1666\n",
      "Epoch 15/30\n",
      "68/68 [==============================] - 0s 1ms/step - loss: 0.1129 - val_loss: 2.0257\n",
      "Epoch 16/30\n",
      "68/68 [==============================] - 0s 1ms/step - loss: 0.1227 - val_loss: 2.1760\n",
      "Epoch 17/30\n",
      "68/68 [==============================] - 0s 1ms/step - loss: 0.1294 - val_loss: 2.3858\n",
      "Epoch 18/30\n",
      "68/68 [==============================] - 0s 1ms/step - loss: 0.1481 - val_loss: 2.1865\n",
      "Epoch 19/30\n",
      "68/68 [==============================] - 0s 1ms/step - loss: 0.1130 - val_loss: 2.0749\n",
      "Epoch 20/30\n",
      "68/68 [==============================] - 0s 1ms/step - loss: 0.1155 - val_loss: 2.0141\n",
      "Epoch 21/30\n",
      "68/68 [==============================] - 0s 1ms/step - loss: 0.1271 - val_loss: 2.1165\n",
      "Epoch 22/30\n",
      "68/68 [==============================] - 0s 1ms/step - loss: 0.1196 - val_loss: 2.0596\n",
      "Epoch 23/30\n",
      "68/68 [==============================] - 0s 1ms/step - loss: 0.1244 - val_loss: 2.2079\n",
      "Epoch 24/30\n",
      "68/68 [==============================] - 0s 1ms/step - loss: 0.1214 - val_loss: 2.0701\n",
      "Epoch 25/30\n",
      "68/68 [==============================] - 0s 1ms/step - loss: 0.1358 - val_loss: 2.0215\n",
      "Epoch 26/30\n",
      "68/68 [==============================] - 0s 1ms/step - loss: 0.1149 - val_loss: 2.1426\n",
      "Epoch 27/30\n",
      "68/68 [==============================] - 0s 1ms/step - loss: 0.1047 - val_loss: 2.0486\n",
      "Epoch 28/30\n",
      "68/68 [==============================] - 0s 1ms/step - loss: 0.1255 - val_loss: 2.3022\n",
      "Epoch 29/30\n",
      "68/68 [==============================] - 0s 1ms/step - loss: 0.1275 - val_loss: 2.2810\n",
      "Epoch 30/30\n",
      "68/68 [==============================] - 0s 1ms/step - loss: 0.1199 - val_loss: 2.1325\n",
      "11/11 [==============================] - 0s 528us/step\n",
      "****************R2_val =  0.764093212762416\n",
      "Epoch 1/30\n",
      "68/68 [==============================] - 0s 2ms/step - loss: 0.1053 - val_loss: 1.9326\n",
      "Epoch 2/30\n",
      "68/68 [==============================] - 0s 1ms/step - loss: 0.1128 - val_loss: 2.1596\n",
      "Epoch 3/30\n",
      "68/68 [==============================] - 0s 1ms/step - loss: 0.1176 - val_loss: 2.3076\n",
      "Epoch 4/30\n",
      "68/68 [==============================] - 0s 1ms/step - loss: 0.1405 - val_loss: 2.0542\n",
      "Epoch 5/30\n",
      "68/68 [==============================] - 0s 1ms/step - loss: 0.1335 - val_loss: 2.1627\n",
      "Epoch 6/30\n",
      "68/68 [==============================] - 0s 1ms/step - loss: 0.1288 - val_loss: 1.9567\n",
      "Epoch 7/30\n",
      "68/68 [==============================] - 0s 2ms/step - loss: 0.1091 - val_loss: 2.2844\n",
      "Epoch 8/30\n",
      "68/68 [==============================] - 0s 1ms/step - loss: 0.1084 - val_loss: 2.0454\n",
      "Epoch 9/30\n",
      "68/68 [==============================] - 0s 1ms/step - loss: 0.1082 - val_loss: 2.0777\n",
      "Epoch 10/30\n",
      "68/68 [==============================] - 0s 1ms/step - loss: 0.1128 - val_loss: 2.1848\n",
      "Epoch 11/30\n",
      "68/68 [==============================] - 0s 1ms/step - loss: 0.1319 - val_loss: 2.0179\n",
      "Epoch 12/30\n",
      "68/68 [==============================] - 0s 1ms/step - loss: 0.1242 - val_loss: 2.2002\n",
      "Epoch 13/30\n",
      "68/68 [==============================] - 0s 1ms/step - loss: 0.1103 - val_loss: 2.2588\n",
      "Epoch 14/30\n",
      "68/68 [==============================] - 0s 1ms/step - loss: 0.1309 - val_loss: 2.0852\n",
      "Epoch 15/30\n",
      "68/68 [==============================] - 0s 1ms/step - loss: 0.1009 - val_loss: 2.0366\n",
      "Epoch 16/30\n",
      "68/68 [==============================] - 0s 1ms/step - loss: 0.1136 - val_loss: 2.1881\n",
      "Epoch 17/30\n",
      "68/68 [==============================] - 0s 1ms/step - loss: 0.1135 - val_loss: 2.3087\n",
      "Epoch 18/30\n",
      "68/68 [==============================] - 0s 1ms/step - loss: 0.1437 - val_loss: 2.1723\n",
      "Epoch 19/30\n",
      "68/68 [==============================] - 0s 1ms/step - loss: 0.1033 - val_loss: 2.0499\n",
      "Epoch 20/30\n",
      "68/68 [==============================] - 0s 1ms/step - loss: 0.1018 - val_loss: 2.0232\n",
      "Epoch 21/30\n",
      "68/68 [==============================] - 0s 1ms/step - loss: 0.1112 - val_loss: 2.1344\n",
      "Epoch 22/30\n",
      "68/68 [==============================] - 0s 1ms/step - loss: 0.1053 - val_loss: 2.0248\n",
      "Epoch 23/30\n",
      "68/68 [==============================] - 0s 1ms/step - loss: 0.1154 - val_loss: 2.2148\n",
      "Epoch 24/30\n",
      "68/68 [==============================] - 0s 1ms/step - loss: 0.1109 - val_loss: 2.0230\n",
      "Epoch 25/30\n",
      "68/68 [==============================] - 0s 1ms/step - loss: 0.1200 - val_loss: 2.0001\n",
      "Epoch 26/30\n",
      "68/68 [==============================] - 0s 1ms/step - loss: 0.1092 - val_loss: 2.1192\n",
      "Epoch 27/30\n",
      "68/68 [==============================] - 0s 1ms/step - loss: 0.0938 - val_loss: 2.0793\n",
      "Epoch 28/30\n",
      "68/68 [==============================] - 0s 1ms/step - loss: 0.1010 - val_loss: 2.2253\n",
      "Epoch 29/30\n",
      "68/68 [==============================] - 0s 1ms/step - loss: 0.1254 - val_loss: 2.2105\n",
      "Epoch 30/30\n",
      "68/68 [==============================] - 0s 1ms/step - loss: 0.0957 - val_loss: 2.0578\n",
      "11/11 [==============================] - 0s 535us/step\n",
      "****************R2_val =  0.7277679374129598\n",
      "CPU times: user 17.5 s, sys: 3.3 s, total: 20.8 s\n",
      "Wall time: 17.2 s\n"
     ]
    }
   ],
   "source": [
    "%%time\n",
    "set_seed(1)\n",
    "\n",
    "conv_best_pred_moving, bets_conv, conv_history = fit_moving(model)"
   ]
  },
  {
   "cell_type": "code",
   "execution_count": 29,
   "id": "cd203d58-27ef-4b6a-a2e5-1402c93945d7",
   "metadata": {},
   "outputs": [
    {
     "data": {
      "image/png": "[encoded data removed]",
      "text/plain": [
       "<Figure size 500x250 with 1 Axes>"
      ]
     },
     "metadata": {},
     "output_type": "display_data"
    }
   ],
   "source": [
    "plt.figure(figsize=(5,2.5))\n",
    "plt.plot(conv_best_pred_moving.rolling(\n",
    "        window=48,       # 1-day window\n",
    "        center=True,     # puts the average at the center of the window\n",
    "        min_periods=6  # choose about half the window size\n",
    "        ).mean(), label='pred')\n",
    "plt.plot(pd.Series(y_val_moving.values).rolling(\n",
    "        window=48,       # 1-day window\n",
    "        center=True,     # puts the average at the center of the window\n",
    "        min_periods=6  # choose about half the window size\n",
    "        ).mean(), label='test')\n",
    "plt.legend(loc='best')\n",
    "plt.title(f'LSTM trend & y_val\\n Mean absolute percentage error: {mape(y_val_moving, conv_best_pred_moving):.2%}')\n",
    "plt.grid(True)"
   ]
  },
  {
   "cell_type": "markdown",
   "id": "a45499f4-7cde-47fd-9d48-d7e1a35ff538",
   "metadata": {},
   "source": [
    "### LSTM"
   ]
  },
  {
   "cell_type": "code",
   "execution_count": 30,
   "id": "29282e2f-49d7-4b43-b5ce-98bf160a76f2",
   "metadata": {},
   "outputs": [],
   "source": [
    "def fit_moving(model):\n",
    "    set_seed(31415)\n",
    "    best_score = -1\n",
    "    for i in range(1,7): #30 эпох 16 батчей имба (мб 24/48 батчей), без эрли стоп, лр=0.01\n",
    "        #history = model.fit(pd.concat([x_train_moving, x_val_moving], axis=0), \n",
    "        #                    pd.concat([y_train_moving, y_val_moving], axis=0), \n",
    "        #                    epochs=30, batch_size=16, validation_split=0.2)\n",
    "        history = model.fit(x_train_moving, y_train_moving, epochs=30, batch_size=16, validation_split=0.2)\n",
    "        pred = pd.Series(model.predict(x_val_moving).ravel())\n",
    "        print('****************R2_val = ', r2(y_val_moving, pred))\n",
    "        if r2(y_val_moving, pred) > best_score: #y_val будет доступен на тот момент, можем ориентироваться на него\n",
    "            best_score = r2(y_val_moving, pred)\n",
    "            best_pred = pred\n",
    "            best_model = model.save('models/my_model.h5') \n",
    "    best_model = tf.keras.models.load_model('models/my_model.h5')\n",
    "    best_model.evaluate(x_train_moving, y_train_moving)\n",
    "    \n",
    "    return best_pred, best_model, history"
   ]
  },
  {
   "cell_type": "code",
   "execution_count": 31,
   "id": "04822540-ba02-41f2-ab00-bfb5f984ab42",
   "metadata": {},
   "outputs": [],
   "source": [
    "set_seed(1)\n",
    "rnn = Sequential()\n",
    "rnn.add(InputLayer(input_shape=[None,1]))\n",
    "\n",
    "rnn.add(BatchNormalization())\n",
    "rnn.add(LSTM(units=40, activation='relu'))\n",
    "rnn.add(Dropout(0.05))\n",
    "\n",
    "rnn.add(BatchNormalization())\n",
    "rnn.add(Dense(40, activation='relu'))\n",
    "rnn.add(Dropout(0.05))\n",
    "rnn.add(BatchNormalization())\n",
    "rnn.add(Dense(1))\n",
    "\n",
    "opt = keras.optimizers.legacy.Adam(learning_rate=0.005) #0.005 0.0075 0.01 – имба\n",
    "rnn.compile(loss='mse', optimizer=opt)#, metrics=r2_keras)"
   ]
  },
  {
   "cell_type": "code",
   "execution_count": 32,
   "id": "303406b6-b5f5-4429-a353-19837220f0db",
   "metadata": {},
   "outputs": [
    {
     "name": "stdout",
     "output_type": "stream",
     "text": [
      "Model: \"sequential_1\"\n",
      "_________________________________________________________________\n",
      " Layer (type)                Output Shape              Param #   \n",
      "=================================================================\n",
      " batch_normalization (BatchN  (None, None, 1)          4         \n",
      " ormalization)                                                   \n",
      "                                                                 \n",
      " lstm_1 (LSTM)               (None, 40)                6720      \n",
      "                                                                 \n",
      " dropout (Dropout)           (None, 40)                0         \n",
      "                                                                 \n",
      " batch_normalization_1 (Batc  (None, 40)               160       \n",
      " hNormalization)                                                 \n",
      "                                                                 \n",
      " dense_2 (Dense)             (None, 40)                1640      \n",
      "                                                                 \n",
      " dropout_1 (Dropout)         (None, 40)                0         \n",
      "                                                                 \n",
      " batch_normalization_2 (Batc  (None, 40)               160       \n",
      " hNormalization)                                                 \n",
      "                                                                 \n",
      " dense_3 (Dense)             (None, 1)                 41        \n",
      "                                                                 \n",
      "=================================================================\n",
      "Total params: 8,725\n",
      "Trainable params: 8,563\n",
      "Non-trainable params: 162\n",
      "_________________________________________________________________\n"
     ]
    }
   ],
   "source": [
    "rnn.summary()"
   ]
  },
  {
   "cell_type": "code",
   "execution_count": 33,
   "id": "075da28a-dc2f-4d73-b9a8-76a277110bc0",
   "metadata": {
    "tags": []
   },
   "outputs": [],
   "source": [
    "early_stopping = EarlyStopping(monitor='val_loss', patience=6, min_delta=0.0015)"
   ]
  },
  {
   "cell_type": "markdown",
   "id": "18d84d5a-8c92-4571-999b-8019f91702dd",
   "metadata": {},
   "source": [
    "Тут спорный момент, но несколько итераций с меньшим числом эпох давало результаты лучше, иначе `early_stop` не позволял дообучить модель."
   ]
  },
  {
   "cell_type": "code",
   "execution_count": 34,
   "id": "86582146-9790-4d7a-8822-f8d174f2d513",
   "metadata": {},
   "outputs": [
    {
     "name": "stdout",
     "output_type": "stream",
     "text": [
      "Epoch 1/30\n",
      "68/68 [==============================] - 1s 2ms/step - loss: 28.7189 - val_loss: 7.5744\n",
      "Epoch 2/30\n",
      "68/68 [==============================] - 0s 1ms/step - loss: 1.5080 - val_loss: 2.5181\n",
      "Epoch 3/30\n",
      "68/68 [==============================] - 0s 1ms/step - loss: 1.1280 - val_loss: 4.9069\n",
      "Epoch 4/30\n",
      "68/68 [==============================] - 0s 1ms/step - loss: 1.0183 - val_loss: 5.4058\n",
      "Epoch 5/30\n",
      "68/68 [==============================] - 0s 1ms/step - loss: 0.9351 - val_loss: 3.6185\n",
      "Epoch 6/30\n",
      "68/68 [==============================] - 0s 1ms/step - loss: 0.7976 - val_loss: 3.5022\n",
      "Epoch 7/30\n",
      "68/68 [==============================] - 0s 1ms/step - loss: 0.7803 - val_loss: 2.6823\n",
      "Epoch 8/30\n",
      "68/68 [==============================] - 0s 1ms/step - loss: 0.7582 - val_loss: 3.5782\n",
      "Epoch 9/30\n",
      "68/68 [==============================] - 0s 1ms/step - loss: 0.7190 - val_loss: 5.7810\n",
      "Epoch 10/30\n",
      "68/68 [==============================] - 0s 1ms/step - loss: 0.7019 - val_loss: 3.2536\n",
      "Epoch 11/30\n",
      "68/68 [==============================] - 0s 1ms/step - loss: 0.6348 - val_loss: 2.6412\n",
      "Epoch 12/30\n",
      "68/68 [==============================] - 0s 1ms/step - loss: 0.5945 - val_loss: 3.0035\n",
      "Epoch 13/30\n",
      "68/68 [==============================] - 0s 1ms/step - loss: 0.5485 - val_loss: 2.3878\n",
      "Epoch 14/30\n",
      "68/68 [==============================] - 0s 1ms/step - loss: 0.5548 - val_loss: 2.7739\n",
      "Epoch 15/30\n",
      "68/68 [==============================] - 0s 1ms/step - loss: 0.5269 - val_loss: 4.3005\n",
      "Epoch 16/30\n",
      "68/68 [==============================] - 0s 1ms/step - loss: 0.5547 - val_loss: 3.4263\n",
      "Epoch 17/30\n",
      "68/68 [==============================] - 0s 1ms/step - loss: 0.5150 - val_loss: 2.9066\n",
      "Epoch 18/30\n",
      "68/68 [==============================] - 0s 1ms/step - loss: 0.5247 - val_loss: 2.2891\n",
      "Epoch 19/30\n",
      "68/68 [==============================] - 0s 1ms/step - loss: 0.5290 - val_loss: 2.4999\n",
      "Epoch 20/30\n",
      "68/68 [==============================] - 0s 2ms/step - loss: 0.4539 - val_loss: 2.3816\n",
      "Epoch 21/30\n",
      "68/68 [==============================] - 0s 1ms/step - loss: 0.4781 - val_loss: 2.8898\n",
      "Epoch 22/30\n",
      "68/68 [==============================] - 0s 1ms/step - loss: 0.4615 - val_loss: 2.3277\n",
      "Epoch 23/30\n",
      "68/68 [==============================] - 0s 1ms/step - loss: 0.4776 - val_loss: 2.1345\n",
      "Epoch 24/30\n",
      "68/68 [==============================] - 0s 1ms/step - loss: 0.4260 - val_loss: 2.8003\n",
      "Epoch 25/30\n",
      "68/68 [==============================] - 0s 1ms/step - loss: 0.4727 - val_loss: 3.6178\n",
      "Epoch 26/30\n",
      "68/68 [==============================] - 0s 1ms/step - loss: 0.4259 - val_loss: 3.0584\n",
      "Epoch 27/30\n",
      "68/68 [==============================] - 0s 1ms/step - loss: 0.4239 - val_loss: 2.2810\n",
      "Epoch 28/30\n",
      "68/68 [==============================] - 0s 1ms/step - loss: 0.4458 - val_loss: 3.3800\n",
      "Epoch 29/30\n",
      "68/68 [==============================] - 0s 1ms/step - loss: 0.4252 - val_loss: 2.9416\n",
      "Epoch 30/30\n",
      "68/68 [==============================] - 0s 1ms/step - loss: 0.3850 - val_loss: 2.4854\n",
      "11/11 [==============================] - 0s 612us/step\n",
      "****************R2_val =  0.051181203015978616\n",
      "Epoch 1/30\n",
      "68/68 [==============================] - 0s 2ms/step - loss: 0.3917 - val_loss: 2.2253\n",
      "Epoch 2/30\n",
      "68/68 [==============================] - 0s 1ms/step - loss: 0.4086 - val_loss: 3.4514\n",
      "Epoch 3/30\n",
      "68/68 [==============================] - 0s 1ms/step - loss: 0.3422 - val_loss: 2.4026\n",
      "Epoch 4/30\n",
      "68/68 [==============================] - 0s 1ms/step - loss: 0.3774 - val_loss: 2.4275\n",
      "Epoch 5/30\n",
      "68/68 [==============================] - 0s 1ms/step - loss: 0.3374 - val_loss: 2.2603\n",
      "Epoch 6/30\n",
      "68/68 [==============================] - 0s 1ms/step - loss: 0.3934 - val_loss: 2.2919\n",
      "Epoch 7/30\n",
      "68/68 [==============================] - 0s 1ms/step - loss: 0.3895 - val_loss: 2.3884\n",
      "Epoch 8/30\n",
      "68/68 [==============================] - 0s 1ms/step - loss: 0.3985 - val_loss: 2.4663\n",
      "Epoch 9/30\n",
      "68/68 [==============================] - 0s 1ms/step - loss: 0.3383 - val_loss: 2.8457\n",
      "Epoch 10/30\n",
      "68/68 [==============================] - 0s 1ms/step - loss: 0.3613 - val_loss: 2.1303\n",
      "Epoch 11/30\n",
      "68/68 [==============================] - 0s 1ms/step - loss: 0.3592 - val_loss: 3.1982\n",
      "Epoch 12/30\n",
      "68/68 [==============================] - 0s 1ms/step - loss: 0.3642 - val_loss: 2.6827\n",
      "Epoch 13/30\n",
      "68/68 [==============================] - 0s 1ms/step - loss: 0.3852 - val_loss: 2.0481\n",
      "Epoch 14/30\n",
      "68/68 [==============================] - 0s 1ms/step - loss: 0.3430 - val_loss: 2.1922\n",
      "Epoch 15/30\n",
      "68/68 [==============================] - 0s 1ms/step - loss: 0.3457 - val_loss: 2.1234\n",
      "Epoch 16/30\n",
      "68/68 [==============================] - 0s 1ms/step - loss: 0.3928 - val_loss: 2.1223\n",
      "Epoch 17/30\n",
      "68/68 [==============================] - 0s 1ms/step - loss: 0.3231 - val_loss: 3.1345\n",
      "Epoch 18/30\n",
      "68/68 [==============================] - 0s 1ms/step - loss: 0.3355 - val_loss: 2.1909\n",
      "Epoch 19/30\n",
      "68/68 [==============================] - 0s 1ms/step - loss: 0.3642 - val_loss: 2.1886\n",
      "Epoch 20/30\n",
      "68/68 [==============================] - 0s 1ms/step - loss: 0.2977 - val_loss: 2.1819\n",
      "Epoch 21/30\n",
      "68/68 [==============================] - 0s 1ms/step - loss: 0.3356 - val_loss: 3.0431\n",
      "Epoch 22/30\n",
      "68/68 [==============================] - 0s 1ms/step - loss: 0.3424 - val_loss: 2.3998\n",
      "Epoch 23/30\n",
      "68/68 [==============================] - 0s 1ms/step - loss: 0.3989 - val_loss: 2.1925\n",
      "Epoch 24/30\n",
      "68/68 [==============================] - 0s 1ms/step - loss: 0.3064 - val_loss: 2.2608\n",
      "Epoch 25/30\n",
      "68/68 [==============================] - 0s 1ms/step - loss: 0.3425 - val_loss: 2.2084\n",
      "Epoch 26/30\n",
      "68/68 [==============================] - 0s 1ms/step - loss: 0.2911 - val_loss: 2.4009\n",
      "Epoch 27/30\n",
      "68/68 [==============================] - 0s 1ms/step - loss: 0.2846 - val_loss: 2.0722\n",
      "Epoch 28/30\n",
      "68/68 [==============================] - 0s 1ms/step - loss: 0.3301 - val_loss: 2.7031\n",
      "Epoch 29/30\n",
      "68/68 [==============================] - 0s 1ms/step - loss: 0.2940 - val_loss: 2.2348\n",
      "Epoch 30/30\n",
      "68/68 [==============================] - 0s 1ms/step - loss: 0.2815 - val_loss: 1.8604\n",
      "11/11 [==============================] - 0s 554us/step\n",
      "****************R2_val =  0.7629876744377804\n",
      "Epoch 1/30\n",
      "68/68 [==============================] - 0s 2ms/step - loss: 0.2960 - val_loss: 2.0733\n",
      "Epoch 2/30\n",
      "68/68 [==============================] - 0s 1ms/step - loss: 0.3296 - val_loss: 2.0640\n",
      "Epoch 3/30\n",
      "68/68 [==============================] - 0s 1ms/step - loss: 0.2839 - val_loss: 2.3291\n",
      "Epoch 4/30\n",
      "68/68 [==============================] - 0s 1ms/step - loss: 0.2450 - val_loss: 2.0796\n",
      "Epoch 5/30\n",
      "68/68 [==============================] - 0s 1ms/step - loss: 0.2708 - val_loss: 2.2739\n",
      "Epoch 6/30\n",
      "68/68 [==============================] - 0s 1ms/step - loss: 0.3171 - val_loss: 2.0794\n",
      "Epoch 7/30\n",
      "68/68 [==============================] - 0s 1ms/step - loss: 0.2791 - val_loss: 2.0104\n",
      "Epoch 8/30\n",
      "68/68 [==============================] - 0s 1ms/step - loss: 0.3002 - val_loss: 2.0876\n",
      "Epoch 9/30\n",
      "68/68 [==============================] - 0s 1ms/step - loss: 0.2541 - val_loss: 2.2184\n",
      "Epoch 10/30\n",
      "68/68 [==============================] - 0s 1ms/step - loss: 0.2719 - val_loss: 1.9533\n",
      "Epoch 11/30\n",
      "68/68 [==============================] - 0s 1ms/step - loss: 0.2584 - val_loss: 2.3031\n",
      "Epoch 12/30\n",
      "68/68 [==============================] - 0s 1ms/step - loss: 0.2644 - val_loss: 2.1951\n",
      "Epoch 13/30\n",
      "68/68 [==============================] - 0s 1ms/step - loss: 0.2773 - val_loss: 1.9753\n",
      "Epoch 14/30\n",
      "68/68 [==============================] - 0s 1ms/step - loss: 0.2450 - val_loss: 1.9530\n",
      "Epoch 15/30\n",
      "68/68 [==============================] - 0s 1ms/step - loss: 0.2318 - val_loss: 2.0271\n",
      "Epoch 16/30\n",
      "68/68 [==============================] - 0s 1ms/step - loss: 0.3171 - val_loss: 2.1383\n",
      "Epoch 17/30\n",
      "68/68 [==============================] - 0s 1ms/step - loss: 0.2484 - val_loss: 2.5305\n",
      "Epoch 18/30\n",
      "68/68 [==============================] - 0s 1ms/step - loss: 0.2818 - val_loss: 1.8874\n",
      "Epoch 19/30\n",
      "68/68 [==============================] - 0s 1ms/step - loss: 0.2677 - val_loss: 1.9936\n",
      "Epoch 20/30\n",
      "68/68 [==============================] - 0s 2ms/step - loss: 0.2574 - val_loss: 1.9932\n",
      "Epoch 21/30\n",
      "68/68 [==============================] - 0s 1ms/step - loss: 0.2701 - val_loss: 2.2267\n",
      "Epoch 22/30\n",
      "68/68 [==============================] - 0s 1ms/step - loss: 0.2636 - val_loss: 2.1512\n",
      "Epoch 23/30\n",
      "68/68 [==============================] - 0s 1ms/step - loss: 0.3138 - val_loss: 2.1712\n",
      "Epoch 24/30\n",
      "68/68 [==============================] - 0s 1ms/step - loss: 0.2378 - val_loss: 2.2182\n",
      "Epoch 25/30\n",
      "68/68 [==============================] - 0s 1ms/step - loss: 0.2423 - val_loss: 2.2756\n",
      "Epoch 26/30\n",
      "68/68 [==============================] - 0s 1ms/step - loss: 0.2311 - val_loss: 2.1976\n",
      "Epoch 27/30\n",
      "68/68 [==============================] - 0s 1ms/step - loss: 0.2326 - val_loss: 2.0483\n",
      "Epoch 28/30\n",
      "68/68 [==============================] - 0s 1ms/step - loss: 0.2546 - val_loss: 2.1789\n",
      "Epoch 29/30\n",
      "68/68 [==============================] - 0s 1ms/step - loss: 0.2447 - val_loss: 2.1670\n",
      "Epoch 30/30\n",
      "68/68 [==============================] - 0s 1ms/step - loss: 0.2201 - val_loss: 1.9733\n",
      "11/11 [==============================] - 0s 535us/step\n",
      "****************R2_val =  0.7444057656097716\n",
      "Epoch 1/30\n",
      "68/68 [==============================] - 0s 2ms/step - loss: 0.2381 - val_loss: 2.1278\n",
      "Epoch 2/30\n",
      "68/68 [==============================] - 0s 1ms/step - loss: 0.2479 - val_loss: 2.1020\n",
      "Epoch 3/30\n",
      "68/68 [==============================] - 0s 1ms/step - loss: 0.2081 - val_loss: 2.2600\n",
      "Epoch 4/30\n",
      "68/68 [==============================] - 0s 1ms/step - loss: 0.2058 - val_loss: 2.0976\n",
      "Epoch 5/30\n",
      "68/68 [==============================] - 0s 2ms/step - loss: 0.2302 - val_loss: 2.1861\n",
      "Epoch 6/30\n",
      "68/68 [==============================] - 0s 1ms/step - loss: 0.2597 - val_loss: 2.3102\n",
      "Epoch 7/30\n",
      "68/68 [==============================] - 0s 1ms/step - loss: 0.2397 - val_loss: 1.9879\n",
      "Epoch 8/30\n",
      "68/68 [==============================] - 0s 1ms/step - loss: 0.2605 - val_loss: 2.1002\n",
      "Epoch 9/30\n",
      "68/68 [==============================] - 0s 1ms/step - loss: 0.2250 - val_loss: 2.1999\n",
      "Epoch 10/30\n",
      "68/68 [==============================] - 0s 1ms/step - loss: 0.2015 - val_loss: 1.9733\n",
      "Epoch 11/30\n",
      "68/68 [==============================] - 0s 1ms/step - loss: 0.2277 - val_loss: 2.0879\n",
      "Epoch 12/30\n",
      "68/68 [==============================] - 0s 1ms/step - loss: 0.2281 - val_loss: 2.2089\n",
      "Epoch 13/30\n",
      "68/68 [==============================] - 0s 1ms/step - loss: 0.2426 - val_loss: 1.9356\n",
      "Epoch 14/30\n",
      "68/68 [==============================] - 0s 1ms/step - loss: 0.2097 - val_loss: 2.0940\n",
      "Epoch 15/30\n",
      "68/68 [==============================] - 0s 1ms/step - loss: 0.1924 - val_loss: 2.0696\n",
      "Epoch 16/30\n",
      "68/68 [==============================] - 0s 1ms/step - loss: 0.2618 - val_loss: 2.0717\n",
      "Epoch 17/30\n",
      "68/68 [==============================] - 0s 1ms/step - loss: 0.1999 - val_loss: 2.1243\n",
      "Epoch 18/30\n",
      "68/68 [==============================] - 0s 1ms/step - loss: 0.2181 - val_loss: 1.8446\n",
      "Epoch 19/30\n",
      "68/68 [==============================] - 0s 1ms/step - loss: 0.2271 - val_loss: 1.8753\n",
      "Epoch 20/30\n",
      "68/68 [==============================] - 0s 1ms/step - loss: 0.2134 - val_loss: 2.0903\n",
      "Epoch 21/30\n",
      "68/68 [==============================] - 0s 1ms/step - loss: 0.2309 - val_loss: 2.0892\n",
      "Epoch 22/30\n",
      "68/68 [==============================] - 0s 1ms/step - loss: 0.2275 - val_loss: 2.3235\n",
      "Epoch 23/30\n",
      "68/68 [==============================] - 0s 1ms/step - loss: 0.2736 - val_loss: 2.2345\n",
      "Epoch 24/30\n",
      "68/68 [==============================] - 0s 1ms/step - loss: 0.2103 - val_loss: 2.3254\n",
      "Epoch 25/30\n",
      "68/68 [==============================] - 0s 1ms/step - loss: 0.2094 - val_loss: 2.1754\n",
      "Epoch 26/30\n",
      "68/68 [==============================] - 0s 1ms/step - loss: 0.1923 - val_loss: 2.1633\n",
      "Epoch 27/30\n",
      "68/68 [==============================] - 0s 1ms/step - loss: 0.1945 - val_loss: 1.9764\n",
      "Epoch 28/30\n",
      "68/68 [==============================] - 0s 1ms/step - loss: 0.2435 - val_loss: 2.2681\n",
      "Epoch 29/30\n",
      "68/68 [==============================] - 0s 1ms/step - loss: 0.2163 - val_loss: 2.1997\n",
      "Epoch 30/30\n",
      "68/68 [==============================] - 0s 1ms/step - loss: 0.1994 - val_loss: 2.0012\n",
      "11/11 [==============================] - 0s 532us/step\n",
      "****************R2_val =  0.7445460068085556\n",
      "Epoch 1/30\n",
      "68/68 [==============================] - 0s 2ms/step - loss: 0.2112 - val_loss: 1.9743\n",
      "Epoch 2/30\n",
      "68/68 [==============================] - 0s 1ms/step - loss: 0.2230 - val_loss: 2.3405\n",
      "Epoch 3/30\n",
      "68/68 [==============================] - 0s 2ms/step - loss: 0.1922 - val_loss: 2.1244\n",
      "Epoch 4/30\n",
      "68/68 [==============================] - 0s 1ms/step - loss: 0.1776 - val_loss: 2.1452\n",
      "Epoch 5/30\n",
      "68/68 [==============================] - 0s 1ms/step - loss: 0.1996 - val_loss: 2.2326\n",
      "Epoch 6/30\n",
      "68/68 [==============================] - 0s 1ms/step - loss: 0.2491 - val_loss: 2.2215\n",
      "Epoch 7/30\n",
      "68/68 [==============================] - 0s 1ms/step - loss: 0.2265 - val_loss: 2.0933\n",
      "Epoch 8/30\n",
      "68/68 [==============================] - 0s 1ms/step - loss: 0.2310 - val_loss: 2.3290\n",
      "Epoch 9/30\n",
      "68/68 [==============================] - 0s 1ms/step - loss: 0.1972 - val_loss: 2.2290\n",
      "Epoch 10/30\n",
      "68/68 [==============================] - 0s 1ms/step - loss: 0.1899 - val_loss: 2.1863\n",
      "Epoch 11/30\n",
      "68/68 [==============================] - 0s 1ms/step - loss: 0.2074 - val_loss: 2.2752\n",
      "Epoch 12/30\n",
      "68/68 [==============================] - 0s 1ms/step - loss: 0.2081 - val_loss: 2.0870\n",
      "Epoch 13/30\n",
      "68/68 [==============================] - 0s 1ms/step - loss: 0.2152 - val_loss: 2.0195\n",
      "Epoch 14/30\n",
      "68/68 [==============================] - 0s 1ms/step - loss: 0.1890 - val_loss: 1.9803\n",
      "Epoch 15/30\n",
      "68/68 [==============================] - 0s 1ms/step - loss: 0.1871 - val_loss: 2.1752\n",
      "Epoch 16/30\n",
      "68/68 [==============================] - 0s 1ms/step - loss: 0.2542 - val_loss: 2.1687\n",
      "Epoch 17/30\n",
      "68/68 [==============================] - 0s 1ms/step - loss: 0.1913 - val_loss: 2.1092\n",
      "Epoch 18/30\n",
      "68/68 [==============================] - 0s 1ms/step - loss: 0.2095 - val_loss: 1.9646\n",
      "Epoch 19/30\n",
      "68/68 [==============================] - 0s 1ms/step - loss: 0.2063 - val_loss: 1.9288\n",
      "Epoch 20/30\n",
      "68/68 [==============================] - 0s 1ms/step - loss: 0.1855 - val_loss: 2.1088\n",
      "Epoch 21/30\n",
      "68/68 [==============================] - 0s 1ms/step - loss: 0.2220 - val_loss: 1.9757\n",
      "Epoch 22/30\n",
      "68/68 [==============================] - 0s 1ms/step - loss: 0.2106 - val_loss: 2.1240\n",
      "Epoch 23/30\n",
      "68/68 [==============================] - 0s 1ms/step - loss: 0.2628 - val_loss: 2.3136\n",
      "Epoch 24/30\n",
      "68/68 [==============================] - 0s 1ms/step - loss: 0.1895 - val_loss: 2.2279\n",
      "Epoch 25/30\n",
      "68/68 [==============================] - 0s 1ms/step - loss: 0.1867 - val_loss: 2.2050\n",
      "Epoch 26/30\n",
      "68/68 [==============================] - 0s 1ms/step - loss: 0.1666 - val_loss: 2.0530\n",
      "Epoch 27/30\n",
      "68/68 [==============================] - 0s 2ms/step - loss: 0.1829 - val_loss: 1.9900\n",
      "Epoch 28/30\n",
      "68/68 [==============================] - 0s 1ms/step - loss: 0.2098 - val_loss: 2.4095\n",
      "Epoch 29/30\n",
      "68/68 [==============================] - 0s 1ms/step - loss: 0.1918 - val_loss: 2.2115\n",
      "Epoch 30/30\n",
      "68/68 [==============================] - 0s 1ms/step - loss: 0.1730 - val_loss: 2.0275\n",
      "11/11 [==============================] - 0s 544us/step\n",
      "****************R2_val =  0.6796550126403341\n",
      "Epoch 1/30\n",
      "68/68 [==============================] - 0s 2ms/step - loss: 0.1920 - val_loss: 1.9223\n",
      "Epoch 2/30\n",
      "68/68 [==============================] - 0s 1ms/step - loss: 0.2092 - val_loss: 2.1164\n",
      "Epoch 3/30\n",
      "68/68 [==============================] - 0s 1ms/step - loss: 0.1751 - val_loss: 2.3571\n",
      "Epoch 4/30\n",
      "68/68 [==============================] - 0s 1ms/step - loss: 0.1631 - val_loss: 2.1868\n",
      "Epoch 5/30\n",
      "68/68 [==============================] - 0s 1ms/step - loss: 0.1997 - val_loss: 2.1836\n",
      "Epoch 6/30\n",
      "68/68 [==============================] - 0s 1ms/step - loss: 0.2456 - val_loss: 2.1250\n",
      "Epoch 7/30\n",
      "68/68 [==============================] - 0s 1ms/step - loss: 0.2193 - val_loss: 1.9851\n",
      "Epoch 8/30\n",
      "68/68 [==============================] - 0s 1ms/step - loss: 0.2344 - val_loss: 2.2174\n",
      "Epoch 9/30\n",
      "68/68 [==============================] - 0s 1ms/step - loss: 0.1787 - val_loss: 2.0491\n",
      "Epoch 10/30\n",
      "68/68 [==============================] - 0s 1ms/step - loss: 0.1672 - val_loss: 1.9937\n",
      "Epoch 11/30\n",
      "68/68 [==============================] - 0s 1ms/step - loss: 0.1859 - val_loss: 2.1100\n",
      "Epoch 12/30\n",
      "68/68 [==============================] - 0s 1ms/step - loss: 0.1889 - val_loss: 2.1729\n",
      "Epoch 13/30\n",
      "68/68 [==============================] - 0s 2ms/step - loss: 0.2130 - val_loss: 1.9536\n",
      "Epoch 14/30\n",
      "68/68 [==============================] - 0s 1ms/step - loss: 0.1686 - val_loss: 2.0321\n",
      "Epoch 15/30\n",
      "68/68 [==============================] - 0s 1ms/step - loss: 0.1752 - val_loss: 2.1231\n",
      "Epoch 16/30\n",
      "68/68 [==============================] - 0s 1ms/step - loss: 0.2399 - val_loss: 2.1321\n",
      "Epoch 17/30\n",
      "68/68 [==============================] - 0s 1ms/step - loss: 0.1820 - val_loss: 2.1102\n",
      "Epoch 18/30\n",
      "68/68 [==============================] - 0s 1ms/step - loss: 0.2022 - val_loss: 1.9474\n",
      "Epoch 19/30\n",
      "68/68 [==============================] - 0s 1ms/step - loss: 0.1981 - val_loss: 1.9052\n",
      "Epoch 20/30\n",
      "68/68 [==============================] - 0s 1ms/step - loss: 0.1788 - val_loss: 2.0702\n",
      "Epoch 21/30\n",
      "68/68 [==============================] - 0s 1ms/step - loss: 0.1955 - val_loss: 2.0003\n",
      "Epoch 22/30\n",
      "68/68 [==============================] - 0s 1ms/step - loss: 0.2126 - val_loss: 2.1356\n",
      "Epoch 23/30\n",
      "68/68 [==============================] - 0s 1ms/step - loss: 0.2402 - val_loss: 2.0442\n",
      "Epoch 24/30\n",
      "68/68 [==============================] - 0s 1ms/step - loss: 0.1782 - val_loss: 2.2297\n",
      "Epoch 25/30\n",
      "68/68 [==============================] - 0s 1ms/step - loss: 0.1698 - val_loss: 2.1507\n",
      "Epoch 26/30\n",
      "68/68 [==============================] - 0s 1ms/step - loss: 0.2023 - val_loss: 1.9470\n",
      "Epoch 27/30\n",
      "68/68 [==============================] - 0s 1ms/step - loss: 0.1838 - val_loss: 1.8839\n",
      "Epoch 28/30\n",
      "68/68 [==============================] - 0s 1ms/step - loss: 0.2039 - val_loss: 2.2884\n",
      "Epoch 29/30\n",
      "68/68 [==============================] - 0s 1ms/step - loss: 0.1837 - val_loss: 2.1459\n",
      "Epoch 30/30\n",
      "68/68 [==============================] - 0s 1ms/step - loss: 0.1757 - val_loss: 2.0565\n",
      "11/11 [==============================] - 0s 557us/step\n",
      "****************R2_val =  0.6599434851545896\n",
      "42/42 [==============================] - 0s 841us/step - loss: 0.7146\n",
      "CPU times: user 18.1 s, sys: 2.45 s, total: 20.6 s\n",
      "Wall time: 17.3 s\n"
     ]
    }
   ],
   "source": [
    "%%time\n",
    "set_seed(1)\n",
    "best_pred_moving, best_rnn, history = fit_moving(rnn)"
   ]
  },
  {
   "cell_type": "code",
   "execution_count": 35,
   "id": "e31d993c-f24d-4ef7-83db-6bd2dd041609",
   "metadata": {},
   "outputs": [
    {
     "data": {
      "text/plain": [
       "0    7.797234\n",
       "1    7.951540\n",
       "2    8.094215\n",
       "3    8.200291\n",
       "4    8.283412\n",
       "dtype: float32"
      ]
     },
     "execution_count": 35,
     "metadata": {},
     "output_type": "execute_result"
    }
   ],
   "source": [
    "best_pred_moving.head()"
   ]
  },
  {
   "cell_type": "code",
   "execution_count": 36,
   "id": "c2a89d08-ec2b-4875-ab98-dbab73fce5cd",
   "metadata": {},
   "outputs": [
    {
     "name": "stdout",
     "output_type": "stream",
     "text": [
      "11/11 [==============================] - 0s 661us/step\n"
     ]
    },
    {
     "data": {
      "text/plain": [
       "0    7.797234\n",
       "1    7.951540\n",
       "2    8.094215\n",
       "3    8.200291\n",
       "4    8.283412\n",
       "dtype: float32"
      ]
     },
     "execution_count": 36,
     "metadata": {},
     "output_type": "execute_result"
    }
   ],
   "source": [
    "pd.Series(best_rnn.predict(x_val_moving).ravel()).head()"
   ]
  },
  {
   "cell_type": "code",
   "execution_count": 37,
   "id": "57c0c40d-9979-458f-bb5d-88436cb79552",
   "metadata": {},
   "outputs": [
    {
     "data": {
      "image/png": "[encoded data removed]",
      "text/plain": [
       "<Figure size 500x250 with 1 Axes>"
      ]
     },
     "metadata": {},
     "output_type": "display_data"
    }
   ],
   "source": [
    "plt.figure(figsize=(5,2.5))\n",
    "plt.plot(best_pred_moving.rolling(\n",
    "        window=48,       # 1-day window\n",
    "        center=True,     # puts the average at the center of the window\n",
    "        min_periods=6  # choose about half the window size\n",
    "        ).mean(), label='pred')\n",
    "plt.plot(pd.Series(y_val_moving.values).rolling(\n",
    "        window=48,       # 1-day window\n",
    "        center=True,     # puts the average at the center of the window\n",
    "        min_periods=6  # choose about half the window size\n",
    "        ).mean(), label='test')\n",
    "plt.legend(loc='best')\n",
    "plt.title(f'LSTM trend & y_val\\n Mean absolute percentage error: {mape(y_val_moving, best_pred_moving):.2%}')\n",
    "plt.grid(True)"
   ]
  },
  {
   "cell_type": "code",
   "execution_count": 38,
   "id": "93f6fd45-8147-4b64-a3a9-b1d147516ed3",
   "metadata": {
    "tags": []
   },
   "outputs": [
    {
     "name": "stdout",
     "output_type": "stream",
     "text": [
      "11/11 [==============================] - 0s 612us/step\n",
      "11/11 [==============================] - 0s 671us/step\n"
     ]
    },
    {
     "data": {
      "image/png": "[encoded data removed]",
      "text/plain": [
       "<Figure size 500x250 with 1 Axes>"
      ]
     },
     "metadata": {},
     "output_type": "display_data"
    }
   ],
   "source": [
    "#plt.rcParams['font.size'] = '7'\n",
    "plt.figure(figsize=(5,2.5))\n",
    "plt.plot(best_rnn.predict(x_test[moving_features]), label='pred')\n",
    "plt.plot(pd.Series(y_test_moving.values), label='test')\n",
    "plt.legend(loc='best')\n",
    "plt.title(f'LSTM trend & y_test\\n Mean absolute percentage error: {mape(y_test_moving, best_rnn.predict(x_test[moving_features])):.2%}')\n",
    "plt.grid(True)"
   ]
  },
  {
   "cell_type": "code",
   "execution_count": 39,
   "id": "4cd4f328-6050-411f-a3be-46296a23e2fc",
   "metadata": {},
   "outputs": [
    {
     "data": {
      "image/png": "[encoded data removed]",
      "text/plain": [
       "<Figure size 500x250 with 1 Axes>"
      ]
     },
     "metadata": {},
     "output_type": "display_data"
    }
   ],
   "source": [
    "#plt.rcParams['font.size'] = '7'\n",
    "plt.figure(figsize=(5,2.5))\n",
    "plt.plot(best_pred_moving, label='pred')\n",
    "plt.plot(pd.Series(y_val_moving.values), label='test')\n",
    "plt.legend(loc='best')\n",
    "plt.title(f'LSTM trend & y_val\\n Mean absolute percentage error: {mape(y_val_moving, best_pred_moving):.2%}')\n",
    "plt.grid(True)"
   ]
  },
  {
   "cell_type": "markdown",
   "id": "314be15c-fe2f-4326-b0cf-9d9ff686f4da",
   "metadata": {},
   "source": [
    "По сути мы уже получили готовые прогнозы для мощности, иногда они уже бывают приемлемыми, но так выходит не всегда. Особенно на тесте. Если же воспользоваться ими и дообучить модели, как правило, получаются более точные результаты."
   ]
  },
  {
   "cell_type": "code",
   "execution_count": 40,
   "id": "8fa1c631-14c6-4575-9ac3-2c4e1c19d25a",
   "metadata": {
    "tags": []
   },
   "outputs": [
    {
     "name": "stdout",
     "output_type": "stream",
     "text": [
      "MAPE = 4.53\n",
      "r2 = 0.763\n",
      "MAE = 0.374\n",
      "MSE = 0.205\n",
      "RMSE =  0.453\n"
     ]
    }
   ],
   "source": [
    "scores(y_val_moving, best_pred_moving)"
   ]
  },
  {
   "cell_type": "code",
   "execution_count": 41,
   "id": "0e0d9d98-0516-4356-bdab-5244a3667381",
   "metadata": {
    "tags": []
   },
   "outputs": [
    {
     "name": "stdout",
     "output_type": "stream",
     "text": [
      "11/11 [==============================] - 0s 803us/step\n",
      "MAPE = 6.36\n",
      "r2 = 0.558\n",
      "MAE = 0.575\n",
      "MSE = 0.578\n",
      "RMSE =  0.760\n"
     ]
    }
   ],
   "source": [
    "scores(y_test, best_rnn.predict(x_test[moving_features]))"
   ]
  },
  {
   "cell_type": "markdown",
   "id": "50e0c70c-261e-43d2-8867-348273ff9b99",
   "metadata": {},
   "source": [
    "### Линейная модель: регрессия Надарая-Ватсона"
   ]
  },
  {
   "cell_type": "code",
   "execution_count": 42,
   "id": "77693f80-feb7-4df2-869e-659a763e1780",
   "metadata": {
    "tags": []
   },
   "outputs": [],
   "source": [
    "from sklearn.kernel_ridge import KernelRidge\n",
    "from sklearn.model_selection import GridSearchCV\n",
    "from sklearn.model_selection import TimeSeriesSplit, KFold\n",
    "\n",
    "tscv = TimeSeriesSplit(n_splits=3)\n",
    "kf = KFold(n_splits=3, shuffle=False)\n",
    "krr = KernelRidge()\n",
    "\n",
    "param_grid = {'alpha': [10, 100, 200, 500], 'degree': list(range(2,4)), 'kernel': ['polynomial', 'linear']}\n",
    "grid = GridSearchCV(krr, param_grid=param_grid, cv=kf, verbose=3, scoring='neg_mean_squared_error', n_jobs=-1)"
   ]
  },
  {
   "cell_type": "code",
   "execution_count": 43,
   "id": "77368b4f-e802-421d-b7e7-2f08846ecdb7",
   "metadata": {
    "tags": []
   },
   "outputs": [
    {
     "name": "stdout",
     "output_type": "stream",
     "text": [
      "Fitting 3 folds for each of 16 candidates, totalling 48 fits\n"
     ]
    },
    {
     "data": {
      "text/html": [
       "<style>#sk-container-id-1 {color: black;background-color: white;}#sk-container-id-1 pre{padding: 0;}#sk-container-id-1 div.sk-toggleable {background-color: white;}#sk-container-id-1 label.sk-toggleable__label {cursor: pointer;display: block;width: 100%;margin-bottom: 0;padding: 0.3em;box-sizing: border-box;text-align: center;}#sk-container-id-1 label.sk-toggleable__label-arrow:before {content: \"▸\";float: left;margin-right: 0.25em;color: #696969;}#sk-container-id-1 label.sk-toggleable__label-arrow:hover:before {color: black;}#sk-container-id-1 div.sk-estimator:hover label.sk-toggleable__label-arrow:before {color: black;}#sk-container-id-1 div.sk-toggleable__content {max-height: 0;max-width: 0;overflow: hidden;text-align: left;background-color: #f0f8ff;}#sk-container-id-1 div.sk-toggleable__content pre {margin: 0.2em;color: black;border-radius: 0.25em;background-color: #f0f8ff;}#sk-container-id-1 input.sk-toggleable__control:checked~div.sk-toggleable__content {max-height: 200px;max-width: 100%;overflow: auto;}#sk-container-id-1 input.sk-toggleable__control:checked~label.sk-toggleable__label-arrow:before {content: \"▾\";}#sk-container-id-1 div.sk-estimator input.sk-toggleable__control:checked~label.sk-toggleable__label {background-color: #d4ebff;}#sk-container-id-1 div.sk-label input.sk-toggleable__control:checked~label.sk-toggleable__label {background-color: #d4ebff;}#sk-container-id-1 input.sk-hidden--visually {border: 0;clip: rect(1px 1px 1px 1px);clip: rect(1px, 1px, 1px, 1px);height: 1px;margin: -1px;overflow: hidden;padding: 0;position: absolute;width: 1px;}#sk-container-id-1 div.sk-estimator {font-family: monospace;background-color: #f0f8ff;border: 1px dotted black;border-radius: 0.25em;box-sizing: border-box;margin-bottom: 0.5em;}#sk-container-id-1 div.sk-estimator:hover {background-color: #d4ebff;}#sk-container-id-1 div.sk-parallel-item::after {content: \"\";width: 100%;border-bottom: 1px solid gray;flex-grow: 1;}#sk-container-id-1 div.sk-label:hover label.sk-toggleable__label {background-color: #d4ebff;}#sk-container-id-1 div.sk-serial::before {content: \"\";position: absolute;border-left: 1px solid gray;box-sizing: border-box;top: 0;bottom: 0;left: 50%;z-index: 0;}#sk-container-id-1 div.sk-serial {display: flex;flex-direction: column;align-items: center;background-color: white;padding-right: 0.2em;padding-left: 0.2em;position: relative;}#sk-container-id-1 div.sk-item {position: relative;z-index: 1;}#sk-container-id-1 div.sk-parallel {display: flex;align-items: stretch;justify-content: center;background-color: white;position: relative;}#sk-container-id-1 div.sk-item::before, #sk-container-id-1 div.sk-parallel-item::before {content: \"\";position: absolute;border-left: 1px solid gray;box-sizing: border-box;top: 0;bottom: 0;left: 50%;z-index: -1;}#sk-container-id-1 div.sk-parallel-item {display: flex;flex-direction: column;z-index: 1;position: relative;background-color: white;}#sk-container-id-1 div.sk-parallel-item:first-child::after {align-self: flex-end;width: 50%;}#sk-container-id-1 div.sk-parallel-item:last-child::after {align-self: flex-start;width: 50%;}#sk-container-id-1 div.sk-parallel-item:only-child::after {width: 0;}#sk-container-id-1 div.sk-dashed-wrapped {border: 1px dashed gray;margin: 0 0.4em 0.5em 0.4em;box-sizing: border-box;padding-bottom: 0.4em;background-color: white;}#sk-container-id-1 div.sk-label label {font-family: monospace;font-weight: bold;display: inline-block;line-height: 1.2em;}#sk-container-id-1 div.sk-label-container {text-align: center;}#sk-container-id-1 div.sk-container {/* jupyter's `normalize.less` sets `[hidden] { display: none; }` but bootstrap.min.css set `[hidden] { display: none !important; }` so we also need the `!important` here to be able to override the default hidden behavior on the sphinx rendered scikit-learn.org. See: https://github.com/scikit-learn/scikit-learn/issues/21755 */display: inline-block !important;position: relative;}#sk-container-id-1 div.sk-text-repr-fallback {display: none;}</style><div id=\"sk-container-id-1\" class=\"sk-top-container\"><div class=\"sk-text-repr-fallback\"><pre>GridSearchCV(cv=KFold(n_splits=3, random_state=None, shuffle=False),\n",
       "             estimator=KernelRidge(), n_jobs=-1,\n",
       "             param_grid={&#x27;alpha&#x27;: [10, 100, 200, 500], &#x27;degree&#x27;: [2, 3],\n",
       "                         &#x27;kernel&#x27;: [&#x27;polynomial&#x27;, &#x27;linear&#x27;]},\n",
       "             scoring=&#x27;neg_mean_squared_error&#x27;, verbose=3)</pre><b>In a Jupyter environment, please rerun this cell to show the HTML representation or trust the notebook. <br />On GitHub, the HTML representation is unable to render, please try loading this page with nbviewer.org.</b></div><div class=\"sk-container\" hidden><div class=\"sk-item sk-dashed-wrapped\"><div class=\"sk-label-container\"><div class=\"sk-label sk-toggleable\"><input class=\"sk-toggleable__control sk-hidden--visually\" id=\"sk-estimator-id-1\" type=\"checkbox\" ><label for=\"sk-estimator-id-1\" class=\"sk-toggleable__label sk-toggleable__label-arrow\">GridSearchCV</label><div class=\"sk-toggleable__content\"><pre>GridSearchCV(cv=KFold(n_splits=3, random_state=None, shuffle=False),\n",
       "             estimator=KernelRidge(), n_jobs=-1,\n",
       "             param_grid={&#x27;alpha&#x27;: [10, 100, 200, 500], &#x27;degree&#x27;: [2, 3],\n",
       "                         &#x27;kernel&#x27;: [&#x27;polynomial&#x27;, &#x27;linear&#x27;]},\n",
       "             scoring=&#x27;neg_mean_squared_error&#x27;, verbose=3)</pre></div></div></div><div class=\"sk-parallel\"><div class=\"sk-parallel-item\"><div class=\"sk-item\"><div class=\"sk-label-container\"><div class=\"sk-label sk-toggleable\"><input class=\"sk-toggleable__control sk-hidden--visually\" id=\"sk-estimator-id-2\" type=\"checkbox\" ><label for=\"sk-estimator-id-2\" class=\"sk-toggleable__label sk-toggleable__label-arrow\">estimator: KernelRidge</label><div class=\"sk-toggleable__content\"><pre>KernelRidge()</pre></div></div></div><div class=\"sk-serial\"><div class=\"sk-item\"><div class=\"sk-estimator sk-toggleable\"><input class=\"sk-toggleable__control sk-hidden--visually\" id=\"sk-estimator-id-3\" type=\"checkbox\" ><label for=\"sk-estimator-id-3\" class=\"sk-toggleable__label sk-toggleable__label-arrow\">KernelRidge</label><div class=\"sk-toggleable__content\"><pre>KernelRidge()</pre></div></div></div></div></div></div></div></div></div></div>"
      ],
      "text/plain": [
       "GridSearchCV(cv=KFold(n_splits=3, random_state=None, shuffle=False),\n",
       "             estimator=KernelRidge(), n_jobs=-1,\n",
       "             param_grid={'alpha': [10, 100, 200, 500], 'degree': [2, 3],\n",
       "                         'kernel': ['polynomial', 'linear']},\n",
       "             scoring='neg_mean_squared_error', verbose=3)"
      ]
     },
     "execution_count": 43,
     "metadata": {},
     "output_type": "execute_result"
    }
   ],
   "source": [
    "grid.fit(x_train_moving, y_train_moving)"
   ]
  },
  {
   "cell_type": "code",
   "execution_count": 44,
   "id": "743f93bb-ad72-4740-82de-88807fe73a64",
   "metadata": {
    "tags": []
   },
   "outputs": [
    {
     "name": "stdout",
     "output_type": "stream",
     "text": [
      "{'alpha': 100, 'degree': 2, 'kernel': 'polynomial'}\n",
      "KernelRidge(alpha=100, degree=2, kernel='polynomial')\n"
     ]
    }
   ],
   "source": [
    "#print('MSE =', -grid.best_score_)\n",
    "print(grid.best_params_)\n",
    "print(grid.best_estimator_)"
   ]
  },
  {
   "cell_type": "code",
   "execution_count": 45,
   "id": "f89f212f-ac3d-4ed6-8483-4cb74878ab8f",
   "metadata": {
    "tags": []
   },
   "outputs": [],
   "source": [
    "krr = grid.best_estimator_"
   ]
  },
  {
   "cell_type": "code",
   "execution_count": 46,
   "id": "c973d021-e756-4a75-9846-9bd9dc066660",
   "metadata": {
    "tags": []
   },
   "outputs": [],
   "source": [
    "krr.fit(x_train_moving, y_train_moving) #обучаем на всем датасете\n",
    "lr_best_pred_moving = pd.Series(krr.predict(x_val_moving))"
   ]
  },
  {
   "cell_type": "code",
   "execution_count": 47,
   "id": "8dad9f65-1241-42b9-9d82-319d0a91ca74",
   "metadata": {},
   "outputs": [],
   "source": [
    "#krr = KernelRidge(alpha=500, kernel='polynomial', degree=3)\n",
    "#krr.fit(x_train_moving, y_train_moving)\n",
    "#lr_best_pred_moving = pd.Series(krr.predict(x_val_moving))"
   ]
  },
  {
   "cell_type": "code",
   "execution_count": 48,
   "id": "4ecaa681-fb4a-4b14-aece-3539c051d925",
   "metadata": {
    "tags": []
   },
   "outputs": [
    {
     "name": "stdout",
     "output_type": "stream",
     "text": [
      "MAPE = 7.54\n",
      "r2 = 0.261\n",
      "MAE = 0.634\n",
      "MSE = 0.640\n",
      "RMSE =  0.800\n"
     ]
    }
   ],
   "source": [
    "scores(y_val_moving, lr_best_pred_moving)"
   ]
  },
  {
   "cell_type": "code",
   "execution_count": 49,
   "id": "09946048-d2d7-48a9-bd02-ef214da58081",
   "metadata": {
    "tags": []
   },
   "outputs": [
    {
     "data": {
      "image/png": "[encoded data removed]",
      "text/plain": [
       "<Figure size 500x250 with 1 Axes>"
      ]
     },
     "metadata": {},
     "output_type": "display_data"
    }
   ],
   "source": [
    "plt.figure(figsize=(5,2.5))\n",
    "plt.plot(lr_best_pred_moving.rolling(\n",
    "        window=48,       # 1-day window\n",
    "        center=True,     # puts the average at the center of the window\n",
    "        min_periods=6  # choose about half the window size\n",
    "        ).mean(), label='pred')\n",
    "plt.plot(pd.Series(y_val_moving.values).rolling(\n",
    "        window=48,       # 1-day window\n",
    "        center=True,     # puts the average at the center of the window\n",
    "        min_periods=6  # choose about half the window size\n",
    "        ).mean(), label='test')\n",
    "plt.legend(loc='best')\n",
    "plt.title(f'Kernel regression trend & y_val\\n Mean absolute percentage error: {mape(y_val_moving, lr_best_pred_moving):.2%}')\n",
    "plt.grid(True)"
   ]
  },
  {
   "cell_type": "code",
   "execution_count": 50,
   "id": "6442334f-4cb7-460c-949b-b6ab492a061b",
   "metadata": {
    "tags": []
   },
   "outputs": [
    {
     "data": {
      "image/png": "[encoded data removed]",
      "text/plain": [
       "<Figure size 500x250 with 1 Axes>"
      ]
     },
     "metadata": {},
     "output_type": "display_data"
    }
   ],
   "source": [
    "plt.figure(figsize=(5,2.5))\n",
    "plt.plot(lr_best_pred_moving, label='pred')\n",
    "plt.plot(y_val_moving.values, label='test')\n",
    "plt.legend(loc='best')\n",
    "plt.title(f'Kernel regression trend & y_val\\n Mean absolute percentage error: {mape(y_val_moving, lr_best_pred_moving):.2%}')\n",
    "plt.grid(True)"
   ]
  },
  {
   "cell_type": "markdown",
   "id": "6857d5dd-46de-430f-ac4c-13d49d0ea96d",
   "metadata": {},
   "source": [
    "#### Выбор модели для прогнозирования фичи `moving_average`"
   ]
  },
  {
   "cell_type": "code",
   "execution_count": 51,
   "id": "afe916ca-7ff8-44dd-b5c9-ceab1b935686",
   "metadata": {
    "tags": []
   },
   "outputs": [
    {
     "name": "stdout",
     "output_type": "stream",
     "text": [
      "11/11 [==============================] - 0s 634us/step\n",
      "MAPE = 5.36\n",
      "r2 = 0.660\n",
      "MAE = 0.439\n",
      "MSE = 0.295\n",
      "RMSE =  0.543\n"
     ]
    }
   ],
   "source": [
    "scores(y_val_moving, rnn.predict(x_val_moving)) #LSTM val"
   ]
  },
  {
   "cell_type": "code",
   "execution_count": 52,
   "id": "64e0588c-485f-437a-9665-591710b1b8a3",
   "metadata": {
    "tags": []
   },
   "outputs": [
    {
     "name": "stdout",
     "output_type": "stream",
     "text": [
      "MAPE = 7.54\n",
      "r2 = 0.261\n",
      "MAE = 0.634\n",
      "MSE = 0.640\n",
      "RMSE =  0.800\n"
     ]
    }
   ],
   "source": [
    "scores(y_val_moving, krr.predict(x_val_moving)) #Kernel val"
   ]
  },
  {
   "cell_type": "code",
   "execution_count": 53,
   "id": "abd9b864-af1f-4f58-a390-14a6c5c51e34",
   "metadata": {
    "tags": []
   },
   "outputs": [],
   "source": [
    "def best_moving(krr, rnn):\n",
    "    if r2(y_val_moving, rnn.predict(x_val_moving)) > r2(y_val_moving, krr.predict(x_val_moving)):\n",
    "        return pd.Series(rnn.predict(x_test_moving).ravel())\n",
    "    return pd.Series(krr.predict(x_test_moving))"
   ]
  },
  {
   "cell_type": "markdown",
   "id": "e0569e5f-0b5d-40f9-8b80-a15716a35d06",
   "metadata": {},
   "source": [
    "Добавляем `'moving_average'` в тест:"
   ]
  },
  {
   "cell_type": "code",
   "execution_count": 54,
   "id": "5e1a6aa8-42e1-4879-ad07-ad0de31fb9e9",
   "metadata": {},
   "outputs": [
    {
     "name": "stdout",
     "output_type": "stream",
     "text": [
      "11/11 [==============================] - 0s 1ms/step\n",
      "11/11 [==============================] - 0s 2ms/step\n"
     ]
    }
   ],
   "source": [
    "x_test['moving_average'] = best_moving(krr, rnn).rolling(\n",
    "    window=48, \n",
    "    center=True, \n",
    "    min_periods=6\n",
    ").mean().copy()"
   ]
  },
  {
   "cell_type": "markdown",
   "id": "4a2d51b4-e970-4bb0-94ea-f85e43c2cab7",
   "metadata": {},
   "source": [
    "### Окончательное прогнозирование потребляемой мощности"
   ]
  },
  {
   "cell_type": "code",
   "execution_count": 55,
   "id": "4c85f887-7832-4c54-89c8-67e2e2a0a015",
   "metadata": {},
   "outputs": [],
   "source": [
    "features = ['hours', 'days', 'weekend', 'T', 'lag_week', 'moving_average', 'T_diff']"
   ]
  },
  {
   "cell_type": "code",
   "execution_count": 56,
   "id": "edc05234-140b-42eb-a52a-117b430583a4",
   "metadata": {},
   "outputs": [],
   "source": [
    "set_seed(1)\n",
    "rnn2 = Sequential()\n",
    "rnn2.add(InputLayer(input_shape=[None,1]))\n",
    "\n",
    "#rnn2.add(BatchNormalization())\n",
    "rnn2.add(LSTM(units=36, activation='leaky_relu'))\n",
    "#rnn2.add(Dropout(0.02))\n",
    "\n",
    "#rnn2.add(BatchNormalization())\n",
    "rnn2.add(Dense(36, activation='leaky_relu'))\n",
    "\n",
    "#rnn2.add(Dropout(0.02))\n",
    "#rnn2.add(BatchNormalization())\n",
    "rnn2.add(Dense(1))\n",
    "\n",
    "opt = keras.optimizers.legacy.Adam(learning_rate=0.005) #0.005 0.0075 0.01 – имба\n",
    "rnn2.compile(loss='mse', optimizer=opt)#, metrics=r2_keras)"
   ]
  },
  {
   "cell_type": "code",
   "execution_count": 57,
   "id": "5d03a5c9-e082-4656-97db-fa550c01374a",
   "metadata": {},
   "outputs": [],
   "source": [
    "set_seed(1)\n",
    "rnn1 = Sequential()\n",
    "rnn1.add(LSTM(units=32, input_shape=[None, 1], activation='leaky_relu'))\n",
    "rnn1.add(Dense(32, activation='leaky_relu'))\n",
    "rnn1.add(Dense(1))\n",
    "\n",
    "opt = keras.optimizers.legacy.Adam(learning_rate=0.005)\n",
    "rnn1.compile(loss='mse', optimizer=opt)"
   ]
  },
  {
   "cell_type": "code",
   "execution_count": 58,
   "id": "b4edfbbe-d0cc-4164-8ee4-d0a64362321c",
   "metadata": {
    "tags": []
   },
   "outputs": [],
   "source": [
    "early_stopping_p = EarlyStopping(monitor='val_loss', patience=24, min_delta=0.0015)"
   ]
  },
  {
   "cell_type": "code",
   "execution_count": 59,
   "id": "a93973d0-8cb0-405c-83ca-39a47160451f",
   "metadata": {
    "tags": []
   },
   "outputs": [],
   "source": [
    "def fit_p(model):\n",
    "    set_seed(1)\n",
    "    for i in range(1,4):\n",
    "        model.fit(x_train[features], y_train, epochs=24, batch_size=8, validation_split=0)#, callbacks=[early_stopping_p])\n",
    "        pred = model.predict(x_test[features])\n",
    "        print('****************R2_test = ', r2(y_test, pred))\n",
    "\n",
    "    return pred"
   ]
  },
  {
   "cell_type": "code",
   "execution_count": 60,
   "id": "c37a0689-0148-4b63-82d0-e1f9543d47e4",
   "metadata": {
    "tags": []
   },
   "outputs": [
    {
     "name": "stdout",
     "output_type": "stream",
     "text": [
      "Epoch 1/24\n",
      "210/210 [==============================] - 0s 667us/step - loss: 3.3138\n",
      "Epoch 2/24\n",
      "210/210 [==============================] - 0s 655us/step - loss: 0.7633\n",
      "Epoch 3/24\n",
      "210/210 [==============================] - 0s 650us/step - loss: 0.7263\n",
      "Epoch 4/24\n",
      "210/210 [==============================] - 0s 644us/step - loss: 0.7493\n",
      "Epoch 5/24\n",
      "210/210 [==============================] - 0s 690us/step - loss: 0.6677\n",
      "Epoch 6/24\n",
      "210/210 [==============================] - 0s 659us/step - loss: 0.6580\n",
      "Epoch 7/24\n",
      "210/210 [==============================] - 0s 653us/step - loss: 0.5908\n",
      "Epoch 8/24\n",
      "210/210 [==============================] - 0s 652us/step - loss: 0.5171\n",
      "Epoch 9/24\n",
      "210/210 [==============================] - 0s 642us/step - loss: 0.4464\n",
      "Epoch 10/24\n",
      "210/210 [==============================] - 0s 649us/step - loss: 0.4063\n",
      "Epoch 11/24\n",
      "210/210 [==============================] - 0s 702us/step - loss: 0.3465\n",
      "Epoch 12/24\n",
      "210/210 [==============================] - 0s 654us/step - loss: 0.3065\n",
      "Epoch 13/24\n",
      "210/210 [==============================] - 0s 688us/step - loss: 0.2288\n",
      "Epoch 14/24\n",
      "210/210 [==============================] - 0s 669us/step - loss: 0.2114\n",
      "Epoch 15/24\n",
      "210/210 [==============================] - 0s 645us/step - loss: 0.1849\n",
      "Epoch 16/24\n",
      "210/210 [==============================] - 0s 650us/step - loss: 0.1784\n",
      "Epoch 17/24\n",
      "210/210 [==============================] - 0s 644us/step - loss: 0.1615\n",
      "Epoch 18/24\n",
      "210/210 [==============================] - 0s 648us/step - loss: 0.1526\n",
      "Epoch 19/24\n",
      "210/210 [==============================] - 0s 644us/step - loss: 0.1762\n",
      "Epoch 20/24\n",
      "210/210 [==============================] - 0s 646us/step - loss: 0.2032\n",
      "Epoch 21/24\n",
      "210/210 [==============================] - 0s 659us/step - loss: 0.2015\n",
      "Epoch 22/24\n",
      "210/210 [==============================] - 0s 644us/step - loss: 0.1659\n",
      "Epoch 23/24\n",
      "210/210 [==============================] - 0s 643us/step - loss: 0.1758\n",
      "Epoch 24/24\n",
      "210/210 [==============================] - 0s 644us/step - loss: 0.1511\n",
      "11/11 [==============================] - 0s 587us/step\n",
      "****************R2_test =  0.6720944019218604\n",
      "Epoch 1/24\n",
      "210/210 [==============================] - 0s 664us/step - loss: 0.1471\n",
      "Epoch 2/24\n",
      "210/210 [==============================] - 0s 652us/step - loss: 0.1824\n",
      "Epoch 3/24\n",
      "210/210 [==============================] - 0s 651us/step - loss: 0.1591\n",
      "Epoch 4/24\n",
      "210/210 [==============================] - 0s 652us/step - loss: 0.1545\n",
      "Epoch 5/24\n",
      "210/210 [==============================] - 0s 666us/step - loss: 0.1508\n",
      "Epoch 6/24\n",
      "210/210 [==============================] - 0s 652us/step - loss: 0.1743\n",
      "Epoch 7/24\n",
      "210/210 [==============================] - 0s 651us/step - loss: 0.1758\n",
      "Epoch 8/24\n",
      "210/210 [==============================] - 0s 648us/step - loss: 0.1300\n",
      "Epoch 9/24\n",
      "210/210 [==============================] - 0s 656us/step - loss: 0.1482\n",
      "Epoch 10/24\n",
      "210/210 [==============================] - 0s 658us/step - loss: 0.1440\n",
      "Epoch 11/24\n",
      "210/210 [==============================] - 0s 657us/step - loss: 0.1397\n",
      "Epoch 12/24\n",
      "210/210 [==============================] - 0s 661us/step - loss: 0.1452\n",
      "Epoch 13/24\n",
      "210/210 [==============================] - 0s 655us/step - loss: 0.1538\n",
      "Epoch 14/24\n",
      "210/210 [==============================] - 0s 659us/step - loss: 0.1281\n",
      "Epoch 15/24\n",
      "210/210 [==============================] - 0s 669us/step - loss: 0.1224\n",
      "Epoch 16/24\n",
      "210/210 [==============================] - 0s 664us/step - loss: 0.1167\n",
      "Epoch 17/24\n",
      "210/210 [==============================] - 0s 658us/step - loss: 0.1112\n",
      "Epoch 18/24\n",
      "210/210 [==============================] - 0s 673us/step - loss: 0.1290\n",
      "Epoch 19/24\n",
      "210/210 [==============================] - 0s 669us/step - loss: 0.1298\n",
      "Epoch 20/24\n",
      "210/210 [==============================] - 0s 658us/step - loss: 0.1410\n",
      "Epoch 21/24\n",
      "210/210 [==============================] - 0s 652us/step - loss: 0.1721\n",
      "Epoch 22/24\n",
      "210/210 [==============================] - 0s 657us/step - loss: 0.1300\n",
      "Epoch 23/24\n",
      "210/210 [==============================] - 0s 658us/step - loss: 0.1402\n",
      "Epoch 24/24\n",
      "210/210 [==============================] - 0s 654us/step - loss: 0.1168\n",
      "11/11 [==============================] - 0s 504us/step\n",
      "****************R2_test =  0.7174334464352532\n",
      "Epoch 1/24\n",
      "210/210 [==============================] - 0s 664us/step - loss: 0.1170\n",
      "Epoch 2/24\n",
      "210/210 [==============================] - 0s 655us/step - loss: 0.1475\n",
      "Epoch 3/24\n",
      "210/210 [==============================] - 0s 651us/step - loss: 0.1430\n",
      "Epoch 4/24\n",
      "210/210 [==============================] - 0s 646us/step - loss: 0.1365\n",
      "Epoch 5/24\n",
      "210/210 [==============================] - 0s 654us/step - loss: 0.1238\n",
      "Epoch 6/24\n",
      "210/210 [==============================] - 0s 654us/step - loss: 0.1478\n",
      "Epoch 7/24\n",
      "210/210 [==============================] - 0s 658us/step - loss: 0.1269\n",
      "Epoch 8/24\n",
      "210/210 [==============================] - 0s 658us/step - loss: 0.1051\n",
      "Epoch 9/24\n",
      "210/210 [==============================] - 0s 660us/step - loss: 0.1256\n",
      "Epoch 10/24\n",
      "210/210 [==============================] - 0s 662us/step - loss: 0.1310\n",
      "Epoch 11/24\n",
      "210/210 [==============================] - 0s 668us/step - loss: 0.1407\n",
      "Epoch 12/24\n",
      "210/210 [==============================] - 0s 665us/step - loss: 0.1403\n",
      "Epoch 13/24\n",
      "210/210 [==============================] - 0s 683us/step - loss: 0.1254\n",
      "Epoch 14/24\n",
      "210/210 [==============================] - 0s 669us/step - loss: 0.1037\n",
      "Epoch 15/24\n",
      "210/210 [==============================] - 0s 667us/step - loss: 0.1173\n",
      "Epoch 16/24\n",
      "210/210 [==============================] - 0s 668us/step - loss: 0.1032\n",
      "Epoch 17/24\n",
      "210/210 [==============================] - 0s 673us/step - loss: 0.0926\n",
      "Epoch 18/24\n",
      "210/210 [==============================] - 0s 664us/step - loss: 0.1045\n",
      "Epoch 19/24\n",
      "210/210 [==============================] - 0s 669us/step - loss: 0.1100\n",
      "Epoch 20/24\n",
      "210/210 [==============================] - 0s 662us/step - loss: 0.1135\n",
      "Epoch 21/24\n",
      "210/210 [==============================] - 0s 667us/step - loss: 0.1460\n",
      "Epoch 22/24\n",
      "210/210 [==============================] - 0s 657us/step - loss: 0.1067\n",
      "Epoch 23/24\n",
      "210/210 [==============================] - 0s 660us/step - loss: 0.1149\n",
      "Epoch 24/24\n",
      "210/210 [==============================] - 0s 664us/step - loss: 0.1236\n",
      "11/11 [==============================] - 0s 567us/step\n",
      "****************R2_test =  0.6881118247354192\n"
     ]
    }
   ],
   "source": [
    "best_pred = fit_p(rnn1)"
   ]
  },
  {
   "cell_type": "code",
   "execution_count": 61,
   "id": "a7d21091-b6c4-430d-af5a-45912387a96b",
   "metadata": {},
   "outputs": [
    {
     "data": {
      "image/png": "[encoded data removed]",
      "text/plain": [
       "<Figure size 600x250 with 1 Axes>"
      ]
     },
     "metadata": {},
     "output_type": "display_data"
    }
   ],
   "source": [
    "plt.figure(figsize=(6,2.5))\n",
    "plt.plot(best_pred*100, label='pred',linewidth=1) \n",
    "plt.plot(y_test*100, color='orange', label='test',linewidth=1)\n",
    "plt.legend(loc='best')\n",
    "plt.title(f'LSTM & y_test\\n Mean absolute percentage error: {mape(y_test, best_pred):.2%}')\n",
    "plt.grid(True)"
   ]
  },
  {
   "cell_type": "code",
   "execution_count": 62,
   "id": "f725488d-b503-46a8-8d07-a5b47c8fb410",
   "metadata": {},
   "outputs": [
    {
     "name": "stdout",
     "output_type": "stream",
     "text": [
      "MAPE = 5.51\n",
      "r2 = 0.688\n",
      "MAE = 49.052\n",
      "MSE = 4072.542\n",
      "RMSE =  63.816\n"
     ]
    }
   ],
   "source": [
    "scores(y_test*100, best_pred*100) #домножаем на 100, чтобы вернуть масштаб"
   ]
  },
  {
   "cell_type": "markdown",
   "id": "630b7638-16c8-4a6e-9a68-32732ae6f214",
   "metadata": {},
   "source": [
    "## Случайный лес"
   ]
  },
  {
   "cell_type": "code",
   "execution_count": 63,
   "id": "0919186b-44ea-4bfe-aa9c-952fd2a2e0e1",
   "metadata": {},
   "outputs": [],
   "source": [
    "from sklearn.ensemble import RandomForestRegressor\n",
    "set_seed(1)\n",
    "rf = RandomForestRegressor(n_estimators=100, max_depth=12)\n",
    "rf.fit(x_train[features], y_train)\n",
    "rf_pred = rf.predict(x_test[features])"
   ]
  },
  {
   "cell_type": "code",
   "execution_count": 64,
   "id": "0bb52043-584d-46c4-940f-4e3c7a871e01",
   "metadata": {},
   "outputs": [
    {
     "data": {
      "image/png": "[encoded data removed]",
      "text/plain": [
       "<Figure size 600x250 with 1 Axes>"
      ]
     },
     "metadata": {},
     "output_type": "display_data"
    }
   ],
   "source": [
    "plt.figure(figsize=(6,2.5))\n",
    "plt.plot(rf_pred*100, label='pred')\n",
    "plt.plot(y_test.values*100, color='orange', label='y_test')\n",
    "plt.legend(loc='best')\n",
    "plt.title(f'Random Forest & y_test\\n Mean absolute percentage error: {mape(y_test, rf_pred):.2%}')\n",
    "plt.grid(True)"
   ]
  },
  {
   "cell_type": "code",
   "execution_count": 65,
   "id": "195cb6ff-dbc1-4036-9430-9077766157bb",
   "metadata": {},
   "outputs": [
    {
     "name": "stdout",
     "output_type": "stream",
     "text": [
      "MAPE = 6.37\n",
      "r2 = 0.560\n",
      "MAE = 57.446\n",
      "MSE = 5743.641\n",
      "RMSE =  75.787\n"
     ]
    }
   ],
   "source": [
    "scores(y_test*100, rf_pred*100)"
   ]
  },
  {
   "cell_type": "markdown",
   "id": "cae008a6-a51b-4adb-89ec-b98ff7aabc25",
   "metadata": {},
   "source": [
    "## Градиентный бустинг"
   ]
  },
  {
   "cell_type": "code",
   "execution_count": 66,
   "id": "f055bcba-f05f-4154-9542-eb03b3e0af20",
   "metadata": {
    "tags": []
   },
   "outputs": [],
   "source": [
    "from catboost import CatBoostRegressor\n",
    "set_seed(1)\n",
    "#features = ['hours', 'days', 'weekend', 'T', 'lag_week', 'moving_average', 'T_diff']    \n",
    "\n",
    "cat = CatBoostRegressor(iterations=100, learning_rate=0.071, loss_function='RMSE')\n",
    "cat.fit(x_train[features], y_train, cat_features=['days', 'weekend'], verbose=False, plot=False)\n",
    "cat_pred = cat.predict(x_test[features])"
   ]
  },
  {
   "cell_type": "code",
   "execution_count": 67,
   "id": "65dc971b-2f21-4a90-90eb-97eb58b23619",
   "metadata": {
    "tags": []
   },
   "outputs": [
    {
     "data": {
      "image/png": "[encoded data removed]",
      "text/plain": [
       "<Figure size 600x250 with 1 Axes>"
      ]
     },
     "metadata": {},
     "output_type": "display_data"
    }
   ],
   "source": [
    "plt.figure(figsize=(6,2.5))\n",
    "plt.plot(cat_pred*100, label='pred')\n",
    "plt.plot(y_test.values*100, color='orange', label='y_test')\n",
    "plt.legend(loc='best')\n",
    "plt.title(f'CatBoost & y_test\\n Mean absolute percentage error: {mape(y_test, cat_pred):.2%}')\n",
    "plt.grid(True)"
   ]
  },
  {
   "cell_type": "code",
   "execution_count": 68,
   "id": "a8efc368-d7c4-4752-8ee1-71bb50a31791",
   "metadata": {
    "tags": []
   },
   "outputs": [
    {
     "name": "stdout",
     "output_type": "stream",
     "text": [
      "MAPE = 6.01\n",
      "r2 = 0.596\n",
      "MAE = 54.478\n",
      "MSE = 5275.311\n",
      "RMSE =  72.631\n"
     ]
    }
   ],
   "source": [
    "scores(y_test*100, cat_pred*100)"
   ]
  },
  {
   "cell_type": "markdown",
   "id": "1ac05698-a60e-416f-bbed-f90e3711d7e6",
   "metadata": {},
   "source": [
    "Здесь лучший результат показала LSTM но, как правило, именно градиентный бустинг дает наименьшую ошибку: вне зависимости от выбора между kernel и LSTM при прогнозировании `moving_average`.\n",
    "\n",
    "Также удобно судить об адекватности прогноза нейронной сети по виду кривой: нижний пик никогда не будет равен или выше верхнего, к тому же, всегда можно сравнить с видом вчерашней кривой или видом прогнозов бустинга/случайного леса. Если они плохо совпадают, имеет смысл обучить нейронную сеть заново."
   ]
  },
  {
   "cell_type": "code",
   "execution_count": null,
   "id": "a849a8c0-4f38-4c5f-bb0b-417c838b9000",
   "metadata": {},
   "outputs": [],
   "source": []
  },
  {
   "cell_type": "code",
   "execution_count": null,
   "id": "01f6a616-a26b-4797-80d8-596bc9148e7d",
   "metadata": {},
   "outputs": [],
   "source": []
  }
 ],
 "metadata": {
  "kernelspec": {
   "display_name": "Python 3 (ipykernel)",
   "language": "python",
   "name": "python3"
  },
  "language_info": {
   "codemirror_mode": {
    "name": "ipython",
    "version": 3
   },
   "file_extension": ".py",
   "mimetype": "text/x-python",
   "name": "python",
   "nbconvert_exporter": "python",
   "pygments_lexer": "ipython3",
   "version": "3.8.15"
  }
 },
 "nbformat": 4,
 "nbformat_minor": 5
}
